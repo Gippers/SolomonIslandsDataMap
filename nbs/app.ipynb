{
 "cells": [
  {
   "cell_type": "markdown",
   "metadata": {},
   "source": [
    "# Generate Map\n",
    "\n",
    "> Class that generates the data map"
   ]
  },
  {
   "cell_type": "code",
   "execution_count": null,
   "metadata": {},
   "outputs": [],
   "source": [
    "#| default_exp app"
   ]
  },
  {
   "cell_type": "code",
   "execution_count": null,
   "metadata": {},
   "outputs": [],
   "source": [
    "#| export\n",
    "from nbdev.showdoc import *\n",
    "# TODO work out how to get around below hack\n",
    "try:\n",
    "    from SolomonIslandsDataMap.load_data import *\n",
    "except: \n",
    "    from load_data import *\n",
    "import plotly.express as px\n",
    "import plotly.graph_objects as go\n",
    "import plotly.io as pio # Unless this is used graphs will not be dynamic?\n",
    "import json\n",
    "import pandas as pd\n",
    "import numpy as np\n",
    "from fastcore.test import *\n",
    "from dash import Dash, dcc, Output, Input, html  # pip install dash\n",
    "import dash_bootstrap_components as dbc    # pip install dash-bootstrap-components\n",
    "import random"
   ]
  },
  {
   "cell_type": "markdown",
   "metadata": {},
   "source": [
    "## Load Data"
   ]
  },
  {
   "cell_type": "code",
   "execution_count": null,
   "metadata": {},
   "outputs": [],
   "source": [
    "#| export\n",
    "sol_geo = SolomonGeo.read_test()\n",
    "geo_df = sol_geo.geo_df"
   ]
  },
  {
   "cell_type": "markdown",
   "metadata": {},
   "source": [
    "## Setup Dash Components"
   ]
  },
  {
   "cell_type": "code",
   "execution_count": null,
   "metadata": {},
   "outputs": [],
   "source": [
    "#| export\n",
    "# Build your components\n",
    "# FYI the best themes seem to be: [Darkly, Flatly, Minty, Slate]\n",
    "app = Dash(__name__, external_stylesheets=[dbc.themes.MINTY])\n",
    "server = app.server\n",
    "\n",
    "\n",
    "mytitle = dcc.Markdown(children='')\n",
    "mygraph = dcc.Graph(figure={})\n",
    "aggs = geo_df.loc[:, 'agg'].unique()\n",
    "dropdown = dcc.Dropdown(options=aggs,\n",
    "                        value=aggs[0],  # initial value displayed when page first loads\n",
    "                        clearable=False)"
   ]
  },
  {
   "cell_type": "markdown",
   "metadata": {},
   "source": [
    "## Create a sidebar\n",
    "The sidebar will "
   ]
  },
  {
   "cell_type": "code",
   "execution_count": null,
   "metadata": {},
   "outputs": [],
   "source": [
    "#| export\n",
    "# Note, for now I am not using a sidebar style as I do not want to fix the width\n",
    "SIDEBAR_STYLE = {\n",
    "    \"position\": \"fixed\",\n",
    "    \"top\": 0,\n",
    "    \"left\": 0,\n",
    "    \"bottom\": 0,\n",
    "    \"width\": \"24rem\",\n",
    "    \"padding\": \"2rem 1rem\",\n",
    "    #\"background-color\": \"#f8f9fa\",\n",
    "}\n",
    "\n",
    "\n",
    "sidebar = html.Div(\n",
    "    [\n",
    "        html.H2(\"Filters\"),\n",
    "        html.Hr(),\n",
    "        dbc.Nav(\n",
    "            [\n",
    "                html.P(\"Data Aggregation\"),\n",
    "                dropdown,\n",
    "                html.Br(),\n",
    "                #dcc.Dropdown(id = 'two'),\n",
    "                #html.Br(),\n",
    "                #dcc.Dropdown(id = 'three')\n",
    "\n",
    "            ],\n",
    "            vertical=True,\n",
    "            pills=True,\n",
    "        ),\n",
    "    ],\n",
    "    #style=SIDEBAR_STYLE,\n",
    ")\n",
    "\n"
   ]
  },
  {
   "cell_type": "markdown",
   "metadata": {},
   "source": [
    "## Customize the Layout"
   ]
  },
  {
   "cell_type": "code",
   "execution_count": null,
   "metadata": {},
   "outputs": [],
   "source": [
    "\n",
    "app.layout = dbc.Container([\n",
    "                dbc.Row([\n",
    "                    dbc.Col(),\n",
    "\n",
    "                    dbc.Col([mytitle],width = 9, style = {'margin-left':'7px','margin-top':'7px'})\n",
    "                    ]),\n",
    "                dbc.Row(\n",
    "                    [dbc.Col(sidebar, width = 3),\n",
    "                    dbc.Col([mygraph], width = 9)#, style = {'margin-left':'15px', 'margin-top':'7px', 'margin-right':'15px'})\n",
    "                     ], justify = 'center'),                    \n",
    "                ], fluid = True)"
   ]
  },
  {
   "cell_type": "markdown",
   "metadata": {},
   "source": [
    "## Build callbacks to create interaction"
   ]
  },
  {
   "cell_type": "code",
   "execution_count": null,
   "metadata": {},
   "outputs": [],
   "source": [
    "#| export\n",
    "# Callback allows components to interact\n",
    "@app.callback(\n",
    "    Output(mygraph, 'figure'),\n",
    "    Output(mytitle, 'children'),\n",
    "    Input(dropdown, 'value')\n",
    ")\n",
    "def update_graph(user_input):  # function arguments come from the component property of the Input\n",
    "    fig = go.Figure(go.Choroplethmapbox(\n",
    "                            geojson=sol_geo.get_geojson(agg_filter = user_input),\n",
    "                           locations=sol_geo.get_df(agg_filter = user_input).index,\n",
    "                           z = sol_geo.get_df(agg_filter = user_input)['total_pop'],\n",
    "                           colorscale=\"deep\",\n",
    "                            marker_line_width = 0,\n",
    "                            zauto=True))\n",
    "\n",
    "    fig.update_layout(mapbox_style = 'carto-positron',\n",
    "                        mapbox_zoom = 5,\n",
    "                        mapbox_center={\"lat\": -9.565766, \"lon\": 162.012453},\n",
    "    )\n",
    "    fig.update_layout(margin={\"r\":0,\"t\":0,\"l\":0,\"b\":0})\n",
    "    \n",
    "    # returned objects are assigned to the component property of the Output\n",
    "    return fig, '# Solomon Islands Data map - ' + user_input\n"
   ]
  },
  {
   "cell_type": "markdown",
   "metadata": {},
   "source": [
    "## Run the dash app"
   ]
  },
  {
   "cell_type": "code",
   "execution_count": null,
   "metadata": {},
   "outputs": [
    {
     "data": {
      "text/html": [
       "\n",
       "        <iframe\n",
       "            width=\"100%\"\n",
       "            height=\"650\"\n",
       "            src=\"http://127.0.0.1:8050/\"\n",
       "            frameborder=\"0\"\n",
       "            allowfullscreen\n",
       "            \n",
       "        ></iframe>\n",
       "        "
      ],
      "text/plain": [
       "<IPython.lib.display.IFrame>"
      ]
     },
     "metadata": {},
     "output_type": "display_data"
    }
   ],
   "source": [
    "#| export\n",
    "#| server\n",
    "# Run app\n",
    "if __name__=='__main__':\n",
    "    app.run_server(debug=True)"
   ]
  },
  {
   "cell_type": "code",
   "execution_count": null,
   "metadata": {},
   "outputs": [],
   "source": [
    "#| hide\n",
    "import nbdev; nbdev.nbdev_export()"
   ]
  },
  {
   "cell_type": "code",
   "execution_count": null,
   "metadata": {},
   "outputs": [],
   "source": []
  },
  {
   "cell_type": "code",
   "execution_count": null,
   "metadata": {},
   "outputs": [],
   "source": []
  }
 ],
 "metadata": {
  "kernelspec": {
   "display_name": "python3",
   "language": "python",
   "name": "python3"
  }
 },
 "nbformat": 4,
 "nbformat_minor": 4
}
