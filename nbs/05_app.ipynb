{
 "cells": [
  {
   "cell_type": "markdown",
   "metadata": {},
   "source": [
    "# Generate Map\n",
    "\n",
    "> Class that generates the data map"
   ]
  },
  {
   "cell_type": "code",
   "execution_count": null,
   "metadata": {},
   "outputs": [],
   "source": [
    "#| default_exp app"
   ]
  },
  {
   "cell_type": "code",
   "execution_count": null,
   "metadata": {},
   "outputs": [],
   "source": [
    "#| export\n",
    "from nbdev.showdoc import *\n",
    "try:\n",
    "    from SolomonIslandsDataMap.app_data import stored_data\n",
    "except: \n",
    "    from app_data import sidebar, stored_data\n",
    "\n",
    "import plotly.express as px\n",
    "import plotly.graph_objects as go\n",
    "import plotly.io as pio # Unless this is used graphs will not be dynamic?\n",
    "import numpy as np\n",
    "from fastcore.test import *\n",
    "from dash import page_container, Dash, dcc, Output, Input, State, html, Patch, page_registry, ctx  # pip install dash\n",
    "import dash_bootstrap_components as dbc    # pip install dash-bootstrap-components\n",
    "from dash_bootstrap_templates import load_figure_template\n",
    "from git import Repo\n"
   ]
  },
  {
   "cell_type": "markdown",
   "metadata": {},
   "source": [
    "## Setup App and Server"
   ]
  },
  {
   "cell_type": "markdown",
   "metadata": {},
   "source": [
    "Setup the app and global variables"
   ]
  },
  {
   "cell_type": "code",
   "execution_count": null,
   "metadata": {},
   "outputs": [],
   "source": [
    "#| export\n",
    "\n",
    "# Find the absoulte path to the pages folder\n",
    "repo = Repo('.', search_parent_directories=True)\n",
    "fp = str(repo.working_tree_dir) + \"/SolomonIslandsDataMap/pages/\"\n",
    "\n",
    "try:\n",
    "    app = Dash(__name__, external_stylesheets=[dbc.themes.MINTY], use_pages=True, pages_folder = fp)\n",
    "except:\n",
    "    # When running in a notebook, the below trick should get the notebook to still execute\n",
    "    import __main__ as main\n",
    "    main.__file__ = \"main_file\"\n",
    "    app = Dash(__name__, external_stylesheets=[dbc.themes.MINTY], use_pages=True, pages_folder = fp)\n",
    "server = app.server\n",
    "load_figure_template(\"minty\")"
   ]
  },
  {
   "cell_type": "code",
   "execution_count": null,
   "metadata": {},
   "outputs": [
    {
     "name": "stdout",
     "output_type": "stream",
     "text": [
      "/home/tom/git/SolomonIslandsDataMap/SolomonIslandsDataMap/pages/\n"
     ]
    }
   ],
   "source": [
    "print(fp)"
   ]
  },
  {
   "cell_type": "markdown",
   "metadata": {},
   "source": [
    "Create a navbar"
   ]
  },
  {
   "cell_type": "code",
   "execution_count": null,
   "metadata": {},
   "outputs": [],
   "source": [
    "#| export\n",
    "pages = {}\n",
    "for page in page_registry.values():\n",
    "    pages[page[\"title\"]] = page[\"relative_path\"]\n",
    "    \n",
    "navbar = dbc.NavbarSimple(\n",
    "    children=[\n",
    "        # TODO make this a dbc tab with calbback to make it active\n",
    "        dbc.NavItem(dbc.NavLink('Data Map', href=pages['Data Map'], active=True)),\n",
    "        dbc.NavItem(dbc.NavLink('Data Table', href=pages['Data Table'])),\n",
    "        dbc.DropdownMenu(\n",
    "            children=[\n",
    "                #dbc.DropdownMenuItem(\"More pages coming soon\", header=True),\n",
    "                \n",
    "                dbc.DropdownMenuItem('Data Map', href=pages['Data Map']),\n",
    "                dbc.DropdownMenuItem('Data Table', href=pages['Data Table']),\n",
    "            ],\n",
    "            nav=True,\n",
    "            in_navbar=True,\n",
    "            label=\"Select Page\",\n",
    "        ),\n",
    "    ],\n",
    "    brand=\"Solomon Islands Data Explorer\",\n",
    "    brand_href=\"#\",\n",
    "    color=\"primary\",\n",
    "    #dark=True,\n",
    "    class_name=\"navbar navbar-expand-lg bg-primary\"\n",
    ")\n"
   ]
  },
  {
   "cell_type": "markdown",
   "metadata": {},
   "source": [
    "Import the sidebar"
   ]
  },
  {
   "cell_type": "markdown",
   "metadata": {},
   "source": [
    "## Create the Layout"
   ]
  },
  {
   "cell_type": "code",
   "execution_count": null,
   "metadata": {},
   "outputs": [],
   "source": [
    "#| export\n",
    "app.layout = dbc.Container([\n",
    "                dbc.Row([\n",
    "                    navbar\n",
    "                ]),\n",
    "                page_container, \n",
    "                stored_data, \n",
    "                dcc.Store('type-value', storage_type=\"session\", data = 'Total')                 \n",
    "                ], fluid = True)"
   ]
  },
  {
   "cell_type": "markdown",
   "metadata": {},
   "source": [
    "## Persist Dropdowns\n",
    "Callbacks maintain persistent dropdown values across tabs\n",
    "Each callback is triggered by an interval timer just after page refresh"
   ]
  },
  {
   "cell_type": "code",
   "execution_count": null,
   "metadata": {},
   "outputs": [
    {
     "ename": "NameError",
     "evalue": "name 'callback' is not defined",
     "output_type": "error",
     "traceback": [
      "\u001b[0;31m---------------------------------------------------------------------------\u001b[0m",
      "\u001b[0;31mNameError\u001b[0m                                 Traceback (most recent call last)",
      "Cell \u001b[0;32mIn[7], line 2\u001b[0m\n\u001b[1;32m      1\u001b[0m \u001b[38;5;66;03m#| export\u001b[39;00m\n\u001b[0;32m----> 2\u001b[0m \u001b[38;5;129m@callback\u001b[39m(\n\u001b[1;32m      3\u001b[0m     Output(\u001b[38;5;124m\"\u001b[39m\u001b[38;5;124msegmented_type\u001b[39m\u001b[38;5;124m\"\u001b[39m, \u001b[38;5;124m\"\u001b[39m\u001b[38;5;124mvalue\u001b[39m\u001b[38;5;124m\"\u001b[39m),\n\u001b[1;32m      4\u001b[0m     Input(\u001b[38;5;124m\"\u001b[39m\u001b[38;5;124minterval-timer\u001b[39m\u001b[38;5;124m\"\u001b[39m, \u001b[38;5;124m\"\u001b[39m\u001b[38;5;124mn_intervals\u001b[39m\u001b[38;5;124m\"\u001b[39m),\n\u001b[1;32m      5\u001b[0m     State(\u001b[38;5;124m\"\u001b[39m\u001b[38;5;124mtype-value\u001b[39m\u001b[38;5;124m\"\u001b[39m, \u001b[38;5;124m\"\u001b[39m\u001b[38;5;124mdata\u001b[39m\u001b[38;5;124m\"\u001b[39m),\n\u001b[1;32m      6\u001b[0m     prevent_initial_call\u001b[38;5;241m=\u001b[39m\u001b[38;5;28;01mTrue\u001b[39;00m,\n\u001b[1;32m      7\u001b[0m     allow_duplicate\u001b[38;5;241m=\u001b[39m\u001b[38;5;28;01mTrue\u001b[39;00m,\n\u001b[1;32m      8\u001b[0m )\n\u001b[1;32m      9\u001b[0m \u001b[38;5;28;01mdef\u001b[39;00m \u001b[38;5;21mload_dd_values\u001b[39m(unused: \u001b[38;5;28;01mNone\u001b[39;00m, \u001b[38;5;66;03m# unised input paramater \u001b[39;00m\n\u001b[1;32m     10\u001b[0m                          data_type:\u001b[38;5;28mstr\u001b[39m, \u001b[38;5;66;03m# Value to change data type dropdown to\u001b[39;00m\n\u001b[1;32m     11\u001b[0m                          ) \u001b[38;5;241m-\u001b[39m\u001b[38;5;241m>\u001b[39m \u001b[38;5;28mstr\u001b[39m:\n\u001b[1;32m     12\u001b[0m     \u001b[38;5;124;03m\"\"\"Update the data type to persistent on load\"\"\"\u001b[39;00m\n\u001b[1;32m     13\u001b[0m     \u001b[38;5;28mprint\u001b[39m(\u001b[38;5;124m\"\u001b[39m\u001b[38;5;124m****triggered load: \u001b[39m\u001b[38;5;124m\"\u001b[39m \u001b[38;5;241m+\u001b[39m data_type)\n",
      "\u001b[0;31mNameError\u001b[0m: name 'callback' is not defined"
     ]
    }
   ],
   "source": [
    "#| export\n",
    "@app.callback(\n",
    "    Output(\"segmented_type\", \"value\"),\n",
    "    Input(\"interval-timer\", \"n_intervals\"),\n",
    "    State(\"type-value\", \"data\"),\n",
    "    prevent_initial_call=True,\n",
    "    allow_duplicate=True,\n",
    ")\n",
    "def load_dd_values(unused: None, # unised input paramater \n",
    "                         data_type:str, # Value to change data type dropdown to\n",
    "                         ) -> str:\n",
    "    \"\"\"Update the data type to persistent on load\"\"\"\n",
    "    print(\"****triggered load: \" + data_type)\n",
    "    return data_type"
   ]
  },
  {
   "cell_type": "code",
   "execution_count": null,
   "metadata": {},
   "outputs": [
    {
     "data": {
      "text/markdown": [
       "---\n",
       "\n",
       "### load_dd_values\n",
       "\n",
       ">      load_dd_values (unused:None, data_type:str)\n",
       "\n",
       "Update the data type to persistent on load\n",
       "\n",
       "|    | **Type** | **Details** |\n",
       "| -- | -------- | ----------- |\n",
       "| unused | None | unised input paramater |\n",
       "| data_type | str | Value to change data type dropdown to |\n",
       "| **Returns** | **str** |  |"
      ],
      "text/plain": [
       "---\n",
       "\n",
       "### load_dd_values\n",
       "\n",
       ">      load_dd_values (unused:None, data_type:str)\n",
       "\n",
       "Update the data type to persistent on load\n",
       "\n",
       "|    | **Type** | **Details** |\n",
       "| -- | -------- | ----------- |\n",
       "| unused | None | unised input paramater |\n",
       "| data_type | str | Value to change data type dropdown to |\n",
       "| **Returns** | **str** |  |"
      ]
     },
     "metadata": {},
     "output_type": "display_data"
    }
   ],
   "source": [
    "#| hide\n",
    "show_doc(load_dd_values)"
   ]
  },
  {
   "cell_type": "code",
   "execution_count": null,
   "metadata": {},
   "outputs": [],
   "source": [
    "#| export\n",
    "@app.callback(\n",
    "    Output(\"type-value\", \"data\"),\n",
    "    Input(\"segmented_type\", \"value\"),\n",
    "    prevent_initial_call=True,\n",
    "    allow_duplicate=True,\n",
    ")\n",
    "def persist_dd_values(data_type:str, # Data type to save\n",
    "                         ) -> str:\n",
    "    \"\"\"Update the data type to persistent on load\"\"\"\n",
    "    print(\"****triggered save: \" + data_type)\n",
    "    return data_type"
   ]
  },
  {
   "cell_type": "code",
   "execution_count": null,
   "metadata": {},
   "outputs": [
    {
     "data": {
      "text/markdown": [
       "---\n",
       "\n",
       "### persist_dd_values\n",
       "\n",
       ">      persist_dd_values (data_type:str)\n",
       "\n",
       "Update the data type to persistent on load\n",
       "\n",
       "|    | **Type** | **Details** |\n",
       "| -- | -------- | ----------- |\n",
       "| data_type | str | Data type to save |\n",
       "| **Returns** | **str** |  |"
      ],
      "text/plain": [
       "---\n",
       "\n",
       "### persist_dd_values\n",
       "\n",
       ">      persist_dd_values (data_type:str)\n",
       "\n",
       "Update the data type to persistent on load\n",
       "\n",
       "|    | **Type** | **Details** |\n",
       "| -- | -------- | ----------- |\n",
       "| data_type | str | Data type to save |\n",
       "| **Returns** | **str** |  |"
      ]
     },
     "metadata": {},
     "output_type": "display_data"
    }
   ],
   "source": [
    "#| hide\n",
    "show_doc(persist_dd_values)"
   ]
  },
  {
   "cell_type": "markdown",
   "metadata": {},
   "source": [
    "## Run the dash app"
   ]
  },
  {
   "cell_type": "code",
   "execution_count": null,
   "metadata": {},
   "outputs": [
    {
     "data": {
      "text/html": [
       "\n",
       "        <iframe\n",
       "            width=\"100%\"\n",
       "            height=\"650\"\n",
       "            src=\"http://127.0.0.1:9999/\"\n",
       "            frameborder=\"0\"\n",
       "            allowfullscreen\n",
       "            \n",
       "        ></iframe>\n",
       "        "
      ],
      "text/plain": [
       "<IPython.lib.display.IFrame>"
      ]
     },
     "metadata": {},
     "output_type": "display_data"
    }
   ],
   "source": [
    "#| export\n",
    "#| server\n",
    "# Run app\n",
    "if __name__=='__main__':\n",
    "    try:\n",
    "        app.run_server(debug=True, port=9999) # Random int mitigates port collision\n",
    "    except:\n",
    "        print(\"Cannot run server here\")"
   ]
  },
  {
   "cell_type": "code",
   "execution_count": null,
   "metadata": {},
   "outputs": [
    {
     "name": "stdout",
     "output_type": "stream",
     "text": [
      "****triggered save: Total\n",
      "****triggered load: Total\n",
      "****triggered save: Total\n",
      "first run, updating map\n",
      "initial-load\n",
      "Province\n",
      "Total\n",
      "Total Households\n",
      "Province\n",
      "True\n",
      "Constituency\n",
      "False\n",
      "Ward\n",
      "False\n",
      "input\n",
      "None\n",
      "Going in to function\n",
      "None\n",
      "****triggered save: Proportion\n",
      "first run, updating map\n",
      "segmented_type\n",
      "Province\n",
      "Proportion\n",
      "Total Households\n",
      "input\n",
      "None\n",
      "Going in to function\n",
      "None\n",
      "****triggered save: Total\n",
      "What happens when auto triggered?\n",
      "None\n",
      "****triggered load: Proportion\n",
      "None\n",
      "****triggered save: Proportion\n",
      "What happens when auto triggered?\n",
      "segmented_type\n",
      "segmented_type\n",
      "****triggered save: Total\n",
      "****triggered load: Proportion\n",
      "****triggered save: Proportion\n",
      "first run, updating map\n",
      "initial-load\n",
      "Province\n",
      "Proportion\n",
      "Total Households\n",
      "Province\n",
      "True\n",
      "Constituency\n",
      "False\n",
      "Ward\n",
      "False\n",
      "input\n",
      "None\n",
      "Going in to function\n",
      "None\n"
     ]
    }
   ],
   "source": [
    "#| hide\n",
    "import nbdev; nbdev.nbdev_export()"
   ]
  }
 ],
 "metadata": {
  "kernelspec": {
   "display_name": "python3",
   "language": "python",
   "name": "python3"
  }
 },
 "nbformat": 4,
 "nbformat_minor": 4
}
