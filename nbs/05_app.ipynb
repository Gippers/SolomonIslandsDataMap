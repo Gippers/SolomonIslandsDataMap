{
 "cells": [
  {
   "cell_type": "markdown",
   "metadata": {},
   "source": [
    "# Generate Map\n",
    "\n",
    "> Class that generates the data map"
   ]
  },
  {
   "cell_type": "code",
   "execution_count": null,
   "metadata": {},
   "outputs": [],
   "source": [
    "#| default_exp app"
   ]
  },
  {
   "cell_type": "code",
   "execution_count": null,
   "metadata": {},
   "outputs": [],
   "source": [
    "#| export\n",
    "from nbdev.showdoc import *\n",
    "try:\n",
    "    from SolomonIslandsDataMap.app_data import sidebar\n",
    "except: \n",
    "    from app_data import sidebar\n",
    "\n",
    "import plotly.express as px\n",
    "import plotly.graph_objects as go\n",
    "import plotly.io as pio # Unless this is used graphs will not be dynamic?\n",
    "import numpy as np\n",
    "from fastcore.test import *\n",
    "from dash import page_container, Dash, dcc, Output, Input, State, html, Patch, ctx  # pip install dash\n",
    "import dash_bootstrap_components as dbc    # pip install dash-bootstrap-components\n",
    "from dash_bootstrap_templates import load_figure_template\n",
    "from git import Repo"
   ]
  },
  {
   "cell_type": "markdown",
   "metadata": {},
   "source": [
    "## Setup App and Server"
   ]
  },
  {
   "cell_type": "markdown",
   "metadata": {},
   "source": [
    "Setup the app and global variables"
   ]
  },
  {
   "cell_type": "code",
   "execution_count": null,
   "metadata": {},
   "outputs": [
    {
     "ename": "AttributeError",
     "evalue": "module '__main__' has no attribute '__file__'",
     "output_type": "error",
     "traceback": [
      "\u001b[0;31m---------------------------------------------------------------------------\u001b[0m",
      "\u001b[0;31mAttributeError\u001b[0m                            Traceback (most recent call last)",
      "\u001b[1;32m/home/tom/git/SolomonIslandsDataMap/nbs/05_app.ipynb Cell 6\u001b[0m line \u001b[0;36m7\n\u001b[1;32m      <a href='vscode-notebook-cell://wsl%2Bubuntu/home/tom/git/SolomonIslandsDataMap/nbs/05_app.ipynb#W5sdnNjb2RlLXJlbW90ZQ%3D%3D?line=3'>4</a>\u001b[0m repo \u001b[39m=\u001b[39m Repo(\u001b[39m'\u001b[39m\u001b[39m.\u001b[39m\u001b[39m'\u001b[39m, search_parent_directories\u001b[39m=\u001b[39m\u001b[39mTrue\u001b[39;00m)\n\u001b[1;32m      <a href='vscode-notebook-cell://wsl%2Bubuntu/home/tom/git/SolomonIslandsDataMap/nbs/05_app.ipynb#W5sdnNjb2RlLXJlbW90ZQ%3D%3D?line=4'>5</a>\u001b[0m fp \u001b[39m=\u001b[39m \u001b[39mstr\u001b[39m(repo\u001b[39m.\u001b[39mworking_tree_dir) \u001b[39m+\u001b[39m \u001b[39m\"\u001b[39m\u001b[39m/SolomonIslandsDataMap/pages/\u001b[39m\u001b[39m\"\u001b[39m\n\u001b[0;32m----> <a href='vscode-notebook-cell://wsl%2Bubuntu/home/tom/git/SolomonIslandsDataMap/nbs/05_app.ipynb#W5sdnNjb2RlLXJlbW90ZQ%3D%3D?line=6'>7</a>\u001b[0m app \u001b[39m=\u001b[39m Dash(\u001b[39m__name__\u001b[39;49m, external_stylesheets\u001b[39m=\u001b[39;49m[dbc\u001b[39m.\u001b[39;49mthemes\u001b[39m.\u001b[39;49mMINTY], use_pages\u001b[39m=\u001b[39;49m\u001b[39mTrue\u001b[39;49;00m, pages_folder \u001b[39m=\u001b[39;49m fp)\n\u001b[1;32m      <a href='vscode-notebook-cell://wsl%2Bubuntu/home/tom/git/SolomonIslandsDataMap/nbs/05_app.ipynb#W5sdnNjb2RlLXJlbW90ZQ%3D%3D?line=7'>8</a>\u001b[0m server \u001b[39m=\u001b[39m app\u001b[39m.\u001b[39mserver\n\u001b[1;32m      <a href='vscode-notebook-cell://wsl%2Bubuntu/home/tom/git/SolomonIslandsDataMap/nbs/05_app.ipynb#W5sdnNjb2RlLXJlbW90ZQ%3D%3D?line=8'>9</a>\u001b[0m load_figure_template(\u001b[39m\"\u001b[39m\u001b[39mminty\u001b[39m\u001b[39m\"\u001b[39m)\n",
      "File \u001b[0;32m~/miniforge3/lib/python3.10/site-packages/dash/dash.py:533\u001b[0m, in \u001b[0;36mDash.__init__\u001b[0;34m(self, name, server, assets_folder, pages_folder, use_pages, assets_url_path, assets_ignore, assets_external_path, eager_loading, include_assets_files, include_pages_meta, url_base_pathname, requests_pathname_prefix, routes_pathname_prefix, serve_locally, compress, meta_tags, index_string, external_scripts, external_stylesheets, suppress_callback_exceptions, prevent_initial_callbacks, show_undo_redo, extra_hot_reload_paths, plugins, title, update_title, long_callback_manager, background_callback_manager, add_log_handler, hooks, routing_callback_inputs, **obsolete)\u001b[0m\n\u001b[1;32m    530\u001b[0m \u001b[39mself\u001b[39m\u001b[39m.\u001b[39m_got_first_request \u001b[39m=\u001b[39m {\u001b[39m\"\u001b[39m\u001b[39mpages\u001b[39m\u001b[39m\"\u001b[39m: \u001b[39mFalse\u001b[39;00m, \u001b[39m\"\u001b[39m\u001b[39msetup_server\u001b[39m\u001b[39m\"\u001b[39m: \u001b[39mFalse\u001b[39;00m}\n\u001b[1;32m    532\u001b[0m \u001b[39mif\u001b[39;00m \u001b[39mself\u001b[39m\u001b[39m.\u001b[39mserver \u001b[39mis\u001b[39;00m \u001b[39mnot\u001b[39;00m \u001b[39mNone\u001b[39;00m:\n\u001b[0;32m--> 533\u001b[0m     \u001b[39mself\u001b[39;49m\u001b[39m.\u001b[39;49minit_app()\n\u001b[1;32m    535\u001b[0m \u001b[39mself\u001b[39m\u001b[39m.\u001b[39mlogger\u001b[39m.\u001b[39msetLevel(logging\u001b[39m.\u001b[39mINFO)\n\u001b[1;32m    537\u001b[0m \u001b[39mif\u001b[39;00m \u001b[39mself\u001b[39m\u001b[39m.\u001b[39m\u001b[39m__class__\u001b[39m\u001b[39m.\u001b[39m\u001b[39m__name__\u001b[39m \u001b[39m==\u001b[39m \u001b[39m\"\u001b[39m\u001b[39mJupyterDash\u001b[39m\u001b[39m\"\u001b[39m:\n",
      "File \u001b[0;32m~/miniforge3/lib/python3.10/site-packages/dash/dash.py:611\u001b[0m, in \u001b[0;36mDash.init_app\u001b[0;34m(self, app, **kwargs)\u001b[0m\n\u001b[1;32m    608\u001b[0m \u001b[39mself\u001b[39m\u001b[39m.\u001b[39m_setup_routes()\n\u001b[1;32m    610\u001b[0m _get_app\u001b[39m.\u001b[39mAPP \u001b[39m=\u001b[39m \u001b[39mself\u001b[39m\n\u001b[0;32m--> 611\u001b[0m \u001b[39mself\u001b[39;49m\u001b[39m.\u001b[39;49menable_pages()\n\u001b[1;32m    613\u001b[0m \u001b[39mself\u001b[39m\u001b[39m.\u001b[39m_setup_plotlyjs()\n",
      "File \u001b[0;32m~/miniforge3/lib/python3.10/site-packages/dash/dash.py:2082\u001b[0m, in \u001b[0;36mDash.enable_pages\u001b[0;34m(self)\u001b[0m\n\u001b[1;32m   2080\u001b[0m     \u001b[39mreturn\u001b[39;00m\n\u001b[1;32m   2081\u001b[0m \u001b[39mif\u001b[39;00m \u001b[39mself\u001b[39m\u001b[39m.\u001b[39mpages_folder:\n\u001b[0;32m-> 2082\u001b[0m     _import_layouts_from_pages(\u001b[39mself\u001b[39;49m\u001b[39m.\u001b[39;49mconfig\u001b[39m.\u001b[39;49mpages_folder)\n\u001b[1;32m   2084\u001b[0m \u001b[39m@self\u001b[39m\u001b[39m.\u001b[39mserver\u001b[39m.\u001b[39mbefore_request\n\u001b[1;32m   2085\u001b[0m \u001b[39mdef\u001b[39;00m \u001b[39mrouter\u001b[39m():\n\u001b[1;32m   2086\u001b[0m     \u001b[39mif\u001b[39;00m \u001b[39mself\u001b[39m\u001b[39m.\u001b[39m_got_first_request[\u001b[39m\"\u001b[39m\u001b[39mpages\u001b[39m\u001b[39m\"\u001b[39m]:\n",
      "File \u001b[0;32m~/miniforge3/lib/python3.10/site-packages/dash/_pages.py:432\u001b[0m, in \u001b[0;36m_import_layouts_from_pages\u001b[0;34m(pages_folder)\u001b[0m\n\u001b[1;32m    429\u001b[0m     \u001b[39mif\u001b[39;00m \u001b[39m\"\u001b[39m\u001b[39mregister_page\u001b[39m\u001b[39m\"\u001b[39m \u001b[39mnot\u001b[39;00m \u001b[39min\u001b[39;00m content:\n\u001b[1;32m    430\u001b[0m         \u001b[39mcontinue\u001b[39;00m\n\u001b[0;32m--> 432\u001b[0m module_name \u001b[39m=\u001b[39m _infer_module_name(page_path)\n\u001b[1;32m    433\u001b[0m spec \u001b[39m=\u001b[39m importlib\u001b[39m.\u001b[39mutil\u001b[39m.\u001b[39mspec_from_file_location(module_name, page_path)\n\u001b[1;32m    434\u001b[0m page_module \u001b[39m=\u001b[39m importlib\u001b[39m.\u001b[39mutil\u001b[39m.\u001b[39mmodule_from_spec(spec)\n",
      "File \u001b[0;32m~/miniforge3/lib/python3.10/site-packages/dash/_pages.py:109\u001b[0m, in \u001b[0;36m_infer_module_name\u001b[0;34m(page_path)\u001b[0m\n\u001b[1;32m    106\u001b[0m parent_module \u001b[39m=\u001b[39m _path_to_module_name(parent_path)\n\u001b[1;32m    108\u001b[0m module_name \u001b[39m=\u001b[39m \u001b[39mf\u001b[39m\u001b[39m\"\u001b[39m\u001b[39m{\u001b[39;00mparent_module\u001b[39m}\u001b[39;00m\u001b[39m.\u001b[39m\u001b[39m{\u001b[39;00mmodule\u001b[39m}\u001b[39;00m\u001b[39m\"\u001b[39m\n\u001b[0;32m--> 109\u001b[0m \u001b[39mif\u001b[39;00m _module_name_is_package(CONFIG\u001b[39m.\u001b[39;49mname):\n\u001b[1;32m    110\u001b[0m     \u001b[39m# Only prefix with CONFIG.name when it's an imported package name\u001b[39;00m\n\u001b[1;32m    111\u001b[0m     module_name \u001b[39m=\u001b[39m \u001b[39mf\u001b[39m\u001b[39m\"\u001b[39m\u001b[39m{\u001b[39;00mCONFIG\u001b[39m.\u001b[39mname\u001b[39m}\u001b[39;00m\u001b[39m.\u001b[39m\u001b[39m{\u001b[39;00mmodule_name\u001b[39m}\u001b[39;00m\u001b[39m\"\u001b[39m\n\u001b[1;32m    112\u001b[0m \u001b[39mreturn\u001b[39;00m module_name\n",
      "File \u001b[0;32m~/miniforge3/lib/python3.10/site-packages/dash/_pages.py:90\u001b[0m, in \u001b[0;36m_module_name_is_package\u001b[0;34m(module_name)\u001b[0m\n\u001b[1;32m     87\u001b[0m \u001b[39mdef\u001b[39;00m \u001b[39m_module_name_is_package\u001b[39m(module_name):\n\u001b[1;32m     88\u001b[0m     \u001b[39mreturn\u001b[39;00m (\n\u001b[1;32m     89\u001b[0m         module_name \u001b[39min\u001b[39;00m sys\u001b[39m.\u001b[39mmodules\n\u001b[0;32m---> 90\u001b[0m         \u001b[39mand\u001b[39;00m Path(sys\u001b[39m.\u001b[39;49mmodules[module_name]\u001b[39m.\u001b[39;49m\u001b[39m__file__\u001b[39;49m)\u001b[39m.\u001b[39mname \u001b[39m==\u001b[39m \u001b[39m\"\u001b[39m\u001b[39m__init__.py\u001b[39m\u001b[39m\"\u001b[39m\n\u001b[1;32m     91\u001b[0m     )\n",
      "\u001b[0;31mAttributeError\u001b[0m: module '__main__' has no attribute '__file__'"
     ]
    }
   ],
   "source": [
    "#| export\n",
    "\n",
    "# Find the absoulte path to the pages folder\n",
    "repo = Repo('.', search_parent_directories=True)\n",
    "fp = str(repo.working_tree_dir) + \"/SolomonIslandsDataMap/pages/\"\n",
    "\n",
    "app = Dash(__name__, external_stylesheets=[dbc.themes.MINTY], use_pages=True, pages_folder = fp)\n",
    "server = app.server\n",
    "load_figure_template(\"minty\")"
   ]
  },
  {
   "cell_type": "code",
   "execution_count": null,
   "metadata": {},
   "outputs": [
    {
     "name": "stdout",
     "output_type": "stream",
     "text": [
      "/home/tom/git/SolomonIslandsDataMap/SolomonIslandsDataMap/pages/\n"
     ]
    }
   ],
   "source": [
    "print(fp)"
   ]
  },
  {
   "cell_type": "markdown",
   "metadata": {},
   "source": [
    "Create a navbar"
   ]
  },
  {
   "cell_type": "code",
   "execution_count": null,
   "metadata": {},
   "outputs": [],
   "source": [
    "#| export\n",
    "navbar = dbc.NavbarSimple(\n",
    "    children=[\n",
    "        dbc.NavItem(dbc.NavLink(\"Census Data\", href=\"#\")),\n",
    "        dbc.DropdownMenu(\n",
    "            children=[\n",
    "                dbc.DropdownMenuItem(\"More pages coming soon\", header=True),\n",
    "                \n",
    "                dbc.DropdownMenuItem(\"Population Projection\", href=\"#\"),\n",
    "                # TODO populate this with the pages\n",
    "            ],\n",
    "            nav=True,\n",
    "            in_navbar=True,\n",
    "            label=\"More\",\n",
    "        ),\n",
    "    ],\n",
    "    brand=\"Solomon Islands Data Map\",\n",
    "    brand_href=\"#\",\n",
    "    color=\"primary\",\n",
    "    #dark=True,\n",
    "    class_name=\"navbar navbar-expand-lg bg-primary\"\n",
    ")\n"
   ]
  },
  {
   "cell_type": "markdown",
   "metadata": {},
   "source": [
    "Import the sidebar"
   ]
  },
  {
   "cell_type": "code",
   "execution_count": null,
   "metadata": {},
   "outputs": [],
   "source": [
    "# TODO"
   ]
  },
  {
   "cell_type": "markdown",
   "metadata": {},
   "source": [
    "## Create the Layout"
   ]
  },
  {
   "cell_type": "code",
   "execution_count": null,
   "metadata": {},
   "outputs": [],
   "source": [
    "#| export\n",
    "app.layout = dbc.Container([\n",
    "                dbc.Row([\n",
    "                    navbar\n",
    "                ]),\n",
    "                dbc.Row(\n",
    "                    [dbc.Col(sidebar, width = 2),\n",
    "                    dbc.Col(page_container, width = 10)\n",
    "                     ], justify = 'center'),                    \n",
    "                ], fluid = True)"
   ]
  },
  {
   "cell_type": "markdown",
   "metadata": {},
   "source": [
    "## Run the dash app"
   ]
  },
  {
   "cell_type": "code",
   "execution_count": null,
   "metadata": {},
   "outputs": [
    {
     "name": "stdout",
     "output_type": "stream",
     "text": [
      "\u001b[1;31m---------------------------------------------------------------------------\u001b[0m\n",
      "\u001b[1;31mException\u001b[0m                                 Traceback (most recent call last)\n",
      "File \u001b[1;32m~/miniforge3/lib/python3.10/site-packages/flask/app.py:1821\u001b[0m, in \u001b[0;36mFlask.full_dispatch_request\u001b[1;34m(self=<Flask '__main__'>)\u001b[0m\n",
      "\u001b[0;32m   1819\u001b[0m \u001b[38;5;28;01mtry\u001b[39;00m:\n",
      "\u001b[0;32m   1820\u001b[0m     request_started\u001b[38;5;241m.\u001b[39msend(\u001b[38;5;28mself\u001b[39m)\n",
      "\u001b[1;32m-> 1821\u001b[0m     rv \u001b[38;5;241m=\u001b[39m \u001b[38;5;28;43mself\u001b[39;49m\u001b[38;5;241;43m.\u001b[39;49m\u001b[43mpreprocess_request\u001b[49m\u001b[43m(\u001b[49m\u001b[43m)\u001b[49m\n",
      "        self \u001b[1;34m= <Flask '__main__'>\u001b[0m\n",
      "\u001b[0;32m   1822\u001b[0m     \u001b[38;5;28;01mif\u001b[39;00m rv \u001b[38;5;129;01mis\u001b[39;00m \u001b[38;5;28;01mNone\u001b[39;00m:\n",
      "\u001b[0;32m   1823\u001b[0m         rv \u001b[38;5;241m=\u001b[39m \u001b[38;5;28mself\u001b[39m\u001b[38;5;241m.\u001b[39mdispatch_request()\n",
      "\n",
      "File \u001b[1;32m~/miniforge3/lib/python3.10/site-packages/flask/app.py:2313\u001b[0m, in \u001b[0;36mFlask.preprocess_request\u001b[1;34m(self=<Flask '__main__'>)\u001b[0m\n",
      "\u001b[0;32m   2311\u001b[0m \u001b[38;5;28;01mif\u001b[39;00m name \u001b[38;5;129;01min\u001b[39;00m \u001b[38;5;28mself\u001b[39m\u001b[38;5;241m.\u001b[39mbefore_request_funcs:\n",
      "\u001b[0;32m   2312\u001b[0m     \u001b[38;5;28;01mfor\u001b[39;00m before_func \u001b[38;5;129;01min\u001b[39;00m \u001b[38;5;28mself\u001b[39m\u001b[38;5;241m.\u001b[39mbefore_request_funcs[name]:\n",
      "\u001b[1;32m-> 2313\u001b[0m         rv \u001b[38;5;241m=\u001b[39m \u001b[38;5;28;43mself\u001b[39;49m\u001b[38;5;241;43m.\u001b[39;49m\u001b[43mensure_sync\u001b[49m\u001b[43m(\u001b[49m\u001b[43mbefore_func\u001b[49m\u001b[43m)\u001b[49m\u001b[43m(\u001b[49m\u001b[43m)\u001b[49m\n",
      "        before_func \u001b[1;34m= <function Dash.enable_pages.<locals>.router>\u001b[0m\u001b[1;34m\n",
      "        \u001b[0mself \u001b[1;34m= <Flask '__main__'>\u001b[0m\u001b[1;34m\n",
      "        \u001b[0mrv \u001b[1;34m= None\u001b[0m\n",
      "\u001b[0;32m   2315\u001b[0m         \u001b[38;5;28;01mif\u001b[39;00m rv \u001b[38;5;129;01mis\u001b[39;00m \u001b[38;5;129;01mnot\u001b[39;00m \u001b[38;5;28;01mNone\u001b[39;00m:\n",
      "\u001b[0;32m   2316\u001b[0m             \u001b[38;5;28;01mreturn\u001b[39;00m rv\n",
      "\n",
      "File \u001b[1;32m~/miniforge3/lib/python3.10/site-packages/dash/dash.py:2156\u001b[0m, in \u001b[0;36mDash.enable_pages.<locals>.router\u001b[1;34m()\u001b[0m\n",
      "\u001b[0;32m   2143\u001b[0m     \u001b[38;5;28mself\u001b[39m\u001b[38;5;241m.\u001b[39mvalidation_layout \u001b[38;5;241m=\u001b[39m html\u001b[38;5;241m.\u001b[39mDiv(\n",
      "\u001b[0;32m   2144\u001b[0m         [\n",
      "\u001b[0;32m   2145\u001b[0m             page[\u001b[38;5;124m\"\u001b[39m\u001b[38;5;124mlayout\u001b[39m\u001b[38;5;124m\"\u001b[39m]() \u001b[38;5;28;01mif\u001b[39;00m \u001b[38;5;28mcallable\u001b[39m(page[\u001b[38;5;124m\"\u001b[39m\u001b[38;5;124mlayout\u001b[39m\u001b[38;5;124m\"\u001b[39m]) \u001b[38;5;28;01melse\u001b[39;00m page[\u001b[38;5;124m\"\u001b[39m\u001b[38;5;124mlayout\u001b[39m\u001b[38;5;124m\"\u001b[39m]\n",
      "\u001b[1;32m   (...)\u001b[0m\n",
      "\u001b[0;32m   2153\u001b[0m         ]\n",
      "\u001b[0;32m   2154\u001b[0m     )\n",
      "\u001b[0;32m   2155\u001b[0m     \u001b[38;5;28;01mif\u001b[39;00m _ID_CONTENT \u001b[38;5;129;01mnot\u001b[39;00m \u001b[38;5;129;01min\u001b[39;00m \u001b[38;5;28mself\u001b[39m\u001b[38;5;241m.\u001b[39mvalidation_layout:\n",
      "\u001b[1;32m-> 2156\u001b[0m         \u001b[38;5;28;01mraise\u001b[39;00m \u001b[38;5;167;01mException\u001b[39;00m(\u001b[38;5;124m\"\u001b[39m\u001b[38;5;124m`dash.page_container` not found in the layout\u001b[39m\u001b[38;5;124m\"\u001b[39m)\n",
      "\u001b[0;32m   2158\u001b[0m \u001b[38;5;66;03m# Update the page title on page navigation\u001b[39;00m\n",
      "\u001b[0;32m   2159\u001b[0m \u001b[38;5;28mself\u001b[39m\u001b[38;5;241m.\u001b[39mclientside_callback(\n",
      "\u001b[0;32m   2160\u001b[0m \u001b[38;5;250m    \u001b[39m\u001b[38;5;124;03m\"\"\"\u001b[39;00m\n",
      "\u001b[0;32m   2161\u001b[0m \u001b[38;5;124;03m    function(data) {{\u001b[39;00m\n",
      "\u001b[1;32m   (...)\u001b[0m\n",
      "\u001b[0;32m   2166\u001b[0m     Input(_ID_STORE, \u001b[38;5;124m\"\u001b[39m\u001b[38;5;124mdata\u001b[39m\u001b[38;5;124m\"\u001b[39m),\n",
      "\u001b[0;32m   2167\u001b[0m )\n",
      "\n",
      "\u001b[1;31mException\u001b[0m: `dash.page_container` not found in the layout\n",
      "\n"
     ]
    },
    {
     "data": {
      "text/html": [
       "\n",
       "        <iframe\n",
       "            width=\"100%\"\n",
       "            height=\"650\"\n",
       "            src=\"http://127.0.0.1:9999/\"\n",
       "            frameborder=\"0\"\n",
       "            allowfullscreen\n",
       "            \n",
       "        ></iframe>\n",
       "        "
      ],
      "text/plain": [
       "<IPython.lib.display.IFrame>"
      ]
     },
     "metadata": {},
     "output_type": "display_data"
    }
   ],
   "source": [
    "#| export\n",
    "#| server\n",
    "# Run app\n",
    "if __name__=='__main__':\n",
    "    try:\n",
    "        app.run_server(debug=True, port=9999) # Random int mitigates port collision\n",
    "    except:\n",
    "        print(\"Cannot run server here\")"
   ]
  },
  {
   "cell_type": "code",
   "execution_count": null,
   "metadata": {},
   "outputs": [],
   "source": [
    "#| hide\n",
    "import nbdev; nbdev.nbdev_export()"
   ]
  },
  {
   "cell_type": "code",
   "execution_count": null,
   "metadata": {},
   "outputs": [],
   "source": []
  }
 ],
 "metadata": {
  "kernelspec": {
   "display_name": "python3",
   "language": "python",
   "name": "python3"
  }
 },
 "nbformat": 4,
 "nbformat_minor": 4
}
