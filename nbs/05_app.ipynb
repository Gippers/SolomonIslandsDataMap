{
 "cells": [
  {
   "cell_type": "markdown",
   "metadata": {},
   "source": [
    "# Generate Map\n",
    "\n",
    "> Class that generates the data map"
   ]
  },
  {
   "cell_type": "code",
   "execution_count": null,
   "metadata": {},
   "outputs": [],
   "source": [
    "#| default_exp app"
   ]
  },
  {
   "cell_type": "code",
   "execution_count": null,
   "metadata": {},
   "outputs": [],
   "source": [
    "#| export\n",
    "from nbdev.showdoc import *\n",
    "try:\n",
    "    from SolomonIslandsDataMap.app_data import sidebar\n",
    "except: \n",
    "    from app_data import sidebar\n",
    "\n",
    "import plotly.express as px\n",
    "import plotly.graph_objects as go\n",
    "import plotly.io as pio # Unless this is used graphs will not be dynamic?\n",
    "import numpy as np\n",
    "from fastcore.test import *\n",
    "from dash import page_container, Dash, dcc, Output, Input, State, html, Patch, ctx  # pip install dash\n",
    "import dash_bootstrap_components as dbc    # pip install dash-bootstrap-components\n",
    "from dash_bootstrap_templates import load_figure_template\n",
    "from git import Repo\n"
   ]
  },
  {
   "cell_type": "markdown",
   "metadata": {},
   "source": [
    "## Setup App and Server"
   ]
  },
  {
   "cell_type": "markdown",
   "metadata": {},
   "source": [
    "Setup the app and global variables"
   ]
  },
  {
   "cell_type": "code",
   "execution_count": null,
   "metadata": {},
   "outputs": [],
   "source": [
    "#| export\n",
    "\n",
    "# Find the absoulte path to the pages folder\n",
    "repo = Repo('.', search_parent_directories=True)\n",
    "fp = str(repo.working_tree_dir) + \"/SolomonIslandsDataMap/pages/\"\n",
    "\n",
    "try:\n",
    "    app = Dash(__name__, external_stylesheets=[dbc.themes.MINTY], use_pages=True, pages_folder = fp)\n",
    "except:\n",
    "    # When running in a notebook, the below trick should get the notebook to still execute\n",
    "    import __main__ as main\n",
    "    main.__file__ = \"main_file\"\n",
    "    app = Dash(__name__, external_stylesheets=[dbc.themes.MINTY], use_pages=True, pages_folder = fp)\n",
    "server = app.server\n",
    "load_figure_template(\"minty\")"
   ]
  },
  {
   "cell_type": "code",
   "execution_count": null,
   "metadata": {},
   "outputs": [
    {
     "name": "stdout",
     "output_type": "stream",
     "text": [
      "/home/tom/git/SolomonIslandsDataMap/SolomonIslandsDataMap/pages/\n"
     ]
    }
   ],
   "source": [
    "print(fp)"
   ]
  },
  {
   "cell_type": "markdown",
   "metadata": {},
   "source": [
    "Create a navbar"
   ]
  },
  {
   "cell_type": "code",
   "execution_count": null,
   "metadata": {},
   "outputs": [],
   "source": [
    "#| export\n",
    "navbar = dbc.NavbarSimple(\n",
    "    children=[\n",
    "        dbc.NavItem(dbc.NavLink(\"Census Data\", href=\"#\")),\n",
    "        dbc.DropdownMenu(\n",
    "            children=[\n",
    "                dbc.DropdownMenuItem(\"More pages coming soon\", header=True),\n",
    "                \n",
    "                dbc.DropdownMenuItem(\"Population Projection\", href=\"#\"),\n",
    "                # TODO populate this with the pages\n",
    "            ],\n",
    "            nav=True,\n",
    "            in_navbar=True,\n",
    "            label=\"More\",\n",
    "        ),\n",
    "    ],\n",
    "    brand=\"Solomon Islands Data Map\",\n",
    "    brand_href=\"#\",\n",
    "    color=\"primary\",\n",
    "    #dark=True,\n",
    "    class_name=\"navbar navbar-expand-lg bg-primary\"\n",
    ")\n"
   ]
  },
  {
   "cell_type": "markdown",
   "metadata": {},
   "source": [
    "Import the sidebar"
   ]
  },
  {
   "cell_type": "code",
   "execution_count": null,
   "metadata": {},
   "outputs": [],
   "source": [
    "# TODO"
   ]
  },
  {
   "cell_type": "markdown",
   "metadata": {},
   "source": [
    "## Create the Layout"
   ]
  },
  {
   "cell_type": "code",
   "execution_count": null,
   "metadata": {},
   "outputs": [],
   "source": [
    "#| export\n",
    "app.layout = dbc.Container([\n",
    "                dbc.Row([\n",
    "                    navbar\n",
    "                ]),\n",
    "                dbc.Row(\n",
    "                    [dbc.Col(sidebar, width = 2),\n",
    "                    dbc.Col(page_container, width = 10)\n",
    "                     ], justify = 'center'),                    \n",
    "                ], fluid = True)"
   ]
  },
  {
   "cell_type": "markdown",
   "metadata": {},
   "source": [
    "## Run the dash app"
   ]
  },
  {
   "cell_type": "code",
   "execution_count": null,
   "metadata": {},
   "outputs": [
    {
     "data": {
      "text/html": [
       "\n",
       "        <iframe\n",
       "            width=\"100%\"\n",
       "            height=\"650\"\n",
       "            src=\"http://127.0.0.1:9999/\"\n",
       "            frameborder=\"0\"\n",
       "            allowfullscreen\n",
       "            \n",
       "        ></iframe>\n",
       "        "
      ],
      "text/plain": [
       "<IPython.lib.display.IFrame>"
      ]
     },
     "metadata": {},
     "output_type": "display_data"
    }
   ],
   "source": [
    "#| export\n",
    "#| server\n",
    "# Run app\n",
    "if __name__=='__main__':\n",
    "    try:\n",
    "        app.run_server(debug=True, port=9999) # Random int mitigates port collision\n",
    "    except:\n",
    "        print(\"Cannot run server here\")"
   ]
  },
  {
   "cell_type": "code",
   "execution_count": null,
   "metadata": {},
   "outputs": [
    {
     "name": "stdout",
     "output_type": "stream",
     "text": [
      "map clicked updating to:\n",
      "Click data was none\n",
      "Click data was none\n",
      "\u001b[1;31m---------------------------------------------------------------------------\u001b[0m\n",
      "\u001b[1;31mSchemaTypeValidationError\u001b[0m                 Traceback (most recent call last)\n",
      "File \u001b[1;32m~/miniforge3/lib/python3.10/site-packages/flask/app.py:1823\u001b[0m, in \u001b[0;36mFlask.full_dispatch_request\u001b[1;34m(self=<Flask 'main_file'>)\u001b[0m\n",
      "\u001b[0;32m   1821\u001b[0m     rv \u001b[38;5;241m=\u001b[39m \u001b[38;5;28mself\u001b[39m\u001b[38;5;241m.\u001b[39mpreprocess_request()\n",
      "\u001b[0;32m   1822\u001b[0m     \u001b[38;5;28;01mif\u001b[39;00m rv \u001b[38;5;129;01mis\u001b[39;00m \u001b[38;5;28;01mNone\u001b[39;00m:\n",
      "\u001b[1;32m-> 1823\u001b[0m         rv \u001b[38;5;241m=\u001b[39m \u001b[38;5;28;43mself\u001b[39;49m\u001b[38;5;241;43m.\u001b[39;49m\u001b[43mdispatch_request\u001b[49m\u001b[43m(\u001b[49m\u001b[43m)\u001b[49m\n",
      "        rv \u001b[1;34m= None\u001b[0m\u001b[1;34m\n",
      "        \u001b[0mself \u001b[1;34m= <Flask 'main_file'>\u001b[0m\n",
      "\u001b[0;32m   1824\u001b[0m \u001b[38;5;28;01mexcept\u001b[39;00m \u001b[38;5;167;01mException\u001b[39;00m \u001b[38;5;28;01mas\u001b[39;00m e:\n",
      "\u001b[0;32m   1825\u001b[0m     rv \u001b[38;5;241m=\u001b[39m \u001b[38;5;28mself\u001b[39m\u001b[38;5;241m.\u001b[39mhandle_user_exception(e)\n",
      "\n",
      "File \u001b[1;32m~/miniforge3/lib/python3.10/site-packages/flask/app.py:1799\u001b[0m, in \u001b[0;36mFlask.dispatch_request\u001b[1;34m(self=<Flask 'main_file'>)\u001b[0m\n",
      "\u001b[0;32m   1797\u001b[0m \u001b[38;5;66;03m# otherwise dispatch to the handler for that endpoint\u001b[39;00m\n",
      "\u001b[0;32m   1798\u001b[0m view_args: t\u001b[38;5;241m.\u001b[39mDict[\u001b[38;5;28mstr\u001b[39m, t\u001b[38;5;241m.\u001b[39mAny] \u001b[38;5;241m=\u001b[39m req\u001b[38;5;241m.\u001b[39mview_args  \u001b[38;5;66;03m# type: ignore[assignment]\u001b[39;00m\n",
      "\u001b[1;32m-> 1799\u001b[0m \u001b[38;5;28;01mreturn\u001b[39;00m \u001b[38;5;28;43mself\u001b[39;49m\u001b[38;5;241;43m.\u001b[39;49m\u001b[43mensure_sync\u001b[49m\u001b[43m(\u001b[49m\u001b[38;5;28;43mself\u001b[39;49m\u001b[38;5;241;43m.\u001b[39;49m\u001b[43mview_functions\u001b[49m\u001b[43m[\u001b[49m\u001b[43mrule\u001b[49m\u001b[38;5;241;43m.\u001b[39;49m\u001b[43mendpoint\u001b[49m\u001b[43m]\u001b[49m\u001b[43m)\u001b[49m\u001b[43m(\u001b[49m\u001b[38;5;241;43m*\u001b[39;49m\u001b[38;5;241;43m*\u001b[39;49m\u001b[43mview_args\u001b[49m\u001b[43m)\u001b[49m\n",
      "        rule \u001b[1;34m= <Rule '/_dash-update-component' (OPTIONS, POST) -> /_dash-update-component>\u001b[0m\u001b[1;34m\n",
      "        \u001b[0mview_args \u001b[1;34m= {}\u001b[0m\u001b[1;34m\n",
      "        \u001b[0mself.view_functions[rule.endpoint] \u001b[1;34m= <bound method Dash.dispatch of <dash.dash.Dash object>>\u001b[0m\u001b[1;34m\n",
      "        \u001b[0mself \u001b[1;34m= <Flask 'main_file'>\u001b[0m\u001b[1;34m\n",
      "        \u001b[0mself.view_functions \u001b[1;34m= {'static': <function Flask.__init__.<locals>.<lambda>>, '_dash_assets.static': <bound method Scaffold.send_static_file of <Blueprint '_dash_assets'>>, '/_dash-component-suites/<string:package_name>/<path:fingerprinted_path>': <bound method Dash.serve_component_suites of <dash.dash.Dash object>>, '/_dash-layout': <bound method Dash.serve_layout of <dash.dash.Dash object>>, '/_dash-dependencies': <bound method Dash.dependencies of <dash.dash.Dash object>>, '/_dash-update-component': <bound method Dash.dispatch of <dash.dash.Dash object>>, '/_reload-hash': <bound method Dash.serve_reload_hash of <dash.dash.Dash object>>, '/_favicon.ico': <function Dash._serve_default_favicon>, '/': <bound method Dash.index of <dash.dash.Dash object>>, '/_alive_69538656-6f92-48e5-8924-1802e263c95e': <function JupyterDash.serve_alive>, '/<path:path>': <bound method Dash.index of <dash.dash.Dash object>>}\u001b[0m\u001b[1;34m\n",
      "        \u001b[0mrule.endpoint \u001b[1;34m= '/_dash-update-component'\u001b[0m\n",
      "\n",
      "File \u001b[1;32m~/miniforge3/lib/python3.10/site-packages/dash/dash.py:1310\u001b[0m, in \u001b[0;36mDash.dispatch\u001b[1;34m(self=<dash.dash.Dash object>)\u001b[0m\n",
      "\u001b[0;32m   1307\u001b[0m ctx \u001b[38;5;241m=\u001b[39m copy_context()\n",
      "\u001b[0;32m   1308\u001b[0m \u001b[38;5;66;03m# noinspection PyArgumentList\u001b[39;00m\n",
      "\u001b[0;32m   1309\u001b[0m response\u001b[38;5;241m.\u001b[39mset_data(\n",
      "\u001b[1;32m-> 1310\u001b[0m     \u001b[43mctx\u001b[49m\u001b[38;5;241;43m.\u001b[39;49m\u001b[43mrun\u001b[49m\u001b[43m(\u001b[49m\n",
      "        response \u001b[1;34m= <Response 0 bytes [200 OK]>\u001b[0m\u001b[1;34m\n",
      "        \u001b[0mctx \u001b[1;34m= <_contextvars.Context object>\u001b[0m\u001b[1;34m\n",
      "        \u001b[0mfunc \u001b[1;34m= <function map_click>\u001b[0m\u001b[1;34m\n",
      "        \u001b[0margs \u001b[1;34m= [None, None, None]\u001b[0m\u001b[1;34m\n",
      "        \u001b[0moutputs_list \u001b[1;34m= [{'id': 'locDropdown', 'property': 'value'}, {'id': 'e3e70682-c209-4cac-629f-6fbed82c07cd', 'property': 'clickData'}, {'id': 'e3e70682-c209-4cac-629f-6fbed82c07cd', 'property': 'selectedData'}]\u001b[0m\u001b[1;34m\n",
      "        \u001b[0mself._background_manager \u001b[1;34m= None\u001b[0m\u001b[1;34m\n",
      "        \u001b[0mself \u001b[1;34m= <dash.dash.Dash object>\u001b[0m\u001b[1;34m\n",
      "        \u001b[0mg \u001b[1;34m= {'inputs_list': [{'id': 'e3e70682-c209-4cac-629f-6fbed82c07cd', 'property': 'clickData'}, {'id': 'e3e70682-c209-4cac-629f-6fbed82c07cd', 'property': 'selectedData', 'value': None}], 'states_list': [{'id': 'locDropdown', 'property': 'value', 'value': None}], 'outputs_list': [{'id': 'locDropdown', 'property': 'value'}, {'id': 'e3e70682-c209-4cac-629f-6fbed82c07cd', 'property': 'clickData'}, {'id': 'e3e70682-c209-4cac-629f-6fbed82c07cd', 'property': 'selectedData'}], 'input_values': {'e3e70682-c209-4cac-629f-6fbed82c07cd.clickData': None, 'e3e70682-c209-4cac-629f-6fbed82c07cd.selectedData': None}, 'state_values': {'locDropdown.value': None}, 'triggered_inputs': [{'prop_id': 'e3e70682-c209-4cac-629f-6fbed82c07cd.clickData', 'value': None}, {'prop_id': 'e3e70682-c209-4cac-629f-6fbed82c07cd.selectedData', 'value': None}], 'dash_response': <Response 0 bytes [200 OK]>, 'background_callback_manager': None, 'ignore_register_page': None, 'args_grouping': [{'id': 'e3e70682-c209-4cac-629f-6fbed82c07cd', 'property': 'clickData', 'value': None, 'str_id': 'e3e70682-c209-4cac-629f-6fbed82c07cd', 'triggered': True}, {'id': 'e3e70682-c209-4cac-629f-6fbed82c07cd', 'property': 'selectedData', 'value': None, 'str_id': 'e3e70682-c209-4cac-629f-6fbed82c07cd', 'triggered': True}, {'id': 'locDropdown', 'property': 'value', 'value': None, 'str_id': 'locDropdown', 'triggered': False}], 'using_args_grouping': False, 'outputs_grouping': [{'id': 'locDropdown', 'property': 'value'}, {'id': 'e3e70682-c209-4cac-629f-6fbed82c07cd', 'property': 'clickData'}, {'id': 'e3e70682-c209-4cac-629f-6fbed82c07cd', 'property': 'selectedData'}], 'using_outputs_grouping': False}\u001b[0m\n",
      "\u001b[0;32m   1311\u001b[0m \u001b[43m        \u001b[49m\u001b[43mfunctools\u001b[49m\u001b[38;5;241;43m.\u001b[39;49m\u001b[43mpartial\u001b[49m\u001b[43m(\u001b[49m\n",
      "\u001b[0;32m   1312\u001b[0m \u001b[43m            \u001b[49m\u001b[43mfunc\u001b[49m\u001b[43m,\u001b[49m\n",
      "\u001b[0;32m   1313\u001b[0m \u001b[43m            \u001b[49m\u001b[38;5;241;43m*\u001b[39;49m\u001b[43margs\u001b[49m\u001b[43m,\u001b[49m\n",
      "\u001b[0;32m   1314\u001b[0m \u001b[43m            \u001b[49m\u001b[43moutputs_list\u001b[49m\u001b[38;5;241;43m=\u001b[39;49m\u001b[43moutputs_list\u001b[49m\u001b[43m,\u001b[49m\n",
      "\u001b[0;32m   1315\u001b[0m \u001b[43m            \u001b[49m\u001b[43mlong_callback_manager\u001b[49m\u001b[38;5;241;43m=\u001b[39;49m\u001b[38;5;28;43mself\u001b[39;49m\u001b[38;5;241;43m.\u001b[39;49m\u001b[43m_background_manager\u001b[49m\u001b[43m,\u001b[49m\n",
      "\u001b[0;32m   1316\u001b[0m \u001b[43m            \u001b[49m\u001b[43mcallback_context\u001b[49m\u001b[38;5;241;43m=\u001b[39;49m\u001b[43mg\u001b[49m\u001b[43m,\u001b[49m\n",
      "\u001b[0;32m   1317\u001b[0m \u001b[43m        \u001b[49m\u001b[43m)\u001b[49m\n",
      "\u001b[0;32m   1318\u001b[0m \u001b[43m    \u001b[49m\u001b[43m)\u001b[49m\n",
      "\u001b[0;32m   1319\u001b[0m )\n",
      "\u001b[0;32m   1320\u001b[0m \u001b[38;5;28;01mreturn\u001b[39;00m response\n",
      "\n",
      "File \u001b[1;32m~/miniforge3/lib/python3.10/site-packages/dash/_callback.py:457\u001b[0m, in \u001b[0;36mregister_callback.<locals>.wrap_func.<locals>.add_context\u001b[1;34m(*args=(None, None, None), **kwargs={})\u001b[0m\n",
      "\u001b[0;32m    454\u001b[0m         output_value \u001b[38;5;241m=\u001b[39m \u001b[38;5;28mlist\u001b[39m(output_value)\n",
      "\u001b[0;32m    456\u001b[0m     \u001b[38;5;66;03m# Flatten grouping and validate grouping structure\u001b[39;00m\n",
      "\u001b[1;32m--> 457\u001b[0m     flat_output_values \u001b[38;5;241m=\u001b[39m \u001b[43mflatten_grouping\u001b[49m\u001b[43m(\u001b[49m\u001b[43moutput_value\u001b[49m\u001b[43m,\u001b[49m\u001b[43m \u001b[49m\u001b[43moutput\u001b[49m\u001b[43m)\u001b[49m\n",
      "        output_value \u001b[1;34m= None\u001b[0m\u001b[1;34m\n",
      "        \u001b[0moutput \u001b[1;34m= [<Output `locDropdown.value`>, <Output `e3e70682-c209-4cac-629f-6fbed82c07cd.clickData`>, <Output `e3e70682-c209-4cac-629f-6fbed82c07cd.selectedData`>]\u001b[0m\n",
      "\u001b[0;32m    459\u001b[0m _validate\u001b[38;5;241m.\u001b[39mvalidate_multi_return(\n",
      "\u001b[0;32m    460\u001b[0m     output_spec, flat_output_values, callback_id\n",
      "\u001b[0;32m    461\u001b[0m )\n",
      "\u001b[0;32m    463\u001b[0m component_ids \u001b[38;5;241m=\u001b[39m collections\u001b[38;5;241m.\u001b[39mdefaultdict(\u001b[38;5;28mdict\u001b[39m)\n",
      "\n",
      "File \u001b[1;32m~/miniforge3/lib/python3.10/site-packages/dash/_grouping.py:35\u001b[0m, in \u001b[0;36mflatten_grouping\u001b[1;34m(\n",
      "    grouping=None,\n",
      "    schema=[<Output `locDropdown.value`>, <Output `e3e70682-c209-4cac-629f-6fbed82c07cd.clickData`>, <Output `e3e70682-c209-4cac-629f-6fbed82c07cd.selectedData`>]\n",
      ")\u001b[0m\n",
      "\u001b[0;32m     33\u001b[0m     schema \u001b[38;5;241m=\u001b[39m grouping\n",
      "\u001b[0;32m     34\u001b[0m \u001b[38;5;28;01melse\u001b[39;00m:\n",
      "\u001b[1;32m---> 35\u001b[0m     \u001b[43mvalidate_grouping\u001b[49m\u001b[43m(\u001b[49m\u001b[43mgrouping\u001b[49m\u001b[43m,\u001b[49m\u001b[43m \u001b[49m\u001b[43mschema\u001b[49m\u001b[43m)\u001b[49m\n",
      "        schema \u001b[1;34m= [<Output `locDropdown.value`>, <Output `e3e70682-c209-4cac-629f-6fbed82c07cd.clickData`>, <Output `e3e70682-c209-4cac-629f-6fbed82c07cd.selectedData`>]\u001b[0m\u001b[1;34m\n",
      "        \u001b[0mgrouping \u001b[1;34m= None\u001b[0m\n",
      "\u001b[0;32m     37\u001b[0m \u001b[38;5;28;01mif\u001b[39;00m \u001b[38;5;28misinstance\u001b[39m(schema, (\u001b[38;5;28mtuple\u001b[39m, \u001b[38;5;28mlist\u001b[39m)):\n",
      "\u001b[0;32m     38\u001b[0m     \u001b[38;5;28;01mreturn\u001b[39;00m [\n",
      "\u001b[0;32m     39\u001b[0m         g\n",
      "\u001b[0;32m     40\u001b[0m         \u001b[38;5;28;01mfor\u001b[39;00m group_el, schema_el \u001b[38;5;129;01min\u001b[39;00m \u001b[38;5;28mzip\u001b[39m(grouping, schema)\n",
      "\u001b[0;32m     41\u001b[0m         \u001b[38;5;28;01mfor\u001b[39;00m g \u001b[38;5;129;01min\u001b[39;00m flatten_grouping(group_el, schema_el)\n",
      "\u001b[0;32m     42\u001b[0m     ]\n",
      "\n",
      "File \u001b[1;32m~/miniforge3/lib/python3.10/site-packages/dash/_grouping.py:210\u001b[0m, in \u001b[0;36mvalidate_grouping\u001b[1;34m(\n",
      "    grouping=None,\n",
      "    schema=[<Output `locDropdown.value`>, <Output `e3e70682-c209-4cac-629f-6fbed82c07cd.clickData`>, <Output `e3e70682-c209-4cac-629f-6fbed82c07cd.selectedData`>],\n",
      "    full_schema=[<Output `locDropdown.value`>, <Output `e3e70682-c209-4cac-629f-6fbed82c07cd.clickData`>, <Output `e3e70682-c209-4cac-629f-6fbed82c07cd.selectedData`>],\n",
      "    path=()\n",
      ")\u001b[0m\n",
      "\u001b[0;32m    207\u001b[0m     full_schema \u001b[38;5;241m=\u001b[39m schema\n",
      "\u001b[0;32m    209\u001b[0m \u001b[38;5;28;01mif\u001b[39;00m \u001b[38;5;28misinstance\u001b[39m(schema, (\u001b[38;5;28mtuple\u001b[39m, \u001b[38;5;28mlist\u001b[39m)):\n",
      "\u001b[1;32m--> 210\u001b[0m     \u001b[43mSchemaTypeValidationError\u001b[49m\u001b[38;5;241;43m.\u001b[39;49m\u001b[43mcheck\u001b[49m\u001b[43m(\u001b[49m\u001b[43mgrouping\u001b[49m\u001b[43m,\u001b[49m\u001b[43m \u001b[49m\u001b[43mfull_schema\u001b[49m\u001b[43m,\u001b[49m\u001b[43m \u001b[49m\u001b[43mpath\u001b[49m\u001b[43m,\u001b[49m\u001b[43m \u001b[49m\u001b[43m(\u001b[49m\u001b[38;5;28;43mtuple\u001b[39;49m\u001b[43m,\u001b[49m\u001b[43m \u001b[49m\u001b[38;5;28;43mlist\u001b[39;49m\u001b[43m)\u001b[49m\u001b[43m)\u001b[49m\n",
      "        full_schema \u001b[1;34m= [<Output `locDropdown.value`>, <Output `e3e70682-c209-4cac-629f-6fbed82c07cd.clickData`>, <Output `e3e70682-c209-4cac-629f-6fbed82c07cd.selectedData`>]\u001b[0m\u001b[1;34m\n",
      "        \u001b[0m(tuple, list) \u001b[1;34m= (<class 'tuple'>, <class 'list'>)\u001b[0m\u001b[1;34m\n",
      "        \u001b[0mgrouping \u001b[1;34m= None\u001b[0m\u001b[1;34m\n",
      "        \u001b[0mpath \u001b[1;34m= ()\u001b[0m\n",
      "\u001b[0;32m    211\u001b[0m     SchemaLengthValidationError\u001b[38;5;241m.\u001b[39mcheck(grouping, full_schema, path, \u001b[38;5;28mlen\u001b[39m(schema))\n",
      "\u001b[0;32m    213\u001b[0m     \u001b[38;5;28;01mfor\u001b[39;00m i, (g, s) \u001b[38;5;129;01min\u001b[39;00m \u001b[38;5;28menumerate\u001b[39m(\u001b[38;5;28mzip\u001b[39m(grouping, schema)):\n",
      "\n",
      "File \u001b[1;32m~/miniforge3/lib/python3.10/site-packages/dash/_grouping.py:162\u001b[0m, in \u001b[0;36mSchemaTypeValidationError.check\u001b[1;34m(\n",
      "    cls=<class 'dash._grouping.SchemaTypeValidationError'>,\n",
      "    value=None,\n",
      "    full_schema=[<Output `locDropdown.value`>, <Output `e3e70682-c209-4cac-629f-6fbed82c07cd.clickData`>, <Output `e3e70682-c209-4cac-629f-6fbed82c07cd.selectedData`>],\n",
      "    path=(),\n",
      "    expected_type=(<class 'tuple'>, <class 'list'>)\n",
      ")\u001b[0m\n",
      "\u001b[0;32m    159\u001b[0m \u001b[38;5;129m@classmethod\u001b[39m\n",
      "\u001b[0;32m    160\u001b[0m \u001b[38;5;28;01mdef\u001b[39;00m \u001b[38;5;21mcheck\u001b[39m(\u001b[38;5;28mcls\u001b[39m, value, full_schema, path, expected_type):\n",
      "\u001b[0;32m    161\u001b[0m     \u001b[38;5;28;01mif\u001b[39;00m \u001b[38;5;129;01mnot\u001b[39;00m \u001b[38;5;28misinstance\u001b[39m(value, expected_type):\n",
      "\u001b[1;32m--> 162\u001b[0m         \u001b[38;5;28;01mraise\u001b[39;00m SchemaTypeValidationError(value, full_schema, path, expected_type)\n",
      "        value \u001b[1;34m= None\u001b[0m\u001b[1;34m\n",
      "        \u001b[0mexpected_type \u001b[1;34m= (<class 'tuple'>, <class 'list'>)\u001b[0m\u001b[1;34m\n",
      "        \u001b[0mfull_schema \u001b[1;34m= [<Output `locDropdown.value`>, <Output `e3e70682-c209-4cac-629f-6fbed82c07cd.clickData`>, <Output `e3e70682-c209-4cac-629f-6fbed82c07cd.selectedData`>]\u001b[0m\u001b[1;34m\n",
      "        \u001b[0mpath \u001b[1;34m= ()\u001b[0m\n",
      "\n",
      "\u001b[1;31mSchemaTypeValidationError\u001b[0m: Schema: [<Output `locDropdown.value`>, <Output `e3e70682-c209-4cac-629f-6fbed82c07cd.clickData`>, <Output `e3e70682-c209-4cac-629f-6fbed82c07cd.selectedData`>]\n",
      "Path: ()\n",
      "Expected type: (<class 'tuple'>, <class 'list'>)\n",
      "Received value of type <class 'NoneType'>:\n",
      "    None\n",
      "\n",
      "\u001b[1;31m---------------------------------------------------------------------------\u001b[0m\n",
      "\u001b[1;31mSchemaTypeValidationError\u001b[0m                 Traceback (most recent call last)\n",
      "File \u001b[1;32m~/miniforge3/lib/python3.10/site-packages/flask/app.py:1823\u001b[0m, in \u001b[0;36mFlask.full_dispatch_request\u001b[1;34m(self=<Flask 'main_file'>)\u001b[0m\n",
      "\u001b[0;32m   1821\u001b[0m     rv \u001b[38;5;241m=\u001b[39m \u001b[38;5;28mself\u001b[39m\u001b[38;5;241m.\u001b[39mpreprocess_request()\n",
      "\u001b[0;32m   1822\u001b[0m     \u001b[38;5;28;01mif\u001b[39;00m rv \u001b[38;5;129;01mis\u001b[39;00m \u001b[38;5;28;01mNone\u001b[39;00m:\n",
      "\u001b[1;32m-> 1823\u001b[0m         rv \u001b[38;5;241m=\u001b[39m \u001b[38;5;28;43mself\u001b[39;49m\u001b[38;5;241;43m.\u001b[39;49m\u001b[43mdispatch_request\u001b[49m\u001b[43m(\u001b[49m\u001b[43m)\u001b[49m\n",
      "        rv \u001b[1;34m= None\u001b[0m\u001b[1;34m\n",
      "        \u001b[0mself \u001b[1;34m= <Flask 'main_file'>\u001b[0m\n",
      "\u001b[0;32m   1824\u001b[0m \u001b[38;5;28;01mexcept\u001b[39;00m \u001b[38;5;167;01mException\u001b[39;00m \u001b[38;5;28;01mas\u001b[39;00m e:\n",
      "\u001b[0;32m   1825\u001b[0m     rv \u001b[38;5;241m=\u001b[39m \u001b[38;5;28mself\u001b[39m\u001b[38;5;241m.\u001b[39mhandle_user_exception(e)\n",
      "\n",
      "File \u001b[1;32m~/miniforge3/lib/python3.10/site-packages/flask/app.py:1799\u001b[0m, in \u001b[0;36mFlask.dispatch_request\u001b[1;34m(self=<Flask 'main_file'>)\u001b[0m\n",
      "\u001b[0;32m   1797\u001b[0m \u001b[38;5;66;03m# otherwise dispatch to the handler for that endpoint\u001b[39;00m\n",
      "\u001b[0;32m   1798\u001b[0m view_args: t\u001b[38;5;241m.\u001b[39mDict[\u001b[38;5;28mstr\u001b[39m, t\u001b[38;5;241m.\u001b[39mAny] \u001b[38;5;241m=\u001b[39m req\u001b[38;5;241m.\u001b[39mview_args  \u001b[38;5;66;03m# type: ignore[assignment]\u001b[39;00m\n",
      "\u001b[1;32m-> 1799\u001b[0m \u001b[38;5;28;01mreturn\u001b[39;00m \u001b[38;5;28;43mself\u001b[39;49m\u001b[38;5;241;43m.\u001b[39;49m\u001b[43mensure_sync\u001b[49m\u001b[43m(\u001b[49m\u001b[38;5;28;43mself\u001b[39;49m\u001b[38;5;241;43m.\u001b[39;49m\u001b[43mview_functions\u001b[49m\u001b[43m[\u001b[49m\u001b[43mrule\u001b[49m\u001b[38;5;241;43m.\u001b[39;49m\u001b[43mendpoint\u001b[49m\u001b[43m]\u001b[49m\u001b[43m)\u001b[49m\u001b[43m(\u001b[49m\u001b[38;5;241;43m*\u001b[39;49m\u001b[38;5;241;43m*\u001b[39;49m\u001b[43mview_args\u001b[49m\u001b[43m)\u001b[49m\n",
      "        rule \u001b[1;34m= <Rule '/_dash-update-component' (OPTIONS, POST) -> /_dash-update-component>\u001b[0m\u001b[1;34m\n",
      "        \u001b[0mview_args \u001b[1;34m= {}\u001b[0m\u001b[1;34m\n",
      "        \u001b[0mself.view_functions[rule.endpoint] \u001b[1;34m= <bound method Dash.dispatch of <dash.dash.Dash object>>\u001b[0m\u001b[1;34m\n",
      "        \u001b[0mself \u001b[1;34m= <Flask 'main_file'>\u001b[0m\u001b[1;34m\n",
      "        \u001b[0mself.view_functions \u001b[1;34m= {'static': <function Flask.__init__.<locals>.<lambda>>, '_dash_assets.static': <bound method Scaffold.send_static_file of <Blueprint '_dash_assets'>>, '/_dash-component-suites/<string:package_name>/<path:fingerprinted_path>': <bound method Dash.serve_component_suites of <dash.dash.Dash object>>, '/_dash-layout': <bound method Dash.serve_layout of <dash.dash.Dash object>>, '/_dash-dependencies': <bound method Dash.dependencies of <dash.dash.Dash object>>, '/_dash-update-component': <bound method Dash.dispatch of <dash.dash.Dash object>>, '/_reload-hash': <bound method Dash.serve_reload_hash of <dash.dash.Dash object>>, '/_favicon.ico': <function Dash._serve_default_favicon>, '/': <bound method Dash.index of <dash.dash.Dash object>>, '/_alive_69538656-6f92-48e5-8924-1802e263c95e': <function JupyterDash.serve_alive>, '/<path:path>': <bound method Dash.index of <dash.dash.Dash object>>}\u001b[0m\u001b[1;34m\n",
      "        \u001b[0mrule.endpoint \u001b[1;34m= '/_dash-update-component'\u001b[0m\n",
      "\n",
      "File \u001b[1;32m~/miniforge3/lib/python3.10/site-packages/dash/dash.py:1310\u001b[0m, in \u001b[0;36mDash.dispatch\u001b[1;34m(self=<dash.dash.Dash object>)\u001b[0m\n",
      "\u001b[0;32m   1307\u001b[0m ctx \u001b[38;5;241m=\u001b[39m copy_context()\n",
      "\u001b[0;32m   1308\u001b[0m \u001b[38;5;66;03m# noinspection PyArgumentList\u001b[39;00m\n",
      "\u001b[0;32m   1309\u001b[0m response\u001b[38;5;241m.\u001b[39mset_data(\n",
      "\u001b[1;32m-> 1310\u001b[0m     \u001b[43mctx\u001b[49m\u001b[38;5;241;43m.\u001b[39;49m\u001b[43mrun\u001b[49m\u001b[43m(\u001b[49m\n",
      "        response \u001b[1;34m= <Response 0 bytes [200 OK]>\u001b[0m\u001b[1;34m\n",
      "        \u001b[0mctx \u001b[1;34m= <_contextvars.Context object>\u001b[0m\u001b[1;34m\n",
      "        \u001b[0mfunc \u001b[1;34m= <function map_click>\u001b[0m\u001b[1;34m\n",
      "        \u001b[0margs \u001b[1;34m= [None, 'Key Statistics']\u001b[0m\u001b[1;34m\n",
      "        \u001b[0moutputs_list \u001b[1;34m= [{'id': 'measureDropdown', 'property': 'value'}, {'id': 'bar_graph', 'property': 'clickData'}]\u001b[0m\u001b[1;34m\n",
      "        \u001b[0mself._background_manager \u001b[1;34m= None\u001b[0m\u001b[1;34m\n",
      "        \u001b[0mself \u001b[1;34m= <dash.dash.Dash object>\u001b[0m\u001b[1;34m\n",
      "        \u001b[0mg \u001b[1;34m= {'inputs_list': [{'id': 'bar_graph', 'property': 'clickData'}], 'states_list': [{'id': 'varDropdown', 'property': 'value', 'value': 'Key Statistics'}], 'outputs_list': [{'id': 'measureDropdown', 'property': 'value'}, {'id': 'bar_graph', 'property': 'clickData'}], 'input_values': {'bar_graph.clickData': None}, 'state_values': {'varDropdown.value': 'Key Statistics'}, 'triggered_inputs': [{'prop_id': 'bar_graph.clickData', 'value': None}], 'dash_response': <Response 0 bytes [200 OK]>, 'background_callback_manager': None, 'ignore_register_page': None, 'args_grouping': [{'id': 'bar_graph', 'property': 'clickData', 'value': None, 'str_id': 'bar_graph', 'triggered': True}, {'id': 'varDropdown', 'property': 'value', 'value': 'Key Statistics', 'str_id': 'varDropdown', 'triggered': False}], 'using_args_grouping': False, 'outputs_grouping': [{'id': 'measureDropdown', 'property': 'value'}, {'id': 'bar_graph', 'property': 'clickData'}], 'using_outputs_grouping': False}\u001b[0m\n",
      "\u001b[0;32m   1311\u001b[0m \u001b[43m        \u001b[49m\u001b[43mfunctools\u001b[49m\u001b[38;5;241;43m.\u001b[39;49m\u001b[43mpartial\u001b[49m\u001b[43m(\u001b[49m\n",
      "\u001b[0;32m   1312\u001b[0m \u001b[43m            \u001b[49m\u001b[43mfunc\u001b[49m\u001b[43m,\u001b[49m\n",
      "\u001b[0;32m   1313\u001b[0m \u001b[43m            \u001b[49m\u001b[38;5;241;43m*\u001b[39;49m\u001b[43margs\u001b[49m\u001b[43m,\u001b[49m\n",
      "\u001b[0;32m   1314\u001b[0m \u001b[43m            \u001b[49m\u001b[43moutputs_list\u001b[49m\u001b[38;5;241;43m=\u001b[39;49m\u001b[43moutputs_list\u001b[49m\u001b[43m,\u001b[49m\n",
      "\u001b[0;32m   1315\u001b[0m \u001b[43m            \u001b[49m\u001b[43mlong_callback_manager\u001b[49m\u001b[38;5;241;43m=\u001b[39;49m\u001b[38;5;28;43mself\u001b[39;49m\u001b[38;5;241;43m.\u001b[39;49m\u001b[43m_background_manager\u001b[49m\u001b[43m,\u001b[49m\n",
      "\u001b[0;32m   1316\u001b[0m \u001b[43m            \u001b[49m\u001b[43mcallback_context\u001b[49m\u001b[38;5;241;43m=\u001b[39;49m\u001b[43mg\u001b[49m\u001b[43m,\u001b[49m\n",
      "\u001b[0;32m   1317\u001b[0m \u001b[43m        \u001b[49m\u001b[43m)\u001b[49m\n",
      "\u001b[0;32m   1318\u001b[0m \u001b[43m    \u001b[49m\u001b[43m)\u001b[49m\n",
      "\u001b[0;32m   1319\u001b[0m )\n",
      "\u001b[0;32m   1320\u001b[0m \u001b[38;5;28;01mreturn\u001b[39;00m response\n",
      "\n",
      "File \u001b[1;32m~/miniforge3/lib/python3.10/site-packages/dash/_callback.py:457\u001b[0m, in \u001b[0;36mregister_callback.<locals>.wrap_func.<locals>.add_context\u001b[1;34m(\n",
      "    *args=(None, 'Key Statistics'),\n",
      "    **kwargs={}\n",
      ")\u001b[0m\n",
      "\u001b[0;32m    454\u001b[0m         output_value \u001b[38;5;241m=\u001b[39m \u001b[38;5;28mlist\u001b[39m(output_value)\n",
      "\u001b[0;32m    456\u001b[0m     \u001b[38;5;66;03m# Flatten grouping and validate grouping structure\u001b[39;00m\n",
      "\u001b[1;32m--> 457\u001b[0m     flat_output_values \u001b[38;5;241m=\u001b[39m \u001b[43mflatten_grouping\u001b[49m\u001b[43m(\u001b[49m\u001b[43moutput_value\u001b[49m\u001b[43m,\u001b[49m\u001b[43m \u001b[49m\u001b[43moutput\u001b[49m\u001b[43m)\u001b[49m\n",
      "        output_value \u001b[1;34m= None\u001b[0m\u001b[1;34m\n",
      "        \u001b[0moutput \u001b[1;34m= [<Output `measureDropdown.value`>, <Output `bar_graph.clickData`>]\u001b[0m\n",
      "\u001b[0;32m    459\u001b[0m _validate\u001b[38;5;241m.\u001b[39mvalidate_multi_return(\n",
      "\u001b[0;32m    460\u001b[0m     output_spec, flat_output_values, callback_id\n",
      "\u001b[0;32m    461\u001b[0m )\n",
      "\u001b[0;32m    463\u001b[0m component_ids \u001b[38;5;241m=\u001b[39m collections\u001b[38;5;241m.\u001b[39mdefaultdict(\u001b[38;5;28mdict\u001b[39m)\n",
      "\n",
      "File \u001b[1;32m~/miniforge3/lib/python3.10/site-packages/dash/_grouping.py:35\u001b[0m, in \u001b[0;36mflatten_grouping\u001b[1;34m(\n",
      "    grouping=None,\n",
      "    schema=[<Output `measureDropdown.value`>, <Output `bar_graph.clickData`>]\n",
      ")\u001b[0m\n",
      "\u001b[0;32m     33\u001b[0m     schema \u001b[38;5;241m=\u001b[39m grouping\n",
      "\u001b[0;32m     34\u001b[0m \u001b[38;5;28;01melse\u001b[39;00m:\n",
      "\u001b[1;32m---> 35\u001b[0m     \u001b[43mvalidate_grouping\u001b[49m\u001b[43m(\u001b[49m\u001b[43mgrouping\u001b[49m\u001b[43m,\u001b[49m\u001b[43m \u001b[49m\u001b[43mschema\u001b[49m\u001b[43m)\u001b[49m\n",
      "        schema \u001b[1;34m= [<Output `measureDropdown.value`>, <Output `bar_graph.clickData`>]\u001b[0m\u001b[1;34m\n",
      "        \u001b[0mgrouping \u001b[1;34m= None\u001b[0m\n",
      "\u001b[0;32m     37\u001b[0m \u001b[38;5;28;01mif\u001b[39;00m \u001b[38;5;28misinstance\u001b[39m(schema, (\u001b[38;5;28mtuple\u001b[39m, \u001b[38;5;28mlist\u001b[39m)):\n",
      "\u001b[0;32m     38\u001b[0m     \u001b[38;5;28;01mreturn\u001b[39;00m [\n",
      "\u001b[0;32m     39\u001b[0m         g\n",
      "\u001b[0;32m     40\u001b[0m         \u001b[38;5;28;01mfor\u001b[39;00m group_el, schema_el \u001b[38;5;129;01min\u001b[39;00m \u001b[38;5;28mzip\u001b[39m(grouping, schema)\n",
      "\u001b[0;32m     41\u001b[0m         \u001b[38;5;28;01mfor\u001b[39;00m g \u001b[38;5;129;01min\u001b[39;00m flatten_grouping(group_el, schema_el)\n",
      "\u001b[0;32m     42\u001b[0m     ]\n",
      "\n",
      "File \u001b[1;32m~/miniforge3/lib/python3.10/site-packages/dash/_grouping.py:210\u001b[0m, in \u001b[0;36mvalidate_grouping\u001b[1;34m(\n",
      "    grouping=None,\n",
      "    schema=[<Output `measureDropdown.value`>, <Output `bar_graph.clickData`>],\n",
      "    full_schema=[<Output `measureDropdown.value`>, <Output `bar_graph.clickData`>],\n",
      "    path=()\n",
      ")\u001b[0m\n",
      "\u001b[0;32m    207\u001b[0m     full_schema \u001b[38;5;241m=\u001b[39m schema\n",
      "\u001b[0;32m    209\u001b[0m \u001b[38;5;28;01mif\u001b[39;00m \u001b[38;5;28misinstance\u001b[39m(schema, (\u001b[38;5;28mtuple\u001b[39m, \u001b[38;5;28mlist\u001b[39m)):\n",
      "\u001b[1;32m--> 210\u001b[0m     \u001b[43mSchemaTypeValidationError\u001b[49m\u001b[38;5;241;43m.\u001b[39;49m\u001b[43mcheck\u001b[49m\u001b[43m(\u001b[49m\u001b[43mgrouping\u001b[49m\u001b[43m,\u001b[49m\u001b[43m \u001b[49m\u001b[43mfull_schema\u001b[49m\u001b[43m,\u001b[49m\u001b[43m \u001b[49m\u001b[43mpath\u001b[49m\u001b[43m,\u001b[49m\u001b[43m \u001b[49m\u001b[43m(\u001b[49m\u001b[38;5;28;43mtuple\u001b[39;49m\u001b[43m,\u001b[49m\u001b[43m \u001b[49m\u001b[38;5;28;43mlist\u001b[39;49m\u001b[43m)\u001b[49m\u001b[43m)\u001b[49m\n",
      "        full_schema \u001b[1;34m= [<Output `measureDropdown.value`>, <Output `bar_graph.clickData`>]\u001b[0m\u001b[1;34m\n",
      "        \u001b[0m(tuple, list) \u001b[1;34m= (<class 'tuple'>, <class 'list'>)\u001b[0m\u001b[1;34m\n",
      "        \u001b[0mgrouping \u001b[1;34m= None\u001b[0m\u001b[1;34m\n",
      "        \u001b[0mpath \u001b[1;34m= ()\u001b[0m\n",
      "\u001b[0;32m    211\u001b[0m     SchemaLengthValidationError\u001b[38;5;241m.\u001b[39mcheck(grouping, full_schema, path, \u001b[38;5;28mlen\u001b[39m(schema))\n",
      "\u001b[0;32m    213\u001b[0m     \u001b[38;5;28;01mfor\u001b[39;00m i, (g, s) \u001b[38;5;129;01min\u001b[39;00m \u001b[38;5;28menumerate\u001b[39m(\u001b[38;5;28mzip\u001b[39m(grouping, schema)):\n",
      "\n",
      "File \u001b[1;32m~/miniforge3/lib/python3.10/site-packages/dash/_grouping.py:162\u001b[0m, in \u001b[0;36mSchemaTypeValidationError.check\u001b[1;34m(\n",
      "    cls=<class 'dash._grouping.SchemaTypeValidationError'>,\n",
      "    value=None,\n",
      "    full_schema=[<Output `measureDropdown.value`>, <Output `bar_graph.clickData`>],\n",
      "    path=(),\n",
      "    expected_type=(<class 'tuple'>, <class 'list'>)\n",
      ")\u001b[0m\n",
      "\u001b[0;32m    159\u001b[0m \u001b[38;5;129m@classmethod\u001b[39m\n",
      "\u001b[0;32m    160\u001b[0m \u001b[38;5;28;01mdef\u001b[39;00m \u001b[38;5;21mcheck\u001b[39m(\u001b[38;5;28mcls\u001b[39m, value, full_schema, path, expected_type):\n",
      "\u001b[0;32m    161\u001b[0m     \u001b[38;5;28;01mif\u001b[39;00m \u001b[38;5;129;01mnot\u001b[39;00m \u001b[38;5;28misinstance\u001b[39m(value, expected_type):\n",
      "\u001b[1;32m--> 162\u001b[0m         \u001b[38;5;28;01mraise\u001b[39;00m SchemaTypeValidationError(value, full_schema, path, expected_type)\n",
      "        value \u001b[1;34m= None\u001b[0m\u001b[1;34m\n",
      "        \u001b[0mexpected_type \u001b[1;34m= (<class 'tuple'>, <class 'list'>)\u001b[0m\u001b[1;34m\n",
      "        \u001b[0mfull_schema \u001b[1;34m= [<Output `measureDropdown.value`>, <Output `bar_graph.clickData`>]\u001b[0m\u001b[1;34m\n",
      "        \u001b[0mpath \u001b[1;34m= ()\u001b[0m\n",
      "\n",
      "\u001b[1;31mSchemaTypeValidationError\u001b[0m: Schema: [<Output `measureDropdown.value`>, <Output `bar_graph.clickData`>]\n",
      "Path: ()\n",
      "Expected type: (<class 'tuple'>, <class 'list'>)\n",
      "Received value of type <class 'NoneType'>:\n",
      "    None\n",
      "\n"
     ]
    }
   ],
   "source": [
    "#| hide\n",
    "import nbdev; nbdev.nbdev_export()"
   ]
  },
  {
   "cell_type": "code",
   "execution_count": null,
   "metadata": {},
   "outputs": [],
   "source": []
  }
 ],
 "metadata": {
  "kernelspec": {
   "display_name": "python3",
   "language": "python",
   "name": "python3"
  }
 },
 "nbformat": 4,
 "nbformat_minor": 4
}
