{
 "cells": [
  {
   "cell_type": "markdown",
   "metadata": {},
   "source": [
    "# Load Data\n",
    "\n",
    "> Functions that load the data for the map.   "
   ]
  },
  {
   "cell_type": "code",
   "execution_count": null,
   "metadata": {},
   "outputs": [],
   "source": [
    "#| default_exp load_data"
   ]
  },
  {
   "cell_type": "code",
   "execution_count": null,
   "metadata": {},
   "outputs": [],
   "source": [
    "#| export\n",
    "from nbdev.showdoc import *\n",
    "import geopandas as gp\n",
    "import pandas as pd\n",
    "from git import Repo\n",
    "import json"
   ]
  },
  {
   "cell_type": "code",
   "execution_count": null,
   "metadata": {},
   "outputs": [],
   "source": [
    "#| hide\n",
    "repo = Repo('.', search_parent_directories=True)\n",
    "fp = str(repo.working_tree_dir) + \"/testData/\"\n",
    "\n",
    "# Check that the files exist using fastcore (both census and geo)"
   ]
  },
  {
   "cell_type": "markdown",
   "metadata": {},
   "source": [
    "## Load the geography data\n",
    ">  Solomons islands geography data is organised at the levels\n",
    "> - adm0 - The country as as whole, Solomon Islands\n",
    "> - adm1 - Also referred to as the province e.g. Honiara, Malaita\n",
    "> - adm2 - The Consituency e.g. Central Honiara\n",
    "> - adm3 - Ward, the smallest geography I am reporting. E.g. Cruz"
   ]
  },
  {
   "cell_type": "code",
   "execution_count": null,
   "metadata": {},
   "outputs": [],
   "source": [
    "#| export\n",
    "class SolomonGeo:\n",
    "    # TODO work out how to format this?\n",
    "    # Look at nbdev docs maybe?\n",
    "    '''\n",
    "    Load the solomon islands geography data \n",
    "    Attributes:\n",
    "        adm3    Geopandas dataframe containing admin 3 geographies.\n",
    "    '''\n",
    "    def __init__(self):\n",
    "        repo = Repo('.', search_parent_directories=True)\n",
    "        fp = str(repo.working_tree_dir) + \"/testData/\"\n",
    "        self.adm3 = self.elt(fp)\n",
    "\n",
    "    def elt(self, pw:str, # The pathway to the dataset\n",
    "           )-> gp.GeoDataFrame: # The geojason dataset for given aggregation\n",
    "        '''\n",
    "        Load and transform given filepath into a geejason geopandas dataframe\n",
    "        '''\n",
    "        adm3 = gp.read_file(pw + '2009_PHC_Solomons_Ward_4326')\n",
    "        #adm3.to_file('myJson.geojson', driver='GeoJSON')\n",
    "        # Need to set the index, currently using WID\n",
    "        adm3 = adm3.set_index(adm3[\"WID\"].values)\n",
    "        return adm3\n",
    "\n",
    "    def get_geojson(self,) -> dict: # Geo JSON formatted dataset\n",
    "        '''\n",
    "        A getter method for geography as a Geo JSON\n",
    "        '''\n",
    "        return json.loads(self.adm3.to_json())\n"
   ]
  },
  {
   "cell_type": "code",
   "execution_count": null,
   "metadata": {},
   "outputs": [
    {
     "data": {
      "text/markdown": [
       "---\n",
       "\n",
       "[source](https://github.com/Gippers/SolomonIslandsDataMap/blob/main/SolomonIslandsDataMap/load_data.py#L13){target=\"_blank\" style=\"float:right; font-size:smaller\"}\n",
       "\n",
       "### SolomonGeo\n",
       "\n",
       ">      SolomonGeo ()\n",
       "\n",
       "Load the solomon islands geography data \n",
       "Attributes:\n",
       "    adm3    Geopandas dataframe containing admin 3 geographies."
      ],
      "text/plain": [
       "---\n",
       "\n",
       "[source](https://github.com/Gippers/SolomonIslandsDataMap/blob/main/SolomonIslandsDataMap/load_data.py#L13){target=\"_blank\" style=\"float:right; font-size:smaller\"}\n",
       "\n",
       "### SolomonGeo\n",
       "\n",
       ">      SolomonGeo ()\n",
       "\n",
       "Load the solomon islands geography data \n",
       "Attributes:\n",
       "    adm3    Geopandas dataframe containing admin 3 geographies."
      ]
     },
     "execution_count": null,
     "metadata": {},
     "output_type": "execute_result"
    }
   ],
   "source": [
    "#| hide\n",
    "show_doc(SolomonGeo)"
   ]
  },
  {
   "cell_type": "code",
   "execution_count": null,
   "metadata": {},
   "outputs": [
    {
     "data": {
      "text/markdown": [
       "---\n",
       "\n",
       "### SolomonGeo.get_geojson\n",
       "\n",
       ">      SolomonGeo.get_geojson ()\n",
       "\n",
       "A getter method for geography as a Geo JSON"
      ],
      "text/plain": [
       "---\n",
       "\n",
       "### SolomonGeo.get_geojson\n",
       "\n",
       ">      SolomonGeo.get_geojson ()\n",
       "\n",
       "A getter method for geography as a Geo JSON"
      ]
     },
     "execution_count": null,
     "metadata": {},
     "output_type": "execute_result"
    }
   ],
   "source": [
    "#| hide\n",
    "show_doc(SolomonGeo.get_geojson)"
   ]
  },
  {
   "cell_type": "markdown",
   "metadata": {},
   "source": [
    "## Load the Census data"
   ]
  },
  {
   "cell_type": "code",
   "execution_count": null,
   "metadata": {},
   "outputs": [],
   "source": [
    "#| export\n",
    "class SolomonCensus:\n",
    "    '''\n",
    "    Load the solomon islands census data \n",
    "    '''\n",
    "    def __init__(self):\n",
    "        repo = Repo('.', search_parent_directories=True)\n",
    "        fp = str(repo.working_tree_dir) + \"/testData/\"\n",
    "        self.data = self.elt(fp)\n",
    "\n",
    "    def elt(self, pw:str, # The pathway to the dataset\n",
    "           )-> pd.pandas: # Return the pandas dataset\n",
    "        '''\n",
    "        Load and transform data from filepath into pandas dataset\n",
    "        '''\n",
    "        df = pd.read_csv(pw + 'sol_census_2009_ward.csv')\n",
    "        df['id'] = df['id'].apply(str)  # Change type of id\n",
    "        # TODO load all the files and merge them together?\n",
    "        return df\n",
    "\n",
    "\n"
   ]
  },
  {
   "cell_type": "code",
   "execution_count": null,
   "metadata": {},
   "outputs": [
    {
     "data": {
      "text/markdown": [
       "---\n",
       "\n",
       "[source](https://github.com/Gippers/SolomonIslandsDataMap/blob/main/SolomonIslandsDataMap/load_data.py#L38){target=\"_blank\" style=\"float:right; font-size:smaller\"}\n",
       "\n",
       "### SolomonCensus\n",
       "\n",
       ">      SolomonCensus ()\n",
       "\n",
       "Load the solomon islands census data"
      ],
      "text/plain": [
       "---\n",
       "\n",
       "[source](https://github.com/Gippers/SolomonIslandsDataMap/blob/main/SolomonIslandsDataMap/load_data.py#L38){target=\"_blank\" style=\"float:right; font-size:smaller\"}\n",
       "\n",
       "### SolomonCensus\n",
       "\n",
       ">      SolomonCensus ()\n",
       "\n",
       "Load the solomon islands census data"
      ]
     },
     "execution_count": null,
     "metadata": {},
     "output_type": "execute_result"
    }
   ],
   "source": [
    "show_doc(SolomonCensus)"
   ]
  },
  {
   "cell_type": "markdown",
   "metadata": {},
   "source": [
    "# Testing"
   ]
  },
  {
   "cell_type": "code",
   "execution_count": null,
   "metadata": {},
   "outputs": [],
   "source": [
    "sol_geo = SolomonGeo()"
   ]
  },
  {
   "cell_type": "code",
   "execution_count": null,
   "metadata": {},
   "outputs": [
    {
     "data": {
      "text/plain": [
       "id            object\n",
       "ward_name     object\n",
       "male_pop       int64\n",
       "female_pop     int64\n",
       "total_pop      int64\n",
       "dtype: object"
      ]
     },
     "execution_count": null,
     "metadata": {},
     "output_type": "execute_result"
    }
   ],
   "source": [
    "sol_census = SolomonCensus()\n",
    "sol_census.data.dtypes"
   ]
  },
  {
   "cell_type": "code",
   "execution_count": null,
   "metadata": {},
   "outputs": [
    {
     "data": {
      "text/html": [
       "<div>\n",
       "<style scoped>\n",
       "    .dataframe tbody tr th:only-of-type {\n",
       "        vertical-align: middle;\n",
       "    }\n",
       "\n",
       "    .dataframe tbody tr th {\n",
       "        vertical-align: top;\n",
       "    }\n",
       "\n",
       "    .dataframe thead th {\n",
       "        text-align: right;\n",
       "    }\n",
       "</style>\n",
       "<table border=\"1\" class=\"dataframe\">\n",
       "  <thead>\n",
       "    <tr style=\"text-align: right;\">\n",
       "      <th></th>\n",
       "      <th>id</th>\n",
       "      <th>ward_name</th>\n",
       "      <th>male_pop</th>\n",
       "      <th>female_pop</th>\n",
       "      <th>total_pop</th>\n",
       "    </tr>\n",
       "  </thead>\n",
       "  <tbody>\n",
       "    <tr>\n",
       "      <th>0</th>\n",
       "      <td>1001</td>\n",
       "      <td>Nggosi</td>\n",
       "      <td>5240</td>\n",
       "      <td>4822</td>\n",
       "      <td>10062</td>\n",
       "    </tr>\n",
       "    <tr>\n",
       "      <th>1</th>\n",
       "      <td>1002</td>\n",
       "      <td>Mbumburu</td>\n",
       "      <td>1912</td>\n",
       "      <td>1713</td>\n",
       "      <td>3625</td>\n",
       "    </tr>\n",
       "    <tr>\n",
       "      <th>2</th>\n",
       "      <td>1003</td>\n",
       "      <td>Rove - Lengakiki</td>\n",
       "      <td>1464</td>\n",
       "      <td>1149</td>\n",
       "      <td>2613</td>\n",
       "    </tr>\n",
       "    <tr>\n",
       "      <th>3</th>\n",
       "      <td>1004</td>\n",
       "      <td>Cruz</td>\n",
       "      <td>125</td>\n",
       "      <td>107</td>\n",
       "      <td>232</td>\n",
       "    </tr>\n",
       "    <tr>\n",
       "      <th>4</th>\n",
       "      <td>1005</td>\n",
       "      <td>Vavaea</td>\n",
       "      <td>3788</td>\n",
       "      <td>3208</td>\n",
       "      <td>6996</td>\n",
       "    </tr>\n",
       "    <tr>\n",
       "      <th>...</th>\n",
       "      <td>...</td>\n",
       "      <td>...</td>\n",
       "      <td>...</td>\n",
       "      <td>...</td>\n",
       "      <td>...</td>\n",
       "    </tr>\n",
       "    <tr>\n",
       "      <th>178</th>\n",
       "      <td>913</td>\n",
       "      <td>Duff Islands</td>\n",
       "      <td>262</td>\n",
       "      <td>249</td>\n",
       "      <td>511</td>\n",
       "    </tr>\n",
       "    <tr>\n",
       "      <th>179</th>\n",
       "      <td>914</td>\n",
       "      <td>Utupua</td>\n",
       "      <td>586</td>\n",
       "      <td>582</td>\n",
       "      <td>1168</td>\n",
       "    </tr>\n",
       "    <tr>\n",
       "      <th>180</th>\n",
       "      <td>915</td>\n",
       "      <td>Vanikoro</td>\n",
       "      <td>625</td>\n",
       "      <td>668</td>\n",
       "      <td>1293</td>\n",
       "    </tr>\n",
       "    <tr>\n",
       "      <th>181</th>\n",
       "      <td>916</td>\n",
       "      <td>Tikopia</td>\n",
       "      <td>604</td>\n",
       "      <td>681</td>\n",
       "      <td>1285</td>\n",
       "    </tr>\n",
       "    <tr>\n",
       "      <th>182</th>\n",
       "      <td>917</td>\n",
       "      <td>Neo</td>\n",
       "      <td>762</td>\n",
       "      <td>796</td>\n",
       "      <td>1558</td>\n",
       "    </tr>\n",
       "  </tbody>\n",
       "</table>\n",
       "<p>183 rows × 5 columns</p>\n",
       "</div>"
      ],
      "text/plain": [
       "       id         ward_name  male_pop  female_pop  total_pop\n",
       "0    1001            Nggosi      5240        4822      10062\n",
       "1    1002          Mbumburu      1912        1713       3625\n",
       "2    1003  Rove - Lengakiki      1464        1149       2613\n",
       "3    1004              Cruz       125         107        232\n",
       "4    1005            Vavaea      3788        3208       6996\n",
       "..    ...               ...       ...         ...        ...\n",
       "178   913      Duff Islands       262         249        511\n",
       "179   914            Utupua       586         582       1168\n",
       "180   915          Vanikoro       625         668       1293\n",
       "181   916           Tikopia       604         681       1285\n",
       "182   917               Neo       762         796       1558\n",
       "\n",
       "[183 rows x 5 columns]"
      ]
     },
     "execution_count": null,
     "metadata": {},
     "output_type": "execute_result"
    }
   ],
   "source": [
    "sol_census.data"
   ]
  },
  {
   "cell_type": "code",
   "execution_count": null,
   "metadata": {},
   "outputs": [],
   "source": []
  },
  {
   "cell_type": "code",
   "execution_count": null,
   "metadata": {},
   "outputs": [],
   "source": [
    "#| hide\n",
    "import nbdev; nbdev.nbdev_export()"
   ]
  },
  {
   "cell_type": "code",
   "execution_count": null,
   "metadata": {},
   "outputs": [],
   "source": []
  }
 ],
 "metadata": {
  "kernelspec": {
   "display_name": "python3",
   "language": "python",
   "name": "python3"
  }
 },
 "nbformat": 4,
 "nbformat_minor": 4
}
