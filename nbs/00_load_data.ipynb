{
 "cells": [
  {
   "cell_type": "markdown",
   "metadata": {},
   "source": [
    "# Load Data\n",
    "\n",
    "> Functions that load the data for the map.   "
   ]
  },
  {
   "cell_type": "code",
   "execution_count": null,
   "metadata": {},
   "outputs": [],
   "source": [
    "#| default_exp load_data"
   ]
  },
  {
   "cell_type": "code",
   "execution_count": null,
   "metadata": {},
   "outputs": [],
   "source": [
    "#| export\n",
    "from nbdev.showdoc import *\n",
    "import geopandas as gpd\n",
    "import pandas as pd\n",
    "from git import Repo\n",
    "import json"
   ]
  },
  {
   "cell_type": "code",
   "execution_count": null,
   "metadata": {},
   "outputs": [],
   "source": [
    "#| hide\n",
    "repo = Repo('.', search_parent_directories=True)\n",
    "fp = str(repo.working_tree_dir) + \"/testData/\"\n",
    "\n",
    "# Check that the files exist using fastcore (both census and geo)"
   ]
  },
  {
   "cell_type": "markdown",
   "metadata": {},
   "source": [
    "## Load the geography and census data\n",
    ">  Solomons islands geography data is organised at the levels\n",
    "> - adm0 - The country as as whole, Solomon Islands\n",
    "> - adm1 - Also referred to as the province e.g. Honiara, Malaita\n",
    "> - adm2 - The Consituency e.g. Central Honiara\n",
    "> - adm3 - Ward, the smallest geography I am reporting. E.g. Cruz\n",
    "> Solomon islands census data has been used from the 2009 and 2019 census. For the respective census:\n",
    "> 2009\n",
    "> - We have the total population in for each of the administration regions\n",
    ">  2019\n",
    ">  - There is only data available down to the province level"
   ]
  },
  {
   "cell_type": "code",
   "execution_count": null,
   "metadata": {},
   "outputs": [],
   "source": [
    "#| export\n",
    "class SolomonGeo:\n",
    "    # TODO work out how to format this?\n",
    "    # Look at nbdev docs maybe?\n",
    "    '''\n",
    "    Load the solomon islands geography data \n",
    "    Attributes:\n",
    "        adm3    Geopandas dataframe containing admin 3 geographies.\n",
    "    '''\n",
    "    def __init__(self):\n",
    "        self.adm3 = self.elt('ward', '2009')\n",
    "\n",
    "    def elt(self, \n",
    "            aggregation:str, # Inicates the aggregation of the data\n",
    "            year:str, # The year of that data, only relevant for census data\n",
    "           )-> gpd.GeoDataFrame: # The geojason dataset for given aggregation\n",
    "        '''\n",
    "        Load and transform given filepath into a geejason geopandas dataframe\n",
    "        '''\n",
    "        repo = Repo('.', search_parent_directories=True)\n",
    "        pw = str(repo.working_tree_dir) + \"/testData/\"\n",
    "        \n",
    "        geo = self.load_geo(pw + 'geo_' + aggregation + '.json')\n",
    "        df = self.load_census(pw + 'census_' + aggregation + '_' + year + '.csv')\n",
    "        adm3 = geo.merge(df, on=\"WID\").set_index(\"ward_name\")\n",
    "        return adm3\n",
    "\n",
    "    def load_geo(self, pw:str, # The pathway to the dataset\n",
    "           )-> gpd.GeoDataFrame: # The geojason dataset for given aggregation\n",
    "        '''\n",
    "        Load and transform given filepath into a geejason geopandas dataframe\n",
    "        '''\n",
    "        geo = gpd.read_file(pw)\n",
    "        #geo = adm3.set_index(adm3[\"WID\"].values)\n",
    "        return geo\n",
    "\n",
    "    def load_census(self, pw:str, # Pathway of the dataset\n",
    "           )-> pd.DataFrame: # A pandas dataframe\n",
    "        '''\n",
    "        Load and transform data from filepath into pandas dataset\n",
    "        '''\n",
    "        df = pd.read_csv(pw)\n",
    "        df['id'] = df['id'].apply(str)  # Change type of id\n",
    "        df = df.rename(columns = {'id':'WID'})\n",
    "        return df\n",
    "\n",
    "\n",
    "    def get_geojson(self,\n",
    "                   ) -> dict: # Geo JSON formatted dataset\n",
    "        '''\n",
    "        A getter method for the GeoDataFrame that returns a Geo JSON\n",
    "        '''\n",
    "        return json.loads(self.adm3.to_json())\n"
   ]
  },
  {
   "cell_type": "code",
   "execution_count": null,
   "metadata": {},
   "outputs": [
    {
     "data": {
      "text/markdown": [
       "---\n",
       "\n",
       "[source](https://github.com/Gippers/SolomonIslandsDataMap/blob/main/SolomonIslandsDataMap/load_data.py#L14){target=\"_blank\" style=\"float:right; font-size:smaller\"}\n",
       "\n",
       "### SolomonGeo\n",
       "\n",
       ">      SolomonGeo ()\n",
       "\n",
       "Load the solomon islands geography data \n",
       "Attributes:\n",
       "    adm3    Geopandas dataframe containing admin 3 geographies."
      ],
      "text/plain": [
       "---\n",
       "\n",
       "[source](https://github.com/Gippers/SolomonIslandsDataMap/blob/main/SolomonIslandsDataMap/load_data.py#L14){target=\"_blank\" style=\"float:right; font-size:smaller\"}\n",
       "\n",
       "### SolomonGeo\n",
       "\n",
       ">      SolomonGeo ()\n",
       "\n",
       "Load the solomon islands geography data \n",
       "Attributes:\n",
       "    adm3    Geopandas dataframe containing admin 3 geographies."
      ]
     },
     "execution_count": null,
     "metadata": {},
     "output_type": "execute_result"
    }
   ],
   "source": [
    "#| hide\n",
    "show_doc(SolomonGeo)"
   ]
  },
  {
   "cell_type": "code",
   "execution_count": null,
   "metadata": {},
   "outputs": [
    {
     "data": {
      "text/markdown": [
       "---\n",
       "\n",
       "[source](https://github.com/Gippers/SolomonIslandsDataMap/blob/main/SolomonIslandsDataMap/load_data.py#L57){target=\"_blank\" style=\"float:right; font-size:smaller\"}\n",
       "\n",
       "### SolomonGeo.get_geojson\n",
       "\n",
       ">      SolomonGeo.get_geojson ()\n",
       "\n",
       "A getter method for the GeoDataFrame that returns a Geo JSON"
      ],
      "text/plain": [
       "---\n",
       "\n",
       "[source](https://github.com/Gippers/SolomonIslandsDataMap/blob/main/SolomonIslandsDataMap/load_data.py#L57){target=\"_blank\" style=\"float:right; font-size:smaller\"}\n",
       "\n",
       "### SolomonGeo.get_geojson\n",
       "\n",
       ">      SolomonGeo.get_geojson ()\n",
       "\n",
       "A getter method for the GeoDataFrame that returns a Geo JSON"
      ]
     },
     "execution_count": null,
     "metadata": {},
     "output_type": "execute_result"
    }
   ],
   "source": [
    "#| hide\n",
    "show_doc(SolomonGeo.get_geojson)"
   ]
  },
  {
   "cell_type": "markdown",
   "metadata": {},
   "source": [
    "# Testing"
   ]
  },
  {
   "cell_type": "code",
   "execution_count": null,
   "metadata": {},
   "outputs": [
    {
     "ename": "TypeError",
     "evalue": "SolomonGeo.elt() missing 2 required positional arguments: 'aggregation' and 'year'",
     "output_type": "error",
     "traceback": [
      "\u001b[0;31m---------------------------------------------------------------------------\u001b[0m",
      "\u001b[0;31mTypeError\u001b[0m                                 Traceback (most recent call last)",
      "Cell \u001b[0;32mIn[7], line 1\u001b[0m\n\u001b[0;32m----> 1\u001b[0m sol_geo \u001b[38;5;241m=\u001b[39m \u001b[43mSolomonGeo\u001b[49m\u001b[43m(\u001b[49m\u001b[43m)\u001b[49m\n",
      "Cell \u001b[0;32mIn[4], line 11\u001b[0m, in \u001b[0;36mSolomonGeo.__init__\u001b[0;34m(self)\u001b[0m\n\u001b[1;32m     10\u001b[0m \u001b[38;5;28;01mdef\u001b[39;00m \u001b[38;5;21m__init__\u001b[39m(\u001b[38;5;28mself\u001b[39m):\n\u001b[0;32m---> 11\u001b[0m     \u001b[38;5;28mself\u001b[39m\u001b[38;5;241m.\u001b[39madm3 \u001b[38;5;241m=\u001b[39m \u001b[38;5;28;43mself\u001b[39;49m\u001b[38;5;241;43m.\u001b[39;49m\u001b[43melt\u001b[49m\u001b[43m(\u001b[49m\u001b[43m)\u001b[49m\n",
      "\u001b[0;31mTypeError\u001b[0m: SolomonGeo.elt() missing 2 required positional arguments: 'aggregation' and 'year'"
     ]
    }
   ],
   "source": [
    "sol_geo = SolomonGeo()"
   ]
  },
  {
   "cell_type": "code",
   "execution_count": null,
   "metadata": {},
   "outputs": [],
   "source": [
    "sol_geo.adm3"
   ]
  },
  {
   "cell_type": "code",
   "execution_count": null,
   "metadata": {},
   "outputs": [],
   "source": []
  },
  {
   "cell_type": "code",
   "execution_count": null,
   "metadata": {},
   "outputs": [],
   "source": [
    "#| hide\n",
    "import nbdev; nbdev.nbdev_export()"
   ]
  },
  {
   "cell_type": "code",
   "execution_count": null,
   "metadata": {},
   "outputs": [],
   "source": []
  }
 ],
 "metadata": {
  "kernelspec": {
   "display_name": "python3",
   "language": "python",
   "name": "python3"
  }
 },
 "nbformat": 4,
 "nbformat_minor": 4
}
