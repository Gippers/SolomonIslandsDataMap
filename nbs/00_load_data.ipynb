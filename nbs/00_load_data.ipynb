{
 "cells": [
  {
   "cell_type": "markdown",
   "metadata": {},
   "source": [
    "# Load Data\n",
    "\n",
    "> Functions that load the data for the map.   "
   ]
  },
  {
   "cell_type": "code",
   "execution_count": null,
   "metadata": {},
   "outputs": [],
   "source": [
    "#| default_exp load_data"
   ]
  },
  {
   "cell_type": "code",
   "execution_count": null,
   "metadata": {},
   "outputs": [],
   "source": [
    "#| export\n",
    "from nbdev.showdoc import *\n",
    "import geopandas, pandas\n",
    "from git import Repo"
   ]
  },
  {
   "cell_type": "code",
   "execution_count": null,
   "metadata": {},
   "outputs": [],
   "source": [
    "#| hide\n",
    "repo = Repo('.', search_parent_directories=True)\n",
    "fp = str(repo.working_tree_dir) + \"/testData/\"\n",
    "\n",
    "# Check that the files exist using fastcore"
   ]
  },
  {
   "cell_type": "code",
   "execution_count": null,
   "metadata": {},
   "outputs": [],
   "source": [
    "#| export\n",
    "class SolomonGeo:\n",
    "    '''\n",
    "    Load the solomon islands geographies\n",
    "    '''\n",
    "    def __init__(self):\n",
    "        repo = Repo('.', search_parent_directories=True)\n",
    "        fp = str(repo.working_tree_dir) + \"/testData/\"\n",
    "        adm3 = geopandas.read_file('zip://' +fp + 'slb_admbnda_adm3.zip')\n",
    "        adm3.to_file('myJson.geojson', driver='GeoJSON')\n",
    "\n",
    "        # \n",
    "        self.adm3 = adm3\n",
    "    # TODO create functions to return "
   ]
  },
  {
   "cell_type": "code",
   "execution_count": null,
   "metadata": {},
   "outputs": [
    {
     "data": {
      "text/markdown": [
       "---\n",
       "\n",
       "[source](https://github.com/Gippers/SolomonIslandsDataMap/blob/main/SolomonIslandsDataMap/load_data.py#L12){target=\"_blank\" style=\"float:right; font-size:smaller\"}\n",
       "\n",
       "### SolomonGeo\n",
       "\n",
       ">      SolomonGeo ()\n",
       "\n",
       "Load the solomon islands geographies"
      ],
      "text/plain": [
       "---\n",
       "\n",
       "[source](https://github.com/Gippers/SolomonIslandsDataMap/blob/main/SolomonIslandsDataMap/load_data.py#L12){target=\"_blank\" style=\"float:right; font-size:smaller\"}\n",
       "\n",
       "### SolomonGeo\n",
       "\n",
       ">      SolomonGeo ()\n",
       "\n",
       "Load the solomon islands geographies"
      ]
     },
     "execution_count": null,
     "metadata": {},
     "output_type": "execute_result"
    }
   ],
   "source": [
    "show_doc(SolomonGeo)"
   ]
  },
  {
   "cell_type": "markdown",
   "metadata": {},
   "source": [
    "## Testing"
   ]
  },
  {
   "cell_type": "code",
   "execution_count": null,
   "metadata": {},
   "outputs": [
    {
     "name": "stderr",
     "output_type": "stream",
     "text": [
      "ERROR 1: PROJ: proj_create_from_database: Open of /home/tom/mambaforge/share/proj failed\n"
     ]
    },
    {
     "data": {
      "text/html": [
       "<div>\n",
       "<style scoped>\n",
       "    .dataframe tbody tr th:only-of-type {\n",
       "        vertical-align: middle;\n",
       "    }\n",
       "\n",
       "    .dataframe tbody tr th {\n",
       "        vertical-align: top;\n",
       "    }\n",
       "\n",
       "    .dataframe thead th {\n",
       "        text-align: right;\n",
       "    }\n",
       "</style>\n",
       "<table border=\"1\" class=\"dataframe\">\n",
       "  <thead>\n",
       "    <tr style=\"text-align: right;\">\n",
       "      <th></th>\n",
       "      <th>OBJECTID</th>\n",
       "      <th>SINSO_WID</th>\n",
       "      <th>ADM3_PCODE</th>\n",
       "      <th>ADM3_NAME</th>\n",
       "      <th>ADM2_PCODE</th>\n",
       "      <th>ADM2_NAME</th>\n",
       "      <th>ADM1_PCODE</th>\n",
       "      <th>ADM1_NAME</th>\n",
       "      <th>ADM0_PCODE</th>\n",
       "      <th>COUNTRY</th>\n",
       "      <th>SINSO_CID</th>\n",
       "      <th>SINSO_PID</th>\n",
       "      <th>geometry</th>\n",
       "    </tr>\n",
       "  </thead>\n",
       "  <tbody>\n",
       "    <tr>\n",
       "      <th>0</th>\n",
       "      <td>1</td>\n",
       "      <td>1001</td>\n",
       "      <td>SB1010431001</td>\n",
       "      <td>Nggosi</td>\n",
       "      <td>SB101043</td>\n",
       "      <td>West Honiara</td>\n",
       "      <td>SB10</td>\n",
       "      <td>Honiara</td>\n",
       "      <td>SB</td>\n",
       "      <td>Solomon Islands</td>\n",
       "      <td>1043</td>\n",
       "      <td>10</td>\n",
       "      <td>POLYGON Z ((1104818.130 -1046772.426 0.000, 11...</td>\n",
       "    </tr>\n",
       "    <tr>\n",
       "      <th>1</th>\n",
       "      <td>2</td>\n",
       "      <td>1002</td>\n",
       "      <td>SB1010431002</td>\n",
       "      <td>Mbumburu</td>\n",
       "      <td>SB101043</td>\n",
       "      <td>West Honiara</td>\n",
       "      <td>SB10</td>\n",
       "      <td>Honiara</td>\n",
       "      <td>SB</td>\n",
       "      <td>Solomon Islands</td>\n",
       "      <td>1043</td>\n",
       "      <td>10</td>\n",
       "      <td>POLYGON Z ((1107079.803 -1048040.379 0.000, 11...</td>\n",
       "    </tr>\n",
       "    <tr>\n",
       "      <th>2</th>\n",
       "      <td>3</td>\n",
       "      <td>1003</td>\n",
       "      <td>SB1010431003</td>\n",
       "      <td>Rove - Lengakiki</td>\n",
       "      <td>SB101043</td>\n",
       "      <td>West Honiara</td>\n",
       "      <td>SB10</td>\n",
       "      <td>Honiara</td>\n",
       "      <td>SB</td>\n",
       "      <td>Solomon Islands</td>\n",
       "      <td>1043</td>\n",
       "      <td>10</td>\n",
       "      <td>POLYGON Z ((1106918.942 -1047270.637 0.000, 11...</td>\n",
       "    </tr>\n",
       "    <tr>\n",
       "      <th>3</th>\n",
       "      <td>4</td>\n",
       "      <td>1004</td>\n",
       "      <td>SB1010421004</td>\n",
       "      <td>Cruz</td>\n",
       "      <td>SB101042</td>\n",
       "      <td>Central Honiara</td>\n",
       "      <td>SB10</td>\n",
       "      <td>Honiara</td>\n",
       "      <td>SB</td>\n",
       "      <td>Solomon Islands</td>\n",
       "      <td>1042</td>\n",
       "      <td>10</td>\n",
       "      <td>POLYGON Z ((1107949.631 -1047995.867 0.000, 11...</td>\n",
       "    </tr>\n",
       "    <tr>\n",
       "      <th>4</th>\n",
       "      <td>5</td>\n",
       "      <td>1005</td>\n",
       "      <td>SB1010421005</td>\n",
       "      <td>Vavaea</td>\n",
       "      <td>SB101042</td>\n",
       "      <td>Central Honiara</td>\n",
       "      <td>SB10</td>\n",
       "      <td>Honiara</td>\n",
       "      <td>SB</td>\n",
       "      <td>Solomon Islands</td>\n",
       "      <td>1042</td>\n",
       "      <td>10</td>\n",
       "      <td>POLYGON Z ((1108708.612 -1047377.358 0.000, 11...</td>\n",
       "    </tr>\n",
       "  </tbody>\n",
       "</table>\n",
       "</div>"
      ],
      "text/plain": [
       "   OBJECTID SINSO_WID    ADM3_PCODE         ADM3_NAME ADM2_PCODE  \\\n",
       "0         1      1001  SB1010431001            Nggosi   SB101043   \n",
       "1         2      1002  SB1010431002          Mbumburu   SB101043   \n",
       "2         3      1003  SB1010431003  Rove - Lengakiki   SB101043   \n",
       "3         4      1004  SB1010421004              Cruz   SB101042   \n",
       "4         5      1005  SB1010421005            Vavaea   SB101042   \n",
       "\n",
       "         ADM2_NAME ADM1_PCODE ADM1_NAME ADM0_PCODE          COUNTRY SINSO_CID  \\\n",
       "0     West Honiara       SB10   Honiara         SB  Solomon Islands      1043   \n",
       "1     West Honiara       SB10   Honiara         SB  Solomon Islands      1043   \n",
       "2     West Honiara       SB10   Honiara         SB  Solomon Islands      1043   \n",
       "3  Central Honiara       SB10   Honiara         SB  Solomon Islands      1042   \n",
       "4  Central Honiara       SB10   Honiara         SB  Solomon Islands      1042   \n",
       "\n",
       "  SINSO_PID                                           geometry  \n",
       "0        10  POLYGON Z ((1104818.130 -1046772.426 0.000, 11...  \n",
       "1        10  POLYGON Z ((1107079.803 -1048040.379 0.000, 11...  \n",
       "2        10  POLYGON Z ((1106918.942 -1047270.637 0.000, 11...  \n",
       "3        10  POLYGON Z ((1107949.631 -1047995.867 0.000, 11...  \n",
       "4        10  POLYGON Z ((1108708.612 -1047377.358 0.000, 11...  "
      ]
     },
     "execution_count": null,
     "metadata": {},
     "output_type": "execute_result"
    }
   ],
   "source": [
    "sol_geo = SolomonGeo()\n",
    "sol_geo.adm3.head()"
   ]
  },
  {
   "cell_type": "code",
   "execution_count": null,
   "metadata": {},
   "outputs": [],
   "source": [
    "#| hide\n",
    "import nbdev; nbdev.nbdev_export()"
   ]
  }
 ],
 "metadata": {
  "kernelspec": {
   "display_name": "python3",
   "language": "python",
   "name": "python3"
  }
 },
 "nbformat": 4,
 "nbformat_minor": 4
}
