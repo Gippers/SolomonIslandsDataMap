{
 "cells": [
  {
   "cell_type": "markdown",
   "metadata": {},
   "source": [
    "# Load Data\n",
    "\n",
    "> Functions that load the data for the map.   "
   ]
  },
  {
   "cell_type": "markdown",
   "metadata": {},
   "source": [
    "**Contents**\n",
    "\n",
    "`Solomon Geospatial Data`\n",
    "- `SolomonGeo`: A class that cleans the solomon islandas census and geography data\n",
    "- `SolomonGeo.read_test`: Loads and transforms the test data\n",
    "- `SolomonGeo.get_geojson`: Returns the geo_df as a geojson datatset"
   ]
  },
  {
   "cell_type": "code",
   "execution_count": null,
   "metadata": {},
   "outputs": [],
   "source": [
    "#| default_exp load_data"
   ]
  },
  {
   "cell_type": "code",
   "execution_count": null,
   "metadata": {},
   "outputs": [],
   "source": [
    "#| export\n",
    "from nbdev.showdoc import *\n",
    "import geopandas as gpd\n",
    "import pandas as pd\n",
    "from git import Repo\n",
    "import json\n",
    "from fastcore import *\n",
    "from fastcore.basics import patch\n",
    "from fastcore.test import *\n",
    "import sys\n",
    "import topojson as tp\n",
    "import pickle"
   ]
  },
  {
   "cell_type": "code",
   "execution_count": null,
   "metadata": {},
   "outputs": [],
   "source": [
    "#| hide\n",
    "repo = Repo('.', search_parent_directories=True)\n",
    "fp = str(repo.working_tree_dir) + \"/testData/\"\n",
    "const_df = pd.read_csv(fp + 'sol_census_' + 'constituency' + '_' + '2009' + '.csv')\n",
    "# Check that the files exist using fastcore (both census and geo)"
   ]
  },
  {
   "cell_type": "markdown",
   "metadata": {},
   "source": [
    "## Solomon Geospatial Data\n",
    "> Load the geography and census data\n",
    "### Geography Data\n",
    "Solomons islands geography data is organised at the levels\n",
    " - adm0 - The country as as whole, Solomon Islands\n",
    " - adm1 - Also referred to as the province e.g. Honiara, Malaita\n",
    " - adm2 - The Consituency e.g. Central Honiara\n",
    " - adm3 - Ward, the smallest geography I am reporting. E.g. Cruz\n",
    "\n",
    "### Census Data\n",
    " Solomon islands census data has been used from the 2009 and 2019 census. For the respective census:\n",
    "2009\n",
    " - We have the total population in for each of the administration regions\n",
    "2019\n",
    " - There is only data available down to the province level"
   ]
  },
  {
   "cell_type": "code",
   "execution_count": null,
   "metadata": {},
   "outputs": [],
   "source": [
    "#| export\n",
    "class SolomonGeo:\n",
    "    # TODO work out how to format the attributes\n",
    "    # Look at nbdev docs maybe?\n",
    "    # TODO change all data to int?\n",
    "    # TODO - should I make this a dataclass for the auto functionaliy? potentially should try it out\n",
    "    '''\n",
    "    Load the solomon islands geography data \n",
    "    Attributes:\n",
    "        geo_df    Geopandas dataframe containing geographies and census data\n",
    "        census_vars    A list of census variables in the dataset \n",
    "    '''\n",
    "    def __init__(self, \n",
    "                geo_df:gpd.GeoDataFrame): # A geopandas dataset containing population and geography boundaries for each aggregation\n",
    "        self.geo_df = geo_df\n",
    "\n",
    "        # Save a list of census variables\n",
    "        col_ignore = ['geometry', 'id', 'agg', 'year']\n",
    "        self.census_vars = list(geo_df.drop(columns = col_ignore).columns)\n",
    "\n",
    "    @classmethod\n",
    "    def read_test(cls,\n",
    "                 ): # A solmon geo class TODO work out how to return self here... (can't?)\n",
    "        '''\n",
    "        Initialise the object using the local testing data\n",
    "        '''\n",
    "        # TODO might need to further abstract this concatenation process\n",
    "        df, geo = cls.extract_from_file('ward', '2009')\n",
    "        gdf_ward = cls.transform('ward', '2009', df, geo)\n",
    "        \n",
    "        df, geo = cls.extract_from_file('constituency', '2009')\n",
    "        gdf_const = cls.transform('constituency', '2009', df, geo)\n",
    "\n",
    "        df, geo = cls.extract_from_file('province', '2009')\n",
    "        gdf_prov = cls.transform('province', '2009', df, geo)\n",
    "        \n",
    "        # Append the datasets together\n",
    "        geo_df = pd.concat([gdf_ward, gdf_const, gdf_prov])\n",
    "\n",
    "        # simplify the geography, use topo to preserver the topology between shapes\n",
    "        topo = tp.Topology(geo_df, prequantize=False)\n",
    "        geo_df = topo.toposimplify(360/43200).to_gdf()\n",
    "\n",
    "\n",
    "        return cls(\n",
    "            geo_df = geo_df\n",
    "        )\n",
    "\n",
    "    @classmethod\n",
    "    def extract_from_file(cls, \n",
    "                            aggregation:str, # Indicates the aggregation of the data\n",
    "                            year:str, # The year of that data, only relevant for census data\n",
    "                 ) -> (pd.DataFrame, \n",
    "                      gpd.GeoDataFrame): # Returns input pandas and geopandas datasets\n",
    "        '''\n",
    "        Extract and return input datasets from file\n",
    "        '''\n",
    "        repo = Repo('.', search_parent_directories=True)\n",
    "        pw = str(repo.working_tree_dir) + \"/testData/\"\n",
    "        return (\n",
    "            pd.read_csv(pw + 'sol_census_' + aggregation + '_' + year + '.csv'), \n",
    "            gpd.read_file(pw + 'sol_geo_' + aggregation + '.json')\n",
    "        )\n",
    "\n",
    "    @classmethod\n",
    "    def transform(cls, \n",
    "            aggregation:str, # Inicates the aggregation of the data\n",
    "            year:str, # The year of that data, only relevant for census data\n",
    "            df:pd.DataFrame, # Uncleaned input census dataset\n",
    "            geo:gpd.GeoDataFrame, # Uncleaned input geospatial dataset\n",
    "           )-> gpd.GeoDataFrame: # The geopandas dataset for given aggregation\n",
    "        '''\n",
    "        Tranform given raw input dataset into a cleaned and combined geopandas dataframe\n",
    "        '''\n",
    "        # Clean the geospatial dataframe\n",
    "        # Rename columns and keep only necessary ones, Note that id can be province id, contsituency id etc.\n",
    "        geo.columns = geo.columns.str.replace(r'^[a-zA-Z]+name$', 'geo_name', case = False, regex = True)\n",
    "        # TODO this assume the key column is the first one (which so far it is...)\n",
    "        geo.rename(columns = {geo.columns[0]:'id'}, inplace=True)\n",
    "        # Dropping geo_name from the geography dataset and relying on census data naming\n",
    "        geo = geo.loc[:, ['id', 'geometry']] \n",
    "        \n",
    "        # Add a column that indicates level of aggregation and one for the year\n",
    "        geo.loc[:, 'agg'] = aggregation\n",
    "        geo.loc[:, 'year'] = year\n",
    "        \n",
    "        # Clean the census data\n",
    "        df = df.dropna()\n",
    "        # Rename columns to be consistent across geography\n",
    "        df.columns = df.columns.str.replace(r'^[a-zA-Z]+_name$', 'geo_name', case = False, regex = True)\n",
    "        # id needs to change types twice so that it is a string of an int\n",
    "        df = df.astype({'id': 'int', 'male_pop':'int', \t'female_pop':'int', 'total_pop':'int'})\n",
    "        df = df.astype({'id': 'str'})\n",
    "        \n",
    "        # Merge the data together\n",
    "        geo_df = geo.merge(df, on=['id']).set_index(\"geo_name\") # , 'geo_name'\n",
    "        return geo_df\n",
    "\n",
    "    @classmethod\n",
    "    def load_pickle(cls,\n",
    "                    folder:str, #file path of the folder to save in\n",
    "                    file_name:str = 'sol_geo.pickle' # file name of the saved class\n",
    "                 ):\n",
    "        '''\n",
    "        Initialise the object from a saved filepath\n",
    "        '''\n",
    "        # TODO work out how to make this a class method\n",
    "        repo = Repo('.', search_parent_directories=True)\n",
    "        pw = str(repo.working_tree_dir) + folder + file_name\n",
    "        \n",
    "        with open(pw, 'rb') as f:\n",
    "            tmp_geo = pickle.load(f)\n",
    "\n",
    "        # TODO  guide said do below line, don't think relevant though\n",
    "        #cls.__dict__.update(tmp_dict) \n",
    "        \n",
    "        return cls(\n",
    "            geo_df = gpd.GeoDataFrame(tmp_geo['geo_df'])\n",
    "        )\n",
    "        "
   ]
  },
  {
   "cell_type": "code",
   "execution_count": null,
   "metadata": {},
   "outputs": [
    {
     "data": {
      "text/markdown": [
       "---\n",
       "\n",
       "[source](https://github.com/Gippers/SolomonIslandsDataMap/blob/main/SolomonIslandsDataMap/load_data.py#L20){target=\"_blank\" style=\"float:right; font-size:smaller\"}\n",
       "\n",
       "### SolomonGeo\n",
       "\n",
       ">      SolomonGeo (geo_df:geopandas.geodataframe.GeoDataFrame)\n",
       "\n",
       "Load the solomon islands geography data \n",
       "Attributes:\n",
       "    geo_df    Geopandas dataframe containing geographies and census data\n",
       "    census_vars    A list of census variables in the dataset\n",
       "\n",
       "|    | **Type** | **Details** |\n",
       "| -- | -------- | ----------- |\n",
       "| geo_df | GeoDataFrame | A geopandas dataset containing population and geography boundaries for each aggregation |"
      ],
      "text/plain": [
       "---\n",
       "\n",
       "[source](https://github.com/Gippers/SolomonIslandsDataMap/blob/main/SolomonIslandsDataMap/load_data.py#L20){target=\"_blank\" style=\"float:right; font-size:smaller\"}\n",
       "\n",
       "### SolomonGeo\n",
       "\n",
       ">      SolomonGeo (geo_df:geopandas.geodataframe.GeoDataFrame)\n",
       "\n",
       "Load the solomon islands geography data \n",
       "Attributes:\n",
       "    geo_df    Geopandas dataframe containing geographies and census data\n",
       "    census_vars    A list of census variables in the dataset\n",
       "\n",
       "|    | **Type** | **Details** |\n",
       "| -- | -------- | ----------- |\n",
       "| geo_df | GeoDataFrame | A geopandas dataset containing population and geography boundaries for each aggregation |"
      ]
     },
     "execution_count": null,
     "metadata": {},
     "output_type": "execute_result"
    }
   ],
   "source": [
    "#| hide\n",
    "show_doc(SolomonGeo)"
   ]
  },
  {
   "cell_type": "code",
   "execution_count": null,
   "metadata": {},
   "outputs": [
    {
     "data": {
      "text/markdown": [
       "---\n",
       "\n",
       "[source](https://github.com/Gippers/SolomonIslandsDataMap/blob/main/SolomonIslandsDataMap/load_data.py#L35){target=\"_blank\" style=\"float:right; font-size:smaller\"}\n",
       "\n",
       "### SolomonGeo.read_test\n",
       "\n",
       ">      SolomonGeo.read_test ()\n",
       "\n",
       "Initialise the object using the local testing data"
      ],
      "text/plain": [
       "---\n",
       "\n",
       "[source](https://github.com/Gippers/SolomonIslandsDataMap/blob/main/SolomonIslandsDataMap/load_data.py#L35){target=\"_blank\" style=\"float:right; font-size:smaller\"}\n",
       "\n",
       "### SolomonGeo.read_test\n",
       "\n",
       ">      SolomonGeo.read_test ()\n",
       "\n",
       "Initialise the object using the local testing data"
      ]
     },
     "execution_count": null,
     "metadata": {},
     "output_type": "execute_result"
    }
   ],
   "source": [
    "#| hide\n",
    "show_doc(SolomonGeo.read_test)"
   ]
  },
  {
   "cell_type": "markdown",
   "metadata": {},
   "source": [
    "## Save and Load"
   ]
  },
  {
   "cell_type": "markdown",
   "metadata": {},
   "source": [
    "### Save Solomon Geo\n",
    "Saves a solmon geo class in a pickle"
   ]
  },
  {
   "cell_type": "code",
   "execution_count": null,
   "metadata": {},
   "outputs": [],
   "source": [
    "#| export\n",
    "@patch\n",
    "def save_pickle(self:SolomonGeo,\n",
    "              folder:str, #file path of the folder to save in\n",
    "                file_name:str = 'sol_geo.pickle' # file name of the saved class\n",
    "             ):\n",
    "    '''\n",
    "    Save a pickle of the SolomonGeo class\n",
    "    '''\n",
    "    repo = Repo('.', search_parent_directories=True)\n",
    "    pw = str(repo.working_tree_dir) + folder + file_name\n",
    "    \n",
    "    f = open(pw, 'wb')\n",
    "    pickle.dump(self.__dict__, f, 2)\n",
    "    f.close()\n",
    "\n",
    "    # For now I will also save the goegraphy in an assets folder\n",
    "    # TODO update this process in future - may need to save elsewhere\n",
    "    # TODO I think I need to save in multiple spots\n",
    "    pw_asset = str(repo.working_tree_dir) + \"/assets/sol_geo.json\"\n",
    "    with open(pw_asset, 'w') as f:\n",
    "        json.dump(self.get_geojson(agg_filter = 'ward'), f)\n"
   ]
  },
  {
   "cell_type": "code",
   "execution_count": null,
   "metadata": {},
   "outputs": [
    {
     "data": {
      "text/markdown": [
       "---\n",
       "\n",
       "[source](https://github.com/Gippers/SolomonIslandsDataMap/blob/main/SolomonIslandsDataMap/load_data.py#L137){target=\"_blank\" style=\"float:right; font-size:smaller\"}\n",
       "\n",
       "### SolomonGeo.save_pickle\n",
       "\n",
       ">      SolomonGeo.save_pickle (folder:str, file_name:str='sol_geo.pickle')\n",
       "\n",
       "Save a pickle of the SolomonGeo class\n",
       "\n",
       "|    | **Type** | **Default** | **Details** |\n",
       "| -- | -------- | ----------- | ----------- |\n",
       "| folder | str |  | file path of the folder to save in |\n",
       "| file_name | str | sol_geo.pickle | file name of the saved class |"
      ],
      "text/plain": [
       "---\n",
       "\n",
       "[source](https://github.com/Gippers/SolomonIslandsDataMap/blob/main/SolomonIslandsDataMap/load_data.py#L137){target=\"_blank\" style=\"float:right; font-size:smaller\"}\n",
       "\n",
       "### SolomonGeo.save_pickle\n",
       "\n",
       ">      SolomonGeo.save_pickle (folder:str, file_name:str='sol_geo.pickle')\n",
       "\n",
       "Save a pickle of the SolomonGeo class\n",
       "\n",
       "|    | **Type** | **Default** | **Details** |\n",
       "| -- | -------- | ----------- | ----------- |\n",
       "| folder | str |  | file path of the folder to save in |\n",
       "| file_name | str | sol_geo.pickle | file name of the saved class |"
      ]
     },
     "execution_count": null,
     "metadata": {},
     "output_type": "execute_result"
    }
   ],
   "source": [
    "show_doc(SolomonGeo.save_pickle)"
   ]
  },
  {
   "cell_type": "code",
   "execution_count": null,
   "metadata": {},
   "outputs": [
    {
     "data": {
      "text/markdown": [
       "---\n",
       "\n",
       "[source](https://github.com/Gippers/SolomonIslandsDataMap/blob/main/SolomonIslandsDataMap/load_data.py#L113){target=\"_blank\" style=\"float:right; font-size:smaller\"}\n",
       "\n",
       "### SolomonGeo.load_pickle\n",
       "\n",
       ">      SolomonGeo.load_pickle (folder:str, file_name:str='sol_geo.pickle')\n",
       "\n",
       "Initialise the object from a saved filepath\n",
       "\n",
       "|    | **Type** | **Default** | **Details** |\n",
       "| -- | -------- | ----------- | ----------- |\n",
       "| folder | str |  | file path of the folder to save in |\n",
       "| file_name | str | sol_geo.pickle | file name of the saved class |"
      ],
      "text/plain": [
       "---\n",
       "\n",
       "[source](https://github.com/Gippers/SolomonIslandsDataMap/blob/main/SolomonIslandsDataMap/load_data.py#L113){target=\"_blank\" style=\"float:right; font-size:smaller\"}\n",
       "\n",
       "### SolomonGeo.load_pickle\n",
       "\n",
       ">      SolomonGeo.load_pickle (folder:str, file_name:str='sol_geo.pickle')\n",
       "\n",
       "Initialise the object from a saved filepath\n",
       "\n",
       "|    | **Type** | **Default** | **Details** |\n",
       "| -- | -------- | ----------- | ----------- |\n",
       "| folder | str |  | file path of the folder to save in |\n",
       "| file_name | str | sol_geo.pickle | file name of the saved class |"
      ]
     },
     "execution_count": null,
     "metadata": {},
     "output_type": "execute_result"
    }
   ],
   "source": [
    "show_doc(SolomonGeo.load_pickle)"
   ]
  },
  {
   "cell_type": "markdown",
   "metadata": {},
   "source": [
    "## Get Geo JSON\n",
    "A getter method for the geometry portion of the dataset that returns a geoJson formated geography. \n",
    "\n",
    "It only includes the geography and location name as id"
   ]
  },
  {
   "cell_type": "code",
   "execution_count": null,
   "metadata": {},
   "outputs": [],
   "source": [
    "#| export\n",
    "@patch\n",
    "def get_geojson(self:SolomonGeo, \n",
    "                agg_filter:str = None, # Filters the geojson to the requested aggregation \n",
    "               ) -> dict: # Geo JSON formatted dataset\n",
    "    '''\n",
    "    A getter method for the SolomonGeo class that returns a Geo JSON formatted dataset\n",
    "    '''\n",
    "    ret = self.geo_df\n",
    "    if agg_filter is not None:\n",
    "        ret = ret.loc[ret['agg'] == agg_filter, :]\n",
    "    # Return only the core data to minimise the html size\n",
    "    return json.loads(ret.loc[:, ['geometry']].to_json())"
   ]
  },
  {
   "cell_type": "code",
   "execution_count": null,
   "metadata": {},
   "outputs": [
    {
     "data": {
      "text/markdown": [
       "---\n",
       "\n",
       "[source](https://github.com/Gippers/SolomonIslandsDataMap/blob/main/SolomonIslandsDataMap/load_data.py#L161){target=\"_blank\" style=\"float:right; font-size:smaller\"}\n",
       "\n",
       "### SolomonGeo.get_geojson\n",
       "\n",
       ">      SolomonGeo.get_geojson (agg_filter:str=None)\n",
       "\n",
       "A getter method for the SolomonGeo class that returns a Geo JSON formatted dataset\n",
       "\n",
       "|    | **Type** | **Default** | **Details** |\n",
       "| -- | -------- | ----------- | ----------- |\n",
       "| agg_filter | str | None | Filters the geojson to the requested aggregation |\n",
       "| **Returns** | **dict** |  | **Geo JSON formatted dataset** |"
      ],
      "text/plain": [
       "---\n",
       "\n",
       "[source](https://github.com/Gippers/SolomonIslandsDataMap/blob/main/SolomonIslandsDataMap/load_data.py#L161){target=\"_blank\" style=\"float:right; font-size:smaller\"}\n",
       "\n",
       "### SolomonGeo.get_geojson\n",
       "\n",
       ">      SolomonGeo.get_geojson (agg_filter:str=None)\n",
       "\n",
       "A getter method for the SolomonGeo class that returns a Geo JSON formatted dataset\n",
       "\n",
       "|    | **Type** | **Default** | **Details** |\n",
       "| -- | -------- | ----------- | ----------- |\n",
       "| agg_filter | str | None | Filters the geojson to the requested aggregation |\n",
       "| **Returns** | **dict** |  | **Geo JSON formatted dataset** |"
      ]
     },
     "execution_count": null,
     "metadata": {},
     "output_type": "execute_result"
    }
   ],
   "source": [
    "#| hide\n",
    "show_doc(SolomonGeo.get_geojson)"
   ]
  },
  {
   "cell_type": "code",
   "execution_count": null,
   "metadata": {},
   "outputs": [],
   "source": [
    "#| export\n",
    "@patch\n",
    "def get_df(self:SolomonGeo, \n",
    "                agg_filter:str = None, # Filters the dataframe to the requested aggregation \n",
    "               ) -> pd.DataFrame: # Pandas Dataframe containing population data\n",
    "    '''\n",
    "    A getter method for the SolomonGeo class that returns a pandas dataset containg\n",
    "    the id variable and the total population variable. This is the minimal data required\n",
    "    to display on the map. \n",
    "    '''\n",
    "    ret = self.geo_df\n",
    "    # TODO check that filter is valid\n",
    "    if agg_filter is not None:\n",
    "        ret = ret.loc[ret['agg'] == agg_filter, :]\n",
    "    # Return only the core data to minimise the html size\n",
    "    names = ['geometry', 'id', 'agg', 'year']\n",
    "    return pd.DataFrame(ret.drop(columns = names))"
   ]
  },
  {
   "cell_type": "code",
   "execution_count": null,
   "metadata": {},
   "outputs": [
    {
     "data": {
      "text/markdown": [
       "---\n",
       "\n",
       "[source](https://github.com/Gippers/SolomonIslandsDataMap/blob/main/SolomonIslandsDataMap/load_data.py#L175){target=\"_blank\" style=\"float:right; font-size:smaller\"}\n",
       "\n",
       "### SolomonGeo.get_df\n",
       "\n",
       ">      SolomonGeo.get_df (agg_filter:str=None)\n",
       "\n",
       "A getter method for the SolomonGeo class that returns a pandas dataset containg\n",
       "the id variable and the total population variable. This is the minimal data required\n",
       "to display on the map.\n",
       "\n",
       "|    | **Type** | **Default** | **Details** |\n",
       "| -- | -------- | ----------- | ----------- |\n",
       "| agg_filter | str | None | Filters the dataframe to the requested aggregation |\n",
       "| **Returns** | **DataFrame** |  | **Pandas Dataframe containing population data** |"
      ],
      "text/plain": [
       "---\n",
       "\n",
       "[source](https://github.com/Gippers/SolomonIslandsDataMap/blob/main/SolomonIslandsDataMap/load_data.py#L175){target=\"_blank\" style=\"float:right; font-size:smaller\"}\n",
       "\n",
       "### SolomonGeo.get_df\n",
       "\n",
       ">      SolomonGeo.get_df (agg_filter:str=None)\n",
       "\n",
       "A getter method for the SolomonGeo class that returns a pandas dataset containg\n",
       "the id variable and the total population variable. This is the minimal data required\n",
       "to display on the map.\n",
       "\n",
       "|    | **Type** | **Default** | **Details** |\n",
       "| -- | -------- | ----------- | ----------- |\n",
       "| agg_filter | str | None | Filters the dataframe to the requested aggregation |\n",
       "| **Returns** | **DataFrame** |  | **Pandas Dataframe containing population data** |"
      ]
     },
     "execution_count": null,
     "metadata": {},
     "output_type": "execute_result"
    }
   ],
   "source": [
    "#| hide\n",
    "show_doc(SolomonGeo.get_df)"
   ]
  },
  {
   "cell_type": "markdown",
   "metadata": {},
   "source": [
    "# Testing"
   ]
  },
  {
   "cell_type": "code",
   "execution_count": null,
   "metadata": {},
   "outputs": [],
   "source": [
    "sol_geo = SolomonGeo.read_test()"
   ]
  },
  {
   "cell_type": "code",
   "execution_count": null,
   "metadata": {},
   "outputs": [
    {
     "data": {
      "text/html": [
       "<div>\n",
       "<style scoped>\n",
       "    .dataframe tbody tr th:only-of-type {\n",
       "        vertical-align: middle;\n",
       "    }\n",
       "\n",
       "    .dataframe tbody tr th {\n",
       "        vertical-align: top;\n",
       "    }\n",
       "\n",
       "    .dataframe thead th {\n",
       "        text-align: right;\n",
       "    }\n",
       "</style>\n",
       "<table border=\"1\" class=\"dataframe\">\n",
       "  <thead>\n",
       "    <tr style=\"text-align: right;\">\n",
       "      <th></th>\n",
       "      <th>geometry</th>\n",
       "      <th>id</th>\n",
       "      <th>agg</th>\n",
       "      <th>year</th>\n",
       "      <th>male_pop</th>\n",
       "      <th>female_pop</th>\n",
       "      <th>total_pop</th>\n",
       "    </tr>\n",
       "  </thead>\n",
       "  <tbody>\n",
       "    <tr>\n",
       "      <th>Nggosi</th>\n",
       "      <td>MULTIPOLYGON (((159.94071 -9.42825, 159.91806 ...</td>\n",
       "      <td>1001</td>\n",
       "      <td>ward</td>\n",
       "      <td>2009</td>\n",
       "      <td>5240</td>\n",
       "      <td>4822</td>\n",
       "      <td>10062</td>\n",
       "    </tr>\n",
       "    <tr>\n",
       "      <th>Mbumburu</th>\n",
       "      <td>MULTIPOLYGON (((159.95194 -9.43454, 159.93912 ...</td>\n",
       "      <td>1002</td>\n",
       "      <td>ward</td>\n",
       "      <td>2009</td>\n",
       "      <td>1912</td>\n",
       "      <td>1713</td>\n",
       "      <td>3625</td>\n",
       "    </tr>\n",
       "    <tr>\n",
       "      <th>Rove - Lengakiki</th>\n",
       "      <td>MULTIPOLYGON (((159.95162 -9.42894, 159.94071 ...</td>\n",
       "      <td>1003</td>\n",
       "      <td>ward</td>\n",
       "      <td>2009</td>\n",
       "      <td>1464</td>\n",
       "      <td>1149</td>\n",
       "      <td>2613</td>\n",
       "    </tr>\n",
       "    <tr>\n",
       "      <th>Cruz</th>\n",
       "      <td>MULTIPOLYGON (((159.95288 -9.43426, 159.95311 ...</td>\n",
       "      <td>1004</td>\n",
       "      <td>ward</td>\n",
       "      <td>2009</td>\n",
       "      <td>125</td>\n",
       "      <td>107</td>\n",
       "      <td>232</td>\n",
       "    </tr>\n",
       "    <tr>\n",
       "      <th>Vavaea</th>\n",
       "      <td>MULTIPOLYGON (((159.96243 -9.43309, 159.95694 ...</td>\n",
       "      <td>1005</td>\n",
       "      <td>ward</td>\n",
       "      <td>2009</td>\n",
       "      <td>3788</td>\n",
       "      <td>3208</td>\n",
       "      <td>6996</td>\n",
       "    </tr>\n",
       "    <tr>\n",
       "      <th>...</th>\n",
       "      <td>...</td>\n",
       "      <td>...</td>\n",
       "      <td>...</td>\n",
       "      <td>...</td>\n",
       "      <td>...</td>\n",
       "      <td>...</td>\n",
       "      <td>...</td>\n",
       "    </tr>\n",
       "    <tr>\n",
       "      <th>Rennell-Bell</th>\n",
       "      <td>MULTIPOLYGON (((160.00120 -11.46231, 159.98697...</td>\n",
       "      <td>5</td>\n",
       "      <td>province</td>\n",
       "      <td>2009</td>\n",
       "      <td>1549</td>\n",
       "      <td>1492</td>\n",
       "      <td>3041</td>\n",
       "    </tr>\n",
       "    <tr>\n",
       "      <th>Guadalcanal</th>\n",
       "      <td>MULTIPOLYGON (((160.85478 -9.83830, 160.85295 ...</td>\n",
       "      <td>6</td>\n",
       "      <td>province</td>\n",
       "      <td>2009</td>\n",
       "      <td>48283</td>\n",
       "      <td>45330</td>\n",
       "      <td>93613</td>\n",
       "    </tr>\n",
       "    <tr>\n",
       "      <th>Malaita</th>\n",
       "      <td>MULTIPOLYGON (((161.39845 -9.57862, 161.39904 ...</td>\n",
       "      <td>7</td>\n",
       "      <td>province</td>\n",
       "      <td>2009</td>\n",
       "      <td>69232</td>\n",
       "      <td>68364</td>\n",
       "      <td>137596</td>\n",
       "    </tr>\n",
       "    <tr>\n",
       "      <th>Makira-Ulawa</th>\n",
       "      <td>MULTIPOLYGON (((162.45571 -10.88208, 162.43361...</td>\n",
       "      <td>8</td>\n",
       "      <td>province</td>\n",
       "      <td>2009</td>\n",
       "      <td>20789</td>\n",
       "      <td>19630</td>\n",
       "      <td>40419</td>\n",
       "    </tr>\n",
       "    <tr>\n",
       "      <th>Temotu</th>\n",
       "      <td>MULTIPOLYGON (((168.84036 -12.28504, 168.82691...</td>\n",
       "      <td>9</td>\n",
       "      <td>province</td>\n",
       "      <td>2009</td>\n",
       "      <td>10466</td>\n",
       "      <td>10896</td>\n",
       "      <td>21362</td>\n",
       "    </tr>\n",
       "  </tbody>\n",
       "</table>\n",
       "<p>243 rows × 7 columns</p>\n",
       "</div>"
      ],
      "text/plain": [
       "                                                           geometry    id  \\\n",
       "Nggosi            MULTIPOLYGON (((159.94071 -9.42825, 159.91806 ...  1001   \n",
       "Mbumburu          MULTIPOLYGON (((159.95194 -9.43454, 159.93912 ...  1002   \n",
       "Rove - Lengakiki  MULTIPOLYGON (((159.95162 -9.42894, 159.94071 ...  1003   \n",
       "Cruz              MULTIPOLYGON (((159.95288 -9.43426, 159.95311 ...  1004   \n",
       "Vavaea            MULTIPOLYGON (((159.96243 -9.43309, 159.95694 ...  1005   \n",
       "...                                                             ...   ...   \n",
       "Rennell-Bell      MULTIPOLYGON (((160.00120 -11.46231, 159.98697...     5   \n",
       "Guadalcanal       MULTIPOLYGON (((160.85478 -9.83830, 160.85295 ...     6   \n",
       "Malaita           MULTIPOLYGON (((161.39845 -9.57862, 161.39904 ...     7   \n",
       "Makira-Ulawa      MULTIPOLYGON (((162.45571 -10.88208, 162.43361...     8   \n",
       "Temotu            MULTIPOLYGON (((168.84036 -12.28504, 168.82691...     9   \n",
       "\n",
       "                       agg  year  male_pop  female_pop  total_pop  \n",
       "Nggosi                ward  2009      5240        4822      10062  \n",
       "Mbumburu              ward  2009      1912        1713       3625  \n",
       "Rove - Lengakiki      ward  2009      1464        1149       2613  \n",
       "Cruz                  ward  2009       125         107        232  \n",
       "Vavaea                ward  2009      3788        3208       6996  \n",
       "...                    ...   ...       ...         ...        ...  \n",
       "Rennell-Bell      province  2009      1549        1492       3041  \n",
       "Guadalcanal       province  2009     48283       45330      93613  \n",
       "Malaita           province  2009     69232       68364     137596  \n",
       "Makira-Ulawa      province  2009     20789       19630      40419  \n",
       "Temotu            province  2009     10466       10896      21362  \n",
       "\n",
       "[243 rows x 7 columns]"
      ]
     },
     "execution_count": null,
     "metadata": {},
     "output_type": "execute_result"
    }
   ],
   "source": [
    "sol_geo.geo_df"
   ]
  },
  {
   "cell_type": "markdown",
   "metadata": {},
   "source": [
    "Save and Load"
   ]
  },
  {
   "cell_type": "code",
   "execution_count": null,
   "metadata": {},
   "outputs": [],
   "source": [
    "sol_geo.save_pickle('/testData/')"
   ]
  },
  {
   "cell_type": "code",
   "execution_count": null,
   "metadata": {},
   "outputs": [
    {
     "data": {
      "text/plain": [
       "<__main__.SolomonGeo>"
      ]
     },
     "execution_count": null,
     "metadata": {},
     "output_type": "execute_result"
    }
   ],
   "source": [
    "SolomonGeo.load_pickle('/testData/')"
   ]
  },
  {
   "cell_type": "code",
   "execution_count": null,
   "metadata": {},
   "outputs": [],
   "source": [
    "# TODO work out how to check save and load are the same as a test\n",
    "# Might need to wreite and equality function"
   ]
  },
  {
   "cell_type": "code",
   "execution_count": null,
   "metadata": {},
   "outputs": [
    {
     "data": {
      "text/plain": [
       "geometry      50\n",
       "id            50\n",
       "agg           50\n",
       "year          50\n",
       "male_pop      50\n",
       "female_pop    50\n",
       "total_pop     50\n",
       "dtype: int64"
      ]
     },
     "execution_count": null,
     "metadata": {},
     "output_type": "execute_result"
    }
   ],
   "source": [
    "# TODO should do a count check for the geojson similar to this\n",
    "sol_geo.geo_df[sol_geo.geo_df['agg'] == 'constituency'].count()"
   ]
  },
  {
   "cell_type": "code",
   "execution_count": null,
   "metadata": {},
   "outputs": [],
   "source": [
    "# TODO filter and test equality?\n",
    "test = sol_geo.get_geojson(agg_filter = 'ward')"
   ]
  },
  {
   "cell_type": "markdown",
   "metadata": {},
   "source": [
    "The sum after merging and filtering should equal the sum from the raw dataset."
   ]
  },
  {
   "cell_type": "code",
   "execution_count": null,
   "metadata": {},
   "outputs": [],
   "source": [
    "test_eq(sol_geo.get_df(agg_filter = 'constituency')['total_pop'].sum(), const_df['total_pop'].sum())"
   ]
  },
  {
   "cell_type": "code",
   "execution_count": null,
   "metadata": {},
   "outputs": [],
   "source": [
    "# TODO - test that there are enough rows - don't drop any during merging..."
   ]
  },
  {
   "cell_type": "code",
   "execution_count": null,
   "metadata": {},
   "outputs": [
    {
     "data": {
      "text/plain": [
       "male_pop      264455\n",
       "female_pop    251415\n",
       "total_pop     515870\n",
       "dtype: int64"
      ]
     },
     "execution_count": null,
     "metadata": {},
     "output_type": "execute_result"
    }
   ],
   "source": [
    "sol_geo.get_df(agg_filter = 'province').sum()"
   ]
  },
  {
   "cell_type": "code",
   "execution_count": null,
   "metadata": {},
   "outputs": [],
   "source": [
    "#| hide\n",
    "import nbdev; nbdev.nbdev_export()"
   ]
  },
  {
   "cell_type": "code",
   "execution_count": null,
   "metadata": {},
   "outputs": [],
   "source": []
  }
 ],
 "metadata": {
  "kernelspec": {
   "display_name": "python3",
   "language": "python",
   "name": "python3"
  }
 },
 "nbformat": 4,
 "nbformat_minor": 4
}
