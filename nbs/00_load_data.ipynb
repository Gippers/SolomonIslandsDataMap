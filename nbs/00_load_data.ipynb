{
 "cells": [
  {
   "cell_type": "markdown",
   "metadata": {},
   "source": [
    "# Load Data\n",
    "\n",
    "> Functions that load the data for the map.   "
   ]
  },
  {
   "cell_type": "markdown",
   "metadata": {},
   "source": [
    "**Contents**\n",
    "\n",
    "`Solomon Geospatial Data`\n",
    "- `SolomonGeo`: A class that cleans the solomon islandas census and geography data\n",
    "- `SolomonGeo.read_test`: Loads and transforms the test data\n",
    "- `SolomonGeo.get_geojson`: Returns the geo_df as a geojson datatset"
   ]
  },
  {
   "cell_type": "code",
   "execution_count": null,
   "metadata": {},
   "outputs": [],
   "source": [
    "#| default_exp load_data"
   ]
  },
  {
   "cell_type": "code",
   "execution_count": null,
   "metadata": {},
   "outputs": [],
   "source": [
    "#| export\n",
    "from nbdev.showdoc import *\n",
    "import geopandas as gpd\n",
    "import pandas as pd\n",
    "from git import Repo\n",
    "import json\n",
    "from fastcore import *\n",
    "from fastcore.basics import patch\n",
    "from fastcore.test import *\n",
    "import sys\n",
    "#import topojson as tp"
   ]
  },
  {
   "cell_type": "code",
   "execution_count": null,
   "metadata": {},
   "outputs": [],
   "source": [
    "#| hide\n",
    "repo = Repo('.', search_parent_directories=True)\n",
    "fp = str(repo.working_tree_dir) + \"/testData/\"\n",
    "const_df = pd.read_csv(fp + 'sol_census_' + 'constituency' + '_' + '2009' + '.csv')\n",
    "# Check that the files exist using fastcore (both census and geo)"
   ]
  },
  {
   "cell_type": "markdown",
   "metadata": {},
   "source": [
    "## Solomon Geospatial Data\n",
    "> Load the geography and census data\n",
    "### Geography Data\n",
    "Solomons islands geography data is organised at the levels\n",
    " - adm0 - The country as as whole, Solomon Islands\n",
    " - adm1 - Also referred to as the province e.g. Honiara, Malaita\n",
    " - adm2 - The Consituency e.g. Central Honiara\n",
    " - adm3 - Ward, the smallest geography I am reporting. E.g. Cruz\n",
    "\n",
    "### Census Data\n",
    " Solomon islands census data has been used from the 2009 and 2019 census. For the respective census:\n",
    "2009\n",
    " - We have the total population in for each of the administration regions\n",
    "2019\n",
    " - There is only data available down to the province level"
   ]
  },
  {
   "cell_type": "code",
   "execution_count": null,
   "metadata": {},
   "outputs": [],
   "source": [
    "#| export\n",
    "class SolomonGeo:\n",
    "    # TODO work out how to format the attributes\n",
    "    # Look at nbdev docs maybe?\n",
    "    # TODO change all data to int?\n",
    "    # TODO - should I make this a dataclass for the auto functionaliy? potentially should try it out\n",
    "    '''\n",
    "    Load the solomon islands geography data \n",
    "    Attributes:\n",
    "        geo_df    Geopandas dataframe containing geographies and census data\n",
    "    '''\n",
    "    def __init__(self, \n",
    "                geo_df:gpd.GeoDataFrame): # A geopandas dataset containing population and geography boundaries for each aggregation\n",
    "        self.geo_df = geo_df\n",
    "\n",
    "    @classmethod\n",
    "    def read_test(cls,\n",
    "                 )-> gpd.GeoDataFrame: # The geopandas dataset for given aggregation\n",
    "        '''\n",
    "        Initialise the object using the local testing data\n",
    "        '''\n",
    "        # TODO might need to further abstract this concatenation process\n",
    "        df, geo = cls.extract_from_file('ward', '2009')\n",
    "        gdf_ward = cls.transform('ward', '2009', df, geo)\n",
    "        \n",
    "        df, geo = cls.extract_from_file('constituency', '2009')\n",
    "        gdf_const = cls.transform('constituency', '2009', df, geo)\n",
    "\n",
    "        df, geo = cls.extract_from_file('province', '2009')\n",
    "        gdf_prov = cls.transform('province', '2009', df, geo)\n",
    "        \n",
    "        # Append the datasets together\n",
    "        geo_df = pd.concat([gdf_ward, gdf_const, gdf_prov])\n",
    "\n",
    "        # simplify the geography\n",
    "        geo_df.geometry = geo_df.geometry.simplify(tolerance = 360/43200)\n",
    "        # TODO use topo to preserver the topology between shapes\n",
    "        #topo = tp.Topology(gdf, prequantize=False)\n",
    "        #gdf_simplified = topo.toposimplify(5).to_gdf()\n",
    "\n",
    "        return cls(\n",
    "            geo_df = geo_df\n",
    "        )\n",
    "\n",
    "    @classmethod\n",
    "    def extract_from_file(cls, \n",
    "                            aggregation:str, # Indicates the aggregation of the data\n",
    "                            year:str, # The year of that data, only relevant for census data\n",
    "                 ) -> (pd.DataFrame, \n",
    "                      gpd.GeoDataFrame): # Returns input pandas and geopandas datasets\n",
    "        '''\n",
    "        Extract and return input datasets from file\n",
    "        '''\n",
    "        repo = Repo('.', search_parent_directories=True)\n",
    "        pw = str(repo.working_tree_dir) + \"/testData/\"\n",
    "        return (\n",
    "            pd.read_csv(pw + 'sol_census_' + aggregation + '_' + year + '.csv'), \n",
    "            gpd.read_file(pw + 'sol_geo_' + aggregation + '.json')\n",
    "        )\n",
    "\n",
    "    @classmethod\n",
    "    def transform(cls, \n",
    "            aggregation:str, # Inicates the aggregation of the data\n",
    "            year:str, # The year of that data, only relevant for census data\n",
    "            df:pd.DataFrame, # Uncleaned input census dataset\n",
    "            geo:gpd.GeoDataFrame, # Uncleaned input geospatial dataset\n",
    "           )-> gpd.GeoDataFrame: # The geopandas dataset for given aggregation\n",
    "        '''\n",
    "        Tranform given raw input dataset into a cleaned and combined geopandas dataframe\n",
    "        '''\n",
    "        # Clean the geospatial dataframe\n",
    "        # Rename columns and keep only necessary ones, Note that id can be province id, contsituency id etc.\n",
    "        geo.columns = geo.columns.str.replace(r'^[a-zA-Z]+name$', 'geo_name', case = False, regex = True)\n",
    "        # TODO this assume the key column is the first one (which so far it is...)\n",
    "        geo.rename(columns = {geo.columns[0]:'id'}, inplace=True)\n",
    "        # Dropping geo_name from the geography dataset and relying on census data naming\n",
    "        geo = geo.loc[:, ['id', 'geometry']] \n",
    "        \n",
    "        # Add a column that indicates level of aggregation and one for the year\n",
    "        geo.loc[:, 'agg'] = aggregation\n",
    "        geo.loc[:, 'year'] = year\n",
    "        \n",
    "        # Clean the census data\n",
    "        df = df.dropna()\n",
    "        # Rename columns to be consistent across geography\n",
    "        df.columns = df.columns.str.replace(r'^[a-zA-Z]+_name$', 'geo_name', case = False, regex = True)\n",
    "        # id needs to change types twice so that it is a string of an int\n",
    "        df = df.astype({'id': 'int', 'male_pop':'int', \t'female_pop':'int', 'total_pop':'int'})\n",
    "        df = df.astype({'id': 'str'})\n",
    "        \n",
    "        # Merge the data together\n",
    "        geo_df = geo.merge(df, on=['id']).set_index(\"geo_name\") # , 'geo_name'\n",
    "        return geo_df\n",
    "        "
   ]
  },
  {
   "cell_type": "code",
   "execution_count": null,
   "metadata": {},
   "outputs": [
    {
     "data": {
      "text/markdown": [
       "---\n",
       "\n",
       "[source](https://github.com/Gippers/SolomonIslandsDataMap/blob/main/SolomonIslandsDataMap/load_data.py#L19){target=\"_blank\" style=\"float:right; font-size:smaller\"}\n",
       "\n",
       "### SolomonGeo\n",
       "\n",
       ">      SolomonGeo (geo_df:geopandas.geodataframe.GeoDataFrame)\n",
       "\n",
       "Load the solomon islands geography data \n",
       "Attributes:\n",
       "    geo_df    Geopandas dataframe containing geographies and census data\n",
       "\n",
       "|    | **Type** | **Details** |\n",
       "| -- | -------- | ----------- |\n",
       "| geo_df | GeoDataFrame | A geopandas dataset containing population and geography boundaries for each aggregation |"
      ],
      "text/plain": [
       "---\n",
       "\n",
       "[source](https://github.com/Gippers/SolomonIslandsDataMap/blob/main/SolomonIslandsDataMap/load_data.py#L19){target=\"_blank\" style=\"float:right; font-size:smaller\"}\n",
       "\n",
       "### SolomonGeo\n",
       "\n",
       ">      SolomonGeo (geo_df:geopandas.geodataframe.GeoDataFrame)\n",
       "\n",
       "Load the solomon islands geography data \n",
       "Attributes:\n",
       "    geo_df    Geopandas dataframe containing geographies and census data\n",
       "\n",
       "|    | **Type** | **Details** |\n",
       "| -- | -------- | ----------- |\n",
       "| geo_df | GeoDataFrame | A geopandas dataset containing population and geography boundaries for each aggregation |"
      ]
     },
     "execution_count": null,
     "metadata": {},
     "output_type": "execute_result"
    }
   ],
   "source": [
    "#| hide\n",
    "show_doc(SolomonGeo)"
   ]
  },
  {
   "cell_type": "code",
   "execution_count": null,
   "metadata": {},
   "outputs": [
    {
     "data": {
      "text/markdown": [
       "---\n",
       "\n",
       "[source](https://github.com/Gippers/SolomonIslandsDataMap/blob/main/SolomonIslandsDataMap/load_data.py#L34){target=\"_blank\" style=\"float:right; font-size:smaller\"}\n",
       "\n",
       "### SolomonGeo.read_test\n",
       "\n",
       ">      SolomonGeo.read_test ()\n",
       "\n",
       "Initialise the object using the local testing data"
      ],
      "text/plain": [
       "---\n",
       "\n",
       "[source](https://github.com/Gippers/SolomonIslandsDataMap/blob/main/SolomonIslandsDataMap/load_data.py#L34){target=\"_blank\" style=\"float:right; font-size:smaller\"}\n",
       "\n",
       "### SolomonGeo.read_test\n",
       "\n",
       ">      SolomonGeo.read_test ()\n",
       "\n",
       "Initialise the object using the local testing data"
      ]
     },
     "execution_count": null,
     "metadata": {},
     "output_type": "execute_result"
    }
   ],
   "source": [
    "#| hide\n",
    "show_doc(SolomonGeo.read_test)"
   ]
  },
  {
   "cell_type": "code",
   "execution_count": null,
   "metadata": {},
   "outputs": [],
   "source": [
    "#| export\n",
    "@patch\n",
    "def get_geojson(self:SolomonGeo, \n",
    "                agg_filter:str = None, # Filters the geojson to the requested aggregation \n",
    "               ) -> dict: # Geo JSON formatted dataset\n",
    "    '''\n",
    "    A getter method for the SolomonGeo class that returns a Geo JSON formatted dataset\n",
    "    '''\n",
    "    ret = self.geo_df\n",
    "    if agg_filter is not None:\n",
    "        ret = ret.loc[ret['agg'] == agg_filter, :]\n",
    "    # Return only the core data to minimise the html size\n",
    "    return json.loads(ret.loc[:, ['geometry']].to_json())"
   ]
  },
  {
   "cell_type": "code",
   "execution_count": null,
   "metadata": {},
   "outputs": [
    {
     "data": {
      "text/markdown": [
       "---\n",
       "\n",
       "[source](https://github.com/Gippers/SolomonIslandsDataMap/blob/main/SolomonIslandsDataMap/load_data.py#L115){target=\"_blank\" style=\"float:right; font-size:smaller\"}\n",
       "\n",
       "### SolomonGeo.get_geojson\n",
       "\n",
       ">      SolomonGeo.get_geojson (agg_filter:str=None)\n",
       "\n",
       "A getter method for the SolomonGeo class that returns a Geo JSON formatted dataset\n",
       "\n",
       "|    | **Type** | **Default** | **Details** |\n",
       "| -- | -------- | ----------- | ----------- |\n",
       "| agg_filter | str | None | Filters the geojson to the requested aggregation |\n",
       "| **Returns** | **dict** |  | **Geo JSON formatted dataset** |"
      ],
      "text/plain": [
       "---\n",
       "\n",
       "[source](https://github.com/Gippers/SolomonIslandsDataMap/blob/main/SolomonIslandsDataMap/load_data.py#L115){target=\"_blank\" style=\"float:right; font-size:smaller\"}\n",
       "\n",
       "### SolomonGeo.get_geojson\n",
       "\n",
       ">      SolomonGeo.get_geojson (agg_filter:str=None)\n",
       "\n",
       "A getter method for the SolomonGeo class that returns a Geo JSON formatted dataset\n",
       "\n",
       "|    | **Type** | **Default** | **Details** |\n",
       "| -- | -------- | ----------- | ----------- |\n",
       "| agg_filter | str | None | Filters the geojson to the requested aggregation |\n",
       "| **Returns** | **dict** |  | **Geo JSON formatted dataset** |"
      ]
     },
     "execution_count": null,
     "metadata": {},
     "output_type": "execute_result"
    }
   ],
   "source": [
    "#| hide\n",
    "show_doc(SolomonGeo.get_geojson)"
   ]
  },
  {
   "cell_type": "code",
   "execution_count": null,
   "metadata": {},
   "outputs": [],
   "source": [
    "#| export\n",
    "@patch\n",
    "def get_df(self:SolomonGeo, \n",
    "                agg_filter:str = None, # Filters the dataframe to the requested aggregation \n",
    "               ) -> pd.DataFrame: # Pandas Dataframe containing population data\n",
    "    '''\n",
    "    A getter method for the SolomonGeo class that returns a pandas dataset containg\n",
    "    the id variable and the total population variable. This is the minimal data required\n",
    "    to display on the map. \n",
    "    '''\n",
    "    ret = self.geo_df\n",
    "    # TODO check that filter is valid\n",
    "    if agg_filter is not None:\n",
    "        ret = ret.loc[ret['agg'] == agg_filter, :]\n",
    "    # Return only the core data to minimise the html size\n",
    "    return pd.DataFrame(ret.loc[:, ['total_pop']])"
   ]
  },
  {
   "cell_type": "code",
   "execution_count": null,
   "metadata": {},
   "outputs": [
    {
     "data": {
      "text/markdown": [
       "---\n",
       "\n",
       "[source](https://github.com/Gippers/SolomonIslandsDataMap/blob/main/SolomonIslandsDataMap/load_data.py#L129){target=\"_blank\" style=\"float:right; font-size:smaller\"}\n",
       "\n",
       "### SolomonGeo.get_df\n",
       "\n",
       ">      SolomonGeo.get_df (agg_filter:str=None)\n",
       "\n",
       "A getter method for the SolomonGeo class that returns a pandas dataset containg\n",
       "the id variable and the total population variable. This is the minimal data required\n",
       "to display on the map.\n",
       "\n",
       "|    | **Type** | **Default** | **Details** |\n",
       "| -- | -------- | ----------- | ----------- |\n",
       "| agg_filter | str | None | Filters the dataframe to the requested aggregation |\n",
       "| **Returns** | **DataFrame** |  | **Pandas Dataframe containing population data** |"
      ],
      "text/plain": [
       "---\n",
       "\n",
       "[source](https://github.com/Gippers/SolomonIslandsDataMap/blob/main/SolomonIslandsDataMap/load_data.py#L129){target=\"_blank\" style=\"float:right; font-size:smaller\"}\n",
       "\n",
       "### SolomonGeo.get_df\n",
       "\n",
       ">      SolomonGeo.get_df (agg_filter:str=None)\n",
       "\n",
       "A getter method for the SolomonGeo class that returns a pandas dataset containg\n",
       "the id variable and the total population variable. This is the minimal data required\n",
       "to display on the map.\n",
       "\n",
       "|    | **Type** | **Default** | **Details** |\n",
       "| -- | -------- | ----------- | ----------- |\n",
       "| agg_filter | str | None | Filters the dataframe to the requested aggregation |\n",
       "| **Returns** | **DataFrame** |  | **Pandas Dataframe containing population data** |"
      ]
     },
     "execution_count": null,
     "metadata": {},
     "output_type": "execute_result"
    }
   ],
   "source": [
    "#| hide\n",
    "show_doc(SolomonGeo.get_df)"
   ]
  },
  {
   "cell_type": "markdown",
   "metadata": {},
   "source": [
    "# Testing"
   ]
  },
  {
   "cell_type": "code",
   "execution_count": null,
   "metadata": {},
   "outputs": [],
   "source": [
    "sol_geo = SolomonGeo.read_test()"
   ]
  },
  {
   "cell_type": "code",
   "execution_count": null,
   "metadata": {},
   "outputs": [
    {
     "data": {
      "text/html": [
       "<div>\n",
       "<style scoped>\n",
       "    .dataframe tbody tr th:only-of-type {\n",
       "        vertical-align: middle;\n",
       "    }\n",
       "\n",
       "    .dataframe tbody tr th {\n",
       "        vertical-align: top;\n",
       "    }\n",
       "\n",
       "    .dataframe thead th {\n",
       "        text-align: right;\n",
       "    }\n",
       "</style>\n",
       "<table border=\"1\" class=\"dataframe\">\n",
       "  <thead>\n",
       "    <tr style=\"text-align: right;\">\n",
       "      <th></th>\n",
       "      <th>id</th>\n",
       "      <th>geometry</th>\n",
       "      <th>agg</th>\n",
       "      <th>year</th>\n",
       "      <th>male_pop</th>\n",
       "      <th>female_pop</th>\n",
       "      <th>total_pop</th>\n",
       "    </tr>\n",
       "    <tr>\n",
       "      <th>geo_name</th>\n",
       "      <th></th>\n",
       "      <th></th>\n",
       "      <th></th>\n",
       "      <th></th>\n",
       "      <th></th>\n",
       "      <th></th>\n",
       "      <th></th>\n",
       "    </tr>\n",
       "  </thead>\n",
       "  <tbody>\n",
       "    <tr>\n",
       "      <th>Nggosi</th>\n",
       "      <td>1001</td>\n",
       "      <td>POLYGON ((159.92475 -9.42335, 159.94071 -9.428...</td>\n",
       "      <td>ward</td>\n",
       "      <td>2009</td>\n",
       "      <td>5240</td>\n",
       "      <td>4822</td>\n",
       "      <td>10062</td>\n",
       "    </tr>\n",
       "    <tr>\n",
       "      <th>Mbumburu</th>\n",
       "      <td>1002</td>\n",
       "      <td>POLYGON ((159.94507 -9.43466, 159.94816 -9.442...</td>\n",
       "      <td>ward</td>\n",
       "      <td>2009</td>\n",
       "      <td>1912</td>\n",
       "      <td>1713</td>\n",
       "      <td>3625</td>\n",
       "    </tr>\n",
       "    <tr>\n",
       "      <th>Rove - Lengakiki</th>\n",
       "      <td>1003</td>\n",
       "      <td>POLYGON ((159.94362 -9.42779, 159.95162 -9.428...</td>\n",
       "      <td>ward</td>\n",
       "      <td>2009</td>\n",
       "      <td>1464</td>\n",
       "      <td>1149</td>\n",
       "      <td>2613</td>\n",
       "    </tr>\n",
       "    <tr>\n",
       "      <th>Cruz</th>\n",
       "      <td>1004</td>\n",
       "      <td>POLYGON ((159.95288 -9.43426, 159.95162 -9.428...</td>\n",
       "      <td>ward</td>\n",
       "      <td>2009</td>\n",
       "      <td>125</td>\n",
       "      <td>107</td>\n",
       "      <td>232</td>\n",
       "    </tr>\n",
       "    <tr>\n",
       "      <th>Vavaea</th>\n",
       "      <td>1005</td>\n",
       "      <td>POLYGON ((159.95970 -9.42874, 159.96065 -9.441...</td>\n",
       "      <td>ward</td>\n",
       "      <td>2009</td>\n",
       "      <td>3788</td>\n",
       "      <td>3208</td>\n",
       "      <td>6996</td>\n",
       "    </tr>\n",
       "    <tr>\n",
       "      <th>...</th>\n",
       "      <td>...</td>\n",
       "      <td>...</td>\n",
       "      <td>...</td>\n",
       "      <td>...</td>\n",
       "      <td>...</td>\n",
       "      <td>...</td>\n",
       "      <td>...</td>\n",
       "    </tr>\n",
       "    <tr>\n",
       "      <th>Rennell-Bell</th>\n",
       "      <td>5</td>\n",
       "      <td>MULTIPOLYGON (((159.99852 -11.46234, 160.09535...</td>\n",
       "      <td>province</td>\n",
       "      <td>2009</td>\n",
       "      <td>1549</td>\n",
       "      <td>1492</td>\n",
       "      <td>3041</td>\n",
       "    </tr>\n",
       "    <tr>\n",
       "      <th>Guadalcanal</th>\n",
       "      <td>6</td>\n",
       "      <td>MULTIPOLYGON (((160.85478 -9.83830, 160.85556 ...</td>\n",
       "      <td>province</td>\n",
       "      <td>2009</td>\n",
       "      <td>48283</td>\n",
       "      <td>45330</td>\n",
       "      <td>93613</td>\n",
       "    </tr>\n",
       "    <tr>\n",
       "      <th>Malaita</th>\n",
       "      <td>7</td>\n",
       "      <td>MULTIPOLYGON (((161.39845 -9.57862, 161.39803 ...</td>\n",
       "      <td>province</td>\n",
       "      <td>2009</td>\n",
       "      <td>69232</td>\n",
       "      <td>68364</td>\n",
       "      <td>137596</td>\n",
       "    </tr>\n",
       "    <tr>\n",
       "      <th>Makira-Ulawa</th>\n",
       "      <td>8</td>\n",
       "      <td>MULTIPOLYGON (((162.45571 -10.88208, 162.45811...</td>\n",
       "      <td>province</td>\n",
       "      <td>2009</td>\n",
       "      <td>20789</td>\n",
       "      <td>19630</td>\n",
       "      <td>40419</td>\n",
       "    </tr>\n",
       "    <tr>\n",
       "      <th>Temotu</th>\n",
       "      <td>9</td>\n",
       "      <td>MULTIPOLYGON (((168.84036 -12.28504, 168.84683...</td>\n",
       "      <td>province</td>\n",
       "      <td>2009</td>\n",
       "      <td>10466</td>\n",
       "      <td>10896</td>\n",
       "      <td>21362</td>\n",
       "    </tr>\n",
       "  </tbody>\n",
       "</table>\n",
       "<p>243 rows × 7 columns</p>\n",
       "</div>"
      ],
      "text/plain": [
       "                    id                                           geometry  \\\n",
       "geo_name                                                                    \n",
       "Nggosi            1001  POLYGON ((159.92475 -9.42335, 159.94071 -9.428...   \n",
       "Mbumburu          1002  POLYGON ((159.94507 -9.43466, 159.94816 -9.442...   \n",
       "Rove - Lengakiki  1003  POLYGON ((159.94362 -9.42779, 159.95162 -9.428...   \n",
       "Cruz              1004  POLYGON ((159.95288 -9.43426, 159.95162 -9.428...   \n",
       "Vavaea            1005  POLYGON ((159.95970 -9.42874, 159.96065 -9.441...   \n",
       "...                ...                                                ...   \n",
       "Rennell-Bell         5  MULTIPOLYGON (((159.99852 -11.46234, 160.09535...   \n",
       "Guadalcanal          6  MULTIPOLYGON (((160.85478 -9.83830, 160.85556 ...   \n",
       "Malaita              7  MULTIPOLYGON (((161.39845 -9.57862, 161.39803 ...   \n",
       "Makira-Ulawa         8  MULTIPOLYGON (((162.45571 -10.88208, 162.45811...   \n",
       "Temotu               9  MULTIPOLYGON (((168.84036 -12.28504, 168.84683...   \n",
       "\n",
       "                       agg  year  male_pop  female_pop  total_pop  \n",
       "geo_name                                                           \n",
       "Nggosi                ward  2009      5240        4822      10062  \n",
       "Mbumburu              ward  2009      1912        1713       3625  \n",
       "Rove - Lengakiki      ward  2009      1464        1149       2613  \n",
       "Cruz                  ward  2009       125         107        232  \n",
       "Vavaea                ward  2009      3788        3208       6996  \n",
       "...                    ...   ...       ...         ...        ...  \n",
       "Rennell-Bell      province  2009      1549        1492       3041  \n",
       "Guadalcanal       province  2009     48283       45330      93613  \n",
       "Malaita           province  2009     69232       68364     137596  \n",
       "Makira-Ulawa      province  2009     20789       19630      40419  \n",
       "Temotu            province  2009     10466       10896      21362  \n",
       "\n",
       "[243 rows x 7 columns]"
      ]
     },
     "execution_count": null,
     "metadata": {},
     "output_type": "execute_result"
    }
   ],
   "source": [
    "sol_geo.geo_df"
   ]
  },
  {
   "cell_type": "code",
   "execution_count": null,
   "metadata": {},
   "outputs": [
    {
     "data": {
      "text/plain": [
       "id            50\n",
       "geometry      50\n",
       "agg           50\n",
       "year          50\n",
       "male_pop      50\n",
       "female_pop    50\n",
       "total_pop     50\n",
       "dtype: int64"
      ]
     },
     "execution_count": null,
     "metadata": {},
     "output_type": "execute_result"
    }
   ],
   "source": [
    "# TODO should do a count check for the geojson similar to this\n",
    "sol_geo.geo_df[sol_geo.geo_df['agg'] == 'constituency'].count()"
   ]
  },
  {
   "cell_type": "code",
   "execution_count": null,
   "metadata": {},
   "outputs": [],
   "source": [
    "# TODO filter and test equality?\n",
    "test = sol_geo.get_geojson(agg_filter = 'ward')"
   ]
  },
  {
   "cell_type": "markdown",
   "metadata": {},
   "source": [
    "The sum after merging and filtering should equal the sum from the raw dataset."
   ]
  },
  {
   "cell_type": "code",
   "execution_count": null,
   "metadata": {},
   "outputs": [],
   "source": [
    "test_eq(sol_geo.get_df(agg_filter = 'constituency')['total_pop'].sum(), const_df['total_pop'].sum())"
   ]
  },
  {
   "cell_type": "code",
   "execution_count": null,
   "metadata": {},
   "outputs": [],
   "source": [
    "# TODO - test that there are enough rows - don't drop any during merging..."
   ]
  },
  {
   "cell_type": "code",
   "execution_count": null,
   "metadata": {},
   "outputs": [
    {
     "data": {
      "text/plain": [
       "total_pop    515870\n",
       "dtype: int64"
      ]
     },
     "execution_count": null,
     "metadata": {},
     "output_type": "execute_result"
    }
   ],
   "source": [
    "sol_geo.get_df(agg_filter = 'province').sum()"
   ]
  },
  {
   "cell_type": "code",
   "execution_count": null,
   "metadata": {},
   "outputs": [],
   "source": [
    "#| hide\n",
    "import nbdev; nbdev.nbdev_export()"
   ]
  },
  {
   "cell_type": "code",
   "execution_count": null,
   "metadata": {},
   "outputs": [],
   "source": []
  }
 ],
 "metadata": {
  "kernelspec": {
   "display_name": "python3",
   "language": "python",
   "name": "python3"
  }
 },
 "nbformat": 4,
 "nbformat_minor": 4
}
