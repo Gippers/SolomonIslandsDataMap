{
 "cells": [
  {
   "cell_type": "markdown",
   "metadata": {},
   "source": [
    "# Load Data\n",
    "\n",
    "> Functions that load the data for the map.   "
   ]
  },
  {
   "cell_type": "markdown",
   "metadata": {},
   "source": [
    "**Contents**\n",
    "\n",
    "`Solomon Geospatial Data`\n",
    "- `SolomonGeo`: A class that cleans the solomon islandas census and geography data\n",
    "- `SolomonGeo.read_test`: Loads and transforms the test data\n",
    "- `SolomonGeo.get_geojson`: Returns the geo_df as a geojson datatset"
   ]
  },
  {
   "cell_type": "code",
   "execution_count": null,
   "metadata": {},
   "outputs": [],
   "source": [
    "#| default_exp load_data"
   ]
  },
  {
   "cell_type": "code",
   "execution_count": null,
   "metadata": {},
   "outputs": [
    {
     "data": {
      "text/plain": [
       "True"
      ]
     },
     "execution_count": null,
     "metadata": {},
     "output_type": "execute_result"
    }
   ],
   "source": [
    "#| export\n",
    "from nbdev.showdoc import *\n",
    "import geopandas as gpd\n",
    "import pandas as pd\n",
    "from git import Repo\n",
    "import json\n",
    "from fastcore import *\n",
    "from fastcore.basics import patch\n",
    "from fastcore.test import *\n",
    "import sys\n",
    "import topojson as tp\n",
    "import pickle\n",
    "from urllib.request import urlopen\n",
    "import boto3\n",
    "from dotenv import load_dotenv\n",
    "from dash import dcc\n",
    "import os\n",
    "import copy\n",
    "\n",
    "load_dotenv()"
   ]
  },
  {
   "cell_type": "code",
   "execution_count": null,
   "metadata": {},
   "outputs": [],
   "source": [
    "#| hide\n",
    "repo = Repo('.', search_parent_directories=True)\n",
    "fp = str(repo.working_tree_dir) + \"/testData/\"\n",
    "const_df = pd.read_csv(fp + 'sol_census_' + 'all' + '_' + '2009_v2.csv')\n",
    "# Check that the files exist using fastcore (both census and geo)"
   ]
  },
  {
   "cell_type": "markdown",
   "metadata": {},
   "source": [
    "## Solomon Geospatial Data\n",
    "> Load the geography and census data\n",
    "### Geography Data\n",
    "Solomons islands geography data is organised at the levels\n",
    " - adm0 - The country as as whole, Solomon Islands\n",
    " - adm1 - Also referred to as the province e.g. Honiara, Malaita\n",
    " - adm2 - The Consituency e.g. Central Honiara\n",
    " - adm3 - Ward, the smallest geography I am reporting. E.g. Cruz\n",
    "\n",
    "### Census Data\n",
    " Solomon islands census data has been used from the 2009 and 2019 census. For the respective census:\n",
    "2009\n",
    " - We have the total population in for each of the administration regions\n",
    "2019\n",
    " - There is only data available down to the province level"
   ]
  },
  {
   "cell_type": "markdown",
   "metadata": {},
   "source": [
    "### Test that the .env variables exist"
   ]
  },
  {
   "cell_type": "code",
   "execution_count": null,
   "metadata": {},
   "outputs": [],
   "source": [
    "#| hide\n",
    "ACCESS_KEY = os.getenv(\"ACCESS_KEY\")\n",
    "SECRET_ACCCESS_KEY = os.getenv(\"SECRET_ACCESS_KEY\")\n",
    "REGION_NAME = os.getenv(\"REGION_NAME\")\n",
    "if len(ACCESS_KEY) == 0:\n",
    "    # If not in .env, then use environment variables\n",
    "    ACCESS_KEY = os.environ[\"ACCESS_KEY\"]\n",
    "    SECRET_ACCCESS_KEY = os.environ[\"SECRET_ACCESS_KEY\"]\n",
    "    REGION_NAME = os.environ[\"REGION_NAME\"]"
   ]
  },
  {
   "cell_type": "code",
   "execution_count": null,
   "metadata": {},
   "outputs": [],
   "source": [
    "# Test that the environment variables can be loaded\n",
    "test(ACCESS_KEY, None, nequals)\n",
    "test(SECRET_ACCCESS_KEY, None, nequals)\n",
    "test(REGION_NAME, None, nequals)\n",
    "test_eq(REGION_NAME, 'ap-southeast-2')"
   ]
  },
  {
   "cell_type": "markdown",
   "metadata": {},
   "source": [
    "## Function for connecting to AWS S3 client"
   ]
  },
  {
   "cell_type": "code",
   "execution_count": null,
   "metadata": {},
   "outputs": [],
   "source": [
    "#| export\n",
    "def s3_client()-> boto3.client:\n",
    "    '''Return a connection to teh AWS s3 client'''\n",
    "    ACCESS_KEY = os.getenv(\"ACCESS_KEY\")\n",
    "    SECRET_ACCCESS_KEY = os.getenv(\"SECRET_ACCESS_KEY\")\n",
    "    REGION_NAME = os.getenv(\"REGION_NAME\")\n",
    "    if len(ACCESS_KEY) == 0:\n",
    "        # If not in .env, then use environment variables\n",
    "        ACCESS_KEY = os.environ[\"ACCESS_KEY\"]\n",
    "        SECRET_ACCCESS_KEY = os.environ[\"SECRET_ACCESS_KEY\"]\n",
    "        REGION_NAME = os.environ[\"REGION_NAME\"]\n",
    "    session = boto3.Session(region_name='ap-southeast-2')\n",
    "    # Creating the low level functional client\n",
    "    return session.client(\n",
    "        's3',\n",
    "        endpoint_url='https://s3.ap-southeast-2.amazonaws.com',\n",
    "        aws_access_key_id = ACCESS_KEY,\n",
    "        aws_secret_access_key = SECRET_ACCCESS_KEY,\n",
    "        region_name = REGION_NAME,\n",
    "    )"
   ]
  },
  {
   "cell_type": "code",
   "execution_count": null,
   "metadata": {},
   "outputs": [
    {
     "data": {
      "text/markdown": [
       "---\n",
       "\n",
       "### s3_client\n",
       "\n",
       ">      s3_client ()\n",
       "\n",
       "Return a connection to teh AWS s3 client"
      ],
      "text/plain": [
       "---\n",
       "\n",
       "### s3_client\n",
       "\n",
       ">      s3_client ()\n",
       "\n",
       "Return a connection to teh AWS s3 client"
      ]
     },
     "execution_count": null,
     "metadata": {},
     "output_type": "execute_result"
    }
   ],
   "source": [
    "#| hide\n",
    "show_doc(s3_client)"
   ]
  },
  {
   "cell_type": "code",
   "execution_count": null,
   "metadata": {},
   "outputs": [],
   "source": [
    "#| export\n",
    "class SolomonGeo:\n",
    "    # TODO work out how to format the attributes\n",
    "    # Look at nbdev docs maybe?\n",
    "    # TODO change all data to int?\n",
    "    # TODO - should I make this a dataclass for the auto functionaliy? potentially should try it out\n",
    "    '''\n",
    "    Load the solomon islands geography data \n",
    "    Attributes:\n",
    "        cen_df    Geopandas dataframe containing geographies and census data\n",
    "        geo_levels    A list of the types of available aggregations\n",
    "        census_vars    A dictionary of census variables in the dataset \n",
    "        data_type   Specifies whether the variable is a percentage or number\n",
    "        locations A dictionary of locations accessed by the geography level\n",
    "    '''\n",
    "    def __init__(self, \n",
    "                cen_df:pd.DataFrame, # A dataset containing the census data,\n",
    "                pop_df:pd.DataFrame, # A dataset contain the population projection data\n",
    "                geos:gpd.GeoDataFrame, # A geodataframe containing geographies of data\n",
    "    ):\n",
    "        self.census = cen_df\n",
    "        self.population = pop_df\n",
    "        self.geo = geos\n",
    "\n",
    "        # variable that tracks the types of aggregations\n",
    "        self.geo_levels = cen_df.loc[:, ('core', 'agg')].unique()\n",
    "\n",
    "        # Save a list of census variables, ignoring the core variables\n",
    "        # Use a dictionary that maps the upper level column names to lower level ones\n",
    "        var_df = cen_df.drop(columns = \"core\", level=0)\n",
    "        vars = {}\n",
    "        for col in var_df.columns:\n",
    "            if col[0] not in vars:\n",
    "                vars[col[0]] = [col[1]]\n",
    "            else:\n",
    "                vars[col[0]].append(col[1])\n",
    "        self.census_vars = vars\n",
    "\n",
    "        # TODO should captialise first letter\n",
    "        self.data_type = cen_df.loc[:, ('core', 'type')].unique()\n",
    "\n",
    "        # save a list of locations as a dictionary access by geography level\n",
    "        locations = {}\n",
    "        for geo in self.geo_levels:\n",
    "            locations[geo] = cen_df.loc[cen_df['core']['agg'] == geo, ('core', 'location')].unique()\n",
    "        self.locations = locations\n",
    "        # TODO: need a list of column sub headings: get from column name split by `:`\n",
    "\n",
    "        self.type_default = 'Total'\n",
    "\n",
    "\n",
    "    @classmethod\n",
    "    def read_test(cls,\n",
    "                 ): # A solmon geo class TODO work out how to return self here... (can't?)\n",
    "        '''\n",
    "        Contsructor that initialises the object from files using the local testing data\n",
    "        '''\n",
    "\n",
    "        repo = Repo('.', search_parent_directories=True)\n",
    "        pw = str(repo.working_tree_dir) + \"/testData/\"\n",
    "        df = pd.read_csv(pw + 'sol_census_all_2009_v2.csv')\n",
    "        pop = pd.read_csv(pw + 'solo_pop_proj_2009.csv')\n",
    "        aggs = df.loc[:, 'agg'].unique()\n",
    "        geos = []\n",
    "        for agg in aggs:\n",
    "            geo = gpd.read_file(pw + 'sol_geo_' + agg.lower() + '.json')\n",
    "            # Add an agg column, as the data and geometry need to be joined by id and agg\n",
    "            geo.loc[:, 'agg'] = agg\n",
    "            geos.append(geo)\n",
    "\n",
    "        ret = cls.__transform(df, pop, geos)\n",
    "        return cls(\n",
    "            cen_df = ret[0],\n",
    "            pop_df = ret[1],\n",
    "            geos = ret[2],\n",
    "        )\n",
    "    \n",
    "    @classmethod\n",
    "    def load_pickle(cls,\n",
    "                    folder:str = \"/testData/\", #file path of the folder to save in\n",
    "                    aws:bool = True, # Whether to load from github or local\n",
    "                    file_name:str = 'sol_geo.pickle' # file name of the saved class\n",
    "                 ):\n",
    "        '''\n",
    "        A constuctor that initialises the object from aws pickle\n",
    "        '''\n",
    "        # Create a connection to AWS server\n",
    "        client = s3_client()\n",
    "\n",
    "        if aws:\n",
    "            # Create the S3 object\n",
    "            obj = client.get_object(\n",
    "                Bucket = 'hobby-data',\n",
    "                Key = file_name, \n",
    "            )\n",
    "\n",
    "            # Read in the pickle\n",
    "            try:\n",
    "                tmp_geo = pickle.load(obj['Body'])\n",
    "            except:\n",
    "                raise ValueError(\"Issue dowloading pickle file from AWS.\")\n",
    "                \n",
    "        else:\n",
    "            # TODO work out how to make this a class method\n",
    "            repo = Repo('.', search_parent_directories=True)\n",
    "            pw = str(repo.working_tree_dir) + folder + file_name\n",
    "            \n",
    "            with open(pw, 'rb') as f:\n",
    "                tmp_geo = pickle.load(f)\n",
    " \n",
    "        \n",
    "        return cls(\n",
    "            cen_df = gpd.GeoDataFrame(tmp_geo['census']),\n",
    "            pop_df = gpd.GeoDataFrame(tmp_geo['population']),\n",
    "            geos = gpd.GeoDataFrame(tmp_geo['geo']),\n",
    "        )\n",
    "        \n",
    "    \n",
    "    @classmethod\n",
    "    def gen_stored(cls,\n",
    "                  json_sol:dict, # A geojson dataset\n",
    "                 ): # A solmon geo class TODO work out how to return self here... (can't?)\n",
    "        '''\n",
    "        A constructor that creates a JSON serialised SolomonGeo object from a stored geopandas dataframe.\n",
    "        The purpose of this is to allow the object to be stored JSON serialised in a DCC.Store object in \n",
    "        the browser before being deserialised and as an object.\n",
    "\n",
    "        Note that storing and the reloading, will result in dropping the geometry.\n",
    "        '''\n",
    "        gdf = gpd.GeoDataFrame(json_sol['geojson'])\n",
    "        cols = gdf.columns.str.extract(r'(.*): (.+)', expand=True)\n",
    "        gdf.columns = pd.MultiIndex.from_arrays((cols[0], cols[1]))\n",
    "        gdf.columns.names = [None]*2\n",
    "        gdf.index.name = 'pk'\n",
    "        return cls(\n",
    "            geo_df = gdf\n",
    "        )\n",
    "    \n",
    "    @classmethod\n",
    "    def __transform(cls, \n",
    "                    df:pd.DataFrame, # The dataframe containing census data\n",
    "                    pop_df:pd.DataFrame, # The dataset containing the population projection data\n",
    "                    l_geos:[gpd.GeoDataFrame], # A list of geopandas dataframes containing \n",
    "                                                # the geographies \n",
    "                 ) -> gpd.GeoDataFrame: # Returns combined dataset\n",
    "        '''\n",
    "        Extract and return input datasets from file. Assumes correct format of input dataset, then\n",
    "        Transform given raw input dataset into a cleaned and combined geopandas dataframe\n",
    "        '''\n",
    "        # TODO seperate out the geometry from the data.\n",
    "        # TODO - make a function that tests that the geo and datasets both join\n",
    "\n",
    "        geos = gpd.GeoDataFrame()\n",
    "        for geo in l_geos:\n",
    "            # Before combining, need to rename like columns\n",
    "            # Rename columns and keep only necessary ones, Note that id can be province id, contsituency id etc.\n",
    "            geo.columns = geo.columns.str.replace(r'^[a-zA-Z]+name$', 'geo_name', case = False, regex = True)\n",
    "            # TODO this assumes the id key column is the first one (which so far it is...)\n",
    "            geo.rename(columns = {geo.columns[0]:'id'}, inplace=True)\n",
    "\n",
    "            geo = geo.loc[:, ['id', 'agg', 'geometry']] \n",
    "\n",
    "            # simplify the geography, use topo to preserver the topology between shapes\n",
    "            topo = tp.Topology(geo, prequantize=False)\n",
    "            geo = topo.toposimplify(720/43200).to_gdf() # old 360/43200\n",
    "\n",
    "            geos = pd.concat([geos, geo])\n",
    "            \n",
    "        # Clean the geospatial dataframe\n",
    "        geos.loc[:, 'year'] = '2009'\n",
    "        \n",
    "        # Clean the census data\n",
    "        df = df.dropna()\n",
    "        # Rename columns to be consistent across geography\n",
    "        df.columns = df.columns.str.replace(r'^[a-zA-Z]+_name$', 'geo_name', case = False, regex = True)\n",
    "        # id needs to change types twice so that it is a string of an int\n",
    "        df = df.astype({'id': 'int'})#, 'male_pop':'int', \t'female_pop':'int', 'total_pop':'int'})\n",
    "        df = df.astype({'id': 'str'})\n",
    "\n",
    "        pop_df = pop_df.astype({'core: id': 'int'})\n",
    "        pop_df = pop_df.astype({'core: id': 'str'})\n",
    "\n",
    "        # Index is unique by type and geoname\n",
    "        df['pk'] = df['geo_name'] + \"_\" + df[\"type\"] \n",
    "        df = df.set_index(\"pk\") \n",
    "\n",
    "        # Rename some of the census data\n",
    "        df = df.rename(columns = {\n",
    "                                'id':'core: id', 'agg':'core: agg', 'geo_name':'core: location',\n",
    "                                'year':'core: year', 'type':'core: type'})\n",
    "\n",
    "        # Test that the datasets all have geographies\n",
    "        test_geo(df, geos)\n",
    "        test_geo(pop_df, geos.loc[geos['agg'] == 'Province'])         \n",
    "\n",
    "        # Convert into a multiindex dataframe, with hiearchical columns\n",
    "        try:\n",
    "            cols = df.columns.str.extract(r'(.*): (.+)', expand=True)\n",
    "            df.columns = pd.MultiIndex.from_arrays((cols[0], cols[1]))\n",
    "            df.columns.names = [None]*2\n",
    "\n",
    "            cols2 = pop_df.columns.str.extract(r'(.*): (.+)', expand=True)\n",
    "            pop_df.columns = pd.MultiIndex.from_arrays((cols2[0], cols2[1])) \n",
    "            pop_df.columns.names = [None]*2\n",
    "        except:\n",
    "            raise ValueError(\"Issue converting geopandas dataframe to multindex. \\\n",
    "                             Check that all columns have \\': \\' beside the following\\\n",
    "                             core columns: geometry, id, agg, year, type.\")\n",
    "                \n",
    "        # return the transformed dataset\n",
    "        return df, pop_df, geos\n"
   ]
  },
  {
   "cell_type": "markdown",
   "metadata": {},
   "source": [
    "# SolomonGeo Data Class\n",
    "This data class manipulates and stores the geospatial and regular data relating to each geography. It includes\n",
    "the necessary data and methods to manipulate that data to build the resulting dash app."
   ]
  },
  {
   "cell_type": "code",
   "execution_count": null,
   "metadata": {},
   "outputs": [
    {
     "data": {
      "text/markdown": [
       "---\n",
       "\n",
       "### SolomonGeo\n",
       "\n",
       ">      SolomonGeo (cen_df:pandas.core.frame.DataFrame,\n",
       ">                  pop_df:pandas.core.frame.DataFrame,\n",
       ">                  geos:geopandas.geodataframe.GeoDataFrame)\n",
       "\n",
       "Load the solomon islands geography data \n",
       "Attributes:\n",
       "    cen_df    Geopandas dataframe containing geographies and census data\n",
       "    geo_levels    A list of the types of available aggregations\n",
       "    census_vars    A dictionary of census variables in the dataset \n",
       "    data_type   Specifies whether the variable is a percentage or number\n",
       "    locations A dictionary of locations accessed by the geography level\n",
       "\n",
       "|    | **Type** | **Details** |\n",
       "| -- | -------- | ----------- |\n",
       "| cen_df | DataFrame | A dataset containing the census data, |\n",
       "| pop_df | DataFrame | A dataset contain the population projection data |\n",
       "| geos | GeoDataFrame | A geodataframe containing geographies of data |"
      ],
      "text/plain": [
       "---\n",
       "\n",
       "### SolomonGeo\n",
       "\n",
       ">      SolomonGeo (cen_df:pandas.core.frame.DataFrame,\n",
       ">                  pop_df:pandas.core.frame.DataFrame,\n",
       ">                  geos:geopandas.geodataframe.GeoDataFrame)\n",
       "\n",
       "Load the solomon islands geography data \n",
       "Attributes:\n",
       "    cen_df    Geopandas dataframe containing geographies and census data\n",
       "    geo_levels    A list of the types of available aggregations\n",
       "    census_vars    A dictionary of census variables in the dataset \n",
       "    data_type   Specifies whether the variable is a percentage or number\n",
       "    locations A dictionary of locations accessed by the geography level\n",
       "\n",
       "|    | **Type** | **Details** |\n",
       "| -- | -------- | ----------- |\n",
       "| cen_df | DataFrame | A dataset containing the census data, |\n",
       "| pop_df | DataFrame | A dataset contain the population projection data |\n",
       "| geos | GeoDataFrame | A geodataframe containing geographies of data |"
      ]
     },
     "execution_count": null,
     "metadata": {},
     "output_type": "execute_result"
    }
   ],
   "source": [
    "#| hide\n",
    "show_doc(SolomonGeo)"
   ]
  },
  {
   "cell_type": "markdown",
   "metadata": {},
   "source": [
    "## Constructors for SolomonGeo class\n",
    "These constudctors are used to build the SolomonGeo objects from various inputs"
   ]
  },
  {
   "cell_type": "code",
   "execution_count": null,
   "metadata": {},
   "outputs": [
    {
     "data": {
      "text/markdown": [
       "---\n",
       "\n",
       "### SolomonGeo.read_test\n",
       "\n",
       ">      SolomonGeo.read_test ()\n",
       "\n",
       "Contsructor that initialises the object from files using the local testing data"
      ],
      "text/plain": [
       "---\n",
       "\n",
       "### SolomonGeo.read_test\n",
       "\n",
       ">      SolomonGeo.read_test ()\n",
       "\n",
       "Contsructor that initialises the object from files using the local testing data"
      ]
     },
     "execution_count": null,
     "metadata": {},
     "output_type": "execute_result"
    }
   ],
   "source": [
    "#| hide\n",
    "show_doc(SolomonGeo.read_test)"
   ]
  },
  {
   "cell_type": "code",
   "execution_count": null,
   "metadata": {},
   "outputs": [
    {
     "data": {
      "text/markdown": [
       "---\n",
       "\n",
       "### SolomonGeo.load_pickle\n",
       "\n",
       ">      SolomonGeo.load_pickle (folder:str='/testData/', aws:bool=True,\n",
       ">                              file_name:str='sol_geo.pickle')\n",
       "\n",
       "A constuctor that initialises the object from aws pickle\n",
       "\n",
       "|    | **Type** | **Default** | **Details** |\n",
       "| -- | -------- | ----------- | ----------- |\n",
       "| folder | str | /testData/ | file path of the folder to save in |\n",
       "| aws | bool | True | Whether to load from github or local |\n",
       "| file_name | str | sol_geo.pickle | file name of the saved class |"
      ],
      "text/plain": [
       "---\n",
       "\n",
       "### SolomonGeo.load_pickle\n",
       "\n",
       ">      SolomonGeo.load_pickle (folder:str='/testData/', aws:bool=True,\n",
       ">                              file_name:str='sol_geo.pickle')\n",
       "\n",
       "A constuctor that initialises the object from aws pickle\n",
       "\n",
       "|    | **Type** | **Default** | **Details** |\n",
       "| -- | -------- | ----------- | ----------- |\n",
       "| folder | str | /testData/ | file path of the folder to save in |\n",
       "| aws | bool | True | Whether to load from github or local |\n",
       "| file_name | str | sol_geo.pickle | file name of the saved class |"
      ]
     },
     "execution_count": null,
     "metadata": {},
     "output_type": "execute_result"
    }
   ],
   "source": [
    "show_doc(SolomonGeo.load_pickle)"
   ]
  },
  {
   "cell_type": "code",
   "execution_count": null,
   "metadata": {},
   "outputs": [
    {
     "data": {
      "text/markdown": [
       "---\n",
       "\n",
       "### SolomonGeo.gen_stored\n",
       "\n",
       ">      SolomonGeo.gen_stored (json_sol:dict)\n",
       "\n",
       "A constructor that creates a JSON serialised SolomonGeo object from a stored geopandas dataframe.\n",
       "The purpose of this is to allow the object to be stored JSON serialised in a DCC.Store object in \n",
       "the browser before being deserialised and as an object.\n",
       "\n",
       "Note that storing and the reloading, will result in dropping the geometry.\n",
       "\n",
       "|    | **Type** | **Details** |\n",
       "| -- | -------- | ----------- |\n",
       "| json_sol | dict | A geojson dataset |"
      ],
      "text/plain": [
       "---\n",
       "\n",
       "### SolomonGeo.gen_stored\n",
       "\n",
       ">      SolomonGeo.gen_stored (json_sol:dict)\n",
       "\n",
       "A constructor that creates a JSON serialised SolomonGeo object from a stored geopandas dataframe.\n",
       "The purpose of this is to allow the object to be stored JSON serialised in a DCC.Store object in \n",
       "the browser before being deserialised and as an object.\n",
       "\n",
       "Note that storing and the reloading, will result in dropping the geometry.\n",
       "\n",
       "|    | **Type** | **Details** |\n",
       "| -- | -------- | ----------- |\n",
       "| json_sol | dict | A geojson dataset |"
      ]
     },
     "execution_count": null,
     "metadata": {},
     "output_type": "execute_result"
    }
   ],
   "source": [
    "#| hide\n",
    "show_doc(SolomonGeo.gen_stored)"
   ]
  },
  {
   "cell_type": "markdown",
   "metadata": {},
   "source": [
    "## Test that dataset and geography merge perfectly"
   ]
  },
  {
   "cell_type": "code",
   "execution_count": null,
   "metadata": {},
   "outputs": [],
   "source": [
    "# TODO should this method be callable from the class\n",
    "def test_geo(df:pd.DataFrame, # The dataframe to test\n",
    "                geo:gpd.GeoDataFrame, # The geographys\n",
    "                ):\n",
    "    '''\n",
    "    Tests that the provided geography and data merge perfectly. I.e. all data\n",
    "    has a coresponding geography. The primary key to merge id and agg\n",
    "    '''\n",
    "    # Use outer join to see if anything is missing\n",
    "    geo_df = geo.merge(df, left_on=['id', 'agg'], right_on=['core: id', 'core: agg'], how = 'outer', indicator = True)\n",
    "    test_eq(sum(geo_df['_merge'] != 'both'), 0) # The total of non-joined rows should be 0\n",
    "\n"
   ]
  },
  {
   "cell_type": "markdown",
   "metadata": {},
   "source": [
    "## Save SolomonGeo\n",
    "Save as a pickled object"
   ]
  },
  {
   "cell_type": "code",
   "execution_count": null,
   "metadata": {},
   "outputs": [],
   "source": [
    "#| export\n",
    "@patch\n",
    "def save_pickle(self:SolomonGeo,\n",
    "                aws:bool = True, # Whether to save to aws or locally\n",
    "                folder:str = \"/testData/\", #file path of the folder to save in, only necesasry for local saving\n",
    "                file_name:str = 'sol_geo.pickle' # file name of the saved class\n",
    "             ):\n",
    "    '''\n",
    "    Save a pickle of the SolomonGeo class in backblaze b2\n",
    "    '''\n",
    "    if aws:\n",
    "      body_pickle = pickle.dumps(self.__dict__)\n",
    "      try:\n",
    "        client = s3_client()\n",
    "        client.put_object(\n",
    "            Bucket = 'hobby-data',\n",
    "            Key = file_name, \n",
    "            Body = body_pickle\n",
    "        )\n",
    "      except:\n",
    "         raise ValueError(\"Issue uploading pickle file to AWS.\")\n",
    "    else:\n",
    "      repo = Repo('.', search_parent_directories=True)\n",
    "      pw = str(repo.working_tree_dir) + folder + file_name\n",
    "      \n",
    "      f = open(pw, 'wb')\n",
    "      pickle.dump(self.__dict__, f, 2)\n",
    "      f.close()\n"
   ]
  },
  {
   "cell_type": "code",
   "execution_count": null,
   "metadata": {},
   "outputs": [
    {
     "data": {
      "text/markdown": [
       "---\n",
       "\n",
       "### SolomonGeo.save_pickle\n",
       "\n",
       ">      SolomonGeo.save_pickle (aws:bool=True, folder:str='/testData/',\n",
       ">                              file_name:str='sol_geo.pickle')\n",
       "\n",
       "Save a pickle of the SolomonGeo class in backblaze b2\n",
       "\n",
       "|    | **Type** | **Default** | **Details** |\n",
       "| -- | -------- | ----------- | ----------- |\n",
       "| aws | bool | True | Whether to save to aws or locally |\n",
       "| folder | str | /testData/ | file path of the folder to save in, only necesasry for local saving |\n",
       "| file_name | str | sol_geo.pickle | file name of the saved class |"
      ],
      "text/plain": [
       "---\n",
       "\n",
       "### SolomonGeo.save_pickle\n",
       "\n",
       ">      SolomonGeo.save_pickle (aws:bool=True, folder:str='/testData/',\n",
       ">                              file_name:str='sol_geo.pickle')\n",
       "\n",
       "Save a pickle of the SolomonGeo class in backblaze b2\n",
       "\n",
       "|    | **Type** | **Default** | **Details** |\n",
       "| -- | -------- | ----------- | ----------- |\n",
       "| aws | bool | True | Whether to save to aws or locally |\n",
       "| folder | str | /testData/ | file path of the folder to save in, only necesasry for local saving |\n",
       "| file_name | str | sol_geo.pickle | file name of the saved class |"
      ]
     },
     "execution_count": null,
     "metadata": {},
     "output_type": "execute_result"
    }
   ],
   "source": [
    "show_doc(SolomonGeo.save_pickle)"
   ]
  },
  {
   "cell_type": "markdown",
   "metadata": {},
   "source": [
    "## Get Geo JSON\n",
    "A getter method for the geometry portion of the dataset that returns a geoJson formated geography. \n",
    "\n",
    "It only includes the geography and location name as id"
   ]
  },
  {
   "cell_type": "code",
   "execution_count": null,
   "metadata": {},
   "outputs": [],
   "source": [
    "#| export\n",
    "@patch\n",
    "def get_geojson(self:SolomonGeo, \n",
    "                geo_filter:str = None, # Filters the geojson to the requested aggregation \n",
    "               ) -> dict: # Geo JSON formatted dataset\n",
    "    '''\n",
    "    A getter method for the SolomonGeo class that returns a Geo JSON formatted dataset\n",
    "    '''\n",
    "    ret = self.geo_df\n",
    "    # Only need geojson from one half of the dataset\n",
    "    ret = ret.loc[ret['core']['type'] == self.type_default, :]\n",
    "    ret = ret.set_index(ret.loc[:, ('core', 'location')]) # Change index to location for matching\n",
    "    if geo_filter is not None:\n",
    "        ret = ret.loc[ret['core']['agg'] == geo_filter, :]\n",
    "    # Return only the core data to minimise the html size\n",
    "    #return json.loads(ret.loc[:, ('core', 'geometry')].to_json())\n",
    "    return json.loads(ret.loc[:, ('core', 'geometry')].to_json())"
   ]
  },
  {
   "cell_type": "code",
   "execution_count": null,
   "metadata": {},
   "outputs": [
    {
     "data": {
      "text/markdown": [
       "---\n",
       "\n",
       "### SolomonGeo.get_geojson\n",
       "\n",
       ">      SolomonGeo.get_geojson (geo_filter:str=None)\n",
       "\n",
       "A getter method for the SolomonGeo class that returns a Geo JSON formatted dataset\n",
       "\n",
       "|    | **Type** | **Default** | **Details** |\n",
       "| -- | -------- | ----------- | ----------- |\n",
       "| geo_filter | str | None | Filters the geojson to the requested aggregation |\n",
       "| **Returns** | **dict** |  | **Geo JSON formatted dataset** |"
      ],
      "text/plain": [
       "---\n",
       "\n",
       "### SolomonGeo.get_geojson\n",
       "\n",
       ">      SolomonGeo.get_geojson (geo_filter:str=None)\n",
       "\n",
       "A getter method for the SolomonGeo class that returns a Geo JSON formatted dataset\n",
       "\n",
       "|    | **Type** | **Default** | **Details** |\n",
       "| -- | -------- | ----------- | ----------- |\n",
       "| geo_filter | str | None | Filters the geojson to the requested aggregation |\n",
       "| **Returns** | **dict** |  | **Geo JSON formatted dataset** |"
      ]
     },
     "execution_count": null,
     "metadata": {},
     "output_type": "execute_result"
    }
   ],
   "source": [
    "#| hide\n",
    "show_doc(SolomonGeo.get_geojson)"
   ]
  },
  {
   "cell_type": "markdown",
   "metadata": {},
   "source": [
    "## Store JSON\n",
    "A getter method that returns a dcc.Store object with the data of the `SolomonGeo` class\n",
    "converted to a dictionary for storing with dash. We use a dictionary instead of geojson\n",
    "as the time to convert dictionary back to geopandas is much faster than geojson. (0.01s vs 1.2s) This \n",
    "makes the map much more snappy and responsive\n",
    "\n",
    "On storing, we drop the geometry as it won't store as json. Note that you can get around this\n",
    "by using a geojson, but this increases reload time by a lot. "
   ]
  },
  {
   "cell_type": "code",
   "execution_count": null,
   "metadata": {},
   "outputs": [],
   "source": [
    "#| export\n",
    "@patch\n",
    "def get_store(self:SolomonGeo, \n",
    "            ) -> dcc.Store: # Geo JSON formatted dataset\n",
    "    '''\n",
    "    A getter method that returns a dcc.Store object with the data of the `SolomonGeo` class\n",
    "    converted to a dictionary for storing with dash. \n",
    "    '''\n",
    "    def hier_to_pandas(df:pd.DataFrame) -> pd.DataFrame:\n",
    "        cols = df.columns.droplevel(1) + \": \" + df.columns.droplevel(0)\n",
    "        cols = cols.tolist()\n",
    "        df.columns = cols\n",
    "        return df\n",
    "\n",
    "    cen_df = copy.copy(self.census)\n",
    "    cen_df = hier_to_pandas(cen_df)\n",
    "\n",
    "    pop_df = copy.copy(self.population)\n",
    "    pop_df = hier_to_pandas(pop_df)\n",
    "    \n",
    "    geos = copy.copy(self.geo)    \n",
    "\n",
    "    return dcc.Store(id=\"geo_df\", data={\"census\": cen_df.to_dict(),\n",
    "                                        \"population\": pop_df.to_dict(),\n",
    "                                        \"geo\": geos.to_dict()})"
   ]
  },
  {
   "cell_type": "code",
   "execution_count": null,
   "metadata": {},
   "outputs": [
    {
     "data": {
      "text/markdown": [
       "---\n",
       "\n",
       "### SolomonGeo.get_store\n",
       "\n",
       ">      SolomonGeo.get_store ()\n",
       "\n",
       "A getter method that returns a dcc.Store object with the data of the `SolomonGeo` class\n",
       "converted to a dictionary for storing with dash."
      ],
      "text/plain": [
       "---\n",
       "\n",
       "### SolomonGeo.get_store\n",
       "\n",
       ">      SolomonGeo.get_store ()\n",
       "\n",
       "A getter method that returns a dcc.Store object with the data of the `SolomonGeo` class\n",
       "converted to a dictionary for storing with dash."
      ]
     },
     "execution_count": null,
     "metadata": {},
     "output_type": "execute_result"
    }
   ],
   "source": [
    "#| hide\n",
    "show_doc(SolomonGeo.get_store)\n"
   ]
  },
  {
   "cell_type": "markdown",
   "metadata": {},
   "source": [
    "## Get Dataframe\n",
    "Returns a particular subset of the geo_df for further anaylsis"
   ]
  },
  {
   "cell_type": "code",
   "execution_count": null,
   "metadata": {},
   "outputs": [],
   "source": [
    "#| export\n",
    "@patch\n",
    "def get_df(self:SolomonGeo, \n",
    "                geo_filter:str = None, # Filters the dataframe to the requested geography \n",
    "                var:str = None, # Selects an upper level \n",
    "                measure:str = None, # Selects the lower level variable, if var 1 is used, measure must be used.\n",
    "                loc_filter:[str] = None, # Filters one of more locations\n",
    "                # TODO remove hardcoding here?\n",
    "                type_filter:str = 'Total', # Return either number of proportion\n",
    "                agg_flag = False, # Whether to return the dataset aggregated for the given selection\n",
    "                dataset = 'census', # Dataset, eiter census or \n",
    "               ) -> pd.DataFrame: # Pandas Dataframe containing population data\n",
    "    '''\n",
    "    A getter method for the SolomonGeo class that returns a pandas dataset containg\n",
    "    the id variable and the total population variable. This is the minimal data required\n",
    "    to display on the map. \n",
    "    '''\n",
    "    if dataset == 'census': ret = self.census\n",
    "    elif dataset == 'population': ret = self.population\n",
    "    else: ValueError(\"get_df dataset must be: census or population\")\n",
    "    ret = ret.loc[ret['core']['type'] == type_filter, :] \n",
    "    ret = ret.set_index(ret.loc[:, ('core', 'location')]) # Change index to location as it's more desriptive\n",
    "    # TODO check that filter is valid\n",
    "    if geo_filter is not None:\n",
    "        try:\n",
    "            assert(geo_filter in ['Ward', 'Constituency', 'Province'])\n",
    "        except:\n",
    "            ValueError(\"Geo filter must be one of: ['Ward', 'Constituency', 'Province']\")\n",
    "        ret = ret.loc[ret['core']['agg'] == geo_filter, :]\n",
    "\n",
    "    if loc_filter is not None:\n",
    "        ret = ret.loc[ret['core']['location'].isin(loc_filter), :]\n",
    "\n",
    "    # Return no core data to minimise the html size\n",
    "    ret = ret.drop(columns = 'core', level=0)\n",
    "\n",
    "    # Keep only selected column if required\n",
    "    if measure is not None:\n",
    "        try:\n",
    "            assert(var is not None)\n",
    "            assert(measure in self.census_vars[var])\n",
    "        except:\n",
    "            ValueError(\"If measure is set, var 1 must be set and the key value pair of var and measure must match\")\n",
    "        ret = ret[var].filter(items = [measure])\n",
    "    elif var is not None:\n",
    "        # Keep all values from upper level column\n",
    "        ret = ret[var]\n",
    "        \n",
    "    return pd.DataFrame(ret)"
   ]
  },
  {
   "cell_type": "code",
   "execution_count": null,
   "metadata": {},
   "outputs": [
    {
     "data": {
      "text/markdown": [
       "---\n",
       "\n",
       "### SolomonGeo.get_df\n",
       "\n",
       ">      SolomonGeo.get_df (geo_filter:str=None, var:str=None, measure:str=None,\n",
       ">                         loc_filter:[<class'str'>]=None,\n",
       ">                         type_filter:str='Total', agg_flag=False,\n",
       ">                         dataset='census')\n",
       "\n",
       "A getter method for the SolomonGeo class that returns a pandas dataset containg\n",
       "the id variable and the total population variable. This is the minimal data required\n",
       "to display on the map.\n",
       "\n",
       "|    | **Type** | **Default** | **Details** |\n",
       "| -- | -------- | ----------- | ----------- |\n",
       "| geo_filter | str | None | Filters the dataframe to the requested geography |\n",
       "| var | str | None | Selects an upper level |\n",
       "| measure | str | None | Selects the lower level variable, if var 1 is used, measure must be used. |\n",
       "| loc_filter | [<class 'str'>] | None | Filters one of more locations |\n",
       "| type_filter | str | Total | Return either number of proportion |\n",
       "| agg_flag | bool | False | Whether to return the dataset aggregated for the given selection |\n",
       "| dataset | str | census | Dataset, eiter census or |\n",
       "| **Returns** | **DataFrame** |  | **Pandas Dataframe containing population data** |"
      ],
      "text/plain": [
       "---\n",
       "\n",
       "### SolomonGeo.get_df\n",
       "\n",
       ">      SolomonGeo.get_df (geo_filter:str=None, var:str=None, measure:str=None,\n",
       ">                         loc_filter:[<class'str'>]=None,\n",
       ">                         type_filter:str='Total', agg_flag=False,\n",
       ">                         dataset='census')\n",
       "\n",
       "A getter method for the SolomonGeo class that returns a pandas dataset containg\n",
       "the id variable and the total population variable. This is the minimal data required\n",
       "to display on the map.\n",
       "\n",
       "|    | **Type** | **Default** | **Details** |\n",
       "| -- | -------- | ----------- | ----------- |\n",
       "| geo_filter | str | None | Filters the dataframe to the requested geography |\n",
       "| var | str | None | Selects an upper level |\n",
       "| measure | str | None | Selects the lower level variable, if var 1 is used, measure must be used. |\n",
       "| loc_filter | [<class 'str'>] | None | Filters one of more locations |\n",
       "| type_filter | str | Total | Return either number of proportion |\n",
       "| agg_flag | bool | False | Whether to return the dataset aggregated for the given selection |\n",
       "| dataset | str | census | Dataset, eiter census or |\n",
       "| **Returns** | **DataFrame** |  | **Pandas Dataframe containing population data** |"
      ]
     },
     "execution_count": null,
     "metadata": {},
     "output_type": "execute_result"
    }
   ],
   "source": [
    "#| hide\n",
    "show_doc(SolomonGeo.get_df)"
   ]
  },
  {
   "cell_type": "markdown",
   "metadata": {},
   "source": [
    "## Aggregate Dataframe\n",
    "Returns an aggregate pandas series "
   ]
  },
  {
   "cell_type": "code",
   "execution_count": null,
   "metadata": {},
   "outputs": [],
   "source": [
    "#| export\n",
    "@patch\n",
    "def agg_df(self:SolomonGeo, \n",
    "                geo_filter:str = None, # Filters the dataframe to the requested geography \n",
    "                var:str = None, # Selects an upper level \n",
    "                measure:str = None, # Selects the lower level variable, if var 1 is used, measure must be used.\n",
    "                loc_filter:[str] = None, # Filters one of more locations\n",
    "                # TODO remove hardcoding here?\n",
    "                type_filter:str = 'Total', # Return either number of proportion\n",
    "               ) -> pd.Series: # Pandas data series containing aggregated and filtered data\n",
    "    '''\n",
    "    A getter method for the SolomonGeo class that calls get_df to get a spcific and then further \n",
    "    aggregates that dataset so that the proportion is the weighted proportion\n",
    "    '''\n",
    "    df = self.get_df(geo_filter, var, measure, loc_filter)\n",
    "\n",
    "    if type_filter == 'Total':\n",
    "        df = df.sum()\n",
    "    elif type_filter == 'Proportion':\n",
    "        df = df.sum() / df.sum().sum() * 100\n",
    "    else:\n",
    "        raise ValueError('The type passed to the aggregate function must be one of the following: \\'Total\\', \\'Proportion\\'.')\n",
    "    return df"
   ]
  },
  {
   "cell_type": "code",
   "execution_count": null,
   "metadata": {},
   "outputs": [
    {
     "data": {
      "text/markdown": [
       "---\n",
       "\n",
       "[source](https://github.com/fastai/nbdev/blob/master/nbdev/showdoc.py#LNone){target=\"_blank\" style=\"float:right; font-size:smaller\"}\n",
       "\n",
       "### show_doc\n",
       "\n",
       ">      show_doc (sym, renderer=None, name:str|None=None, title_level:int=3)\n",
       "\n",
       "Show signature and docstring for `sym`\n",
       "\n",
       "|    | **Type** | **Default** | **Details** |\n",
       "| -- | -------- | ----------- | ----------- |\n",
       "| sym |  |  | Symbol to document |\n",
       "| renderer | NoneType | None | Optional renderer (defaults to markdown) |\n",
       "| name | str \\| None | None | Optionally override displayed name of `sym` |\n",
       "| title_level | int | 3 | Heading level to use for symbol name |"
      ],
      "text/plain": [
       "---\n",
       "\n",
       "[source](https://github.com/fastai/nbdev/blob/master/nbdev/showdoc.py#LNone){target=\"_blank\" style=\"float:right; font-size:smaller\"}\n",
       "\n",
       "### show_doc\n",
       "\n",
       ">      show_doc (sym, renderer=None, name:str|None=None, title_level:int=3)\n",
       "\n",
       "Show signature and docstring for `sym`\n",
       "\n",
       "|    | **Type** | **Default** | **Details** |\n",
       "| -- | -------- | ----------- | ----------- |\n",
       "| sym |  |  | Symbol to document |\n",
       "| renderer | NoneType | None | Optional renderer (defaults to markdown) |\n",
       "| name | str \\| None | None | Optionally override displayed name of `sym` |\n",
       "| title_level | int | 3 | Heading level to use for symbol name |"
      ]
     },
     "execution_count": null,
     "metadata": {},
     "output_type": "execute_result"
    }
   ],
   "source": [
    "show_doc(agg_df)"
   ]
  },
  {
   "cell_type": "markdown",
   "metadata": {},
   "source": [
    "# Testing"
   ]
  },
  {
   "cell_type": "code",
   "execution_count": null,
   "metadata": {},
   "outputs": [],
   "source": [
    "sol_geo = SolomonGeo.read_test()"
   ]
  },
  {
   "cell_type": "code",
   "execution_count": null,
   "metadata": {},
   "outputs": [
    {
     "data": {
      "text/html": [
       "<div>\n",
       "<style scoped>\n",
       "    .dataframe tbody tr th:only-of-type {\n",
       "        vertical-align: middle;\n",
       "    }\n",
       "\n",
       "    .dataframe tbody tr th {\n",
       "        vertical-align: top;\n",
       "    }\n",
       "\n",
       "    .dataframe thead tr th {\n",
       "        text-align: left;\n",
       "    }\n",
       "</style>\n",
       "<table border=\"1\" class=\"dataframe\">\n",
       "  <thead>\n",
       "    <tr>\n",
       "      <th></th>\n",
       "      <th colspan=\"5\" halign=\"left\">core</th>\n",
       "      <th colspan=\"2\" halign=\"left\">Age</th>\n",
       "      <th colspan=\"3\" halign=\"left\">Population</th>\n",
       "    </tr>\n",
       "    <tr>\n",
       "      <th></th>\n",
       "      <th>id</th>\n",
       "      <th>loc_name</th>\n",
       "      <th>agg</th>\n",
       "      <th>type</th>\n",
       "      <th>year</th>\n",
       "      <th>Age_Bracket</th>\n",
       "      <th>Numerical_Bracket</th>\n",
       "      <th>Males</th>\n",
       "      <th>Females</th>\n",
       "      <th>Total</th>\n",
       "    </tr>\n",
       "  </thead>\n",
       "  <tbody>\n",
       "    <tr>\n",
       "      <th>0</th>\n",
       "      <td>1</td>\n",
       "      <td>Choiseul</td>\n",
       "      <td>Province</td>\n",
       "      <td>Total</td>\n",
       "      <td>2010</td>\n",
       "      <td>0-4</td>\n",
       "      <td>0</td>\n",
       "      <td>2,279</td>\n",
       "      <td>2,060</td>\n",
       "      <td>4,339</td>\n",
       "    </tr>\n",
       "    <tr>\n",
       "      <th>1</th>\n",
       "      <td>1</td>\n",
       "      <td>Choiseul</td>\n",
       "      <td>Province</td>\n",
       "      <td>Total</td>\n",
       "      <td>2010</td>\n",
       "      <td>5-9</td>\n",
       "      <td>5</td>\n",
       "      <td>2,131</td>\n",
       "      <td>2,002</td>\n",
       "      <td>4,133</td>\n",
       "    </tr>\n",
       "    <tr>\n",
       "      <th>2</th>\n",
       "      <td>1</td>\n",
       "      <td>Choiseul</td>\n",
       "      <td>Province</td>\n",
       "      <td>Total</td>\n",
       "      <td>2010</td>\n",
       "      <td>10-14</td>\n",
       "      <td>10</td>\n",
       "      <td>1,778</td>\n",
       "      <td>1,640</td>\n",
       "      <td>3,418</td>\n",
       "    </tr>\n",
       "    <tr>\n",
       "      <th>3</th>\n",
       "      <td>1</td>\n",
       "      <td>Choiseul</td>\n",
       "      <td>Province</td>\n",
       "      <td>Total</td>\n",
       "      <td>2010</td>\n",
       "      <td>15-19</td>\n",
       "      <td>15</td>\n",
       "      <td>1,379</td>\n",
       "      <td>1,342</td>\n",
       "      <td>2,721</td>\n",
       "    </tr>\n",
       "    <tr>\n",
       "      <th>4</th>\n",
       "      <td>1</td>\n",
       "      <td>Choiseul</td>\n",
       "      <td>Province</td>\n",
       "      <td>Total</td>\n",
       "      <td>2010</td>\n",
       "      <td>20-24</td>\n",
       "      <td>20</td>\n",
       "      <td>1,192</td>\n",
       "      <td>1,083</td>\n",
       "      <td>2,275</td>\n",
       "    </tr>\n",
       "    <tr>\n",
       "      <th>...</th>\n",
       "      <td>...</td>\n",
       "      <td>...</td>\n",
       "      <td>...</td>\n",
       "      <td>...</td>\n",
       "      <td>...</td>\n",
       "      <td>...</td>\n",
       "      <td>...</td>\n",
       "      <td>...</td>\n",
       "      <td>...</td>\n",
       "      <td>...</td>\n",
       "    </tr>\n",
       "    <tr>\n",
       "      <th>2715</th>\n",
       "      <td>10</td>\n",
       "      <td>Honiara</td>\n",
       "      <td>Province</td>\n",
       "      <td>Total</td>\n",
       "      <td>2025</td>\n",
       "      <td>60-64</td>\n",
       "      <td>60</td>\n",
       "      <td>1,406</td>\n",
       "      <td>1,236</td>\n",
       "      <td>2,642</td>\n",
       "    </tr>\n",
       "    <tr>\n",
       "      <th>2716</th>\n",
       "      <td>10</td>\n",
       "      <td>Honiara</td>\n",
       "      <td>Province</td>\n",
       "      <td>Total</td>\n",
       "      <td>2025</td>\n",
       "      <td>65-69</td>\n",
       "      <td>65</td>\n",
       "      <td>955</td>\n",
       "      <td>791</td>\n",
       "      <td>1,746</td>\n",
       "    </tr>\n",
       "    <tr>\n",
       "      <th>2717</th>\n",
       "      <td>10</td>\n",
       "      <td>Honiara</td>\n",
       "      <td>Province</td>\n",
       "      <td>Total</td>\n",
       "      <td>2025</td>\n",
       "      <td>70-74</td>\n",
       "      <td>70</td>\n",
       "      <td>619</td>\n",
       "      <td>466</td>\n",
       "      <td>1,085</td>\n",
       "    </tr>\n",
       "    <tr>\n",
       "      <th>2718</th>\n",
       "      <td>10</td>\n",
       "      <td>Honiara</td>\n",
       "      <td>Province</td>\n",
       "      <td>Total</td>\n",
       "      <td>2025</td>\n",
       "      <td>75-79</td>\n",
       "      <td>75</td>\n",
       "      <td>318</td>\n",
       "      <td>275</td>\n",
       "      <td>593</td>\n",
       "    </tr>\n",
       "    <tr>\n",
       "      <th>2719</th>\n",
       "      <td>10</td>\n",
       "      <td>Honiara</td>\n",
       "      <td>Province</td>\n",
       "      <td>Total</td>\n",
       "      <td>2025</td>\n",
       "      <td>80+</td>\n",
       "      <td>80</td>\n",
       "      <td>202</td>\n",
       "      <td>172</td>\n",
       "      <td>374</td>\n",
       "    </tr>\n",
       "  </tbody>\n",
       "</table>\n",
       "<p>2720 rows × 10 columns</p>\n",
       "</div>"
      ],
      "text/plain": [
       "     core                                          Age                    \\\n",
       "       id  loc_name       agg   type  year Age_Bracket Numerical_Bracket   \n",
       "0       1  Choiseul  Province  Total  2010         0-4                 0   \n",
       "1       1  Choiseul  Province  Total  2010         5-9                 5   \n",
       "2       1  Choiseul  Province  Total  2010       10-14                10   \n",
       "3       1  Choiseul  Province  Total  2010       15-19                15   \n",
       "4       1  Choiseul  Province  Total  2010       20-24                20   \n",
       "...   ...       ...       ...    ...   ...         ...               ...   \n",
       "2715   10   Honiara  Province  Total  2025       60-64                60   \n",
       "2716   10   Honiara  Province  Total  2025       65-69                65   \n",
       "2717   10   Honiara  Province  Total  2025       70-74                70   \n",
       "2718   10   Honiara  Province  Total  2025       75-79                75   \n",
       "2719   10   Honiara  Province  Total  2025         80+                80   \n",
       "\n",
       "     Population                 \n",
       "          Males Females  Total  \n",
       "0         2,279   2,060  4,339  \n",
       "1         2,131   2,002  4,133  \n",
       "2         1,778   1,640  3,418  \n",
       "3         1,379   1,342  2,721  \n",
       "4         1,192   1,083  2,275  \n",
       "...         ...     ...    ...  \n",
       "2715      1,406   1,236  2,642  \n",
       "2716        955     791  1,746  \n",
       "2717        619     466  1,085  \n",
       "2718        318     275    593  \n",
       "2719        202     172    374  \n",
       "\n",
       "[2720 rows x 10 columns]"
      ]
     },
     "execution_count": null,
     "metadata": {},
     "output_type": "execute_result"
    }
   ],
   "source": [
    "sol_geo.population"
   ]
  },
  {
   "cell_type": "code",
   "execution_count": null,
   "metadata": {},
   "outputs": [
    {
     "data": {
      "text/plain": [
       "{'Province': array(['Choiseul', 'Honiara', 'Western', 'Isabel', 'Central',\n",
       "        'Rennell-Bell', 'Guadalcanal', 'Malaita', 'Makira-Ulawa', 'Temotu'],\n",
       "       dtype=object),\n",
       " 'Constituency': array(['South Choiseul', 'North West Choiseul', 'East Choiseul',\n",
       "        'East Honiara', 'Central Honiara', 'West Honiara',\n",
       "        'Shortland Islands', 'North Vella la Vella',\n",
       "        'South Vella la Vella', 'Ranongga-Simbo', 'Gizo-Kolombangara',\n",
       "        'West New Georgia-Vonavona', 'North New Georgia',\n",
       "        'South New Georgia-Rendova', 'Marovo', 'Hograno-Kia-Havulei',\n",
       "        'Marigne-Kokota', 'Gao-Bugotu', 'Nggela', 'Savo-Russull Islands',\n",
       "        'Rennell-Bellona', 'North West Guadalcanl', 'West Guadalcanal',\n",
       "        'South Guadalcanal', 'East Guadalcanal', 'East-Central',\n",
       "        'North-East', 'North Guadalcanal', 'Central Guadalcanal',\n",
       "        'North Malaita', 'Lau-Mbaelela', 'Baegu-Asifola', 'Fataleka',\n",
       "        \"West Kwara'ae\", \"Central Kwara'ae\", 'East Malaita',\n",
       "        'Auki-Langalanga', 'East Kwaio', 'West Kwaio', 'East AreAre',\n",
       "        'West Areare', 'Small Malaita', 'Malaita Outer Island',\n",
       "        'West Makira', 'Central Makira', 'East Makira', 'Ulawa-Ugi',\n",
       "        'Temotu Pele', 'Temotu-Nende', 'Temotu Vatu'], dtype=object),\n",
       " 'Ward': array(['Nggosi', 'Mbumburu', 'Rove - Lengakiki', 'Cruz', 'Vavaea',\n",
       "        'Vuhokesa', 'Mataniko', \"Kola'A\", 'Kukum', 'Waghina', 'Naha',\n",
       "        'Vura', 'Panatina', 'Katupika', 'Vasiduki', 'Viviru', 'Babatana',\n",
       "        'Tepakaza', 'Batava', 'Tavula', 'Polo', 'Bangara', 'Susuka',\n",
       "        'Senga', 'Kerepangara', 'Kirugela', 'Outer Shortlands',\n",
       "        'Inner Shortlands', 'Simbo', 'North Ranongga', 'Central Ranongga',\n",
       "        'South Ranongga', 'Vonunu', 'Bilua', 'Dovele', 'Iringgila', 'Gizo',\n",
       "        'South Kolombangara', 'Vonavona', 'Kusaghe', 'Munda',\n",
       "        'Nusa Roviana', 'Roviana Lagoon', 'South Rendova', 'North Rendova',\n",
       "        'Kolombaghea', 'Buini Tusu', 'Nono', 'Nggatokae', 'North Vangunu',\n",
       "        'Noro', 'North Kolombangara', 'Kia', 'Havulei', 'Kokota',\n",
       "        'Hovukoilo', 'Buala', 'Tirotonga', 'Koviloko', 'Kmaga', 'Kaloka',\n",
       "        'Tatamba', 'Sigana', 'Japuana', 'Kolomola', 'Kolotubi', 'Susubona',\n",
       "        'Samasodu', 'Sandfly-Buenavista', 'West Gela', 'East Gela',\n",
       "        'Tulagi', 'South West Gela', 'South East Gela', 'North East Gela',\n",
       "        'North West Gela', 'Mbanika', 'Pavuvu', 'Lovukol', 'North Savo',\n",
       "        'South Savo', 'East Te Nggano', 'West Te Nggano', 'Lughu',\n",
       "        'Kangava', 'Tetau Nangoto', 'Mugihenua', 'Matangi', 'East Ghongau',\n",
       "        'West Ghongau', \"Sa'Aiho\", 'Tandai', 'Saghalu', 'Savulei',\n",
       "        'Tangarare', 'Wanderer Bay', 'Duidui', 'Vatukulau', 'Talise',\n",
       "        'Avuavu', 'Moli', 'Tetekanji', 'Birao', 'Valasi', 'Kolokarako',\n",
       "        'Longgu', 'Aola', 'Paripao', 'East Tasimboko', 'Vulolo', 'Malango',\n",
       "        'West Ghaobata', 'East Ghaobata', 'Auki', 'Aimela', 'Buma',\n",
       "        'Fauabu', 'West Baegu \\xa0- Fatale', 'Mandalua - Folotana',\n",
       "        'Foondo - Gwaiau', \"Malu'U\", 'Matakwalao', 'Takwa', 'East Baegu',\n",
       "        'Fouenda', 'Sulufou - Kwarande', 'Sububenu- Burianias', 'Nafinua',\n",
       "        'Faumamanu - Kwai', 'Gulalafou', 'Waneagu - Taelanasin', 'Aiaisi',\n",
       "        'Areare', 'Raroisuu', 'Aba - Asimeuru', 'Asimae', 'Mareho', 'Tai',\n",
       "        'Kwarekwareo', 'Siesie', 'Weagu Silana Sina',\n",
       "        'Kwaimela - Radefasu', 'Langalanga', 'Luaniua', 'Pelau',\n",
       "        'Sikaiana', 'North Ulawa', 'South Ulawa', 'West Ulawa',\n",
       "        'Ugi And Pio', 'Arosi South', 'Arosi West', 'Arosi North',\n",
       "        'Arosi East', 'Bauro West', 'Bauro Central', 'Bauro East',\n",
       "        'Wainoni West', 'Wainoni East', 'Star Harbour North', 'Santa Ana',\n",
       "        'Santa Catalina', 'Star Harbour South', 'Rawo', 'Weather Coast',\n",
       "        'Haununu', 'Fenualoa', 'Polynesian Outer Islands', 'Nipua-Nopoli',\n",
       "        'Lipe-Temua', 'Manuopo', 'Nenumpo', 'Nevenema', 'Luva Station',\n",
       "        'Graciosa Bay', 'Nea-Noole', 'North East Santa Cruz',\n",
       "        'Nanggu-Lord Howe', 'Duff Islands', 'Utupua', 'Vanikoro',\n",
       "        'Tikopia', 'Neo'], dtype=object)}"
      ]
     },
     "execution_count": null,
     "metadata": {},
     "output_type": "execute_result"
    }
   ],
   "source": [
    "sol_geo.locations"
   ]
  },
  {
   "cell_type": "markdown",
   "metadata": {},
   "source": [
    "## Save and Load"
   ]
  },
  {
   "cell_type": "markdown",
   "metadata": {},
   "source": [
    "Test that the newly created solomon geo object can be saved to aws"
   ]
  },
  {
   "cell_type": "code",
   "execution_count": null,
   "metadata": {},
   "outputs": [],
   "source": [
    "sol_geo.save_pickle()"
   ]
  },
  {
   "cell_type": "markdown",
   "metadata": {},
   "source": [
    "Test that we can connect to the aws s3 bucket"
   ]
  },
  {
   "cell_type": "code",
   "execution_count": null,
   "metadata": {},
   "outputs": [],
   "source": [
    "# Create the S3 object\n",
    "obj = s3_client().get_object(\n",
    "    Bucket = 'hobby-data',\n",
    "    Key = 'test.txt', \n",
    ")\n",
    "\n",
    "# Read in the pickle\n",
    "try:\n",
    "    data = obj['Body'].read()\n",
    "except:\n",
    "    raise ValueError(\"Issue dowloading test file from AWS.\")"
   ]
  },
  {
   "cell_type": "code",
   "execution_count": null,
   "metadata": {},
   "outputs": [
    {
     "data": {
      "text/plain": [
       "<__main__.SolomonGeo>"
      ]
     },
     "execution_count": null,
     "metadata": {},
     "output_type": "execute_result"
    }
   ],
   "source": [
    "#| slow\n",
    "SolomonGeo.load_pickle('/testData/', aws=True)"
   ]
  },
  {
   "cell_type": "markdown",
   "metadata": {},
   "source": [
    "Test that gen_stored creates a copy correctly from a json serialised dataframe"
   ]
  },
  {
   "cell_type": "code",
   "execution_count": null,
   "metadata": {},
   "outputs": [
    {
     "ename": "KeyError",
     "evalue": "\"['core: geometry'] not found in axis\"",
     "output_type": "error",
     "traceback": [
      "\u001b[0;31m---------------------------------------------------------------------------\u001b[0m",
      "\u001b[0;31mKeyError\u001b[0m                                  Traceback (most recent call last)",
      "Cell \u001b[0;32mIn[30], line 1\u001b[0m\n\u001b[0;32m----> 1\u001b[0m stored_geo \u001b[38;5;241m=\u001b[39m \u001b[43msol_geo\u001b[49m\u001b[38;5;241;43m.\u001b[39;49m\u001b[43mget_store\u001b[49m\u001b[43m(\u001b[49m\u001b[43m)\u001b[49m\n\u001b[1;32m      2\u001b[0m \u001b[38;5;66;03m# TODO I need to potentially created a function to check if two objects are the same\u001b[39;00m\n",
      "Cell \u001b[0;32mIn[18], line 17\u001b[0m, in \u001b[0;36mget_store\u001b[0;34m(self)\u001b[0m\n\u001b[1;32m     14\u001b[0m     \u001b[38;5;28;01mreturn\u001b[39;00m df\n\u001b[1;32m     16\u001b[0m cen_df \u001b[38;5;241m=\u001b[39m copy\u001b[38;5;241m.\u001b[39mcopy(\u001b[38;5;28mself\u001b[39m\u001b[38;5;241m.\u001b[39mcensus)\n\u001b[0;32m---> 17\u001b[0m cen_df \u001b[38;5;241m=\u001b[39m \u001b[43mhier_to_pandas\u001b[49m\u001b[43m(\u001b[49m\u001b[43mcen_df\u001b[49m\u001b[43m)\u001b[49m\n\u001b[1;32m     19\u001b[0m pop_df \u001b[38;5;241m=\u001b[39m copy\u001b[38;5;241m.\u001b[39mcopy(\u001b[38;5;28mself\u001b[39m\u001b[38;5;241m.\u001b[39mpopulation)\n\u001b[1;32m     20\u001b[0m pop_df \u001b[38;5;241m=\u001b[39m hier_to_pandas(pop_df)\n",
      "Cell \u001b[0;32mIn[18], line 13\u001b[0m, in \u001b[0;36mget_store.<locals>.hier_to_pandas\u001b[0;34m(df)\u001b[0m\n\u001b[1;32m     11\u001b[0m cols \u001b[38;5;241m=\u001b[39m cols\u001b[38;5;241m.\u001b[39mtolist()\n\u001b[1;32m     12\u001b[0m df\u001b[38;5;241m.\u001b[39mcolumns \u001b[38;5;241m=\u001b[39m cols\n\u001b[0;32m---> 13\u001b[0m \u001b[43mdf\u001b[49m\u001b[38;5;241;43m.\u001b[39;49m\u001b[43mdrop\u001b[49m\u001b[43m(\u001b[49m\u001b[43mcolumns\u001b[49m\u001b[43m \u001b[49m\u001b[38;5;241;43m=\u001b[39;49m\u001b[43m \u001b[49m\u001b[38;5;124;43m'\u001b[39;49m\u001b[38;5;124;43mcore: geometry\u001b[39;49m\u001b[38;5;124;43m'\u001b[39;49m\u001b[43m,\u001b[49m\u001b[43m \u001b[49m\u001b[43minplace\u001b[49m\u001b[38;5;241;43m=\u001b[39;49m\u001b[38;5;28;43;01mTrue\u001b[39;49;00m\u001b[43m)\u001b[49m\n\u001b[1;32m     14\u001b[0m \u001b[38;5;28;01mreturn\u001b[39;00m df\n",
      "File \u001b[0;32m~/miniforge3/lib/python3.10/site-packages/pandas/core/frame.py:5344\u001b[0m, in \u001b[0;36mDataFrame.drop\u001b[0;34m(self, labels, axis, index, columns, level, inplace, errors)\u001b[0m\n\u001b[1;32m   5196\u001b[0m \u001b[38;5;28;01mdef\u001b[39;00m \u001b[38;5;21mdrop\u001b[39m(\n\u001b[1;32m   5197\u001b[0m     \u001b[38;5;28mself\u001b[39m,\n\u001b[1;32m   5198\u001b[0m     labels: IndexLabel \u001b[38;5;241m|\u001b[39m \u001b[38;5;28;01mNone\u001b[39;00m \u001b[38;5;241m=\u001b[39m \u001b[38;5;28;01mNone\u001b[39;00m,\n\u001b[0;32m   (...)\u001b[0m\n\u001b[1;32m   5205\u001b[0m     errors: IgnoreRaise \u001b[38;5;241m=\u001b[39m \u001b[38;5;124m\"\u001b[39m\u001b[38;5;124mraise\u001b[39m\u001b[38;5;124m\"\u001b[39m,\n\u001b[1;32m   5206\u001b[0m ) \u001b[38;5;241m-\u001b[39m\u001b[38;5;241m>\u001b[39m DataFrame \u001b[38;5;241m|\u001b[39m \u001b[38;5;28;01mNone\u001b[39;00m:\n\u001b[1;32m   5207\u001b[0m \u001b[38;5;250m    \u001b[39m\u001b[38;5;124;03m\"\"\"\u001b[39;00m\n\u001b[1;32m   5208\u001b[0m \u001b[38;5;124;03m    Drop specified labels from rows or columns.\u001b[39;00m\n\u001b[1;32m   5209\u001b[0m \n\u001b[0;32m   (...)\u001b[0m\n\u001b[1;32m   5342\u001b[0m \u001b[38;5;124;03m            weight  1.0     0.8\u001b[39;00m\n\u001b[1;32m   5343\u001b[0m \u001b[38;5;124;03m    \"\"\"\u001b[39;00m\n\u001b[0;32m-> 5344\u001b[0m     \u001b[38;5;28;01mreturn\u001b[39;00m \u001b[38;5;28;43msuper\u001b[39;49m\u001b[43m(\u001b[49m\u001b[43m)\u001b[49m\u001b[38;5;241;43m.\u001b[39;49m\u001b[43mdrop\u001b[49m\u001b[43m(\u001b[49m\n\u001b[1;32m   5345\u001b[0m \u001b[43m        \u001b[49m\u001b[43mlabels\u001b[49m\u001b[38;5;241;43m=\u001b[39;49m\u001b[43mlabels\u001b[49m\u001b[43m,\u001b[49m\n\u001b[1;32m   5346\u001b[0m \u001b[43m        \u001b[49m\u001b[43maxis\u001b[49m\u001b[38;5;241;43m=\u001b[39;49m\u001b[43maxis\u001b[49m\u001b[43m,\u001b[49m\n\u001b[1;32m   5347\u001b[0m \u001b[43m        \u001b[49m\u001b[43mindex\u001b[49m\u001b[38;5;241;43m=\u001b[39;49m\u001b[43mindex\u001b[49m\u001b[43m,\u001b[49m\n\u001b[1;32m   5348\u001b[0m \u001b[43m        \u001b[49m\u001b[43mcolumns\u001b[49m\u001b[38;5;241;43m=\u001b[39;49m\u001b[43mcolumns\u001b[49m\u001b[43m,\u001b[49m\n\u001b[1;32m   5349\u001b[0m \u001b[43m        \u001b[49m\u001b[43mlevel\u001b[49m\u001b[38;5;241;43m=\u001b[39;49m\u001b[43mlevel\u001b[49m\u001b[43m,\u001b[49m\n\u001b[1;32m   5350\u001b[0m \u001b[43m        \u001b[49m\u001b[43minplace\u001b[49m\u001b[38;5;241;43m=\u001b[39;49m\u001b[43minplace\u001b[49m\u001b[43m,\u001b[49m\n\u001b[1;32m   5351\u001b[0m \u001b[43m        \u001b[49m\u001b[43merrors\u001b[49m\u001b[38;5;241;43m=\u001b[39;49m\u001b[43merrors\u001b[49m\u001b[43m,\u001b[49m\n\u001b[1;32m   5352\u001b[0m \u001b[43m    \u001b[49m\u001b[43m)\u001b[49m\n",
      "File \u001b[0;32m~/miniforge3/lib/python3.10/site-packages/pandas/core/generic.py:4711\u001b[0m, in \u001b[0;36mNDFrame.drop\u001b[0;34m(self, labels, axis, index, columns, level, inplace, errors)\u001b[0m\n\u001b[1;32m   4709\u001b[0m \u001b[38;5;28;01mfor\u001b[39;00m axis, labels \u001b[38;5;129;01min\u001b[39;00m axes\u001b[38;5;241m.\u001b[39mitems():\n\u001b[1;32m   4710\u001b[0m     \u001b[38;5;28;01mif\u001b[39;00m labels \u001b[38;5;129;01mis\u001b[39;00m \u001b[38;5;129;01mnot\u001b[39;00m \u001b[38;5;28;01mNone\u001b[39;00m:\n\u001b[0;32m-> 4711\u001b[0m         obj \u001b[38;5;241m=\u001b[39m \u001b[43mobj\u001b[49m\u001b[38;5;241;43m.\u001b[39;49m\u001b[43m_drop_axis\u001b[49m\u001b[43m(\u001b[49m\u001b[43mlabels\u001b[49m\u001b[43m,\u001b[49m\u001b[43m \u001b[49m\u001b[43maxis\u001b[49m\u001b[43m,\u001b[49m\u001b[43m \u001b[49m\u001b[43mlevel\u001b[49m\u001b[38;5;241;43m=\u001b[39;49m\u001b[43mlevel\u001b[49m\u001b[43m,\u001b[49m\u001b[43m \u001b[49m\u001b[43merrors\u001b[49m\u001b[38;5;241;43m=\u001b[39;49m\u001b[43merrors\u001b[49m\u001b[43m)\u001b[49m\n\u001b[1;32m   4713\u001b[0m \u001b[38;5;28;01mif\u001b[39;00m inplace:\n\u001b[1;32m   4714\u001b[0m     \u001b[38;5;28mself\u001b[39m\u001b[38;5;241m.\u001b[39m_update_inplace(obj)\n",
      "File \u001b[0;32m~/miniforge3/lib/python3.10/site-packages/pandas/core/generic.py:4753\u001b[0m, in \u001b[0;36mNDFrame._drop_axis\u001b[0;34m(self, labels, axis, level, errors, only_slice)\u001b[0m\n\u001b[1;32m   4751\u001b[0m         new_axis \u001b[38;5;241m=\u001b[39m axis\u001b[38;5;241m.\u001b[39mdrop(labels, level\u001b[38;5;241m=\u001b[39mlevel, errors\u001b[38;5;241m=\u001b[39merrors)\n\u001b[1;32m   4752\u001b[0m     \u001b[38;5;28;01melse\u001b[39;00m:\n\u001b[0;32m-> 4753\u001b[0m         new_axis \u001b[38;5;241m=\u001b[39m \u001b[43maxis\u001b[49m\u001b[38;5;241;43m.\u001b[39;49m\u001b[43mdrop\u001b[49m\u001b[43m(\u001b[49m\u001b[43mlabels\u001b[49m\u001b[43m,\u001b[49m\u001b[43m \u001b[49m\u001b[43merrors\u001b[49m\u001b[38;5;241;43m=\u001b[39;49m\u001b[43merrors\u001b[49m\u001b[43m)\u001b[49m\n\u001b[1;32m   4754\u001b[0m     indexer \u001b[38;5;241m=\u001b[39m axis\u001b[38;5;241m.\u001b[39mget_indexer(new_axis)\n\u001b[1;32m   4756\u001b[0m \u001b[38;5;66;03m# Case for non-unique axis\u001b[39;00m\n\u001b[1;32m   4757\u001b[0m \u001b[38;5;28;01melse\u001b[39;00m:\n",
      "File \u001b[0;32m~/miniforge3/lib/python3.10/site-packages/pandas/core/indexes/base.py:6992\u001b[0m, in \u001b[0;36mIndex.drop\u001b[0;34m(self, labels, errors)\u001b[0m\n\u001b[1;32m   6990\u001b[0m \u001b[38;5;28;01mif\u001b[39;00m mask\u001b[38;5;241m.\u001b[39many():\n\u001b[1;32m   6991\u001b[0m     \u001b[38;5;28;01mif\u001b[39;00m errors \u001b[38;5;241m!=\u001b[39m \u001b[38;5;124m\"\u001b[39m\u001b[38;5;124mignore\u001b[39m\u001b[38;5;124m\"\u001b[39m:\n\u001b[0;32m-> 6992\u001b[0m         \u001b[38;5;28;01mraise\u001b[39;00m \u001b[38;5;167;01mKeyError\u001b[39;00m(\u001b[38;5;124mf\u001b[39m\u001b[38;5;124m\"\u001b[39m\u001b[38;5;132;01m{\u001b[39;00mlabels[mask]\u001b[38;5;241m.\u001b[39mtolist()\u001b[38;5;132;01m}\u001b[39;00m\u001b[38;5;124m not found in axis\u001b[39m\u001b[38;5;124m\"\u001b[39m)\n\u001b[1;32m   6993\u001b[0m     indexer \u001b[38;5;241m=\u001b[39m indexer[\u001b[38;5;241m~\u001b[39mmask]\n\u001b[1;32m   6994\u001b[0m \u001b[38;5;28;01mreturn\u001b[39;00m \u001b[38;5;28mself\u001b[39m\u001b[38;5;241m.\u001b[39mdelete(indexer)\n",
      "\u001b[0;31mKeyError\u001b[0m: \"['core: geometry'] not found in axis\""
     ]
    }
   ],
   "source": [
    "stored_geo = sol_geo.get_store()\n",
    "# TODO I need to potentially created a function to check if two objects are the same"
   ]
  },
  {
   "cell_type": "code",
   "execution_count": null,
   "metadata": {},
   "outputs": [],
   "source": [
    "restored_geo = SolomonGeo.gen_stored(stored_geo.data)\n"
   ]
  },
  {
   "cell_type": "code",
   "execution_count": null,
   "metadata": {},
   "outputs": [
    {
     "data": {
      "text/html": [
       "<div>\n",
       "<style scoped>\n",
       "    .dataframe tbody tr th:only-of-type {\n",
       "        vertical-align: middle;\n",
       "    }\n",
       "\n",
       "    .dataframe tbody tr th {\n",
       "        vertical-align: top;\n",
       "    }\n",
       "\n",
       "    .dataframe thead tr th {\n",
       "        text-align: left;\n",
       "    }\n",
       "\n",
       "    .dataframe thead tr:last-of-type th {\n",
       "        text-align: right;\n",
       "    }\n",
       "</style>\n",
       "<table border=\"1\" class=\"dataframe\">\n",
       "  <thead>\n",
       "    <tr>\n",
       "      <th></th>\n",
       "      <th>Key Statistics</th>\n",
       "      <th colspan=\"9\" halign=\"left\">Main source of household drinking water</th>\n",
       "      <th>...</th>\n",
       "      <th colspan=\"2\" halign=\"left\">Household money received from remittances</th>\n",
       "      <th colspan=\"8\" halign=\"left\">Main source of household income in last 12 months</th>\n",
       "    </tr>\n",
       "    <tr>\n",
       "      <th></th>\n",
       "      <th>Total Households</th>\n",
       "      <th>metered SIWA drinking water</th>\n",
       "      <th>communal standpipe</th>\n",
       "      <th>private water tank</th>\n",
       "      <th>communal water tank</th>\n",
       "      <th>well - protected</th>\n",
       "      <th>well - unprotected</th>\n",
       "      <th>river or stream</th>\n",
       "      <th>bottled water</th>\n",
       "      <th>other source of drinking water</th>\n",
       "      <th>...</th>\n",
       "      <th>1000 - 1499 S.I. dollars</th>\n",
       "      <th>more than 1500 S.I. dollars</th>\n",
       "      <th>No income</th>\n",
       "      <th>Wages Salary</th>\n",
       "      <th>Own business</th>\n",
       "      <th>Sale fish crop craft</th>\n",
       "      <th>Land lease</th>\n",
       "      <th>House rent</th>\n",
       "      <th>Remittances</th>\n",
       "      <th>Other source</th>\n",
       "    </tr>\n",
       "    <tr>\n",
       "      <th>(core, location)</th>\n",
       "      <th></th>\n",
       "      <th></th>\n",
       "      <th></th>\n",
       "      <th></th>\n",
       "      <th></th>\n",
       "      <th></th>\n",
       "      <th></th>\n",
       "      <th></th>\n",
       "      <th></th>\n",
       "      <th></th>\n",
       "      <th></th>\n",
       "      <th></th>\n",
       "      <th></th>\n",
       "      <th></th>\n",
       "      <th></th>\n",
       "      <th></th>\n",
       "      <th></th>\n",
       "      <th></th>\n",
       "      <th></th>\n",
       "      <th></th>\n",
       "      <th></th>\n",
       "    </tr>\n",
       "  </thead>\n",
       "  <tbody>\n",
       "    <tr>\n",
       "      <th>East AreAre</th>\n",
       "      <td>1105</td>\n",
       "      <td>1.0</td>\n",
       "      <td>815.0</td>\n",
       "      <td>12.0</td>\n",
       "      <td>9.0</td>\n",
       "      <td>1.0</td>\n",
       "      <td>3.0</td>\n",
       "      <td>223.0</td>\n",
       "      <td>0.0</td>\n",
       "      <td>41.0</td>\n",
       "      <td>...</td>\n",
       "      <td>41.0</td>\n",
       "      <td>15.0</td>\n",
       "      <td>37.0</td>\n",
       "      <td>89.0</td>\n",
       "      <td>101.0</td>\n",
       "      <td>650.0</td>\n",
       "      <td>0.0</td>\n",
       "      <td>2.0</td>\n",
       "      <td>31.0</td>\n",
       "      <td>195.0</td>\n",
       "    </tr>\n",
       "    <tr>\n",
       "      <th>Nggela</th>\n",
       "      <td>3315</td>\n",
       "      <td>26.0</td>\n",
       "      <td>1557.0</td>\n",
       "      <td>258.0</td>\n",
       "      <td>437.0</td>\n",
       "      <td>52.0</td>\n",
       "      <td>13.0</td>\n",
       "      <td>868.0</td>\n",
       "      <td>1.0</td>\n",
       "      <td>103.0</td>\n",
       "      <td>...</td>\n",
       "      <td>25.0</td>\n",
       "      <td>59.0</td>\n",
       "      <td>49.0</td>\n",
       "      <td>558.0</td>\n",
       "      <td>327.0</td>\n",
       "      <td>1878.0</td>\n",
       "      <td>0.0</td>\n",
       "      <td>4.0</td>\n",
       "      <td>75.0</td>\n",
       "      <td>424.0</td>\n",
       "    </tr>\n",
       "  </tbody>\n",
       "</table>\n",
       "<p>2 rows × 66 columns</p>\n",
       "</div>"
      ],
      "text/plain": [
       "                   Key Statistics Main source of household drinking water  \\\n",
       "                 Total Households             metered SIWA drinking water   \n",
       "(core, location)                                                            \n",
       "East AreAre                  1105                                     1.0   \n",
       "Nggela                       3315                                    26.0   \n",
       "\n",
       "                                                                            \\\n",
       "                 communal standpipe private water tank communal water tank   \n",
       "(core, location)                                                             \n",
       "East AreAre                   815.0               12.0                 9.0   \n",
       "Nggela                       1557.0              258.0               437.0   \n",
       "\n",
       "                                                                      \\\n",
       "                 well - protected well - unprotected river or stream   \n",
       "(core, location)                                                       \n",
       "East AreAre                   1.0                3.0           223.0   \n",
       "Nggela                       52.0               13.0           868.0   \n",
       "\n",
       "                                                               ...  \\\n",
       "                 bottled water other source of drinking water  ...   \n",
       "(core, location)                                               ...   \n",
       "East AreAre                0.0                           41.0  ...   \n",
       "Nggela                     1.0                          103.0  ...   \n",
       "\n",
       "                 Household money received from remittances  \\\n",
       "                                  1000 - 1499 S.I. dollars   \n",
       "(core, location)                                             \n",
       "East AreAre                                           41.0   \n",
       "Nggela                                                25.0   \n",
       "\n",
       "                                              \\\n",
       "                 more than 1500 S.I. dollars   \n",
       "(core, location)                               \n",
       "East AreAre                             15.0   \n",
       "Nggela                                  59.0   \n",
       "\n",
       "                 Main source of household income in last 12 months  \\\n",
       "                                                         No income   \n",
       "(core, location)                                                     \n",
       "East AreAre                                                   37.0   \n",
       "Nggela                                                        49.0   \n",
       "\n",
       "                                                                            \\\n",
       "                 Wages Salary Own business Sale fish crop craft Land lease   \n",
       "(core, location)                                                             \n",
       "East AreAre              89.0        101.0                650.0        0.0   \n",
       "Nggela                  558.0        327.0               1878.0        0.0   \n",
       "\n",
       "                                                      \n",
       "                 House rent Remittances Other source  \n",
       "(core, location)                                      \n",
       "East AreAre             2.0        31.0        195.0  \n",
       "Nggela                  4.0        75.0        424.0  \n",
       "\n",
       "[2 rows x 66 columns]"
      ]
     },
     "execution_count": null,
     "metadata": {},
     "output_type": "execute_result"
    }
   ],
   "source": [
    "restored_geo.get_df(geo_filter = 'Constituency', loc_filter=['Nggela', 'East AreAre'])"
   ]
  },
  {
   "cell_type": "code",
   "execution_count": null,
   "metadata": {},
   "outputs": [],
   "source": [
    "# TODO create a test to check that two object are the same. Probably need to write defualt behaviour into\n",
    "# object. Maybe use fastcore test_eq\n",
    "#test_eq(stored_geo.geo_df, sol_geo.geo_df)"
   ]
  },
  {
   "cell_type": "markdown",
   "metadata": {},
   "source": [
    "Test filtering of down to multiple locations"
   ]
  },
  {
   "cell_type": "code",
   "execution_count": null,
   "metadata": {},
   "outputs": [
    {
     "data": {
      "text/html": [
       "<div>\n",
       "<style scoped>\n",
       "    .dataframe tbody tr th:only-of-type {\n",
       "        vertical-align: middle;\n",
       "    }\n",
       "\n",
       "    .dataframe tbody tr th {\n",
       "        vertical-align: top;\n",
       "    }\n",
       "\n",
       "    .dataframe thead tr th {\n",
       "        text-align: left;\n",
       "    }\n",
       "\n",
       "    .dataframe thead tr:last-of-type th {\n",
       "        text-align: right;\n",
       "    }\n",
       "</style>\n",
       "<table border=\"1\" class=\"dataframe\">\n",
       "  <thead>\n",
       "    <tr>\n",
       "      <th></th>\n",
       "      <th>Key Statistics</th>\n",
       "      <th colspan=\"9\" halign=\"left\">Main source of household drinking water</th>\n",
       "      <th>...</th>\n",
       "      <th colspan=\"2\" halign=\"left\">Household money received from remittances</th>\n",
       "      <th colspan=\"8\" halign=\"left\">Main source of household income in last 12 months</th>\n",
       "    </tr>\n",
       "    <tr>\n",
       "      <th></th>\n",
       "      <th>Total Households</th>\n",
       "      <th>metered SIWA drinking water</th>\n",
       "      <th>communal standpipe</th>\n",
       "      <th>private water tank</th>\n",
       "      <th>communal water tank</th>\n",
       "      <th>well - protected</th>\n",
       "      <th>well - unprotected</th>\n",
       "      <th>river or stream</th>\n",
       "      <th>bottled water</th>\n",
       "      <th>other source of drinking water</th>\n",
       "      <th>...</th>\n",
       "      <th>1000 - 1499 S.I. dollars</th>\n",
       "      <th>more than 1500 S.I. dollars</th>\n",
       "      <th>No income</th>\n",
       "      <th>Wages Salary</th>\n",
       "      <th>Own business</th>\n",
       "      <th>Sale fish crop craft</th>\n",
       "      <th>Land lease</th>\n",
       "      <th>House rent</th>\n",
       "      <th>Remittances</th>\n",
       "      <th>Other source</th>\n",
       "    </tr>\n",
       "    <tr>\n",
       "      <th>(core, location)</th>\n",
       "      <th></th>\n",
       "      <th></th>\n",
       "      <th></th>\n",
       "      <th></th>\n",
       "      <th></th>\n",
       "      <th></th>\n",
       "      <th></th>\n",
       "      <th></th>\n",
       "      <th></th>\n",
       "      <th></th>\n",
       "      <th></th>\n",
       "      <th></th>\n",
       "      <th></th>\n",
       "      <th></th>\n",
       "      <th></th>\n",
       "      <th></th>\n",
       "      <th></th>\n",
       "      <th></th>\n",
       "      <th></th>\n",
       "      <th></th>\n",
       "      <th></th>\n",
       "    </tr>\n",
       "  </thead>\n",
       "  <tbody>\n",
       "    <tr>\n",
       "      <th>East AreAre</th>\n",
       "      <td>1105</td>\n",
       "      <td>1.0</td>\n",
       "      <td>815.0</td>\n",
       "      <td>12.0</td>\n",
       "      <td>9.0</td>\n",
       "      <td>1.0</td>\n",
       "      <td>3.0</td>\n",
       "      <td>223.0</td>\n",
       "      <td>0.0</td>\n",
       "      <td>41.0</td>\n",
       "      <td>...</td>\n",
       "      <td>41.0</td>\n",
       "      <td>15.0</td>\n",
       "      <td>37.0</td>\n",
       "      <td>89.0</td>\n",
       "      <td>101.0</td>\n",
       "      <td>650.0</td>\n",
       "      <td>0.0</td>\n",
       "      <td>2.0</td>\n",
       "      <td>31.0</td>\n",
       "      <td>195.0</td>\n",
       "    </tr>\n",
       "    <tr>\n",
       "      <th>Nggela</th>\n",
       "      <td>3315</td>\n",
       "      <td>26.0</td>\n",
       "      <td>1557.0</td>\n",
       "      <td>258.0</td>\n",
       "      <td>437.0</td>\n",
       "      <td>52.0</td>\n",
       "      <td>13.0</td>\n",
       "      <td>868.0</td>\n",
       "      <td>1.0</td>\n",
       "      <td>103.0</td>\n",
       "      <td>...</td>\n",
       "      <td>25.0</td>\n",
       "      <td>59.0</td>\n",
       "      <td>49.0</td>\n",
       "      <td>558.0</td>\n",
       "      <td>327.0</td>\n",
       "      <td>1878.0</td>\n",
       "      <td>0.0</td>\n",
       "      <td>4.0</td>\n",
       "      <td>75.0</td>\n",
       "      <td>424.0</td>\n",
       "    </tr>\n",
       "  </tbody>\n",
       "</table>\n",
       "<p>2 rows × 66 columns</p>\n",
       "</div>"
      ],
      "text/plain": [
       "                   Key Statistics Main source of household drinking water  \\\n",
       "                 Total Households             metered SIWA drinking water   \n",
       "(core, location)                                                            \n",
       "East AreAre                  1105                                     1.0   \n",
       "Nggela                       3315                                    26.0   \n",
       "\n",
       "                                                                            \\\n",
       "                 communal standpipe private water tank communal water tank   \n",
       "(core, location)                                                             \n",
       "East AreAre                   815.0               12.0                 9.0   \n",
       "Nggela                       1557.0              258.0               437.0   \n",
       "\n",
       "                                                                      \\\n",
       "                 well - protected well - unprotected river or stream   \n",
       "(core, location)                                                       \n",
       "East AreAre                   1.0                3.0           223.0   \n",
       "Nggela                       52.0               13.0           868.0   \n",
       "\n",
       "                                                               ...  \\\n",
       "                 bottled water other source of drinking water  ...   \n",
       "(core, location)                                               ...   \n",
       "East AreAre                0.0                           41.0  ...   \n",
       "Nggela                     1.0                          103.0  ...   \n",
       "\n",
       "                 Household money received from remittances  \\\n",
       "                                  1000 - 1499 S.I. dollars   \n",
       "(core, location)                                             \n",
       "East AreAre                                           41.0   \n",
       "Nggela                                                25.0   \n",
       "\n",
       "                                              \\\n",
       "                 more than 1500 S.I. dollars   \n",
       "(core, location)                               \n",
       "East AreAre                             15.0   \n",
       "Nggela                                  59.0   \n",
       "\n",
       "                 Main source of household income in last 12 months  \\\n",
       "                                                         No income   \n",
       "(core, location)                                                     \n",
       "East AreAre                                                   37.0   \n",
       "Nggela                                                        49.0   \n",
       "\n",
       "                                                                            \\\n",
       "                 Wages Salary Own business Sale fish crop craft Land lease   \n",
       "(core, location)                                                             \n",
       "East AreAre              89.0        101.0                650.0        0.0   \n",
       "Nggela                  558.0        327.0               1878.0        0.0   \n",
       "\n",
       "                                                      \n",
       "                 House rent Remittances Other source  \n",
       "(core, location)                                      \n",
       "East AreAre             2.0        31.0        195.0  \n",
       "Nggela                  4.0        75.0        424.0  \n",
       "\n",
       "[2 rows x 66 columns]"
      ]
     },
     "execution_count": null,
     "metadata": {},
     "output_type": "execute_result"
    }
   ],
   "source": [
    "#test_eq(sol_geo.get_df(geo_filter = 'constituency')['total_pop'].sum(), const_df['total_pop'].sum())\n",
    "sol_geo.get_df(geo_filter = 'Constituency', loc_filter=['Nggela', 'East AreAre'])"
   ]
  },
  {
   "cell_type": "code",
   "execution_count": null,
   "metadata": {},
   "outputs": [],
   "source": [
    "# TODO work out how to check save and load are the same as a test\n",
    "# Might need to wreite and equality function"
   ]
  },
  {
   "cell_type": "code",
   "execution_count": null,
   "metadata": {},
   "outputs": [
    {
     "data": {
      "text/plain": [
       "core                                               geometry                100\n",
       "                                                   id                      100\n",
       "                                                   agg                     100\n",
       "                                                   year                    100\n",
       "                                                   location                100\n",
       "                                                                          ... \n",
       "Main source of household income in last 12 months  Sale fish crop craft    100\n",
       "                                                   Land lease              100\n",
       "                                                   House rent              100\n",
       "                                                   Remittances             100\n",
       "                                                   Other source            100\n",
       "Length: 72, dtype: int64"
      ]
     },
     "execution_count": null,
     "metadata": {},
     "output_type": "execute_result"
    }
   ],
   "source": [
    "# TODO should do a count check for the geojson similar to this\n",
    "sol_geo.geo_df[sol_geo.geo_df['core']['agg'] == 'Constituency'].count()"
   ]
  },
  {
   "cell_type": "markdown",
   "metadata": {},
   "source": [
    "# TODO check that all proportions are less than 0"
   ]
  },
  {
   "cell_type": "code",
   "execution_count": null,
   "metadata": {},
   "outputs": [],
   "source": [
    "# TODO filter and test equality?\n",
    "test = sol_geo.get_geojson(geo_filter = 'Ward')"
   ]
  },
  {
   "cell_type": "markdown",
   "metadata": {},
   "source": [
    "The sum after merging and filtering should equal the sum from the raw dataset."
   ]
  },
  {
   "cell_type": "code",
   "execution_count": null,
   "metadata": {},
   "outputs": [
    {
     "name": "stderr",
     "output_type": "stream",
     "text": [
      "/tmp/ipykernel_11743/1266885615.py:1: FutureWarning: Series.__getitem__ treating keys as positions is deprecated. In a future version, integer keys will always be treated as labels (consistent with DataFrame behavior). To access a value by position, use `ser.iloc[pos]`\n",
      "  test_eq(sol_geo.agg_df(geo_filter = 'Constituency',var = 'Key Statistics', measure = 'Total Households')[0],\n"
     ]
    }
   ],
   "source": [
    "test_eq(sol_geo.agg_df(geo_filter = 'Constituency',var = 'Key Statistics', measure = 'Total Households')[0], \n",
    "        const_df.loc[const_df['type'] == 'Total'].loc[const_df['agg'] == 'Constituency']['Key Statistics: Total Households'].sum())"
   ]
  },
  {
   "cell_type": "code",
   "execution_count": null,
   "metadata": {},
   "outputs": [
    {
     "data": {
      "text/plain": [
       "Total Households    91251\n",
       "dtype: int64"
      ]
     },
     "execution_count": null,
     "metadata": {},
     "output_type": "execute_result"
    }
   ],
   "source": [
    "sol_geo.agg_df(geo_filter = 'Constituency', var='Key Statistics', measure = 'Total Households')"
   ]
  },
  {
   "cell_type": "code",
   "execution_count": null,
   "metadata": {},
   "outputs": [
    {
     "data": {
      "text/plain": [
       "array([1671])"
      ]
     },
     "execution_count": null,
     "metadata": {},
     "output_type": "execute_result"
    }
   ],
   "source": [
    "sol_geo.get_df(geo_filter = 'Constituency', var='Key Statistics', measure = 'Total Households', loc_filter=['West Guadalcanal']).values[0]"
   ]
  },
  {
   "cell_type": "code",
   "execution_count": null,
   "metadata": {},
   "outputs": [
    {
     "data": {
      "text/html": [
       "<div>\n",
       "<style scoped>\n",
       "    .dataframe tbody tr th:only-of-type {\n",
       "        vertical-align: middle;\n",
       "    }\n",
       "\n",
       "    .dataframe tbody tr th {\n",
       "        vertical-align: top;\n",
       "    }\n",
       "\n",
       "    .dataframe thead th {\n",
       "        text-align: right;\n",
       "    }\n",
       "</style>\n",
       "<table border=\"1\" class=\"dataframe\">\n",
       "  <thead>\n",
       "    <tr style=\"text-align: right;\">\n",
       "      <th></th>\n",
       "      <th>id</th>\n",
       "    </tr>\n",
       "    <tr>\n",
       "      <th>pk</th>\n",
       "      <th></th>\n",
       "    </tr>\n",
       "  </thead>\n",
       "  <tbody>\n",
       "    <tr>\n",
       "      <th>Choiseul_Total</th>\n",
       "      <td>1</td>\n",
       "    </tr>\n",
       "    <tr>\n",
       "      <th>Choiseul_Proportion</th>\n",
       "      <td>1</td>\n",
       "    </tr>\n",
       "    <tr>\n",
       "      <th>Honiara_Total</th>\n",
       "      <td>10</td>\n",
       "    </tr>\n",
       "    <tr>\n",
       "      <th>Honiara_Proportion</th>\n",
       "      <td>10</td>\n",
       "    </tr>\n",
       "    <tr>\n",
       "      <th>Western_Total</th>\n",
       "      <td>2</td>\n",
       "    </tr>\n",
       "    <tr>\n",
       "      <th>...</th>\n",
       "      <td>...</td>\n",
       "    </tr>\n",
       "    <tr>\n",
       "      <th>Vanikoro_Proportion</th>\n",
       "      <td>915</td>\n",
       "    </tr>\n",
       "    <tr>\n",
       "      <th>Tikopia_Total</th>\n",
       "      <td>916</td>\n",
       "    </tr>\n",
       "    <tr>\n",
       "      <th>Tikopia_Proportion</th>\n",
       "      <td>916</td>\n",
       "    </tr>\n",
       "    <tr>\n",
       "      <th>Neo_Total</th>\n",
       "      <td>917</td>\n",
       "    </tr>\n",
       "    <tr>\n",
       "      <th>Neo_Proportion</th>\n",
       "      <td>917</td>\n",
       "    </tr>\n",
       "  </tbody>\n",
       "</table>\n",
       "<p>486 rows × 1 columns</p>\n",
       "</div>"
      ],
      "text/plain": [
       "                      id\n",
       "pk                      \n",
       "Choiseul_Total         1\n",
       "Choiseul_Proportion    1\n",
       "Honiara_Total         10\n",
       "Honiara_Proportion    10\n",
       "Western_Total          2\n",
       "...                  ...\n",
       "Vanikoro_Proportion  915\n",
       "Tikopia_Total        916\n",
       "Tikopia_Proportion   916\n",
       "Neo_Total            917\n",
       "Neo_Proportion       917\n",
       "\n",
       "[486 rows x 1 columns]"
      ]
     },
     "execution_count": null,
     "metadata": {},
     "output_type": "execute_result"
    }
   ],
   "source": [
    "sol_geo.geo_df['core'].filter(items = ['id'])"
   ]
  },
  {
   "cell_type": "code",
   "execution_count": null,
   "metadata": {},
   "outputs": [
    {
     "data": {
      "text/plain": [
       "metered SIWA drinking water        9.168119\n",
       "communal standpipe                35.114136\n",
       "private water tank                12.471096\n",
       "communal water tank               10.619062\n",
       "well - protected                   2.081073\n",
       "well - unprotected                 1.781898\n",
       "river or stream                   24.543293\n",
       "bottled water                      0.611500\n",
       "other source of drinking water     3.609823\n",
       "dtype: float64"
      ]
     },
     "execution_count": null,
     "metadata": {},
     "output_type": "execute_result"
    }
   ],
   "source": [
    "# TODO -test that they all sum to one\n",
    "test_agg = sol_geo.agg_df(geo_filter = 'Constituency', type_filter='Proportion', var = \"Main source of household drinking water\")\n",
    "test_eq(test_agg.sum(), 100.0)\n",
    "test_agg"
   ]
  },
  {
   "cell_type": "code",
   "execution_count": null,
   "metadata": {},
   "outputs": [
    {
     "data": {
      "text/plain": [
       "100.0"
      ]
     },
     "execution_count": null,
     "metadata": {},
     "output_type": "execute_result"
    }
   ],
   "source": [
    "test_agg.sum()"
   ]
  },
  {
   "cell_type": "code",
   "execution_count": null,
   "metadata": {},
   "outputs": [],
   "source": [
    "#| hide\n",
    "import nbdev; nbdev.nbdev_export()"
   ]
  }
 ],
 "metadata": {
  "kernelspec": {
   "display_name": "python3",
   "language": "python",
   "name": "python3"
  }
 },
 "nbformat": 4,
 "nbformat_minor": 4
}
