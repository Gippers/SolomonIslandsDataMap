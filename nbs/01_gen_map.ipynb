{
 "cells": [
  {
   "cell_type": "markdown",
   "metadata": {},
   "source": [
    "# Generate Map\n",
    "\n",
    "> Class that generates the data map"
   ]
  },
  {
   "cell_type": "code",
   "execution_count": null,
   "metadata": {},
   "outputs": [],
   "source": [
    "#| default_exp gen_map"
   ]
  },
  {
   "cell_type": "code",
   "execution_count": null,
   "metadata": {},
   "outputs": [],
   "source": [
    "#| export\n",
    "from nbdev.showdoc import *\n",
    "from SolomonIslandsDataMap.load_data import *\n"
   ]
  },
  {
   "cell_type": "markdown",
   "metadata": {},
   "source": [
    "## Load the geography data\n",
    ">  Solomons islands geography data is organised at the levels\n",
    "> - adm0 - The country as as whole, Solomon Islands\n",
    "> - adm1 - Also referred to as the province e.g. Honiara, Malaita\n",
    "> - adm2 - The Consituency e.g. Central Honiara\n",
    "> - adm3 - Ward, the smallest geography I am reporting. E.g. Cruz"
   ]
  },
  {
   "cell_type": "code",
   "execution_count": null,
   "metadata": {},
   "outputs": [],
   "source": [
    "#| export\n",
    "class SolomonGeo:\n",
    "    # TODO work out how to format this?\n",
    "    # Look at nbdev docs maybe?\n",
    "    '''\n",
    "    Load the solomon islands geography data \n",
    "    Attributes:\n",
    "        adm3    Geopandas dataframe containing admin 3 geographies.\n",
    "    '''\n",
    "    def __init__(self):\n",
    "        repo = Repo('.', search_parent_directories=True)\n",
    "        fp = str(repo.working_tree_dir) + \"/testData/\"\n",
    "        self.adm3 = self.elt(fp)\n",
    "\n",
    "    def elt(self, pw:str, # The pathway to the dataset\n",
    "           )-> gp.GeoDataFrame: # The geojason dataset for given aggregation\n",
    "        '''\n",
    "        Load and transform given filepath into a geejason geopandas dataframe\n",
    "        '''\n",
    "        adm3 = gp.read_file('zip://' + pw + 'slb_admbnda_adm3.zip')\n",
    "        adm3.to_file('myJson.geojson', driver='GeoJSON')\n",
    "        # Need to set the index, currently using WID\n",
    "        adm3 = adm3.set_index(adm3[\"SINSO_WID\"].values)\n",
    "        return adm3"
   ]
  },
  {
   "cell_type": "code",
   "execution_count": null,
   "metadata": {},
   "outputs": [
    {
     "data": {
      "text/markdown": [
       "---\n",
       "\n",
       "[source](https://github.com/Gippers/SolomonIslandsDataMap/blob/main/SolomonIslandsDataMap/load_data.py#L31){target=\"_blank\" style=\"float:right; font-size:smaller\"}\n",
       "\n",
       "### SolomonGeo\n",
       "\n",
       ">      SolomonGeo ()\n",
       "\n",
       "Load the solomon islands geography data \n",
       "Attributes:\n",
       "    adm3    Geopandas dataframe containing admin 3 geographies."
      ],
      "text/plain": [
       "---\n",
       "\n",
       "[source](https://github.com/Gippers/SolomonIslandsDataMap/blob/main/SolomonIslandsDataMap/load_data.py#L31){target=\"_blank\" style=\"float:right; font-size:smaller\"}\n",
       "\n",
       "### SolomonGeo\n",
       "\n",
       ">      SolomonGeo ()\n",
       "\n",
       "Load the solomon islands geography data \n",
       "Attributes:\n",
       "    adm3    Geopandas dataframe containing admin 3 geographies."
      ]
     },
     "execution_count": null,
     "metadata": {},
     "output_type": "execute_result"
    }
   ],
   "source": [
    "#| hide\n",
    "show_doc(SolomonGeo)"
   ]
  },
  {
   "cell_type": "code",
   "execution_count": null,
   "metadata": {},
   "outputs": [],
   "source": [
    "# TODO, how can I tell people about the attributes?"
   ]
  },
  {
   "cell_type": "markdown",
   "metadata": {},
   "source": [
    "## Load the Census data"
   ]
  },
  {
   "cell_type": "code",
   "execution_count": null,
   "metadata": {},
   "outputs": [],
   "source": [
    "#| export\n",
    "class SolomonCensus:\n",
    "    '''\n",
    "    Load the solomon islands census data \n",
    "    '''\n",
    "    def __init__(self):\n",
    "        repo = Repo('.', search_parent_directories=True)\n",
    "        fp = str(repo.working_tree_dir) + \"/testData/\"\n",
    "        self.data = self.elt(fp)\n",
    "\n",
    "    def elt(self, pw:str, # The pathway to the dataset\n",
    "           )-> pd.pandas: # Return the pandas dataset\n",
    "        '''\n",
    "        Load and transform data from filepath into pandas dataset\n",
    "        '''\n",
    "        df = pd.read_csv(fp + 'sol_census_2009_ward.csv')\n",
    "\n",
    "        # TODO load all the files and merge them together?\n",
    "        return df\n",
    "\n",
    "\n"
   ]
  },
  {
   "cell_type": "code",
   "execution_count": null,
   "metadata": {},
   "outputs": [
    {
     "data": {
      "text/markdown": [
       "---\n",
       "\n",
       "### SolomonCensus\n",
       "\n",
       ">      SolomonCensus ()\n",
       "\n",
       "Load the solomon islands census data"
      ],
      "text/plain": [
       "---\n",
       "\n",
       "### SolomonCensus\n",
       "\n",
       ">      SolomonCensus ()\n",
       "\n",
       "Load the solomon islands census data"
      ]
     },
     "execution_count": null,
     "metadata": {},
     "output_type": "execute_result"
    }
   ],
   "source": [
    "show_doc(SolomonCensus)"
   ]
  },
  {
   "cell_type": "markdown",
   "metadata": {},
   "source": [
    "# Testing"
   ]
  },
  {
   "cell_type": "code",
   "execution_count": null,
   "metadata": {},
   "outputs": [],
   "source": [
    "sol_geo = SolomonGeo()"
   ]
  },
  {
   "cell_type": "code",
   "execution_count": null,
   "metadata": {},
   "outputs": [
    {
     "data": {
      "text/html": [
       "<div>\n",
       "<style scoped>\n",
       "    .dataframe tbody tr th:only-of-type {\n",
       "        vertical-align: middle;\n",
       "    }\n",
       "\n",
       "    .dataframe tbody tr th {\n",
       "        vertical-align: top;\n",
       "    }\n",
       "\n",
       "    .dataframe thead th {\n",
       "        text-align: right;\n",
       "    }\n",
       "</style>\n",
       "<table border=\"1\" class=\"dataframe\">\n",
       "  <thead>\n",
       "    <tr style=\"text-align: right;\">\n",
       "      <th></th>\n",
       "      <th>OBJECTID</th>\n",
       "      <th>SINSO_WID</th>\n",
       "      <th>ADM3_PCODE</th>\n",
       "      <th>ADM3_NAME</th>\n",
       "      <th>ADM2_PCODE</th>\n",
       "      <th>ADM2_NAME</th>\n",
       "      <th>ADM1_PCODE</th>\n",
       "      <th>ADM1_NAME</th>\n",
       "      <th>ADM0_PCODE</th>\n",
       "      <th>COUNTRY</th>\n",
       "      <th>SINSO_CID</th>\n",
       "      <th>SINSO_PID</th>\n",
       "      <th>geometry</th>\n",
       "    </tr>\n",
       "  </thead>\n",
       "  <tbody>\n",
       "    <tr>\n",
       "      <th>1001</th>\n",
       "      <td>1</td>\n",
       "      <td>1001</td>\n",
       "      <td>SB1010431001</td>\n",
       "      <td>Nggosi</td>\n",
       "      <td>SB101043</td>\n",
       "      <td>West Honiara</td>\n",
       "      <td>SB10</td>\n",
       "      <td>Honiara</td>\n",
       "      <td>SB</td>\n",
       "      <td>Solomon Islands</td>\n",
       "      <td>1043</td>\n",
       "      <td>10</td>\n",
       "      <td>POLYGON Z ((1104818.130 -1046772.426 0.000, 11...</td>\n",
       "    </tr>\n",
       "    <tr>\n",
       "      <th>1002</th>\n",
       "      <td>2</td>\n",
       "      <td>1002</td>\n",
       "      <td>SB1010431002</td>\n",
       "      <td>Mbumburu</td>\n",
       "      <td>SB101043</td>\n",
       "      <td>West Honiara</td>\n",
       "      <td>SB10</td>\n",
       "      <td>Honiara</td>\n",
       "      <td>SB</td>\n",
       "      <td>Solomon Islands</td>\n",
       "      <td>1043</td>\n",
       "      <td>10</td>\n",
       "      <td>POLYGON Z ((1107079.803 -1048040.379 0.000, 11...</td>\n",
       "    </tr>\n",
       "    <tr>\n",
       "      <th>1003</th>\n",
       "      <td>3</td>\n",
       "      <td>1003</td>\n",
       "      <td>SB1010431003</td>\n",
       "      <td>Rove - Lengakiki</td>\n",
       "      <td>SB101043</td>\n",
       "      <td>West Honiara</td>\n",
       "      <td>SB10</td>\n",
       "      <td>Honiara</td>\n",
       "      <td>SB</td>\n",
       "      <td>Solomon Islands</td>\n",
       "      <td>1043</td>\n",
       "      <td>10</td>\n",
       "      <td>POLYGON Z ((1106918.942 -1047270.637 0.000, 11...</td>\n",
       "    </tr>\n",
       "    <tr>\n",
       "      <th>1004</th>\n",
       "      <td>4</td>\n",
       "      <td>1004</td>\n",
       "      <td>SB1010421004</td>\n",
       "      <td>Cruz</td>\n",
       "      <td>SB101042</td>\n",
       "      <td>Central Honiara</td>\n",
       "      <td>SB10</td>\n",
       "      <td>Honiara</td>\n",
       "      <td>SB</td>\n",
       "      <td>Solomon Islands</td>\n",
       "      <td>1042</td>\n",
       "      <td>10</td>\n",
       "      <td>POLYGON Z ((1107949.631 -1047995.867 0.000, 11...</td>\n",
       "    </tr>\n",
       "    <tr>\n",
       "      <th>1005</th>\n",
       "      <td>5</td>\n",
       "      <td>1005</td>\n",
       "      <td>SB1010421005</td>\n",
       "      <td>Vavaea</td>\n",
       "      <td>SB101042</td>\n",
       "      <td>Central Honiara</td>\n",
       "      <td>SB10</td>\n",
       "      <td>Honiara</td>\n",
       "      <td>SB</td>\n",
       "      <td>Solomon Islands</td>\n",
       "      <td>1042</td>\n",
       "      <td>10</td>\n",
       "      <td>POLYGON Z ((1108708.612 -1047377.358 0.000, 11...</td>\n",
       "    </tr>\n",
       "  </tbody>\n",
       "</table>\n",
       "</div>"
      ],
      "text/plain": [
       "      OBJECTID SINSO_WID    ADM3_PCODE         ADM3_NAME ADM2_PCODE  \\\n",
       "1001         1      1001  SB1010431001            Nggosi   SB101043   \n",
       "1002         2      1002  SB1010431002          Mbumburu   SB101043   \n",
       "1003         3      1003  SB1010431003  Rove - Lengakiki   SB101043   \n",
       "1004         4      1004  SB1010421004              Cruz   SB101042   \n",
       "1005         5      1005  SB1010421005            Vavaea   SB101042   \n",
       "\n",
       "            ADM2_NAME ADM1_PCODE ADM1_NAME ADM0_PCODE          COUNTRY  \\\n",
       "1001     West Honiara       SB10   Honiara         SB  Solomon Islands   \n",
       "1002     West Honiara       SB10   Honiara         SB  Solomon Islands   \n",
       "1003     West Honiara       SB10   Honiara         SB  Solomon Islands   \n",
       "1004  Central Honiara       SB10   Honiara         SB  Solomon Islands   \n",
       "1005  Central Honiara       SB10   Honiara         SB  Solomon Islands   \n",
       "\n",
       "     SINSO_CID SINSO_PID                                           geometry  \n",
       "1001      1043        10  POLYGON Z ((1104818.130 -1046772.426 0.000, 11...  \n",
       "1002      1043        10  POLYGON Z ((1107079.803 -1048040.379 0.000, 11...  \n",
       "1003      1043        10  POLYGON Z ((1106918.942 -1047270.637 0.000, 11...  \n",
       "1004      1042        10  POLYGON Z ((1107949.631 -1047995.867 0.000, 11...  \n",
       "1005      1042        10  POLYGON Z ((1108708.612 -1047377.358 0.000, 11...  "
      ]
     },
     "execution_count": null,
     "metadata": {},
     "output_type": "execute_result"
    }
   ],
   "source": [
    "sol_geo.adm3.head()"
   ]
  },
  {
   "cell_type": "code",
   "execution_count": null,
   "metadata": {},
   "outputs": [
    {
     "data": {
      "text/html": [
       "<div>\n",
       "<style scoped>\n",
       "    .dataframe tbody tr th:only-of-type {\n",
       "        vertical-align: middle;\n",
       "    }\n",
       "\n",
       "    .dataframe tbody tr th {\n",
       "        vertical-align: top;\n",
       "    }\n",
       "\n",
       "    .dataframe thead th {\n",
       "        text-align: right;\n",
       "    }\n",
       "</style>\n",
       "<table border=\"1\" class=\"dataframe\">\n",
       "  <thead>\n",
       "    <tr style=\"text-align: right;\">\n",
       "      <th></th>\n",
       "      <th>id</th>\n",
       "      <th>ward_name</th>\n",
       "      <th>male_pop</th>\n",
       "      <th>female_pop</th>\n",
       "      <th>total_pop</th>\n",
       "    </tr>\n",
       "  </thead>\n",
       "  <tbody>\n",
       "    <tr>\n",
       "      <th>0</th>\n",
       "      <td>1001</td>\n",
       "      <td>Nggosi</td>\n",
       "      <td>5240</td>\n",
       "      <td>4822</td>\n",
       "      <td>10062</td>\n",
       "    </tr>\n",
       "    <tr>\n",
       "      <th>1</th>\n",
       "      <td>1002</td>\n",
       "      <td>Mbumburu</td>\n",
       "      <td>1912</td>\n",
       "      <td>1713</td>\n",
       "      <td>3625</td>\n",
       "    </tr>\n",
       "    <tr>\n",
       "      <th>2</th>\n",
       "      <td>1003</td>\n",
       "      <td>Rove - Lengakiki</td>\n",
       "      <td>1464</td>\n",
       "      <td>1149</td>\n",
       "      <td>2613</td>\n",
       "    </tr>\n",
       "    <tr>\n",
       "      <th>3</th>\n",
       "      <td>1004</td>\n",
       "      <td>Cruz</td>\n",
       "      <td>125</td>\n",
       "      <td>107</td>\n",
       "      <td>232</td>\n",
       "    </tr>\n",
       "    <tr>\n",
       "      <th>4</th>\n",
       "      <td>1005</td>\n",
       "      <td>Vavaea</td>\n",
       "      <td>3788</td>\n",
       "      <td>3208</td>\n",
       "      <td>6996</td>\n",
       "    </tr>\n",
       "  </tbody>\n",
       "</table>\n",
       "</div>"
      ],
      "text/plain": [
       "     id         ward_name  male_pop  female_pop  total_pop\n",
       "0  1001            Nggosi      5240        4822      10062\n",
       "1  1002          Mbumburu      1912        1713       3625\n",
       "2  1003  Rove - Lengakiki      1464        1149       2613\n",
       "3  1004              Cruz       125         107        232\n",
       "4  1005            Vavaea      3788        3208       6996"
      ]
     },
     "execution_count": null,
     "metadata": {},
     "output_type": "execute_result"
    }
   ],
   "source": [
    "sol_census = SolomonCensus()\n",
    "sol_census.data.head()"
   ]
  },
  {
   "cell_type": "code",
   "execution_count": null,
   "metadata": {},
   "outputs": [],
   "source": [
    "#| hide\n",
    "import nbdev; nbdev.nbdev_export()"
   ]
  },
  {
   "cell_type": "code",
   "execution_count": null,
   "metadata": {},
   "outputs": [],
   "source": []
  }
 ],
 "metadata": {
  "kernelspec": {
   "display_name": "python3",
   "language": "python",
   "name": "python3"
  }
 },
 "nbformat": 4,
 "nbformat_minor": 4
}
