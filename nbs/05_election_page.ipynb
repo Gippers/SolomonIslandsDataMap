{
 "cells": [
  {
   "cell_type": "markdown",
   "metadata": {},
   "source": [
    "# Election Page\n",
    "\n",
    "> The page of the app that generates the data table view."
   ]
  },
  {
   "cell_type": "code",
   "execution_count": null,
   "metadata": {},
   "outputs": [],
   "source": [
    "#| default_exp pages/election_page"
   ]
  },
  {
   "cell_type": "code",
   "execution_count": null,
   "metadata": {},
   "outputs": [],
   "source": [
    "#| export\n",
    "# TODO minimise these imports a bit where possible\n",
    "from nbdev.showdoc import *\n",
    "# TODO work out how to get around below hack\n",
    "try:\n",
    "    from SolomonIslandsDataMap.dash_components import election_bar_plot, gen_dd\n",
    "    from SolomonIslandsDataMap.app_data import mytitle, election_map, election_bar, stored_data, fake_slider\n",
    "    from SolomonIslandsDataMap.load_data import SolomonGeo\n",
    "except: \n",
    "    from dash_components import election_bar_plot, gen_dd\n",
    "    from app_data import mytitle, election_map, election_bar, stored_data, fake_slider\n",
    "    from load_data import SolomonGeo\n",
    "from fastcore.test import *\n",
    "from dash import Dash, dcc, callback, Output, Input, State, html, Patch, ctx, register_page, callback_context \n",
    "import dash_bootstrap_components as dbc    \n",
    "import dash_ag_grid as dag\n",
    "import plotly.graph_objects as go\n",
    "from dash.exceptions import PreventUpdate"
   ]
  },
  {
   "cell_type": "code",
   "execution_count": null,
   "metadata": {},
   "outputs": [],
   "source": [
    "#| export\n",
    "try:\n",
    "    register_page(__name__, \n",
    "                        path='/electionmap',\n",
    "                        title='Election Map',\n",
    "                        name='Election Map')\n",
    "except:\n",
    "    pass"
   ]
  },
  {
   "cell_type": "markdown",
   "metadata": {},
   "source": [
    "Setup some of  the key data contiaining objects"
   ]
  },
  {
   "cell_type": "code",
   "execution_count": null,
   "metadata": {},
   "outputs": [],
   "source": [
    "#| export\n",
    "init_init = dcc.Store(id=\"initial-initial\", data='election')\n",
    "def layout():\n",
    "    return dbc.Col(mytitle, width = 8),\\\n",
    "                dcc.Loading(\n",
    "                    id=\"loading-election-map\",\n",
    "                    type=\"default\",\n",
    "                    children = election_map,\n",
    "                ),\\\n",
    "                dcc.Loading(\n",
    "                    id=\"loading-election-bar\",\n",
    "                    type=\"default\",\n",
    "                    children = election_bar,), init_init, fake_slider\n"
   ]
  },
  {
   "cell_type": "markdown",
   "metadata": {},
   "source": [
    "## Global Variables"
   ]
  },
  {
   "cell_type": "code",
   "execution_count": null,
   "metadata": {},
   "outputs": [],
   "source": [
    "#| export\n",
    "dict_sol = stored_data.data"
   ]
  },
  {
   "cell_type": "markdown",
   "metadata": {},
   "source": [
    "# Dash Callbacks\n",
    "Create interactivity in the data table"
   ]
  },
  {
   "cell_type": "code",
   "execution_count": null,
   "metadata": {},
   "outputs": [],
   "source": [
    "#| export\n",
    "# Callback allows components to interact\n",
    "@callback(\n",
    "    Output('election_bar', 'figure'),\n",
    "    Input(\"segmented_type\", 'value'),\n",
    "    Input('electionDropdown', 'value'),\n",
    "    Input('locDropdown', 'value'),\n",
    "    Input('initial-initial', 'data'),\n",
    "    Input('elecYearDropdown', 'value'),\n",
    "    State(\"segmented_geo\", 'value'),\n",
    "    #State('geo_df', 'data'),\n",
    "    allow_duplicate=True,\n",
    "    prevent_initial_call=True\n",
    ")\n",
    "def update_election_bar(data_type:str, # User input of type of data\n",
    "                     election:str, # A string contiaining the election type\n",
    "                     loc_selection:str, # The selected locations, may be none\n",
    "                     init_load:{}, # An empty dictionary always, triggers initial load\n",
    "                     elecYear:str, # The year of the election\n",
    "                     geo_input:str, # User input from the geography dropdown\n",
    "                     #dict_sol:dict, # The dataset in dictionary form\n",
    "              )->(type(go.Figure())): # Returns a graph object figure after being updated and the dynamic title\n",
    "    '''\n",
    "    Updates the focus census variable or geography dispalayed on the map\n",
    "    '''\n",
    "    sol_geo = SolomonGeo.gen_stored(dict_sol) # reload the data\n",
    "\n",
    "    # Create newly selected barplot\n",
    "    print(\"Func: update_election_bargraph\")\n",
    "    loc = 'Central Honiara'\n",
    "    if len(loc_selection) > 0: \n",
    "        loc = loc_selection[-1]\n",
    "\n",
    "    bg = election_bar_plot(sol_geo, geo_input, elecYear, election, loc, data_type)\n",
    "\n",
    "    # returned objects are assigned to the component property of the Output\n",
    "    # After updating fileter, we always reset map selection \n",
    "\n",
    "    return  bg"
   ]
  },
  {
   "cell_type": "markdown",
   "metadata": {},
   "source": [
    "### Election Map Click\n",
    "Update the bar graph base on the map click"
   ]
  },
  {
   "cell_type": "code",
   "execution_count": null,
   "metadata": {},
   "outputs": [],
   "source": [
    "#| export\n",
    "@callback(\n",
    "    Output('locDropdown', 'value', allow_duplicate=True),\n",
    "    Output('election_map', \"clickData\"),\n",
    "    Output('election_map', \"selectedData\"),\n",
    "    Input('election_map', 'clickData'),\n",
    "    State('locDropdown', 'value'),\n",
    "    prevent_initial_call=True,\n",
    "    allow_duplicate=True,\n",
    ") # TODO - eventually can I turn this into a clientside callbback?\n",
    "def map_click(clickData:dict, # The currently clicked location on the map\n",
    "              selectedData:dict, # The currently selected locations on the map\n",
    "                )->[str]: # Returns the new value for the dropdown\n",
    "    \"\"\"This function updates the elections barplot based on the map click data,\n",
    "    only a single location selected for this one\"\"\"\n",
    "\n",
    "    print(\"Func: map_click\")\n",
    "    if clickData is None:\n",
    "        # When nothing is selected or clicked, don't update anything\n",
    "        raise PreventUpdate # if changing to clientside, use: window.dash_clientside.no_update\n",
    "        #return prev_locs, None, None\n",
    "    else:\n",
    "        selections = list(map(lambda x: x['location'], clickData['points']))\n",
    "        # Return the last selection\n",
    "        return selections, None, None"
   ]
  },
  {
   "cell_type": "code",
   "execution_count": null,
   "metadata": {},
   "outputs": [],
   "source": [
    "#| hide\n",
    "import nbdev; nbdev.nbdev_export()"
   ]
  }
 ],
 "metadata": {
  "kernelspec": {
   "display_name": "python3",
   "language": "python",
   "name": "python3"
  }
 },
 "nbformat": 4,
 "nbformat_minor": 2
}
