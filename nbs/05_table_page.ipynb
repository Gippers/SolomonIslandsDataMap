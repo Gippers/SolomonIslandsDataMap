{
 "cells": [
  {
   "cell_type": "markdown",
   "metadata": {},
   "source": [
    "# Table Page\n",
    "\n",
    "> The page of the app that generates the data table view."
   ]
  },
  {
   "cell_type": "code",
   "execution_count": null,
   "metadata": {},
   "outputs": [],
   "source": [
    "#| default_exp pages/table_page"
   ]
  },
  {
   "cell_type": "code",
   "execution_count": null,
   "metadata": {},
   "outputs": [],
   "source": [
    "#| export\n",
    "# TODO minimise these imports a bit where possible\n",
    "from nbdev.showdoc import *\n",
    "# TODO work out how to get around below hack\n",
    "try:\n",
    "    from SolomonIslandsDataMap.dash_components import gen_census_grid, gen_pop_grid, gen_dd\n",
    "    from SolomonIslandsDataMap.app_data import mytitle, data_grid, stored_data, dropdown_location \\\n",
    "        , control_type, dd_var, dd_measure, dropdown_geo, download_button\n",
    "    from SolomonIslandsDataMap.load_data import SolomonGeo\n",
    "except: \n",
    "    from dash_components import gen_census_grid, gen_pop_grid, gen_dd\n",
    "    from app_data import mytitle, data_grid, stored_data, dropdown_location \\\n",
    "        , control_type, dd_var, dd_measure, dropdown_geo, download_button\n",
    "    from load_data import SolomonGeo\n",
    "from fastcore.test import *\n",
    "from dash import Dash, dcc, callback, Output, Input, State, html, Patch, ctx, register_page, callback_context \n",
    "import dash_bootstrap_components as dbc    \n",
    "import dash_ag_grid as dag"
   ]
  },
  {
   "cell_type": "code",
   "execution_count": null,
   "metadata": {},
   "outputs": [],
   "source": [
    "#| export\n",
    "try:\n",
    "    register_page(__name__, \n",
    "                        path='/datatable',\n",
    "                        title='Data Table',\n",
    "                        name='Data Table')\n",
    "except:\n",
    "    pass"
   ]
  },
  {
   "cell_type": "code",
   "execution_count": null,
   "metadata": {},
   "outputs": [],
   "source": [
    "# TODO load the data and dropdown"
   ]
  },
  {
   "cell_type": "markdown",
   "metadata": {},
   "source": [
    "Setup some of  the key data contiaining objects"
   ]
  },
  {
   "cell_type": "code",
   "execution_count": null,
   "metadata": {},
   "outputs": [],
   "source": [
    "#| export\n",
    "title = dcc.Markdown(children=\"## This is a placeholder test!!\") # TODO This needs a default title, shift to 02"
   ]
  },
  {
   "cell_type": "code",
   "execution_count": null,
   "metadata": {},
   "outputs": [],
   "source": [
    "#| export\n",
    "init_init = dcc.Store(id=\"initial-initial\", data='table')\n",
    "def layout():\n",
    "    return dbc.Row([\n",
    "                dbc.Col(title, width = 8),\n",
    "                dbc.Col(download_button, width = {\"size\": 2})\n",
    "                      ]), data_grid, stored_data, init_init,\n"
   ]
  },
  {
   "cell_type": "markdown",
   "metadata": {},
   "source": [
    "# Dash Callbacks\n",
    "Create interactivity in the data table"
   ]
  },
  {
   "cell_type": "markdown",
   "metadata": {},
   "source": [
    "### Create a callback that always triggers the map data and bargaph to update on map load\n",
    "I did this as the array of callbacks are quite complex and others are triggering the maps initial load"
   ]
  },
  {
   "cell_type": "markdown",
   "metadata": {},
   "source": [
    "#| export\n",
    "# TODO this defintiely seems hacky, must be a better way\n",
    "\n",
    "@callback(\n",
    "    Output('initial-load', 'data'),\n",
    "    Input(init_init, 'data')\n",
    ")\n",
    "def initial_load_table(fakeData:{}, # A fake variable, ignore\n",
    "                    ) -> None: \n",
    "    \"\"\"This just triggers initial load\"\"\"\n",
    "    return None\n",
    "        "
   ]
  },
  {
   "cell_type": "markdown",
   "metadata": {},
   "source": [
    "show_doc(initial_load_table)  "
   ]
  },
  {
   "cell_type": "markdown",
   "metadata": {},
   "source": [
    "## Update the data displayed in the table"
   ]
  },
  {
   "cell_type": "code",
   "execution_count": null,
   "metadata": {},
   "outputs": [],
   "source": [
    "#| export\n",
    "@callback(\n",
    "    Output(data_grid, 'children'),\n",
    "    Output(title, 'children'),\n",
    "    Input(dropdown_geo, 'value'),\n",
    "    Input(control_type, 'value'),\n",
    "    Input('measureDropdown', 'value'),\n",
    "    Input('varDropdown', 'value'),\n",
    "    State('geo_df', 'data'),\n",
    "    State('grid-rows', 'value'),\n",
    "    allow_duplicate=True,\n",
    ")\n",
    "def update_grid(geo_input:str, # User input from the geography dropdownk\n",
    "                    data_type:str, # User input of type of data\n",
    "                    measure:str, # A string contiaining the census variable and measure split by ':'\n",
    "                    variable:str, # The state of the variable dropdown\n",
    "                    dict_sol:dict, # The dataset in dictionary form\n",
    "                    grid_rows:int, # The number of rows to display\n",
    "              )->(dag.AgGrid, str): # Returns a graph object figure after being updated and the dynamic title\n",
    "    '''\n",
    "    Updates the focus census variable or geography dispalayed on the map\n",
    "    '''\n",
    "    # TODO add proportion functionality\n",
    "    # TODO add add an option for first call to be a default rebuild\n",
    "    # TODO decide wether to implment patch later\n",
    "    patched_figure = Patch()\n",
    "    button_clicked = ctx.triggered_id\n",
    "    print(\"What happens when auto triggered?\")\n",
    "    print(button_clicked)\n",
    "\n",
    "    sol_geo = SolomonGeo.gen_stored(dict_sol) # reload the data\n",
    "\n",
    "    print(button_clicked)\n",
    "    if button_clicked == dropdown_location.id:\n",
    "        # Update disaplayed geography \n",
    "        # TODO in future update row highlighting\n",
    "        print(\"locationsleected\")\n",
    "        \n",
    "    elif button_clicked in [control_type.id, dropdown_geo.id,  'varDropdown',  'measureDropdown', None]:\n",
    "        # Rebuild the table given updated selection\n",
    "        # None is the initial call\n",
    "        patched_figure = gen_census_grid(sol_geo, geo_input,variable, measure, \n",
    "            type_filter = data_type, grid_rows=grid_rows)\n",
    "\n",
    "\n",
    "    #elif button_clicked == 'measureDropdown':\n",
    "        # TODO in future update for column highlighting/ordering\n",
    "    #    print(\"measure selected\")\n",
    "        \n",
    "    # returned objects are assigned to the component property of the Output\n",
    "    # After updating fileter, we always reset map selection \n",
    "\n",
    "    return patched_figure, '## ' + variable + \" by \" + geo_input"
   ]
  },
  {
   "cell_type": "code",
   "execution_count": null,
   "metadata": {},
   "outputs": [
    {
     "data": {
      "text/markdown": [
       "---\n",
       "\n",
       "### update_grid\n",
       "\n",
       ">      update_grid (geo_input:str, data_type:str, measure:str, variable:str,\n",
       ">                   dict_sol:dict, grid_rows:int)\n",
       "\n",
       "Updates the focus census variable or geography dispalayed on the map\n",
       "\n",
       "|    | **Type** | **Details** |\n",
       "| -- | -------- | ----------- |\n",
       "| geo_input | str | User input from the geography dropdownk |\n",
       "| data_type | str | User input of type of data |\n",
       "| measure | str | A string contiaining the census variable and measure split by ':' |\n",
       "| variable | str | The state of the variable dropdown |\n",
       "| dict_sol | dict | The dataset in dictionary form |\n",
       "| grid_rows | int | The number of rows to display |\n",
       "| **Returns** | **(<class 'dash_ag_grid.AgGrid.AgGrid'>, <class 'str'>)** | **Returns a graph object figure after being updated and the dynamic title** |"
      ],
      "text/plain": [
       "---\n",
       "\n",
       "### update_grid\n",
       "\n",
       ">      update_grid (geo_input:str, data_type:str, measure:str, variable:str,\n",
       ">                   dict_sol:dict, grid_rows:int)\n",
       "\n",
       "Updates the focus census variable or geography dispalayed on the map\n",
       "\n",
       "|    | **Type** | **Details** |\n",
       "| -- | -------- | ----------- |\n",
       "| geo_input | str | User input from the geography dropdownk |\n",
       "| data_type | str | User input of type of data |\n",
       "| measure | str | A string contiaining the census variable and measure split by ':' |\n",
       "| variable | str | The state of the variable dropdown |\n",
       "| dict_sol | dict | The dataset in dictionary form |\n",
       "| grid_rows | int | The number of rows to display |\n",
       "| **Returns** | **(<class 'dash_ag_grid.AgGrid.AgGrid'>, <class 'str'>)** | **Returns a graph object figure after being updated and the dynamic title** |"
      ]
     },
     "execution_count": null,
     "metadata": {},
     "output_type": "execute_result"
    }
   ],
   "source": [
    "show_doc(update_grid)"
   ]
  },
  {
   "cell_type": "markdown",
   "metadata": {},
   "source": [
    "## Update the Grid row count\n",
    "Needs to both:\n",
    "- update max input based on the geography selected\n",
    "- update the dash_grid size based on the selected row count"
   ]
  },
  {
   "cell_type": "code",
   "execution_count": null,
   "metadata": {},
   "outputs": [],
   "source": [
    "#| export\n",
    "@callback(\n",
    "    Output(\"grid-rows\", \"value\"),\n",
    "    Output(\"grid-rows\", \"max\"),\n",
    "    Input(dropdown_geo, 'value'),\n",
    "    State(stored_data, 'data'),\n",
    "    suppress_callback_exceptions = True,\n",
    ")\n",
    "def update_page_rows(geo_input:str, # User input from the geography dropdown\n",
    "                    dict_sol:dict, # The dataset in dictionary form\n",
    "                    ) -> (int, int): # New value and max size of the grid selection\n",
    "    ''' Updates the page size and max of the input selection based on updated geography'''\n",
    "    sol_geo = SolomonGeo.gen_stored(dict_sol) # reload the data\n",
    "    return 10, len(sol_geo.locations[geo_input])"
   ]
  },
  {
   "cell_type": "code",
   "execution_count": null,
   "metadata": {},
   "outputs": [
    {
     "data": {
      "text/markdown": [
       "---\n",
       "\n",
       "### update_page_rows\n",
       "\n",
       ">      update_page_rows (geo_input:str, dict_sol:dict)\n",
       "\n",
       "Updates the page size and max of the input selection based on updated geography\n",
       "\n",
       "|    | **Type** | **Details** |\n",
       "| -- | -------- | ----------- |\n",
       "| geo_input | str | User input from the geography dropdown |\n",
       "| dict_sol | dict | The dataset in dictionary form |\n",
       "| **Returns** | **(<class 'int'>, <class 'int'>)** | **New value and max size of the grid selection** |"
      ],
      "text/plain": [
       "---\n",
       "\n",
       "### update_page_rows\n",
       "\n",
       ">      update_page_rows (geo_input:str, dict_sol:dict)\n",
       "\n",
       "Updates the page size and max of the input selection based on updated geography\n",
       "\n",
       "|    | **Type** | **Details** |\n",
       "| -- | -------- | ----------- |\n",
       "| geo_input | str | User input from the geography dropdown |\n",
       "| dict_sol | dict | The dataset in dictionary form |\n",
       "| **Returns** | **(<class 'int'>, <class 'int'>)** | **New value and max size of the grid selection** |"
      ]
     },
     "execution_count": null,
     "metadata": {},
     "output_type": "execute_result"
    }
   ],
   "source": [
    "show_doc(update_page_rows)"
   ]
  },
  {
   "cell_type": "code",
   "execution_count": null,
   "metadata": {},
   "outputs": [],
   "source": [
    "#| export\n",
    "@callback(\n",
    "    Output(\"dash-grid\", \"dashGridOptions\"),\n",
    "    Input(\"grid-rows\", \"value\"),\n",
    "    State(\"dash-grid\", \"dashGridOptions\"),\n",
    "    suppress_callback_exceptions = True,\n",
    ")\n",
    "def update_page_size(page_size:int, # The input page size\n",
    "                    grid_options:dict, # The current grid page size option\n",
    "                    ) -> dict: # The updated grid page size option\n",
    "    ''' Updates the page size of the grid based on input'''\n",
    "    page_size = 1 if page_size is None else page_size\n",
    "    grid_options[\"paginationPageSize\"] = page_size\n",
    "    return grid_options"
   ]
  },
  {
   "cell_type": "code",
   "execution_count": null,
   "metadata": {},
   "outputs": [
    {
     "data": {
      "text/markdown": [
       "---\n",
       "\n",
       "### update_page_size\n",
       "\n",
       ">      update_page_size (page_size:int, grid_options:dict)\n",
       "\n",
       "Updates the page size of the grid based on input\n",
       "\n",
       "|    | **Type** | **Details** |\n",
       "| -- | -------- | ----------- |\n",
       "| page_size | int | The input page size |\n",
       "| grid_options | dict | The current grid page size option |\n",
       "| **Returns** | **dict** | **The updated grid page size option** |"
      ],
      "text/plain": [
       "---\n",
       "\n",
       "### update_page_size\n",
       "\n",
       ">      update_page_size (page_size:int, grid_options:dict)\n",
       "\n",
       "Updates the page size of the grid based on input\n",
       "\n",
       "|    | **Type** | **Details** |\n",
       "| -- | -------- | ----------- |\n",
       "| page_size | int | The input page size |\n",
       "| grid_options | dict | The current grid page size option |\n",
       "| **Returns** | **dict** | **The updated grid page size option** |"
      ]
     },
     "execution_count": null,
     "metadata": {},
     "output_type": "execute_result"
    }
   ],
   "source": [
    "show_doc(update_page_size)"
   ]
  },
  {
   "cell_type": "markdown",
   "metadata": {},
   "source": [
    "## Enable downloading the current csv\n",
    "On click of download button, return the current csv in the dash grid"
   ]
  },
  {
   "cell_type": "code",
   "execution_count": null,
   "metadata": {},
   "outputs": [],
   "source": [
    "#| export\n",
    "@callback(\n",
    "    Output(\"dash-grid\", \"exportDataAsCsv\"),\n",
    "    [Input('csv-button', \"n_clicks\")],\n",
    ")\n",
    "def export_data_as_csv(n_clicks:int, # Listening for click inputs\n",
    "                       ) -> bool: # Whether to download csv\n",
    "    trigger = callback_context.triggered[0]\n",
    "    if trigger['prop_id'] ==  'csv-button.n_clicks':\n",
    "        return True\n",
    "    return False"
   ]
  },
  {
   "cell_type": "code",
   "execution_count": null,
   "metadata": {},
   "outputs": [],
   "source": [
    "#| hide\n",
    "import nbdev; nbdev.nbdev_export()"
   ]
  },
  {
   "cell_type": "code",
   "execution_count": null,
   "metadata": {},
   "outputs": [
    {
     "data": {
      "text/plain": [
       "[{'field': 'Province',\n",
       "  'headerName': 'Province',\n",
       "  'filter': True,\n",
       "  'lockPinned': True,\n",
       "  'cellClass': 'lock-pinned'},\n",
       " {'field': 'Total Households', 'headerName': 'Total Households'}]"
      ]
     },
     "execution_count": null,
     "metadata": {},
     "output_type": "execute_result"
    }
   ],
   "source": [
    "data_grid.children.columnDefs"
   ]
  }
 ],
 "metadata": {
  "kernelspec": {
   "display_name": "python3",
   "language": "python",
   "name": "python3"
  }
 },
 "nbformat": 4,
 "nbformat_minor": 2
}
