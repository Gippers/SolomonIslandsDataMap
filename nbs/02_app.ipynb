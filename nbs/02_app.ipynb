{
 "cells": [
  {
   "cell_type": "markdown",
   "metadata": {},
   "source": [
    "# Generate Map\n",
    "\n",
    "> Class that generates the data map"
   ]
  },
  {
   "cell_type": "code",
   "execution_count": null,
   "metadata": {},
   "outputs": [],
   "source": [
    "#| default_exp app"
   ]
  },
  {
   "cell_type": "code",
   "execution_count": null,
   "metadata": {},
   "outputs": [],
   "source": [
    "#| export\n",
    "from nbdev.showdoc import *\n",
    "# TODO work out how to get around below hack\n",
    "try:\n",
    "    from SolomonIslandsDataMap.load_data import *\n",
    "    from SolomonIslandsDataMap.dash_components import *\n",
    "except: \n",
    "    from load_data import *\n",
    "    from dash_components import *\n",
    "import plotly.express as px\n",
    "import plotly.graph_objects as go\n",
    "import plotly.io as pio # Unless this is used graphs will not be dynamic?\n",
    "import json\n",
    "from git import Repo\n",
    "import pandas as pd\n",
    "import numpy as np\n",
    "from fastcore.test import *\n",
    "from dash import Dash, dcc, Output, Input, html, Patch, ctx  # pip install dash\n",
    "import dash_bootstrap_components as dbc    # pip install dash-bootstrap-components\n",
    "from dash_bootstrap_templates import load_figure_template\n",
    "import random\n",
    "import dash_mantine_components as dmc"
   ]
  },
  {
   "cell_type": "code",
   "execution_count": null,
   "metadata": {},
   "outputs": [],
   "source": [
    "# TODO - do a need a state class that tracks the state of different website objects to help with\n",
    "# updating etc. \n",
    "# TODO - not even state, should it be an object that contains everythin to track. Execpt if I am patching,\n",
    "# then the tracking in mem is unessary, so better to just track necesary values like: last changes card etc. "
   ]
  },
  {
   "cell_type": "markdown",
   "metadata": {},
   "source": [
    "## Load Data"
   ]
  },
  {
   "cell_type": "code",
   "execution_count": null,
   "metadata": {},
   "outputs": [],
   "source": [
    "#| export\n",
    "sol_geo = SolomonGeo.load_pickle(\"/testData/\")\n",
    "geo_df = sol_geo.geo_df"
   ]
  },
  {
   "cell_type": "code",
   "execution_count": null,
   "metadata": {},
   "outputs": [],
   "source": [
    "fig = define_map(sol_geo)"
   ]
  },
  {
   "cell_type": "code",
   "execution_count": null,
   "metadata": {},
   "outputs": [
    {
     "data": {
      "text/plain": [
       "()"
      ]
     },
     "execution_count": null,
     "metadata": {},
     "output_type": "execute_result"
    }
   ],
   "source": [
    "fig['frames']\n"
   ]
  },
  {
   "cell_type": "markdown",
   "metadata": {},
   "source": [
    "## Setup Dash Components"
   ]
  },
  {
   "cell_type": "markdown",
   "metadata": {},
   "source": [
    "Setup the app and global variables"
   ]
  },
  {
   "cell_type": "code",
   "execution_count": null,
   "metadata": {},
   "outputs": [],
   "source": [
    "#| export\n",
    "# Build your components\n",
    "# FYI the best themes seem to be: [Darkly, Flatly, Minty, Slate, JOURNAL]\n",
    "app = Dash(__name__, external_stylesheets=[dbc.themes.MINTY])\n",
    "server = app.server\n",
    "load_figure_template(\"minty\")\n",
    "\n",
    "geos = sol_geo.geo_levels\n",
    "cen_vars = sol_geo.census_vars\n"
   ]
  },
  {
   "cell_type": "markdown",
   "metadata": {},
   "source": [
    "Setup some of  the key data contiaining objects"
   ]
  },
  {
   "cell_type": "code",
   "execution_count": null,
   "metadata": {},
   "outputs": [],
   "source": [
    "#| export\n",
    "mytitle = dcc.Markdown(children=\"## \" + list(cen_vars.keys())[0] + \" by \" + geos[0]) # TODO This needs a default title\n",
    "map_graph = dcc.Graph(figure=define_map(sol_geo), selectedData=None)\n",
    "# TODO entire accordian will need to be the child\n",
    "cards = dbc.Accordion(children= \n",
    "        card_list(sol_geo, \"Current Selection: Total\"),\n",
    "        always_open=True,\n",
    "        class_name = \"accordion-header\",\n",
    "    )\n",
    "selectedBarGraph = dcc.Graph(figure = gen_bar_plot(sol_geo, sol_geo.geo_levels[0], \n",
    "                                               \"Key Statistics\", 'Total Households'),\n",
    "                            id = 'bar_graph')"
   ]
  },
  {
   "cell_type": "code",
   "execution_count": null,
   "metadata": {},
   "outputs": [
    {
     "data": {
      "text/plain": [
       "Index(['Central', 'Choiseul', 'Guadalcanal', 'Honiara', 'Isabel',\n",
       "       'Makira-Ulawa', 'Malaita', 'Rennell-Bell', 'Temotu', 'Western'],\n",
       "      dtype='object', name='geo_name')"
      ]
     },
     "execution_count": null,
     "metadata": {},
     "output_type": "execute_result"
    }
   ],
   "source": [
    "sol_geo.locations[sol_geo.geo_levels[0]]"
   ]
  },
  {
   "cell_type": "markdown",
   "metadata": {},
   "source": [
    "Setup and create the dropdowns"
   ]
  },
  {
   "cell_type": "code",
   "execution_count": null,
   "metadata": {},
   "outputs": [],
   "source": [
    "#| export\n",
    "# TODO options gets changed in callback?\n",
    "# TODO need to store locations in data class\n",
    "dropdown_location = html.Div(children = gen_dd(sol_geo.locations[sol_geo.geo_levels[0]], \n",
    "                                                'locDropdown', clear = True, place_holder='Select Dropdown Location',))\n",
    "               \n",
    "\n",
    "#dropdown_geo = dbc.Dropdown(options=geos,\n",
    "#                        value=geos[0],  # initial value displayed when page first loads\n",
    "#                        clearable=False)\n",
    "dropdown_geo = dmc.SegmentedControl(\n",
    "                            id=\"segmented_geo\",\n",
    "                            value=geos[0],\n",
    "                            data=geos,\n",
    "                             orientation=\"vertical\",\n",
    "                            color = 'gray',\n",
    "                            fullWidth = True,\n",
    "                            # TODO - think there is a version issue with class_name on the server, need to fix\n",
    "                            #className=\"btn-group btn-primary\",\n",
    "                            #class_name = \"btn btn-primary\"\n",
    "                            #color = dmc.theme.DEFAULT_COLORS[\"teal\"][3]\n",
    "    # TODO this color functionality is beyond stupid...\n",
    "    # TODO definitely change to dbc, even though more complicated get consistent theme.s..\n",
    "                        ) # TODO consider redoing as theme is not consistent with this library\n",
    "# TODO based on the value selected above, make a dropdown with children set to starting list of\n",
    "# locations in that geo. on update of dropdown_geo, update children list then update value in main one.\n",
    "# then get rid of function\n",
    "control_type = dmc.SegmentedControl(\n",
    "                        id=\"segmented_type\",\n",
    "                        value=sol_geo.data_type[0],\n",
    "                        data=sol_geo.data_type,\n",
    "                        orientation=\"vertical\",\n",
    "                        color = 'gray',\n",
    "                        fullWidth = True,)\n",
    "\n",
    "dd_var = html.Div(children = gen_dd(list(sol_geo.census_vars.keys()), 'varDropdown', \n",
    "                                    val = 'Key Statistics'))\n",
    "dd_measure = html.Div(children = gen_dd(sol_geo.measure['Key Statistics'], 'measureDropdown',\n",
    "                                      val = list(sol_geo.measure['Key Statistics'].keys())[0]))"
   ]
  },
  {
   "cell_type": "code",
   "execution_count": null,
   "metadata": {},
   "outputs": [
    {
     "data": {
      "text/plain": [
       "'Key Statistics:Total Households'"
      ]
     },
     "execution_count": null,
     "metadata": {},
     "output_type": "execute_result"
    }
   ],
   "source": [
    "list(sol_geo.measure['Key Statistics'].keys())[0]"
   ]
  },
  {
   "cell_type": "code",
   "execution_count": null,
   "metadata": {},
   "outputs": [
    {
     "data": {
      "text/plain": [
       "{'Key Statistics:Total Households': 'Total Households'}"
      ]
     },
     "execution_count": null,
     "metadata": {},
     "output_type": "execute_result"
    }
   ],
   "source": [
    "sol_geo.measure['Key Statistics']"
   ]
  },
  {
   "cell_type": "markdown",
   "metadata": {},
   "source": [
    "Create a navbar"
   ]
  },
  {
   "cell_type": "code",
   "execution_count": null,
   "metadata": {},
   "outputs": [],
   "source": [
    "#| export\n",
    "navbar = dbc.NavbarSimple(\n",
    "    children=[\n",
    "        dbc.NavItem(dbc.NavLink(\"Census Data\", href=\"#\")),\n",
    "        dbc.DropdownMenu(\n",
    "            children=[\n",
    "                dbc.DropdownMenuItem(\"More pages coming soon\", header=True),\n",
    "                dbc.DropdownMenuItem(\"Population Projection\", href=\"#\"),\n",
    "            ],\n",
    "            nav=True,\n",
    "            in_navbar=True,\n",
    "            label=\"More\",\n",
    "        ),\n",
    "    ],\n",
    "    brand=\"Solomon Islands Data Map\",\n",
    "    brand_href=\"#\",\n",
    "    color=\"primary\",\n",
    "    #dark=True,\n",
    "    class_name=\"navbar navbar-expand-lg bg-primary\"\n",
    ")\n"
   ]
  },
  {
   "cell_type": "markdown",
   "metadata": {},
   "source": [
    "## Create a sidebar\n",
    "The sidebar will "
   ]
  },
  {
   "cell_type": "code",
   "execution_count": null,
   "metadata": {},
   "outputs": [],
   "source": [
    "#| export\n",
    "# Note, for now I am not using a sidebar style as I do not want to fix the width\n",
    "SIDEBAR_STYLE = {\n",
    "    \"position\": \"fixed\",\n",
    "    \"top\": 0,\n",
    "    \"left\": 0,\n",
    "    \"bottom\": 0,\n",
    "    \"width\": \"24rem\",\n",
    "    \"padding\": \"2rem 1rem\",\n",
    "    #\"background-color\": \"#f8f9fa\",\n",
    "}\n",
    "\n",
    "\n",
    "sidebar = html.Div(\n",
    "    [\n",
    "        html.H2(\"Filters\"),\n",
    "        html.Hr(),\n",
    "        dbc.Nav(\n",
    "            [\n",
    "                html.P(\"Geography\"), # TODO add a tooltip button here with link to geo explanation\n",
    "                dropdown_geo,\n",
    "                html.Br(),\n",
    "                html.P(\"Location\"), # TODO add a little info button here with link to geo explanation\n",
    "                dropdown_location,\n",
    "                html.Br(),\n",
    "                html.P(\"Data\"), # TODO add a little info button here with link to geo explanation\n",
    "                dd_var,\n",
    "                dd_measure,\n",
    "                html.Br(),\n",
    "                html.P(\"Data Type\"), \n",
    "                control_type,\n",
    "                #html.Br(),\n",
    "                #dcc.Dropdown(id = 'three')\n",
    "\n",
    "            ],\n",
    "            vertical=True,\n",
    "            pills=True,\n",
    "        ),\n",
    "    ],\n",
    "    #style=SIDEBAR_STYLE,\n",
    ")\n"
   ]
  },
  {
   "cell_type": "markdown",
   "metadata": {},
   "source": [
    "## Customize the Layout"
   ]
  },
  {
   "cell_type": "code",
   "execution_count": null,
   "metadata": {},
   "outputs": [],
   "source": [
    "#| export\n",
    "app.layout = dbc.Container([\n",
    "                dbc.Row([\n",
    "                    navbar\n",
    "                ]),\n",
    "                dbc.Row(\n",
    "                    [dbc.Col(sidebar, width = 2),\n",
    "                    dbc.Col([mytitle,\n",
    "                            map_graph,\n",
    "                            selectedBarGraph,\n",
    "                            dbc.Row([cards])\n",
    "                            ], width = 10)#, style = {'margin-left':'15px', 'margin-top':'7px', 'margin-right':'15px'})\n",
    "                     ], justify = 'center'),                    \n",
    "                ], fluid = True)"
   ]
  },
  {
   "cell_type": "markdown",
   "metadata": {},
   "source": [
    "# Build callbacks to create interaction"
   ]
  },
  {
   "cell_type": "markdown",
   "metadata": {},
   "source": [
    "## Update location dropdown value based on map click\n",
    "This callback also will trigger an update to the selected card data"
   ]
  },
  {
   "cell_type": "code",
   "execution_count": null,
   "metadata": {},
   "outputs": [],
   "source": [
    "#| export\n",
    "@app.callback(\n",
    "    Output('locDropdown', 'value'),\n",
    "    # TODO - make this a Row object with children, then use function to recontruct\n",
    "    # a group of them\n",
    "    Input(map_graph, 'clickData'),\n",
    "    prevent_initial_call=True\n",
    ")\n",
    "def map_click(clickData:str, # The currently clicked location on the map\n",
    "                )->str: # Returns the new value for the dropdown\n",
    "    # TODO workout how to make multi point selection work - hard todo - might need to find open source web example\n",
    "    \n",
    "    print(\"map clicked updating to:\")\n",
    "    if clickData is None:\n",
    "        # TODO when none, maybe in future return current saved state, for now doing total\n",
    "        # TODO add a heading and maybe put in an acordian\n",
    "        return None\n",
    "    else:\n",
    "        # The locations are list of dictionaries\n",
    "        locations = list(map(lambda x: x['location'], clickData['points']))\n",
    "        print(locations)\n",
    "        return locations[0]\n",
    "        \n"
   ]
  },
  {
   "cell_type": "code",
   "execution_count": null,
   "metadata": {},
   "outputs": [],
   "source": [
    "#| export\n",
    "@app.callback(\n",
    "    Output(cards, 'children'),\n",
    "    # TODO - make this a Row object with children, then use function to recontruct\n",
    "    # a group of them\n",
    "    Input('locDropdown', 'value'),\n",
    "    Input(control_type, 'value'),\n",
    "    #Input(dropdown_location, 'options'),\n",
    "    prevent_initial_call=True,\n",
    "    allow_duplicate=True,\n",
    ")\n",
    "def update_kpis(locations:str, # The currently selected location. Including defualt of none\n",
    "                data_type:str, # The currently selected data type (Total or Proportion)\n",
    "                #dd_updated:[str], # The currently selected data type (Total or Proportion)\n",
    "                )->type(dbc.Card):\n",
    "    # TODO might be worth exploring if patching will help\n",
    "    '''\n",
    "    Based on updates to either te dropdown location (which is triggered by map clicks) or \n",
    "    changes to the type of data dispalyed, update the cards\n",
    "    '''\n",
    "    print(\"triggered update cards\")\n",
    "    #if the dropdown_locations options was just updated, then we overwrite\n",
    "    # TODO workout how to make multi point selection work - hard todo - might need to find open source web example\n",
    "    # filter dataframe by store location, then sum all orders of that store.\n",
    "    header_text = \"Total\"\n",
    "    if locations is not None:\n",
    "        header_text = locations\n",
    "        locations = [locations]\n",
    "    new_cards = card_list(sol_geo, \n",
    "                            \"Current Selection: \"  + header_text,\n",
    "                            loc = locations, \n",
    "                            type_filter = data_type)\n",
    "\n",
    "    return new_cards"
   ]
  },
  {
   "cell_type": "code",
   "execution_count": null,
   "metadata": {},
   "outputs": [
    {
     "name": "stdout",
     "output_type": "stream",
     "text": [
      "['choisel']\n"
     ]
    }
   ],
   "source": [
    "test = 'choisel'\n",
    "t2 = [test]\n",
    "print(t2)"
   ]
  },
  {
   "cell_type": "code",
   "execution_count": null,
   "metadata": {},
   "outputs": [
    {
     "data": {
      "text/plain": [
       "Accordion(children=Col([Markdown('## Current Selection: Total'), Row([AccordionItem(children=Row([Card(children=[CardHeader([H4('Total Households')]), CardBody([H5(children=91251, className='text-center')])], class_name='border-primary')]), title='Key Statistics')]), Row([AccordionItem(children=Row([Card(children=[CardHeader([H4('metered SIWA drinking water')]), CardBody([H5(children=8366.0, className='text-center')])], class_name='border-primary'), Card(children=[CardHeader([H4('communal standpipe')]), CardBody([H5(children=32042.0, className='text-center')])], class_name='border-primary'), Card(children=[CardHeader([H4('private water tank')]), CardBody([H5(children=11380.0, className='text-center')])], class_name='border-primary'), Card(children=[CardHeader([H4('communal water tank')]), CardBody([H5(children=9690.0, className='text-center')])], class_name='border-primary'), Card(children=[CardHeader([H4('well - protected')]), CardBody([H5(children=1899.0, className='text-center')])], class_name='border-primary'), Card(children=[CardHeader([H4('well - unprotected')]), CardBody([H5(children=1626.0, className='text-center')])], class_name='border-primary'), Card(children=[CardHeader([H4('river or stream')]), CardBody([H5(children=22396.0, className='text-center')])], class_name='border-primary'), Card(children=[CardHeader([H4('bottled water')]), CardBody([H5(children=558.0, className='text-center')])], class_name='border-primary'), Card(children=[CardHeader([H4('other source of drinking water')]), CardBody([H5(children=3294.0, className='text-center')])], class_name='border-primary')]), title='Main source of household drinking water')]), Row([AccordionItem(children=Row([Card(children=[CardHeader([H4('piped - private')]), CardBody([H5(children=10408.0, className='text-center')])], class_name='border-primary'), Card(children=[CardHeader([H4('piped - shared')]), CardBody([H5(children=10920.0, className='text-center')])], class_name='border-primary'), Card(children=[CardHeader([H4('communal standpipe')]), CardBody([H5(children=24758.0, className='text-center')])], class_name='border-primary'), Card(children=[CardHeader([H4('well - protected')]), CardBody([H5(children=4756.0, className='text-center')])], class_name='border-primary'), Card(children=[CardHeader([H4('well - unprotected')]), CardBody([H5(children=5149.0, className='text-center')])], class_name='border-primary'), Card(children=[CardHeader([H4('private water tank')]), CardBody([H5(children=3290.0, className='text-center')])], class_name='border-primary'), Card(children=[CardHeader([H4('communal water tank')]), CardBody([H5(children=818.0, className='text-center')])], class_name='border-primary'), Card(children=[CardHeader([H4('sea water')]), CardBody([H5(children=517.0, className='text-center')])], class_name='border-primary'), Card(children=[CardHeader([H4('river, lake or stream water')]), CardBody([H5(children=29286.0, className='text-center')])], class_name='border-primary'), Card(children=[CardHeader([H4('other source of washing water')]), CardBody([H5(children=1349.0, className='text-center')])], class_name='border-primary')]), title='Main source of household washing water')]), Row([AccordionItem(children=Row([Card(children=[CardHeader([H4('flush toilets - private')]), CardBody([H5(children=9221.0, className='text-center')])], class_name='border-primary'), Card(children=[CardHeader([H4('flush toilets - shared')]), CardBody([H5(children=2111.0, className='text-center')])], class_name='border-primary'), Card(children=[CardHeader([H4('water sealed toilets - private')]), CardBody([H5(children=6565.0, className='text-center')])], class_name='border-primary'), Card(children=[CardHeader([H4('water sealed toilets - shared')]), CardBody([H5(children=2279.0, className='text-center')])], class_name='border-primary'), Card(children=[CardHeader([H4('pit latrines - private')]), CardBody([H5(children=10522.0, className='text-center')])], class_name='border-primary'), Card(children=[CardHeader([H4('pit latrines - shared')]), CardBody([H5(children=8339.0, className='text-center')])], class_name='border-primary'), Card(children=[CardHeader([H4('other toilets')]), CardBody([H5(children=22282.0, className='text-center')])], class_name='border-primary'), Card(children=[CardHeader([H4('no toilets')]), CardBody([H5(children=29932.0, className='text-center')])], class_name='border-primary')]), title='Main type of household toilet facility')]), Row([AccordionItem(children=Row([Card(children=[CardHeader([H4('Main Grid')]), CardBody([H5(children=10748.0, className='text-center')])], class_name='border-primary'), Card(children=[CardHeader([H4('Own Generator')]), CardBody([H5(children=683.0, className='text-center')])], class_name='border-primary'), Card(children=[CardHeader([H4('solar')]), CardBody([H5(children=7924.0, className='text-center')])], class_name='border-primary'), Card(children=[CardHeader([H4('gas')]), CardBody([H5(children=147.0, className='text-center')])], class_name='border-primary'), Card(children=[CardHeader([H4('kerosene lamp')]), CardBody([H5(children=68150.0, className='text-center')])], class_name='border-primary'), Card(children=[CardHeader([H4('coleman lamp')]), CardBody([H5(children=230.0, className='text-center')])], class_name='border-primary'), Card(children=[CardHeader([H4('Wood or Coconut')]), CardBody([H5(children=865.0, className='text-center')])], class_name='border-primary'), Card(children=[CardHeader([H4('other lighting')]), CardBody([H5(children=2223.0, className='text-center')])], class_name='border-primary'), Card(children=[CardHeader([H4('no lighting')]), CardBody([H5(children=281.0, className='text-center')])], class_name='border-primary')]), title='Main source of household lighting')]), Row([AccordionItem(children=Row([Card(children=[CardHeader([H4('Electricity from Main Grid')]), CardBody([H5(children=525.0, className='text-center')])], class_name='border-primary'), Card(children=[CardHeader([H4('Kerosene')]), CardBody([H5(children=612.0, className='text-center')])], class_name='border-primary'), Card(children=[CardHeader([H4('Wood or Coconut')]), CardBody([H5(children=84420.0, className='text-center')])], class_name='border-primary'), Card(children=[CardHeader([H4('Charcoal')]), CardBody([H5(children=418.0, className='text-center')])], class_name='border-primary'), Card(children=[CardHeader([H4('Gas')]), CardBody([H5(children=4957.0, className='text-center')])], class_name='border-primary'), Card(children=[CardHeader([H4('other cooking fuels')]), CardBody([H5(children=319.0, className='text-center')])], class_name='border-primary')]), title='Main source of household cooking energy')]), Row([AccordionItem(children=Row([Card(children=[CardHeader([H4('subsistence only')]), CardBody([H5(children=32951.0, className='text-center')])], class_name='border-primary'), Card(children=[CardHeader([H4('sale only')]), CardBody([H5(children=478.0, className='text-center')])], class_name='border-primary'), Card(children=[CardHeader([H4('subsistence and sale')]), CardBody([H5(children=44227.0, className='text-center')])], class_name='border-primary'), Card(children=[CardHeader([H4('not growing food')]), CardBody([H5(children=9300.0, className='text-center')])], class_name='border-primary'), Card(children=[CardHeader([H4('No response')]), CardBody([H5(children=4295.0, className='text-center')])], class_name='border-primary')]), title='Households involvement in growing food')]), Row([AccordionItem(children=Row([Card(children=[CardHeader([H4('subsistence only')]), CardBody([H5(children=26827.0, className='text-center')])], class_name='border-primary'), Card(children=[CardHeader([H4('sale only')]), CardBody([H5(children=368.0, className='text-center')])], class_name='border-primary'), Card(children=[CardHeader([H4('subsistence and sale')]), CardBody([H5(children=28238.0, className='text-center')])], class_name='border-primary'), Card(children=[CardHeader([H4('Households not fishing')]), CardBody([H5(children=35818.0, className='text-center')])], class_name='border-primary')]), title='Households involvement in fishing')]), Row([AccordionItem(children=Row([Card(children=[CardHeader([H4('None')]), CardBody([H5(children=68372.0, className='text-center')])], class_name='border-primary'), Card(children=[CardHeader([H4('unknown or not applicable')]), CardBody([H5(children=3554.0, className='text-center')])], class_name='border-primary'), Card(children=[CardHeader([H4('1 - 499 S.I. dollars')]), CardBody([H5(children=11045.0, className='text-center')])], class_name='border-primary'), Card(children=[CardHeader([H4('500 - 999 S.I. dollars')]), CardBody([H5(children=4068.0, className='text-center')])], class_name='border-primary'), Card(children=[CardHeader([H4('1000 - 1499 S.I. dollars')]), CardBody([H5(children=2242.0, className='text-center')])], class_name='border-primary'), Card(children=[CardHeader([H4('more than 1500 S.I. dollars')]), CardBody([H5(children=1970.0, className='text-center')])], class_name='border-primary')]), title='Household money received from remittances')]), Row([AccordionItem(children=Row([Card(children=[CardHeader([H4('No income')]), CardBody([H5(children=3033.0, className='text-center')])], class_name='border-primary'), Card(children=[CardHeader([H4('Wages Salary')]), CardBody([H5(children=21866.0, className='text-center')])], class_name='border-primary'), Card(children=[CardHeader([H4('Own business')]), CardBody([H5(children=5113.0, className='text-center')])], class_name='border-primary'), Card(children=[CardHeader([H4('Sale fish crop craft')]), CardBody([H5(children=40591.0, className='text-center')])], class_name='border-primary'), Card(children=[CardHeader([H4('Land lease')]), CardBody([H5(children=133.0, className='text-center')])], class_name='border-primary'), Card(children=[CardHeader([H4('House rent')]), CardBody([H5(children=577.0, className='text-center')])], class_name='border-primary'), Card(children=[CardHeader([H4('Remittances')]), CardBody([H5(children=1984.0, className='text-center')])], class_name='border-primary'), Card(children=[CardHeader([H4('Other source')]), CardBody([H5(children=17954.0, className='text-center')])], class_name='border-primary')]), title='Main source of household income in last 12 months')])]), id='82e2e662-f728-b4fa-4248-5e3a0a5d2f34', always_open=True, class_name='accordion-header')"
      ]
     },
     "execution_count": null,
     "metadata": {},
     "output_type": "execute_result"
    }
   ],
   "source": [
    "cards"
   ]
  },
  {
   "cell_type": "markdown",
   "metadata": {},
   "source": [
    "## Update the location options based on geography selected"
   ]
  },
  {
   "cell_type": "code",
   "execution_count": null,
   "metadata": {},
   "outputs": [],
   "source": [
    "#| export\n",
    "@app.callback(\n",
    "    Output(dropdown_location, 'children'),\n",
    "    Input(dropdown_geo, 'value'),\n",
    "    allow_duplicate=True,\n",
    "    prevent_initial_call=True\n",
    ")\n",
    "def update_geography(geo_input:str, # User input from the geography dropdown\n",
    "              )->[str]: # Returns a new list of locations to display\n",
    "    '''\n",
    "    Updates the dropdown_location dropdown based on the currently selected data aggregation.\n",
    "    '''\n",
    "    return gen_dd(sol_geo.locations[geo_input], 'locDropdown', \"Select a location\", clear = True)"
   ]
  },
  {
   "cell_type": "code",
   "execution_count": null,
   "metadata": {},
   "outputs": [
    {
     "data": {
      "text/markdown": [
       "---\n",
       "\n",
       "[source](https://github.com/Gippers/SolomonIslandsDataMap/blob/main/SolomonIslandsDataMap/app.py#L283){target=\"_blank\" style=\"float:right; font-size:smaller\"}\n",
       "\n",
       "### update_geography\n",
       "\n",
       ">      update_geography (geo_input:str)\n",
       "\n",
       "Updates the dropdown_location dropdown based on the currently selected data aggregation.\n",
       "\n",
       "|    | **Type** | **Details** |\n",
       "| -- | -------- | ----------- |\n",
       "| geo_input | str | User input from the geography dropdown |\n",
       "| **Returns** | **[<class 'str'>]** | **Returns a new list of locations to display** |"
      ],
      "text/plain": [
       "---\n",
       "\n",
       "[source](https://github.com/Gippers/SolomonIslandsDataMap/blob/main/SolomonIslandsDataMap/app.py#L283){target=\"_blank\" style=\"float:right; font-size:smaller\"}\n",
       "\n",
       "### update_geography\n",
       "\n",
       ">      update_geography (geo_input:str)\n",
       "\n",
       "Updates the dropdown_location dropdown based on the currently selected data aggregation.\n",
       "\n",
       "|    | **Type** | **Details** |\n",
       "| -- | -------- | ----------- |\n",
       "| geo_input | str | User input from the geography dropdown |\n",
       "| **Returns** | **[<class 'str'>]** | **Returns a new list of locations to display** |"
      ]
     },
     "execution_count": null,
     "metadata": {},
     "output_type": "execute_result"
    }
   ],
   "source": [
    "show_doc(update_geography)"
   ]
  },
  {
   "cell_type": "markdown",
   "metadata": {},
   "source": [
    "## Update the variable dropdowns based on the selection of the overall variable"
   ]
  },
  {
   "cell_type": "code",
   "execution_count": null,
   "metadata": {},
   "outputs": [],
   "source": [
    "#| export\n",
    "@app.callback(\n",
    "    Output(dd_measure, 'children'),\n",
    "    Input('varDropdown', 'value'),\n",
    "    allow_duplicate=True,\n",
    "    prevent_initial_call=True\n",
    ")\n",
    "def update_measure(new_var:str, # Selected variable\n",
    "              )->dcc.Dropdown: # Returns a dropdown of measures for selected variable\n",
    "    '''\n",
    "    Updates the dropdown_location dropdown based on the currently selected data aggregation.\n",
    "    '''\n",
    "    # When a variable is selected, the measure will be set as the first one\n",
    "    return gen_dd(sol_geo.measure[new_var], 'measureDropdown', \n",
    "                  val = list(sol_geo.measure[new_var].keys())[0])"
   ]
  },
  {
   "cell_type": "markdown",
   "metadata": {},
   "source": [
    "#| hide\n",
    "show_doc(update_kpis)"
   ]
  },
  {
   "cell_type": "code",
   "execution_count": null,
   "metadata": {},
   "outputs": [],
   "source": [
    "#| export\n",
    "# Callback allows components to interact\n",
    "\n",
    "# TODO put title in it's own callback\n",
    "@app.callback(\n",
    "    Output(map_graph, 'figure'),\n",
    "    Output(mytitle, 'children'),\n",
    "    Output(selectedBarGraph, 'figure'),\n",
    "    Input(dropdown_geo, 'value'),\n",
    "    Input(control_type, 'value'),\n",
    "    Input('measureDropdown', 'value'),\n",
    "    Input('locDropdown', 'value'),\n",
    "    allow_duplicate=True,\n",
    "    prevent_initial_call=True\n",
    ")\n",
    "def update_geography(geo_input:str, # User input from the geography dropdown\n",
    "                     data_type:str, # User input of type of data\n",
    "                     var_measure:str, # A string contiaining the census variable and measure split by ':'\n",
    "                     loc_selection:str, # The selected location, may be none\n",
    "              )->(type(go.Figure()), str): # Returns a graph object figure after being updated and the dynamic title\n",
    "    '''\n",
    "    Updates the focus census variable or geography dispalayed on the map\n",
    "    '''\n",
    "    patched_figure = Patch()\n",
    "    button_clicked = ctx.triggered_id\n",
    "    var, meas = var_measure.split(':')\n",
    "\n",
    "    if button_clicked == dropdown_geo.id:\n",
    "        # Update disaplayed geography \n",
    "        for geo in sol_geo.geo_levels:\n",
    "            i = np.where(sol_geo.geo_levels == geo)[0][0] # Tracks the trace number\n",
    "            patched_figure['data'][i]['visible'] = geo_input == geo\n",
    "        \n",
    "    elif button_clicked == control_type.id:\n",
    "        # Update the type of data displayed on map\n",
    "        # TODO currently displayed data will need to be tracked. Can't be tracked in object, use hidden \n",
    "        # TODO will need to track this update also in var dropdown clicked\n",
    "        # TODO this also needs to trigger cards\n",
    "        print(var_measure)\n",
    "        for geo in sol_geo.geo_levels:\n",
    "            i = np.where(sol_geo.geo_levels == geo)[0][0] # Tracks the trace number\n",
    "            ar = sol_geo.get_df(geo_filter = geo, type_filter=data_type, var = var, measure = meas).values\n",
    "            ar = ar.reshape((ar.shape[0],))\n",
    "            patched_figure['data'][i]['z'] = ar\n",
    "        \n",
    "\n",
    "    elif button_clicked == 'measureDropdown':\n",
    "        # Update the z values in map to the data for the requested census variable\n",
    "        for geo in sol_geo.geo_levels:\n",
    "        # Ar updates the z value ie. data disaplyed each time\n",
    "        # TODO this is fairly inefficient, as we are processing each time\n",
    "        # Maybe faster framework like polars could help? or caching but would require a lot of caching\n",
    "            i = np.where(sol_geo.geo_levels == geo)[0][0] # Tracks the trace number\n",
    "            ar = sol_geo.get_df(geo_filter = geo, type_filter=data_type, var = var, measure=meas).values\n",
    "            ar = ar.reshape((ar.shape[0],))\n",
    "            patched_figure['data'][i]['z'] = ar\n",
    "        \n",
    "    # Create newly selected barplot\n",
    "    bg = gen_bar_plot(sol_geo, geo_input, var, meas, [loc_selection], data_type)\n",
    "\n",
    "    # returned objects are assigned to the component property of the Output\n",
    "    # After updating fileter, we always reset map selection \n",
    "\n",
    "    return patched_figure, '## Solomon Islands Data map - ' + geo_input, bg"
   ]
  },
  {
   "cell_type": "markdown",
   "metadata": {},
   "source": [
    "On click, update the contents of the kpi's"
   ]
  },
  {
   "cell_type": "code",
   "execution_count": null,
   "metadata": {},
   "outputs": [
    {
     "data": {
      "text/markdown": [
       "---\n",
       "\n",
       "[source](https://github.com/Gippers/SolomonIslandsDataMap/blob/main/SolomonIslandsDataMap/app.py#L283){target=\"_blank\" style=\"float:right; font-size:smaller\"}\n",
       "\n",
       "### update_geography\n",
       "\n",
       ">      update_geography (geo_input:str, data_type:str, var_measure:str,\n",
       ">                        loc_selection:str)\n",
       "\n",
       "Updates the focus census variable or geography dispalayed on the map\n",
       "\n",
       "|    | **Type** | **Details** |\n",
       "| -- | -------- | ----------- |\n",
       "| geo_input | str | User input from the geography dropdown |\n",
       "| data_type | str | User input of type of data |\n",
       "| var_measure | str | A string contiaining the census variable and measure split by ':' |\n",
       "| loc_selection | str | The selected location, may be none |\n",
       "| **Returns** | **(<class 'plotly.graph_objs._figure.Figure'>, <class 'str'>)** | **Returns a graph object figure after being updated and the dynamic title** |"
      ],
      "text/plain": [
       "---\n",
       "\n",
       "[source](https://github.com/Gippers/SolomonIslandsDataMap/blob/main/SolomonIslandsDataMap/app.py#L283){target=\"_blank\" style=\"float:right; font-size:smaller\"}\n",
       "\n",
       "### update_geography\n",
       "\n",
       ">      update_geography (geo_input:str, data_type:str, var_measure:str,\n",
       ">                        loc_selection:str)\n",
       "\n",
       "Updates the focus census variable or geography dispalayed on the map\n",
       "\n",
       "|    | **Type** | **Details** |\n",
       "| -- | -------- | ----------- |\n",
       "| geo_input | str | User input from the geography dropdown |\n",
       "| data_type | str | User input of type of data |\n",
       "| var_measure | str | A string contiaining the census variable and measure split by ':' |\n",
       "| loc_selection | str | The selected location, may be none |\n",
       "| **Returns** | **(<class 'plotly.graph_objs._figure.Figure'>, <class 'str'>)** | **Returns a graph object figure after being updated and the dynamic title** |"
      ]
     },
     "execution_count": null,
     "metadata": {},
     "output_type": "execute_result"
    }
   ],
   "source": [
    "#| hide\n",
    "show_doc(update_geography)"
   ]
  },
  {
   "cell_type": "code",
   "execution_count": null,
   "metadata": {},
   "outputs": [],
   "source": [
    "# TODO Do the title in one callback that listens for changes to either of them"
   ]
  },
  {
   "cell_type": "code",
   "execution_count": null,
   "metadata": {},
   "outputs": [
    {
     "data": {
      "text/plain": [
       "(10,)"
      ]
     },
     "execution_count": null,
     "metadata": {},
     "output_type": "execute_result"
    }
   ],
   "source": [
    "ar = sol_geo.get_df(geo_filter = 'Province', var = 'Key Statistics', measure = 'Total Households').values\n",
    "ar = ar.reshape((ar.shape[0],))\n",
    "ar.shape"
   ]
  },
  {
   "cell_type": "code",
   "execution_count": null,
   "metadata": {},
   "outputs": [
    {
     "name": "stdout",
     "output_type": "stream",
     "text": [
      "False\n",
      "True\n",
      "False\n"
     ]
    }
   ],
   "source": [
    "#patched_figure = Patch()\n",
    "user_input = 'Constituency'\n",
    "for geo in sol_geo.geo_levels:\n",
    "    i = np.where(sol_geo.geo_levels == geo)[0][0] # Tracks the trace number\n",
    "    fig['data'][i]['visible'] = user_input == geo\n",
    "    print(user_input == geo)"
   ]
  },
  {
   "cell_type": "code",
   "execution_count": null,
   "metadata": {},
   "outputs": [],
   "source": [
    "# TODO undo hardcoding\n",
    "test_eq(fig['data'][0]['visible'], False)\n",
    "test_eq(fig['data'][1]['visible'], True)\n",
    "test_eq(fig['data'][2]['visible'], False)"
   ]
  },
  {
   "cell_type": "markdown",
   "metadata": {},
   "source": [
    "### Update the colour columns based on data selection"
   ]
  },
  {
   "cell_type": "code",
   "execution_count": null,
   "metadata": {},
   "outputs": [],
   "source": [
    "# TODO the above demonstrates that we can stack mutliple graphs and toggle the visibility and potentially z value in order to \n",
    "# quickly update our graph"
   ]
  },
  {
   "cell_type": "markdown",
   "metadata": {},
   "source": [
    "## Run the dash app"
   ]
  },
  {
   "cell_type": "code",
   "execution_count": null,
   "metadata": {},
   "outputs": [
    {
     "data": {
      "text/html": [
       "\n",
       "        <iframe\n",
       "            width=\"100%\"\n",
       "            height=\"650\"\n",
       "            src=\"http://127.0.0.1:9999/\"\n",
       "            frameborder=\"0\"\n",
       "            allowfullscreen\n",
       "            \n",
       "        ></iframe>\n",
       "        "
      ],
      "text/plain": [
       "<IPython.lib.display.IFrame>"
      ]
     },
     "metadata": {},
     "output_type": "display_data"
    }
   ],
   "source": [
    "#| export\n",
    "#| server\n",
    "# Run app\n",
    "if __name__=='__main__':\n",
    "    try:\n",
    "        app.run_server(debug=True, port=9999) # Random int mitigates port collision\n",
    "    except:\n",
    "        print(\"Cannot run server here\")"
   ]
  },
  {
   "cell_type": "code",
   "execution_count": null,
   "metadata": {},
   "outputs": [
    {
     "data": {
      "text/plain": [
       "<function SolomonIslandsDataMap.dash_components.card_list(sg: SolomonIslandsDataMap.load_data.SolomonGeo, header: str, loc: [<class 'str'>] = None, type_filter: str = 'Total') -> dash_bootstrap_components._components.Col.Col>"
      ]
     },
     "execution_count": null,
     "metadata": {},
     "output_type": "execute_result"
    }
   ],
   "source": [
    "card_list"
   ]
  },
  {
   "cell_type": "code",
   "execution_count": null,
   "metadata": {},
   "outputs": [
    {
     "name": "stdout",
     "output_type": "stream",
     "text": [
      "map clicked updating to:\n",
      "['Guadalcanal']\n",
      "triggered update cards\n",
      "\u001b[1;31m---------------------------------------------------------------------------\u001b[0m\n",
      "\u001b[1;31mTypeError\u001b[0m                                 Traceback (most recent call last)\n",
      "File \u001b[1;32m~/git/SolomonIslandsDataMap/SolomonIslandsDataMap/dash_components.py:90\u001b[0m, in \u001b[0;36mgen_bar_plot\u001b[1;34m(\n",
      "    sol_geo=<SolomonIslandsDataMap.load_data.SolomonGeo object>,\n",
      "    geo_filter='Province',\n",
      "    variable='Key Statistics',\n",
      "    measure='Total Households',\n",
      "    locations='Guadalcanal',\n",
      "    type_filter='Total'\n",
      ")\u001b[0m\n",
      "\u001b[0;32m     88\u001b[0m     figtext \u001b[38;5;241m+\u001b[39m\u001b[38;5;241m=\u001b[39m \u001b[38;5;124m'\u001b[39m\u001b[38;5;124mSolomon Islands\u001b[39m\u001b[38;5;124m'\u001b[39m\n",
      "\u001b[0;32m     89\u001b[0m \u001b[38;5;28;01melse\u001b[39;00m:\n",
      "\u001b[1;32m---> 90\u001b[0m     df \u001b[38;5;241m=\u001b[39m \u001b[43msol_geo\u001b[49m\u001b[38;5;241;43m.\u001b[39;49m\u001b[43mget_df\u001b[49m\u001b[43m(\u001b[49m\u001b[43mgeo_filter\u001b[49m\u001b[43m,\u001b[49m\u001b[43m \u001b[49m\u001b[43mvariable\u001b[49m\u001b[43m,\u001b[49m\u001b[43m \u001b[49m\u001b[43mloc_filter\u001b[49m\u001b[43m \u001b[49m\u001b[38;5;241;43m=\u001b[39;49m\u001b[43m \u001b[49m\u001b[43mlocations\u001b[49m\u001b[43m,\u001b[49m\u001b[43m \u001b[49m\u001b[43mtype_filter\u001b[49m\u001b[43m \u001b[49m\u001b[38;5;241;43m=\u001b[39;49m\u001b[43m \u001b[49m\u001b[43mtype_filter\u001b[49m\u001b[43m)\u001b[49m\n",
      "        locations \u001b[1;34m= 'Guadalcanal'\u001b[0m\u001b[1;34m\n",
      "        \u001b[0mvariable \u001b[1;34m= 'Key Statistics'\u001b[0m\u001b[1;34m\n",
      "        \u001b[0mgeo_filter \u001b[1;34m= 'Province'\u001b[0m\u001b[1;34m\n",
      "        \u001b[0msol_geo \u001b[1;34m= <SolomonIslandsDataMap.load_data.SolomonGeo object>\u001b[0m\u001b[1;34m\n",
      "        \u001b[0mtype_filter \u001b[1;34m= 'Total'\u001b[0m\n",
      "\u001b[0;32m     91\u001b[0m     figtext \u001b[38;5;241m+\u001b[39m\u001b[38;5;241m=\u001b[39m \u001b[38;5;124m'\u001b[39m\u001b[38;5;124m, \u001b[39m\u001b[38;5;124m'\u001b[39m\u001b[38;5;241m.\u001b[39mjoin(locations)\n",
      "\u001b[0;32m     92\u001b[0m fig \u001b[38;5;241m=\u001b[39m go\u001b[38;5;241m.\u001b[39mFigure()\n",
      "\n",
      "File \u001b[1;32m~/git/SolomonIslandsDataMap/SolomonIslandsDataMap/load_data.py:258\u001b[0m, in \u001b[0;36mget_df\u001b[1;34m(\n",
      "    self=<SolomonIslandsDataMap.load_data.SolomonGeo object>,\n",
      "    geo_filter='Province',\n",
      "    var='Key Statistics',\n",
      "    measure=None,\n",
      "    loc_filter='Guadalcanal',\n",
      "    type_filter='Total',\n",
      "    agg_flag=False\n",
      ")\u001b[0m\n",
      "\u001b[0;32m    255\u001b[0m ret \u001b[38;5;241m=\u001b[39m ret\u001b[38;5;241m.\u001b[39mdrop(columns \u001b[38;5;241m=\u001b[39m \u001b[38;5;124m'\u001b[39m\u001b[38;5;124mcore\u001b[39m\u001b[38;5;124m'\u001b[39m, level\u001b[38;5;241m=\u001b[39m\u001b[38;5;241m0\u001b[39m)\n",
      "\u001b[0;32m    257\u001b[0m \u001b[38;5;28;01mif\u001b[39;00m loc_filter \u001b[38;5;129;01mis\u001b[39;00m \u001b[38;5;129;01mnot\u001b[39;00m \u001b[38;5;28;01mNone\u001b[39;00m:\n",
      "\u001b[1;32m--> 258\u001b[0m     ret \u001b[38;5;241m=\u001b[39m ret\u001b[38;5;241m.\u001b[39mloc[\u001b[43mret\u001b[49m\u001b[38;5;241;43m.\u001b[39;49m\u001b[43mindex\u001b[49m\u001b[38;5;241;43m.\u001b[39;49m\u001b[43misin\u001b[49m\u001b[43m(\u001b[49m\u001b[43mloc_filter\u001b[49m\u001b[43m)\u001b[49m, :]\n",
      "        ret \u001b[1;34m=                Key Statistics Main source of household drinking water  \\\n",
      "             Total Households             metered SIWA drinking water   \n",
      "geo_name                                                                \n",
      "Choiseul                 4712                                     2.0   \n",
      "Honiara                  8981                                  6771.0   \n",
      "Western                 13762                                    37.0   \n",
      "Isabel                   5143                                    23.0   \n",
      "Central                  4905                                    26.0   \n",
      "Rennell-Bell              688                                     0.0   \n",
      "Guadalcanal             17163                                  1089.0   \n",
      "Malaita                 24421                                   383.0   \n",
      "Makira-Ulawa             7173                                    31.0   \n",
      "Temotu                   4303                                     4.0   \n",
      "\n",
      "                                                                        \\\n",
      "             communal standpipe private water tank communal water tank   \n",
      "geo_name                                                                 \n",
      "Choiseul                 1416.0             1137.0               840.0   \n",
      "Honiara                   351.0              861.0               134.0   \n",
      "Western                  4151.0             4596.0              2426.0   \n",
      "Isabel                   3314.0              526.0               574.0   \n",
      "Central                  1935.0              910.0               862.0   \n",
      "Rennell-Bell                0.0              547.0                92.0   \n",
      "Guadalcanal              4558.0              866.0              1267.0   \n",
      "Malaita                 11080.0             1249.0              1849.0   \n",
      "Makira-Ulawa             3582.0              240.0               603.0   \n",
      "Temotu                   1655.0              448.0              1043.0   \n",
      "\n",
      "                                                                  \\\n",
      "             well - protected well - unprotected river or stream   \n",
      "geo_name                                                           \n",
      "Choiseul                 14.0                2.0          1184.0   \n",
      "Honiara                  42.0              235.0           421.0   \n",
      "Western                  46.0               17.0          1967.0   \n",
      "Isabel                   43.0               22.0           550.0   \n",
      "Central                  59.0               14.0           899.0   \n",
      "Rennell-Bell              5.0               10.0             1.0   \n",
      "Guadalcanal            1140.0              963.0          6492.0   \n",
      "Malaita                 431.0               94.0          8089.0   \n",
      "Makira-Ulawa             37.0               19.0          2458.0   \n",
      "Temotu                   82.0              250.0           335.0   \n",
      "\n",
      "                                                           ...  \\\n",
      "             bottled water other source of drinking water  ...   \n",
      "geo_name                                                   ...   \n",
      "Choiseul              20.0                           97.0  ...   \n",
      "Honiara               93.0                           73.0  ...   \n",
      "Western               83.0                          439.0  ...   \n",
      "Isabel                 9.0                           82.0  ...   \n",
      "Central               79.0                          121.0  ...   \n",
      "Rennell-Bell          18.0                           15.0  ...   \n",
      "Guadalcanal           77.0                          711.0  ...   \n",
      "Malaita              153.0                         1093.0  ...   \n",
      "Makira-Ulawa          16.0                          187.0  ...   \n",
      "Temotu                10.0                          476.0  ...   \n",
      "\n",
      "             Household money received from remittances  \\\n",
      "                              1000 - 1499 S.I. dollars   \n",
      "geo_name                                                 \n",
      "Choiseul                                         209.0   \n",
      "Honiara                                          203.0   \n",
      "Western                                          530.0   \n",
      "Isabel                                           146.0   \n",
      "Central                                           48.0   \n",
      "Rennell-Bell                                      53.0   \n",
      "Guadalcanal                                      212.0   \n",
      "Malaita                                          614.0   \n",
      "Makira-Ulawa                                     154.0   \n",
      "Temotu                                            73.0   \n",
      "\n",
      "                                          \\\n",
      "             more than 1500 S.I. dollars   \n",
      "geo_name                                   \n",
      "Choiseul                           179.0   \n",
      "Honiara                            395.0   \n",
      "Western                            478.0   \n",
      "Isabel                              57.0   \n",
      "Central                             70.0   \n",
      "Rennell-Bell                        92.0   \n",
      "Guadalcanal                        141.0   \n",
      "Malaita                            374.0   \n",
      "Makira-Ulawa                       144.0   \n",
      "Temotu                              40.0   \n",
      "\n",
      "             Main source of household income in last 12 months               \\\n",
      "                                                     No income Wages Salary   \n",
      "geo_name                                                                      \n",
      "Choiseul                                                  88.0        892.0   \n",
      "Honiara                                                   75.0       6984.0   \n",
      "Western                                                  182.0       3732.0   \n",
      "Isabel                                                    92.0        907.0   \n",
      "Central                                                   66.0        665.0   \n",
      "Rennell-Bell                                             114.0        147.0   \n",
      "Guadalcanal                                              538.0       3978.0   \n",
      "Malaita                                                 1404.0       2942.0   \n",
      "Makira-Ulawa                                             315.0       1007.0   \n",
      "Temotu                                                   159.0        612.0   \n",
      "\n",
      "                                                                      \\\n",
      "             Own business Sale fish crop craft Land lease House rent   \n",
      "geo_name                                                               \n",
      "Choiseul            206.0               2443.0        6.0       16.0   \n",
      "Honiara             783.0                393.0       54.0      179.0   \n",
      "Western             618.0               7518.0        8.0       48.0   \n",
      "Isabel              310.0               2900.0        4.0       18.0   \n",
      "Central             373.0               2518.0        1.0        5.0   \n",
      "Rennell-Bell         40.0                244.0        1.0       13.0   \n",
      "Guadalcanal         868.0               7702.0       20.0      102.0   \n",
      "Malaita            1290.0              11075.0       15.0      154.0   \n",
      "Makira-Ulawa        459.0               3293.0       14.0       28.0   \n",
      "Temotu              166.0               2505.0       10.0       14.0   \n",
      "\n",
      "                                       \n",
      "             Remittances Other source  \n",
      "geo_name                               \n",
      "Choiseul           206.0        855.0  \n",
      "Honiara             48.0        465.0  \n",
      "Western            410.0       1246.0  \n",
      "Isabel             174.0        738.0  \n",
      "Central             88.0       1189.0  \n",
      "Rennell-Bell        82.0         47.0  \n",
      "Guadalcanal        182.0       3773.0  \n",
      "Malaita            584.0       6957.0  \n",
      "Makira-Ulawa        90.0       1967.0  \n",
      "Temotu             120.0        717.0  \n",
      "\n",
      "[10 rows x 66 columns]\u001b[0m\u001b[1;34m\n",
      "        \u001b[0mloc_filter \u001b[1;34m= 'Guadalcanal'\u001b[0m\n",
      "\u001b[0;32m    260\u001b[0m \u001b[38;5;66;03m# Keep only selected column if required\u001b[39;00m\n",
      "\u001b[0;32m    261\u001b[0m \u001b[38;5;28;01mif\u001b[39;00m measure \u001b[38;5;129;01mis\u001b[39;00m \u001b[38;5;129;01mnot\u001b[39;00m \u001b[38;5;28;01mNone\u001b[39;00m:\n",
      "\n",
      "File \u001b[1;32m~/mambaforge/lib/python3.10/site-packages/pandas/core/indexes/base.py:6545\u001b[0m, in \u001b[0;36mIndex.isin\u001b[1;34m(\n",
      "    self=Index(['Choiseul', 'Honiara', 'Western', 'Isabel...'Temotu'],\n",
      "      dtype='object', name='geo_name'),\n",
      "    values='Guadalcanal',\n",
      "    level=None\n",
      ")\u001b[0m\n",
      "\u001b[0;32m   6543\u001b[0m \u001b[38;5;28;01mif\u001b[39;00m level \u001b[38;5;129;01mis\u001b[39;00m \u001b[38;5;129;01mnot\u001b[39;00m \u001b[38;5;28;01mNone\u001b[39;00m:\n",
      "\u001b[0;32m   6544\u001b[0m     \u001b[38;5;28mself\u001b[39m\u001b[38;5;241m.\u001b[39m_validate_index_level(level)\n",
      "\u001b[1;32m-> 6545\u001b[0m \u001b[38;5;28;01mreturn\u001b[39;00m \u001b[43malgos\u001b[49m\u001b[38;5;241;43m.\u001b[39;49m\u001b[43misin\u001b[49m\u001b[43m(\u001b[49m\u001b[38;5;28;43mself\u001b[39;49m\u001b[38;5;241;43m.\u001b[39;49m\u001b[43m_values\u001b[49m\u001b[43m,\u001b[49m\u001b[43m \u001b[49m\u001b[43mvalues\u001b[49m\u001b[43m)\u001b[49m\n",
      "        values \u001b[1;34m= 'Guadalcanal'\u001b[0m\u001b[1;34m\n",
      "        \u001b[0malgos \u001b[1;34m= <module 'pandas.core.algorithms' from '/home/tom/mambaforge/lib/python3.10/site-packages/pandas/core/algorithms.py'>\u001b[0m\u001b[1;34m\n",
      "        \u001b[0mself \u001b[1;34m= Index(['Choiseul', 'Honiara', 'Western', 'Isabel', 'Central', 'Rennell-Bell',\n",
      "       'Guadalcanal', 'Malaita', 'Makira-Ulawa', 'Temotu'],\n",
      "      dtype='object', name='geo_name')\u001b[0m\n",
      "\n",
      "File \u001b[1;32m~/mambaforge/lib/python3.10/site-packages/pandas/core/algorithms.py:459\u001b[0m, in \u001b[0;36misin\u001b[1;34m(\n",
      "    comps=array(['Choiseul', 'Honiara', 'Western', 'Isabel...', 'Makira-Ulawa', 'Temotu'],\n",
      "      dtype=object),\n",
      "    values='Guadalcanal'\n",
      ")\u001b[0m\n",
      "\u001b[0;32m    454\u001b[0m     \u001b[38;5;28;01mraise\u001b[39;00m \u001b[38;5;167;01mTypeError\u001b[39;00m(\n",
      "\u001b[0;32m    455\u001b[0m         \u001b[38;5;124m\"\u001b[39m\u001b[38;5;124monly list-like objects are allowed to be passed \u001b[39m\u001b[38;5;124m\"\u001b[39m\n",
      "\u001b[0;32m    456\u001b[0m         \u001b[38;5;124mf\u001b[39m\u001b[38;5;124m\"\u001b[39m\u001b[38;5;124mto isin(), you passed a [\u001b[39m\u001b[38;5;132;01m{\u001b[39;00m\u001b[38;5;28mtype\u001b[39m(comps)\u001b[38;5;241m.\u001b[39m\u001b[38;5;18m__name__\u001b[39m\u001b[38;5;132;01m}\u001b[39;00m\u001b[38;5;124m]\u001b[39m\u001b[38;5;124m\"\u001b[39m\n",
      "\u001b[0;32m    457\u001b[0m     )\n",
      "\u001b[0;32m    458\u001b[0m \u001b[38;5;28;01mif\u001b[39;00m \u001b[38;5;129;01mnot\u001b[39;00m is_list_like(values):\n",
      "\u001b[1;32m--> 459\u001b[0m     \u001b[38;5;28;01mraise\u001b[39;00m \u001b[38;5;167;01mTypeError\u001b[39;00m(\n",
      "        values \u001b[1;34m= 'Guadalcanal'\u001b[0m\u001b[1;34m\n",
      "        \u001b[0mtype(values) \u001b[1;34m= <class 'str'>\u001b[0m\n",
      "\u001b[0;32m    460\u001b[0m         \u001b[38;5;124m\"\u001b[39m\u001b[38;5;124monly list-like objects are allowed to be passed \u001b[39m\u001b[38;5;124m\"\u001b[39m\n",
      "\u001b[0;32m    461\u001b[0m         \u001b[38;5;124mf\u001b[39m\u001b[38;5;124m\"\u001b[39m\u001b[38;5;124mto isin(), you passed a [\u001b[39m\u001b[38;5;132;01m{\u001b[39;00m\u001b[38;5;28mtype\u001b[39m(values)\u001b[38;5;241m.\u001b[39m\u001b[38;5;18m__name__\u001b[39m\u001b[38;5;132;01m}\u001b[39;00m\u001b[38;5;124m]\u001b[39m\u001b[38;5;124m\"\u001b[39m\n",
      "\u001b[0;32m    462\u001b[0m     )\n",
      "\u001b[0;32m    464\u001b[0m \u001b[38;5;28;01mif\u001b[39;00m \u001b[38;5;129;01mnot\u001b[39;00m \u001b[38;5;28misinstance\u001b[39m(values, (ABCIndex, ABCSeries, ABCExtensionArray, np\u001b[38;5;241m.\u001b[39mndarray)):\n",
      "\u001b[0;32m    465\u001b[0m     orig_values \u001b[38;5;241m=\u001b[39m values\n",
      "\n",
      "\u001b[1;31mTypeError\u001b[0m: only list-like objects are allowed to be passed to isin(), you passed a [str]\n",
      "\n"
     ]
    }
   ],
   "source": [
    "#| hide\n",
    "import nbdev; nbdev.nbdev_export()"
   ]
  }
 ],
 "metadata": {
  "kernelspec": {
   "display_name": "python3",
   "language": "python",
   "name": "python3"
  }
 },
 "nbformat": 4,
 "nbformat_minor": 4
}
