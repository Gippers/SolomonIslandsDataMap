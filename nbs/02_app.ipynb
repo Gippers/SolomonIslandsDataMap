{
 "cells": [
  {
   "cell_type": "markdown",
   "metadata": {},
   "source": [
    "# Generate Map\n",
    "\n",
    "> Class that generates the data map"
   ]
  },
  {
   "cell_type": "code",
   "execution_count": null,
   "metadata": {},
   "outputs": [],
   "source": [
    "#| default_exp app"
   ]
  },
  {
   "cell_type": "code",
   "execution_count": null,
   "metadata": {},
   "outputs": [],
   "source": [
    "#| export\n",
    "from nbdev.showdoc import *\n",
    "# TODO work out how to get around below hack\n",
    "try:\n",
    "    from SolomonIslandsDataMap.load_data import *\n",
    "    from SolomonIslandsDataMap.dash_components import *\n",
    "except: \n",
    "    from load_data import *\n",
    "    from dash_components import *\n",
    "import plotly.express as px\n",
    "import plotly.graph_objects as go\n",
    "import plotly.io as pio # Unless this is used graphs will not be dynamic?\n",
    "import json\n",
    "from git import Repo\n",
    "import pandas as pd\n",
    "import numpy as np\n",
    "from fastcore.test import *\n",
    "from dash import Dash, dcc, Output, Input, html, Patch, ctx  # pip install dash\n",
    "import dash_bootstrap_components as dbc    # pip install dash-bootstrap-components\n",
    "from dash_bootstrap_templates import load_figure_template\n",
    "import random\n",
    "import dash_mantine_components as dmc"
   ]
  },
  {
   "cell_type": "code",
   "execution_count": null,
   "metadata": {},
   "outputs": [],
   "source": [
    "# TODO - do a need a state class that tracks the state of different website objects to help with\n",
    "# updating etc. \n",
    "# TODO - not even state, should it be an object that contains everythin to track. Execpt if I am patching,\n",
    "# then the tracking in mem is unessary, so better to just track necesary values like: last changes card etc. "
   ]
  },
  {
   "cell_type": "markdown",
   "metadata": {},
   "source": [
    "## Load Data"
   ]
  },
  {
   "cell_type": "code",
   "execution_count": null,
   "metadata": {},
   "outputs": [],
   "source": [
    "#| export\n",
    "sol_geo = SolomonGeo.load_pickle(\"/testData/\")\n",
    "geo_df = sol_geo.geo_df"
   ]
  },
  {
   "cell_type": "code",
   "execution_count": null,
   "metadata": {},
   "outputs": [],
   "source": [
    "fig = define_map(sol_geo)"
   ]
  },
  {
   "cell_type": "code",
   "execution_count": null,
   "metadata": {},
   "outputs": [
    {
     "data": {
      "text/plain": [
       "()"
      ]
     },
     "execution_count": null,
     "metadata": {},
     "output_type": "execute_result"
    }
   ],
   "source": [
    "fig['frames']\n"
   ]
  },
  {
   "cell_type": "markdown",
   "metadata": {},
   "source": [
    "## Setup Dash Components"
   ]
  },
  {
   "cell_type": "code",
   "execution_count": null,
   "metadata": {},
   "outputs": [],
   "source": [
    "#| export\n",
    "# Build your components\n",
    "# FYI the best themes seem to be: [Darkly, Flatly, Minty, Slate, JOURNAL]\n",
    "app = Dash(__name__, external_stylesheets=[dbc.themes.MINTY])\n",
    "server = app.server\n",
    "load_figure_template(\"minty\")\n",
    "\n",
    "geos = geo_df.loc[:, 'agg'].unique()\n",
    "cen_vars = sol_geo.census_vars\n",
    "mytitle = dcc.Markdown(children=\"## \" + cen_vars[-1] + \" by \" + geos[0]) # TODO This needs a default title\n",
    "map_graph = dcc.Graph(figure=define_map(sol_geo), selectedData=None)\n",
    "# TODO entire accordian will need to be the child\n",
    "cards = dbc.Accordion(children= \n",
    "        card_list(sol_geo, \"Population - Total\", sol_geo.geo_levels[0], sol_geo.census_vars[-1]),\n",
    "        always_open=True,\n",
    "        class_name = \"accordion-header\",\n",
    "    )\n",
    "               \n",
    "\n",
    "#dropdown_geo = dbc.Dropdown(options=geos,\n",
    "#                        value=geos[0],  # initial value displayed when page first loads\n",
    "#                        clearable=False)\n",
    "dropdown_geo = dmc.SegmentedControl(\n",
    "                            id=\"segmented\",\n",
    "                            value=geos[0],\n",
    "                            data=geos,\n",
    "                             orientation=\"vertical\",\n",
    "                            color = 'gray',\n",
    "                            fullWidth = True,\n",
    "                            # TODO - think there is a version issue with class_name on the server, need to fix\n",
    "                            #className=\"btn-group btn-primary\",\n",
    "                            #class_name = \"btn btn-primary\"\n",
    "                            #color = dmc.theme.DEFAULT_COLORS[\"teal\"][3]\n",
    "    # TODO this color functionality is beyond stupid...\n",
    "    # TODO definitely change to dbc, even though more complicated get consistent theme.s..\n",
    "                        ) # TODO consider redoing as theme is not consistent with this library\n",
    "'''\n",
    "dropdown_geo = dbc.ButtonGroup(\n",
    "    [\n",
    "        dbc.RadioItems(\n",
    "            id=\"radios\",\n",
    "            className=\"btn-group\",\n",
    "            inputClassName=\"btn-check\",\n",
    "            labelClassName=\"btn btn-outline-primary\",\n",
    "            labelCheckedClassName=\"active\",\n",
    "            options=[\n",
    "                {\"label\": geos[0], \"value\": geos[0]},\n",
    "                {\"label\": geos[1], \"value\": geos[1]},\n",
    "                {\"label\": geos[2], \"value\": geos[2]},\n",
    "            ],\n",
    "            value=geos[0],\n",
    "        ),\n",
    "        #html.Div(id=\"output\"),\n",
    "    ],\n",
    "    className=\"radio-group\",\n",
    "    vertical = True,\n",
    ")'''\n",
    "dropdown_var = dcc.Dropdown(options=cen_vars,\n",
    "                        value=cen_vars[-1],  # initial value displayed when page first loads\n",
    "                        clearable=False,)\n",
    "\n",
    "navbar = dbc.NavbarSimple(\n",
    "    children=[\n",
    "        dbc.NavItem(dbc.NavLink(\"Census Data\", href=\"#\")),\n",
    "        dbc.DropdownMenu(\n",
    "            children=[\n",
    "                dbc.DropdownMenuItem(\"More pages coming soon\", header=True),\n",
    "                dbc.DropdownMenuItem(\"Population Projection\", href=\"#\"),\n",
    "            ],\n",
    "            nav=True,\n",
    "            in_navbar=True,\n",
    "            label=\"More\",\n",
    "        ),\n",
    "    ],\n",
    "    brand=\"Solomon Islands Data Map\",\n",
    "    brand_href=\"#\",\n",
    "    color=\"primary\",\n",
    "    #dark=True,\n",
    "    class_name=\"navbar navbar-expand-lg bg-primary\"\n",
    ")\n"
   ]
  },
  {
   "cell_type": "markdown",
   "metadata": {},
   "source": [
    "## Create a sidebar\n",
    "The sidebar will "
   ]
  },
  {
   "cell_type": "code",
   "execution_count": null,
   "metadata": {},
   "outputs": [],
   "source": [
    "#| export\n",
    "# Note, for now I am not using a sidebar style as I do not want to fix the width\n",
    "SIDEBAR_STYLE = {\n",
    "    \"position\": \"fixed\",\n",
    "    \"top\": 0,\n",
    "    \"left\": 0,\n",
    "    \"bottom\": 0,\n",
    "    \"width\": \"24rem\",\n",
    "    \"padding\": \"2rem 1rem\",\n",
    "    #\"background-color\": \"#f8f9fa\",\n",
    "}\n",
    "\n",
    "\n",
    "sidebar = html.Div(\n",
    "    [\n",
    "        html.H2(\"Filters\"),\n",
    "        html.Hr(),\n",
    "        dbc.Nav(\n",
    "            [\n",
    "                html.P(\"Geography\"), # TODO add a tooltip button here with link to geo explanation\n",
    "                dropdown_geo,\n",
    "                html.Br(),\n",
    "                html.P(\"Data\"), # TODO add a little info button here with link to geo explanation\n",
    "                dropdown_var,\n",
    "                #html.Br(),\n",
    "                #dcc.Dropdown(id = 'three')\n",
    "\n",
    "            ],\n",
    "            vertical=True,\n",
    "            pills=True,\n",
    "        ),\n",
    "    ],\n",
    "    #style=SIDEBAR_STYLE,\n",
    ")\n"
   ]
  },
  {
   "cell_type": "markdown",
   "metadata": {},
   "source": [
    "## Customize the Layout"
   ]
  },
  {
   "cell_type": "code",
   "execution_count": null,
   "metadata": {},
   "outputs": [],
   "source": [
    "#| export\n",
    "app.layout = dbc.Container([\n",
    "                dbc.Row([\n",
    "                    navbar\n",
    "                ]),\n",
    "                dbc.Row(\n",
    "                    [dbc.Col(sidebar, width = 2),\n",
    "                    dbc.Col([mytitle,\n",
    "                             map_graph,\n",
    "                            dbc.Row([cards])\n",
    "                            ], width = 10)#, style = {'margin-left':'15px', 'margin-top':'7px', 'margin-right':'15px'})\n",
    "                     ], justify = 'center'),                    \n",
    "                ], fluid = True)"
   ]
  },
  {
   "cell_type": "markdown",
   "metadata": {},
   "source": [
    "## Build callbacks to create interaction"
   ]
  },
  {
   "cell_type": "code",
   "execution_count": null,
   "metadata": {},
   "outputs": [],
   "source": [
    "#| export\n",
    "@app.callback(\n",
    "    Output(cards, 'children'),\n",
    "    # TODO - make this a Row object with children, then use function to recontruct\n",
    "    # a group of them\n",
    "    Input(map_graph, 'clickData'),\n",
    "    prevent_initial_call=True\n",
    ")\n",
    "def update_kpis(clickData):\n",
    "    # TODO - I need to know the current variable selection in order to make this selection correct.\n",
    "    # TODO - I also need to reset this when the filter is changed\n",
    "    # TODO - This callback should be triggered by the main callback https://dash.plotly.com/advanced-callbacks see callbacks as an indirect\n",
    "    # result section\n",
    "    # TODO add a hidden state tracker - update var and geo based on this\n",
    "    # TODO workout how to make multi point selection work - hard todo - might need to find open source web example\n",
    "    \n",
    "    if clickData is None:\n",
    "        # TODO when none, maybe in future return current saved state, for now doing total\n",
    "        # TODO add a heading and maybe put in an acordian\n",
    "        new_cards = card_list(sol_geo, \n",
    "                              \"Population - Total\",\n",
    "                              sol_geo.geo_levels[0], \n",
    "                              sol_geo.census_vars[-1])\n",
    "        return new_cards\n",
    "    else:\n",
    "        # The locations are list of dictionaries\n",
    "        locations = list(map(lambda x: x['location'], clickData['points']))\n",
    "        print(locations)\n",
    "        # filter dataframe by store location, then sum all orders of that store.\n",
    "        new_cards = card_list(sol_geo, \n",
    "                              \"Population - \" + \", \".join(locations),\n",
    "                              sol_geo.geo_levels[0], \n",
    "                              sol_geo.census_vars[-1], \n",
    "                              locations)\n",
    "        \n",
    "        # get all orders from this stor location \n",
    "\n",
    "        return new_cards"
   ]
  },
  {
   "cell_type": "markdown",
   "metadata": {},
   "source": [
    "#| hide\n",
    "show_doc(update_kpis)"
   ]
  },
  {
   "cell_type": "code",
   "execution_count": null,
   "metadata": {},
   "outputs": [],
   "source": [
    "#| export\n",
    "# Callback allows components to interact\n",
    "\n",
    "# TODO put title in it's own callback\n",
    "@app.callback(\n",
    "    Output(map_graph, 'figure'),\n",
    "    Output(mytitle, 'children'),\n",
    "    Output(map_graph, \"clickData\"),\n",
    "    Input(dropdown_geo, 'value'),\n",
    "    Input(dropdown_var, 'value'),\n",
    "    Input(map_graph, \"clickData\"),\n",
    "    allow_duplicate=True,\n",
    "    prevent_initial_call=True\n",
    ")\n",
    "def update_geography(geo_input:str, # User input from the geography dropdown\n",
    "                     census_var:str, # User input for the census variable\n",
    "                     map_selection:dict, # A dictionary of selected points on the map\n",
    "              )->(type(go.Figure()), str): # Returns a graph object figure after being updated and the dynamic title\n",
    "    '''\n",
    "    Updates the focus census variable or geography dispalayed on the map\n",
    "    '''\n",
    "    patched_figure = Patch()\n",
    "    button_clicked = ctx.triggered_id\n",
    "    print(dropdown_geo)\n",
    "    if button_clicked == dropdown_geo.id:\n",
    "        # Update disaplayed geography based on \n",
    "        for geo in sol_geo.geo_levels:\n",
    "            i = np.where(sol_geo.geo_levels == geo)[0][0] # Tracks the trace number\n",
    "            patched_figure['data'][i]['visible'] = geo_input == geo\n",
    "            print(geo_input == geo)\n",
    "        map_selection = None\n",
    "        #map_selection = None # Map selection is none when geography is changed\n",
    "    elif button_clicked == dropdown_var.id:\n",
    "        # Update the z values in map to the data for the requested\n",
    "        # census variable\n",
    "        \n",
    "        for geo in sol_geo.geo_levels:\n",
    "        # Ar updates the z value ie. data disaplyed each time\n",
    "        # TODO this is fairly inefficient, as we are processing each time\n",
    "        # Maybe faster framework like polars could help? or caching but would require a lot of caching\n",
    "            i = np.where(sol_geo.geo_levels == geo)[0][0] # Tracks the trace number\n",
    "            ar = sol_geo.get_df(agg_filter = geo, var_filter = census_var).values\n",
    "            ar = ar.reshape((ar.shape[0],))\n",
    "            patched_figure['data'][i]['z'] = ar\n",
    "\n",
    "    # returned objects are assigned to the component property of the Output\n",
    "    # After updating fileter, we always reset map selection \n",
    "    # TODO - potentially not with census updates though...\n",
    "    #update_kpis(selectedData = map_selection)\n",
    "\n",
    "    return patched_figure, '## Solomon Islands Data map - ' + geo_input, map_selection"
   ]
  },
  {
   "cell_type": "markdown",
   "metadata": {},
   "source": [
    "On click, update the contents of the kpi's"
   ]
  },
  {
   "cell_type": "code",
   "execution_count": null,
   "metadata": {},
   "outputs": [
    {
     "data": {
      "text/markdown": [
       "---\n",
       "\n",
       "[source](https://github.com/Gippers/SolomonIslandsDataMap/blob/main/SolomonIslandsDataMap/app.py#L219){target=\"_blank\" style=\"float:right; font-size:smaller\"}\n",
       "\n",
       "### update_geography\n",
       "\n",
       ">      update_geography (geo_input:str, census_var:str, map_selection:dict)\n",
       "\n",
       "Updates the focus census variable or geography dispalayed on the map\n",
       "\n",
       "|    | **Type** | **Details** |\n",
       "| -- | -------- | ----------- |\n",
       "| geo_input | str | User input from the geography dropdown |\n",
       "| census_var | str | User input for the census variable |\n",
       "| map_selection | dict | A dictionary of selected points on the map |\n",
       "| **Returns** | **(<class 'plotly.graph_objs._figure.Figure'>, <class 'str'>)** | **Returns a graph object figure after being updated and the dynamic title** |"
      ],
      "text/plain": [
       "---\n",
       "\n",
       "[source](https://github.com/Gippers/SolomonIslandsDataMap/blob/main/SolomonIslandsDataMap/app.py#L219){target=\"_blank\" style=\"float:right; font-size:smaller\"}\n",
       "\n",
       "### update_geography\n",
       "\n",
       ">      update_geography (geo_input:str, census_var:str, map_selection:dict)\n",
       "\n",
       "Updates the focus census variable or geography dispalayed on the map\n",
       "\n",
       "|    | **Type** | **Details** |\n",
       "| -- | -------- | ----------- |\n",
       "| geo_input | str | User input from the geography dropdown |\n",
       "| census_var | str | User input for the census variable |\n",
       "| map_selection | dict | A dictionary of selected points on the map |\n",
       "| **Returns** | **(<class 'plotly.graph_objs._figure.Figure'>, <class 'str'>)** | **Returns a graph object figure after being updated and the dynamic title** |"
      ]
     },
     "execution_count": null,
     "metadata": {},
     "output_type": "execute_result"
    }
   ],
   "source": [
    "#| hide\n",
    "show_doc(update_geography)"
   ]
  },
  {
   "cell_type": "code",
   "execution_count": null,
   "metadata": {},
   "outputs": [],
   "source": [
    "# TODO Do the title in one callback that listens for changes to either of them"
   ]
  },
  {
   "cell_type": "code",
   "execution_count": null,
   "metadata": {},
   "outputs": [
    {
     "data": {
      "text/plain": [
       "(0,)"
      ]
     },
     "execution_count": null,
     "metadata": {},
     "output_type": "execute_result"
    }
   ],
   "source": [
    "ar = sol_geo.get_df(agg_filter = 'province', var_filter = 'female_pop').values\n",
    "ar = ar.reshape((ar.shape[0],))\n",
    "ar.shape"
   ]
  },
  {
   "cell_type": "code",
   "execution_count": null,
   "metadata": {},
   "outputs": [
    {
     "name": "stdout",
     "output_type": "stream",
     "text": [
      "False\n",
      "False\n",
      "False\n"
     ]
    }
   ],
   "source": [
    "#patched_figure = Patch()\n",
    "user_input = 'Constituency'\n",
    "for geo in sol_geo.geo_levels:\n",
    "    i = np.where(sol_geo.geo_levels == geo)[0][0] # Tracks the trace number\n",
    "    fig['data'][i]['visible'] = user_input == geo\n",
    "    print(user_input == geo)"
   ]
  },
  {
   "cell_type": "code",
   "execution_count": null,
   "metadata": {},
   "outputs": [
    {
     "ename": "AssertionError",
     "evalue": "==:\nFalse\nTrue",
     "output_type": "error",
     "traceback": [
      "\u001b[0;31m---------------------------------------------------------------------------\u001b[0m",
      "\u001b[0;31mAssertionError\u001b[0m                            Traceback (most recent call last)",
      "\u001b[1;32m/home/tom/git/SolomonIslandsDataMap/nbs/02_app.ipynb Cell 24\u001b[0m line \u001b[0;36m3\n\u001b[1;32m      <a href='vscode-notebook-cell://wsl%2Bubuntu/home/tom/git/SolomonIslandsDataMap/nbs/02_app.ipynb#Y103sdnNjb2RlLXJlbW90ZQ%3D%3D?line=0'>1</a>\u001b[0m \u001b[39m# TODO undo hardcoding\u001b[39;00m\n\u001b[1;32m      <a href='vscode-notebook-cell://wsl%2Bubuntu/home/tom/git/SolomonIslandsDataMap/nbs/02_app.ipynb#Y103sdnNjb2RlLXJlbW90ZQ%3D%3D?line=1'>2</a>\u001b[0m test_eq(fig[\u001b[39m'\u001b[39m\u001b[39mdata\u001b[39m\u001b[39m'\u001b[39m][\u001b[39m0\u001b[39m][\u001b[39m'\u001b[39m\u001b[39mvisible\u001b[39m\u001b[39m'\u001b[39m], \u001b[39mFalse\u001b[39;00m)\n\u001b[0;32m----> <a href='vscode-notebook-cell://wsl%2Bubuntu/home/tom/git/SolomonIslandsDataMap/nbs/02_app.ipynb#Y103sdnNjb2RlLXJlbW90ZQ%3D%3D?line=2'>3</a>\u001b[0m test_eq(fig[\u001b[39m'\u001b[39;49m\u001b[39mdata\u001b[39;49m\u001b[39m'\u001b[39;49m][\u001b[39m1\u001b[39;49m][\u001b[39m'\u001b[39;49m\u001b[39mvisible\u001b[39;49m\u001b[39m'\u001b[39;49m], \u001b[39mTrue\u001b[39;49;00m)\n\u001b[1;32m      <a href='vscode-notebook-cell://wsl%2Bubuntu/home/tom/git/SolomonIslandsDataMap/nbs/02_app.ipynb#Y103sdnNjb2RlLXJlbW90ZQ%3D%3D?line=3'>4</a>\u001b[0m test_eq(fig[\u001b[39m'\u001b[39m\u001b[39mdata\u001b[39m\u001b[39m'\u001b[39m][\u001b[39m2\u001b[39m][\u001b[39m'\u001b[39m\u001b[39mvisible\u001b[39m\u001b[39m'\u001b[39m], \u001b[39mFalse\u001b[39;00m)\n",
      "File \u001b[0;32m~/mambaforge/lib/python3.10/site-packages/fastcore/test.py:37\u001b[0m, in \u001b[0;36mtest_eq\u001b[0;34m(a, b)\u001b[0m\n\u001b[1;32m     35\u001b[0m \u001b[39mdef\u001b[39;00m \u001b[39mtest_eq\u001b[39m(a,b):\n\u001b[1;32m     36\u001b[0m     \u001b[39m\"\u001b[39m\u001b[39m`test` that `a==b`\u001b[39m\u001b[39m\"\u001b[39m\n\u001b[0;32m---> 37\u001b[0m     test(a,b,equals, \u001b[39m'\u001b[39;49m\u001b[39m==\u001b[39;49m\u001b[39m'\u001b[39;49m)\n",
      "File \u001b[0;32m~/mambaforge/lib/python3.10/site-packages/fastcore/test.py:27\u001b[0m, in \u001b[0;36mtest\u001b[0;34m(a, b, cmp, cname)\u001b[0m\n\u001b[1;32m     25\u001b[0m \u001b[39m\"\u001b[39m\u001b[39m`assert` that `cmp(a,b)`; display inputs and `cname or cmp.__name__` if it fails\u001b[39m\u001b[39m\"\u001b[39m\n\u001b[1;32m     26\u001b[0m \u001b[39mif\u001b[39;00m cname \u001b[39mis\u001b[39;00m \u001b[39mNone\u001b[39;00m: cname\u001b[39m=\u001b[39mcmp\u001b[39m.\u001b[39m\u001b[39m__name__\u001b[39m\n\u001b[0;32m---> 27\u001b[0m \u001b[39massert\u001b[39;00m cmp(a,b),\u001b[39mf\u001b[39m\u001b[39m\"\u001b[39m\u001b[39m{\u001b[39;00mcname\u001b[39m}\u001b[39;00m\u001b[39m:\u001b[39m\u001b[39m\\n\u001b[39;00m\u001b[39m{\u001b[39;00ma\u001b[39m}\u001b[39;00m\u001b[39m\\n\u001b[39;00m\u001b[39m{\u001b[39;00mb\u001b[39m}\u001b[39;00m\u001b[39m\"\u001b[39m\n",
      "\u001b[0;31mAssertionError\u001b[0m: ==:\nFalse\nTrue"
     ]
    }
   ],
   "source": [
    "# TODO undo hardcoding\n",
    "test_eq(fig['data'][0]['visible'], False)\n",
    "test_eq(fig['data'][1]['visible'], True)\n",
    "test_eq(fig['data'][2]['visible'], False)"
   ]
  },
  {
   "cell_type": "markdown",
   "metadata": {},
   "source": [
    "### Update the colour columns based on data selection"
   ]
  },
  {
   "cell_type": "code",
   "execution_count": null,
   "metadata": {},
   "outputs": [],
   "source": [
    "# TODO the above demonstrates that we can stack mutliple graphs and toggle the visibility and potentially z value in order to \n",
    "# quickly update our graph"
   ]
  },
  {
   "cell_type": "markdown",
   "metadata": {},
   "source": [
    "fig = px.choropleth_mapbox(sol_geo.get_df(agg_filter = 'ward'),\n",
    "        # TODO - may need to use old version of mapping to get visibility hack to work..\n",
    "                        #geojson = str(repo.working_tree_dir) + \"/assets/sol_geo.json\",\n",
    "                            geojson=sol_geo.get_geojson(agg_filter = 'ward'),\n",
    "                           locations=sol_geo.get_df(agg_filter = 'ward').index,\n",
    "                               color = 'total_pop',\n",
    "                           color_continuous_scale=\"deep\",\n",
    "                               mapbox_style = 'carto-positron',\n",
    "                               opacity = 0.8,\n",
    "                        zoom = 5,\n",
    "                        center={\"lat\": -9.565766, \"lon\": 162.012453})\n",
    "print(fig[\"data\"][0][\"z\"])"
   ]
  },
  {
   "cell_type": "markdown",
   "metadata": {},
   "source": [
    "## Run the dash app"
   ]
  },
  {
   "cell_type": "code",
   "execution_count": null,
   "metadata": {},
   "outputs": [
    {
     "data": {
      "text/html": [
       "\n",
       "        <iframe\n",
       "            width=\"100%\"\n",
       "            height=\"650\"\n",
       "            src=\"http://127.0.0.1:9747/\"\n",
       "            frameborder=\"0\"\n",
       "            allowfullscreen\n",
       "            \n",
       "        ></iframe>\n",
       "        "
      ],
      "text/plain": [
       "<IPython.lib.display.IFrame>"
      ]
     },
     "metadata": {},
     "output_type": "display_data"
    }
   ],
   "source": [
    "#| export\n",
    "#| server\n",
    "# Run app\n",
    "if __name__=='__main__':\n",
    "    try:\n",
    "        app.run_server(debug=True, port = random.randint(1000, 9999)) # Random int mitigates port collision\n",
    "    except:\n",
    "        print(\"Cannot run server here\")"
   ]
  },
  {
   "cell_type": "code",
   "execution_count": null,
   "metadata": {},
   "outputs": [
    {
     "name": "stdout",
     "output_type": "stream",
     "text": [
      "SegmentedControl(id='segmented', color='gray', data=array(['ward', 'constituency', 'province'], dtype=object), fullWidth=True, orientation='vertical', value='ward')\n",
      "['Tandai']\n",
      "SegmentedControl(id='segmented', color='gray', data=array(['ward', 'constituency', 'province'], dtype=object), fullWidth=True, orientation='vertical', value='ward')\n",
      "['Kolokarako']\n",
      "SegmentedControl(id='segmented', color='gray', data=array(['ward', 'constituency', 'province'], dtype=object), fullWidth=True, orientation='vertical', value='ward')\n",
      "False\n",
      "True\n",
      "False\n",
      "SegmentedControl(id='segmented', color='gray', data=array(['ward', 'constituency', 'province'], dtype=object), fullWidth=True, orientation='vertical', value='ward')\n",
      "['North New Georgia']\n",
      "SegmentedControl(id='segmented', color='gray', data=array(['ward', 'constituency', 'province'], dtype=object), fullWidth=True, orientation='vertical', value='ward')\n",
      "['Central Guadalcanal']\n",
      "SegmentedControl(id='segmented', color='gray', data=array(['ward', 'constituency', 'province'], dtype=object), fullWidth=True, orientation='vertical', value='ward')\n",
      "False\n",
      "False\n",
      "True\n",
      "SegmentedControl(id='segmented', color='gray', data=array(['ward', 'constituency', 'province'], dtype=object), fullWidth=True, orientation='vertical', value='ward')\n",
      "['Western']\n",
      "SegmentedControl(id='segmented', color='gray', data=array(['ward', 'constituency', 'province'], dtype=object), fullWidth=True, orientation='vertical', value='ward')\n",
      "['Malaita']\n",
      "SegmentedControl(id='segmented', color='gray', data=array(['ward', 'constituency', 'province'], dtype=object), fullWidth=True, orientation='vertical', value='ward')\n",
      "['South Kolombangara']\n",
      "SegmentedControl(id='segmented', color='gray', data=array(['ward', 'constituency', 'province'], dtype=object), fullWidth=True, orientation='vertical', value='ward')\n",
      "['Tandai']\n",
      "SegmentedControl(id='segmented', color='gray', data=array(['ward', 'constituency', 'province'], dtype=object), fullWidth=True, orientation='vertical', value='ward')\n",
      "['Kolokarako']\n",
      "SegmentedControl(id='segmented', color='gray', data=array(['ward', 'constituency', 'province'], dtype=object), fullWidth=True, orientation='vertical', value='ward')\n",
      "['Tetekanji']\n",
      "SegmentedControl(id='segmented', color='gray', data=array(['ward', 'constituency', 'province'], dtype=object), fullWidth=True, orientation='vertical', value='ward')\n",
      "['Weather Coast']\n",
      "SegmentedControl(id='segmented', color='gray', data=array(['ward', 'constituency', 'province'], dtype=object), fullWidth=True, orientation='vertical', value='ward')\n",
      "['Kolokarako']\n",
      "SegmentedControl(id='segmented', color='gray', data=array(['ward', 'constituency', 'province'], dtype=object), fullWidth=True, orientation='vertical', value='ward')\n",
      "['Aiaisi']\n",
      "SegmentedControl(id='segmented', color='gray', data=array(['ward', 'constituency', 'province'], dtype=object), fullWidth=True, orientation='vertical', value='ward')\n",
      "['Fauabu']\n",
      "SegmentedControl(id='segmented', color='gray', data=array(['ward', 'constituency', 'province'], dtype=object), fullWidth=True, orientation='vertical', value='ward')\n",
      "['Buini Tusu']\n",
      "SegmentedControl(id='segmented', color='gray', data=array(['ward', 'constituency', 'province'], dtype=object), fullWidth=True, orientation='vertical', value='ward')\n",
      "['Malango']\n",
      "SegmentedControl(id='segmented', color='gray', data=array(['ward', 'constituency', 'province'], dtype=object), fullWidth=True, orientation='vertical', value='ward')\n",
      "['Tangarare']\n",
      "SegmentedControl(id='segmented', color='gray', data=array(['ward', 'constituency', 'province'], dtype=object), fullWidth=True, orientation='vertical', value='ward')\n",
      "['Avuavu']\n",
      "SegmentedControl(id='segmented', color='gray', data=array(['ward', 'constituency', 'province'], dtype=object), fullWidth=True, orientation='vertical', value='ward')\n",
      "['Buini Tusu']\n",
      "SegmentedControl(id='segmented', color='gray', data=array(['ward', 'constituency', 'province'], dtype=object), fullWidth=True, orientation='vertical', value='ward')\n",
      "['Kusaghe']\n",
      "SegmentedControl(id='segmented', color='gray', data=array(['ward', 'constituency', 'province'], dtype=object), fullWidth=True, orientation='vertical', value='ward')\n",
      "['Samasodu']\n",
      "SegmentedControl(id='segmented', color='gray', data=array(['ward', 'constituency', 'province'], dtype=object), fullWidth=True, orientation='vertical', value='ward')\n",
      "['Kia']\n"
     ]
    }
   ],
   "source": [
    "#| hide\n",
    "import nbdev; nbdev.nbdev_export()"
   ]
  }
 ],
 "metadata": {
  "kernelspec": {
   "display_name": "python3",
   "language": "python",
   "name": "python3"
  }
 },
 "nbformat": 4,
 "nbformat_minor": 4
}
