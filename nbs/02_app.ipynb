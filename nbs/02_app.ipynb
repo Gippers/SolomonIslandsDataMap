{
 "cells": [
  {
   "cell_type": "markdown",
   "metadata": {},
   "source": [
    "# Generate Map\n",
    "\n",
    "> Class that generates the data map"
   ]
  },
  {
   "cell_type": "code",
   "execution_count": null,
   "metadata": {},
   "outputs": [],
   "source": [
    "#| default_exp app"
   ]
  },
  {
   "cell_type": "code",
   "execution_count": null,
   "metadata": {},
   "outputs": [],
   "source": [
    "#| export\n",
    "from nbdev.showdoc import *\n",
    "# TODO work out how to get around below hack\n",
    "try:\n",
    "    from SolomonIslandsDataMap.load_data import *\n",
    "    from SolomonIslandsDataMap.dash_components import *\n",
    "except: \n",
    "    from load_data import *\n",
    "    from dash_components import *\n",
    "import plotly.express as px\n",
    "import plotly.graph_objects as go\n",
    "import plotly.io as pio # Unless this is used graphs will not be dynamic?\n",
    "import json\n",
    "from git import Repo\n",
    "import pandas as pd\n",
    "import numpy as np\n",
    "from fastcore.test import *\n",
    "from dash import Dash, dcc, Output, Input, State, html, Patch, ctx  # pip install dash\n",
    "import dash_bootstrap_components as dbc    # pip install dash-bootstrap-components\n",
    "from dash_bootstrap_templates import load_figure_template\n",
    "import random\n",
    "import dash_mantine_components as dmc"
   ]
  },
  {
   "cell_type": "code",
   "execution_count": null,
   "metadata": {},
   "outputs": [],
   "source": [
    "# TODO - do a need a state class that tracks the state of different website objects to help with\n",
    "# updating etc. \n",
    "# TODO - not even state, should it be an object that contains everythin to track. Execpt if I am patching,\n",
    "# then the tracking in mem is unessary, so better to just track necesary values like: last changes card etc. "
   ]
  },
  {
   "cell_type": "markdown",
   "metadata": {},
   "source": [
    "## Load Data"
   ]
  },
  {
   "cell_type": "code",
   "execution_count": null,
   "metadata": {},
   "outputs": [],
   "source": [
    "#| export\n",
    "sol_geo = SolomonGeo.load_pickle(\"/testData/\", github = True)\n",
    "geo_df = sol_geo.geo_df\n",
    "fig = define_map(sol_geo)"
   ]
  },
  {
   "cell_type": "markdown",
   "metadata": {},
   "source": [
    "## Setup Dash Components"
   ]
  },
  {
   "cell_type": "markdown",
   "metadata": {},
   "source": [
    "Setup the app and global variables"
   ]
  },
  {
   "cell_type": "code",
   "execution_count": null,
   "metadata": {},
   "outputs": [],
   "source": [
    "#| export\n",
    "# Build your components\n",
    "# FYI the best themes seem to be: [Darkly, Flatly, Minty, Slate, JOURNAL]\n",
    "app = Dash(__name__, external_stylesheets=[dbc.themes.MINTY])\n",
    "server = app.server\n",
    "load_figure_template(\"minty\")\n",
    "\n",
    "geos = sol_geo.geo_levels\n",
    "cen_vars = sol_geo.census_vars\n",
    "NUM_GEOS = len(geos)\n"
   ]
  },
  {
   "cell_type": "markdown",
   "metadata": {},
   "source": [
    "Setup some of  the key data contiaining objects"
   ]
  },
  {
   "cell_type": "code",
   "execution_count": null,
   "metadata": {},
   "outputs": [],
   "source": [
    "#| export\n",
    "mytitle = dcc.Markdown(children=\"## \" + list(cen_vars.keys())[0] + \" by \" + geos[0]) # TODO This needs a default title\n",
    "map_graph = dcc.Graph(figure=define_map(sol_geo), selectedData=None,)\n",
    "# TODO entire accordian will need to be the child\n",
    "cards = dbc.Accordion(children= \n",
    "        card_list(sol_geo, \"Current Selection: Total\"),\n",
    "        always_open=True,\n",
    "        class_name = \"accordion-header\",\n",
    "    )\n",
    "selectedBarGraph = dcc.Graph(figure = gen_bar_plot(sol_geo, sol_geo.geo_levels[0], \n",
    "                                               \"Key Statistics\", 'Total Households'),\n",
    "                            id = 'bar_graph')\n",
    "# Selections tracks the currently selected map locations\n",
    "selection = dcc.Store(id = 'selection',data = {})"
   ]
  },
  {
   "cell_type": "code",
   "execution_count": null,
   "metadata": {},
   "outputs": [
    {
     "data": {
      "text/plain": [
       "Index(['Central', 'Choiseul', 'Guadalcanal', 'Honiara', 'Isabel',\n",
       "       'Makira-Ulawa', 'Malaita', 'Rennell-Bell', 'Temotu', 'Western'],\n",
       "      dtype='object', name='geo_name')"
      ]
     },
     "execution_count": null,
     "metadata": {},
     "output_type": "execute_result"
    }
   ],
   "source": [
    "sol_geo.locations[sol_geo.geo_levels[0]]"
   ]
  },
  {
   "cell_type": "markdown",
   "metadata": {},
   "source": [
    "Setup and create the dropdowns"
   ]
  },
  {
   "cell_type": "code",
   "execution_count": null,
   "metadata": {},
   "outputs": [],
   "source": [
    "#| export\n",
    "# TODO options gets changed in callback?\n",
    "# TODO need to store locations in data class\n",
    "dropdown_location = html.Div(children = gen_dd(sol_geo.locations[sol_geo.geo_levels[0]], \n",
    "                                                'locDropdown', clear = True, place_holder='Select Dropdown Location',\n",
    "                                                multi = True))\n",
    "               \n",
    "\n",
    "#dropdown_geo = dbc.Dropdown(options=geos,\n",
    "#                        value=geos[0],  # initial value displayed when page first loads\n",
    "#                        clearable=False)\n",
    "dropdown_geo = dmc.SegmentedControl(\n",
    "                            id=\"segmented_geo\",\n",
    "                            value=geos[0],\n",
    "                            data=geos,\n",
    "                             orientation=\"vertical\",\n",
    "                            color = 'gray',\n",
    "                            fullWidth = True,\n",
    "                            # TODO - think there is a version issue with class_name on the server, need to fix\n",
    "                            #className=\"btn-group btn-primary\",\n",
    "                            #class_name = \"btn btn-primary\"\n",
    "                            #color = dmc.theme.DEFAULT_COLORS[\"teal\"][3]\n",
    "    # TODO this color functionality is beyond stupid...\n",
    "    # TODO definitely change to dbc, even though more complicated get consistent theme.s..\n",
    "                        ) # TODO consider redoing as theme is not consistent with this library\n",
    "# TODO based on the value selected above, make a dropdown with children set to starting list of\n",
    "# locations in that geo. on update of dropdown_geo, update children list then update value in main one.\n",
    "# then get rid of function\n",
    "control_type = dmc.SegmentedControl(\n",
    "                        id=\"segmented_type\",\n",
    "                        value=sol_geo.data_type[0],\n",
    "                        data=sol_geo.data_type,\n",
    "                        orientation=\"vertical\",\n",
    "                        color = 'gray',\n",
    "                        fullWidth = True,)\n",
    "\n",
    "dd_var = html.Div(children = gen_dd(list(sol_geo.census_vars.keys()), 'varDropdown', \n",
    "                                    val = 'Key Statistics', height = 75))\n",
    "dd_measure = html.Div(children = gen_dd(sol_geo.census_vars['Key Statistics'], 'measureDropdown',\n",
    "                                      val = sol_geo.census_vars['Key Statistics'][0]))"
   ]
  },
  {
   "cell_type": "code",
   "execution_count": null,
   "metadata": {},
   "outputs": [
    {
     "data": {
      "text/plain": [
       "['Total Households']"
      ]
     },
     "execution_count": null,
     "metadata": {},
     "output_type": "execute_result"
    }
   ],
   "source": [
    "sol_geo.census_vars['Key Statistics']"
   ]
  },
  {
   "cell_type": "markdown",
   "metadata": {},
   "source": [
    "Create a navbar"
   ]
  },
  {
   "cell_type": "code",
   "execution_count": null,
   "metadata": {},
   "outputs": [],
   "source": [
    "#| export\n",
    "navbar = dbc.NavbarSimple(\n",
    "    children=[\n",
    "        dbc.NavItem(dbc.NavLink(\"Census Data\", href=\"#\")),\n",
    "        dbc.DropdownMenu(\n",
    "            children=[\n",
    "                dbc.DropdownMenuItem(\"More pages coming soon\", header=True),\n",
    "                dbc.DropdownMenuItem(\"Population Projection\", href=\"#\"),\n",
    "            ],\n",
    "            nav=True,\n",
    "            in_navbar=True,\n",
    "            label=\"More\",\n",
    "        ),\n",
    "    ],\n",
    "    brand=\"Solomon Islands Data Map\",\n",
    "    brand_href=\"#\",\n",
    "    color=\"primary\",\n",
    "    #dark=True,\n",
    "    class_name=\"navbar navbar-expand-lg bg-primary\"\n",
    ")\n"
   ]
  },
  {
   "cell_type": "markdown",
   "metadata": {},
   "source": [
    "## Create a sidebar\n",
    "The sidebar will "
   ]
  },
  {
   "cell_type": "code",
   "execution_count": null,
   "metadata": {},
   "outputs": [],
   "source": [
    "#| export\n",
    "# Note, for now I am not using a sidebar style as I do not want to fix the width\n",
    "SIDEBAR_STYLE = {\n",
    "    \"position\": \"fixed\",\n",
    "    \"top\": 0,\n",
    "    \"left\": 0,\n",
    "    \"bottom\": 0,\n",
    "    \"width\": \"24rem\",\n",
    "    \"padding\": \"2rem 1rem\",\n",
    "    #\"background-color\": \"#f8f9fa\",\n",
    "}\n",
    "\n",
    "\n",
    "sidebar = html.Div(\n",
    "    [\n",
    "        html.H2(\"Filters\"),\n",
    "        html.Hr(),\n",
    "        dbc.Nav(\n",
    "            [\n",
    "                html.P(\"Geography\"), # TODO add a tooltip button here with link to geo explanation\n",
    "                dropdown_geo,\n",
    "                html.Br(),\n",
    "                html.P(\"Location\"), # TODO add a little info button here with link to geo explanation\n",
    "                dropdown_location,\n",
    "                html.Br(),\n",
    "                html.P(\"Data\"), # TODO add a little info button here with link to geo explanation\n",
    "                dd_var,\n",
    "                dd_measure,\n",
    "                html.Br(),\n",
    "                html.P(\"Data Type\"), \n",
    "                control_type,\n",
    "                #html.Br(),\n",
    "                #dcc.Dropdown(id = 'three')\n",
    "\n",
    "            ],\n",
    "            vertical=True,\n",
    "            pills=True,\n",
    "        ),\n",
    "    ],\n",
    "    #style=SIDEBAR_STYLE,\n",
    ")\n"
   ]
  },
  {
   "cell_type": "markdown",
   "metadata": {},
   "source": [
    "## Customize the Layout"
   ]
  },
  {
   "cell_type": "code",
   "execution_count": null,
   "metadata": {},
   "outputs": [],
   "source": [
    "#| export\n",
    "app.layout = dbc.Container([\n",
    "                dbc.Row([\n",
    "                    navbar\n",
    "                ]),\n",
    "                dbc.Row(\n",
    "                    [dbc.Col(sidebar, width = 2),\n",
    "                    dbc.Col([mytitle,\n",
    "                            map_graph,\n",
    "                            selectedBarGraph,\n",
    "                            #dbc.Row([cards])\n",
    "                            ], width = 10)\n",
    "                     ], justify = 'center'),                    \n",
    "                ], fluid = True)"
   ]
  },
  {
   "cell_type": "markdown",
   "metadata": {},
   "source": [
    "# Build callbacks to create interaction"
   ]
  },
  {
   "cell_type": "markdown",
   "metadata": {},
   "source": [
    "## Update location dropdown value based on map click\n",
    "This callback also will trigger an update to the selected card data"
   ]
  },
  {
   "cell_type": "code",
   "execution_count": null,
   "metadata": {},
   "outputs": [],
   "source": [
    "#| export\n",
    "@app.callback(\n",
    "    Output('locDropdown', 'value'),\n",
    "    Output(map_graph, \"clickData\"),\n",
    "    Output(map_graph, \"selectedData\"),\n",
    "    Input(map_graph, 'clickData'),\n",
    "    Input(map_graph, 'selectedData'),\n",
    "    State('locDropdown', 'value'),\n",
    "    prevent_initial_call=True,\n",
    "    allow_duplicate=True,\n",
    ")\n",
    "def map_click(clickData:dict, # The currently clicked location on the map\n",
    "              selectedData:dict, # The currently selected locations on the map\n",
    "                prev_locs:[str], # The previously selected locations\n",
    "                )->[str]: # Returns the new value for the dropdown\n",
    "    # TODO workout how to make multi point selection work - hard todo - might need to find open source web example\n",
    "    # TODO need to handle lasso selection?\n",
    "    print(\"map clicked updating to:\")\n",
    "    if clickData is None and selectedData is None:\n",
    "        # TODO when none, maybe in future return current saved state, for now doing total\n",
    "        # TODO add a heading and maybe put in an acordian\n",
    "        print(\"Click data was none\")\n",
    "        return None\n",
    "    else:\n",
    "        # The locations are list of dictionaries\n",
    "        if selectedData is not None:\n",
    "            print(selectedData)\n",
    "            selections = list(map(lambda x: x['location'], selectedData['points']))\n",
    "            print(selections)\n",
    "\n",
    "        elif clickData is not None:\n",
    "            selections = list(map(lambda x: x['location'], clickData['points']))\n",
    "            print(selections)\n",
    "        locations = []\n",
    "        if prev_locs: locations = prev_locs\n",
    "        print(locations)\n",
    "        # Check whether the new location is already in the prev locations\n",
    "        for selection in selections:\n",
    "            if selection in locations: locations.remove(selection)\n",
    "            else: locations.append(selection)\n",
    "        print(\"Returning Location \" + ', '.join(locations) )\n",
    "    \n",
    "        # returned objects are assigned to the component property of the Output\n",
    "        # After updating fileter, we always reset map selection \n",
    "        return locations, None, None\n",
    "        \n"
   ]
  },
  {
   "cell_type": "markdown",
   "metadata": {},
   "source": [
    "## Update map selections"
   ]
  },
  {
   "cell_type": "code",
   "execution_count": null,
   "metadata": {},
   "outputs": [],
   "source": [
    "#| export\n",
    "@app.callback(\n",
    "    Output(map_graph, \"figure\", allow_duplicate=True),\n",
    "    # TODO - make this a Row object with children, then use function to recontruct\n",
    "    # a group of them\n",
    "    Input('locDropdown', 'value'),\n",
    "    State(dropdown_geo, 'value'),\n",
    "    prevent_initial_call=True,\n",
    "    allow_duplicate=True,\n",
    ")\n",
    "def map_selections(locations:[str], # The previously selected locations\n",
    "                geo_input:str, # The currently selected geography\n",
    "                )->[str]: # Returns the new value for the dropdown\n",
    "    # TODO need to handle lasso selection?\n",
    "\n",
    "    # Update the selected data on the map for the selected locations\n",
    "    # Selections is an array of integers indicating the index of the selected points\n",
    "    patched_figure = Patch()\n",
    "    ct = np.where(sol_geo.geo_levels == geo_input)[0][0] # Tracks the trace number\n",
    "    pot_locs = map_graph.figure['data'][ct]['locations']\n",
    "    print(locations)\n",
    "    if locations: \n",
    "        selections = np.nonzero(np.in1d(pot_locs, locations))[0]\n",
    "    else: \n",
    "        selections = None \n",
    "\n",
    "    print(selections)\n",
    "    patched_figure['data'][ct]['selectedpoints'] = selections\n",
    "    \n",
    "    # returned objects are assigned to the component property of the Output\n",
    "    # After updating fileter, we always reset map selection \n",
    "    return patched_figure\n",
    "        \n"
   ]
  },
  {
   "cell_type": "markdown",
   "metadata": {},
   "source": [
    "#| export\n",
    "@app.callback(\n",
    "    Output(cards, 'children'),\n",
    "    # TODO - make this a Row object with children, then use function to recontruct\n",
    "    # a group of them\n",
    "    Input('locDropdown', 'value'),\n",
    "    Input(control_type, 'value'),\n",
    "    prevent_initial_call=True,\n",
    "    allow_duplicate=True,\n",
    ")\n",
    "def update_kpis(locations:str, # The currently selected location. Including defualt of none\n",
    "                data_type:str, # The currently selected data type (Total or Proportion)\n",
    "                #dd_updated:[str], # The currently selected data type (Total or Proportion)\n",
    "                )->type(dbc.Card):\n",
    "    # TODO might be worth exploring if patching will help\n",
    "    '''\n",
    "    Based on updates to either te dropdown location (which is triggered by map clicks) or \n",
    "    changes to the type of data dispalyed, update the cards\n",
    "    '''\n",
    "    print(\"triggered update cards\")\n",
    "    #if the dropdown_locations options was just updated, then we overwrite\n",
    "    # TODO workout how to make multi point selection work - hard todo - might need to find open source web example\n",
    "    # filter dataframe by store location, then sum all orders of that store.\n",
    "    header_text = \"Total\"\n",
    "    if locations is not None:\n",
    "        header_text = locations\n",
    "        locations = [locations]\n",
    "    new_cards = card_list(sol_geo, \n",
    "                            \"Current Selection: \"  + header_text,\n",
    "                            loc = locations, \n",
    "                            type_filter = data_type)\n",
    "\n",
    "    return new_cards"
   ]
  },
  {
   "cell_type": "code",
   "execution_count": null,
   "metadata": {},
   "outputs": [
    {
     "name": "stdout",
     "output_type": "stream",
     "text": [
      "['choisel']\n"
     ]
    }
   ],
   "source": [
    "test = 'choisel'\n",
    "t2 = [test]\n",
    "print(t2)"
   ]
  },
  {
   "cell_type": "markdown",
   "metadata": {},
   "source": [
    "## Update the location options based on geography selected"
   ]
  },
  {
   "cell_type": "code",
   "execution_count": null,
   "metadata": {},
   "outputs": [],
   "source": [
    "#| export\n",
    "@app.callback(\n",
    "    Output(dropdown_location, 'children'),\n",
    "    Input(dropdown_geo, 'value'),\n",
    "    allow_duplicate=True,\n",
    "    prevent_initial_call=True\n",
    ")\n",
    "def update_geography(geo_input:str, # User input from the geography dropdown\n",
    "              )->[str]: # Returns a new list of locations to display\n",
    "    '''\n",
    "    Updates the dropdown_location dropdown based on the currently selected data aggregation.\n",
    "    '''\n",
    "    return gen_dd(sol_geo.locations[geo_input], 'locDropdown', \"Select a location\", clear = True, multi = True)"
   ]
  },
  {
   "cell_type": "code",
   "execution_count": null,
   "metadata": {},
   "outputs": [
    {
     "data": {
      "text/markdown": [
       "---\n",
       "\n",
       "[source](https://github.com/Gippers/SolomonIslandsDataMap/blob/main/SolomonIslandsDataMap/app.py#L282){target=\"_blank\" style=\"float:right; font-size:smaller\"}\n",
       "\n",
       "### update_geography\n",
       "\n",
       ">      update_geography (geo_input:str)\n",
       "\n",
       "Updates the dropdown_location dropdown based on the currently selected data aggregation.\n",
       "\n",
       "|    | **Type** | **Details** |\n",
       "| -- | -------- | ----------- |\n",
       "| geo_input | str | User input from the geography dropdown |\n",
       "| **Returns** | **[<class 'str'>]** | **Returns a new list of locations to display** |"
      ],
      "text/plain": [
       "---\n",
       "\n",
       "[source](https://github.com/Gippers/SolomonIslandsDataMap/blob/main/SolomonIslandsDataMap/app.py#L282){target=\"_blank\" style=\"float:right; font-size:smaller\"}\n",
       "\n",
       "### update_geography\n",
       "\n",
       ">      update_geography (geo_input:str)\n",
       "\n",
       "Updates the dropdown_location dropdown based on the currently selected data aggregation.\n",
       "\n",
       "|    | **Type** | **Details** |\n",
       "| -- | -------- | ----------- |\n",
       "| geo_input | str | User input from the geography dropdown |\n",
       "| **Returns** | **[<class 'str'>]** | **Returns a new list of locations to display** |"
      ]
     },
     "execution_count": null,
     "metadata": {},
     "output_type": "execute_result"
    }
   ],
   "source": [
    "show_doc(update_geography)"
   ]
  },
  {
   "cell_type": "markdown",
   "metadata": {},
   "source": [
    "## Update the variable dropdowns based on the selection of the overall variable"
   ]
  },
  {
   "cell_type": "code",
   "execution_count": null,
   "metadata": {},
   "outputs": [],
   "source": [
    "#| export\n",
    "@app.callback(\n",
    "    Output(dd_measure, 'children'),\n",
    "    Input('varDropdown', 'value'),\n",
    "    allow_duplicate=True,\n",
    "    prevent_initial_call=True\n",
    ")\n",
    "def update_measure(new_var:str, # Selected variable\n",
    "              )->dcc.Dropdown: # Returns a dropdown of measures for selected variable\n",
    "    '''\n",
    "    Updates the dropdown_location dropdown based on the currently selected data aggregation.\n",
    "    '''\n",
    "    # When a variable is selected, the measure will be set as the first one\n",
    "    return gen_dd(sol_geo.census_vars[new_var], 'measureDropdown', \n",
    "                  val = sol_geo.census_vars[new_var][0])"
   ]
  },
  {
   "cell_type": "markdown",
   "metadata": {},
   "source": [
    "### Update map based on inputs"
   ]
  },
  {
   "cell_type": "code",
   "execution_count": null,
   "metadata": {},
   "outputs": [],
   "source": [
    "#| export\n",
    "@app.callback(\n",
    "    Output(map_graph, 'figure', allow_duplicate=True),\n",
    "    Output(mytitle, 'children'),\n",
    "    Input(dropdown_geo, 'value'),\n",
    "    Input(control_type, 'value'),\n",
    "    Input('measureDropdown', 'value'),\n",
    "    Input('varDropdown', 'value'),\n",
    "    allow_duplicate=True,\n",
    "    prevent_initial_call=True\n",
    ")\n",
    "def update_map(geo_input:str, # User input from the geography dropdown\n",
    "                     data_type:str, # User input of type of data\n",
    "                     measure:str, # A string contiaining the census variable and measure split by ':'\n",
    "                     variable:str, # The state of the variable dropdown\n",
    "              )->(type(go.Figure()), str): # Returns a graph object figure after being updated and the dynamic title\n",
    "    '''\n",
    "    Updates the focus census variable or geography dispalayed on the map\n",
    "    '''\n",
    "    # TODO can i roll the geo and measure into one trigger of the callback?\n",
    "    patched_figure = Patch()\n",
    "    button_clicked = ctx.triggered_id\n",
    "\n",
    "\n",
    "    if button_clicked == dropdown_geo.id or button_clicked == dropdown_location.id:\n",
    "        # Update disaplayed geography \n",
    "        for geo in sol_geo.geo_levels:\n",
    "            tn = np.where(sol_geo.geo_levels == geo)[0][0] # Tracks the trace number\n",
    "            patched_figure['data'][tn]['visible'] = geo_input == geo\n",
    "        \n",
    "    elif button_clicked == control_type.id:\n",
    "        # Update the type of data displayed on map\n",
    "        # TODO currently displayed data will need to be tracked. Can't be tracked in object, use hidden \n",
    "        # TODO will need to track this update also in var dropdown clicked\n",
    "        # TODO this also needs to trigger cards\n",
    "        for geo in sol_geo.geo_levels:\n",
    "            tn = np.where(sol_geo.geo_levels == geo)[0][0] # Tracks the trace number\n",
    "            ar = sol_geo.get_df(geo_filter = geo, type_filter=data_type, var = variable, measure = measure).values\n",
    "            ar = ar.reshape((ar.shape[0],))\n",
    "            patched_figure['data'][tn]['z'] = ar\n",
    "        \n",
    "\n",
    "    elif button_clicked == 'measureDropdown':\n",
    "        # Update the z values in map to the data for the requested census variable\n",
    "        for geo in sol_geo.geo_levels:\n",
    "        # Ar updates the z value ie. data disaplyed each time\n",
    "        # TODO this is fairly inefficient, as we are processing each time\n",
    "        # Maybe faster framework like polars could help? or caching but would require a lot of caching\n",
    "            tn = np.where(sol_geo.geo_levels == geo)[0][0] # Tracks the trace number\n",
    "            ar = sol_geo.get_df(geo_filter = geo, type_filter=data_type, var = variable, measure=measure).values\n",
    "            ar = ar.reshape((ar.shape[0],))\n",
    "            patched_figure['data'][tn]['z'] = ar\n",
    "        \n",
    "    # returned objects are assigned to the component property of the Output\n",
    "    # After updating fileter, we always reset map selection \n",
    "\n",
    "    return patched_figure, '## Solomon Islands Data map - ' + geo_input"
   ]
  },
  {
   "cell_type": "markdown",
   "metadata": {},
   "source": [
    "### Update the selected part of the map based on the dropdown"
   ]
  },
  {
   "cell_type": "markdown",
   "metadata": {},
   "source": [
    "### Update Selected Bar Graph based on inputs"
   ]
  },
  {
   "cell_type": "code",
   "execution_count": null,
   "metadata": {},
   "outputs": [],
   "source": [
    "#| export\n",
    "# Callback allows components to interact\n",
    "@app.callback(\n",
    "    Output(selectedBarGraph, 'figure'),\n",
    "    Input(dropdown_geo, 'value'),\n",
    "    Input(control_type, 'value'),\n",
    "    Input('measureDropdown', 'value'),\n",
    "    Input('locDropdown', 'value'),\n",
    "    State('varDropdown', 'value'),\n",
    "    allow_duplicate=True,\n",
    "    prevent_initial_call=True\n",
    ")\n",
    "def update_bargraph(geo_input:str, # User input from the geography dropdown\n",
    "                     data_type:str, # User input of type of data\n",
    "                     measure:str, # A string contiaining the census variable and measure split by ':'\n",
    "                     loc_selection:[str], # The selected locations, may be none\n",
    "                     variable:str, # The state of the variable dropdown\n",
    "              )->(type(go.Figure())): # Returns a graph object figure after being updated and the dynamic title\n",
    "    '''\n",
    "    Updates the focus census variable or geography dispalayed on the map\n",
    "    '''\n",
    "        \n",
    "    # Create newly selected barplot\n",
    "    print(\"input\")\n",
    "    print(loc_selection)\n",
    "    locs = None\n",
    "    # Multi dropdown can return None or a list of None.\n",
    "    if loc_selection: \n",
    "        locs = loc_selection\n",
    "    print(\"Going in to function\")\n",
    "    print(locs)\n",
    "    bg = gen_bar_plot(sol_geo, geo_input, variable, measure, locs, data_type)\n",
    "\n",
    "    # returned objects are assigned to the component property of the Output\n",
    "    # After updating fileter, we always reset map selection \n",
    "\n",
    "    return  bg"
   ]
  },
  {
   "cell_type": "markdown",
   "metadata": {},
   "source": [
    "On click, update the contents of the kpi's"
   ]
  },
  {
   "cell_type": "code",
   "execution_count": null,
   "metadata": {},
   "outputs": [
    {
     "data": {
      "text/markdown": [
       "---\n",
       "\n",
       "[source](https://github.com/Gippers/SolomonIslandsDataMap/blob/main/SolomonIslandsDataMap/app.py#L282){target=\"_blank\" style=\"float:right; font-size:smaller\"}\n",
       "\n",
       "### update_geography\n",
       "\n",
       ">      update_geography (geo_input:str)\n",
       "\n",
       "Updates the dropdown_location dropdown based on the currently selected data aggregation.\n",
       "\n",
       "|    | **Type** | **Details** |\n",
       "| -- | -------- | ----------- |\n",
       "| geo_input | str | User input from the geography dropdown |\n",
       "| **Returns** | **[<class 'str'>]** | **Returns a new list of locations to display** |"
      ],
      "text/plain": [
       "---\n",
       "\n",
       "[source](https://github.com/Gippers/SolomonIslandsDataMap/blob/main/SolomonIslandsDataMap/app.py#L282){target=\"_blank\" style=\"float:right; font-size:smaller\"}\n",
       "\n",
       "### update_geography\n",
       "\n",
       ">      update_geography (geo_input:str)\n",
       "\n",
       "Updates the dropdown_location dropdown based on the currently selected data aggregation.\n",
       "\n",
       "|    | **Type** | **Details** |\n",
       "| -- | -------- | ----------- |\n",
       "| geo_input | str | User input from the geography dropdown |\n",
       "| **Returns** | **[<class 'str'>]** | **Returns a new list of locations to display** |"
      ]
     },
     "execution_count": null,
     "metadata": {},
     "output_type": "execute_result"
    }
   ],
   "source": [
    "#| hide\n",
    "show_doc(update_geography)"
   ]
  },
  {
   "cell_type": "code",
   "execution_count": null,
   "metadata": {},
   "outputs": [],
   "source": [
    "# TODO Do the title in one callback that listens for changes to either of them"
   ]
  },
  {
   "cell_type": "code",
   "execution_count": null,
   "metadata": {},
   "outputs": [
    {
     "data": {
      "text/plain": [
       "(10,)"
      ]
     },
     "execution_count": null,
     "metadata": {},
     "output_type": "execute_result"
    }
   ],
   "source": [
    "ar = sol_geo.get_df(geo_filter = 'Province', var = 'Key Statistics', measure = 'Total Households').values\n",
    "ar = ar.reshape((ar.shape[0],))\n",
    "ar.shape"
   ]
  },
  {
   "cell_type": "code",
   "execution_count": null,
   "metadata": {},
   "outputs": [
    {
     "name": "stdout",
     "output_type": "stream",
     "text": [
      "False\n",
      "True\n",
      "False\n"
     ]
    }
   ],
   "source": [
    "#patched_figure = Patch()\n",
    "user_input = 'Constituency'\n",
    "for geo in sol_geo.geo_levels:\n",
    "    i = np.where(sol_geo.geo_levels == geo)[0][0] # Tracks the trace number\n",
    "    fig['data'][i]['visible'] = user_input == geo\n",
    "    print(user_input == geo)"
   ]
  },
  {
   "cell_type": "code",
   "execution_count": null,
   "metadata": {},
   "outputs": [],
   "source": [
    "# TODO undo hardcoding\n",
    "test_eq(fig['data'][0]['visible'], False)\n",
    "test_eq(fig['data'][1]['visible'], True)\n",
    "test_eq(fig['data'][2]['visible'], False)"
   ]
  },
  {
   "cell_type": "markdown",
   "metadata": {},
   "source": [
    "### Update the colour columns based on data selection"
   ]
  },
  {
   "cell_type": "code",
   "execution_count": null,
   "metadata": {},
   "outputs": [
    {
     "name": "stdout",
     "output_type": "stream",
     "text": [
      "None\n"
     ]
    }
   ],
   "source": [
    "# TODO the above demonstrates that we can stack mutliple graphs and toggle the visibility and potentially z value in order to \n",
    "# quickly update our graph\n",
    "print(map_graph.figure['data'][0]['selectedpoints'])"
   ]
  },
  {
   "cell_type": "markdown",
   "metadata": {},
   "source": [
    "## Run the dash app"
   ]
  },
  {
   "cell_type": "code",
   "execution_count": null,
   "metadata": {},
   "outputs": [
    {
     "data": {
      "text/html": [
       "\n",
       "        <iframe\n",
       "            width=\"100%\"\n",
       "            height=\"650\"\n",
       "            src=\"http://127.0.0.1:9999/\"\n",
       "            frameborder=\"0\"\n",
       "            allowfullscreen\n",
       "            \n",
       "        ></iframe>\n",
       "        "
      ],
      "text/plain": [
       "<IPython.lib.display.IFrame>"
      ]
     },
     "metadata": {},
     "output_type": "display_data"
    }
   ],
   "source": [
    "#| export\n",
    "#| server\n",
    "# Run app\n",
    "if __name__=='__main__':\n",
    "    try:\n",
    "        app.run_server(debug=True, port=9999) # Random int mitigates port collision\n",
    "    except:\n",
    "        print(\"Cannot run server here\")"
   ]
  },
  {
   "cell_type": "code",
   "execution_count": null,
   "metadata": {},
   "outputs": [
    {
     "name": "stdout",
     "output_type": "stream",
     "text": [
      "map clicked updating to:\n",
      "{'points': [{'curveNumber': 0, 'pointNumber': 1, 'pointIndex': 1, 'location': 'Honiara', 'z': 8981}, {'curveNumber': 0, 'pointNumber': 4, 'pointIndex': 4, 'location': 'Central', 'z': 4905}, {'curveNumber': 0, 'pointNumber': 6, 'pointIndex': 6, 'location': 'Guadalcanal', 'z': 17163}, {'curveNumber': 0, 'pointNumber': 7, 'pointIndex': 7, 'location': 'Malaita', 'z': 24421}, {'curveNumber': 0, 'pointNumber': 8, 'pointIndex': 8, 'location': 'Makira-Ulawa', 'z': 7173}], 'range': {'mapbox': [[159.52734544401392, -8.54811053200146], [163.61425950651414, -11.253520699812626]]}}\n",
      "['Honiara', 'Central', 'Guadalcanal', 'Malaita', 'Makira-Ulawa']\n",
      "[]\n",
      "Returning Location Honiara, Central, Guadalcanal, Malaita, Makira-Ulawa\n",
      "['Honiara', 'Central', 'Guadalcanal', 'Malaita', 'Makira-Ulawa']\n",
      "[1 4 6 7 8]\n",
      "input\n",
      "['Honiara', 'Central', 'Guadalcanal', 'Malaita', 'Makira-Ulawa']\n",
      "Going in to function\n",
      "['Honiara', 'Central', 'Guadalcanal', 'Malaita', 'Makira-Ulawa']\n",
      "map clicked updating to:\n",
      "['Makira-Ulawa']\n",
      "['Honiara', 'Central', 'Guadalcanal', 'Malaita', 'Makira-Ulawa']\n",
      "Returning Location Honiara, Central, Guadalcanal, Malaita\n",
      "['Honiara', 'Central', 'Guadalcanal', 'Malaita']\n",
      "[1 4 6 7]\n",
      "input\n",
      "['Honiara', 'Central', 'Guadalcanal', 'Malaita']\n",
      "Going in to function\n",
      "['Honiara', 'Central', 'Guadalcanal', 'Malaita']\n",
      "map clicked updating to:\n",
      "['Malaita']\n",
      "['Honiara', 'Central', 'Guadalcanal', 'Malaita']\n",
      "Returning Location Honiara, Central, Guadalcanal\n",
      "['Honiara', 'Central', 'Guadalcanal']\n",
      "[1 4 6]\n",
      "input\n",
      "['Honiara', 'Central', 'Guadalcanal']\n",
      "Going in to function\n",
      "['Honiara', 'Central', 'Guadalcanal']\n",
      "map clicked updating to:\n",
      "{'points': [{'curveNumber': 0, 'pointNumber': 1, 'pointIndex': 1, 'location': 'Honiara', 'z': 8981}, {'curveNumber': 0, 'pointNumber': 3, 'pointIndex': 3, 'location': 'Isabel', 'z': 5143}, {'curveNumber': 0, 'pointNumber': 4, 'pointIndex': 4, 'location': 'Central', 'z': 4905}, {'curveNumber': 0, 'pointNumber': 5, 'pointIndex': 5, 'location': 'Rennell-Bell', 'z': 688}, {'curveNumber': 0, 'pointNumber': 6, 'pointIndex': 6, 'location': 'Guadalcanal', 'z': 17163}, {'curveNumber': 0, 'pointNumber': 7, 'pointIndex': 7, 'location': 'Malaita', 'z': 24421}, {'curveNumber': 0, 'pointNumber': 8, 'pointIndex': 8, 'location': 'Makira-Ulawa', 'z': 7173}], 'range': {'mapbox': [[158.12109544401483, -7.656233284043239], [163.32861497526454, -11.684198130622704]]}}\n",
      "['Honiara', 'Isabel', 'Central', 'Rennell-Bell', 'Guadalcanal', 'Malaita', 'Makira-Ulawa']\n",
      "['Honiara', 'Central', 'Guadalcanal']\n",
      "Returning Location Isabel, Rennell-Bell, Malaita, Makira-Ulawa\n",
      "['Isabel', 'Rennell-Bell', 'Malaita', 'Makira-Ulawa']\n",
      "[3 5 7 8]\n",
      "input\n",
      "['Isabel', 'Rennell-Bell', 'Malaita', 'Makira-Ulawa']\n",
      "Going in to function\n",
      "['Isabel', 'Rennell-Bell', 'Malaita', 'Makira-Ulawa']\n",
      "input\n",
      "['Isabel', 'Rennell-Bell', 'Malaita', 'Makira-Ulawa']\n",
      "Going in to function\n",
      "['Isabel', 'Rennell-Bell', 'Malaita', 'Makira-Ulawa']\n",
      "None\n",
      "None\n",
      "input\n",
      "None\n",
      "Going in to function\n",
      "None\n",
      "\u001b[1;31m---------------------------------------------------------------------------\u001b[0m\n",
      "\u001b[1;31mIndexError\u001b[0m                                Traceback (most recent call last)\n",
      "File \u001b[1;32m~/git/SolomonIslandsDataMap/SolomonIslandsDataMap/dash_components.py:98\u001b[0m, in \u001b[0;36mgen_bar_plot\u001b[1;34m(\n",
      "    sol_geo=<SolomonIslandsDataMap.load_data.SolomonGeo object>,\n",
      "    geo_filter='Constituency',\n",
      "    variable='Key Statistics',\n",
      "    measure='Total Households',\n",
      "    locations=['Isabel', 'Rennell-Bell', 'Malaita', 'Makira-Ulawa'],\n",
      "    type_filter='Total'\n",
      ")\u001b[0m\n",
      "\u001b[0;32m     94\u001b[0m measures \u001b[38;5;241m=\u001b[39m \u001b[38;5;28mlist\u001b[39m(df\u001b[38;5;241m.\u001b[39mcolumns)\n",
      "\u001b[0;32m     95\u001b[0m \u001b[38;5;28;01mfor\u001b[39;00m loc \u001b[38;5;129;01min\u001b[39;00m locations:\n",
      "\u001b[0;32m     96\u001b[0m     fig\u001b[38;5;241m.\u001b[39madd_trace(go\u001b[38;5;241m.\u001b[39mBar(\n",
      "\u001b[0;32m     97\u001b[0m         x \u001b[38;5;241m=\u001b[39m measures,\n",
      "\u001b[1;32m---> 98\u001b[0m         y \u001b[38;5;241m=\u001b[39m \u001b[43mdf\u001b[49m\u001b[38;5;241;43m.\u001b[39;49m\u001b[43mloc\u001b[49m\u001b[43m[\u001b[49m\u001b[43mdf\u001b[49m\u001b[38;5;241;43m.\u001b[39;49m\u001b[43mindex\u001b[49m\u001b[43m \u001b[49m\u001b[38;5;241;43m==\u001b[39;49m\u001b[43m \u001b[49m\u001b[43mloc\u001b[49m\u001b[43m]\u001b[49m\u001b[38;5;241;43m.\u001b[39;49m\u001b[43mvalues\u001b[49m\u001b[43m[\u001b[49m\u001b[38;5;241;43m0\u001b[39;49m\u001b[43m]\u001b[49m,\n",
      "        fig \u001b[1;34m= Figure({\n",
      "    'data': [], 'layout': {'template': '...'}\n",
      "})\u001b[0m\u001b[1;34m\n",
      "        \u001b[0mgo \u001b[1;34m= <module 'plotly.graph_objects' from '/home/tom/mambaforge/lib/python3.10/site-packages/plotly/graph_objects/__init__.py'>\u001b[0m\u001b[1;34m\n",
      "        \u001b[0mmeasures \u001b[1;34m= ['Total Households']\u001b[0m\u001b[1;34m\n",
      "        \u001b[0mloc \u001b[1;34m= 'Isabel'\u001b[0m\u001b[1;34m\n",
      "        \u001b[0mdf \u001b[1;34m= Empty DataFrame\n",
      "Columns: [Total Households]\n",
      "Index: []\u001b[0m\n",
      "\u001b[0;32m     99\u001b[0m         name \u001b[38;5;241m=\u001b[39m loc,\n",
      "\u001b[0;32m    100\u001b[0m     ))\n",
      "\u001b[0;32m    101\u001b[0m \u001b[38;5;66;03m# TODO create dynamic text with Location name and Variable\u001b[39;00m\n",
      "\u001b[0;32m    102\u001b[0m \u001b[38;5;66;03m# TODO add standout text\u001b[39;00m\n",
      "\u001b[0;32m    103\u001b[0m \u001b[38;5;66;03m# TODO should this be ordered? Hinders comparison. Can I order the dataset somewhere else?\u001b[39;00m\n",
      "\u001b[0;32m    104\u001b[0m fig\u001b[38;5;241m.\u001b[39mupdate_layout(barmode\u001b[38;5;241m=\u001b[39m\u001b[38;5;124m'\u001b[39m\u001b[38;5;124mgroup\u001b[39m\u001b[38;5;124m'\u001b[39m, xaxis_tickangle\u001b[38;5;241m=\u001b[39m\u001b[38;5;241m-\u001b[39m\u001b[38;5;241m45\u001b[39m, title_text\u001b[38;5;241m=\u001b[39mfigtext\n",
      "\u001b[0;32m    105\u001b[0m                   , xaxis\u001b[38;5;241m=\u001b[39m{\u001b[38;5;124m'\u001b[39m\u001b[38;5;124mcategoryorder\u001b[39m\u001b[38;5;124m'\u001b[39m:\u001b[38;5;124m'\u001b[39m\u001b[38;5;124mtotal descending\u001b[39m\u001b[38;5;124m'\u001b[39m})\n",
      "\n",
      "\u001b[1;31mIndexError\u001b[0m: index 0 is out of bounds for axis 0 with size 0\n",
      "\n",
      "map clicked updating to:\n",
      "{'points': [{'curveNumber': 1, 'pointNumber': 0, 'pointIndex': 0, 'location': 'West Guadalcanal', 'z': 1671}, {'curveNumber': 1, 'pointNumber': 2, 'pointIndex': 2, 'location': 'South Guadalcanal', 'z': 1481}, {'curveNumber': 1, 'pointNumber': 3, 'pointIndex': 3, 'location': 'East Guadalcanal', 'z': 2074}, {'curveNumber': 1, 'pointNumber': 5, 'pointIndex': 5, 'location': 'East-Central', 'z': 1964}, {'curveNumber': 1, 'pointNumber': 6, 'pointIndex': 6, 'location': 'Marigne-Kokota', 'z': 1917}, {'curveNumber': 1, 'pointNumber': 9, 'pointIndex': 9, 'location': 'North West Guadalcanl', 'z': 3507}, {'curveNumber': 1, 'pointNumber': 11, 'pointIndex': 11, 'location': 'West Areare', 'z': 1186}, {'curveNumber': 1, 'pointNumber': 12, 'pointIndex': 12, 'location': 'Small Malaita', 'z': 2367}, {'curveNumber': 1, 'pointNumber': 15, 'pointIndex': 15, 'location': 'Auki-Langalanga', 'z': 1214}, {'curveNumber': 1, 'pointNumber': 18, 'pointIndex': 18, 'location': 'West Kwaio', 'z': 1725}, {'curveNumber': 1, 'pointNumber': 19, 'pointIndex': 19, 'location': \"West Kwara'ae\", 'z': 2583}, {'curveNumber': 1, 'pointNumber': 20, 'pointIndex': 20, 'location': \"Central Kwara'ae\", 'z': 3160}, {'curveNumber': 1, 'pointNumber': 27, 'pointIndex': 27, 'location': 'East Honiara', 'z': 3556}, {'curveNumber': 1, 'pointNumber': 29, 'pointIndex': 29, 'location': 'Central Honiara', 'z': 3148}, {'curveNumber': 1, 'pointNumber': 30, 'pointIndex': 30, 'location': 'West Honiara', 'z': 2277}, {'curveNumber': 1, 'pointNumber': 34, 'pointIndex': 34, 'location': 'Nggela', 'z': 3315}, {'curveNumber': 1, 'pointNumber': 37, 'pointIndex': 37, 'location': 'Central Guadalcanal', 'z': 2660}, {'curveNumber': 1, 'pointNumber': 38, 'pointIndex': 38, 'location': 'Savo-Russull Islands', 'z': 1590}, {'curveNumber': 1, 'pointNumber': 40, 'pointIndex': 40, 'location': 'West Makira', 'z': 2158}, {'curveNumber': 1, 'pointNumber': 42, 'pointIndex': 42, 'location': 'Central Makira', 'z': 1698}, {'curveNumber': 1, 'pointNumber': 44, 'pointIndex': 44, 'location': 'East Makira', 'z': 2416}, {'curveNumber': 1, 'pointNumber': 47, 'pointIndex': 47, 'location': 'Gao-Bugotu', 'z': 1322}, {'curveNumber': 1, 'pointNumber': 48, 'pointIndex': 48, 'location': 'North-East', 'z': 2023}, {'curveNumber': 1, 'pointNumber': 49, 'pointIndex': 49, 'location': 'North Guadalcanal', 'z': 1783}], 'lassoPoints': {'mapbox': [[164.22949388151562, -12.350418755893841], [164.03173997526585, -12.071236965632721], [162.53759935026534, -10.671087215433602], [161.72461106901562, -9.827836359950624], [160.75781419401528, -8.656737840181492], [160.428224350265, -8.048032000991427], [160.38427903776596, -7.895709817692293], [159.92285325651522, -7.416622122509878], [159.72509935026545, -7.416622122509878], [159.0000016940155, -7.960997694351136], [158.56054856901522, -8.787049199571186], [158.0332048190151, -9.481253659052328], [157.7915056002646, -9.914425828358233], [157.6816423190145, -10.238931116016957], [157.6816423190145, -10.779031332641821]]}}\n",
      "['West Guadalcanal', 'South Guadalcanal', 'East Guadalcanal', 'East-Central', 'Marigne-Kokota', 'North West Guadalcanl', 'West Areare', 'Small Malaita', 'Auki-Langalanga', 'West Kwaio', \"West Kwara'ae\", \"Central Kwara'ae\", 'East Honiara', 'Central Honiara', 'West Honiara', 'Nggela', 'Central Guadalcanal', 'Savo-Russull Islands', 'West Makira', 'Central Makira', 'East Makira', 'Gao-Bugotu', 'North-East', 'North Guadalcanal']\n",
      "[]\n",
      "Returning Location West Guadalcanal, South Guadalcanal, East Guadalcanal, East-Central, Marigne-Kokota, North West Guadalcanl, West Areare, Small Malaita, Auki-Langalanga, West Kwaio, West Kwara'ae, Central Kwara'ae, East Honiara, Central Honiara, West Honiara, Nggela, Central Guadalcanal, Savo-Russull Islands, West Makira, Central Makira, East Makira, Gao-Bugotu, North-East, North Guadalcanal\n",
      "['West Guadalcanal', 'South Guadalcanal', 'East Guadalcanal', 'East-Central', 'Marigne-Kokota', 'North West Guadalcanl', 'West Areare', 'Small Malaita', 'Auki-Langalanga', 'West Kwaio', \"West Kwara'ae\", \"Central Kwara'ae\", 'East Honiara', 'Central Honiara', 'West Honiara', 'Nggela', 'Central Guadalcanal', 'Savo-Russull Islands', 'West Makira', 'Central Makira', 'East Makira', 'Gao-Bugotu', 'North-East', 'North Guadalcanal']\n",
      "[ 0  2  3  5  6  9 11 12 15 18 19 20 27 29 30 34 37 38 40 42 44 47 48 49]\n",
      "input\n",
      "['West Guadalcanal', 'South Guadalcanal', 'East Guadalcanal', 'East-Central', 'Marigne-Kokota', 'North West Guadalcanl', 'West Areare', 'Small Malaita', 'Auki-Langalanga', 'West Kwaio', \"West Kwara'ae\", \"Central Kwara'ae\", 'East Honiara', 'Central Honiara', 'West Honiara', 'Nggela', 'Central Guadalcanal', 'Savo-Russull Islands', 'West Makira', 'Central Makira', 'East Makira', 'Gao-Bugotu', 'North-East', 'North Guadalcanal']\n",
      "Going in to function\n",
      "['West Guadalcanal', 'South Guadalcanal', 'East Guadalcanal', 'East-Central', 'Marigne-Kokota', 'North West Guadalcanl', 'West Areare', 'Small Malaita', 'Auki-Langalanga', 'West Kwaio', \"West Kwara'ae\", \"Central Kwara'ae\", 'East Honiara', 'Central Honiara', 'West Honiara', 'Nggela', 'Central Guadalcanal', 'Savo-Russull Islands', 'West Makira', 'Central Makira', 'East Makira', 'Gao-Bugotu', 'North-East', 'North Guadalcanal']\n",
      "map clicked updating to:\n",
      "['East Guadalcanal']\n",
      "['West Guadalcanal', 'South Guadalcanal', 'East Guadalcanal', 'East-Central', 'Marigne-Kokota', 'North West Guadalcanl', 'West Areare', 'Small Malaita', 'Auki-Langalanga', 'West Kwaio', \"West Kwara'ae\", \"Central Kwara'ae\", 'East Honiara', 'Central Honiara', 'West Honiara', 'Nggela', 'Central Guadalcanal', 'Savo-Russull Islands', 'West Makira', 'Central Makira', 'East Makira', 'Gao-Bugotu', 'North-East', 'North Guadalcanal']\n",
      "Returning Location West Guadalcanal, South Guadalcanal, East-Central, Marigne-Kokota, North West Guadalcanl, West Areare, Small Malaita, Auki-Langalanga, West Kwaio, West Kwara'ae, Central Kwara'ae, East Honiara, Central Honiara, West Honiara, Nggela, Central Guadalcanal, Savo-Russull Islands, West Makira, Central Makira, East Makira, Gao-Bugotu, North-East, North Guadalcanal\n",
      "['West Guadalcanal', 'South Guadalcanal', 'East-Central', 'Marigne-Kokota', 'North West Guadalcanl', 'West Areare', 'Small Malaita', 'Auki-Langalanga', 'West Kwaio', \"West Kwara'ae\", \"Central Kwara'ae\", 'East Honiara', 'Central Honiara', 'West Honiara', 'Nggela', 'Central Guadalcanal', 'Savo-Russull Islands', 'West Makira', 'Central Makira', 'East Makira', 'Gao-Bugotu', 'North-East', 'North Guadalcanal']\n",
      "[ 0  2  5  6  9 11 12 15 18 19 20 27 29 30 34 37 38 40 42 44 47 48 49]\n",
      "input\n",
      "['West Guadalcanal', 'South Guadalcanal', 'East-Central', 'Marigne-Kokota', 'North West Guadalcanl', 'West Areare', 'Small Malaita', 'Auki-Langalanga', 'West Kwaio', \"West Kwara'ae\", \"Central Kwara'ae\", 'East Honiara', 'Central Honiara', 'West Honiara', 'Nggela', 'Central Guadalcanal', 'Savo-Russull Islands', 'West Makira', 'Central Makira', 'East Makira', 'Gao-Bugotu', 'North-East', 'North Guadalcanal']\n",
      "Going in to function\n",
      "['West Guadalcanal', 'South Guadalcanal', 'East-Central', 'Marigne-Kokota', 'North West Guadalcanl', 'West Areare', 'Small Malaita', 'Auki-Langalanga', 'West Kwaio', \"West Kwara'ae\", \"Central Kwara'ae\", 'East Honiara', 'Central Honiara', 'West Honiara', 'Nggela', 'Central Guadalcanal', 'Savo-Russull Islands', 'West Makira', 'Central Makira', 'East Makira', 'Gao-Bugotu', 'North-East', 'North Guadalcanal']\n",
      "map clicked updating to:\n",
      "{'points': [{'curveNumber': 1, 'pointNumber': 0, 'pointIndex': 0, 'location': 'West Guadalcanal', 'z': 1671}, {'curveNumber': 1, 'pointNumber': 2, 'pointIndex': 2, 'location': 'South Guadalcanal', 'z': 1481}, {'curveNumber': 1, 'pointNumber': 3, 'pointIndex': 3, 'location': 'East Guadalcanal', 'z': 2074}, {'curveNumber': 1, 'pointNumber': 4, 'pointIndex': 4, 'location': 'Hograno-Kia-Havulei', 'z': 1904}, {'curveNumber': 1, 'pointNumber': 5, 'pointIndex': 5, 'location': 'East-Central', 'z': 1964}, {'curveNumber': 1, 'pointNumber': 6, 'pointIndex': 6, 'location': 'Marigne-Kokota', 'z': 1917}, {'curveNumber': 1, 'pointNumber': 8, 'pointIndex': 8, 'location': 'East AreAre', 'z': 1105}, {'curveNumber': 1, 'pointNumber': 9, 'pointIndex': 9, 'location': 'North West Guadalcanl', 'z': 3507}, {'curveNumber': 1, 'pointNumber': 11, 'pointIndex': 11, 'location': 'West Areare', 'z': 1186}, {'curveNumber': 1, 'pointNumber': 12, 'pointIndex': 12, 'location': 'Small Malaita', 'z': 2367}, {'curveNumber': 1, 'pointNumber': 14, 'pointIndex': 14, 'location': 'East Malaita', 'z': 1413}, {'curveNumber': 1, 'pointNumber': 15, 'pointIndex': 15, 'location': 'Auki-Langalanga', 'z': 1214}, {'curveNumber': 1, 'pointNumber': 16, 'pointIndex': 16, 'location': 'East Kwaio', 'z': 1717}, {'curveNumber': 1, 'pointNumber': 18, 'pointIndex': 18, 'location': 'West Kwaio', 'z': 1725}, {'curveNumber': 1, 'pointNumber': 19, 'pointIndex': 19, 'location': \"West Kwara'ae\", 'z': 2583}, {'curveNumber': 1, 'pointNumber': 20, 'pointIndex': 20, 'location': \"Central Kwara'ae\", 'z': 3160}, {'curveNumber': 1, 'pointNumber': 21, 'pointIndex': 21, 'location': 'Rennell-Bellona', 'z': 688}, {'curveNumber': 1, 'pointNumber': 26, 'pointIndex': 26, 'location': 'Fataleka', 'z': 1338}, {'curveNumber': 1, 'pointNumber': 27, 'pointIndex': 27, 'location': 'East Honiara', 'z': 3556}, {'curveNumber': 1, 'pointNumber': 29, 'pointIndex': 29, 'location': 'Central Honiara', 'z': 3148}, {'curveNumber': 1, 'pointNumber': 30, 'pointIndex': 30, 'location': 'West Honiara', 'z': 2277}, {'curveNumber': 1, 'pointNumber': 31, 'pointIndex': 31, 'location': 'North Malaita', 'z': 2544}, {'curveNumber': 1, 'pointNumber': 32, 'pointIndex': 32, 'location': 'Lau-Mbaelela', 'z': 2669}, {'curveNumber': 1, 'pointNumber': 33, 'pointIndex': 33, 'location': 'Baegu-Asifola', 'z': 996}, {'curveNumber': 1, 'pointNumber': 34, 'pointIndex': 34, 'location': 'Nggela', 'z': 3315}, {'curveNumber': 1, 'pointNumber': 35, 'pointIndex': 35, 'location': 'Ulawa-Ugi', 'z': 901}, {'curveNumber': 1, 'pointNumber': 37, 'pointIndex': 37, 'location': 'Central Guadalcanal', 'z': 2660}, {'curveNumber': 1, 'pointNumber': 38, 'pointIndex': 38, 'location': 'Savo-Russull Islands', 'z': 1590}, {'curveNumber': 1, 'pointNumber': 40, 'pointIndex': 40, 'location': 'West Makira', 'z': 2158}, {'curveNumber': 1, 'pointNumber': 42, 'pointIndex': 42, 'location': 'Central Makira', 'z': 1698}, {'curveNumber': 1, 'pointNumber': 44, 'pointIndex': 44, 'location': 'East Makira', 'z': 2416}, {'curveNumber': 1, 'pointNumber': 47, 'pointIndex': 47, 'location': 'Gao-Bugotu', 'z': 1322}, {'curveNumber': 1, 'pointNumber': 48, 'pointIndex': 48, 'location': 'North-East', 'z': 2023}, {'curveNumber': 1, 'pointNumber': 49, 'pointIndex': 49, 'location': 'North Guadalcanal', 'z': 1783}], 'range': {'mapbox': [[158.82422044401437, -7.4819837377526], [162.95507981901528, -11.85628324087429]]}}\n",
      "['West Guadalcanal', 'South Guadalcanal', 'East Guadalcanal', 'Hograno-Kia-Havulei', 'East-Central', 'Marigne-Kokota', 'East AreAre', 'North West Guadalcanl', 'West Areare', 'Small Malaita', 'East Malaita', 'Auki-Langalanga', 'East Kwaio', 'West Kwaio', \"West Kwara'ae\", \"Central Kwara'ae\", 'Rennell-Bellona', 'Fataleka', 'East Honiara', 'Central Honiara', 'West Honiara', 'North Malaita', 'Lau-Mbaelela', 'Baegu-Asifola', 'Nggela', 'Ulawa-Ugi', 'Central Guadalcanal', 'Savo-Russull Islands', 'West Makira', 'Central Makira', 'East Makira', 'Gao-Bugotu', 'North-East', 'North Guadalcanal']\n",
      "['West Guadalcanal', 'South Guadalcanal', 'East-Central', 'Marigne-Kokota', 'North West Guadalcanl', 'West Areare', 'Small Malaita', 'Auki-Langalanga', 'West Kwaio', \"West Kwara'ae\", \"Central Kwara'ae\", 'East Honiara', 'Central Honiara', 'West Honiara', 'Nggela', 'Central Guadalcanal', 'Savo-Russull Islands', 'West Makira', 'Central Makira', 'East Makira', 'Gao-Bugotu', 'North-East', 'North Guadalcanal']\n",
      "Returning Location East Guadalcanal, Hograno-Kia-Havulei, East AreAre, East Malaita, East Kwaio, Rennell-Bellona, Fataleka, North Malaita, Lau-Mbaelela, Baegu-Asifola, Ulawa-Ugi\n",
      "['East Guadalcanal', 'Hograno-Kia-Havulei', 'East AreAre', 'East Malaita', 'East Kwaio', 'Rennell-Bellona', 'Fataleka', 'North Malaita', 'Lau-Mbaelela', 'Baegu-Asifola', 'Ulawa-Ugi']\n",
      "[ 3  4  8 14 16 21 26 31 32 33 35]\n",
      "input\n",
      "['East Guadalcanal', 'Hograno-Kia-Havulei', 'East AreAre', 'East Malaita', 'East Kwaio', 'Rennell-Bellona', 'Fataleka', 'North Malaita', 'Lau-Mbaelela', 'Baegu-Asifola', 'Ulawa-Ugi']\n",
      "Going in to function\n",
      "['East Guadalcanal', 'Hograno-Kia-Havulei', 'East AreAre', 'East Malaita', 'East Kwaio', 'Rennell-Bellona', 'Fataleka', 'North Malaita', 'Lau-Mbaelela', 'Baegu-Asifola', 'Ulawa-Ugi']\n"
     ]
    }
   ],
   "source": [
    "#| hide\n",
    "import nbdev; nbdev.nbdev_export()"
   ]
  },
  {
   "cell_type": "code",
   "execution_count": null,
   "metadata": {},
   "outputs": [],
   "source": []
  }
 ],
 "metadata": {
  "kernelspec": {
   "display_name": "python3",
   "language": "python",
   "name": "python3"
  }
 },
 "nbformat": 4,
 "nbformat_minor": 4
}
