{
 "cells": [
  {
   "cell_type": "markdown",
   "metadata": {},
   "source": [
    "# Generate Map\n",
    "\n",
    "> Class that generates the data map"
   ]
  },
  {
   "cell_type": "code",
   "execution_count": null,
   "metadata": {},
   "outputs": [],
   "source": [
    "#| default_exp app"
   ]
  },
  {
   "cell_type": "code",
   "execution_count": null,
   "metadata": {},
   "outputs": [],
   "source": [
    "#| export\n",
    "from nbdev.showdoc import *\n",
    "# TODO work out how to get around below hack\n",
    "try:\n",
    "    from SolomonIslandsDataMap.load_data import *\n",
    "    from SolomonIslandsDataMap.dash_components import *\n",
    "except: \n",
    "    from load_data import *\n",
    "    from dash_components import *\n",
    "import plotly.express as px\n",
    "import plotly.graph_objects as go\n",
    "import plotly.io as pio # Unless this is used graphs will not be dynamic?\n",
    "import json\n",
    "from git import Repo\n",
    "import pandas as pd\n",
    "import numpy as np\n",
    "from fastcore.test import *\n",
    "from dash import Dash, dcc, Output, Input, State, html, Patch, ctx  # pip install dash\n",
    "import dash_bootstrap_components as dbc    # pip install dash-bootstrap-components\n",
    "from dash_bootstrap_templates import load_figure_template\n",
    "import random\n",
    "import dash_mantine_components as dmc"
   ]
  },
  {
   "cell_type": "markdown",
   "metadata": {},
   "source": [
    "## Load Data"
   ]
  },
  {
   "cell_type": "code",
   "execution_count": null,
   "metadata": {},
   "outputs": [
    {
     "name": "stdout",
     "output_type": "stream",
     "text": [
      "https://raw.githubusercontent.com/Gippers/SolomonIslandsDataMap/main/testData/sol_geo.pickle\n"
     ]
    }
   ],
   "source": [
    "#| export\n",
    "sol_geo = SolomonGeo.load_pickle(\"/testData/\", github = True)\n",
    "geo_df = sol_geo.geo_df\n",
    "fig = define_map(sol_geo)"
   ]
  },
  {
   "cell_type": "markdown",
   "metadata": {},
   "source": [
    "## Setup Dash Components"
   ]
  },
  {
   "cell_type": "markdown",
   "metadata": {},
   "source": [
    "Setup the app and global variables"
   ]
  },
  {
   "cell_type": "code",
   "execution_count": null,
   "metadata": {},
   "outputs": [],
   "source": [
    "#| export\n",
    "# Build your components\n",
    "# FYI the best themes seem to be: [Darkly, Flatly, Minty, Slate, JOURNAL]\n",
    "app = Dash(__name__, external_stylesheets=[dbc.themes.MINTY])\n",
    "server = app.server\n",
    "load_figure_template(\"minty\")\n",
    "\n",
    "geos = sol_geo.geo_levels\n",
    "cen_vars = sol_geo.census_vars\n",
    "NUM_GEOS = len(geos)\n"
   ]
  },
  {
   "cell_type": "markdown",
   "metadata": {},
   "source": [
    "Setup some of  the key data contiaining objects"
   ]
  },
  {
   "cell_type": "code",
   "execution_count": null,
   "metadata": {},
   "outputs": [],
   "source": [
    "#| export\n",
    "mytitle = dcc.Markdown(children=\"## \" + list(cen_vars.keys())[0] + \" by \" + geos[0]) # TODO This needs a default title\n",
    "map_graph = dcc.Graph(figure=define_map(sol_geo), selectedData=None,)\n",
    "# TODO entire accordian will need to be the child\n",
    "cards = dbc.Accordion(children= \n",
    "        card_list(sol_geo, \"Current Selection: Total\"),\n",
    "        always_open=True,\n",
    "        class_name = \"accordion-header\",\n",
    "    )\n",
    "selectedBarGraph = dcc.Graph(figure = gen_bar_plot(sol_geo, sol_geo.geo_levels[0], \n",
    "                                               \"Key Statistics\", 'Total Households'),\n",
    "                            id = 'bar_graph')\n",
    "# Selections tracks the currently selected map locations\n",
    "selection = dcc.Store(id = 'selection',data = {})"
   ]
  },
  {
   "cell_type": "code",
   "execution_count": null,
   "metadata": {},
   "outputs": [
    {
     "data": {
      "text/plain": [
       "Index(['Central', 'Choiseul', 'Guadalcanal', 'Honiara', 'Isabel',\n",
       "       'Makira-Ulawa', 'Malaita', 'Rennell-Bell', 'Temotu', 'Western'],\n",
       "      dtype='object', name='geo_name')"
      ]
     },
     "execution_count": null,
     "metadata": {},
     "output_type": "execute_result"
    }
   ],
   "source": [
    "sol_geo.locations[sol_geo.geo_levels[0]]"
   ]
  },
  {
   "cell_type": "markdown",
   "metadata": {},
   "source": [
    "Setup and create the dropdowns"
   ]
  },
  {
   "cell_type": "code",
   "execution_count": null,
   "metadata": {},
   "outputs": [],
   "source": [
    "#| export\n",
    "\n",
    "dropdown_location = html.Div(children = gen_dd(sol_geo.locations[sol_geo.geo_levels[0]], \n",
    "                                                'locDropdown', clear = True, place_holder='Select Dropdown Location',\n",
    "                                                multi = True))\n",
    "\n",
    "dropdown_geo = dmc.SegmentedControl(\n",
    "                            id=\"segmented_geo\",\n",
    "                            value=geos[0],\n",
    "                            data=geos,\n",
    "                             orientation=\"vertical\",\n",
    "                            color = 'gray',\n",
    "                            fullWidth = True,) # TODO consider redoing as theme is not consistent with this library\n",
    "control_type = dmc.SegmentedControl(\n",
    "                        id=\"segmented_type\",\n",
    "                        value=sol_geo.data_type[0],\n",
    "                        data=sol_geo.data_type,\n",
    "                        orientation=\"vertical\",\n",
    "                        color = 'gray',\n",
    "                        fullWidth = True,)\n",
    "\n",
    "dd_var = html.Div(children = gen_dd(list(sol_geo.census_vars.keys()), 'varDropdown', \n",
    "                                    val = 'Key Statistics', height = 75))\n",
    "dd_measure = html.Div(children = gen_dd(sol_geo.census_vars['Key Statistics'], 'measureDropdown',\n",
    "                                      val = sol_geo.census_vars['Key Statistics'][0]))"
   ]
  },
  {
   "cell_type": "code",
   "execution_count": null,
   "metadata": {},
   "outputs": [
    {
     "data": {
      "text/plain": [
       "['Total Households']"
      ]
     },
     "execution_count": null,
     "metadata": {},
     "output_type": "execute_result"
    }
   ],
   "source": [
    "sol_geo.census_vars['Key Statistics']"
   ]
  },
  {
   "cell_type": "markdown",
   "metadata": {},
   "source": [
    "Create a navbar"
   ]
  },
  {
   "cell_type": "code",
   "execution_count": null,
   "metadata": {},
   "outputs": [],
   "source": [
    "#| export\n",
    "navbar = dbc.NavbarSimple(\n",
    "    children=[\n",
    "        dbc.NavItem(dbc.NavLink(\"Census Data\", href=\"#\")),\n",
    "        dbc.DropdownMenu(\n",
    "            children=[\n",
    "                dbc.DropdownMenuItem(\"More pages coming soon\", header=True),\n",
    "                dbc.DropdownMenuItem(\"Population Projection\", href=\"#\"),\n",
    "            ],\n",
    "            nav=True,\n",
    "            in_navbar=True,\n",
    "            label=\"More\",\n",
    "        ),\n",
    "    ],\n",
    "    brand=\"Solomon Islands Data Map\",\n",
    "    brand_href=\"#\",\n",
    "    color=\"primary\",\n",
    "    #dark=True,\n",
    "    class_name=\"navbar navbar-expand-lg bg-primary\"\n",
    ")\n"
   ]
  },
  {
   "cell_type": "markdown",
   "metadata": {},
   "source": [
    "## Create a sidebar\n",
    "The sidebar will "
   ]
  },
  {
   "cell_type": "code",
   "execution_count": null,
   "metadata": {},
   "outputs": [],
   "source": [
    "#| export\n",
    "# Note, for now I am not using a sidebar style as I do not want to fix the width\n",
    "SIDEBAR_STYLE = {\n",
    "    \"position\": \"fixed\",\n",
    "    \"top\": 0,\n",
    "    \"left\": 0,\n",
    "    \"bottom\": 0,\n",
    "    \"width\": \"24rem\",\n",
    "    \"padding\": \"2rem 1rem\",\n",
    "    #\"background-color\": \"#f8f9fa\",\n",
    "}\n",
    "\n",
    "\n",
    "sidebar = html.Div(\n",
    "    [\n",
    "        html.H2(\"Filters\"),\n",
    "        html.Hr(),\n",
    "        dbc.Nav(\n",
    "            [\n",
    "                html.P(\"Geography\"), # TODO add a tooltip button here with link to geo explanation\n",
    "                dropdown_geo,\n",
    "                html.Br(),\n",
    "                html.P(\"Location\"), # TODO add a little info button here with link to geo explanation\n",
    "                dropdown_location,\n",
    "                html.Br(),\n",
    "                html.P(\"Data\"), # TODO add a little info button here with link to geo explanation\n",
    "                dd_var,\n",
    "                dd_measure,\n",
    "                html.Br(),\n",
    "                html.P(\"Data Type\"), \n",
    "                control_type,\n",
    "                #html.Br(),\n",
    "                #dcc.Dropdown(id = 'three')\n",
    "\n",
    "            ],\n",
    "            vertical=True,\n",
    "            pills=True,\n",
    "        ),\n",
    "    ],\n",
    "    #style=SIDEBAR_STYLE,\n",
    ")\n"
   ]
  },
  {
   "cell_type": "markdown",
   "metadata": {},
   "source": [
    "## Customize the Layout"
   ]
  },
  {
   "cell_type": "code",
   "execution_count": null,
   "metadata": {},
   "outputs": [],
   "source": [
    "#| export\n",
    "app.layout = dbc.Container([\n",
    "                dbc.Row([\n",
    "                    navbar\n",
    "                ]),\n",
    "                dbc.Row(\n",
    "                    [dbc.Col(sidebar, width = 2),\n",
    "                    dbc.Col([mytitle,\n",
    "                            map_graph,\n",
    "                            selectedBarGraph,\n",
    "                            #dbc.Row([cards])\n",
    "                            ], width = 10)\n",
    "                     ], justify = 'center'),                    \n",
    "                ], fluid = True)"
   ]
  },
  {
   "cell_type": "markdown",
   "metadata": {},
   "source": [
    "# Build callbacks to create interaction"
   ]
  },
  {
   "cell_type": "markdown",
   "metadata": {},
   "source": [
    "## Update location dropdown value based on map click\n",
    "This callback also will trigger an update to the selected card data"
   ]
  },
  {
   "cell_type": "code",
   "execution_count": null,
   "metadata": {},
   "outputs": [],
   "source": [
    "#| export\n",
    "@app.callback(\n",
    "    Output('locDropdown', 'value'),\n",
    "    Output(map_graph, \"clickData\"),\n",
    "    Output(map_graph, \"selectedData\"),\n",
    "    Input(map_graph, 'clickData'),\n",
    "    Input(map_graph, 'selectedData'),\n",
    "    State('locDropdown', 'value'),\n",
    "    prevent_initial_call=True,\n",
    "    allow_duplicate=True,\n",
    ")\n",
    "def map_click(clickData:dict, # The currently clicked location on the map\n",
    "              selectedData:dict, # The currently selected locations on the map\n",
    "                prev_locs:[str], # The previously selected locations\n",
    "                )->[str]: # Returns the new value for the dropdown\n",
    "    \"\"\"This function updates the dropdown menu based on the map click data\"\"\"\n",
    "    print(\"map clicked updating to:\")\n",
    "    if clickData is None and selectedData is None:\n",
    "        # TODO when none, maybe in future return current saved state, for now doing total\n",
    "        # TODO add a heading and maybe put in an acordian\n",
    "        print(\"Click data was none\")\n",
    "        return None\n",
    "    else:\n",
    "        # The locations are list of dictionaries\n",
    "        if selectedData is not None:\n",
    "            print(selectedData)\n",
    "            selections = list(map(lambda x: x['location'], selectedData['points']))\n",
    "            print(selections)\n",
    "\n",
    "        elif clickData is not None:\n",
    "            selections = list(map(lambda x: x['location'], clickData['points']))\n",
    "            print(selections)\n",
    "        locations = []\n",
    "        if prev_locs: locations = prev_locs\n",
    "        print(locations)\n",
    "        # Check whether the new location is already in the prev locations\n",
    "        for selection in selections:\n",
    "            if selection in locations: locations.remove(selection)\n",
    "            else: locations.append(selection)\n",
    "        print(\"Returning Location \" + ', '.join(locations) )\n",
    "    \n",
    "        # returned objects are assigned to the component property of the Output\n",
    "        # After updating fileter, we always reset map selection \n",
    "        return locations, None, None\n",
    "        \n"
   ]
  },
  {
   "cell_type": "markdown",
   "metadata": {},
   "source": [
    "## Update map selections"
   ]
  },
  {
   "cell_type": "code",
   "execution_count": null,
   "metadata": {},
   "outputs": [],
   "source": [
    "#| export\n",
    "@app.callback(\n",
    "    Output(map_graph, \"figure\", allow_duplicate=True),\n",
    "    # TODO - make this a Row object with children, then use function to recontruct\n",
    "    # a group of them\n",
    "    Input('locDropdown', 'value'),\n",
    "    State(dropdown_geo, 'value'),\n",
    "    prevent_initial_call=True,\n",
    "    allow_duplicate=True,\n",
    ")\n",
    "def map_selections(locations:[str], # The previously selected locations\n",
    "                geo_input:str, # The currently selected geography\n",
    "                )->[str]: # Returns the new value for the dropdown\n",
    "    '''\n",
    "    Update the selected data on the map for the selected locations\n",
    "    Selections is an array of integers indicating the index of the selected points\n",
    "    '''\n",
    "    patched_figure = Patch()\n",
    "    ct = np.where(sol_geo.geo_levels == geo_input)[0][0] # Tracks the trace number\n",
    "    pot_locs = map_graph.figure['data'][ct]['locations']\n",
    "    print(locations)\n",
    "    if locations: \n",
    "        selections = np.nonzero(np.in1d(pot_locs, locations))[0]\n",
    "    else: \n",
    "        selections = None \n",
    "\n",
    "    print(selections)\n",
    "    patched_figure['data'][ct]['selectedpoints'] = selections\n",
    "    \n",
    "    # returned objects are assigned to the component property of the Output\n",
    "    # After updating fileter, we always reset map selection \n",
    "    return patched_figure\n",
    "        \n"
   ]
  },
  {
   "cell_type": "markdown",
   "metadata": {},
   "source": [
    "#| export\n",
    "@app.callback(\n",
    "    Output(cards, 'children'),\n",
    "    # TODO - make this a Row object with children, then use function to recontruct\n",
    "    # a group of them\n",
    "    Input('locDropdown', 'value'),\n",
    "    Input(control_type, 'value'),\n",
    "    prevent_initial_call=True,\n",
    "    allow_duplicate=True,\n",
    ")\n",
    "def update_kpis(locations:str, # The currently selected location. Including defualt of none\n",
    "                data_type:str, # The currently selected data type (Total or Proportion)\n",
    "                #dd_updated:[str], # The currently selected data type (Total or Proportion)\n",
    "                )->type(dbc.Card):\n",
    "    # TODO might be worth exploring if patching will help\n",
    "    '''\n",
    "    Based on updates to either te dropdown location (which is triggered by map clicks) or \n",
    "    changes to the type of data dispalyed, update the cards\n",
    "    '''\n",
    "    print(\"triggered update cards\")\n",
    "    #if the dropdown_locations options was just updated, then we overwrite\n",
    "    # TODO workout how to make multi point selection work - hard todo - might need to find open source web example\n",
    "    # filter dataframe by store location, then sum all orders of that store.\n",
    "    header_text = \"Total\"\n",
    "    if locations is not None:\n",
    "        header_text = locations\n",
    "        locations = [locations]\n",
    "    new_cards = card_list(sol_geo, \n",
    "                            \"Current Selection: \"  + header_text,\n",
    "                            loc = locations, \n",
    "                            type_filter = data_type)\n",
    "\n",
    "    return new_cards"
   ]
  },
  {
   "cell_type": "code",
   "execution_count": null,
   "metadata": {},
   "outputs": [
    {
     "name": "stdout",
     "output_type": "stream",
     "text": [
      "['choisel']\n"
     ]
    }
   ],
   "source": [
    "test = 'choisel'\n",
    "t2 = [test]\n",
    "print(t2)"
   ]
  },
  {
   "cell_type": "markdown",
   "metadata": {},
   "source": [
    "## Update the location options based on geography selected"
   ]
  },
  {
   "cell_type": "code",
   "execution_count": null,
   "metadata": {},
   "outputs": [],
   "source": [
    "#| export\n",
    "@app.callback(\n",
    "    Output(dropdown_location, 'children'),\n",
    "    Input(dropdown_geo, 'value'),\n",
    "    allow_duplicate=True,\n",
    "    prevent_initial_call=True\n",
    ")\n",
    "def update_geography(geo_input:str, # User input from the geography dropdown\n",
    "              )->[str]: # Returns a new list of locations to display\n",
    "    '''\n",
    "    Updates the dropdown_location dropdown based on the currently selected data aggregation.\n",
    "    '''\n",
    "    return gen_dd(sol_geo.locations[geo_input], 'locDropdown', \"Select a location\", clear = True, multi = True)"
   ]
  },
  {
   "cell_type": "code",
   "execution_count": null,
   "metadata": {},
   "outputs": [
    {
     "data": {
      "text/markdown": [
       "---\n",
       "\n",
       "[source](https://github.com/Gippers/SolomonIslandsDataMap/blob/main/SolomonIslandsDataMap/app.py#L275){target=\"_blank\" style=\"float:right; font-size:smaller\"}\n",
       "\n",
       "### update_geography\n",
       "\n",
       ">      update_geography (geo_input:str)\n",
       "\n",
       "Updates the dropdown_location dropdown based on the currently selected data aggregation.\n",
       "\n",
       "|    | **Type** | **Details** |\n",
       "| -- | -------- | ----------- |\n",
       "| geo_input | str | User input from the geography dropdown |\n",
       "| **Returns** | **[<class 'str'>]** | **Returns a new list of locations to display** |"
      ],
      "text/plain": [
       "---\n",
       "\n",
       "[source](https://github.com/Gippers/SolomonIslandsDataMap/blob/main/SolomonIslandsDataMap/app.py#L275){target=\"_blank\" style=\"float:right; font-size:smaller\"}\n",
       "\n",
       "### update_geography\n",
       "\n",
       ">      update_geography (geo_input:str)\n",
       "\n",
       "Updates the dropdown_location dropdown based on the currently selected data aggregation.\n",
       "\n",
       "|    | **Type** | **Details** |\n",
       "| -- | -------- | ----------- |\n",
       "| geo_input | str | User input from the geography dropdown |\n",
       "| **Returns** | **[<class 'str'>]** | **Returns a new list of locations to display** |"
      ]
     },
     "execution_count": null,
     "metadata": {},
     "output_type": "execute_result"
    }
   ],
   "source": [
    "show_doc(update_geography)"
   ]
  },
  {
   "cell_type": "markdown",
   "metadata": {},
   "source": [
    "## Update the variable dropdowns based on the selection of the overall variable"
   ]
  },
  {
   "cell_type": "code",
   "execution_count": null,
   "metadata": {},
   "outputs": [],
   "source": [
    "#| export\n",
    "@app.callback(\n",
    "    Output(dd_measure, 'children'),\n",
    "    Input('varDropdown', 'value'),\n",
    "    allow_duplicate=True,\n",
    "    prevent_initial_call=True\n",
    ")\n",
    "def update_measure(new_var:str, # Selected variable\n",
    "              )->dcc.Dropdown: # Returns a dropdown of measures for selected variable\n",
    "    '''\n",
    "    Updates the dropdown_location dropdown based on the currently selected data aggregation.\n",
    "    '''\n",
    "    # When a variable is selected, the measure will be set as the first one\n",
    "    return gen_dd(sol_geo.census_vars[new_var], 'measureDropdown', \n",
    "                  val = sol_geo.census_vars[new_var][0])"
   ]
  },
  {
   "cell_type": "markdown",
   "metadata": {},
   "source": [
    "## Update the measure selection from clicks on the bar graph"
   ]
  },
  {
   "cell_type": "code",
   "execution_count": null,
   "metadata": {},
   "outputs": [],
   "source": [
    "#| export\n",
    "@app.callback(\n",
    "    Output('measureDropdown', 'value'),\n",
    "    Output(selectedBarGraph, \"clickData\"),\n",
    "    Input(selectedBarGraph, 'clickData'),\n",
    "    State('varDropdown', 'value'),\n",
    "    prevent_initial_call=True,\n",
    "    allow_duplicate=True,\n",
    ")\n",
    "def map_click(clickData:dict, # The currently clicked location on bar graph\n",
    "                variable:str, # The currently selected variable\n",
    "                )->[str]: # Returns the new value for the dropdown\n",
    "    \"\"\"This function updates the dropdown menu based on the bar graph click data\"\"\"\n",
    "\n",
    "    if clickData is None:\n",
    "        print(\"Click data was none\")\n",
    "        return None\n",
    "    else:\n",
    "        # The measure are list of dictionaries\n",
    "        print(clickData)\n",
    "        selection = list(map(lambda x: x['x'], clickData['points']))[0]\n",
    "        print(selection)\n",
    "    \n",
    "        # returned objects are assigned to the component property of the Output\n",
    "        # After updating fileter, we always reset map selection \n",
    "        return selection, None\n",
    "        \n"
   ]
  },
  {
   "cell_type": "markdown",
   "metadata": {},
   "source": [
    "### Update map based on inputs"
   ]
  },
  {
   "cell_type": "code",
   "execution_count": null,
   "metadata": {},
   "outputs": [],
   "source": [
    "#| export\n",
    "@app.callback(\n",
    "    Output(map_graph, 'figure', allow_duplicate=True),\n",
    "    Output(mytitle, 'children'),\n",
    "    Input(dropdown_geo, 'value'),\n",
    "    Input(control_type, 'value'),\n",
    "    Input('measureDropdown', 'value'),\n",
    "    Input('varDropdown', 'value'),\n",
    "    allow_duplicate=True,\n",
    "    prevent_initial_call=True\n",
    ")\n",
    "def update_map(geo_input:str, # User input from the geography dropdown\n",
    "                     data_type:str, # User input of type of data\n",
    "                     measure:str, # A string contiaining the census variable and measure split by ':'\n",
    "                     variable:str, # The state of the variable dropdown\n",
    "              )->(type(go.Figure()), str): # Returns a graph object figure after being updated and the dynamic title\n",
    "    '''\n",
    "    Updates the focus census variable or geography dispalayed on the map\n",
    "    '''\n",
    "    # TODO can i roll the geo and measure into one trigger of the callback?\n",
    "    patched_figure = Patch()\n",
    "    button_clicked = ctx.triggered_id\n",
    "\n",
    "\n",
    "    if button_clicked == dropdown_geo.id or button_clicked == dropdown_location.id:\n",
    "        # Update disaplayed geography \n",
    "        for geo in sol_geo.geo_levels:\n",
    "            tn = np.where(sol_geo.geo_levels == geo)[0][0] # Tracks the trace number\n",
    "            patched_figure['data'][tn]['visible'] = geo_input == geo\n",
    "        \n",
    "    elif button_clicked == control_type.id:\n",
    "        # Update the type of data displayed on map\n",
    "        # TODO currently displayed data will need to be tracked. Can't be tracked in object, use hidden \n",
    "        # TODO will need to track this update also in var dropdown clicked\n",
    "        # TODO this also needs to trigger cards\n",
    "        for geo in sol_geo.geo_levels:\n",
    "            tn = np.where(sol_geo.geo_levels == geo)[0][0] # Tracks the trace number\n",
    "            ar = sol_geo.get_df(geo_filter = geo, type_filter=data_type, var = variable, measure = measure).values\n",
    "            ar = ar.reshape((ar.shape[0],))\n",
    "            patched_figure['data'][tn]['z'] = ar\n",
    "        \n",
    "\n",
    "    elif button_clicked == 'measureDropdown':\n",
    "        # Update the z values in map to the data for the requested census variable\n",
    "        for geo in sol_geo.geo_levels:\n",
    "        # Ar updates the z value ie. data disaplyed each time\n",
    "        # TODO this is fairly inefficient, as we are processing each time\n",
    "        # Maybe faster framework like polars could help? or caching but would require a lot of caching\n",
    "            tn = np.where(sol_geo.geo_levels == geo)[0][0] # Tracks the trace number\n",
    "            ar = sol_geo.get_df(geo_filter = geo, type_filter=data_type, var = variable, measure=measure).values\n",
    "            ar = ar.reshape((ar.shape[0],))\n",
    "            patched_figure['data'][tn]['z'] = ar\n",
    "        \n",
    "    # returned objects are assigned to the component property of the Output\n",
    "    # After updating fileter, we always reset map selection \n",
    "\n",
    "    return patched_figure, '## Solomon Islands Data map - ' + geo_input"
   ]
  },
  {
   "cell_type": "markdown",
   "metadata": {},
   "source": [
    "### Update the selected part of the map based on the dropdown"
   ]
  },
  {
   "cell_type": "markdown",
   "metadata": {},
   "source": [
    "### Update Selected Bar Graph based on inputs"
   ]
  },
  {
   "cell_type": "code",
   "execution_count": null,
   "metadata": {},
   "outputs": [],
   "source": [
    "#| export\n",
    "# Callback allows components to interact\n",
    "@app.callback(\n",
    "    Output(selectedBarGraph, 'figure'),\n",
    "    Input(dropdown_geo, 'value'),\n",
    "    Input(control_type, 'value'),\n",
    "    Input('measureDropdown', 'value'),\n",
    "    Input('locDropdown', 'value'),\n",
    "    State('varDropdown', 'value'),\n",
    "    allow_duplicate=True,\n",
    "    prevent_initial_call=True\n",
    ")\n",
    "def update_bargraph(geo_input:str, # User input from the geography dropdown\n",
    "                     data_type:str, # User input of type of data\n",
    "                     measure:str, # A string contiaining the census variable and measure split by ':'\n",
    "                     loc_selection:[str], # The selected locations, may be none\n",
    "                     variable:str, # The state of the variable dropdown\n",
    "              )->(type(go.Figure())): # Returns a graph object figure after being updated and the dynamic title\n",
    "    '''\n",
    "    Updates the focus census variable or geography dispalayed on the map\n",
    "    '''\n",
    "        \n",
    "    # Create newly selected barplot\n",
    "    print(\"input\")\n",
    "    print(loc_selection)\n",
    "    locs = None\n",
    "    # Multi dropdown can return None or a list of None.\n",
    "    if loc_selection: \n",
    "        locs = loc_selection\n",
    "    print(\"Going in to function\")\n",
    "    print(locs)\n",
    "    bg = gen_bar_plot(sol_geo, geo_input, variable, measure, locs, data_type)\n",
    "\n",
    "    # returned objects are assigned to the component property of the Output\n",
    "    # After updating fileter, we always reset map selection \n",
    "\n",
    "    return  bg"
   ]
  },
  {
   "cell_type": "markdown",
   "metadata": {},
   "source": [
    "On click, update the contents of the kpi's"
   ]
  },
  {
   "cell_type": "code",
   "execution_count": null,
   "metadata": {},
   "outputs": [
    {
     "data": {
      "text/markdown": [
       "---\n",
       "\n",
       "[source](https://github.com/Gippers/SolomonIslandsDataMap/blob/main/SolomonIslandsDataMap/app.py#L275){target=\"_blank\" style=\"float:right; font-size:smaller\"}\n",
       "\n",
       "### update_geography\n",
       "\n",
       ">      update_geography (geo_input:str)\n",
       "\n",
       "Updates the dropdown_location dropdown based on the currently selected data aggregation.\n",
       "\n",
       "|    | **Type** | **Details** |\n",
       "| -- | -------- | ----------- |\n",
       "| geo_input | str | User input from the geography dropdown |\n",
       "| **Returns** | **[<class 'str'>]** | **Returns a new list of locations to display** |"
      ],
      "text/plain": [
       "---\n",
       "\n",
       "[source](https://github.com/Gippers/SolomonIslandsDataMap/blob/main/SolomonIslandsDataMap/app.py#L275){target=\"_blank\" style=\"float:right; font-size:smaller\"}\n",
       "\n",
       "### update_geography\n",
       "\n",
       ">      update_geography (geo_input:str)\n",
       "\n",
       "Updates the dropdown_location dropdown based on the currently selected data aggregation.\n",
       "\n",
       "|    | **Type** | **Details** |\n",
       "| -- | -------- | ----------- |\n",
       "| geo_input | str | User input from the geography dropdown |\n",
       "| **Returns** | **[<class 'str'>]** | **Returns a new list of locations to display** |"
      ]
     },
     "execution_count": null,
     "metadata": {},
     "output_type": "execute_result"
    }
   ],
   "source": [
    "#| hide\n",
    "show_doc(update_geography)"
   ]
  },
  {
   "cell_type": "code",
   "execution_count": null,
   "metadata": {},
   "outputs": [],
   "source": [
    "# TODO Do the title in one callback that listens for changes to either of them"
   ]
  },
  {
   "cell_type": "code",
   "execution_count": null,
   "metadata": {},
   "outputs": [
    {
     "data": {
      "text/plain": [
       "(10,)"
      ]
     },
     "execution_count": null,
     "metadata": {},
     "output_type": "execute_result"
    }
   ],
   "source": [
    "ar = sol_geo.get_df(geo_filter = 'Province', var = 'Key Statistics', measure = 'Total Households').values\n",
    "ar = ar.reshape((ar.shape[0],))\n",
    "ar.shape"
   ]
  },
  {
   "cell_type": "code",
   "execution_count": null,
   "metadata": {},
   "outputs": [
    {
     "name": "stdout",
     "output_type": "stream",
     "text": [
      "False\n",
      "True\n",
      "False\n"
     ]
    }
   ],
   "source": [
    "#patched_figure = Patch()\n",
    "user_input = 'Constituency'\n",
    "for geo in sol_geo.geo_levels:\n",
    "    i = np.where(sol_geo.geo_levels == geo)[0][0] # Tracks the trace number\n",
    "    fig['data'][i]['visible'] = user_input == geo\n",
    "    print(user_input == geo)"
   ]
  },
  {
   "cell_type": "code",
   "execution_count": null,
   "metadata": {},
   "outputs": [],
   "source": [
    "# TODO undo hardcoding\n",
    "test_eq(fig['data'][0]['visible'], False)\n",
    "test_eq(fig['data'][1]['visible'], True)\n",
    "test_eq(fig['data'][2]['visible'], False)"
   ]
  },
  {
   "cell_type": "markdown",
   "metadata": {},
   "source": [
    "### Update the colour columns based on data selection"
   ]
  },
  {
   "cell_type": "code",
   "execution_count": null,
   "metadata": {},
   "outputs": [
    {
     "name": "stdout",
     "output_type": "stream",
     "text": [
      "None\n"
     ]
    }
   ],
   "source": [
    "# TODO the above demonstrates that we can stack mutliple graphs and toggle the visibility and potentially z value in order to \n",
    "# quickly update our graph\n",
    "print(map_graph.figure['data'][0]['selectedpoints'])"
   ]
  },
  {
   "cell_type": "markdown",
   "metadata": {},
   "source": [
    "## Run the dash app"
   ]
  },
  {
   "cell_type": "code",
   "execution_count": null,
   "metadata": {},
   "outputs": [
    {
     "data": {
      "text/html": [
       "\n",
       "        <iframe\n",
       "            width=\"100%\"\n",
       "            height=\"650\"\n",
       "            src=\"http://127.0.0.1:9999/\"\n",
       "            frameborder=\"0\"\n",
       "            allowfullscreen\n",
       "            \n",
       "        ></iframe>\n",
       "        "
      ],
      "text/plain": [
       "<IPython.lib.display.IFrame>"
      ]
     },
     "metadata": {},
     "output_type": "display_data"
    }
   ],
   "source": [
    "#| export\n",
    "#| server\n",
    "# Run app\n",
    "if __name__=='__main__':\n",
    "    try:\n",
    "        app.run_server(debug=True, port=9999) # Random int mitigates port collision\n",
    "    except:\n",
    "        print(\"Cannot run server here\")"
   ]
  },
  {
   "cell_type": "code",
   "execution_count": null,
   "metadata": {},
   "outputs": [
    {
     "name": "stdout",
     "output_type": "stream",
     "text": [
      "{'points': [{'curveNumber': 0, 'pointNumber': 0, 'pointIndex': 0, 'x': 'Total Households', 'y': 91251, 'label': 'Total Households', 'value': 91251, 'bbox': {'x0': 358.4, 'x1': 969.6, 'y0': 665, 'y1': 665}}]}\n",
      "\u001b[1;31m---------------------------------------------------------------------------\u001b[0m\n",
      "\u001b[1;31mKeyError\u001b[0m                                  Traceback (most recent call last)\n",
      "Cell \u001b[1;32mIn[46], line 21\u001b[0m, in \u001b[0;36mmap_click.<locals>.<lambda>\u001b[1;34m(\n",
      "    x={'bbox': {'x0': 358.4, 'x1': 969.6, 'y0': 665, 'y1': 665}, 'curveNumber': 0, 'label': 'Total Households', 'pointIndex': 0, 'pointNumber': 0, 'value': 91251, 'x': 'Total Households', 'y': 91251}\n",
      ")\u001b[0m\n",
      "\u001b[0;32m     18\u001b[0m \u001b[38;5;28;01melse\u001b[39;00m:\n",
      "\u001b[0;32m     19\u001b[0m     \u001b[38;5;66;03m# The measure are list of dictionaries\u001b[39;00m\n",
      "\u001b[0;32m     20\u001b[0m     \u001b[38;5;28mprint\u001b[39m(clickData)\n",
      "\u001b[1;32m---> 21\u001b[0m     selection \u001b[38;5;241m=\u001b[39m \u001b[38;5;28mlist\u001b[39m(\u001b[38;5;28mmap\u001b[39m(\u001b[38;5;28;01mlambda\u001b[39;00m x: \u001b[43mx\u001b[49m\u001b[43m[\u001b[49m\u001b[38;5;124;43m'\u001b[39;49m\u001b[38;5;124;43mmeasure\u001b[39;49m\u001b[38;5;124;43m'\u001b[39;49m\u001b[43m]\u001b[49m, clickData[\u001b[38;5;124m'\u001b[39m\u001b[38;5;124mpoints\u001b[39m\u001b[38;5;124m'\u001b[39m]))[\u001b[38;5;241m0\u001b[39m]\n",
      "        selection \u001b[1;34m= Store(id='selection', data={})\u001b[0m\u001b[1;34m\n",
      "        \u001b[0mx \u001b[1;34m= {'curveNumber': 0, 'pointNumber': 0, 'pointIndex': 0, 'x': 'Total Households', 'y': 91251, 'label': 'Total Households', 'value': 91251, 'bbox': {'x0': 358.4, 'x1': 969.6, 'y0': 665, 'y1': 665}}\u001b[0m\n",
      "\u001b[0;32m     22\u001b[0m     \u001b[38;5;28mprint\u001b[39m(selection)\n",
      "\u001b[0;32m     24\u001b[0m     \u001b[38;5;66;03m# returned objects are assigned to the component property of the Output\u001b[39;00m\n",
      "\u001b[0;32m     25\u001b[0m     \u001b[38;5;66;03m# After updating fileter, we always reset map selection \u001b[39;00m\n",
      "\n",
      "\u001b[1;31mKeyError\u001b[0m: 'measure'\n",
      "\n",
      "map clicked updating to:\n",
      "['Guadalcanal']\n",
      "[]\n",
      "Returning Location Guadalcanal\n",
      "['Guadalcanal']\n",
      "[6]\n",
      "input\n",
      "['Guadalcanal']\n",
      "Going in to function\n",
      "['Guadalcanal']\n",
      "input\n",
      "['Guadalcanal']\n",
      "Going in to function\n",
      "['Guadalcanal']\n",
      "{'points': [{'curveNumber': 0, 'pointNumber': 1, 'pointIndex': 1, 'x': 'communal standpipe', 'y': 4558, 'label': 'communal standpipe', 'value': 4558, 'bbox': {'x0': 375.38, 'x1': 443.28999999999996, 'y0': 722.27, 'y1': 722.27}}]}\n",
      "\u001b[1;31m---------------------------------------------------------------------------\u001b[0m\n",
      "\u001b[1;31mKeyError\u001b[0m                                  Traceback (most recent call last)\n",
      "Cell \u001b[1;32mIn[46], line 21\u001b[0m, in \u001b[0;36mmap_click.<locals>.<lambda>\u001b[1;34m(\n",
      "    x={'bbox': {'x0': 375.38, 'x1': 443.28999999999996, 'y0': 722.27, 'y1': 722.27}, 'curveNumber': 0, 'label': 'communal standpipe', 'pointIndex': 1, 'pointNumber': 1, 'value': 4558, 'x': 'communal standpipe', 'y': 4558}\n",
      ")\u001b[0m\n",
      "\u001b[0;32m     18\u001b[0m \u001b[38;5;28;01melse\u001b[39;00m:\n",
      "\u001b[0;32m     19\u001b[0m     \u001b[38;5;66;03m# The measure are list of dictionaries\u001b[39;00m\n",
      "\u001b[0;32m     20\u001b[0m     \u001b[38;5;28mprint\u001b[39m(clickData)\n",
      "\u001b[1;32m---> 21\u001b[0m     selection \u001b[38;5;241m=\u001b[39m \u001b[38;5;28mlist\u001b[39m(\u001b[38;5;28mmap\u001b[39m(\u001b[38;5;28;01mlambda\u001b[39;00m x: \u001b[43mx\u001b[49m\u001b[43m[\u001b[49m\u001b[38;5;124;43m'\u001b[39;49m\u001b[38;5;124;43mmeasure\u001b[39;49m\u001b[38;5;124;43m'\u001b[39;49m\u001b[43m]\u001b[49m, clickData[\u001b[38;5;124m'\u001b[39m\u001b[38;5;124mpoints\u001b[39m\u001b[38;5;124m'\u001b[39m]))[\u001b[38;5;241m0\u001b[39m]\n",
      "        selection \u001b[1;34m= Store(id='selection', data={})\u001b[0m\u001b[1;34m\n",
      "        \u001b[0mx \u001b[1;34m= {'curveNumber': 0, 'pointNumber': 1, 'pointIndex': 1, 'x': 'communal standpipe', 'y': 4558, 'label': 'communal standpipe', 'value': 4558, 'bbox': {'x0': 375.38, 'x1': 443.28999999999996, 'y0': 722.27, 'y1': 722.27}}\u001b[0m\n",
      "\u001b[0;32m     22\u001b[0m     \u001b[38;5;28mprint\u001b[39m(selection)\n",
      "\u001b[0;32m     24\u001b[0m     \u001b[38;5;66;03m# returned objects are assigned to the component property of the Output\u001b[39;00m\n",
      "\u001b[0;32m     25\u001b[0m     \u001b[38;5;66;03m# After updating fileter, we always reset map selection \u001b[39;00m\n",
      "\n",
      "\u001b[1;31mKeyError\u001b[0m: 'measure'\n",
      "\n"
     ]
    }
   ],
   "source": [
    "#| hide\n",
    "import nbdev; nbdev.nbdev_export()"
   ]
  },
  {
   "cell_type": "code",
   "execution_count": null,
   "metadata": {},
   "outputs": [],
   "source": []
  }
 ],
 "metadata": {
  "kernelspec": {
   "display_name": "python3",
   "language": "python",
   "name": "python3"
  }
 },
 "nbformat": 4,
 "nbformat_minor": 4
}
