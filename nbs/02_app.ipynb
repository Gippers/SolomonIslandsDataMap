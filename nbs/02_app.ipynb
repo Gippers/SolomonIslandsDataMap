{
 "cells": [
  {
   "cell_type": "markdown",
   "metadata": {},
   "source": [
    "# Generate Map\n",
    "\n",
    "> Class that generates the data map"
   ]
  },
  {
   "cell_type": "code",
   "execution_count": null,
   "metadata": {},
   "outputs": [],
   "source": [
    "#| default_exp app"
   ]
  },
  {
   "cell_type": "code",
   "execution_count": null,
   "metadata": {},
   "outputs": [],
   "source": [
    "#| export\n",
    "from nbdev.showdoc import *\n",
    "# TODO work out how to get around below hack\n",
    "try:\n",
    "    from SolomonIslandsDataMap.load_data import *\n",
    "    from SolomonIslandsDataMap.dash_components import *\n",
    "except: \n",
    "    from load_data import *\n",
    "    from dash_components import *\n",
    "import plotly.express as px\n",
    "import plotly.graph_objects as go\n",
    "import plotly.io as pio # Unless this is used graphs will not be dynamic?\n",
    "import json\n",
    "from git import Repo\n",
    "import pandas as pd\n",
    "import numpy as np\n",
    "from fastcore.test import *\n",
    "from dash import Dash, dcc, Output, Input, State, html, Patch, ctx  # pip install dash\n",
    "import dash_bootstrap_components as dbc    # pip install dash-bootstrap-components\n",
    "from dash_bootstrap_templates import load_figure_template\n",
    "import random\n",
    "import dash_mantine_components as dmc"
   ]
  },
  {
   "cell_type": "code",
   "execution_count": null,
   "metadata": {},
   "outputs": [],
   "source": [
    "# TODO - do a need a state class that tracks the state of different website objects to help with\n",
    "# updating etc. \n",
    "# TODO - not even state, should it be an object that contains everythin to track. Execpt if I am patching,\n",
    "# then the tracking in mem is unessary, so better to just track necesary values like: last changes card etc. "
   ]
  },
  {
   "cell_type": "markdown",
   "metadata": {},
   "source": [
    "## Load Data"
   ]
  },
  {
   "cell_type": "code",
   "execution_count": null,
   "metadata": {},
   "outputs": [],
   "source": [
    "#| export\n",
    "sol_geo = SolomonGeo.load_pickle(\"/testData/\")\n",
    "geo_df = sol_geo.geo_df"
   ]
  },
  {
   "cell_type": "code",
   "execution_count": null,
   "metadata": {},
   "outputs": [],
   "source": [
    "fig = define_map(sol_geo)"
   ]
  },
  {
   "cell_type": "code",
   "execution_count": null,
   "metadata": {},
   "outputs": [
    {
     "data": {
      "text/plain": [
       "()"
      ]
     },
     "execution_count": null,
     "metadata": {},
     "output_type": "execute_result"
    }
   ],
   "source": [
    "fig['frames']\n"
   ]
  },
  {
   "cell_type": "markdown",
   "metadata": {},
   "source": [
    "## Setup Dash Components"
   ]
  },
  {
   "cell_type": "markdown",
   "metadata": {},
   "source": [
    "Setup the app and global variables"
   ]
  },
  {
   "cell_type": "code",
   "execution_count": null,
   "metadata": {},
   "outputs": [],
   "source": [
    "#| export\n",
    "# Build your components\n",
    "# FYI the best themes seem to be: [Darkly, Flatly, Minty, Slate, JOURNAL]\n",
    "app = Dash(__name__, external_stylesheets=[dbc.themes.MINTY])\n",
    "server = app.server\n",
    "load_figure_template(\"minty\")\n",
    "\n",
    "geos = sol_geo.geo_levels\n",
    "cen_vars = sol_geo.census_vars\n"
   ]
  },
  {
   "cell_type": "markdown",
   "metadata": {},
   "source": [
    "Setup some of  the key data contiaining objects"
   ]
  },
  {
   "cell_type": "code",
   "execution_count": null,
   "metadata": {},
   "outputs": [],
   "source": [
    "#| export\n",
    "mytitle = dcc.Markdown(children=\"## \" + list(cen_vars.keys())[0] + \" by \" + geos[0]) # TODO This needs a default title\n",
    "map_graph = dcc.Graph(figure=define_map(sol_geo), selectedData=None)\n",
    "# TODO entire accordian will need to be the child\n",
    "cards = dbc.Accordion(children= \n",
    "        card_list(sol_geo, \"Current Selection: Total\"),\n",
    "        always_open=True,\n",
    "        class_name = \"accordion-header\",\n",
    "    )\n",
    "selectedBarGraph = dcc.Graph(figure = gen_bar_plot(sol_geo, sol_geo.geo_levels[0], \n",
    "                                               \"Key Statistics\", 'Total Households'),\n",
    "                            id = 'bar_graph')\n",
    "# Selections tracks the currently selected map locations\n",
    "selection = dcc.Store(id = 'selection',data = {})"
   ]
  },
  {
   "cell_type": "code",
   "execution_count": null,
   "metadata": {},
   "outputs": [
    {
     "data": {
      "text/plain": [
       "Index(['Central', 'Choiseul', 'Guadalcanal', 'Honiara', 'Isabel',\n",
       "       'Makira-Ulawa', 'Malaita', 'Rennell-Bell', 'Temotu', 'Western'],\n",
       "      dtype='object', name='geo_name')"
      ]
     },
     "execution_count": null,
     "metadata": {},
     "output_type": "execute_result"
    }
   ],
   "source": [
    "sol_geo.locations[sol_geo.geo_levels[0]]"
   ]
  },
  {
   "cell_type": "markdown",
   "metadata": {},
   "source": [
    "Setup and create the dropdowns"
   ]
  },
  {
   "cell_type": "code",
   "execution_count": null,
   "metadata": {},
   "outputs": [],
   "source": [
    "#| export\n",
    "# TODO options gets changed in callback?\n",
    "# TODO need to store locations in data class\n",
    "dropdown_location = html.Div(children = gen_dd(sol_geo.locations[sol_geo.geo_levels[0]], \n",
    "                                                'locDropdown', clear = True, place_holder='Select Dropdown Location',\n",
    "                                                multi = True))\n",
    "               \n",
    "\n",
    "#dropdown_geo = dbc.Dropdown(options=geos,\n",
    "#                        value=geos[0],  # initial value displayed when page first loads\n",
    "#                        clearable=False)\n",
    "dropdown_geo = dmc.SegmentedControl(\n",
    "                            id=\"segmented_geo\",\n",
    "                            value=geos[0],\n",
    "                            data=geos,\n",
    "                             orientation=\"vertical\",\n",
    "                            color = 'gray',\n",
    "                            fullWidth = True,\n",
    "                            # TODO - think there is a version issue with class_name on the server, need to fix\n",
    "                            #className=\"btn-group btn-primary\",\n",
    "                            #class_name = \"btn btn-primary\"\n",
    "                            #color = dmc.theme.DEFAULT_COLORS[\"teal\"][3]\n",
    "    # TODO this color functionality is beyond stupid...\n",
    "    # TODO definitely change to dbc, even though more complicated get consistent theme.s..\n",
    "                        ) # TODO consider redoing as theme is not consistent with this library\n",
    "# TODO based on the value selected above, make a dropdown with children set to starting list of\n",
    "# locations in that geo. on update of dropdown_geo, update children list then update value in main one.\n",
    "# then get rid of function\n",
    "control_type = dmc.SegmentedControl(\n",
    "                        id=\"segmented_type\",\n",
    "                        value=sol_geo.data_type[0],\n",
    "                        data=sol_geo.data_type,\n",
    "                        orientation=\"vertical\",\n",
    "                        color = 'gray',\n",
    "                        fullWidth = True,)\n",
    "\n",
    "dd_var = html.Div(children = gen_dd(list(sol_geo.census_vars.keys()), 'varDropdown', \n",
    "                                    val = 'Key Statistics', height = 75))\n",
    "dd_measure = html.Div(children = gen_dd(sol_geo.census_vars['Key Statistics'], 'measureDropdown',\n",
    "                                      val = sol_geo.census_vars['Key Statistics'][0]))"
   ]
  },
  {
   "cell_type": "code",
   "execution_count": null,
   "metadata": {},
   "outputs": [
    {
     "data": {
      "text/plain": [
       "['Total Households']"
      ]
     },
     "execution_count": null,
     "metadata": {},
     "output_type": "execute_result"
    }
   ],
   "source": [
    "sol_geo.census_vars['Key Statistics']"
   ]
  },
  {
   "cell_type": "markdown",
   "metadata": {},
   "source": [
    "Create a navbar"
   ]
  },
  {
   "cell_type": "code",
   "execution_count": null,
   "metadata": {},
   "outputs": [],
   "source": [
    "#| export\n",
    "navbar = dbc.NavbarSimple(\n",
    "    children=[\n",
    "        dbc.NavItem(dbc.NavLink(\"Census Data\", href=\"#\")),\n",
    "        dbc.DropdownMenu(\n",
    "            children=[\n",
    "                dbc.DropdownMenuItem(\"More pages coming soon\", header=True),\n",
    "                dbc.DropdownMenuItem(\"Population Projection\", href=\"#\"),\n",
    "            ],\n",
    "            nav=True,\n",
    "            in_navbar=True,\n",
    "            label=\"More\",\n",
    "        ),\n",
    "    ],\n",
    "    brand=\"Solomon Islands Data Map\",\n",
    "    brand_href=\"#\",\n",
    "    color=\"primary\",\n",
    "    #dark=True,\n",
    "    class_name=\"navbar navbar-expand-lg bg-primary\"\n",
    ")\n"
   ]
  },
  {
   "cell_type": "markdown",
   "metadata": {},
   "source": [
    "## Create a sidebar\n",
    "The sidebar will "
   ]
  },
  {
   "cell_type": "code",
   "execution_count": null,
   "metadata": {},
   "outputs": [],
   "source": [
    "#| export\n",
    "# Note, for now I am not using a sidebar style as I do not want to fix the width\n",
    "SIDEBAR_STYLE = {\n",
    "    \"position\": \"fixed\",\n",
    "    \"top\": 0,\n",
    "    \"left\": 0,\n",
    "    \"bottom\": 0,\n",
    "    \"width\": \"24rem\",\n",
    "    \"padding\": \"2rem 1rem\",\n",
    "    #\"background-color\": \"#f8f9fa\",\n",
    "}\n",
    "\n",
    "\n",
    "sidebar = html.Div(\n",
    "    [\n",
    "        html.H2(\"Filters\"),\n",
    "        html.Hr(),\n",
    "        dbc.Nav(\n",
    "            [\n",
    "                html.P(\"Geography\"), # TODO add a tooltip button here with link to geo explanation\n",
    "                dropdown_geo,\n",
    "                html.Br(),\n",
    "                html.P(\"Location\"), # TODO add a little info button here with link to geo explanation\n",
    "                dropdown_location,\n",
    "                html.Br(),\n",
    "                html.P(\"Data\"), # TODO add a little info button here with link to geo explanation\n",
    "                dd_var,\n",
    "                dd_measure,\n",
    "                html.Br(),\n",
    "                html.P(\"Data Type\"), \n",
    "                control_type,\n",
    "                #html.Br(),\n",
    "                #dcc.Dropdown(id = 'three')\n",
    "\n",
    "            ],\n",
    "            vertical=True,\n",
    "            pills=True,\n",
    "        ),\n",
    "    ],\n",
    "    #style=SIDEBAR_STYLE,\n",
    ")\n"
   ]
  },
  {
   "cell_type": "markdown",
   "metadata": {},
   "source": [
    "## Customize the Layout"
   ]
  },
  {
   "cell_type": "code",
   "execution_count": null,
   "metadata": {},
   "outputs": [],
   "source": [
    "#| export\n",
    "app.layout = dbc.Container([\n",
    "                dbc.Row([\n",
    "                    navbar\n",
    "                ]),\n",
    "                dbc.Row(\n",
    "                    [dbc.Col(sidebar, width = 2),\n",
    "                    dbc.Col([mytitle,\n",
    "                            map_graph,\n",
    "                            selectedBarGraph,\n",
    "                            #dbc.Row([cards])\n",
    "                            ], width = 10)\n",
    "                     ], justify = 'center'),                    \n",
    "                ], fluid = True)"
   ]
  },
  {
   "cell_type": "markdown",
   "metadata": {},
   "source": [
    "# Build callbacks to create interaction"
   ]
  },
  {
   "cell_type": "markdown",
   "metadata": {},
   "source": [
    "## Update location dropdown value based on map click\n",
    "This callback also will trigger an update to the selected card data"
   ]
  },
  {
   "cell_type": "code",
   "execution_count": null,
   "metadata": {},
   "outputs": [],
   "source": [
    "#| export\n",
    "@app.callback(\n",
    "    Output('locDropdown', 'value'),\n",
    "    Output(map_graph, \"clickData\"),\n",
    "    # TODO - make this a Row object with children, then use function to recontruct\n",
    "    # a group of them\n",
    "    Input(map_graph, 'clickData'),\n",
    "    State('locDropdown', 'value'),\n",
    "    prevent_initial_call=True\n",
    ")\n",
    "def map_click(clickData:str, # The currently clicked location on the map\n",
    "                prev_locs:[str], # The previously selected locations\n",
    "                )->[str]: # Returns the new value for the dropdown\n",
    "    # TODO workout how to make multi point selection work - hard todo - might need to find open source web example\n",
    "    \n",
    "    print(\"map clicked updating to:\")\n",
    "    if clickData is None:\n",
    "        # TODO when none, maybe in future return current saved state, for now doing total\n",
    "        # TODO add a heading and maybe put in an acordian\n",
    "        print(\"Click data was none\")\n",
    "        return None\n",
    "    else:\n",
    "        # The locations are list of dictionaries\n",
    "        location = list(map(lambda x: x['location'], clickData['points']))[0]\n",
    "        print(location)\n",
    "        locations = []\n",
    "        if prev_locs: locations = prev_locs\n",
    "        print(locations)\n",
    "        # Check whether the new location is already in the prev locations\n",
    "        if location in locations:\n",
    "            # If it is, then remove it\n",
    "            locations.remove(location)\n",
    "        else:\n",
    "            # If it is not, then add it\n",
    "            locations.append(location)\n",
    "        print(\"Returning Location \" + ', '.join(locations) )\n",
    "        # Returning None \n",
    "        return locations, None\n",
    "        \n"
   ]
  },
  {
   "cell_type": "markdown",
   "metadata": {},
   "source": [
    "#| export\n",
    "@app.callback(\n",
    "    Output(cards, 'children'),\n",
    "    # TODO - make this a Row object with children, then use function to recontruct\n",
    "    # a group of them\n",
    "    Input('locDropdown', 'value'),\n",
    "    Input(control_type, 'value'),\n",
    "    prevent_initial_call=True,\n",
    "    allow_duplicate=True,\n",
    ")\n",
    "def update_kpis(locations:str, # The currently selected location. Including defualt of none\n",
    "                data_type:str, # The currently selected data type (Total or Proportion)\n",
    "                #dd_updated:[str], # The currently selected data type (Total or Proportion)\n",
    "                )->type(dbc.Card):\n",
    "    # TODO might be worth exploring if patching will help\n",
    "    '''\n",
    "    Based on updates to either te dropdown location (which is triggered by map clicks) or \n",
    "    changes to the type of data dispalyed, update the cards\n",
    "    '''\n",
    "    print(\"triggered update cards\")\n",
    "    #if the dropdown_locations options was just updated, then we overwrite\n",
    "    # TODO workout how to make multi point selection work - hard todo - might need to find open source web example\n",
    "    # filter dataframe by store location, then sum all orders of that store.\n",
    "    header_text = \"Total\"\n",
    "    if locations is not None:\n",
    "        header_text = locations\n",
    "        locations = [locations]\n",
    "    new_cards = card_list(sol_geo, \n",
    "                            \"Current Selection: \"  + header_text,\n",
    "                            loc = locations, \n",
    "                            type_filter = data_type)\n",
    "\n",
    "    return new_cards"
   ]
  },
  {
   "cell_type": "code",
   "execution_count": null,
   "metadata": {},
   "outputs": [
    {
     "name": "stdout",
     "output_type": "stream",
     "text": [
      "['choisel']\n"
     ]
    }
   ],
   "source": [
    "test = 'choisel'\n",
    "t2 = [test]\n",
    "print(t2)"
   ]
  },
  {
   "cell_type": "markdown",
   "metadata": {},
   "source": [
    "## Update the location options based on geography selected"
   ]
  },
  {
   "cell_type": "code",
   "execution_count": null,
   "metadata": {},
   "outputs": [],
   "source": [
    "#| export\n",
    "@app.callback(\n",
    "    Output(dropdown_location, 'children'),\n",
    "    Input(dropdown_geo, 'value'),\n",
    "    allow_duplicate=True,\n",
    "    prevent_initial_call=True\n",
    ")\n",
    "def update_geography(geo_input:str, # User input from the geography dropdown\n",
    "              )->[str]: # Returns a new list of locations to display\n",
    "    '''\n",
    "    Updates the dropdown_location dropdown based on the currently selected data aggregation.\n",
    "    '''\n",
    "    return gen_dd(sol_geo.locations[geo_input], 'locDropdown', \"Select a location\", clear = True, multi = True)"
   ]
  },
  {
   "cell_type": "code",
   "execution_count": null,
   "metadata": {},
   "outputs": [
    {
     "data": {
      "text/markdown": [
       "---\n",
       "\n",
       "[source](https://github.com/Gippers/SolomonIslandsDataMap/blob/main/SolomonIslandsDataMap/app.py#L227){target=\"_blank\" style=\"float:right; font-size:smaller\"}\n",
       "\n",
       "### update_geography\n",
       "\n",
       ">      update_geography (geo_input:str)\n",
       "\n",
       "Updates the dropdown_location dropdown based on the currently selected data aggregation.\n",
       "\n",
       "|    | **Type** | **Details** |\n",
       "| -- | -------- | ----------- |\n",
       "| geo_input | str | User input from the geography dropdown |\n",
       "| **Returns** | **[<class 'str'>]** | **Returns a new list of locations to display** |"
      ],
      "text/plain": [
       "---\n",
       "\n",
       "[source](https://github.com/Gippers/SolomonIslandsDataMap/blob/main/SolomonIslandsDataMap/app.py#L227){target=\"_blank\" style=\"float:right; font-size:smaller\"}\n",
       "\n",
       "### update_geography\n",
       "\n",
       ">      update_geography (geo_input:str)\n",
       "\n",
       "Updates the dropdown_location dropdown based on the currently selected data aggregation.\n",
       "\n",
       "|    | **Type** | **Details** |\n",
       "| -- | -------- | ----------- |\n",
       "| geo_input | str | User input from the geography dropdown |\n",
       "| **Returns** | **[<class 'str'>]** | **Returns a new list of locations to display** |"
      ]
     },
     "execution_count": null,
     "metadata": {},
     "output_type": "execute_result"
    }
   ],
   "source": [
    "show_doc(update_geography)"
   ]
  },
  {
   "cell_type": "markdown",
   "metadata": {},
   "source": [
    "## Update the variable dropdowns based on the selection of the overall variable"
   ]
  },
  {
   "cell_type": "code",
   "execution_count": null,
   "metadata": {},
   "outputs": [],
   "source": [
    "#| export\n",
    "@app.callback(\n",
    "    Output(dd_measure, 'children'),\n",
    "    Input('varDropdown', 'value'),\n",
    "    allow_duplicate=True,\n",
    "    prevent_initial_call=True\n",
    ")\n",
    "def update_measure(new_var:str, # Selected variable\n",
    "              )->dcc.Dropdown: # Returns a dropdown of measures for selected variable\n",
    "    '''\n",
    "    Updates the dropdown_location dropdown based on the currently selected data aggregation.\n",
    "    '''\n",
    "    # When a variable is selected, the measure will be set as the first one\n",
    "    return gen_dd(sol_geo.census_vars[new_var], 'measureDropdown', \n",
    "                  val = sol_geo.census_vars[new_var][0])"
   ]
  },
  {
   "cell_type": "markdown",
   "metadata": {},
   "source": [
    "### Update map based on inputs"
   ]
  },
  {
   "cell_type": "code",
   "execution_count": null,
   "metadata": {},
   "outputs": [],
   "source": [
    "#| export\n",
    "\n",
    "# TODO put title in it's own callback\n",
    "@app.callback(\n",
    "    Output(map_graph, 'figure'),\n",
    "    Output(mytitle, 'children'),\n",
    "    Input(dropdown_geo, 'value'),\n",
    "    Input(control_type, 'value'),\n",
    "    Input('measureDropdown', 'value'),\n",
    "    State('varDropdown', 'value'),\n",
    "    allow_duplicate=True,\n",
    "    prevent_initial_call=True\n",
    ")\n",
    "def update_map(geo_input:str, # User input from the geography dropdown\n",
    "                     data_type:str, # User input of type of data\n",
    "                     measure:str, # A string contiaining the census variable and measure split by ':'\n",
    "                     variable:str, # The state of the variable dropdown\n",
    "              )->(type(go.Figure()), str): # Returns a graph object figure after being updated and the dynamic title\n",
    "    '''\n",
    "    Updates the focus census variable or geography dispalayed on the map\n",
    "    '''\n",
    "    patched_figure = Patch()\n",
    "    button_clicked = ctx.triggered_id\n",
    "\n",
    "    if button_clicked == dropdown_geo.id:\n",
    "        # Update disaplayed geography \n",
    "        for geo in sol_geo.geo_levels:\n",
    "            i = np.where(sol_geo.geo_levels == geo)[0][0] # Tracks the trace number\n",
    "            patched_figure['data'][i]['visible'] = geo_input == geo\n",
    "        \n",
    "    elif button_clicked == control_type.id:\n",
    "        # Update the type of data displayed on map\n",
    "        # TODO currently displayed data will need to be tracked. Can't be tracked in object, use hidden \n",
    "        # TODO will need to track this update also in var dropdown clicked\n",
    "        # TODO this also needs to trigger cards\n",
    "        print(var_measure)\n",
    "        for geo in sol_geo.geo_levels:\n",
    "            i = np.where(sol_geo.geo_levels == geo)[0][0] # Tracks the trace number\n",
    "            ar = sol_geo.get_df(geo_filter = geo, type_filter=data_type, var = variable, measure = measure).values\n",
    "            ar = ar.reshape((ar.shape[0],))\n",
    "            patched_figure['data'][i]['z'] = ar\n",
    "        \n",
    "\n",
    "    elif button_clicked == 'measureDropdown':\n",
    "        # Update the z values in map to the data for the requested census variable\n",
    "        for geo in sol_geo.geo_levels:\n",
    "        # Ar updates the z value ie. data disaplyed each time\n",
    "        # TODO this is fairly inefficient, as we are processing each time\n",
    "        # Maybe faster framework like polars could help? or caching but would require a lot of caching\n",
    "            i = np.where(sol_geo.geo_levels == geo)[0][0] # Tracks the trace number\n",
    "            ar = sol_geo.get_df(geo_filter = geo, type_filter=data_type, var = variable, measure=measure).values\n",
    "            ar = ar.reshape((ar.shape[0],))\n",
    "            patched_figure['data'][i]['z'] = ar\n",
    "        \n",
    "\n",
    "    # returned objects are assigned to the component property of the Output\n",
    "    # After updating fileter, we always reset map selection \n",
    "\n",
    "    return patched_figure, '## Solomon Islands Data map - ' + geo_input"
   ]
  },
  {
   "cell_type": "markdown",
   "metadata": {},
   "source": [
    "### Update Selected Bar Graph based on inputs"
   ]
  },
  {
   "cell_type": "code",
   "execution_count": null,
   "metadata": {},
   "outputs": [],
   "source": [
    "#| export\n",
    "# Callback allows components to interact\n",
    "\n",
    "# TODO put title in it's own callback\n",
    "@app.callback(\n",
    "    Output(selectedBarGraph, 'figure'),\n",
    "    Input(dropdown_geo, 'value'),\n",
    "    Input(control_type, 'value'),\n",
    "    Input('measureDropdown', 'value'),\n",
    "    Input('locDropdown', 'value'),\n",
    "    State('varDropdown', 'value'),\n",
    "    allow_duplicate=True,\n",
    "    prevent_initial_call=True\n",
    ")\n",
    "def update_bargraph(geo_input:str, # User input from the geography dropdown\n",
    "                     data_type:str, # User input of type of data\n",
    "                     measure:str, # A string contiaining the census variable and measure split by ':'\n",
    "                     loc_selection:[str], # The selected locations, may be none\n",
    "                     variable:str, # The state of the variable dropdown\n",
    "              )->(type(go.Figure())): # Returns a graph object figure after being updated and the dynamic title\n",
    "    '''\n",
    "    Updates the focus census variable or geography dispalayed on the map\n",
    "    '''\n",
    "        \n",
    "    # Create newly selected barplot\n",
    "    print(\"input\")\n",
    "    print(loc_selection)\n",
    "    locs = None\n",
    "    # Multi dropdown can return None or a list of None.\n",
    "    if loc_selection: \n",
    "        locs = loc_selection\n",
    "    print(\"Going in to function\")\n",
    "    print(locs)\n",
    "    bg = gen_bar_plot(sol_geo, geo_input, variable, measure, locs, data_type)\n",
    "\n",
    "    # returned objects are assigned to the component property of the Output\n",
    "    # After updating fileter, we always reset map selection \n",
    "\n",
    "    return  bg"
   ]
  },
  {
   "cell_type": "markdown",
   "metadata": {},
   "source": [
    "On click, update the contents of the kpi's"
   ]
  },
  {
   "cell_type": "code",
   "execution_count": null,
   "metadata": {},
   "outputs": [
    {
     "data": {
      "text/markdown": [
       "---\n",
       "\n",
       "[source](https://github.com/Gippers/SolomonIslandsDataMap/blob/main/SolomonIslandsDataMap/app.py#L227){target=\"_blank\" style=\"float:right; font-size:smaller\"}\n",
       "\n",
       "### update_geography\n",
       "\n",
       ">      update_geography (geo_input:str)\n",
       "\n",
       "Updates the dropdown_location dropdown based on the currently selected data aggregation.\n",
       "\n",
       "|    | **Type** | **Details** |\n",
       "| -- | -------- | ----------- |\n",
       "| geo_input | str | User input from the geography dropdown |\n",
       "| **Returns** | **[<class 'str'>]** | **Returns a new list of locations to display** |"
      ],
      "text/plain": [
       "---\n",
       "\n",
       "[source](https://github.com/Gippers/SolomonIslandsDataMap/blob/main/SolomonIslandsDataMap/app.py#L227){target=\"_blank\" style=\"float:right; font-size:smaller\"}\n",
       "\n",
       "### update_geography\n",
       "\n",
       ">      update_geography (geo_input:str)\n",
       "\n",
       "Updates the dropdown_location dropdown based on the currently selected data aggregation.\n",
       "\n",
       "|    | **Type** | **Details** |\n",
       "| -- | -------- | ----------- |\n",
       "| geo_input | str | User input from the geography dropdown |\n",
       "| **Returns** | **[<class 'str'>]** | **Returns a new list of locations to display** |"
      ]
     },
     "execution_count": null,
     "metadata": {},
     "output_type": "execute_result"
    }
   ],
   "source": [
    "#| hide\n",
    "show_doc(update_geography)"
   ]
  },
  {
   "cell_type": "code",
   "execution_count": null,
   "metadata": {},
   "outputs": [],
   "source": [
    "# TODO Do the title in one callback that listens for changes to either of them"
   ]
  },
  {
   "cell_type": "code",
   "execution_count": null,
   "metadata": {},
   "outputs": [
    {
     "data": {
      "text/plain": [
       "(10,)"
      ]
     },
     "execution_count": null,
     "metadata": {},
     "output_type": "execute_result"
    }
   ],
   "source": [
    "ar = sol_geo.get_df(geo_filter = 'Province', var = 'Key Statistics', measure = 'Total Households').values\n",
    "ar = ar.reshape((ar.shape[0],))\n",
    "ar.shape"
   ]
  },
  {
   "cell_type": "code",
   "execution_count": null,
   "metadata": {},
   "outputs": [
    {
     "name": "stdout",
     "output_type": "stream",
     "text": [
      "False\n",
      "True\n",
      "False\n"
     ]
    }
   ],
   "source": [
    "#patched_figure = Patch()\n",
    "user_input = 'Constituency'\n",
    "for geo in sol_geo.geo_levels:\n",
    "    i = np.where(sol_geo.geo_levels == geo)[0][0] # Tracks the trace number\n",
    "    fig['data'][i]['visible'] = user_input == geo\n",
    "    print(user_input == geo)"
   ]
  },
  {
   "cell_type": "code",
   "execution_count": null,
   "metadata": {},
   "outputs": [],
   "source": [
    "# TODO undo hardcoding\n",
    "test_eq(fig['data'][0]['visible'], False)\n",
    "test_eq(fig['data'][1]['visible'], True)\n",
    "test_eq(fig['data'][2]['visible'], False)"
   ]
  },
  {
   "cell_type": "markdown",
   "metadata": {},
   "source": [
    "### Update the colour columns based on data selection"
   ]
  },
  {
   "cell_type": "code",
   "execution_count": null,
   "metadata": {},
   "outputs": [],
   "source": [
    "# TODO the above demonstrates that we can stack mutliple graphs and toggle the visibility and potentially z value in order to \n",
    "# quickly update our graph"
   ]
  },
  {
   "cell_type": "markdown",
   "metadata": {},
   "source": [
    "## Run the dash app"
   ]
  },
  {
   "cell_type": "code",
   "execution_count": null,
   "metadata": {},
   "outputs": [
    {
     "data": {
      "text/html": [
       "\n",
       "        <iframe\n",
       "            width=\"100%\"\n",
       "            height=\"650\"\n",
       "            src=\"http://127.0.0.1:9999/\"\n",
       "            frameborder=\"0\"\n",
       "            allowfullscreen\n",
       "            \n",
       "        ></iframe>\n",
       "        "
      ],
      "text/plain": [
       "<IPython.lib.display.IFrame>"
      ]
     },
     "metadata": {},
     "output_type": "display_data"
    }
   ],
   "source": [
    "#| export\n",
    "#| server\n",
    "# Run app\n",
    "if __name__=='__main__':\n",
    "    try:\n",
    "        app.run_server(debug=True, port=9999) # Random int mitigates port collision\n",
    "    except:\n",
    "        print(\"Cannot run server here\")"
   ]
  },
  {
   "cell_type": "code",
   "execution_count": null,
   "metadata": {},
   "outputs": [
    {
     "data": {
      "text/plain": [
       "<function SolomonIslandsDataMap.dash_components.card_list(sg: SolomonIslandsDataMap.load_data.SolomonGeo, header: str, loc: [<class 'str'>] = None, type_filter: str = 'Total') -> dash_bootstrap_components._components.Col.Col>"
      ]
     },
     "execution_count": null,
     "metadata": {},
     "output_type": "execute_result"
    }
   ],
   "source": [
    "card_list"
   ]
  },
  {
   "cell_type": "code",
   "execution_count": null,
   "metadata": {},
   "outputs": [
    {
     "name": "stdout",
     "output_type": "stream",
     "text": [
      "input\n",
      "['Choiseul']\n",
      "Going in to function\n",
      "['Choiseul']\n",
      "input\n",
      "['Choiseul']\n",
      "Going in to function\n",
      "['Choiseul']\n",
      "\u001b[1;31m---------------------------------------------------------------------------\u001b[0m\n",
      "\u001b[1;31mIndexError\u001b[0m                                Traceback (most recent call last)\n",
      "File \u001b[1;32m~/git/SolomonIslandsDataMap/SolomonIslandsDataMap/dash_components.py:97\u001b[0m, in \u001b[0;36mgen_bar_plot\u001b[1;34m(\n",
      "    sol_geo=<SolomonIslandsDataMap.load_data.SolomonGeo object>,\n",
      "    geo_filter='Constituency',\n",
      "    variable='Key Statistics',\n",
      "    measure='Total Households',\n",
      "    locations=['Choiseul'],\n",
      "    type_filter='Total'\n",
      ")\u001b[0m\n",
      "\u001b[0;32m     93\u001b[0m measures \u001b[38;5;241m=\u001b[39m \u001b[38;5;28mlist\u001b[39m(df\u001b[38;5;241m.\u001b[39mcolumns)\n",
      "\u001b[0;32m     94\u001b[0m \u001b[38;5;28;01mfor\u001b[39;00m loc \u001b[38;5;129;01min\u001b[39;00m locations:\n",
      "\u001b[0;32m     95\u001b[0m     fig\u001b[38;5;241m.\u001b[39madd_trace(go\u001b[38;5;241m.\u001b[39mBar(\n",
      "\u001b[0;32m     96\u001b[0m         x \u001b[38;5;241m=\u001b[39m measures,\n",
      "\u001b[1;32m---> 97\u001b[0m         y \u001b[38;5;241m=\u001b[39m \u001b[43mdf\u001b[49m\u001b[38;5;241;43m.\u001b[39;49m\u001b[43mloc\u001b[49m\u001b[43m[\u001b[49m\u001b[43mdf\u001b[49m\u001b[38;5;241;43m.\u001b[39;49m\u001b[43mindex\u001b[49m\u001b[43m \u001b[49m\u001b[38;5;241;43m==\u001b[39;49m\u001b[43m \u001b[49m\u001b[43mloc\u001b[49m\u001b[43m]\u001b[49m\u001b[38;5;241;43m.\u001b[39;49m\u001b[43mvalues\u001b[49m\u001b[43m[\u001b[49m\u001b[38;5;241;43m0\u001b[39;49m\u001b[43m]\u001b[49m,\n",
      "        fig \u001b[1;34m= Figure({\n",
      "    'data': [], 'layout': {'template': '...'}\n",
      "})\u001b[0m\u001b[1;34m\n",
      "        \u001b[0mgo \u001b[1;34m= <module 'plotly.graph_objects' from '/home/tom/mambaforge/lib/python3.10/site-packages/plotly/graph_objects/__init__.py'>\u001b[0m\u001b[1;34m\n",
      "        \u001b[0mmeasures \u001b[1;34m= ['Total Households']\u001b[0m\u001b[1;34m\n",
      "        \u001b[0mloc \u001b[1;34m= 'Choiseul'\u001b[0m\u001b[1;34m\n",
      "        \u001b[0mdf \u001b[1;34m= Empty DataFrame\n",
      "Columns: [Total Households]\n",
      "Index: []\u001b[0m\n",
      "\u001b[0;32m     98\u001b[0m         name \u001b[38;5;241m=\u001b[39m loc,\n",
      "\u001b[0;32m     99\u001b[0m     ))\n",
      "\u001b[0;32m    100\u001b[0m \u001b[38;5;66;03m# TODO create dynamic text with Location name and Variable\u001b[39;00m\n",
      "\u001b[0;32m    101\u001b[0m \u001b[38;5;66;03m# TODO add standout text\u001b[39;00m\n",
      "\u001b[0;32m    102\u001b[0m \u001b[38;5;66;03m# TODO should this be ordered? Hinders comparison. Can I order the dataset somewhere else?\u001b[39;00m\n",
      "\u001b[0;32m    103\u001b[0m fig\u001b[38;5;241m.\u001b[39mupdate_layout(barmode\u001b[38;5;241m=\u001b[39m\u001b[38;5;124m'\u001b[39m\u001b[38;5;124mgroup\u001b[39m\u001b[38;5;124m'\u001b[39m, xaxis_tickangle\u001b[38;5;241m=\u001b[39m\u001b[38;5;241m-\u001b[39m\u001b[38;5;241m45\u001b[39m, title_text\u001b[38;5;241m=\u001b[39mfigtext\n",
      "\u001b[0;32m    104\u001b[0m                   , xaxis\u001b[38;5;241m=\u001b[39m{\u001b[38;5;124m'\u001b[39m\u001b[38;5;124mcategoryorder\u001b[39m\u001b[38;5;124m'\u001b[39m:\u001b[38;5;124m'\u001b[39m\u001b[38;5;124mtotal descending\u001b[39m\u001b[38;5;124m'\u001b[39m})\n",
      "\n",
      "\u001b[1;31mIndexError\u001b[0m: index 0 is out of bounds for axis 0 with size 0\n",
      "\n",
      "input\n",
      "None\n",
      "Going in to function\n",
      "None\n",
      "input\n",
      "['Central Guadalcanal']\n",
      "Going in to function\n",
      "['Central Guadalcanal']\n",
      "input\n",
      "['Central Guadalcanal']\n",
      "Going in to function\n",
      "['Central Guadalcanal']\n",
      "\u001b[1;31m---------------------------------------------------------------------------\u001b[0m\n",
      "\u001b[1;31mIndexError\u001b[0m                                Traceback (most recent call last)\n",
      "File \u001b[1;32m~/git/SolomonIslandsDataMap/SolomonIslandsDataMap/dash_components.py:97\u001b[0m, in \u001b[0;36mgen_bar_plot\u001b[1;34m(\n",
      "    sol_geo=<SolomonIslandsDataMap.load_data.SolomonGeo object>,\n",
      "    geo_filter='Ward',\n",
      "    variable='Key Statistics',\n",
      "    measure='Total Households',\n",
      "    locations=['Central Guadalcanal'],\n",
      "    type_filter='Total'\n",
      ")\u001b[0m\n",
      "\u001b[0;32m     93\u001b[0m measures \u001b[38;5;241m=\u001b[39m \u001b[38;5;28mlist\u001b[39m(df\u001b[38;5;241m.\u001b[39mcolumns)\n",
      "\u001b[0;32m     94\u001b[0m \u001b[38;5;28;01mfor\u001b[39;00m loc \u001b[38;5;129;01min\u001b[39;00m locations:\n",
      "\u001b[0;32m     95\u001b[0m     fig\u001b[38;5;241m.\u001b[39madd_trace(go\u001b[38;5;241m.\u001b[39mBar(\n",
      "\u001b[0;32m     96\u001b[0m         x \u001b[38;5;241m=\u001b[39m measures,\n",
      "\u001b[1;32m---> 97\u001b[0m         y \u001b[38;5;241m=\u001b[39m \u001b[43mdf\u001b[49m\u001b[38;5;241;43m.\u001b[39;49m\u001b[43mloc\u001b[49m\u001b[43m[\u001b[49m\u001b[43mdf\u001b[49m\u001b[38;5;241;43m.\u001b[39;49m\u001b[43mindex\u001b[49m\u001b[43m \u001b[49m\u001b[38;5;241;43m==\u001b[39;49m\u001b[43m \u001b[49m\u001b[43mloc\u001b[49m\u001b[43m]\u001b[49m\u001b[38;5;241;43m.\u001b[39;49m\u001b[43mvalues\u001b[49m\u001b[43m[\u001b[49m\u001b[38;5;241;43m0\u001b[39;49m\u001b[43m]\u001b[49m,\n",
      "        fig \u001b[1;34m= Figure({\n",
      "    'data': [], 'layout': {'template': '...'}\n",
      "})\u001b[0m\u001b[1;34m\n",
      "        \u001b[0mgo \u001b[1;34m= <module 'plotly.graph_objects' from '/home/tom/mambaforge/lib/python3.10/site-packages/plotly/graph_objects/__init__.py'>\u001b[0m\u001b[1;34m\n",
      "        \u001b[0mmeasures \u001b[1;34m= ['Total Households']\u001b[0m\u001b[1;34m\n",
      "        \u001b[0mloc \u001b[1;34m= 'Central Guadalcanal'\u001b[0m\u001b[1;34m\n",
      "        \u001b[0mdf \u001b[1;34m= Empty DataFrame\n",
      "Columns: [Total Households]\n",
      "Index: []\u001b[0m\n",
      "\u001b[0;32m     98\u001b[0m         name \u001b[38;5;241m=\u001b[39m loc,\n",
      "\u001b[0;32m     99\u001b[0m     ))\n",
      "\u001b[0;32m    100\u001b[0m \u001b[38;5;66;03m# TODO create dynamic text with Location name and Variable\u001b[39;00m\n",
      "\u001b[0;32m    101\u001b[0m \u001b[38;5;66;03m# TODO add standout text\u001b[39;00m\n",
      "\u001b[0;32m    102\u001b[0m \u001b[38;5;66;03m# TODO should this be ordered? Hinders comparison. Can I order the dataset somewhere else?\u001b[39;00m\n",
      "\u001b[0;32m    103\u001b[0m fig\u001b[38;5;241m.\u001b[39mupdate_layout(barmode\u001b[38;5;241m=\u001b[39m\u001b[38;5;124m'\u001b[39m\u001b[38;5;124mgroup\u001b[39m\u001b[38;5;124m'\u001b[39m, xaxis_tickangle\u001b[38;5;241m=\u001b[39m\u001b[38;5;241m-\u001b[39m\u001b[38;5;241m45\u001b[39m, title_text\u001b[38;5;241m=\u001b[39mfigtext\n",
      "\u001b[0;32m    104\u001b[0m                   , xaxis\u001b[38;5;241m=\u001b[39m{\u001b[38;5;124m'\u001b[39m\u001b[38;5;124mcategoryorder\u001b[39m\u001b[38;5;124m'\u001b[39m:\u001b[38;5;124m'\u001b[39m\u001b[38;5;124mtotal descending\u001b[39m\u001b[38;5;124m'\u001b[39m})\n",
      "\n",
      "\u001b[1;31mIndexError\u001b[0m: index 0 is out of bounds for axis 0 with size 0\n",
      "\n",
      "input\n",
      "None\n",
      "Going in to function\n",
      "None\n",
      "input\n",
      "['Aimela']\n",
      "Going in to function\n",
      "['Aimela']\n"
     ]
    }
   ],
   "source": [
    "#| hide\n",
    "import nbdev; nbdev.nbdev_export()"
   ]
  }
 ],
 "metadata": {
  "kernelspec": {
   "display_name": "python3",
   "language": "python",
   "name": "python3"
  }
 },
 "nbformat": 4,
 "nbformat_minor": 4
}
