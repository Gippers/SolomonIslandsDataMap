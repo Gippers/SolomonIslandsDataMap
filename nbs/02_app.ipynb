{
 "cells": [
  {
   "cell_type": "markdown",
   "metadata": {},
   "source": [
    "# Generate Map\n",
    "\n",
    "> Class that generates the data map"
   ]
  },
  {
   "cell_type": "code",
   "execution_count": null,
   "metadata": {},
   "outputs": [],
   "source": [
    "#| default_exp app"
   ]
  },
  {
   "cell_type": "code",
   "execution_count": null,
   "metadata": {},
   "outputs": [],
   "source": [
    "#| export\n",
    "from nbdev.showdoc import *\n",
    "# TODO work out how to get around below hack\n",
    "try:\n",
    "    from SolomonIslandsDataMap.load_data import *\n",
    "    from SolomonIslandsDataMap.dash_components import *\n",
    "except: \n",
    "    from load_data import *\n",
    "    from dash_components import *\n",
    "import plotly.express as px\n",
    "import plotly.graph_objects as go\n",
    "import plotly.io as pio # Unless this is used graphs will not be dynamic?\n",
    "import json\n",
    "from git import Repo\n",
    "import pandas as pd\n",
    "import numpy as np\n",
    "from fastcore.test import *\n",
    "from dash import Dash, dcc, Output, Input, html, Patch, ctx  # pip install dash\n",
    "import dash_bootstrap_components as dbc    # pip install dash-bootstrap-components\n",
    "from dash_bootstrap_templates import load_figure_template\n",
    "import random\n",
    "import dash_mantine_components as dmc"
   ]
  },
  {
   "cell_type": "code",
   "execution_count": null,
   "metadata": {},
   "outputs": [],
   "source": [
    "# TODO - do a need a state class that tracks the state of different website objects to help with\n",
    "# updating etc. \n",
    "# TODO - not even state, should it be an object that contains everythin to track. Execpt if I am patching,\n",
    "# then the tracking in mem is unessary, so better to just track necesary values like: last changes card etc. "
   ]
  },
  {
   "cell_type": "markdown",
   "metadata": {},
   "source": [
    "## Load Data"
   ]
  },
  {
   "cell_type": "code",
   "execution_count": null,
   "metadata": {},
   "outputs": [],
   "source": [
    "#| export\n",
    "sol_geo = SolomonGeo.load_pickle(\"/testData/\")\n",
    "geo_df = sol_geo.geo_df"
   ]
  },
  {
   "cell_type": "code",
   "execution_count": null,
   "metadata": {},
   "outputs": [],
   "source": [
    "fig = define_map(sol_geo)"
   ]
  },
  {
   "cell_type": "code",
   "execution_count": null,
   "metadata": {},
   "outputs": [
    {
     "data": {
      "text/plain": [
       "()"
      ]
     },
     "execution_count": null,
     "metadata": {},
     "output_type": "execute_result"
    }
   ],
   "source": [
    "fig['frames']\n"
   ]
  },
  {
   "cell_type": "markdown",
   "metadata": {},
   "source": [
    "## Setup Dash Components"
   ]
  },
  {
   "cell_type": "code",
   "execution_count": null,
   "metadata": {},
   "outputs": [],
   "source": [
    "#| export\n",
    "# Build your components\n",
    "# FYI the best themes seem to be: [Darkly, Flatly, Minty, Slate, JOURNAL]\n",
    "app = Dash(__name__, external_stylesheets=[dbc.themes.MINTY])\n",
    "server = app.server\n",
    "load_figure_template(\"minty\")\n",
    "\n",
    "geos = geo_df.loc[:, 'agg'].unique()\n",
    "cen_vars = sol_geo.census_vars\n",
    "mytitle = dcc.Markdown(children=\"## \" + cen_vars[-1] + \" by \" + geos[0]) # TODO This needs a default title\n",
    "map_graph = dcc.Graph(figure=define_map(sol_geo), selectedData=None)\n",
    "# TODO entire accordian will need to be the child\n",
    "cards = dbc.Accordion(children= \n",
    "        card_list(sol_geo, \"Population - Total\", sol_geo.geo_levels[0], sol_geo.census_vars[-1]),\n",
    "        always_open=True,\n",
    "        class_name = \"accordion-header\",\n",
    "    )\n",
    "               \n",
    "\n",
    "#dropdown_geo = dbc.Dropdown(options=geos,\n",
    "#                        value=geos[0],  # initial value displayed when page first loads\n",
    "#                        clearable=False)\n",
    "dropdown_geo = dmc.SegmentedControl(\n",
    "                            id=\"segmented_geo\",\n",
    "                            value=geos[0],\n",
    "                            data=geos,\n",
    "                             orientation=\"vertical\",\n",
    "                            color = 'gray',\n",
    "                            fullWidth = True,\n",
    "                            # TODO - think there is a version issue with class_name on the server, need to fix\n",
    "                            #className=\"btn-group btn-primary\",\n",
    "                            #class_name = \"btn btn-primary\"\n",
    "                            #color = dmc.theme.DEFAULT_COLORS[\"teal\"][3]\n",
    "    # TODO this color functionality is beyond stupid...\n",
    "    # TODO definitely change to dbc, even though more complicated get consistent theme.s..\n",
    "                        ) # TODO consider redoing as theme is not consistent with this library\n",
    "\n",
    "control_type = dmc.SegmentedControl(\n",
    "                        id=\"segmented_type\",\n",
    "                        value=sol_geo.data_type[0],\n",
    "                        data=sol_geo.data_type,\n",
    "                        orientation=\"vertical\",\n",
    "                        color = 'gray',\n",
    "                        fullWidth = True,)\n",
    "'''\n",
    "dropdown_geo = dbc.ButtonGroup(\n",
    "    [\n",
    "        dbc.RadioItems(\n",
    "            id=\"radios\",\n",
    "            className=\"btn-group\",\n",
    "            inputClassName=\"btn-check\",\n",
    "            labelClassName=\"btn btn-outline-primary\",\n",
    "            labelCheckedClassName=\"active\",\n",
    "            options=[\n",
    "                {\"label\": geos[0], \"value\": geos[0]},\n",
    "                {\"label\": geos[1], \"value\": geos[1]},\n",
    "                {\"label\": geos[2], \"value\": geos[2]},\n",
    "            ],\n",
    "            value=geos[0],\n",
    "        ),\n",
    "        #html.Div(id=\"output\"),\n",
    "    ],\n",
    "    className=\"radio-group\",\n",
    "    vertical = True,\n",
    ")'''\n",
    "dropdown_var = dcc.Dropdown(options=cen_vars,\n",
    "                        value=cen_vars[-1],  # initial value displayed when page first loads\n",
    "                        clearable=False,)\n",
    "\n",
    "navbar = dbc.NavbarSimple(\n",
    "    children=[\n",
    "        dbc.NavItem(dbc.NavLink(\"Census Data\", href=\"#\")),\n",
    "        dbc.DropdownMenu(\n",
    "            children=[\n",
    "                dbc.DropdownMenuItem(\"More pages coming soon\", header=True),\n",
    "                dbc.DropdownMenuItem(\"Population Projection\", href=\"#\"),\n",
    "            ],\n",
    "            nav=True,\n",
    "            in_navbar=True,\n",
    "            label=\"More\",\n",
    "        ),\n",
    "    ],\n",
    "    brand=\"Solomon Islands Data Map\",\n",
    "    brand_href=\"#\",\n",
    "    color=\"primary\",\n",
    "    #dark=True,\n",
    "    class_name=\"navbar navbar-expand-lg bg-primary\"\n",
    ")\n"
   ]
  },
  {
   "cell_type": "markdown",
   "metadata": {},
   "source": [
    "## Create a sidebar\n",
    "The sidebar will "
   ]
  },
  {
   "cell_type": "code",
   "execution_count": null,
   "metadata": {},
   "outputs": [],
   "source": [
    "#| export\n",
    "# Note, for now I am not using a sidebar style as I do not want to fix the width\n",
    "SIDEBAR_STYLE = {\n",
    "    \"position\": \"fixed\",\n",
    "    \"top\": 0,\n",
    "    \"left\": 0,\n",
    "    \"bottom\": 0,\n",
    "    \"width\": \"24rem\",\n",
    "    \"padding\": \"2rem 1rem\",\n",
    "    #\"background-color\": \"#f8f9fa\",\n",
    "}\n",
    "\n",
    "\n",
    "sidebar = html.Div(\n",
    "    [\n",
    "        html.H2(\"Filters\"),\n",
    "        html.Hr(),\n",
    "        dbc.Nav(\n",
    "            [\n",
    "                html.P(\"Geography\"), # TODO add a tooltip button here with link to geo explanation\n",
    "                dropdown_geo,\n",
    "                html.Br(),\n",
    "                html.P(\"Data\"), # TODO add a little info button here with link to geo explanation\n",
    "                dropdown_var,\n",
    "                html.Br(),\n",
    "                html.P(\"Number or Proportion\"), \n",
    "                control_type,\n",
    "                #html.Br(),\n",
    "                #dcc.Dropdown(id = 'three')\n",
    "\n",
    "            ],\n",
    "            vertical=True,\n",
    "            pills=True,\n",
    "        ),\n",
    "    ],\n",
    "    #style=SIDEBAR_STYLE,\n",
    ")\n"
   ]
  },
  {
   "cell_type": "markdown",
   "metadata": {},
   "source": [
    "## Customize the Layout"
   ]
  },
  {
   "cell_type": "code",
   "execution_count": null,
   "metadata": {},
   "outputs": [],
   "source": [
    "#| export\n",
    "app.layout = dbc.Container([\n",
    "                dbc.Row([\n",
    "                    navbar\n",
    "                ]),\n",
    "                dbc.Row(\n",
    "                    [dbc.Col(sidebar, width = 2),\n",
    "                    dbc.Col([mytitle,\n",
    "                             map_graph,\n",
    "                            dbc.Row([cards])\n",
    "                            ], width = 10)#, style = {'margin-left':'15px', 'margin-top':'7px', 'margin-right':'15px'})\n",
    "                     ], justify = 'center'),                    \n",
    "                ], fluid = True)"
   ]
  },
  {
   "cell_type": "markdown",
   "metadata": {},
   "source": [
    "## Build callbacks to create interaction"
   ]
  },
  {
   "cell_type": "code",
   "execution_count": null,
   "metadata": {},
   "outputs": [],
   "source": [
    "#| export\n",
    "@app.callback(\n",
    "    Output(cards, 'children'),\n",
    "    # TODO - make this a Row object with children, then use function to recontruct\n",
    "    # a group of them\n",
    "    Input(map_graph, 'clickData'),\n",
    "    prevent_initial_call=True\n",
    ")\n",
    "def update_kpis(clickData):\n",
    "    # TODO - I need to know the current variable selection in order to make this selection correct.\n",
    "    # TODO - I also need to reset this when the filter is changed\n",
    "    # TODO - This callback should be triggered by the main callback https://dash.plotly.com/advanced-callbacks see callbacks as an indirect\n",
    "    # result section\n",
    "    # TODO add a hidden state tracker - update var and geo based on this\n",
    "    # TODO workout how to make multi point selection work - hard todo - might need to find open source web example\n",
    "    \n",
    "    if clickData is None:\n",
    "        # TODO when none, maybe in future return current saved state, for now doing total\n",
    "        # TODO add a heading and maybe put in an acordian\n",
    "        new_cards = card_list(sol_geo, \n",
    "                              \"Population - Total\",\n",
    "                              sol_geo.geo_levels[0], \n",
    "                              sol_geo.census_vars[-1])\n",
    "        return new_cards\n",
    "    else:\n",
    "        # The locations are list of dictionaries\n",
    "        locations = list(map(lambda x: x['location'], clickData['points']))\n",
    "        print(locations)\n",
    "        # filter dataframe by store location, then sum all orders of that store.\n",
    "        new_cards = card_list(sol_geo, \n",
    "                              \"Population - \" + \", \".join(locations),\n",
    "                              sol_geo.geo_levels[0], \n",
    "                              sol_geo.census_vars[-1], \n",
    "                              locations)\n",
    "        \n",
    "        # get all orders from this stor location \n",
    "\n",
    "        return new_cards"
   ]
  },
  {
   "cell_type": "markdown",
   "metadata": {},
   "source": [
    "#| hide\n",
    "show_doc(update_kpis)"
   ]
  },
  {
   "cell_type": "code",
   "execution_count": null,
   "metadata": {},
   "outputs": [],
   "source": [
    "#| export\n",
    "# Callback allows components to interact\n",
    "\n",
    "# TODO put title in it's own callback\n",
    "@app.callback(\n",
    "    Output(map_graph, 'figure'),\n",
    "    Output(mytitle, 'children'),\n",
    "    Input(dropdown_geo, 'value'),\n",
    "    Input(control_type, 'value'),\n",
    "    Input(dropdown_var, 'value'),\n",
    "    Input(map_graph, \"clickData\"),\n",
    "    allow_duplicate=True,\n",
    "    prevent_initial_call=True\n",
    ")\n",
    "def update_geography(geo_input:str, # User input from the geography dropdown\n",
    "                     data_type:str, # User input of type of data\n",
    "                     census_var:str, # User input for the census variable\n",
    "                     map_selection:dict, # A dictionary of selected points on the map\n",
    "              )->(type(go.Figure()), str): # Returns a graph object figure after being updated and the dynamic title\n",
    "    '''\n",
    "    Updates the focus census variable or geography dispalayed on the map\n",
    "    '''\n",
    "    patched_figure = Patch()\n",
    "    button_clicked = ctx.triggered_id\n",
    "    print(dropdown_geo)\n",
    "    if button_clicked == dropdown_geo.id:\n",
    "        # Update disaplayed geography based on \n",
    "        for geo in sol_geo.geo_levels:\n",
    "            i = np.where(sol_geo.geo_levels == geo)[0][0] # Tracks the trace number\n",
    "            patched_figure['data'][i]['visible'] = geo_input == geo\n",
    "            print(geo_input == geo)\n",
    "    elif button_clicked == control_type.id:\n",
    "        # Update the type of data displayed\n",
    "        # TODO currently displayed data will need to be tracked. Can't be tracked in object, use hidden \n",
    "        # TODO will need to track this update also in var dropdown clicked\n",
    "        # TODO will also need to track current census_var in here\n",
    "        # TODO this also needs to trigger cards\n",
    "        print(data_type)\n",
    "        for geo in sol_geo.geo_levels:\n",
    "            i = np.where(sol_geo.geo_levels == geo)[0][0] # Tracks the trace number\n",
    "            ar = sol_geo.get_df(agg_filter = geo, type_filter=data_type, var_filter = 'Total Households').values\n",
    "            ar = ar.reshape((ar.shape[0],))\n",
    "            patched_figure['data'][i]['z'] = ar\n",
    "\n",
    "    elif button_clicked == dropdown_var.id:\n",
    "        # Update the z values in map to the data for the requested\n",
    "        # census variable\n",
    "        \n",
    "        for geo in sol_geo.geo_levels:\n",
    "        # Ar updates the z value ie. data disaplyed each time\n",
    "        # TODO this is fairly inefficient, as we are processing each time\n",
    "        # Maybe faster framework like polars could help? or caching but would require a lot of caching\n",
    "            i = np.where(sol_geo.geo_levels == geo)[0][0] # Tracks the trace number\n",
    "            ar = sol_geo.get_df(agg_filter = geo, var_filter = census_var).values\n",
    "            ar = ar.reshape((ar.shape[0],))\n",
    "            patched_figure['data'][i]['z'] = ar\n",
    "\n",
    "    # returned objects are assigned to the component property of the Output\n",
    "    # After updating fileter, we always reset map selection \n",
    "    # TODO - potentially not with census updates though...\n",
    "    #update_kpis(selectedData = map_selection)\n",
    "\n",
    "    return patched_figure, '## Solomon Islands Data map - ' + geo_input"
   ]
  },
  {
   "cell_type": "markdown",
   "metadata": {},
   "source": [
    "On click, update the contents of the kpi's"
   ]
  },
  {
   "cell_type": "code",
   "execution_count": null,
   "metadata": {},
   "outputs": [
    {
     "data": {
      "text/markdown": [
       "---\n",
       "\n",
       "[source](https://github.com/Gippers/SolomonIslandsDataMap/blob/main/SolomonIslandsDataMap/app.py#L231){target=\"_blank\" style=\"float:right; font-size:smaller\"}\n",
       "\n",
       "### update_geography\n",
       "\n",
       ">      update_geography (geo_input:str, data_type:str, census_var:str,\n",
       ">                        map_selection:dict)\n",
       "\n",
       "Updates the focus census variable or geography dispalayed on the map\n",
       "\n",
       "|    | **Type** | **Details** |\n",
       "| -- | -------- | ----------- |\n",
       "| geo_input | str | User input from the geography dropdown |\n",
       "| data_type | str | User input of type of data |\n",
       "| census_var | str | User input for the census variable |\n",
       "| map_selection | dict | A dictionary of selected points on the map |\n",
       "| **Returns** | **(<class 'plotly.graph_objs._figure.Figure'>, <class 'str'>)** | **Returns a graph object figure after being updated and the dynamic title** |"
      ],
      "text/plain": [
       "---\n",
       "\n",
       "[source](https://github.com/Gippers/SolomonIslandsDataMap/blob/main/SolomonIslandsDataMap/app.py#L231){target=\"_blank\" style=\"float:right; font-size:smaller\"}\n",
       "\n",
       "### update_geography\n",
       "\n",
       ">      update_geography (geo_input:str, data_type:str, census_var:str,\n",
       ">                        map_selection:dict)\n",
       "\n",
       "Updates the focus census variable or geography dispalayed on the map\n",
       "\n",
       "|    | **Type** | **Details** |\n",
       "| -- | -------- | ----------- |\n",
       "| geo_input | str | User input from the geography dropdown |\n",
       "| data_type | str | User input of type of data |\n",
       "| census_var | str | User input for the census variable |\n",
       "| map_selection | dict | A dictionary of selected points on the map |\n",
       "| **Returns** | **(<class 'plotly.graph_objs._figure.Figure'>, <class 'str'>)** | **Returns a graph object figure after being updated and the dynamic title** |"
      ]
     },
     "execution_count": null,
     "metadata": {},
     "output_type": "execute_result"
    }
   ],
   "source": [
    "#| hide\n",
    "show_doc(update_geography)"
   ]
  },
  {
   "cell_type": "code",
   "execution_count": null,
   "metadata": {},
   "outputs": [],
   "source": [
    "# TODO Do the title in one callback that listens for changes to either of them"
   ]
  },
  {
   "cell_type": "code",
   "execution_count": null,
   "metadata": {},
   "outputs": [
    {
     "data": {
      "text/plain": [
       "(0,)"
      ]
     },
     "execution_count": null,
     "metadata": {},
     "output_type": "execute_result"
    }
   ],
   "source": [
    "ar = sol_geo.get_df(agg_filter = 'province', var_filter = 'female_pop').values\n",
    "ar = ar.reshape((ar.shape[0],))\n",
    "ar.shape"
   ]
  },
  {
   "cell_type": "code",
   "execution_count": null,
   "metadata": {},
   "outputs": [
    {
     "name": "stdout",
     "output_type": "stream",
     "text": [
      "False\n",
      "True\n",
      "False\n"
     ]
    }
   ],
   "source": [
    "#patched_figure = Patch()\n",
    "user_input = 'Constituency'\n",
    "for geo in sol_geo.geo_levels:\n",
    "    i = np.where(sol_geo.geo_levels == geo)[0][0] # Tracks the trace number\n",
    "    fig['data'][i]['visible'] = user_input == geo\n",
    "    print(user_input == geo)"
   ]
  },
  {
   "cell_type": "code",
   "execution_count": null,
   "metadata": {},
   "outputs": [],
   "source": [
    "# TODO undo hardcoding\n",
    "test_eq(fig['data'][0]['visible'], False)\n",
    "test_eq(fig['data'][1]['visible'], True)\n",
    "test_eq(fig['data'][2]['visible'], False)"
   ]
  },
  {
   "cell_type": "markdown",
   "metadata": {},
   "source": [
    "### Update the colour columns based on data selection"
   ]
  },
  {
   "cell_type": "code",
   "execution_count": null,
   "metadata": {},
   "outputs": [],
   "source": [
    "# TODO the above demonstrates that we can stack mutliple graphs and toggle the visibility and potentially z value in order to \n",
    "# quickly update our graph"
   ]
  },
  {
   "cell_type": "markdown",
   "metadata": {},
   "source": [
    "fig = px.choropleth_mapbox(sol_geo.get_df(agg_filter = 'ward'),\n",
    "        # TODO - may need to use old version of mapping to get visibility hack to work..\n",
    "                        #geojson = str(repo.working_tree_dir) + \"/assets/sol_geo.json\",\n",
    "                            geojson=sol_geo.get_geojson(agg_filter = 'ward'),\n",
    "                           locations=sol_geo.get_df(agg_filter = 'ward').index,\n",
    "                               color = 'total_pop',\n",
    "                           color_continuous_scale=\"deep\",\n",
    "                               mapbox_style = 'carto-positron',\n",
    "                               opacity = 0.8,\n",
    "                        zoom = 5,\n",
    "                        center={\"lat\": -9.565766, \"lon\": 162.012453})\n",
    "print(fig[\"data\"][0][\"z\"])"
   ]
  },
  {
   "cell_type": "markdown",
   "metadata": {},
   "source": [
    "## Run the dash app"
   ]
  },
  {
   "cell_type": "code",
   "execution_count": null,
   "metadata": {},
   "outputs": [
    {
     "data": {
      "text/html": [
       "\n",
       "        <iframe\n",
       "            width=\"100%\"\n",
       "            height=\"650\"\n",
       "            src=\"http://127.0.0.1:3941/\"\n",
       "            frameborder=\"0\"\n",
       "            allowfullscreen\n",
       "            \n",
       "        ></iframe>\n",
       "        "
      ],
      "text/plain": [
       "<IPython.lib.display.IFrame>"
      ]
     },
     "metadata": {},
     "output_type": "display_data"
    }
   ],
   "source": [
    "#| export\n",
    "#| server\n",
    "# Run app\n",
    "if __name__=='__main__':\n",
    "    try:\n",
    "        app.run_server(debug=True, port = random.randint(1000, 9999)) # Random int mitigates port collision\n",
    "    except:\n",
    "        print(\"Cannot run server here\")"
   ]
  },
  {
   "cell_type": "code",
   "execution_count": null,
   "metadata": {},
   "outputs": [
    {
     "name": "stdout",
     "output_type": "stream",
     "text": [
      "SegmentedControl(id='segmented_geo', color='gray', data=array(['Province', 'Constituency', 'Ward'], dtype=object), fullWidth=True, orientation='vertical', value='Province')\n",
      "proportion\n",
      "\u001b[1;31m---------------------------------------------------------------------------\u001b[0m\n",
      "\u001b[1;31mSchemaLengthValidationError\u001b[0m               Traceback (most recent call last)\n",
      "File \u001b[1;32m~/mambaforge/lib/python3.10/site-packages/flask/app.py:1823\u001b[0m, in \u001b[0;36mFlask.full_dispatch_request\u001b[1;34m(self=<Flask '__main__'>)\u001b[0m\n",
      "\u001b[0;32m   1821\u001b[0m     rv \u001b[38;5;241m=\u001b[39m \u001b[38;5;28mself\u001b[39m\u001b[38;5;241m.\u001b[39mpreprocess_request()\n",
      "\u001b[0;32m   1822\u001b[0m     \u001b[38;5;28;01mif\u001b[39;00m rv \u001b[38;5;129;01mis\u001b[39;00m \u001b[38;5;28;01mNone\u001b[39;00m:\n",
      "\u001b[1;32m-> 1823\u001b[0m         rv \u001b[38;5;241m=\u001b[39m \u001b[38;5;28;43mself\u001b[39;49m\u001b[38;5;241;43m.\u001b[39;49m\u001b[43mdispatch_request\u001b[49m\u001b[43m(\u001b[49m\u001b[43m)\u001b[49m\n",
      "        rv \u001b[1;34m= None\u001b[0m\u001b[1;34m\n",
      "        \u001b[0mself \u001b[1;34m= <Flask '__main__'>\u001b[0m\n",
      "\u001b[0;32m   1824\u001b[0m \u001b[38;5;28;01mexcept\u001b[39;00m \u001b[38;5;167;01mException\u001b[39;00m \u001b[38;5;28;01mas\u001b[39;00m e:\n",
      "\u001b[0;32m   1825\u001b[0m     rv \u001b[38;5;241m=\u001b[39m \u001b[38;5;28mself\u001b[39m\u001b[38;5;241m.\u001b[39mhandle_user_exception(e)\n",
      "\n",
      "File \u001b[1;32m~/mambaforge/lib/python3.10/site-packages/flask/app.py:1799\u001b[0m, in \u001b[0;36mFlask.dispatch_request\u001b[1;34m(self=<Flask '__main__'>)\u001b[0m\n",
      "\u001b[0;32m   1797\u001b[0m \u001b[38;5;66;03m# otherwise dispatch to the handler for that endpoint\u001b[39;00m\n",
      "\u001b[0;32m   1798\u001b[0m view_args: t\u001b[38;5;241m.\u001b[39mDict[\u001b[38;5;28mstr\u001b[39m, t\u001b[38;5;241m.\u001b[39mAny] \u001b[38;5;241m=\u001b[39m req\u001b[38;5;241m.\u001b[39mview_args  \u001b[38;5;66;03m# type: ignore[assignment]\u001b[39;00m\n",
      "\u001b[1;32m-> 1799\u001b[0m \u001b[38;5;28;01mreturn\u001b[39;00m \u001b[38;5;28;43mself\u001b[39;49m\u001b[38;5;241;43m.\u001b[39;49m\u001b[43mensure_sync\u001b[49m\u001b[43m(\u001b[49m\u001b[38;5;28;43mself\u001b[39;49m\u001b[38;5;241;43m.\u001b[39;49m\u001b[43mview_functions\u001b[49m\u001b[43m[\u001b[49m\u001b[43mrule\u001b[49m\u001b[38;5;241;43m.\u001b[39;49m\u001b[43mendpoint\u001b[49m\u001b[43m]\u001b[49m\u001b[43m)\u001b[49m\u001b[43m(\u001b[49m\u001b[38;5;241;43m*\u001b[39;49m\u001b[38;5;241;43m*\u001b[39;49m\u001b[43mview_args\u001b[49m\u001b[43m)\u001b[49m\n",
      "        rule \u001b[1;34m= <Rule '/_dash-update-component' (POST, OPTIONS) -> /_dash-update-component>\u001b[0m\u001b[1;34m\n",
      "        \u001b[0mview_args \u001b[1;34m= {}\u001b[0m\u001b[1;34m\n",
      "        \u001b[0mself.view_functions[rule.endpoint] \u001b[1;34m= <bound method Dash.dispatch of <dash.dash.Dash object>>\u001b[0m\u001b[1;34m\n",
      "        \u001b[0mself \u001b[1;34m= <Flask '__main__'>\u001b[0m\u001b[1;34m\n",
      "        \u001b[0mself.view_functions \u001b[1;34m= {'static': <function Flask.__init__.<locals>.<lambda>>, '_dash_assets.static': <bound method Scaffold.send_static_file of <Blueprint '_dash_assets'>>, '/_dash-component-suites/<string:package_name>/<path:fingerprinted_path>': <bound method Dash.serve_component_suites of <dash.dash.Dash object>>, '/_dash-layout': <bound method Dash.serve_layout of <dash.dash.Dash object>>, '/_dash-dependencies': <bound method Dash.dependencies of <dash.dash.Dash object>>, '/_dash-update-component': <bound method Dash.dispatch of <dash.dash.Dash object>>, '/_reload-hash': <bound method Dash.serve_reload_hash of <dash.dash.Dash object>>, '/_favicon.ico': <function Dash._serve_default_favicon>, '/': <bound method Dash.index of <dash.dash.Dash object>>, '/_alive_4495f0f7-6913-4fd2-8163-f29598fdf829': <function JupyterDash.serve_alive>, '/<path:path>': <bound method Dash.index of <dash.dash.Dash object>>}\u001b[0m\u001b[1;34m\n",
      "        \u001b[0mrule.endpoint \u001b[1;34m= '/_dash-update-component'\u001b[0m\n",
      "\n",
      "File \u001b[1;32m~/mambaforge/lib/python3.10/site-packages/dash/dash.py:1297\u001b[0m, in \u001b[0;36mDash.dispatch\u001b[1;34m(self=<dash.dash.Dash object>)\u001b[0m\n",
      "\u001b[0;32m   1294\u001b[0m ctx \u001b[38;5;241m=\u001b[39m copy_context()\n",
      "\u001b[0;32m   1295\u001b[0m \u001b[38;5;66;03m# noinspection PyArgumentList\u001b[39;00m\n",
      "\u001b[0;32m   1296\u001b[0m response\u001b[38;5;241m.\u001b[39mset_data(\n",
      "\u001b[1;32m-> 1297\u001b[0m     \u001b[43mctx\u001b[49m\u001b[38;5;241;43m.\u001b[39;49m\u001b[43mrun\u001b[49m\u001b[43m(\u001b[49m\n",
      "        response \u001b[1;34m= <Response 0 bytes [200 OK]>\u001b[0m\u001b[1;34m\n",
      "        \u001b[0mctx \u001b[1;34m= <_contextvars.Context object>\u001b[0m\u001b[1;34m\n",
      "        \u001b[0mfunc \u001b[1;34m= <function update_geography>\u001b[0m\u001b[1;34m\n",
      "        \u001b[0margs \u001b[1;34m= ['Province', 'proportion', 'Main source of household income in last 12 months: Other source', None]\u001b[0m\u001b[1;34m\n",
      "        \u001b[0moutputs_list \u001b[1;34m= [{'id': '85776e9a-dd84-f39e-7154-5a137a1d5006', 'property': 'figure'}, {'id': 'd71037d1-b83e-90ec-17e0-aa3c03983ca8', 'property': 'children'}, {'id': '85776e9a-dd84-f39e-7154-5a137a1d5006', 'property': 'clickData'}]\u001b[0m\u001b[1;34m\n",
      "        \u001b[0mself._background_manager \u001b[1;34m= None\u001b[0m\u001b[1;34m\n",
      "        \u001b[0mself \u001b[1;34m= <dash.dash.Dash object>\u001b[0m\u001b[1;34m\n",
      "        \u001b[0mg \u001b[1;34m= {'inputs_list': [{'id': 'segmented_geo', 'property': 'value', 'value': 'Province'}, {'id': 'segmented_type', 'property': 'value', 'value': 'proportion'}, {'id': 'f7b0b7d2-cda8-056c-3d15-eef738c1962e', 'property': 'value', 'value': 'Main source of household income in last 12 months: Other source'}, {'id': '85776e9a-dd84-f39e-7154-5a137a1d5006', 'property': 'clickData'}], 'states_list': [], 'outputs_list': [{'id': '85776e9a-dd84-f39e-7154-5a137a1d5006', 'property': 'figure'}, {'id': 'd71037d1-b83e-90ec-17e0-aa3c03983ca8', 'property': 'children'}, {'id': '85776e9a-dd84-f39e-7154-5a137a1d5006', 'property': 'clickData'}], 'input_values': {'segmented_geo.value': 'Province', 'segmented_type.value': 'proportion', 'f7b0b7d2-cda8-056c-3d15-eef738c1962e.value': 'Main source of household income in last 12 months: Other source', '85776e9a-dd84-f39e-7154-5a137a1d5006.clickData': None}, 'state_values': {}, 'triggered_inputs': [{'prop_id': 'segmented_type.value', 'value': 'proportion'}], 'dash_response': <Response 0 bytes [200 OK]>, 'background_callback_manager': None, 'ignore_register_page': None, 'args_grouping': [{'id': 'segmented_geo', 'property': 'value', 'value': 'Province', 'str_id': 'segmented_geo', 'triggered': False}, {'id': 'segmented_type', 'property': 'value', 'value': 'proportion', 'str_id': 'segmented_type', 'triggered': True}, {'id': 'f7b0b7d2-cda8-056c-3d15-eef738c1962e', 'property': 'value', 'value': 'Main source of household income in last 12 months: Other source', 'str_id': 'f7b0b7d2-cda8-056c-3d15-eef738c1962e', 'triggered': False}, {'id': '85776e9a-dd84-f39e-7154-5a137a1d5006', 'property': 'clickData', 'value': None, 'str_id': '85776e9a-dd84-f39e-7154-5a137a1d5006', 'triggered': False}], 'using_args_grouping': False, 'outputs_grouping': [{'id': '85776e9a-dd84-f39e-7154-5a137a1d5006', 'property': 'figure'}, {'id': 'd71037d1-b83e-90ec-17e0-aa3c03983ca8', 'property': 'children'}, {'id': '85776e9a-dd84-f39e-7154-5a137a1d5006', 'property': 'clickData'}], 'using_outputs_grouping': False}\u001b[0m\n",
      "\u001b[0;32m   1298\u001b[0m \u001b[43m        \u001b[49m\u001b[43mfunctools\u001b[49m\u001b[38;5;241;43m.\u001b[39;49m\u001b[43mpartial\u001b[49m\u001b[43m(\u001b[49m\n",
      "\u001b[0;32m   1299\u001b[0m \u001b[43m            \u001b[49m\u001b[43mfunc\u001b[49m\u001b[43m,\u001b[49m\n",
      "\u001b[0;32m   1300\u001b[0m \u001b[43m            \u001b[49m\u001b[38;5;241;43m*\u001b[39;49m\u001b[43margs\u001b[49m\u001b[43m,\u001b[49m\n",
      "\u001b[0;32m   1301\u001b[0m \u001b[43m            \u001b[49m\u001b[43moutputs_list\u001b[49m\u001b[38;5;241;43m=\u001b[39;49m\u001b[43moutputs_list\u001b[49m\u001b[43m,\u001b[49m\n",
      "\u001b[0;32m   1302\u001b[0m \u001b[43m            \u001b[49m\u001b[43mlong_callback_manager\u001b[49m\u001b[38;5;241;43m=\u001b[39;49m\u001b[38;5;28;43mself\u001b[39;49m\u001b[38;5;241;43m.\u001b[39;49m\u001b[43m_background_manager\u001b[49m\u001b[43m,\u001b[49m\n",
      "\u001b[0;32m   1303\u001b[0m \u001b[43m            \u001b[49m\u001b[43mcallback_context\u001b[49m\u001b[38;5;241;43m=\u001b[39;49m\u001b[43mg\u001b[49m\u001b[43m,\u001b[49m\n",
      "\u001b[0;32m   1304\u001b[0m \u001b[43m        \u001b[49m\u001b[43m)\u001b[49m\n",
      "\u001b[0;32m   1305\u001b[0m \u001b[43m    \u001b[49m\u001b[43m)\u001b[49m\n",
      "\u001b[0;32m   1306\u001b[0m )\n",
      "\u001b[0;32m   1307\u001b[0m \u001b[38;5;28;01mreturn\u001b[39;00m response\n",
      "\n",
      "File \u001b[1;32m~/mambaforge/lib/python3.10/site-packages/dash/_callback.py:452\u001b[0m, in \u001b[0;36mregister_callback.<locals>.wrap_func.<locals>.add_context\u001b[1;34m(\n",
      "    *args=('Province', 'proportion', 'Main source of household income in last 12 months: Other source', None),\n",
      "    **kwargs={}\n",
      ")\u001b[0m\n",
      "\u001b[0;32m    449\u001b[0m         output_value \u001b[38;5;241m=\u001b[39m \u001b[38;5;28mlist\u001b[39m(output_value)\n",
      "\u001b[0;32m    451\u001b[0m     \u001b[38;5;66;03m# Flatten grouping and validate grouping structure\u001b[39;00m\n",
      "\u001b[1;32m--> 452\u001b[0m     flat_output_values \u001b[38;5;241m=\u001b[39m \u001b[43mflatten_grouping\u001b[49m\u001b[43m(\u001b[49m\u001b[43moutput_value\u001b[49m\u001b[43m,\u001b[49m\u001b[43m \u001b[49m\u001b[43moutput\u001b[49m\u001b[43m)\u001b[49m\n",
      "        output_value \u001b[1;34m= [<write-only dash.Patch object at []>, '## Solomon Islands Data map - Province']\u001b[0m\u001b[1;34m\n",
      "        \u001b[0moutput \u001b[1;34m= [<Output `85776e9a-dd84-f39e-7154-5a137a1d5006.figure`>, <Output `d71037d1-b83e-90ec-17e0-aa3c03983ca8.children`>, <Output `85776e9a-dd84-f39e-7154-5a137a1d5006.clickData`>]\u001b[0m\n",
      "\u001b[0;32m    454\u001b[0m _validate\u001b[38;5;241m.\u001b[39mvalidate_multi_return(\n",
      "\u001b[0;32m    455\u001b[0m     output_spec, flat_output_values, callback_id\n",
      "\u001b[0;32m    456\u001b[0m )\n",
      "\u001b[0;32m    458\u001b[0m component_ids \u001b[38;5;241m=\u001b[39m collections\u001b[38;5;241m.\u001b[39mdefaultdict(\u001b[38;5;28mdict\u001b[39m)\n",
      "\n",
      "File \u001b[1;32m~/mambaforge/lib/python3.10/site-packages/dash/_grouping.py:35\u001b[0m, in \u001b[0;36mflatten_grouping\u001b[1;34m(\n",
      "    grouping=[<write-only dash.Patch object at []>, '## Solomon Islands Data map - Province'],\n",
      "    schema=[<Output `85776e9a-dd84-f39e-7154-5a137a1d5006.figure`>, <Output `d71037d1-b83e-90ec-17e0-aa3c03983ca8.children`>, <Output `85776e9a-dd84-f39e-7154-5a137a1d5006.clickData`>]\n",
      ")\u001b[0m\n",
      "\u001b[0;32m     33\u001b[0m     schema \u001b[38;5;241m=\u001b[39m grouping\n",
      "\u001b[0;32m     34\u001b[0m \u001b[38;5;28;01melse\u001b[39;00m:\n",
      "\u001b[1;32m---> 35\u001b[0m     \u001b[43mvalidate_grouping\u001b[49m\u001b[43m(\u001b[49m\u001b[43mgrouping\u001b[49m\u001b[43m,\u001b[49m\u001b[43m \u001b[49m\u001b[43mschema\u001b[49m\u001b[43m)\u001b[49m\n",
      "        schema \u001b[1;34m= [<Output `85776e9a-dd84-f39e-7154-5a137a1d5006.figure`>, <Output `d71037d1-b83e-90ec-17e0-aa3c03983ca8.children`>, <Output `85776e9a-dd84-f39e-7154-5a137a1d5006.clickData`>]\u001b[0m\u001b[1;34m\n",
      "        \u001b[0mgrouping \u001b[1;34m= [<write-only dash.Patch object at []>, '## Solomon Islands Data map - Province']\u001b[0m\n",
      "\u001b[0;32m     37\u001b[0m \u001b[38;5;28;01mif\u001b[39;00m \u001b[38;5;28misinstance\u001b[39m(schema, (\u001b[38;5;28mtuple\u001b[39m, \u001b[38;5;28mlist\u001b[39m)):\n",
      "\u001b[0;32m     38\u001b[0m     \u001b[38;5;28;01mreturn\u001b[39;00m [\n",
      "\u001b[0;32m     39\u001b[0m         g\n",
      "\u001b[0;32m     40\u001b[0m         \u001b[38;5;28;01mfor\u001b[39;00m group_el, schema_el \u001b[38;5;129;01min\u001b[39;00m \u001b[38;5;28mzip\u001b[39m(grouping, schema)\n",
      "\u001b[0;32m     41\u001b[0m         \u001b[38;5;28;01mfor\u001b[39;00m g \u001b[38;5;129;01min\u001b[39;00m flatten_grouping(group_el, schema_el)\n",
      "\u001b[0;32m     42\u001b[0m     ]\n",
      "\n",
      "File \u001b[1;32m~/mambaforge/lib/python3.10/site-packages/dash/_grouping.py:211\u001b[0m, in \u001b[0;36mvalidate_grouping\u001b[1;34m(\n",
      "    grouping=[<write-only dash.Patch object at []>, '## Solomon Islands Data map - Province'],\n",
      "    schema=[<Output `85776e9a-dd84-f39e-7154-5a137a1d5006.figure`>, <Output `d71037d1-b83e-90ec-17e0-aa3c03983ca8.children`>, <Output `85776e9a-dd84-f39e-7154-5a137a1d5006.clickData`>],\n",
      "    full_schema=[<Output `85776e9a-dd84-f39e-7154-5a137a1d5006.figure`>, <Output `d71037d1-b83e-90ec-17e0-aa3c03983ca8.children`>, <Output `85776e9a-dd84-f39e-7154-5a137a1d5006.clickData`>],\n",
      "    path=()\n",
      ")\u001b[0m\n",
      "\u001b[0;32m    209\u001b[0m \u001b[38;5;28;01mif\u001b[39;00m \u001b[38;5;28misinstance\u001b[39m(schema, (\u001b[38;5;28mtuple\u001b[39m, \u001b[38;5;28mlist\u001b[39m)):\n",
      "\u001b[0;32m    210\u001b[0m     SchemaTypeValidationError\u001b[38;5;241m.\u001b[39mcheck(grouping, full_schema, path, (\u001b[38;5;28mtuple\u001b[39m, \u001b[38;5;28mlist\u001b[39m))\n",
      "\u001b[1;32m--> 211\u001b[0m     \u001b[43mSchemaLengthValidationError\u001b[49m\u001b[38;5;241;43m.\u001b[39;49m\u001b[43mcheck\u001b[49m\u001b[43m(\u001b[49m\u001b[43mgrouping\u001b[49m\u001b[43m,\u001b[49m\u001b[43m \u001b[49m\u001b[43mfull_schema\u001b[49m\u001b[43m,\u001b[49m\u001b[43m \u001b[49m\u001b[43mpath\u001b[49m\u001b[43m,\u001b[49m\u001b[43m \u001b[49m\u001b[38;5;28;43mlen\u001b[39;49m\u001b[43m(\u001b[49m\u001b[43mschema\u001b[49m\u001b[43m)\u001b[49m\u001b[43m)\u001b[49m\n",
      "        full_schema \u001b[1;34m= [<Output `85776e9a-dd84-f39e-7154-5a137a1d5006.figure`>, <Output `d71037d1-b83e-90ec-17e0-aa3c03983ca8.children`>, <Output `85776e9a-dd84-f39e-7154-5a137a1d5006.clickData`>]\u001b[0m\u001b[1;34m\n",
      "        \u001b[0mschema \u001b[1;34m= [<Output `85776e9a-dd84-f39e-7154-5a137a1d5006.figure`>, <Output `d71037d1-b83e-90ec-17e0-aa3c03983ca8.children`>, <Output `85776e9a-dd84-f39e-7154-5a137a1d5006.clickData`>]\u001b[0m\u001b[1;34m\n",
      "        \u001b[0mgrouping \u001b[1;34m= [<write-only dash.Patch object at []>, '## Solomon Islands Data map - Province']\u001b[0m\u001b[1;34m\n",
      "        \u001b[0mpath \u001b[1;34m= ()\u001b[0m\u001b[1;34m\n",
      "        \u001b[0mlen(schema) \u001b[1;34m= 3\u001b[0m\n",
      "\u001b[0;32m    213\u001b[0m     \u001b[38;5;28;01mfor\u001b[39;00m i, (g, s) \u001b[38;5;129;01min\u001b[39;00m \u001b[38;5;28menumerate\u001b[39m(\u001b[38;5;28mzip\u001b[39m(grouping, schema)):\n",
      "\u001b[0;32m    214\u001b[0m         validate_grouping(g, s, full_schema\u001b[38;5;241m=\u001b[39mfull_schema, path\u001b[38;5;241m=\u001b[39mpath \u001b[38;5;241m+\u001b[39m (i,))\n",
      "\n",
      "File \u001b[1;32m~/mambaforge/lib/python3.10/site-packages/dash/_grouping.py:180\u001b[0m, in \u001b[0;36mSchemaLengthValidationError.check\u001b[1;34m(\n",
      "    cls=<class 'dash._grouping.SchemaLengthValidationError'>,\n",
      "    value=[<write-only dash.Patch object at []>, '## Solomon Islands Data map - Province'],\n",
      "    full_schema=[<Output `85776e9a-dd84-f39e-7154-5a137a1d5006.figure`>, <Output `d71037d1-b83e-90ec-17e0-aa3c03983ca8.children`>, <Output `85776e9a-dd84-f39e-7154-5a137a1d5006.clickData`>],\n",
      "    path=(),\n",
      "    expected_len=3\n",
      ")\u001b[0m\n",
      "\u001b[0;32m    177\u001b[0m \u001b[38;5;129m@classmethod\u001b[39m\n",
      "\u001b[0;32m    178\u001b[0m \u001b[38;5;28;01mdef\u001b[39;00m \u001b[38;5;21mcheck\u001b[39m(\u001b[38;5;28mcls\u001b[39m, value, full_schema, path, expected_len):\n",
      "\u001b[0;32m    179\u001b[0m     \u001b[38;5;28;01mif\u001b[39;00m \u001b[38;5;28mlen\u001b[39m(value) \u001b[38;5;241m!=\u001b[39m expected_len:\n",
      "\u001b[1;32m--> 180\u001b[0m         \u001b[38;5;28;01mraise\u001b[39;00m SchemaLengthValidationError(value, full_schema, path, expected_len)\n",
      "        expected_len \u001b[1;34m= 3\u001b[0m\u001b[1;34m\n",
      "        \u001b[0mvalue \u001b[1;34m= [<write-only dash.Patch object at []>, '## Solomon Islands Data map - Province']\u001b[0m\u001b[1;34m\n",
      "        \u001b[0mfull_schema \u001b[1;34m= [<Output `85776e9a-dd84-f39e-7154-5a137a1d5006.figure`>, <Output `d71037d1-b83e-90ec-17e0-aa3c03983ca8.children`>, <Output `85776e9a-dd84-f39e-7154-5a137a1d5006.clickData`>]\u001b[0m\u001b[1;34m\n",
      "        \u001b[0mpath \u001b[1;34m= ()\u001b[0m\n",
      "\n",
      "\u001b[1;31mSchemaLengthValidationError\u001b[0m: Schema: [<Output `85776e9a-dd84-f39e-7154-5a137a1d5006.figure`>, <Output `d71037d1-b83e-90ec-17e0-aa3c03983ca8.children`>, <Output `85776e9a-dd84-f39e-7154-5a137a1d5006.clickData`>]\n",
      "Path: ()\n",
      "Expected length: 3\n",
      "Received value of length 2:\n",
      "    [<write-only dash.Patch object at []>, '## Solomon Islands Data map - Province']\n",
      "\n"
     ]
    }
   ],
   "source": [
    "#| hide\n",
    "import nbdev; nbdev.nbdev_export()"
   ]
  }
 ],
 "metadata": {
  "kernelspec": {
   "display_name": "python3",
   "language": "python",
   "name": "python3"
  }
 },
 "nbformat": 4,
 "nbformat_minor": 4
}
