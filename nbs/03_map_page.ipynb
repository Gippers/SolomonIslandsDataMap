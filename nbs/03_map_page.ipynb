{
 "cells": [
  {
   "cell_type": "markdown",
   "metadata": {},
   "source": [
    "# Map Page\n",
    "\n",
    "> The page of the app that generates the map view of the data.  "
   ]
  },
  {
   "cell_type": "code",
   "execution_count": null,
   "metadata": {},
   "outputs": [],
   "source": [
    "#| default_exp pages/map_page"
   ]
  },
  {
   "cell_type": "code",
   "execution_count": null,
   "metadata": {},
   "outputs": [],
   "source": [
    "#| export\n",
    "# TODO minimise these imports a bit where possible\n",
    "from nbdev.showdoc import *\n",
    "# TODO work out how to get around below hack\n",
    "try:\n",
    "    from SolomonIslandsDataMap.dash_components import define_map, gen_bar_plot, gen_dd\n",
    "    from SolomonIslandsDataMap.app_data import mytitle, map_graph, selectedBarGraph, stored_data, dropdown_location \\\n",
    "        , control_type, dd_var, dd_measure, dropdown_geo\n",
    "except: \n",
    "    from dash_components import *\n",
    "    from app_data import mytitle, map_graph, selectedBarGraph, stored_data, dropdown_location \\\n",
    "        , control_type, dd_var, dd_measure, dropdown_geo\n",
    "\n",
    "import plotly.express as px\n",
    "import plotly.graph_objects as go\n",
    "import plotly.io as pio # Unless this is used graphs will not be dynamic?\n",
    "import numpy as np\n",
    "from fastcore.test import *\n",
    "from dash import Dash, callback, dcc, Output, Input, State, html, Patch, ctx, register_page  # pip install dash\n",
    "import dash_bootstrap_components as dbc    # pip install dash-bootstrap-components\n",
    "from dash_bootstrap_templates import load_figure_template\n",
    "import dash_mantine_components as dmc\n",
    "import os"
   ]
  },
  {
   "cell_type": "code",
   "execution_count": null,
   "metadata": {},
   "outputs": [
    {
     "ename": "PageError",
     "evalue": "`dash.register_page()` must be called after app instantiation",
     "output_type": "error",
     "traceback": [
      "\u001b[0;31m---------------------------------------------------------------------------\u001b[0m",
      "\u001b[0;31mPageError\u001b[0m                                 Traceback (most recent call last)",
      "\u001b[1;32m/home/tom/git/SolomonIslandsDataMap/nbs/03_map_page.ipynb Cell 4\u001b[0m line \u001b[0;36m2\n\u001b[1;32m      <a href='vscode-notebook-cell://wsl%2Bubuntu/home/tom/git/SolomonIslandsDataMap/nbs/03_map_page.ipynb#W3sdnNjb2RlLXJlbW90ZQ%3D%3D?line=0'>1</a>\u001b[0m \u001b[39m#| export\u001b[39;00m\n\u001b[0;32m----> <a href='vscode-notebook-cell://wsl%2Bubuntu/home/tom/git/SolomonIslandsDataMap/nbs/03_map_page.ipynb#W3sdnNjb2RlLXJlbW90ZQ%3D%3D?line=1'>2</a>\u001b[0m register_page(\u001b[39m__name__\u001b[39;49m, \n\u001b[1;32m      <a href='vscode-notebook-cell://wsl%2Bubuntu/home/tom/git/SolomonIslandsDataMap/nbs/03_map_page.ipynb#W3sdnNjb2RlLXJlbW90ZQ%3D%3D?line=2'>3</a>\u001b[0m                     path\u001b[39m=\u001b[39;49m\u001b[39m'\u001b[39;49m\u001b[39m/\u001b[39;49m\u001b[39m'\u001b[39;49m,\n\u001b[1;32m      <a href='vscode-notebook-cell://wsl%2Bubuntu/home/tom/git/SolomonIslandsDataMap/nbs/03_map_page.ipynb#W3sdnNjb2RlLXJlbW90ZQ%3D%3D?line=3'>4</a>\u001b[0m                     title\u001b[39m=\u001b[39;49m\u001b[39m'\u001b[39;49m\u001b[39mData Map\u001b[39;49m\u001b[39m'\u001b[39;49m,\n\u001b[1;32m      <a href='vscode-notebook-cell://wsl%2Bubuntu/home/tom/git/SolomonIslandsDataMap/nbs/03_map_page.ipynb#W3sdnNjb2RlLXJlbW90ZQ%3D%3D?line=4'>5</a>\u001b[0m                     name\u001b[39m=\u001b[39;49m\u001b[39m'\u001b[39;49m\u001b[39mData Map\u001b[39;49m\u001b[39m'\u001b[39;49m)\n",
      "File \u001b[0;32m~/miniforge3/lib/python3.10/site-packages/dash/_pages.py:310\u001b[0m, in \u001b[0;36mregister_page\u001b[0;34m(module, path, path_template, name, order, title, description, image, image_url, redirect_from, layout, **kwargs)\u001b[0m\n\u001b[1;32m    307\u001b[0m \u001b[39mif\u001b[39;00m context_value\u001b[39m.\u001b[39mget()\u001b[39m.\u001b[39mget(\u001b[39m\"\u001b[39m\u001b[39mignore_register_page\u001b[39m\u001b[39m\"\u001b[39m):\n\u001b[1;32m    308\u001b[0m     \u001b[39mreturn\u001b[39;00m\n\u001b[0;32m--> 310\u001b[0m _validate\u001b[39m.\u001b[39;49mvalidate_use_pages(CONFIG)\n\u001b[1;32m    312\u001b[0m page \u001b[39m=\u001b[39m \u001b[39mdict\u001b[39m(\n\u001b[1;32m    313\u001b[0m     module\u001b[39m=\u001b[39m_validate\u001b[39m.\u001b[39mvalidate_module_name(module),\n\u001b[1;32m    314\u001b[0m     supplied_path\u001b[39m=\u001b[39mpath,\n\u001b[0;32m   (...)\u001b[0m\n\u001b[1;32m    318\u001b[0m     name\u001b[39m=\u001b[39mname \u001b[39mif\u001b[39;00m name \u001b[39mis\u001b[39;00m \u001b[39mnot\u001b[39;00m \u001b[39mNone\u001b[39;00m \u001b[39melse\u001b[39;00m _module_name_to_page_name(module),\n\u001b[1;32m    319\u001b[0m )\n\u001b[1;32m    320\u001b[0m page\u001b[39m.\u001b[39mupdate(\n\u001b[1;32m    321\u001b[0m     supplied_title\u001b[39m=\u001b[39mtitle,\n\u001b[1;32m    322\u001b[0m     title\u001b[39m=\u001b[39m(title \u001b[39mif\u001b[39;00m title \u001b[39mis\u001b[39;00m \u001b[39mnot\u001b[39;00m \u001b[39mNone\u001b[39;00m \u001b[39melse\u001b[39;00m page[\u001b[39m\"\u001b[39m\u001b[39mname\u001b[39m\u001b[39m\"\u001b[39m]),\n\u001b[1;32m    323\u001b[0m )\n",
      "File \u001b[0;32m~/miniforge3/lib/python3.10/site-packages/dash/_validate.py:474\u001b[0m, in \u001b[0;36mvalidate_use_pages\u001b[0;34m(config)\u001b[0m\n\u001b[1;32m    472\u001b[0m \u001b[39mdef\u001b[39;00m \u001b[39mvalidate_use_pages\u001b[39m(config):\n\u001b[1;32m    473\u001b[0m     \u001b[39mif\u001b[39;00m \u001b[39mnot\u001b[39;00m config\u001b[39m.\u001b[39mget(\u001b[39m\"\u001b[39m\u001b[39massets_folder\u001b[39m\u001b[39m\"\u001b[39m, \u001b[39mNone\u001b[39;00m):\n\u001b[0;32m--> 474\u001b[0m         \u001b[39mraise\u001b[39;00m exceptions\u001b[39m.\u001b[39mPageError(\n\u001b[1;32m    475\u001b[0m             \u001b[39m\"\u001b[39m\u001b[39m`dash.register_page()` must be called after app instantiation\u001b[39m\u001b[39m\"\u001b[39m\n\u001b[1;32m    476\u001b[0m         )\n\u001b[1;32m    478\u001b[0m     \u001b[39mif\u001b[39;00m flask\u001b[39m.\u001b[39mhas_request_context():\n\u001b[1;32m    479\u001b[0m         \u001b[39mraise\u001b[39;00m exceptions\u001b[39m.\u001b[39mPageError(\n\u001b[1;32m    480\u001b[0m \u001b[39m            \u001b[39m\u001b[39m\"\"\"\u001b[39;00m\n\u001b[1;32m    481\u001b[0m \u001b[39m            dash.register_page() can’t be called within a callback as it updates dash.page_registry, which is a global variable.\u001b[39;00m\n\u001b[1;32m    482\u001b[0m \u001b[39m             For more details, see https://dash.plotly.com/sharing-data-between-callbacks#why-global-variables-will-break-your-app\u001b[39;00m\n\u001b[1;32m    483\u001b[0m \u001b[39m            \"\"\"\u001b[39;00m\n\u001b[1;32m    484\u001b[0m         )\n",
      "\u001b[0;31mPageError\u001b[0m: `dash.register_page()` must be called after app instantiation"
     ]
    }
   ],
   "source": [
    "#| export\n",
    "# Try catch is added here so that the notebook can be tested without the app being run\n",
    "try:\n",
    "    register_page(__name__, \n",
    "                        path='/',\n",
    "                        title='Data Map',\n",
    "                        name='Data Map')\n",
    "except:\n",
    "    pass"
   ]
  },
  {
   "cell_type": "code",
   "execution_count": null,
   "metadata": {},
   "outputs": [],
   "source": [
    "# TODO load the data and dropdown\n",
    "sol_geo = stored_data"
   ]
  },
  {
   "cell_type": "markdown",
   "metadata": {},
   "source": [
    "Setup some of  the key data contiaining objects"
   ]
  },
  {
   "cell_type": "markdown",
   "metadata": {},
   "source": [
    "## Customize the Layout"
   ]
  },
  {
   "cell_type": "code",
   "execution_count": null,
   "metadata": {},
   "outputs": [],
   "source": [
    "#| export\n",
    "def layout():\n",
    "    return dbc.Container([mytitle,\n",
    "                        map_graph,\n",
    "                        selectedBarGraph,\n",
    "                        ])"
   ]
  },
  {
   "cell_type": "code",
   "execution_count": null,
   "metadata": {},
   "outputs": [
    {
     "data": {
      "text/plain": [
       "['Total Households']"
      ]
     },
     "execution_count": null,
     "metadata": {},
     "output_type": "execute_result"
    }
   ],
   "source": [
    "sol_geo.census_vars['Key Statistics']"
   ]
  },
  {
   "cell_type": "code",
   "execution_count": null,
   "metadata": {},
   "outputs": [
    {
     "data": {
      "text/plain": [
       "Index(['Central_Proportion', 'Central_Total', 'Choiseul_Proportion',\n",
       "       'Choiseul_Total', 'Guadalcanal_Proportion', 'Guadalcanal_Total',\n",
       "       'Honiara_Proportion', 'Honiara_Total', 'Isabel_Proportion',\n",
       "       'Isabel_Total', 'Makira-Ulawa_Proportion', 'Makira-Ulawa_Total',\n",
       "       'Malaita_Proportion', 'Malaita_Total', 'Rennell-Bell_Proportion',\n",
       "       'Rennell-Bell_Total', 'Temotu_Proportion', 'Temotu_Total',\n",
       "       'Western_Proportion', 'Western_Total'],\n",
       "      dtype='object', name='pk')"
      ]
     },
     "execution_count": null,
     "metadata": {},
     "output_type": "execute_result"
    }
   ],
   "source": [
    "sol_geo.locations[sol_geo.geo_levels[0]]"
   ]
  },
  {
   "cell_type": "markdown",
   "metadata": {},
   "source": [
    "# Build callbacks to create interaction"
   ]
  },
  {
   "cell_type": "markdown",
   "metadata": {},
   "source": [
    "## Update location dropdown value based on map click\n",
    "This callback also will trigger an update to the selected card data"
   ]
  },
  {
   "cell_type": "code",
   "execution_count": null,
   "metadata": {},
   "outputs": [],
   "source": [
    "#| export\n",
    "@callback(\n",
    "    Output('locDropdown', 'value'),\n",
    "    Output(map_graph, \"clickData\"),\n",
    "    Output(map_graph, \"selectedData\"),\n",
    "    Input(map_graph, 'clickData'),\n",
    "    Input(map_graph, 'selectedData'),\n",
    "    State('locDropdown', 'value'),\n",
    "    prevent_initial_call=True,\n",
    "    allow_duplicate=True,\n",
    ")\n",
    "def map_click(clickData:dict, # The currently clicked location on the map\n",
    "              selectedData:dict, # The currently selected locations on the map\n",
    "                prev_locs:[str], # The previously selected locations\n",
    "                )->[str]: # Returns the new value for the dropdown\n",
    "    \"\"\"This function updates the dropdown menu based on the map click data\"\"\"\n",
    "    print(\"map clicked updating to:\")\n",
    "    if clickData is None and selectedData is None:\n",
    "        # TODO when none, maybe in future return current saved state, for now doing total\n",
    "        # TODO add a heading and maybe put in an acordian\n",
    "        print(\"Click data was none\")\n",
    "        return None\n",
    "    else:\n",
    "        # The locations are list of dictionaries\n",
    "        if selectedData is not None:\n",
    "            print(selectedData)\n",
    "            selections = list(map(lambda x: x['location'], selectedData['points']))\n",
    "            print(selections)\n",
    "\n",
    "        elif clickData is not None:\n",
    "            selections = list(map(lambda x: x['location'], clickData['points']))\n",
    "            print(selections)\n",
    "        locations = []\n",
    "        if prev_locs: locations = prev_locs\n",
    "        print(locations)\n",
    "        # Check whether the new location is already in the prev locations\n",
    "        for selection in selections:\n",
    "            if selection in locations: locations.remove(selection)\n",
    "            else: locations.append(selection)\n",
    "        print(\"Returning Location \" + ', '.join(locations) )\n",
    "    \n",
    "        # returned objects are assigned to the component property of the Output\n",
    "        # After updating fileter, we always reset map selection \n",
    "        return locations, None, None\n",
    "        \n"
   ]
  },
  {
   "cell_type": "markdown",
   "metadata": {},
   "source": [
    "## Update map selections"
   ]
  },
  {
   "cell_type": "code",
   "execution_count": null,
   "metadata": {},
   "outputs": [],
   "source": [
    "#| export\n",
    "@callback(\n",
    "    Output(map_graph, \"figure\", allow_duplicate=True),\n",
    "    # TODO - make this a Row object with children, then use function to recontruct\n",
    "    # a group of them\n",
    "    Input('locDropdown', 'value'),\n",
    "    State(dropdown_geo, 'value'),\n",
    "    prevent_initial_call=True,\n",
    "    allow_duplicate=True,\n",
    ")\n",
    "def map_selections(locations:[str], # The previously selected locations\n",
    "                geo_input:str, # The currently selected geography\n",
    "                )->[str]: # Returns the new value for the dropdown\n",
    "    '''\n",
    "    Update the selected data on the map for the selected locations\n",
    "    Selections is an array of integers indicating the index of the selected points\n",
    "    '''\n",
    "    patched_figure = Patch()\n",
    "    ct = np.where(sol_geo.geo_levels == geo_input)[0][0] # Tracks the trace number\n",
    "    pot_locs = map_graph.figure['data'][ct]['locations']\n",
    "    print(locations)\n",
    "    if locations: \n",
    "        selections = np.nonzero(np.in1d(pot_locs, locations))[0]\n",
    "    else: \n",
    "        selections = None \n",
    "\n",
    "    print(selections)\n",
    "    patched_figure['data'][ct]['selectedpoints'] = selections\n",
    "    \n",
    "    # returned objects are assigned to the component property of the Output\n",
    "    # After updating fileter, we always reset map selection \n",
    "    return patched_figure\n",
    "        \n"
   ]
  },
  {
   "cell_type": "markdown",
   "metadata": {},
   "source": [
    "## Update the location options based on geography selected"
   ]
  },
  {
   "cell_type": "code",
   "execution_count": null,
   "metadata": {},
   "outputs": [],
   "source": [
    "#| export\n",
    "@callback(\n",
    "    Output(dropdown_location, 'children'),\n",
    "    Input(dropdown_geo, 'value'),\n",
    "    allow_duplicate=True,\n",
    "    prevent_initial_call=True\n",
    ")\n",
    "def update_geography(geo_input:str, # User input from the geography dropdown\n",
    "              )->[str]: # Returns a new list of locations to display\n",
    "    '''\n",
    "    Updates the dropdown_location dropdown based on the currently selected data aggregation.\n",
    "    '''\n",
    "    return gen_dd(sol_geo.locations[geo_input], 'locDropdown', \"Select a location\", clear = True, multi = True)"
   ]
  },
  {
   "cell_type": "code",
   "execution_count": null,
   "metadata": {},
   "outputs": [
    {
     "data": {
      "text/markdown": [
       "---\n",
       "\n",
       "### update_geography\n",
       "\n",
       ">      update_geography (geo_input:str)\n",
       "\n",
       "Updates the dropdown_location dropdown based on the currently selected data aggregation.\n",
       "\n",
       "|    | **Type** | **Details** |\n",
       "| -- | -------- | ----------- |\n",
       "| geo_input | str | User input from the geography dropdown |\n",
       "| **Returns** | **[<class 'str'>]** | **Returns a new list of locations to display** |"
      ],
      "text/plain": [
       "---\n",
       "\n",
       "### update_geography\n",
       "\n",
       ">      update_geography (geo_input:str)\n",
       "\n",
       "Updates the dropdown_location dropdown based on the currently selected data aggregation.\n",
       "\n",
       "|    | **Type** | **Details** |\n",
       "| -- | -------- | ----------- |\n",
       "| geo_input | str | User input from the geography dropdown |\n",
       "| **Returns** | **[<class 'str'>]** | **Returns a new list of locations to display** |"
      ]
     },
     "execution_count": null,
     "metadata": {},
     "output_type": "execute_result"
    }
   ],
   "source": [
    "show_doc(update_geography)"
   ]
  },
  {
   "cell_type": "markdown",
   "metadata": {},
   "source": [
    "## Update the variable dropdowns based on the selection of the overall variable"
   ]
  },
  {
   "cell_type": "code",
   "execution_count": null,
   "metadata": {},
   "outputs": [],
   "source": [
    "#| export\n",
    "@callback(\n",
    "    Output(dd_measure, 'children'),\n",
    "    Input('varDropdown', 'value'),\n",
    "    allow_duplicate=True,\n",
    "    prevent_initial_call=True\n",
    ")\n",
    "def update_measure(new_var:str, # Selected variable\n",
    "              )->dcc.Dropdown: # Returns a dropdown of measures for selected variable\n",
    "    '''\n",
    "    Updates the dropdown_location dropdown based on the currently selected data aggregation.\n",
    "    '''\n",
    "    # When a variable is selected, the measure will be set as the first one\n",
    "    return gen_dd(sol_geo.census_vars[new_var], 'measureDropdown', \n",
    "                  val = sol_geo.census_vars[new_var][0])"
   ]
  },
  {
   "cell_type": "markdown",
   "metadata": {},
   "source": [
    "## Update the measure selection from clicks on the bar graph"
   ]
  },
  {
   "cell_type": "code",
   "execution_count": null,
   "metadata": {},
   "outputs": [],
   "source": [
    "#| export\n",
    "@callback(\n",
    "    Output('measureDropdown', 'value'),\n",
    "    Output(selectedBarGraph, \"clickData\"),\n",
    "    Input(selectedBarGraph, 'clickData'),\n",
    "    State('varDropdown', 'value'),\n",
    "    prevent_initial_call=True,\n",
    "    allow_duplicate=True,\n",
    ")\n",
    "def map_click(clickData:dict, # The currently clicked location on bar graph\n",
    "                variable:str, # The currently selected variable\n",
    "                )->[str]: # Returns the new value for the dropdown\n",
    "    \"\"\"This function updates the dropdown menu based on the bar graph click data\"\"\"\n",
    "\n",
    "    if clickData is None:\n",
    "        print(\"Click data was none\")\n",
    "        return None\n",
    "    else:\n",
    "        # The measure are list of dictionaries\n",
    "        selection = list(map(lambda x: x['x'], clickData['points']))[0]\n",
    "    \n",
    "        # returned objects are assigned to the component property of the Output\n",
    "        # After updating fileter, we always reset map selection \n",
    "        return selection, None\n",
    "        \n"
   ]
  },
  {
   "cell_type": "markdown",
   "metadata": {},
   "source": [
    "### Update map based on inputs"
   ]
  },
  {
   "cell_type": "code",
   "execution_count": null,
   "metadata": {},
   "outputs": [],
   "source": [
    "#| export\n",
    "@callback(\n",
    "    Output(map_graph, 'figure', allow_duplicate=True),\n",
    "    Output(mytitle, 'children'),\n",
    "    Input(dropdown_geo, 'value'),\n",
    "    Input(control_type, 'value'),\n",
    "    Input('measureDropdown', 'value'),\n",
    "    Input('varDropdown', 'value'),\n",
    "    allow_duplicate=True,\n",
    "    prevent_initial_call=True\n",
    ")\n",
    "def update_map(geo_input:str, # User input from the geography dropdown\n",
    "                     data_type:str, # User input of type of data\n",
    "                     measure:str, # A string contiaining the census variable and measure split by ':'\n",
    "                     variable:str, # The state of the variable dropdown\n",
    "              )->(type(go.Figure()), str): # Returns a graph object figure after being updated and the dynamic title\n",
    "    '''\n",
    "    Updates the focus census variable or geography dispalayed on the map\n",
    "    '''\n",
    "    # TODO can i roll the geo and measure into one trigger of the callback?\n",
    "    patched_figure = Patch()\n",
    "    button_clicked = ctx.triggered_id\n",
    "\n",
    "\n",
    "    if button_clicked == dropdown_geo.id or button_clicked == dropdown_location.id:\n",
    "        # Update disaplayed geography \n",
    "        for geo in sol_geo.geo_levels:\n",
    "            tn = np.where(sol_geo.geo_levels == geo)[0][0] # Tracks the trace number\n",
    "            patched_figure['data'][tn]['visible'] = geo_input == geo\n",
    "        \n",
    "    elif button_clicked == control_type.id:\n",
    "        # Update the type of data displayed on map\n",
    "        # TODO currently displayed data will need to be tracked. Can't be tracked in object, use hidden \n",
    "        # TODO will need to track this update also in var dropdown clicked\n",
    "        # TODO this also needs to trigger cards\n",
    "        for geo in sol_geo.geo_levels:\n",
    "            tn = np.where(sol_geo.geo_levels == geo)[0][0] # Tracks the trace number\n",
    "            ar = sol_geo.get_df(geo_filter = geo, type_filter=data_type, var = variable, measure = measure).values\n",
    "            ar = ar.reshape((ar.shape[0],))\n",
    "            patched_figure['data'][tn]['z'] = ar\n",
    "        \n",
    "\n",
    "    elif button_clicked == 'measureDropdown':\n",
    "        # Update the z values in map to the data for the requested census variable\n",
    "        for geo in sol_geo.geo_levels:\n",
    "        # Ar updates the z value ie. data disaplyed each time\n",
    "        # TODO this is fairly inefficient, as we are processing each time\n",
    "        # Maybe faster framework like polars could help? or caching but would require a lot of caching\n",
    "            tn = np.where(sol_geo.geo_levels == geo)[0][0] # Tracks the trace number\n",
    "            ar = sol_geo.get_df(geo_filter = geo, type_filter=data_type, var = variable, measure=measure).values\n",
    "            ar = ar.reshape((ar.shape[0],))\n",
    "            patched_figure['data'][tn]['z'] = ar\n",
    "        \n",
    "    # returned objects are assigned to the component property of the Output\n",
    "    # After updating fileter, we always reset map selection \n",
    "\n",
    "    return patched_figure, '## Solomon Islands Data map - ' + geo_input"
   ]
  },
  {
   "cell_type": "markdown",
   "metadata": {},
   "source": [
    "### Update the selected part of the map based on the dropdown"
   ]
  },
  {
   "cell_type": "markdown",
   "metadata": {},
   "source": [
    "### Update Selected Bar Graph based on inputs"
   ]
  },
  {
   "cell_type": "code",
   "execution_count": null,
   "metadata": {},
   "outputs": [],
   "source": [
    "#| export\n",
    "# Callback allows components to interact\n",
    "@callback(\n",
    "    Output(selectedBarGraph, 'figure'),\n",
    "    Input(dropdown_geo, 'value'),\n",
    "    Input(control_type, 'value'),\n",
    "    Input('measureDropdown', 'value'),\n",
    "    Input('locDropdown', 'value'),\n",
    "    State('varDropdown', 'value'),\n",
    "    allow_duplicate=True,\n",
    "    prevent_initial_call=True\n",
    ")\n",
    "def update_bargraph(geo_input:str, # User input from the geography dropdown\n",
    "                     data_type:str, # User input of type of data\n",
    "                     measure:str, # A string contiaining the census variable and measure split by ':'\n",
    "                     loc_selection:[str], # The selected locations, may be none\n",
    "                     variable:str, # The state of the variable dropdown\n",
    "              )->(type(go.Figure())): # Returns a graph object figure after being updated and the dynamic title\n",
    "    '''\n",
    "    Updates the focus census variable or geography dispalayed on the map\n",
    "    '''\n",
    "        \n",
    "    # Create newly selected barplot\n",
    "    print(\"input\")\n",
    "    print(loc_selection)\n",
    "    locs = None\n",
    "    # Multi dropdown can return None or a list of None.\n",
    "    if loc_selection: \n",
    "        locs = loc_selection\n",
    "    print(\"Going in to function\")\n",
    "    print(locs)\n",
    "    bg = gen_bar_plot(sol_geo, geo_input, variable, measure, locs, data_type)\n",
    "\n",
    "    # returned objects are assigned to the component property of the Output\n",
    "    # After updating fileter, we always reset map selection \n",
    "\n",
    "    return  bg"
   ]
  },
  {
   "cell_type": "markdown",
   "metadata": {},
   "source": [
    "On click, update the contents of the kpi's"
   ]
  },
  {
   "cell_type": "code",
   "execution_count": null,
   "metadata": {},
   "outputs": [
    {
     "data": {
      "text/markdown": [
       "---\n",
       "\n",
       "### update_geography\n",
       "\n",
       ">      update_geography (geo_input:str)\n",
       "\n",
       "Updates the dropdown_location dropdown based on the currently selected data aggregation.\n",
       "\n",
       "|    | **Type** | **Details** |\n",
       "| -- | -------- | ----------- |\n",
       "| geo_input | str | User input from the geography dropdown |\n",
       "| **Returns** | **[<class 'str'>]** | **Returns a new list of locations to display** |"
      ],
      "text/plain": [
       "---\n",
       "\n",
       "### update_geography\n",
       "\n",
       ">      update_geography (geo_input:str)\n",
       "\n",
       "Updates the dropdown_location dropdown based on the currently selected data aggregation.\n",
       "\n",
       "|    | **Type** | **Details** |\n",
       "| -- | -------- | ----------- |\n",
       "| geo_input | str | User input from the geography dropdown |\n",
       "| **Returns** | **[<class 'str'>]** | **Returns a new list of locations to display** |"
      ]
     },
     "execution_count": null,
     "metadata": {},
     "output_type": "execute_result"
    }
   ],
   "source": [
    "#| hide\n",
    "show_doc(update_geography)"
   ]
  },
  {
   "cell_type": "code",
   "execution_count": null,
   "metadata": {},
   "outputs": [],
   "source": [
    "#| hide\n",
    "import nbdev; nbdev.nbdev_export()"
   ]
  }
 ],
 "metadata": {
  "kernelspec": {
   "display_name": "python3",
   "language": "python",
   "name": "python3"
  }
 },
 "nbformat": 4,
 "nbformat_minor": 2
}
