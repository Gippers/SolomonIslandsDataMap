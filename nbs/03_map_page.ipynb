{
 "cells": [
  {
   "cell_type": "code",
   "execution_count": null,
   "metadata": {},
   "outputs": [],
   "source": [
    "# Map Page\n",
    "\n",
    "> The page of the app that generates the map view of the data.  "
   ]
  },
  {
   "cell_type": "code",
   "execution_count": null,
   "metadata": {},
   "outputs": [],
   "source": [
    "#| default_exp pages/map_page"
   ]
  },
  {
   "cell_type": "code",
   "execution_count": null,
   "metadata": {},
   "outputs": [],
   "source": [
    "#| export\n",
    "# TODO minimise these imports a bit where possible\n",
    "from nbdev.showdoc import *\n",
    "# TODO work out how to get around below hack\n",
    "try:\n",
    "    from SolomonIslandsDataMap.load_data import *\n",
    "    from SolomonIslandsDataMap.dash_components import *\n",
    "except: \n",
    "    from load_data import *\n",
    "    from dash_components import *\n",
    "import plotly.express as px\n",
    "import plotly.graph_objects as go\n",
    "import plotly.io as pio # Unless this is used graphs will not be dynamic?\n",
    "import numpy as np\n",
    "from fastcore.test import *\n",
    "from dash import Dash, dcc, Output, Input, State, html, Patch, ctx, register_page  # pip install dash\n",
    "import dash_bootstrap_components as dbc    # pip install dash-bootstrap-components\n",
    "from dash_bootstrap_templates import load_figure_template\n",
    "import dash_mantine_components as dmc\n",
    "import os"
   ]
  },
  {
   "cell_type": "code",
   "execution_count": null,
   "metadata": {},
   "outputs": [],
   "source": [
    "#| export\n",
    "register_page(__name__, \n",
    "                    path='/',\n",
    "                    title='Data Map',\n",
    "                    name='Data Map')"
   ]
  },
  {
   "cell_type": "code",
   "execution_count": null,
   "metadata": {},
   "outputs": [],
   "source": [
    "# TODO load the data and dropdown"
   ]
  },
  {
   "cell_type": "markdown",
   "metadata": {},
   "source": [
    "Setup some of  the key data contiaining objects"
   ]
  },
  {
   "cell_type": "code",
   "execution_count": null,
   "metadata": {},
   "outputs": [],
   "source": [
    "#| export\n",
    "mytitle = dcc.Markdown(children=\"## \" + list(cen_vars.keys())[0] + \" by \" + geos[0]) # TODO This needs a default title\n",
    "map_graph = dcc.Graph(figure=define_map(sol_geo), selectedData=None,)\n",
    "# TODO entire accordian will need to be the child\n",
    "selectedBarGraph = dcc.Graph(figure = gen_bar_plot(sol_geo, sol_geo.geo_levels[0], \n",
    "                                               \"Key Statistics\", 'Total Households'),\n",
    "                            id = 'bar_graph')\n",
    "# Selections tracks the currently selected map locations\n",
    "#selection = dcc.Store(id = 'selection',data = {})"
   ]
  },
  {
   "cell_type": "code",
   "execution_count": null,
   "metadata": {},
   "outputs": [
    {
     "data": {
      "text/plain": [
       "Index(['Central', 'Choiseul', 'Guadalcanal', 'Honiara', 'Isabel',\n",
       "       'Makira-Ulawa', 'Malaita', 'Rennell-Bell', 'Temotu', 'Western'],\n",
       "      dtype='object', name='geo_name')"
      ]
     },
     "metadata": {},
     "output_type": "display_data"
    }
   ],
   "source": [
    "sol_geo.locations[sol_geo.geo_levels[0]]"
   ]
  },
  {
   "cell_type": "code",
   "execution_count": null,
   "metadata": {},
   "outputs": [],
   "source": []
  },
  {
   "cell_type": "markdown",
   "metadata": {},
   "source": [
    "## Customize the Layout"
   ]
  },
  {
   "cell_type": "code",
   "execution_count": null,
   "metadata": {},
   "outputs": [],
   "source": [
    "#| export\n",
    "def layout():\n",
    "    return dbc.Container([mytitle,\n",
    "                        map_graph,\n",
    "                        selectedBarGraph,\n",
    "                        ])"
   ]
  },
  {
   "cell_type": "code",
   "execution_count": null,
   "metadata": {},
   "outputs": [],
   "source": [
    "#| hide\n",
    "import nbdev; nbdev.nbdev_export()"
   ]
  }
 ],
 "metadata": {},
 "nbformat": 4,
 "nbformat_minor": 2
}
