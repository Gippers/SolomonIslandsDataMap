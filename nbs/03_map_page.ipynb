{
 "cells": [
  {
   "cell_type": "markdown",
   "metadata": {},
   "source": [
    "# Map Page\n",
    "\n",
    "> The page of the app that generates the map view of the data.  "
   ]
  },
  {
   "cell_type": "code",
   "execution_count": null,
   "metadata": {},
   "outputs": [],
   "source": [
    "#| default_exp pages/map_page"
   ]
  },
  {
   "cell_type": "code",
   "execution_count": null,
   "metadata": {},
   "outputs": [],
   "source": [
    "#| export\n",
    "# TODO minimise these imports a bit where possible\n",
    "from nbdev.showdoc import *\n",
    "# TODO work out how to get around below hack\n",
    "try:\n",
    "    from SolomonIslandsDataMap.dash_components import gen_bar_plot, gen_dd\n",
    "    from SolomonIslandsDataMap.app_data import mytitle, map_graph, selectedBarGraph, stored_data, dropdown_location \\\n",
    "        , control_type, dd_var, dd_measure, dropdown_geo, sidebar_census\n",
    "    from SolomonIslandsDataMap.load_data import SolomonGeo\n",
    "except: \n",
    "    from dash_components import gen_bar_plot, gen_dd\n",
    "    from app_data import mytitle, map_graph, selectedBarGraph, stored_data, dropdown_location \\\n",
    "        , control_type, dd_var, dd_measure, dropdown_geo, sidebar_census\n",
    "    from load_data import SolomonGeo\n",
    "import plotly.express as px\n",
    "import plotly.graph_objects as go\n",
    "import plotly.io as pio # Unless this is used graphs will not be dynamic?\n",
    "import numpy as np\n",
    "from fastcore.test import *\n",
    "from dash import Dash, callback, dcc, Output, Input, State, html, Patch, ctx, register_page  # pip install dash\n",
    "import dash_bootstrap_components as dbc    # pip install dash-bootstrap-components\n",
    "from dash_bootstrap_templates import load_figure_template\n",
    "import dash_mantine_components as dmc\n",
    "import os\n",
    "import json"
   ]
  },
  {
   "cell_type": "code",
   "execution_count": null,
   "metadata": {},
   "outputs": [],
   "source": [
    "#| export\n",
    "# Try catch is added here so that the notebook can be tested without the app being run\n",
    "try:\n",
    "    register_page(__name__, \n",
    "                        path='/',\n",
    "                        title='Census Map',\n",
    "                        name='Census Map')\n",
    "except:\n",
    "    pass"
   ]
  },
  {
   "cell_type": "code",
   "execution_count": null,
   "metadata": {},
   "outputs": [],
   "source": [
    "#| export\n",
    "# Creat some hacked init things\n",
    "# TODO again as below, must be a better way\n",
    "init_load = dcc.Store(id=\"initial-load\", data={})\n",
    "init_init = dcc.Store(id=\"initial-initial\", data='census')"
   ]
  },
  {
   "cell_type": "markdown",
   "metadata": {},
   "source": [
    "Setup some of  the key data contiaining objects"
   ]
  },
  {
   "cell_type": "markdown",
   "metadata": {},
   "source": [
    "## Customize the Layout"
   ]
  },
  {
   "cell_type": "code",
   "execution_count": null,
   "metadata": {},
   "outputs": [],
   "source": [
    "#| export\n",
    "def layout():\n",
    "    return  dbc.Row(\n",
    "        [dbc.Col(sidebar_census, width = 2),\n",
    "        dbc.Col([\n",
    "            mytitle,\n",
    "            map_graph,\n",
    "            selectedBarGraph,\n",
    "            stored_data, \n",
    "            init_load, \n",
    "            init_init,], width = 10),\n",
    "            # fires 1ms after page load\n",
    "            dcc.Interval(id=\"interval-timer\", interval=1, max_intervals=1),\n",
    "        ], justify = 'center')"
   ]
  },
  {
   "cell_type": "markdown",
   "metadata": {},
   "source": [
    "# Build callbacks to create interaction"
   ]
  },
  {
   "cell_type": "markdown",
   "metadata": {},
   "source": [
    "Below callback is a hack to have other callbacks prevent_intial_load"
   ]
  },
  {
   "cell_type": "code",
   "execution_count": null,
   "metadata": {},
   "outputs": [],
   "source": [
    "#| export\n",
    "# TODO this defintiely seems hacky, must be a better way\n",
    "\n",
    "@callback(\n",
    "    Output('initial-load', 'data'),\n",
    "    Input(\"initial-initial\", 'data'),\n",
    ")\n",
    "def trigger_initial(trigger:str, # The page the triggered the load\n",
    "                         ) -> str:\n",
    "    \"\"\"Simply passes on the trigger\"\"\"\n",
    "    return trigger"
   ]
  },
  {
   "cell_type": "markdown",
   "metadata": {},
   "source": [
    "### Create a callback that always triggers the map data and bargaph to update on map load\n",
    "This does this for every page\n",
    "\n",
    "I did this as the array of callbacks are quite complex and others are triggering the maps initial load"
   ]
  },
  {
   "cell_type": "code",
   "execution_count": null,
   "metadata": {},
   "outputs": [],
   "source": [
    "#| export\n",
    "# TODO this defintiely seems hacky, must be a better way\n",
    "\n",
    "@callback(\n",
    "    Output(\"segmented_geo\", \"value\"),\n",
    "    Output(\"locDropdown\", \"value\"),\n",
    "    Output(\"varDropdown\", \"value\"),\n",
    "    Output(\"measureDropdown\", \"value\"),\n",
    "    Output(\"segmented_type\", \"value\"),\n",
    "    Output('segmented_geo', 'disabled'), # On page load, allow for changing geography\n",
    "    Input(\"initial-load\", 'data'),\n",
    "    State(\"stored_values\", \"data\"),\n",
    "    State('geo_df', 'data'),\n",
    "    prevent_initial_load = True,\n",
    ")\n",
    "def initial_load(page_trigger:str, # Page that triggered initial load\n",
    "                   js:str, # the current selection for the data\n",
    "                   dict_sol:dict, # Dictionary of the solomon geo data\n",
    "                         ) -> dict:\n",
    "    \"\"\"Load persistent starting values for all of the dropdowns\"\"\"\n",
    "    print(\"****triggered load: \")\n",
    "    print(js)\n",
    "    val_state = json.loads(js)\n",
    "    sol_geo = SolomonGeo.gen_stored(dict_sol)\n",
    "\n",
    "    # Depending on the page loaded, geogrpahy will or will not be disabled\n",
    "    geo_disable = False\n",
    "\n",
    "    print(\"page\")\n",
    "    print(page_trigger)\n",
    "    if page_trigger == 'pop':\n",
    "        geo_disable = True\n",
    "\n",
    "    # When the initial load id triggered by navigation to population page, \n",
    "    # if the geo isn't province we reset to this\n",
    "    if page_trigger == 'pop' and val_state['geo'] != 'Province':\n",
    "        val_state['geo'] = 'Province'\n",
    "        val_state['location'] = []\n",
    "        # TODO test that this works with multi tab\n",
    "\n",
    "    # In some circumstances location will not match geo, in which case reset locations\n",
    "    if val_state['location'] != [] and not (set(val_state['location']) <= set(sol_geo.locations[val_state['geo']])):\n",
    "        val_state['location'] = []\n",
    "        print(\"Had to reset location\")\n",
    "\n",
    "    # In some circumstances, variable will not match measure. In which case reset measure\n",
    "    if val_state['measure'] not in sol_geo.census_vars[val_state['variable']]:\n",
    "        val_state['measure'] = sol_geo.census_vars[val_state['variable']][0]\n",
    "        print(\"reset measure\")\n",
    "\n",
    "    # In some cirucumstances, None or Null values have crept into the save state. When this happens,\n",
    "    # we should catch this and revert to a defualt state\n",
    "    for key, value in val_state.items():\n",
    "        if value is None:\n",
    "            # If a value is None, do a hard reset and trigger a save\n",
    "            val_state = {'type': 'Total',\n",
    "                            'geo': 'Province',\n",
    "                            'location': [],\n",
    "                            'variable': 'Key Statistics',\n",
    "                            'measure': 'Total Households',\n",
    "                            'var-pop': 'Population',\n",
    "                            'measure-pop': 'Total',\n",
    "                            'age': '0-4',\n",
    "                            'pop_year': 2024,\n",
    "                            }\n",
    "            persist_dd_values(val_state['geo'], val_state['location'], val_state['variable'], val_state['measure'], val_state['type'],\n",
    "                              js)\n",
    "\n",
    "    return val_state['geo'], val_state['location'], val_state['variable'], val_state['measure'], \\\n",
    "            val_state['type'], geo_disable\n"
   ]
  },
  {
   "cell_type": "code",
   "execution_count": null,
   "metadata": {},
   "outputs": [
    {
     "data": {
      "text/markdown": [
       "---\n",
       "\n",
       "### initial_load\n",
       "\n",
       ">      initial_load (page_trigger:str, js:str, dict_sol:dict)\n",
       "\n",
       "Load persistent starting values for all of the dropdowns\n",
       "\n",
       "|    | **Type** | **Details** |\n",
       "| -- | -------- | ----------- |\n",
       "| page_trigger | str | Page that triggered initial load |\n",
       "| js | str | the current selection for the data |\n",
       "| dict_sol | dict | Dictionary of the solomon geo data |\n",
       "| **Returns** | **dict** |  |"
      ],
      "text/plain": [
       "---\n",
       "\n",
       "### initial_load\n",
       "\n",
       ">      initial_load (page_trigger:str, js:str, dict_sol:dict)\n",
       "\n",
       "Load persistent starting values for all of the dropdowns\n",
       "\n",
       "|    | **Type** | **Details** |\n",
       "| -- | -------- | ----------- |\n",
       "| page_trigger | str | Page that triggered initial load |\n",
       "| js | str | the current selection for the data |\n",
       "| dict_sol | dict | Dictionary of the solomon geo data |\n",
       "| **Returns** | **dict** |  |"
      ]
     },
     "execution_count": null,
     "metadata": {},
     "output_type": "execute_result"
    }
   ],
   "source": [
    "show_doc(initial_load)  "
   ]
  },
  {
   "cell_type": "markdown",
   "metadata": {},
   "source": [
    "## Persist Dropdowns\n",
    "Callbacks maintain persistent dropdown values across tabs\n",
    "Each callback is triggered by an interval timer just after page refresh"
   ]
  },
  {
   "cell_type": "code",
   "execution_count": null,
   "metadata": {},
   "outputs": [],
   "source": [
    "#| export\n",
    "@callback(\n",
    "    Output(\"stored_values\", \"data\"),\n",
    "    Input(\"segmented_geo\", \"value\"),\n",
    "    Input(\"locDropdown\", \"value\"),\n",
    "    Input(\"measureDropdown\", \"value\"),\n",
    "    Input(\"segmented_type\", \"value\"),\n",
    "    Input(\"varDropdown\", \"value\"),\n",
    "    State(\"stored_values\", \"data\"),\n",
    "    prevent_initial_call=True,\n",
    "    allow_duplicate=True,\n",
    ")\n",
    "def persist_dd_values(geo:str,\n",
    "                        location:[str],\n",
    "                        measure:str,\n",
    "                        type:str, # Data type to save\n",
    "                        variable:str, \n",
    "                        json_store:dict,\n",
    "                    ) -> str:\n",
    "        \"\"\"Update the data type to persistent on load\"\"\"\n",
    "        store = json.loads(json_store)\n",
    "        \n",
    "        store['type'] = type\n",
    "        store['geo'] = geo\n",
    "        store['location'] = location\n",
    "        store['variable'] = variable\n",
    "        store['measure'] = measure\n",
    "                \n",
    "        print(\"****triggered save: \")\n",
    "        print(store)\n",
    "        return json.dumps(store)"
   ]
  },
  {
   "cell_type": "code",
   "execution_count": null,
   "metadata": {},
   "outputs": [
    {
     "data": {
      "text/markdown": [
       "---\n",
       "\n",
       "### persist_dd_values\n",
       "\n",
       ">      persist_dd_values (geo:str, location:[<class'str'>], measure:str,\n",
       ">                         type:str, variable:str, json_store:dict)\n",
       "\n",
       "Update the data type to persistent on load\n",
       "\n",
       "|    | **Type** | **Details** |\n",
       "| -- | -------- | ----------- |\n",
       "| geo | str |  |\n",
       "| location | [<class 'str'>] |  |\n",
       "| measure | str |  |\n",
       "| type | str | Data type to save |\n",
       "| variable | str |  |\n",
       "| json_store | dict |  |\n",
       "| **Returns** | **str** |  |"
      ],
      "text/plain": [
       "---\n",
       "\n",
       "### persist_dd_values\n",
       "\n",
       ">      persist_dd_values (geo:str, location:[<class'str'>], measure:str,\n",
       ">                         type:str, variable:str, json_store:dict)\n",
       "\n",
       "Update the data type to persistent on load\n",
       "\n",
       "|    | **Type** | **Details** |\n",
       "| -- | -------- | ----------- |\n",
       "| geo | str |  |\n",
       "| location | [<class 'str'>] |  |\n",
       "| measure | str |  |\n",
       "| type | str | Data type to save |\n",
       "| variable | str |  |\n",
       "| json_store | dict |  |\n",
       "| **Returns** | **str** |  |"
      ]
     },
     "execution_count": null,
     "metadata": {},
     "output_type": "execute_result"
    }
   ],
   "source": [
    "#| hide\n",
    "show_doc(persist_dd_values)"
   ]
  },
  {
   "cell_type": "markdown",
   "metadata": {},
   "source": [
    "## Update location dropdown value based on map click\n",
    "This callback also will trigger an update to the selected card data"
   ]
  },
  {
   "cell_type": "code",
   "execution_count": null,
   "metadata": {},
   "outputs": [],
   "source": [
    "#| export\n",
    "@callback(\n",
    "    Output('locDropdown', 'value', allow_duplicate=True),\n",
    "    Output(map_graph, \"clickData\"),\n",
    "    Output(map_graph, \"selectedData\"),\n",
    "    Input(map_graph, 'clickData'),\n",
    "    Input(map_graph, 'selectedData'),\n",
    "    State('locDropdown', 'value'),\n",
    "    prevent_initial_call=True,\n",
    "    allow_duplicate=True,\n",
    ")\n",
    "def map_click(clickData:dict, # The currently clicked location on the map\n",
    "              selectedData:dict, # The currently selected locations on the map\n",
    "                prev_locs:[str], # The previously selected locations\n",
    "                )->[str]: # Returns the new value for the dropdown\n",
    "    \"\"\"This function updates the dropdown menu based on the map click data\"\"\"\n",
    "\n",
    "    print(\"map clicked updating to:\")\n",
    "    if clickData is None and selectedData is None:\n",
    "        # TODO when none, maybe in future return current saved state, for now doing total\n",
    "        # TODO add a heading and maybe put in an acordian\n",
    "        print(\"Click data was none\")\n",
    "        return prev_locs, None, None\n",
    "    else:\n",
    "        # The locations are list of dictionaries\n",
    "        if selectedData is not None:\n",
    "            print(selectedData)\n",
    "            selections = list(map(lambda x: x['location'], selectedData['points']))\n",
    "            print(selections)\n",
    "\n",
    "        elif clickData is not None:\n",
    "            selections = list(map(lambda x: x['location'], clickData['points']))\n",
    "            print(selections)\n",
    "        locations = []\n",
    "        if prev_locs: locations = prev_locs\n",
    "        print(locations)\n",
    "        # Check whether the new location is already in the prev locations\n",
    "        for selection in selections:\n",
    "            if selection in locations: locations.remove(selection)\n",
    "            else: locations.append(selection)\n",
    "        print(\"Returning Location \" + ', '.join(locations) )\n",
    "    \n",
    "        # returned objects are assigned to the component property of the Output\n",
    "        # After updating fileter, we always reset map selection \n",
    "        return locations, None, None\n",
    "        \n"
   ]
  },
  {
   "cell_type": "code",
   "execution_count": null,
   "metadata": {},
   "outputs": [
    {
     "data": {
      "text/markdown": [
       "---\n",
       "\n",
       "### map_click\n",
       "\n",
       ">      map_click (clickData:dict, selectedData:dict, prev_locs:[<class'str'>])\n",
       "\n",
       "This function updates the dropdown menu based on the map click data\n",
       "\n",
       "|    | **Type** | **Details** |\n",
       "| -- | -------- | ----------- |\n",
       "| clickData | dict | The currently clicked location on the map |\n",
       "| selectedData | dict | The currently selected locations on the map |\n",
       "| prev_locs | [<class 'str'>] | The previously selected locations |\n",
       "| **Returns** | **[<class 'str'>]** | **Returns the new value for the dropdown** |"
      ],
      "text/plain": [
       "---\n",
       "\n",
       "### map_click\n",
       "\n",
       ">      map_click (clickData:dict, selectedData:dict, prev_locs:[<class'str'>])\n",
       "\n",
       "This function updates the dropdown menu based on the map click data\n",
       "\n",
       "|    | **Type** | **Details** |\n",
       "| -- | -------- | ----------- |\n",
       "| clickData | dict | The currently clicked location on the map |\n",
       "| selectedData | dict | The currently selected locations on the map |\n",
       "| prev_locs | [<class 'str'>] | The previously selected locations |\n",
       "| **Returns** | **[<class 'str'>]** | **Returns the new value for the dropdown** |"
      ]
     },
     "execution_count": null,
     "metadata": {},
     "output_type": "execute_result"
    }
   ],
   "source": [
    "#| hide\n",
    "show_doc(map_click)"
   ]
  },
  {
   "cell_type": "markdown",
   "metadata": {},
   "source": [
    "#| hide\n",
    "show_doc(update_measure)"
   ]
  },
  {
   "cell_type": "markdown",
   "metadata": {},
   "source": [
    "## Update map selections"
   ]
  },
  {
   "cell_type": "code",
   "execution_count": null,
   "metadata": {},
   "outputs": [],
   "source": [
    "#| export\n",
    "@callback(\n",
    "    Output(map_graph, \"figure\", allow_duplicate=True),\n",
    "    # TODO - make this a Row object with children, then use function to recontruct\n",
    "    # a group of them\n",
    "    Input('locDropdown', 'value'),\n",
    "    State(\"stored_values\", \"data\"),\n",
    "    State('geo_df', 'data'),\n",
    "    prevent_initial_call=True,\n",
    "    allow_duplicate=True,\n",
    ")\n",
    "def map_selections(locations:[str], # The previously selected locations\n",
    "                json_store:json, # The currently selected data values\n",
    "                dict_sol:dict, # The dataset in dictionary form\n",
    "                )->[str]: # Returns the new value for the dropdown\n",
    "    '''\n",
    "    Update the selected data on the map for the selected locations\n",
    "    Selections is an array of integers indicating the index of the selected points\n",
    "    '''\n",
    "    # Using geo from stored values\n",
    "    store = json.loads(json_store)\n",
    "    geo_input = store['geo']\n",
    "    print(\"Changing map selections\")\n",
    "    sol_geo = SolomonGeo.gen_stored(dict_sol)\n",
    "    print(geo_input)\n",
    "    patched_figure = Patch()\n",
    "    print(sol_geo.geo_levels == geo_input)\n",
    "    ct = np.where(sol_geo.geo_levels == geo_input)[0][0] # Tracks the trace number\n",
    "    pot_locs = map_graph.figure['data'][ct]['locations']\n",
    "    print(locations)\n",
    "    if locations: \n",
    "        selections = np.nonzero(np.in1d(pot_locs, locations))[0]\n",
    "    else: \n",
    "        selections = None \n",
    "\n",
    "    print(selections)\n",
    "    patched_figure['data'][ct]['selectedpoints'] = selections\n",
    "    \n",
    "    # returned objects are assigned to the component property of the Output\n",
    "    # After updating fileter, we always reset map selection \n",
    "    return patched_figure\n",
    "        \n"
   ]
  },
  {
   "cell_type": "code",
   "execution_count": null,
   "metadata": {},
   "outputs": [
    {
     "data": {
      "text/markdown": [
       "---\n",
       "\n",
       "### map_selections\n",
       "\n",
       ">      map_selections (locations:[<class'str'>], json_store:<module'json'from'/h\n",
       ">                      ome/tom/miniforge3/lib/python3.10/json/__init__.py'>,\n",
       ">                      dict_sol:dict)\n",
       "\n",
       "Update the selected data on the map for the selected locations\n",
       "Selections is an array of integers indicating the index of the selected points\n",
       "\n",
       "|    | **Type** | **Details** |\n",
       "| -- | -------- | ----------- |\n",
       "| locations | [<class 'str'>] | The previously selected locations |\n",
       "| json_store | json | The currently selected data values |\n",
       "| dict_sol | dict | The dataset in dictionary form |\n",
       "| **Returns** | **[<class 'str'>]** | **Returns the new value for the dropdown** |"
      ],
      "text/plain": [
       "---\n",
       "\n",
       "### map_selections\n",
       "\n",
       ">      map_selections (locations:[<class'str'>], json_store:<module'json'from'/h\n",
       ">                      ome/tom/miniforge3/lib/python3.10/json/__init__.py'>,\n",
       ">                      dict_sol:dict)\n",
       "\n",
       "Update the selected data on the map for the selected locations\n",
       "Selections is an array of integers indicating the index of the selected points\n",
       "\n",
       "|    | **Type** | **Details** |\n",
       "| -- | -------- | ----------- |\n",
       "| locations | [<class 'str'>] | The previously selected locations |\n",
       "| json_store | json | The currently selected data values |\n",
       "| dict_sol | dict | The dataset in dictionary form |\n",
       "| **Returns** | **[<class 'str'>]** | **Returns the new value for the dropdown** |"
      ]
     },
     "execution_count": null,
     "metadata": {},
     "output_type": "execute_result"
    }
   ],
   "source": [
    "#| hide\n",
    "show_doc(map_selections)"
   ]
  },
  {
   "cell_type": "markdown",
   "metadata": {},
   "source": [
    "## Update the location options based on geography selected"
   ]
  },
  {
   "cell_type": "code",
   "execution_count": null,
   "metadata": {},
   "outputs": [],
   "source": [
    "#| export\n",
    "@callback(\n",
    "    Output(dropdown_location, 'children'),\n",
    "    Input(dropdown_geo, 'value'),\n",
    "    State('geo_df', 'data'),\n",
    "    State('locDropdown', 'value'),\n",
    "    allow_duplicate=True,\n",
    "    prevent_initial_call=True\n",
    ")\n",
    "def update_geography(geo_input:str, # User input from the geography dropdown\n",
    "                    dict_sol:dict, # The dataset in dictionary form\n",
    "                    locations:[str], # Currently selected locations\n",
    "              )->[str]: # Returns a new list of locations to display\n",
    "    '''\n",
    "    Updates the dropdown_location dropdown based on the currently selected data aggregation.\n",
    "    Check to see if current locations are in geography, if they are not then reset them.\n",
    "    '''\n",
    "    sol_geo = SolomonGeo.gen_stored(dict_sol) # reload the data\n",
    "    \n",
    "    # If all selected locations are in new geo, then keep old locations\n",
    "    print(\"Does this bit fail\")\n",
    "    new_locations = []\n",
    "    if locations != [] and set(locations) <= set(sol_geo.locations[geo_input]):\n",
    "        new_locations = locations\n",
    "        print(\"reset locations - mismatched\")\n",
    "\n",
    "    print('catch this here')\n",
    "\n",
    "    return gen_dd(sol_geo.locations[geo_input], 'locDropdown', \"Select a location\", clear = True, multi = True, \n",
    "                  val = new_locations)"
   ]
  },
  {
   "cell_type": "code",
   "execution_count": null,
   "metadata": {},
   "outputs": [
    {
     "data": {
      "text/markdown": [
       "---\n",
       "\n",
       "### update_geography\n",
       "\n",
       ">      update_geography (geo_input:str, dict_sol:dict, locations:[<class'str'>])\n",
       "\n",
       "Updates the dropdown_location dropdown based on the currently selected data aggregation.\n",
       "Check to see if current locations are in geography, if they are not then reset them.\n",
       "\n",
       "|    | **Type** | **Details** |\n",
       "| -- | -------- | ----------- |\n",
       "| geo_input | str | User input from the geography dropdown |\n",
       "| dict_sol | dict | The dataset in dictionary form |\n",
       "| locations | [<class 'str'>] | Currently selected locations |\n",
       "| **Returns** | **[<class 'str'>]** | **Returns a new list of locations to display** |"
      ],
      "text/plain": [
       "---\n",
       "\n",
       "### update_geography\n",
       "\n",
       ">      update_geography (geo_input:str, dict_sol:dict, locations:[<class'str'>])\n",
       "\n",
       "Updates the dropdown_location dropdown based on the currently selected data aggregation.\n",
       "Check to see if current locations are in geography, if they are not then reset them.\n",
       "\n",
       "|    | **Type** | **Details** |\n",
       "| -- | -------- | ----------- |\n",
       "| geo_input | str | User input from the geography dropdown |\n",
       "| dict_sol | dict | The dataset in dictionary form |\n",
       "| locations | [<class 'str'>] | Currently selected locations |\n",
       "| **Returns** | **[<class 'str'>]** | **Returns a new list of locations to display** |"
      ]
     },
     "execution_count": null,
     "metadata": {},
     "output_type": "execute_result"
    }
   ],
   "source": [
    "show_doc(update_geography)"
   ]
  },
  {
   "cell_type": "markdown",
   "metadata": {},
   "source": [
    "## Update the variable dropdowns based on the selection of the overall variable"
   ]
  },
  {
   "cell_type": "code",
   "execution_count": null,
   "metadata": {},
   "outputs": [],
   "source": [
    "#| export\n",
    "@callback(\n",
    "    Output(dd_measure, 'children', allow_duplicate=True),\n",
    "    Input('varDropdown', 'value'),\n",
    "    State('geo_df', 'data'),\n",
    "    State('measureDropdown', 'value'),\n",
    "    allow_duplicate=True,\n",
    "    prevent_initial_call=True\n",
    ")\n",
    "def update_measure(new_var:str, # Selected variable\n",
    "                   dict_sol:dict, # The dataset in dictionary form\n",
    "                   measure:str, # Currently selected measure\n",
    "              )->dcc.Dropdown: # Returns a dropdown of measures for selected variable\n",
    "    '''\n",
    "    Updates the dropdown_location dropdown based on the currently selected data aggregation.\n",
    "    '''\n",
    "    print(\"func um\")\n",
    "    sol_geo = SolomonGeo.gen_stored(dict_sol) # reload the data\n",
    "\n",
    "    # Sometimes this callback is triggered when the measure doesn't need to be reset.\n",
    "    # Check whether measure is in variable, if not reset to 0\n",
    "    if measure not in sol_geo.census_vars[new_var]:\n",
    "        measure = sol_geo.census_vars[new_var][0]\n",
    "\n",
    "    # When a variable is selected, the measure will be set as the first one\n",
    "    return gen_dd(sol_geo.census_vars[new_var], 'measureDropdown', \n",
    "                  val = measure)"
   ]
  },
  {
   "cell_type": "code",
   "execution_count": null,
   "metadata": {},
   "outputs": [
    {
     "data": {
      "text/markdown": [
       "---\n",
       "\n",
       "### update_measure\n",
       "\n",
       ">      update_measure (new_var:str, dict_sol:dict, measure:str)\n",
       "\n",
       "Updates the dropdown_location dropdown based on the currently selected data aggregation.\n",
       "\n",
       "|    | **Type** | **Details** |\n",
       "| -- | -------- | ----------- |\n",
       "| new_var | str | Selected variable |\n",
       "| dict_sol | dict | The dataset in dictionary form |\n",
       "| measure | str | Currently selected measure |\n",
       "| **Returns** | **Dropdown** | **Returns a dropdown of measures for selected variable** |"
      ],
      "text/plain": [
       "---\n",
       "\n",
       "### update_measure\n",
       "\n",
       ">      update_measure (new_var:str, dict_sol:dict, measure:str)\n",
       "\n",
       "Updates the dropdown_location dropdown based on the currently selected data aggregation.\n",
       "\n",
       "|    | **Type** | **Details** |\n",
       "| -- | -------- | ----------- |\n",
       "| new_var | str | Selected variable |\n",
       "| dict_sol | dict | The dataset in dictionary form |\n",
       "| measure | str | Currently selected measure |\n",
       "| **Returns** | **Dropdown** | **Returns a dropdown of measures for selected variable** |"
      ]
     },
     "execution_count": null,
     "metadata": {},
     "output_type": "execute_result"
    }
   ],
   "source": [
    "#| hide\n",
    "show_doc(update_measure)"
   ]
  },
  {
   "cell_type": "markdown",
   "metadata": {},
   "source": [
    "## Update the measure selection from clicks on the bar graph"
   ]
  },
  {
   "cell_type": "code",
   "execution_count": null,
   "metadata": {},
   "outputs": [],
   "source": [
    "#| export\n",
    "@callback(\n",
    "    Output('measureDropdown', 'value', allow_duplicate=True),\n",
    "    Output(selectedBarGraph, \"clickData\"),\n",
    "    Input(selectedBarGraph, 'clickData'),\n",
    "    State('varDropdown', 'value'),\n",
    "    State('geo_df', 'data'),\n",
    "    prevent_initial_call=True,\n",
    "    allow_duplicate=True,\n",
    ")\n",
    "def bar_click(clickData:dict, # The currently clicked location on bar graph\n",
    "                variable:str, # The currently selected variable\n",
    "                dict_sol:dict, # The dataset in dictionary form\n",
    "                )->[str]: # Returns the new value for the dropdown\n",
    "    \"\"\"This function updates the dropdown menu based on the bar graph click data\"\"\"\n",
    "    print(\"func bc\")\n",
    "    sol_geo = SolomonGeo.gen_stored(dict_sol) # reload the data\n",
    "    if clickData is None:\n",
    "        print(\"Click data was none\")\n",
    "        return sol_geo.census_vars[variable][0], None\n",
    "    else:\n",
    "        # The measure are list of dictionaries\n",
    "        selection = list(map(lambda x: x['x'], clickData['points']))[0]\n",
    "    \n",
    "        # returned objects are assigned to the component property of the Output\n",
    "        # After updating fileter, we always reset map selection \n",
    "        return selection, None\n",
    "        \n"
   ]
  },
  {
   "cell_type": "code",
   "execution_count": null,
   "metadata": {},
   "outputs": [
    {
     "data": {
      "text/markdown": [
       "---\n",
       "\n",
       "### bar_click\n",
       "\n",
       ">      bar_click (clickData:dict, variable:str, dict_sol:dict)\n",
       "\n",
       "This function updates the dropdown menu based on the bar graph click data\n",
       "\n",
       "|    | **Type** | **Details** |\n",
       "| -- | -------- | ----------- |\n",
       "| clickData | dict | The currently clicked location on bar graph |\n",
       "| variable | str | The currently selected variable |\n",
       "| dict_sol | dict | The dataset in dictionary form |\n",
       "| **Returns** | **[<class 'str'>]** | **Returns the new value for the dropdown** |"
      ],
      "text/plain": [
       "---\n",
       "\n",
       "### bar_click\n",
       "\n",
       ">      bar_click (clickData:dict, variable:str, dict_sol:dict)\n",
       "\n",
       "This function updates the dropdown menu based on the bar graph click data\n",
       "\n",
       "|    | **Type** | **Details** |\n",
       "| -- | -------- | ----------- |\n",
       "| clickData | dict | The currently clicked location on bar graph |\n",
       "| variable | str | The currently selected variable |\n",
       "| dict_sol | dict | The dataset in dictionary form |\n",
       "| **Returns** | **[<class 'str'>]** | **Returns the new value for the dropdown** |"
      ]
     },
     "execution_count": null,
     "metadata": {},
     "output_type": "execute_result"
    }
   ],
   "source": [
    "#| hide\n",
    "show_doc(bar_click)"
   ]
  },
  {
   "cell_type": "markdown",
   "metadata": {},
   "source": [
    "### Update map based on inputs"
   ]
  },
  {
   "cell_type": "code",
   "execution_count": null,
   "metadata": {},
   "outputs": [],
   "source": [
    "#| export\n",
    "@callback(\n",
    "    Output(map_graph, 'figure', allow_duplicate=True),\n",
    "    Output(mytitle, 'children'),\n",
    "    Input(dropdown_geo, 'value'),\n",
    "    Input(\"segmented_type\", 'value'),\n",
    "    Input('measureDropdown', 'value'),\n",
    "    Input('varDropdown', 'value'),\n",
    "    Input('initial-load', 'data'),\n",
    "    State('geo_df', 'data'),\n",
    "    allow_duplicate=True,\n",
    "    prevent_initial_call=True)\n",
    "def update_map(geo_input:str, # User input from the geography dropdown\n",
    "                data_type:str, # User input of type of data\n",
    "                measure:str, # A string contiaining the census variable and measure split by ':'\n",
    "                variable:str, # The state of the variable dropdown\n",
    "                init_load:{}, # An empty dictionary always\n",
    "                dict_sol:dict, # The dataset in dictionary form\n",
    "              )->(type(go.Figure()), str): # Returns a graph object figure after being updated and the dynamic title\n",
    "    '''\n",
    "    Updates the focus census variable or geography dispalayed on the map\n",
    "    '''\n",
    "    # TODO the None workaround might be taxing on the load times, is there a better way\n",
    "    # or maybe I can check it it needs updating?\n",
    "    patched_figure = Patch()\n",
    "    button_clicked = ctx.triggered_id\n",
    "\n",
    "    sol_geo = SolomonGeo.gen_stored(dict_sol) # reload the data\n",
    "    print(\"first run, updating map\")\n",
    "    print(button_clicked)\n",
    "    print(geo_input)\n",
    "    print(data_type)\n",
    "    print(measure)\n",
    "\n",
    "    # A None value is passed when the page is first loaded, hence\n",
    "    # the the values are reset.\n",
    "    if button_clicked in [dropdown_geo.id, dropdown_location.id, 'initial-load']:\n",
    "        # Update disaplayed geography \n",
    "        for geo in sol_geo.geo_levels:\n",
    "            tn = np.where(sol_geo.geo_levels == geo)[0][0] # Tracks the trace number\n",
    "            patched_figure['data'][tn]['visible'] = geo_input == geo\n",
    "            print(geo)\n",
    "            print(geo_input == geo)\n",
    "        \n",
    "    if button_clicked in [control_type.id, 'initial-load']:\n",
    "        # Update the type of data displayed on map and the hover template\n",
    "        for geo in sol_geo.geo_levels:\n",
    "            tn = np.where(sol_geo.geo_levels == geo)[0][0] # Tracks the trace number\n",
    "            ar = sol_geo.get_census(geo_filter = geo, type_filter=data_type, var = variable, measure = measure).values\n",
    "            ar = ar.reshape((ar.shape[0],))\n",
    "            if data_type == 'Total':\n",
    "                ht = '%{customdata} <extra>%{z}</extra>'\n",
    "            elif data_type == 'Proportion':\n",
    "                ht = '%{customdata} <extra>%{z:.1%}</extra>'\n",
    "            else:\n",
    "                ValueError(\"Data type of map not recognised and note accounted for\")\n",
    "            patched_figure['data'][tn]['z'] = ar\n",
    "            patched_figure['data'][tn]['hovertemplate'] = ht\n",
    "\n",
    "            \n",
    "        \n",
    "\n",
    "    if button_clicked in ['measureDropdown', 'initial-load']:\n",
    "        # Update the z values in map to the data for the requested census variable\n",
    "        for geo in sol_geo.geo_levels:\n",
    "        # Ar updates the z value ie. data disaplyed each time\n",
    "        # TODO this is fairly inefficient, as we are processing each time\n",
    "        # Maybe faster framework like polars could help? or caching but would require a lot of caching\n",
    "            tn = np.where(sol_geo.geo_levels == geo)[0][0] # Tracks the trace number\n",
    "            ar = sol_geo.get_census(geo_filter = geo, type_filter=data_type, var = variable, measure=measure).values\n",
    "            ar = ar.reshape((ar.shape[0],))\n",
    "            patched_figure['data'][tn]['z'] = ar\n",
    "        \n",
    "    # returned objects are assigned to the component property of the Output\n",
    "    # After updating fileter, we always reset map selection \n",
    "\n",
    "    return patched_figure, '## Solomon Islands Data map - ' + geo_input"
   ]
  },
  {
   "cell_type": "code",
   "execution_count": null,
   "metadata": {},
   "outputs": [
    {
     "data": {
      "text/markdown": [
       "---\n",
       "\n",
       "### update_map\n",
       "\n",
       ">      update_map (geo_input:str, data_type:str, measure:str, variable:str,\n",
       ">                  init_load:{}, dict_sol:dict)\n",
       "\n",
       "Updates the focus census variable or geography dispalayed on the map\n",
       "\n",
       "|    | **Type** | **Details** |\n",
       "| -- | -------- | ----------- |\n",
       "| geo_input | str | User input from the geography dropdown |\n",
       "| data_type | str | User input of type of data |\n",
       "| measure | str | A string contiaining the census variable and measure split by ':' |\n",
       "| variable | str | The state of the variable dropdown |\n",
       "| init_load | {} | An empty dictionary always |\n",
       "| dict_sol | dict | The dataset in dictionary form |\n",
       "| **Returns** | **(<class 'plotly.graph_objs._figure.Figure'>, <class 'str'>)** | **Returns a graph object figure after being updated and the dynamic title** |"
      ],
      "text/plain": [
       "---\n",
       "\n",
       "### update_map\n",
       "\n",
       ">      update_map (geo_input:str, data_type:str, measure:str, variable:str,\n",
       ">                  init_load:{}, dict_sol:dict)\n",
       "\n",
       "Updates the focus census variable or geography dispalayed on the map\n",
       "\n",
       "|    | **Type** | **Details** |\n",
       "| -- | -------- | ----------- |\n",
       "| geo_input | str | User input from the geography dropdown |\n",
       "| data_type | str | User input of type of data |\n",
       "| measure | str | A string contiaining the census variable and measure split by ':' |\n",
       "| variable | str | The state of the variable dropdown |\n",
       "| init_load | {} | An empty dictionary always |\n",
       "| dict_sol | dict | The dataset in dictionary form |\n",
       "| **Returns** | **(<class 'plotly.graph_objs._figure.Figure'>, <class 'str'>)** | **Returns a graph object figure after being updated and the dynamic title** |"
      ]
     },
     "execution_count": null,
     "metadata": {},
     "output_type": "execute_result"
    }
   ],
   "source": [
    "#| hide\n",
    "show_doc(update_map)"
   ]
  },
  {
   "cell_type": "markdown",
   "metadata": {},
   "source": [
    "### Update the selected part of the map based on the dropdown"
   ]
  },
  {
   "cell_type": "markdown",
   "metadata": {},
   "source": [
    "### Update Selected Bar Graph based on inputs"
   ]
  },
  {
   "cell_type": "code",
   "execution_count": null,
   "metadata": {},
   "outputs": [],
   "source": [
    "#| export\n",
    "# Callback allows components to interact\n",
    "@callback(\n",
    "    Output(selectedBarGraph, 'figure'),\n",
    "    Input(\"segmented_type\", 'value'),\n",
    "    Input('measureDropdown', 'value'),\n",
    "    Input('locDropdown', 'value'),\n",
    "    Input('initial-load', 'data'),\n",
    "    State(dropdown_geo, 'value'),\n",
    "    State('varDropdown', 'value'),\n",
    "    State('geo_df', 'data'),\n",
    "    allow_duplicate=True,\n",
    "    prevent_initial_call=True\n",
    ")\n",
    "def update_bargraph(data_type:str, # User input of type of data\n",
    "                     measure:str, # A string contiaining the census variable and measure split by ':'\n",
    "                     loc_selection:[str], # The selected locations, may be none\n",
    "                     init_load:{}, # An empty dictionary always, triggers initial load\n",
    "                     geo_input:str, # User input from the geography dropdown\n",
    "                     variable:str, # The state of the variable dropdown\n",
    "                     dict_sol:dict, # The dataset in dictionary form\n",
    "              )->(type(go.Figure())): # Returns a graph object figure after being updated and the dynamic title\n",
    "    '''\n",
    "    Updates the focus census variable or geography dispalayed on the map\n",
    "    '''\n",
    "    sol_geo = SolomonGeo.gen_stored(dict_sol) # reload the data\n",
    "\n",
    "    # Create newly selected barplot\n",
    "    print(\"input\")\n",
    "    print(loc_selection)\n",
    "    locs = []\n",
    "    # Multi dropdown can return None or a list of None.\n",
    "    if len(loc_selection) > 0: \n",
    "        locs = loc_selection\n",
    "    print(\"Going in to function\")\n",
    "    print(locs)\n",
    "    bg = gen_bar_plot(sol_geo, geo_input, variable, measure, locs, data_type)\n",
    "\n",
    "    # returned objects are assigned to the component property of the Output\n",
    "    # After updating fileter, we always reset map selection \n",
    "\n",
    "    return  bg"
   ]
  },
  {
   "cell_type": "markdown",
   "metadata": {},
   "source": [
    "On click, update the contents of the kpi's"
   ]
  },
  {
   "cell_type": "code",
   "execution_count": null,
   "metadata": {},
   "outputs": [
    {
     "data": {
      "text/markdown": [
       "---\n",
       "\n",
       "### update_geography\n",
       "\n",
       ">      update_geography (geo_input:str, dict_sol:dict, locations:[<class'str'>])\n",
       "\n",
       "Updates the dropdown_location dropdown based on the currently selected data aggregation.\n",
       "Check to see if current locations are in geography, if they are not then reset them.\n",
       "\n",
       "|    | **Type** | **Details** |\n",
       "| -- | -------- | ----------- |\n",
       "| geo_input | str | User input from the geography dropdown |\n",
       "| dict_sol | dict | The dataset in dictionary form |\n",
       "| locations | [<class 'str'>] | Currently selected locations |\n",
       "| **Returns** | **[<class 'str'>]** | **Returns a new list of locations to display** |"
      ],
      "text/plain": [
       "---\n",
       "\n",
       "### update_geography\n",
       "\n",
       ">      update_geography (geo_input:str, dict_sol:dict, locations:[<class'str'>])\n",
       "\n",
       "Updates the dropdown_location dropdown based on the currently selected data aggregation.\n",
       "Check to see if current locations are in geography, if they are not then reset them.\n",
       "\n",
       "|    | **Type** | **Details** |\n",
       "| -- | -------- | ----------- |\n",
       "| geo_input | str | User input from the geography dropdown |\n",
       "| dict_sol | dict | The dataset in dictionary form |\n",
       "| locations | [<class 'str'>] | Currently selected locations |\n",
       "| **Returns** | **[<class 'str'>]** | **Returns a new list of locations to display** |"
      ]
     },
     "execution_count": null,
     "metadata": {},
     "output_type": "execute_result"
    }
   ],
   "source": [
    "#| hide\n",
    "show_doc(update_geography)"
   ]
  },
  {
   "cell_type": "code",
   "execution_count": null,
   "metadata": {},
   "outputs": [],
   "source": [
    "#| hide\n",
    "import nbdev; nbdev.nbdev_export()"
   ]
  }
 ],
 "metadata": {
  "kernelspec": {
   "display_name": "python3",
   "language": "python",
   "name": "python3"
  }
 },
 "nbformat": 4,
 "nbformat_minor": 2
}
