{
 "cells": [
  {
   "cell_type": "markdown",
   "metadata": {},
   "source": [
    "# Map Page\n",
    "\n",
    "> The page of the app that generates the map view of the data.  "
   ]
  },
  {
   "cell_type": "code",
   "execution_count": null,
   "metadata": {},
   "outputs": [],
   "source": [
    "#| default_exp pages/map_population"
   ]
  },
  {
   "cell_type": "code",
   "execution_count": null,
   "metadata": {},
   "outputs": [],
   "source": [
    "#| export\n",
    "# TODO minimise these imports a bit where possible\n",
    "from nbdev.showdoc import *\n",
    "# TODO work out how to get around below hack\n",
    "try:\n",
    "    from SolomonIslandsDataMap.dash_components import gen_bar_plot, gen_dd\n",
    "    from SolomonIslandsDataMap.app_data import mytitle, map_graph, selectedBarGraph, stored_data, dropdown_location  \\\n",
    "        , control_type, dd_var, dd_measure, dd_geo_pop, sidebar_population\n",
    "    from SolomonIslandsDataMap.load_data import SolomonGeo\n",
    "except: \n",
    "    from dash_components import gen_bar_plot, gen_dd\n",
    "    from app_data import mytitle, map_graph, selectedBarGraph, stored_data, dropdown_location \\\n",
    "        , control_type, dd_var, dd_measure, dd_geo_pop, sidebar_population\n",
    "    from load_data import SolomonGeo\n",
    "import plotly.express as px\n",
    "import plotly.graph_objects as go\n",
    "import plotly.io as pio # Unless this is used graphs will not be dynamic?\n",
    "import numpy as np\n",
    "from fastcore.test import *\n",
    "from dash import Dash, callback, dcc, Output, Input, State, html, Patch, ctx, register_page  # pip install dash\n",
    "import dash_bootstrap_components as dbc    # pip install dash-bootstrap-components\n",
    "from dash_bootstrap_templates import load_figure_template\n",
    "import dash_mantine_components as dmc\n",
    "import os\n",
    "import json"
   ]
  },
  {
   "cell_type": "code",
   "execution_count": null,
   "metadata": {},
   "outputs": [],
   "source": [
    "#| export\n",
    "# Try catch is added here so that the notebook can be tested without the app being run\n",
    "try:\n",
    "    register_page(__name__, \n",
    "                        path='/',\n",
    "                        title='Population Projections',\n",
    "                        name='Population Projections')\n",
    "except:\n",
    "    pass"
   ]
  },
  {
   "cell_type": "code",
   "execution_count": null,
   "metadata": {},
   "outputs": [],
   "source": [
    "#| export\n",
    "# Creat some hacked init things\n",
    "# TODO again as below, must be a better way\n",
    "init_load = dcc.Store(id=\"initial-load\", data={})\n",
    "init_init = dcc.Store(id=\"initial-pop\", data={})"
   ]
  },
  {
   "cell_type": "markdown",
   "metadata": {},
   "source": [
    "Setup some of  the key data contiaining objects"
   ]
  },
  {
   "cell_type": "markdown",
   "metadata": {},
   "source": [
    "## Customize the Layout"
   ]
  },
  {
   "cell_type": "code",
   "execution_count": null,
   "metadata": {},
   "outputs": [],
   "source": [
    "#| export\n",
    "def layout():\n",
    "    return  dbc.Row(\n",
    "        [dbc.Col(sidebar_population, width = 2),\n",
    "        dbc.Col([\n",
    "            mytitle,\n",
    "            map_graph,\n",
    "            #selectedBarGraph,\n",
    "            stored_data, \n",
    "            init_load, \n",
    "            init_init,], width = 10),\n",
    "            # fires 1ms after page load\n",
    "            dcc.Interval(id=\"interval-timer\", interval=1, max_intervals=1),\n",
    "        ], justify = 'center')"
   ]
  },
  {
   "cell_type": "markdown",
   "metadata": {},
   "source": [
    "### Some things to note about this page\n",
    "- On Load, we change geo to province if it isn't alread there,\n",
    "- We can just use the normal geo drowpdown because it is set to and will remain as Province, the other dropdown is basically just for display, \n",
    "- As a result, we can recycle a lot of the other dropdowns,\n",
    "- Probably the only other one we will overwrite is the map one, to instead display population data. \n",
    "- It's really just updated to display new data not change to much of the other variables and callbacks"
   ]
  },
  {
   "cell_type": "markdown",
   "metadata": {},
   "source": [
    "# Build callbacks to create interaction"
   ]
  },
  {
   "cell_type": "markdown",
   "metadata": {},
   "source": [
    "#| hide\n",
    "show_doc(update_measure)"
   ]
  },
  {
   "cell_type": "markdown",
   "metadata": {},
   "source": [
    "## Update the variable dropdowns based on the selection of the overall variable"
   ]
  },
  {
   "cell_type": "code",
   "execution_count": null,
   "metadata": {},
   "outputs": [],
   "source": [
    "#| export\n",
    "@callback(\n",
    "    Output(dd_measure, 'children', allow_duplicate=True),\n",
    "    Input('varDropdown', 'value'),\n",
    "    State('geo_df', 'data'),\n",
    "    State('measureDropdown', 'value'),\n",
    "    allow_duplicate=True,\n",
    "    prevent_initial_call=True\n",
    ")\n",
    "def update_measure(new_var:str, # Selected variable\n",
    "                   dict_sol:dict, # The dataset in dictionary form\n",
    "                   measure:str, # Currently selected measure\n",
    "              )->dcc.Dropdown: # Returns a dropdown of measures for selected variable\n",
    "    '''\n",
    "    Updates the dropdown_location dropdown based on the currently selected data aggregation.\n",
    "    '''\n",
    "    print(\"func um\")\n",
    "    sol_geo = SolomonGeo.gen_stored(dict_sol) # reload the data\n",
    "\n",
    "    # Sometimes this callback is triggered when the measure doesn't need to be reset.\n",
    "    # Check whether measure is in variable, if not reset to 0\n",
    "    if measure not in sol_geo.census_vars[new_var]:\n",
    "        measure = sol_geo.census_vars[new_var][0]\n",
    "\n",
    "    # When a variable is selected, the measure will be set as the first one\n",
    "    return gen_dd(sol_geo.census_vars[new_var], 'measureDropdown', \n",
    "                  val = measure)"
   ]
  },
  {
   "cell_type": "code",
   "execution_count": null,
   "metadata": {},
   "outputs": [
    {
     "data": {
      "text/markdown": [
       "---\n",
       "\n",
       "### update_measure\n",
       "\n",
       ">      update_measure (new_var:str, dict_sol:dict, measure:str)\n",
       "\n",
       "Updates the dropdown_location dropdown based on the currently selected data aggregation.\n",
       "\n",
       "|    | **Type** | **Details** |\n",
       "| -- | -------- | ----------- |\n",
       "| new_var | str | Selected variable |\n",
       "| dict_sol | dict | The dataset in dictionary form |\n",
       "| measure | str | Currently selected measure |\n",
       "| **Returns** | **Dropdown** | **Returns a dropdown of measures for selected variable** |"
      ],
      "text/plain": [
       "---\n",
       "\n",
       "### update_measure\n",
       "\n",
       ">      update_measure (new_var:str, dict_sol:dict, measure:str)\n",
       "\n",
       "Updates the dropdown_location dropdown based on the currently selected data aggregation.\n",
       "\n",
       "|    | **Type** | **Details** |\n",
       "| -- | -------- | ----------- |\n",
       "| new_var | str | Selected variable |\n",
       "| dict_sol | dict | The dataset in dictionary form |\n",
       "| measure | str | Currently selected measure |\n",
       "| **Returns** | **Dropdown** | **Returns a dropdown of measures for selected variable** |"
      ]
     },
     "execution_count": null,
     "metadata": {},
     "output_type": "execute_result"
    }
   ],
   "source": [
    "#| hide\n",
    "show_doc(update_measure)"
   ]
  },
  {
   "cell_type": "markdown",
   "metadata": {},
   "source": [
    "## Update the measure selection from clicks on the bar graph"
   ]
  },
  {
   "cell_type": "code",
   "execution_count": null,
   "metadata": {},
   "outputs": [],
   "source": [
    "#| export\n",
    "@callback(\n",
    "    Output('measureDropdown', 'value', allow_duplicate=True),\n",
    "    Output(selectedBarGraph, \"clickData\"),\n",
    "    Input(selectedBarGraph, 'clickData'),\n",
    "    State('varDropdown', 'value'),\n",
    "    State('geo_df', 'data'),\n",
    "    prevent_initial_call=True,\n",
    "    allow_duplicate=True,\n",
    ")\n",
    "def bar_click(clickData:dict, # The currently clicked location on bar graph\n",
    "                variable:str, # The currently selected variable\n",
    "                dict_sol:dict, # The dataset in dictionary form\n",
    "                )->[str]: # Returns the new value for the dropdown\n",
    "    \"\"\"This function updates the dropdown menu based on the bar graph click data\"\"\"\n",
    "    print(\"func bc\")\n",
    "    sol_geo = SolomonGeo.gen_stored(dict_sol) # reload the data\n",
    "    if clickData is None:\n",
    "        print(\"Click data was none\")\n",
    "        return sol_geo.census_vars[variable][0], None\n",
    "    else:\n",
    "        # The measure are list of dictionaries\n",
    "        selection = list(map(lambda x: x['x'], clickData['points']))[0]\n",
    "    \n",
    "        # returned objects are assigned to the component property of the Output\n",
    "        # After updating fileter, we always reset map selection \n",
    "        return selection, None\n",
    "        \n"
   ]
  },
  {
   "cell_type": "code",
   "execution_count": null,
   "metadata": {},
   "outputs": [
    {
     "data": {
      "text/markdown": [
       "---\n",
       "\n",
       "### bar_click\n",
       "\n",
       ">      bar_click (clickData:dict, variable:str, dict_sol:dict)\n",
       "\n",
       "This function updates the dropdown menu based on the bar graph click data\n",
       "\n",
       "|    | **Type** | **Details** |\n",
       "| -- | -------- | ----------- |\n",
       "| clickData | dict | The currently clicked location on bar graph |\n",
       "| variable | str | The currently selected variable |\n",
       "| dict_sol | dict | The dataset in dictionary form |\n",
       "| **Returns** | **[<class 'str'>]** | **Returns the new value for the dropdown** |"
      ],
      "text/plain": [
       "---\n",
       "\n",
       "### bar_click\n",
       "\n",
       ">      bar_click (clickData:dict, variable:str, dict_sol:dict)\n",
       "\n",
       "This function updates the dropdown menu based on the bar graph click data\n",
       "\n",
       "|    | **Type** | **Details** |\n",
       "| -- | -------- | ----------- |\n",
       "| clickData | dict | The currently clicked location on bar graph |\n",
       "| variable | str | The currently selected variable |\n",
       "| dict_sol | dict | The dataset in dictionary form |\n",
       "| **Returns** | **[<class 'str'>]** | **Returns the new value for the dropdown** |"
      ]
     },
     "execution_count": null,
     "metadata": {},
     "output_type": "execute_result"
    }
   ],
   "source": [
    "#| hide\n",
    "show_doc(bar_click)"
   ]
  },
  {
   "cell_type": "markdown",
   "metadata": {},
   "source": [
    "### Update map based on inputs"
   ]
  },
  {
   "cell_type": "code",
   "execution_count": null,
   "metadata": {},
   "outputs": [],
   "source": [
    "#| export\n",
    "@callback(\n",
    "    Output(map_graph, 'figure', allow_duplicate=True),\n",
    "    Output(mytitle, 'children'),\n",
    "    Input(dropdown_geo, 'value'),\n",
    "    Input(\"segmented_type\", 'value'),\n",
    "    Input('measureDropdown', 'value'),\n",
    "    Input('varDropdown', 'value'),\n",
    "    Input('initial-load', 'data'),\n",
    "    State('geo_df', 'data'),\n",
    "    allow_duplicate=True,\n",
    "    prevent_initial_call=True)\n",
    "def update_map(geo_input:str, # User input from the geography dropdown\n",
    "                data_type:str, # User input of type of data\n",
    "                measure:str, # A string contiaining the census variable and measure split by ':'\n",
    "                variable:str, # The state of the variable dropdown\n",
    "                init_load:{}, # An empty dictionary always\n",
    "                dict_sol:dict, # The dataset in dictionary form\n",
    "              )->(type(go.Figure()), str): # Returns a graph object figure after being updated and the dynamic title\n",
    "    '''\n",
    "    Updates the focus census variable or geography dispalayed on the map\n",
    "    '''\n",
    "    # TODO the None workaround might be taxing on the load times, is there a better way\n",
    "    # or maybe I can check it it needs updating?\n",
    "    patched_figure = Patch()\n",
    "    button_clicked = ctx.triggered_id\n",
    "\n",
    "    sol_geo = SolomonGeo.gen_stored(dict_sol) # reload the data\n",
    "    print(\"first run, updating map\")\n",
    "    print(button_clicked)\n",
    "    print(geo_input)\n",
    "    print(data_type)\n",
    "    print(measure)\n",
    "\n",
    "    # A None value is passed when the page is first loaded, hence\n",
    "    # the the values are reset.\n",
    "    if button_clicked in [dropdown_geo.id, dropdown_location.id, 'initial-load']:\n",
    "        # Update disaplayed geography \n",
    "        for geo in sol_geo.geo_levels:\n",
    "            tn = np.where(sol_geo.geo_levels == geo)[0][0] # Tracks the trace number\n",
    "            patched_figure['data'][tn]['visible'] = geo_input == geo\n",
    "            print(geo)\n",
    "            print(geo_input == geo)\n",
    "        \n",
    "    if button_clicked in [control_type.id, 'initial-load']:\n",
    "        # Update the type of data displayed on map and the hover template\n",
    "        for geo in sol_geo.geo_levels:\n",
    "            tn = np.where(sol_geo.geo_levels == geo)[0][0] # Tracks the trace number\n",
    "            ar = sol_geo.get_census(geo_filter = geo, type_filter=data_type, var = variable, measure = measure).values\n",
    "            ar = ar.reshape((ar.shape[0],))\n",
    "            if data_type == 'Total':\n",
    "                ht = '%{customdata} <extra>%{z}</extra>'\n",
    "            elif data_type == 'Proportion':\n",
    "                ht = '%{customdata} <extra>%{z:.1%}</extra>'\n",
    "            else:\n",
    "                ValueError(\"Data type of map not recognised and note accounted for\")\n",
    "            patched_figure['data'][tn]['z'] = ar\n",
    "            patched_figure['data'][tn]['hovertemplate'] = ht\n",
    "\n",
    "            \n",
    "        \n",
    "\n",
    "    if button_clicked in ['measureDropdown', 'initial-load']:\n",
    "        # Update the z values in map to the data for the requested census variable\n",
    "        for geo in sol_geo.geo_levels:\n",
    "        # Ar updates the z value ie. data disaplyed each time\n",
    "        # TODO this is fairly inefficient, as we are processing each time\n",
    "        # Maybe faster framework like polars could help? or caching but would require a lot of caching\n",
    "            tn = np.where(sol_geo.geo_levels == geo)[0][0] # Tracks the trace number\n",
    "            ar = sol_geo.get_census(geo_filter = geo, type_filter=data_type, var = variable, measure=measure).values\n",
    "            ar = ar.reshape((ar.shape[0],))\n",
    "            patched_figure['data'][tn]['z'] = ar\n",
    "        \n",
    "    # returned objects are assigned to the component property of the Output\n",
    "    # After updating fileter, we always reset map selection \n",
    "\n",
    "    return patched_figure, '## Solomon Islands Data map - ' + geo_input"
   ]
  },
  {
   "cell_type": "code",
   "execution_count": null,
   "metadata": {},
   "outputs": [
    {
     "data": {
      "text/markdown": [
       "---\n",
       "\n",
       "### update_map\n",
       "\n",
       ">      update_map (geo_input:str, data_type:str, measure:str, variable:str,\n",
       ">                  init_load:{}, dict_sol:dict)\n",
       "\n",
       "Updates the focus census variable or geography dispalayed on the map\n",
       "\n",
       "|    | **Type** | **Details** |\n",
       "| -- | -------- | ----------- |\n",
       "| geo_input | str | User input from the geography dropdown |\n",
       "| data_type | str | User input of type of data |\n",
       "| measure | str | A string contiaining the census variable and measure split by ':' |\n",
       "| variable | str | The state of the variable dropdown |\n",
       "| init_load | {} | An empty dictionary always |\n",
       "| dict_sol | dict | The dataset in dictionary form |\n",
       "| **Returns** | **(<class 'plotly.graph_objs._figure.Figure'>, <class 'str'>)** | **Returns a graph object figure after being updated and the dynamic title** |"
      ],
      "text/plain": [
       "---\n",
       "\n",
       "### update_map\n",
       "\n",
       ">      update_map (geo_input:str, data_type:str, measure:str, variable:str,\n",
       ">                  init_load:{}, dict_sol:dict)\n",
       "\n",
       "Updates the focus census variable or geography dispalayed on the map\n",
       "\n",
       "|    | **Type** | **Details** |\n",
       "| -- | -------- | ----------- |\n",
       "| geo_input | str | User input from the geography dropdown |\n",
       "| data_type | str | User input of type of data |\n",
       "| measure | str | A string contiaining the census variable and measure split by ':' |\n",
       "| variable | str | The state of the variable dropdown |\n",
       "| init_load | {} | An empty dictionary always |\n",
       "| dict_sol | dict | The dataset in dictionary form |\n",
       "| **Returns** | **(<class 'plotly.graph_objs._figure.Figure'>, <class 'str'>)** | **Returns a graph object figure after being updated and the dynamic title** |"
      ]
     },
     "execution_count": null,
     "metadata": {},
     "output_type": "execute_result"
    }
   ],
   "source": [
    "#| hide\n",
    "show_doc(update_map)"
   ]
  },
  {
   "cell_type": "markdown",
   "metadata": {},
   "source": [
    "### Update the selected part of the map based on the dropdown"
   ]
  },
  {
   "cell_type": "markdown",
   "metadata": {},
   "source": [
    "### Update Selected Bar Graph based on inputs"
   ]
  },
  {
   "cell_type": "code",
   "execution_count": null,
   "metadata": {},
   "outputs": [],
   "source": [
    "#| export\n",
    "# Callback allows components to interact\n",
    "@callback(\n",
    "    Output(selectedBarGraph, 'figure'),\n",
    "    Input(\"segmented_type\", 'value'),\n",
    "    Input('measureDropdown', 'value'),\n",
    "    Input('locDropdown', 'value'),\n",
    "    Input('initial-load', 'data'),\n",
    "    State(dropdown_geo, 'value'),\n",
    "    State('varDropdown', 'value'),\n",
    "    State('geo_df', 'data'),\n",
    "    allow_duplicate=True,\n",
    "    prevent_initial_call=True\n",
    ")\n",
    "def update_bargraph(data_type:str, # User input of type of data\n",
    "                     measure:str, # A string contiaining the census variable and measure split by ':'\n",
    "                     loc_selection:[str], # The selected locations, may be none\n",
    "                     init_load:{}, # An empty dictionary always, triggers initial load\n",
    "                     geo_input:str, # User input from the geography dropdown\n",
    "                     variable:str, # The state of the variable dropdown\n",
    "                     dict_sol:dict, # The dataset in dictionary form\n",
    "              )->(type(go.Figure())): # Returns a graph object figure after being updated and the dynamic title\n",
    "    '''\n",
    "    Updates the focus census variable or geography dispalayed on the map\n",
    "    '''\n",
    "    sol_geo = SolomonGeo.gen_stored(dict_sol) # reload the data\n",
    "\n",
    "    # Create newly selected barplot\n",
    "    print(\"input\")\n",
    "    print(loc_selection)\n",
    "    locs = []\n",
    "    # Multi dropdown can return None or a list of None.\n",
    "    if len(loc_selection) > 0: \n",
    "        locs = loc_selection\n",
    "    print(\"Going in to function\")\n",
    "    print(locs)\n",
    "    bg = gen_bar_plot(sol_geo, geo_input, variable, measure, locs, data_type)\n",
    "\n",
    "    # returned objects are assigned to the component property of the Output\n",
    "    # After updating fileter, we always reset map selection \n",
    "\n",
    "    return  bg"
   ]
  },
  {
   "cell_type": "markdown",
   "metadata": {},
   "source": [
    "On click, update the contents of the kpi's"
   ]
  },
  {
   "cell_type": "code",
   "execution_count": null,
   "metadata": {},
   "outputs": [
    {
     "data": {
      "text/markdown": [
       "---\n",
       "\n",
       "### update_geography\n",
       "\n",
       ">      update_geography (geo_input:str, dict_sol:dict, locations:[<class'str'>])\n",
       "\n",
       "Updates the dropdown_location dropdown based on the currently selected data aggregation.\n",
       "Check to see if current locations are in geography, if they are not then reset them.\n",
       "\n",
       "|    | **Type** | **Details** |\n",
       "| -- | -------- | ----------- |\n",
       "| geo_input | str | User input from the geography dropdown |\n",
       "| dict_sol | dict | The dataset in dictionary form |\n",
       "| locations | [<class 'str'>] | Currently selected locations |\n",
       "| **Returns** | **[<class 'str'>]** | **Returns a new list of locations to display** |"
      ],
      "text/plain": [
       "---\n",
       "\n",
       "### update_geography\n",
       "\n",
       ">      update_geography (geo_input:str, dict_sol:dict, locations:[<class'str'>])\n",
       "\n",
       "Updates the dropdown_location dropdown based on the currently selected data aggregation.\n",
       "Check to see if current locations are in geography, if they are not then reset them.\n",
       "\n",
       "|    | **Type** | **Details** |\n",
       "| -- | -------- | ----------- |\n",
       "| geo_input | str | User input from the geography dropdown |\n",
       "| dict_sol | dict | The dataset in dictionary form |\n",
       "| locations | [<class 'str'>] | Currently selected locations |\n",
       "| **Returns** | **[<class 'str'>]** | **Returns a new list of locations to display** |"
      ]
     },
     "execution_count": null,
     "metadata": {},
     "output_type": "execute_result"
    }
   ],
   "source": [
    "#| hide\n",
    "show_doc(update_geography)"
   ]
  },
  {
   "cell_type": "code",
   "execution_count": null,
   "metadata": {},
   "outputs": [],
   "source": [
    "#| hide\n",
    "import nbdev; nbdev.nbdev_export()"
   ]
  }
 ],
 "metadata": {
  "kernelspec": {
   "display_name": "python3",
   "language": "python",
   "name": "python3"
  }
 },
 "nbformat": 4,
 "nbformat_minor": 2
}
