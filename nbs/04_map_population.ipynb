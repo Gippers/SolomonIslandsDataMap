{
 "cells": [
  {
   "cell_type": "markdown",
   "metadata": {},
   "source": [
    "# Map Page\n",
    "\n",
    "> The page of the app that generates the map view of the data.  "
   ]
  },
  {
   "cell_type": "code",
   "execution_count": null,
   "metadata": {},
   "outputs": [],
   "source": [
    "#| default_exp pages/map_population"
   ]
  },
  {
   "cell_type": "code",
   "execution_count": null,
   "metadata": {},
   "outputs": [],
   "source": [
    "#| export\n",
    "# TODO minimise these imports a bit where possible\n",
    "from nbdev.showdoc import *\n",
    "# TODO work out how to get around below hack\n",
    "try:\n",
    "    from SolomonIslandsDataMap.dash_components import gen_pyramid, gen_dd, gen_kpi\n",
    "    from SolomonIslandsDataMap.app_data import map_graph, year_slider\\\n",
    "        , popPyramid, popKpi, mytitle\n",
    "    from SolomonIslandsDataMap.load_data import SolomonGeo\n",
    "except: \n",
    "    from dash_components import gen_pyramid, gen_dd, gen_kpi\n",
    "    from app_data import  map_graph, year_slider\\\n",
    "        , popPyramid,  popKpi, mytitle\n",
    "    from load_data import SolomonGeo\n",
    "import plotly.express as px\n",
    "import plotly.graph_objects as go\n",
    "import plotly.io as pio # Unless this is used graphs will not be dynamic?\n",
    "import numpy as np\n",
    "from fastcore.test import *\n",
    "from dash import Dash, callback, dcc, Output, Input, State, html, Patch, ctx, register_page  # pip install dash\n",
    "import dash_bootstrap_components as dbc    # pip install dash-bootstrap-components\n",
    "from dash_bootstrap_templates import load_figure_template\n",
    "import dash_mantine_components as dmc\n",
    "import os\n",
    "import json"
   ]
  },
  {
   "cell_type": "code",
   "execution_count": null,
   "metadata": {},
   "outputs": [],
   "source": [
    "#| export\n",
    "# Try catch is added here so that the notebook can be tested without the app being run\n",
    "try:\n",
    "    register_page(__name__, \n",
    "                        path='/population_projections',\n",
    "                        title='Population Projections',\n",
    "                        name='Population Projections')\n",
    "except:\n",
    "    pass"
   ]
  },
  {
   "cell_type": "markdown",
   "metadata": {},
   "source": [
    "This data store is used to trigger callbacks on page load and to know which page is loaded."
   ]
  },
  {
   "cell_type": "code",
   "execution_count": null,
   "metadata": {},
   "outputs": [],
   "source": [
    "#| export\n",
    "# this initial data store is used to trigger callbacks on page load and know\n",
    "init_init = dcc.Store(id=\"initial-initial\", data='pop')\n"
   ]
  },
  {
   "cell_type": "markdown",
   "metadata": {},
   "source": [
    "Setup some of  the key data contiaining objects"
   ]
  },
  {
   "cell_type": "markdown",
   "metadata": {},
   "source": [
    "## Customize the Layout"
   ]
  },
  {
   "cell_type": "code",
   "execution_count": null,
   "metadata": {},
   "outputs": [],
   "source": [
    "#| export\n",
    "def layout():\n",
    "    return  init_init, mytitle, map_graph, year_slider,\\\n",
    "        dbc.Row([\n",
    "                popKpi,\n",
    "                dbc.Col([popPyramid], width = 8, align = 'center')\n",
    "            ], justify = 'around'), "
   ]
  },
  {
   "cell_type": "markdown",
   "metadata": {},
   "source": [
    "### Some things to note about this page\n",
    "- On Load, we change geo to province if it isn't alread there,\n",
    "- We can just use the normal geo drowpdown because it is set to and will remain as Province, the other dropdown is basically just for display, \n",
    "- As a result, we can recycle a lot of the other dropdowns,\n",
    "- Probably the only other one we will overwrite is the map one, to instead display population data. \n",
    "- Also we add the age bracket dropdown\n",
    "- And we use a different measure and variable selection\n",
    "- It's really just updated to display new data not change to much of the other variables and callbacks\n"
   ]
  },
  {
   "cell_type": "markdown",
   "metadata": {},
   "source": [
    "# Build callbacks to create interaction"
   ]
  },
  {
   "cell_type": "markdown",
   "metadata": {},
   "source": [
    "## Update the variable dropdowns based on the selection of the overall variable"
   ]
  },
  {
   "cell_type": "code",
   "execution_count": null,
   "metadata": {},
   "outputs": [],
   "source": [
    "#| export\n",
    "@callback(\n",
    "    Output('measurePopDiv', 'children', allow_duplicate=True),\n",
    "    Input('varDropdownPop', 'value'),\n",
    "    State('geo_df', 'data'),\n",
    "    State('measureDropdownPop', 'value'),\n",
    "    allow_duplicate=True,\n",
    "    prevent_initial_call=True\n",
    ")\n",
    "def update_measure_pop(new_var:str, # Selected variable\n",
    "                   dict_sol:dict, # The dataset in dictionary form\n",
    "                   measure:str, # Currently selected measure\n",
    "              )->dcc.Dropdown: # Returns a dropdown of measures for selected variable\n",
    "    '''\n",
    "    Updates the dropdown_location dropdown based on the currently selected data aggregation.\n",
    "    '''\n",
    "    sol_geo = SolomonGeo.gen_stored(dict_sol) # reload the data\n",
    "\n",
    "    # Sometimes this callback is triggered when the measure doesn't need to be reset.\n",
    "    # Check whether measure is in variable, if not reset to 0\n",
    "    if measure not in sol_geo.population_vars[new_var]:\n",
    "        measure = sol_geo.population_vars[new_var][0]\n",
    "\n",
    "    # When a variable is selected, the measure will be set as the first one\n",
    "    return gen_dd(sol_geo.population_vars[new_var], 'measureDropdownPop', \n",
    "                  val = measure)"
   ]
  },
  {
   "cell_type": "code",
   "execution_count": null,
   "metadata": {},
   "outputs": [
    {
     "data": {
      "text/markdown": [
       "---\n",
       "\n",
       "### update_measure_pop\n",
       "\n",
       ">      update_measure_pop (new_var:str, dict_sol:dict, measure:str)\n",
       "\n",
       "Updates the dropdown_location dropdown based on the currently selected data aggregation.\n",
       "\n",
       "|    | **Type** | **Details** |\n",
       "| -- | -------- | ----------- |\n",
       "| new_var | str | Selected variable |\n",
       "| dict_sol | dict | The dataset in dictionary form |\n",
       "| measure | str | Currently selected measure |\n",
       "| **Returns** | **Dropdown** | **Returns a dropdown of measures for selected variable** |"
      ],
      "text/plain": [
       "---\n",
       "\n",
       "### update_measure_pop\n",
       "\n",
       ">      update_measure_pop (new_var:str, dict_sol:dict, measure:str)\n",
       "\n",
       "Updates the dropdown_location dropdown based on the currently selected data aggregation.\n",
       "\n",
       "|    | **Type** | **Details** |\n",
       "| -- | -------- | ----------- |\n",
       "| new_var | str | Selected variable |\n",
       "| dict_sol | dict | The dataset in dictionary form |\n",
       "| measure | str | Currently selected measure |\n",
       "| **Returns** | **Dropdown** | **Returns a dropdown of measures for selected variable** |"
      ]
     },
     "execution_count": null,
     "metadata": {},
     "output_type": "execute_result"
    }
   ],
   "source": [
    "#| hide\n",
    "show_doc(update_measure_pop)"
   ]
  },
  {
   "cell_type": "markdown",
   "metadata": {},
   "source": [
    "## Update the measure selection from Population Pyramid clicks"
   ]
  },
  {
   "cell_type": "code",
   "execution_count": null,
   "metadata": {},
   "outputs": [],
   "source": [
    "#| export\n",
    "# TODO add the population pyramid clicks one here. Needs population pyramid, use below markdown for inspiration\n",
    "        \n"
   ]
  },
  {
   "cell_type": "markdown",
   "metadata": {},
   "source": [
    "#| export\n",
    "@callback(\n",
    "    Output('measureDropdown', 'value', allow_duplicate=True),\n",
    "    Output(selectedBarGraph, \"clickData\"),\n",
    "    Input(selectedBarGraph, 'clickData'),\n",
    "    State('varDropdown', 'value'),\n",
    "    State('geo_df', 'data'),\n",
    "    prevent_initial_call=True,\n",
    "    allow_duplicate=True,\n",
    ")\n",
    "def bar_click(clickData:dict, # The currently clicked location on bar graph\n",
    "                variable:str, # The currently selected variable\n",
    "                dict_sol:dict, # The dataset in dictionary form\n",
    "                )->[str]: # Returns the new value for the dropdown\n",
    "    \"\"\"This function updates the dropdown menu based on the bar graph click data\"\"\"\n",
    "    print(\"func bc\")\n",
    "    sol_geo = SolomonGeo.gen_stored(dict_sol) # reload the data\n",
    "    if clickData is None:\n",
    "        print(\"Click data was none\")\n",
    "        return sol_geo.census_vars[variable][0], None\n",
    "    else:\n",
    "        # The measure are list of dictionaries\n",
    "        selection = list(map(lambda x: x['x'], clickData['points']))[0]\n",
    "    \n",
    "        # returned objects are assigned to the component property of the Output\n",
    "        # After updating fileter, we always reset map selection \n",
    "        return selection, None\n",
    "        "
   ]
  },
  {
   "cell_type": "code",
   "execution_count": null,
   "metadata": {},
   "outputs": [],
   "source": [
    "#| hide\n",
    "#show_doc(bar_click)"
   ]
  },
  {
   "cell_type": "markdown",
   "metadata": {},
   "source": [
    "### Update map based on inputs"
   ]
  },
  {
   "cell_type": "code",
   "execution_count": null,
   "metadata": {},
   "outputs": [],
   "source": [
    "# TODO should this be a function related to the other map scirpt?? "
   ]
  },
  {
   "cell_type": "code",
   "execution_count": null,
   "metadata": {},
   "outputs": [],
   "source": [
    "#| export\n",
    "# TODO - this could quite liekly be in map_page calbback as well\n",
    "# TODO - add age here\n",
    "@callback(\n",
    "    Output('map', 'figure', allow_duplicate=True),\n",
    "    Input(\"segmented_geo\", 'value'),\n",
    "    Input(\"segmented_type\", 'value'),\n",
    "    Input('measureDropdownPop', 'value'),\n",
    "    Input('varDropdownPop', 'value'),\n",
    "    Input('age_dropdown', 'value'),\n",
    "    Input(\"year_slider\", \"value\"),\n",
    "    Input('segmented_geo', 'disabled'),\n",
    "    State('geo_df', 'data'),\n",
    "    allow_duplicate=True,\n",
    "    prevent_initial_call=True)\n",
    "def update_map_pop(geog:str, # current geography\n",
    "                    data_type:str, # User input of type of data\n",
    "                    measure:str, # A string contiaining the census variable and measure split by ':'\n",
    "                    variable:str, # The state of the variable dropdown\n",
    "                    age:[str], # Age Brackets to display\n",
    "                    year:int, # The selected projection year\n",
    "                    geo_trigger:int, # Listening for whether segmented geo is locked, signaling that map\n",
    "                                        # page was loaded after geo data was updated.\n",
    "                    dict_sol:dict, # The dataset in dictionary form\n",
    "              )->type(go.Figure()): # Returns a graph object figure after being updated and the dynamic title\n",
    "    '''\n",
    "    Updates the focus census variable or geography dispalayed on the map.\n",
    "    Geo_trigger listens for when the geography is blacked out. This happens when the population map page is loaded,\n",
    "    in particular, it happens after the geography variable is fixed. In this case, we re update everything on the map\n",
    "    '''\n",
    "    # TODO the None workaround might be taxing on the load times, is there a better way\n",
    "    # or maybe I can check it it needs updating?\n",
    "    patched_figure = Patch()\n",
    "    button_clicked = ctx.triggered_id\n",
    "    init_load = False\n",
    "    if geo_trigger == True: init_load = True\n",
    "\n",
    "    sol_geo = SolomonGeo.gen_stored(dict_sol) # reload the data\n",
    "\n",
    "    # A None value is passed when the page is first loaded, hence\n",
    "    # the the values are reset.\n",
    "    # Hardcoded to province as we only have forcasts by province\n",
    "    if button_clicked in [\"segmented_geo\"] or init_load == True:\n",
    "        # Update disaplayed geography \n",
    "        for geo in sol_geo.geo_levels:\n",
    "            tn = np.where(sol_geo.geo_levels == geo)[0][0] # Tracks the trace number\n",
    "            patched_figure['data'][tn]['visible'] = geog == geo\n",
    "        \n",
    "    if button_clicked in [\"segmented_type\"] or init_load == True:\n",
    "        # Update the type of data displayed on map and the hover template\n",
    "        for geo in sol_geo.geo_levels:\n",
    "            tn = np.where(sol_geo.geo_levels == geo)[0][0] # Tracks the trace number\n",
    "            # All years allows us to set the min and max colour as the min and max across all years\n",
    "            all_years = sol_geo.get_pop(years = sol_geo.pop_years, var = variable, measure = measure, type_filter=data_type,\n",
    "                                  agg = True, agg_location = True, ages = age)\n",
    "            ar = all_years.loc[year].values[:, -1]\n",
    "            all_years = all_years.values[:, -1]\n",
    "            ar = ar.reshape((ar.shape[0],))\n",
    "            if data_type == 'Total':\n",
    "                ht = '%{customdata} <extra>%{z}</extra>'\n",
    "            elif data_type == 'Proportion':\n",
    "                ht = '%{customdata} <extra>%{z:.1%}</extra>'\n",
    "            else:\n",
    "                ValueError(\"Data type of map not recognised and note accounted for\")\n",
    "            patched_figure['data'][tn]['z'] = ar\n",
    "            patched_figure['data'][tn]['zmin'] = np.min(all_years)\n",
    "            patched_figure['data'][tn]['zmax'] = np.max(all_years)\n",
    "            patched_figure['data'][tn]['hovertemplate'] = ht\n",
    "\n",
    "            \n",
    "        \n",
    "\n",
    "    if button_clicked in ['measureDropdownPop', 'year_slider', 'age_dropdown'] or init_load == True:\n",
    "        # Update the z values in map to the data for the requested census variable\n",
    "        for geo in sol_geo.geo_levels:\n",
    "        # Ar updates the z value ie. data disaplyed each time\n",
    "        # TODO this is fairly inefficient, as we are processing each time\n",
    "        # Maybe faster framework like polars could help? or caching but would require a lot of caching\n",
    "            tn = np.where(sol_geo.geo_levels == geo)[0][0] # Tracks the trace number\n",
    "            \n",
    "            # All years allows us to set the min and max colour as the min and max across all years\n",
    "            all_years = sol_geo.get_pop(years = sol_geo.pop_years, var = variable, measure = measure, type_filter=data_type,\n",
    "                                  agg = True, agg_location = True, ages = age)\n",
    "            ar = all_years.loc[year].values[:, -1]\n",
    "            all_years = all_years.values[:, -1]\n",
    "            ar = ar.reshape((ar.shape[0],))\n",
    "            patched_figure['data'][tn]['z'] = ar\n",
    "            patched_figure['data'][tn]['zmin'] = np.min(all_years)\n",
    "            patched_figure['data'][tn]['zmax'] = np.max(all_years)\n",
    "        \n",
    "    # returned objects are assigned to the component property of the Output\n",
    "    # After updating fileter, we always reset map selection \n",
    "\n",
    "    return patched_figure"
   ]
  },
  {
   "cell_type": "code",
   "execution_count": null,
   "metadata": {},
   "outputs": [
    {
     "data": {
      "text/markdown": [
       "---\n",
       "\n",
       "### update_map_pop\n",
       "\n",
       ">      update_map_pop (geog:str, data_type:str, measure:str, variable:str,\n",
       ">                      age:[<class'str'>], year:int, geo_trigger:int,\n",
       ">                      dict_sol:dict)\n",
       "\n",
       "Updates the focus census variable or geography dispalayed on the map.\n",
       "Geo_trigger listens for when the geography is blacked out. This happens when the population map page is loaded,\n",
       "in particular, it happens after the geography variable is fixed. In this case, we re update everything on the map\n",
       "\n",
       "|    | **Type** | **Details** |\n",
       "| -- | -------- | ----------- |\n",
       "| geog | str | current geography |\n",
       "| data_type | str | User input of type of data |\n",
       "| measure | str | A string contiaining the census variable and measure split by ':' |\n",
       "| variable | str | The state of the variable dropdown |\n",
       "| age | [<class 'str'>] | Age Brackets to display |\n",
       "| year | int | The selected projection year |\n",
       "| geo_trigger | int | Listening for whether segmented geo is locked, signaling that map |\n",
       "| dict_sol | dict | The dataset in dictionary form |\n",
       "| **Returns** | **Figure** | **Returns a graph object figure after being updated and the dynamic title** |"
      ],
      "text/plain": [
       "---\n",
       "\n",
       "### update_map_pop\n",
       "\n",
       ">      update_map_pop (geog:str, data_type:str, measure:str, variable:str,\n",
       ">                      age:[<class'str'>], year:int, geo_trigger:int,\n",
       ">                      dict_sol:dict)\n",
       "\n",
       "Updates the focus census variable or geography dispalayed on the map.\n",
       "Geo_trigger listens for when the geography is blacked out. This happens when the population map page is loaded,\n",
       "in particular, it happens after the geography variable is fixed. In this case, we re update everything on the map\n",
       "\n",
       "|    | **Type** | **Details** |\n",
       "| -- | -------- | ----------- |\n",
       "| geog | str | current geography |\n",
       "| data_type | str | User input of type of data |\n",
       "| measure | str | A string contiaining the census variable and measure split by ':' |\n",
       "| variable | str | The state of the variable dropdown |\n",
       "| age | [<class 'str'>] | Age Brackets to display |\n",
       "| year | int | The selected projection year |\n",
       "| geo_trigger | int | Listening for whether segmented geo is locked, signaling that map |\n",
       "| dict_sol | dict | The dataset in dictionary form |\n",
       "| **Returns** | **Figure** | **Returns a graph object figure after being updated and the dynamic title** |"
      ]
     },
     "execution_count": null,
     "metadata": {},
     "output_type": "execute_result"
    }
   ],
   "source": [
    "#| hide\n",
    "show_doc(update_map_pop)"
   ]
  },
  {
   "cell_type": "markdown",
   "metadata": {},
   "source": [
    "### Update the selected part of the map based on the dropdown"
   ]
  },
  {
   "cell_type": "markdown",
   "metadata": {},
   "source": [
    "### Population Pyramid"
   ]
  },
  {
   "cell_type": "code",
   "execution_count": null,
   "metadata": {},
   "outputs": [],
   "source": [
    "#| export\n",
    "# Callback allows components to interact\n",
    "@callback(\n",
    "    Output('popPyramid', 'figure'),\n",
    "    Input(\"segmented_type\", 'value'),\n",
    "    Input('measureDropdownPop', 'value'),\n",
    "    Input('locDropdown', 'value'),\n",
    "    Input('age_dropdown', 'value'),\n",
    "    Input(\"year_slider\", \"value\"),\n",
    "    State(\"segmented_geo\", 'value'),\n",
    "    State('varDropdownPop', 'value'),\n",
    "    State('geo_df', 'data'),\n",
    "    allow_duplicate=True,\n",
    "    prevent_initial_call=True\n",
    ")\n",
    "def update_pyramid(data_type:str, # User input of type of data\n",
    "                     measure:str, # A string contiaining the census variable and measure split by ':'\n",
    "                     loc_selection:[str], # The selected locations, may be none\n",
    "                     ages:[str], # Currently selected locations for highlighting\n",
    "                     year:str, # Year of projection data\n",
    "                     geo_input:str, # User input from the geography dropdown\n",
    "                     variable:str, # The state of the variable dropdown\n",
    "                     dict_sol:dict, # The dataset in dictionary form\n",
    "                     #init_trigger:str, # uncessary variable inside the callback\n",
    "              )->(type(go.Figure()), str): # Returns a graph object figure after being updated and the dynamic title\n",
    "    '''\n",
    "    Updates the focus census variable or geography dispalayed on the map\n",
    "    '''\n",
    "    sol_geo = SolomonGeo.gen_stored(dict_sol) # reload the data\n",
    "    fig = gen_pyramid(sol_geo = sol_geo, geo_filter = geo_input, year = year, \n",
    "                      variable = variable, locations = loc_selection, type_filter = data_type, ages = ages)\n",
    "    \n",
    "    return fig"
   ]
  },
  {
   "cell_type": "markdown",
   "metadata": {},
   "source": [
    "On click, update the contents of the kpi's"
   ]
  },
  {
   "cell_type": "code",
   "execution_count": null,
   "metadata": {},
   "outputs": [
    {
     "data": {
      "text/markdown": [
       "---\n",
       "\n",
       "### update_pyramid\n",
       "\n",
       ">      update_pyramid (data_type:str, measure:str, loc_selection:[<class'str'>],\n",
       ">                      ages:[<class'str'>], year:str, geo_input:str,\n",
       ">                      variable:str, dict_sol:dict)\n",
       "\n",
       "Updates the focus census variable or geography dispalayed on the map\n",
       "\n",
       "|    | **Type** | **Details** |\n",
       "| -- | -------- | ----------- |\n",
       "| data_type | str | User input of type of data |\n",
       "| measure | str | A string contiaining the census variable and measure split by ':' |\n",
       "| loc_selection | [<class 'str'>] | The selected locations, may be none |\n",
       "| ages | [<class 'str'>] | Currently selected locations for highlighting |\n",
       "| year | str | Year of projection data |\n",
       "| geo_input | str | User input from the geography dropdown |\n",
       "| variable | str | The state of the variable dropdown |\n",
       "| dict_sol | dict | The dataset in dictionary form |\n",
       "| **Returns** | **(<class 'plotly.graph_objs._figure.Figure'>, <class 'str'>)** | **Returns a graph object figure after being updated and the dynamic title** |"
      ],
      "text/plain": [
       "---\n",
       "\n",
       "### update_pyramid\n",
       "\n",
       ">      update_pyramid (data_type:str, measure:str, loc_selection:[<class'str'>],\n",
       ">                      ages:[<class'str'>], year:str, geo_input:str,\n",
       ">                      variable:str, dict_sol:dict)\n",
       "\n",
       "Updates the focus census variable or geography dispalayed on the map\n",
       "\n",
       "|    | **Type** | **Details** |\n",
       "| -- | -------- | ----------- |\n",
       "| data_type | str | User input of type of data |\n",
       "| measure | str | A string contiaining the census variable and measure split by ':' |\n",
       "| loc_selection | [<class 'str'>] | The selected locations, may be none |\n",
       "| ages | [<class 'str'>] | Currently selected locations for highlighting |\n",
       "| year | str | Year of projection data |\n",
       "| geo_input | str | User input from the geography dropdown |\n",
       "| variable | str | The state of the variable dropdown |\n",
       "| dict_sol | dict | The dataset in dictionary form |\n",
       "| **Returns** | **(<class 'plotly.graph_objs._figure.Figure'>, <class 'str'>)** | **Returns a graph object figure after being updated and the dynamic title** |"
      ]
     },
     "execution_count": null,
     "metadata": {},
     "output_type": "execute_result"
    }
   ],
   "source": [
    "#| hide\n",
    "show_doc(update_pyramid)"
   ]
  },
  {
   "cell_type": "markdown",
   "metadata": {},
   "source": [
    "## Update Kpi\n",
    "Based on Current Selection"
   ]
  },
  {
   "cell_type": "code",
   "execution_count": null,
   "metadata": {},
   "outputs": [],
   "source": [
    "#| export\n",
    "# Callback allows components to interact\n",
    "@callback(\n",
    "    Output('popKpi', 'children'),\n",
    "    Input(\"segmented_type\", 'value'),\n",
    "    Input('measureDropdownPop', 'value'),\n",
    "    Input('locDropdown', 'value'),\n",
    "    Input('age_dropdown', 'value'),\n",
    "    Input(\"year_slider\", \"value\"),\n",
    "    State('varDropdownPop', 'value'),\n",
    "    State('geo_df', 'data'),\n",
    "    allow_duplicate=True,\n",
    "    prevent_initial_call=True\n",
    ")\n",
    "def update_kpi(data_type:str, # User input of type of data\n",
    "                     measure:str, # A string contiaining the census variable and measure split by ':'\n",
    "                     loc_selection:[str], # The selected locations, may be none\n",
    "                     ages:[str], # Currently selected locations for highlighting\n",
    "                     year:str, # Year of projection data\n",
    "                     variable:str, # The state of the variable dropdown\n",
    "                     dict_sol:dict, # The dataset in dictionary form\n",
    "              )->(dcc.Markdown, dcc.Markdown): # Returns a graph object figure after being updated and the dynamic title\n",
    "    '''\n",
    "    Updates the focus census variable or geography dispalayed on the map\n",
    "    '''\n",
    "    sol_geo = SolomonGeo.gen_stored(dict_sol) # reload the data    \n",
    "\n",
    "    return gen_kpi(sol_geo, year, variable, measure, ages, loc = loc_selection, type_filter = data_type)"
   ]
  },
  {
   "cell_type": "code",
   "execution_count": null,
   "metadata": {},
   "outputs": [
    {
     "data": {
      "text/markdown": [
       "---\n",
       "\n",
       "### update_kpi\n",
       "\n",
       ">      update_kpi (data_type:str, measure:str, loc_selection:[<class'str'>],\n",
       ">                  ages:[<class'str'>], year:str, variable:str, dict_sol:dict)\n",
       "\n",
       "Updates the focus census variable or geography dispalayed on the map\n",
       "\n",
       "|    | **Type** | **Details** |\n",
       "| -- | -------- | ----------- |\n",
       "| data_type | str | User input of type of data |\n",
       "| measure | str | A string contiaining the census variable and measure split by ':' |\n",
       "| loc_selection | [<class 'str'>] | The selected locations, may be none |\n",
       "| ages | [<class 'str'>] | Currently selected locations for highlighting |\n",
       "| year | str | Year of projection data |\n",
       "| variable | str | The state of the variable dropdown |\n",
       "| dict_sol | dict | The dataset in dictionary form |\n",
       "| **Returns** | **(<class 'dash.dcc.Markdown.Markdown'>, <class 'dash.dcc.Markdown.Markdown'>)** | **Returns a graph object figure after being updated and the dynamic title** |"
      ],
      "text/plain": [
       "---\n",
       "\n",
       "### update_kpi\n",
       "\n",
       ">      update_kpi (data_type:str, measure:str, loc_selection:[<class'str'>],\n",
       ">                  ages:[<class'str'>], year:str, variable:str, dict_sol:dict)\n",
       "\n",
       "Updates the focus census variable or geography dispalayed on the map\n",
       "\n",
       "|    | **Type** | **Details** |\n",
       "| -- | -------- | ----------- |\n",
       "| data_type | str | User input of type of data |\n",
       "| measure | str | A string contiaining the census variable and measure split by ':' |\n",
       "| loc_selection | [<class 'str'>] | The selected locations, may be none |\n",
       "| ages | [<class 'str'>] | Currently selected locations for highlighting |\n",
       "| year | str | Year of projection data |\n",
       "| variable | str | The state of the variable dropdown |\n",
       "| dict_sol | dict | The dataset in dictionary form |\n",
       "| **Returns** | **(<class 'dash.dcc.Markdown.Markdown'>, <class 'dash.dcc.Markdown.Markdown'>)** | **Returns a graph object figure after being updated and the dynamic title** |"
      ]
     },
     "execution_count": null,
     "metadata": {},
     "output_type": "execute_result"
    }
   ],
   "source": [
    "show_doc(update_kpi)"
   ]
  },
  {
   "cell_type": "code",
   "execution_count": null,
   "metadata": {},
   "outputs": [],
   "source": [
    "#| hide\n",
    "import nbdev; nbdev.nbdev_export()"
   ]
  }
 ],
 "metadata": {
  "kernelspec": {
   "display_name": "python3",
   "language": "python",
   "name": "python3"
  }
 },
 "nbformat": 4,
 "nbformat_minor": 2
}
