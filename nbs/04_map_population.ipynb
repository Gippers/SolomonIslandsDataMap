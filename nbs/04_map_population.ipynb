{
 "cells": [
  {
   "cell_type": "markdown",
   "metadata": {},
   "source": [
    "# Map Page\n",
    "\n",
    "> The page of the app that generates the map view of the data.  "
   ]
  },
  {
   "cell_type": "code",
   "execution_count": null,
   "metadata": {},
   "outputs": [],
   "source": [
    "#| default_exp pages/map_population"
   ]
  },
  {
   "cell_type": "code",
   "execution_count": null,
   "metadata": {},
   "outputs": [],
   "source": [
    "#| export\n",
    "# TODO minimise these imports a bit where possible\n",
    "from nbdev.showdoc import *\n",
    "# TODO work out how to get around below hack\n",
    "try:\n",
    "    from SolomonIslandsDataMap.dash_components import gen_bar_plot, gen_dd\n",
    "    from SolomonIslandsDataMap.app_data import mytitle, map_graph, selectedBarGraph, stored_data, dropdown_location  \\\n",
    "        , control_type, dd_var_pop, dd_measure_pop, dropdown_geo, sidebar_population, dd_var_pop, dd_measure_pop, year_slider\n",
    "    from SolomonIslandsDataMap.load_data import SolomonGeo\n",
    "except: \n",
    "    from dash_components import gen_bar_plot, gen_dd\n",
    "    from app_data import mytitle, map_graph, selectedBarGraph, stored_data, dropdown_location \\\n",
    "        , control_type, dd_var, dd_measure, dropdown_geo, sidebar_population, dd_var_pop, dd_measure_pop, year_slider\n",
    "    from load_data import SolomonGeo\n",
    "import plotly.express as px\n",
    "import plotly.graph_objects as go\n",
    "import plotly.io as pio # Unless this is used graphs will not be dynamic?\n",
    "import numpy as np\n",
    "from fastcore.test import *\n",
    "from dash import Dash, callback, dcc, Output, Input, State, html, Patch, ctx, register_page  # pip install dash\n",
    "import dash_bootstrap_components as dbc    # pip install dash-bootstrap-components\n",
    "from dash_bootstrap_templates import load_figure_template\n",
    "import dash_mantine_components as dmc\n",
    "import os\n",
    "import json"
   ]
  },
  {
   "cell_type": "code",
   "execution_count": null,
   "metadata": {},
   "outputs": [],
   "source": [
    "#| export\n",
    "# Try catch is added here so that the notebook can be tested without the app being run\n",
    "try:\n",
    "    register_page(__name__, \n",
    "                        path='/population_projections',\n",
    "                        title='Population Projections',\n",
    "                        name='Population Projections')\n",
    "except:\n",
    "    pass"
   ]
  },
  {
   "cell_type": "code",
   "execution_count": null,
   "metadata": {},
   "outputs": [],
   "source": [
    "#| export\n",
    "# Creat some hacked init things\n",
    "# TODO again as below, must be a better way\n",
    "init_load = dcc.Store(id=\"initial-load-pop\", data='')\n",
    "init_init = dcc.Store(id=\"initial-initial\", data='pop')"
   ]
  },
  {
   "cell_type": "markdown",
   "metadata": {},
   "source": [
    "Setup some of  the key data contiaining objects"
   ]
  },
  {
   "cell_type": "markdown",
   "metadata": {},
   "source": [
    "## Customize the Layout"
   ]
  },
  {
   "cell_type": "code",
   "execution_count": null,
   "metadata": {},
   "outputs": [],
   "source": [
    "#| export\n",
    "def layout():\n",
    "    return  dbc.Row(\n",
    "        [dbc.Col(sidebar_population, width = 2),\n",
    "        dbc.Col([\n",
    "            mytitle,\n",
    "            map_graph,\n",
    "            year_slider,\n",
    "            #selectedBarGraph,\n",
    "            stored_data, \n",
    "            init_load, \n",
    "            init_init,], width = 10),\n",
    "            # fires 1ms after page load\n",
    "            dcc.Interval(id=\"interval-timer\", interval=1, max_intervals=1),\n",
    "        ], justify = 'center')"
   ]
  },
  {
   "cell_type": "markdown",
   "metadata": {},
   "source": [
    "### Some things to note about this page\n",
    "- On Load, we change geo to province if it isn't alread there,\n",
    "- We can just use the normal geo drowpdown because it is set to and will remain as Province, the other dropdown is basically just for display, \n",
    "- As a result, we can recycle a lot of the other dropdowns,\n",
    "- Probably the only other one we will overwrite is the map one, to instead display population data. \n",
    "- Also we add the age bracket dropdown\n",
    "- And we use a different measure and variable selection\n",
    "- It's really just updated to display new data not change to much of the other variables and callbacks\n"
   ]
  },
  {
   "cell_type": "markdown",
   "metadata": {},
   "source": [
    "# Build callbacks to create interaction"
   ]
  },
  {
   "cell_type": "markdown",
   "metadata": {},
   "source": [
    "### Maintain state of population specific selections\n",
    "Non unique values will be handled by the initial_load function in the map page"
   ]
  },
  {
   "cell_type": "code",
   "execution_count": null,
   "metadata": {},
   "outputs": [],
   "source": [
    "#| export\n",
    "# TODO this defintiely seems hacky, must be a better way\n",
    "\n",
    "@callback(\n",
    "    Output(\"varDropdownPop\", \"value\"),\n",
    "    Output(\"measureDropdownPop\", \"value\"),\n",
    "    Output(\"age_dropdown\", \"value\"),\n",
    "    Output(\"year_slider\", \"value\"),\n",
    "    Output('initial-load-pop', 'data'),\n",
    "    Input(\"initial-initial\", 'data'),\n",
    "    State(\"stored_values\", \"data\"),\n",
    "    State('geo_df', 'data'),\n",
    ")\n",
    "def initial_load_pop(page_trigger:str, # Page that triggered initial load\n",
    "                   js:str, # the current selection for the data\n",
    "                   dict_sol:dict, # Dictionary of the solomon geo data\n",
    "                         ) -> dict:\n",
    "    \"\"\"Load persistent starting values for all of the dropdowns\"\"\"\n",
    "    print(\"****triggered load: \")\n",
    "    print(js)\n",
    "    val_state = json.loads(js)\n",
    "    sol_geo = SolomonGeo.gen_stored(dict_sol)\n",
    "\n",
    "    # In some circumstances, variable will not match measure. In which case reset measure\n",
    "    if val_state['measure-pop'] not in sol_geo.population_vars[val_state['var-pop']]:\n",
    "        val_state['measure-pop'] = sol_geo.population_vars[val_state['var-pop']][0]\n",
    "        print(\"reset measure\")\n",
    "\n",
    "    # In some cirucumstances, None or Null values have crept into the save state. When this happens,\n",
    "    # we should catch this and revert to a defualt state\n",
    "    for key, value in val_state.items():\n",
    "        if value is None:\n",
    "            # If a value is None, do a hard reset and trigger a save\n",
    "            val_state = {'type': 'Total',\n",
    "                            'geo': 'Province',\n",
    "                            'location': [],\n",
    "                            'variable': 'Key Statistics',\n",
    "                            'measure': 'Total Households',\n",
    "                            'var-pop': 'Population',\n",
    "                            'measure-pop': 'Total',\n",
    "                            'age': '0-4',\n",
    "                            'pop_year': 2024,\n",
    "                            }\n",
    "            persist_dd_values_pop(val_state['var-pop'], val_state['measure-pop'], val_state['age'], val_state['pop_year'], \n",
    "                                  js)\n",
    "\n",
    "    return  val_state['var-pop'], val_state['measure-pop'], val_state['age'], val_state['pop_year'],  None"
   ]
  },
  {
   "cell_type": "code",
   "execution_count": null,
   "metadata": {},
   "outputs": [
    {
     "data": {
      "text/markdown": [
       "---\n",
       "\n",
       "### initial_load_pop\n",
       "\n",
       ">      initial_load_pop (page_trigger:str, js:str, dict_sol:dict)\n",
       "\n",
       "Load persistent starting values for all of the dropdowns\n",
       "\n",
       "|    | **Type** | **Details** |\n",
       "| -- | -------- | ----------- |\n",
       "| page_trigger | str | Page that triggered initial load |\n",
       "| js | str | the current selection for the data |\n",
       "| dict_sol | dict | Dictionary of the solomon geo data |\n",
       "| **Returns** | **dict** |  |"
      ],
      "text/plain": [
       "---\n",
       "\n",
       "### initial_load_pop\n",
       "\n",
       ">      initial_load_pop (page_trigger:str, js:str, dict_sol:dict)\n",
       "\n",
       "Load persistent starting values for all of the dropdowns\n",
       "\n",
       "|    | **Type** | **Details** |\n",
       "| -- | -------- | ----------- |\n",
       "| page_trigger | str | Page that triggered initial load |\n",
       "| js | str | the current selection for the data |\n",
       "| dict_sol | dict | Dictionary of the solomon geo data |\n",
       "| **Returns** | **dict** |  |"
      ]
     },
     "execution_count": null,
     "metadata": {},
     "output_type": "execute_result"
    }
   ],
   "source": [
    "#| hide\n",
    "show_doc(initial_load_pop)"
   ]
  },
  {
   "cell_type": "markdown",
   "metadata": {},
   "source": [
    "## Persist Dropdowns\n",
    "Callbacks maintain persistent dropdown values across tabs\n",
    "Each callback is triggered by an interval timer just after page refresh"
   ]
  },
  {
   "cell_type": "code",
   "execution_count": null,
   "metadata": {},
   "outputs": [],
   "source": [
    "#| export\n",
    "@callback(\n",
    "    Output(\"stored_values\", \"data\", allow_duplicate=True),\n",
    "    Input(\"varDropdownPop\", \"value\"),\n",
    "    Input(\"measureDropdownPop\", \"value\"),\n",
    "    Input(\"age_dropdown\", \"value\"),\n",
    "    Input(\"year_slider\", \"value\"),\n",
    "    State(\"stored_values\", \"data\"),\n",
    "    prevent_initial_call=True,\n",
    "    allow_duplicate=True,\n",
    ")\n",
    "def persist_dd_values_pop(popVariable:str,\n",
    "                      popMeasure:str, \n",
    "                      age:str,\n",
    "                      years:int,\n",
    "                      json_store:dict,\n",
    "                    ) -> str:\n",
    "    \"\"\"Update the data type to persistent on load\"\"\"\n",
    "    store = json.loads(json_store)\n",
    "    store['var-pop'] = popVariable\n",
    "    store['measure-pop'] = popMeasure\n",
    "    store['age'] = age\n",
    "    store['pop_year'] = years\n",
    "\n",
    "    print(\"****triggered save: \")\n",
    "    print(store)\n",
    "    return json.dumps(store)"
   ]
  },
  {
   "cell_type": "code",
   "execution_count": null,
   "metadata": {},
   "outputs": [
    {
     "data": {
      "text/markdown": [
       "---\n",
       "\n",
       "### persist_dd_values_pop\n",
       "\n",
       ">      persist_dd_values_pop (popVariable:str, popMeasure:str, age:str,\n",
       ">                             years:int, json_store:dict)\n",
       "\n",
       "Update the data type to persistent on load"
      ],
      "text/plain": [
       "---\n",
       "\n",
       "### persist_dd_values_pop\n",
       "\n",
       ">      persist_dd_values_pop (popVariable:str, popMeasure:str, age:str,\n",
       ">                             years:int, json_store:dict)\n",
       "\n",
       "Update the data type to persistent on load"
      ]
     },
     "execution_count": null,
     "metadata": {},
     "output_type": "execute_result"
    }
   ],
   "source": [
    "#| hide\n",
    "show_doc(persist_dd_values_pop)"
   ]
  },
  {
   "cell_type": "markdown",
   "metadata": {},
   "source": [
    "## Update the variable dropdowns based on the selection of the overall variable"
   ]
  },
  {
   "cell_type": "code",
   "execution_count": null,
   "metadata": {},
   "outputs": [],
   "source": [
    "#| export\n",
    "@callback(\n",
    "    Output(dd_measure_pop, 'children', allow_duplicate=True),\n",
    "    Input('varDropdownPop', 'value'),\n",
    "    State('geo_df', 'data'),\n",
    "    State('measureDropdownPop', 'value'),\n",
    "    allow_duplicate=True,\n",
    "    prevent_initial_call=True\n",
    ")\n",
    "def update_measure_pop(new_var:str, # Selected variable\n",
    "                   dict_sol:dict, # The dataset in dictionary form\n",
    "                   measure:str, # Currently selected measure\n",
    "              )->dcc.Dropdown: # Returns a dropdown of measures for selected variable\n",
    "    '''\n",
    "    Updates the dropdown_location dropdown based on the currently selected data aggregation.\n",
    "    '''\n",
    "    print(\"func um\")\n",
    "    sol_geo = SolomonGeo.gen_stored(dict_sol) # reload the data\n",
    "\n",
    "    # Sometimes this callback is triggered when the measure doesn't need to be reset.\n",
    "    # Check whether measure is in variable, if not reset to 0\n",
    "    if measure not in sol_geo.population_vars[new_var]:\n",
    "        measure = sol_geo.population_vars[new_var][0]\n",
    "\n",
    "    # When a variable is selected, the measure will be set as the first one\n",
    "    return gen_dd(sol_geo.population_vars[new_var], 'measureDropdownPop', \n",
    "                  val = measure)"
   ]
  },
  {
   "cell_type": "code",
   "execution_count": null,
   "metadata": {},
   "outputs": [
    {
     "data": {
      "text/markdown": [
       "---\n",
       "\n",
       "### update_measure_pop\n",
       "\n",
       ">      update_measure_pop (new_var:str, dict_sol:dict, measure:str)\n",
       "\n",
       "Updates the dropdown_location dropdown based on the currently selected data aggregation.\n",
       "\n",
       "|    | **Type** | **Details** |\n",
       "| -- | -------- | ----------- |\n",
       "| new_var | str | Selected variable |\n",
       "| dict_sol | dict | The dataset in dictionary form |\n",
       "| measure | str | Currently selected measure |\n",
       "| **Returns** | **Dropdown** | **Returns a dropdown of measures for selected variable** |"
      ],
      "text/plain": [
       "---\n",
       "\n",
       "### update_measure_pop\n",
       "\n",
       ">      update_measure_pop (new_var:str, dict_sol:dict, measure:str)\n",
       "\n",
       "Updates the dropdown_location dropdown based on the currently selected data aggregation.\n",
       "\n",
       "|    | **Type** | **Details** |\n",
       "| -- | -------- | ----------- |\n",
       "| new_var | str | Selected variable |\n",
       "| dict_sol | dict | The dataset in dictionary form |\n",
       "| measure | str | Currently selected measure |\n",
       "| **Returns** | **Dropdown** | **Returns a dropdown of measures for selected variable** |"
      ]
     },
     "execution_count": null,
     "metadata": {},
     "output_type": "execute_result"
    }
   ],
   "source": [
    "#| hide\n",
    "show_doc(update_measure_pop)"
   ]
  },
  {
   "cell_type": "markdown",
   "metadata": {},
   "source": [
    "## Update the measure selection from Population Pyramid clicks"
   ]
  },
  {
   "cell_type": "code",
   "execution_count": null,
   "metadata": {},
   "outputs": [],
   "source": [
    "#| export\n",
    "# TODO add the population pyramid clicks one here. Needs population pyramid, use below markdown for inspiration\n",
    "        \n"
   ]
  },
  {
   "cell_type": "markdown",
   "metadata": {},
   "source": [
    "#| export\n",
    "@callback(\n",
    "    Output('measureDropdown', 'value', allow_duplicate=True),\n",
    "    Output(selectedBarGraph, \"clickData\"),\n",
    "    Input(selectedBarGraph, 'clickData'),\n",
    "    State('varDropdown', 'value'),\n",
    "    State('geo_df', 'data'),\n",
    "    prevent_initial_call=True,\n",
    "    allow_duplicate=True,\n",
    ")\n",
    "def bar_click(clickData:dict, # The currently clicked location on bar graph\n",
    "                variable:str, # The currently selected variable\n",
    "                dict_sol:dict, # The dataset in dictionary form\n",
    "                )->[str]: # Returns the new value for the dropdown\n",
    "    \"\"\"This function updates the dropdown menu based on the bar graph click data\"\"\"\n",
    "    print(\"func bc\")\n",
    "    sol_geo = SolomonGeo.gen_stored(dict_sol) # reload the data\n",
    "    if clickData is None:\n",
    "        print(\"Click data was none\")\n",
    "        return sol_geo.census_vars[variable][0], None\n",
    "    else:\n",
    "        # The measure are list of dictionaries\n",
    "        selection = list(map(lambda x: x['x'], clickData['points']))[0]\n",
    "    \n",
    "        # returned objects are assigned to the component property of the Output\n",
    "        # After updating fileter, we always reset map selection \n",
    "        return selection, None\n",
    "        "
   ]
  },
  {
   "cell_type": "code",
   "execution_count": null,
   "metadata": {},
   "outputs": [],
   "source": [
    "#| hide\n",
    "#show_doc(bar_click)"
   ]
  },
  {
   "cell_type": "markdown",
   "metadata": {},
   "source": [
    "### Update map based on inputs"
   ]
  },
  {
   "cell_type": "code",
   "execution_count": null,
   "metadata": {},
   "outputs": [],
   "source": [
    "# TODO should this be a function related to the other map scirpt?? "
   ]
  },
  {
   "cell_type": "code",
   "execution_count": null,
   "metadata": {},
   "outputs": [],
   "source": [
    "#| export\n",
    "# TODO - this could quite liekly be in map_page calbback as well\n",
    "# TODO - add age here\n",
    "@callback(\n",
    "    Output(map_graph, 'figure', allow_duplicate=True),\n",
    "    Output(mytitle, 'children', allow_duplicate=True),\n",
    "    Input(\"segmented_geo\", 'value'),\n",
    "    Input(\"segmented_type\", 'value'),\n",
    "    Input('measureDropdownPop', 'value'),\n",
    "    Input('varDropdownPop', 'value'),\n",
    "    Input('initial-load-pop', 'data'),\n",
    "    Input('age_dropdown', 'value'),\n",
    "    Input(\"year_slider\", \"value\"),\n",
    "    State('geo_df', 'data'),\n",
    "    allow_duplicate=True,\n",
    "    prevent_initial_call=True)\n",
    "def update_map_pop(geog:str, # current geography\n",
    "    data_type:str, # User input of type of data\n",
    "                measure:str, # A string contiaining the census variable and measure split by ':'\n",
    "                variable:str, # The state of the variable dropdown\n",
    "                init_load:{}, # An empty dictionary always\n",
    "                age:str, # Age Bracket to display\n",
    "                year:int, # The selected projection year\n",
    "                dict_sol:dict, # The dataset in dictionary form\n",
    "              )->(type(go.Figure()), str): # Returns a graph object figure after being updated and the dynamic title\n",
    "    '''\n",
    "    Updates the focus census variable or geography dispalayed on the map\n",
    "    '''\n",
    "    # TODO the None workaround might be taxing on the load times, is there a better way\n",
    "    # or maybe I can check it it needs updating?\n",
    "    patched_figure = Patch()\n",
    "    button_clicked = ctx.triggered_id\n",
    "\n",
    "    sol_geo = SolomonGeo.gen_stored(dict_sol) # reload the data\n",
    "    print(\"first run, updating map\")\n",
    "    print(button_clicked)\n",
    "\n",
    "    print(data_type)\n",
    "    print(measure)\n",
    "\n",
    "    # A None value is passed when the page is first loaded, hence\n",
    "    # the the values are reset.\n",
    "    # Hardcoded to province as we only have forcasts by province\n",
    "    if button_clicked in [dropdown_geo.id, dropdown_location.id, 'initial-load-pop']:\n",
    "        # Update disaplayed geography \n",
    "        for geo in sol_geo.geo_levels:\n",
    "            tn = np.where(sol_geo.geo_levels == geo)[0][0] # Tracks the trace number\n",
    "            patched_figure['data'][tn]['visible'] = geog == geo\n",
    "            print(geo)\n",
    "        \n",
    "    if button_clicked in [control_type.id, 'initial-load-pop']:\n",
    "        # Update the type of data displayed on map and the hover template\n",
    "        for geo in sol_geo.geo_levels:\n",
    "            tn = np.where(sol_geo.geo_levels == geo)[0][0] # Tracks the trace number\n",
    "            # All years allows us to set the min and max colour as the min and max across all years\n",
    "            all_years = sol_geo.get_pop(years = sol_geo.pop_years, var = variable, measure = measure, #type_filter=data_type,\n",
    "                                 ages = [age])\n",
    "            ar = all_years.loc[all_years.loc[:, ('core', 'year')] == year].values[:, -1]\n",
    "            all_years = all_years.values[:, -1]\n",
    "            ar = ar.reshape((ar.shape[0],))\n",
    "            if data_type == 'Total':\n",
    "                ht = '%{customdata} <extra>%{z}</extra>'\n",
    "            elif data_type == 'Proportion':\n",
    "                ht = '%{customdata} <extra>%{z:.1%}</extra>'\n",
    "            else:\n",
    "                ValueError(\"Data type of map not recognised and note accounted for\")\n",
    "            patched_figure['data'][tn]['z'] = ar\n",
    "            patched_figure['data'][tn]['zmin'] = np.min(all_years)\n",
    "            patched_figure['data'][tn]['zmax'] = np.max(all_years)\n",
    "            patched_figure['data'][tn]['hovertemplate'] = ht\n",
    "\n",
    "            \n",
    "        \n",
    "\n",
    "    if button_clicked in ['measureDropdownPop', 'initial-load-pop', 'year_slider', 'age_dropdown']:\n",
    "        # Update the z values in map to the data for the requested census variable\n",
    "        for geo in sol_geo.geo_levels:\n",
    "        # Ar updates the z value ie. data disaplyed each time\n",
    "        # TODO this is fairly inefficient, as we are processing each time\n",
    "        # Maybe faster framework like polars could help? or caching but would require a lot of caching\n",
    "            tn = np.where(sol_geo.geo_levels == geo)[0][0] # Tracks the trace number\n",
    "            \n",
    "            # All years allows us to set the min and max colour as the min and max across all years\n",
    "            all_years = sol_geo.get_pop(years = sol_geo.pop_years, var = variable, measure = measure, #type_filter=data_type,\n",
    "                                 ages = [age])\n",
    "            ar = all_years.loc[all_years.loc[:, ('core', 'year')] == year].values[:, -1]\n",
    "            all_years = all_years.values[:, -1]\n",
    "            ar = ar.reshape((ar.shape[0],))\n",
    "            patched_figure['data'][tn]['z'] = ar\n",
    "            patched_figure['data'][tn]['zmin'] = np.min(all_years)\n",
    "            patched_figure['data'][tn]['zmax'] = np.max(all_years)\n",
    "        \n",
    "    # returned objects are assigned to the component property of the Output\n",
    "    # After updating fileter, we always reset map selection \n",
    "\n",
    "    return patched_figure, '## Solomon Islands Population Projections - ' + 'Province'"
   ]
  },
  {
   "cell_type": "code",
   "execution_count": null,
   "metadata": {},
   "outputs": [
    {
     "data": {
      "text/markdown": [
       "---\n",
       "\n",
       "### update_map_pop\n",
       "\n",
       ">      update_map_pop (geog:str, data_type:str, measure:str, variable:str,\n",
       ">                      init_load:{}, age:str, year:int, dict_sol:dict)\n",
       "\n",
       "Updates the focus census variable or geography dispalayed on the map\n",
       "\n",
       "|    | **Type** | **Details** |\n",
       "| -- | -------- | ----------- |\n",
       "| geog | str | current geography |\n",
       "| data_type | str | User input of type of data |\n",
       "| measure | str | A string contiaining the census variable and measure split by ':' |\n",
       "| variable | str | The state of the variable dropdown |\n",
       "| init_load | {} | An empty dictionary always |\n",
       "| age | str | Age Bracket to display |\n",
       "| year | int | The selected projection year |\n",
       "| dict_sol | dict | The dataset in dictionary form |\n",
       "| **Returns** | **(<class 'plotly.graph_objs._figure.Figure'>, <class 'str'>)** | **Returns a graph object figure after being updated and the dynamic title** |"
      ],
      "text/plain": [
       "---\n",
       "\n",
       "### update_map_pop\n",
       "\n",
       ">      update_map_pop (geog:str, data_type:str, measure:str, variable:str,\n",
       ">                      init_load:{}, age:str, year:int, dict_sol:dict)\n",
       "\n",
       "Updates the focus census variable or geography dispalayed on the map\n",
       "\n",
       "|    | **Type** | **Details** |\n",
       "| -- | -------- | ----------- |\n",
       "| geog | str | current geography |\n",
       "| data_type | str | User input of type of data |\n",
       "| measure | str | A string contiaining the census variable and measure split by ':' |\n",
       "| variable | str | The state of the variable dropdown |\n",
       "| init_load | {} | An empty dictionary always |\n",
       "| age | str | Age Bracket to display |\n",
       "| year | int | The selected projection year |\n",
       "| dict_sol | dict | The dataset in dictionary form |\n",
       "| **Returns** | **(<class 'plotly.graph_objs._figure.Figure'>, <class 'str'>)** | **Returns a graph object figure after being updated and the dynamic title** |"
      ]
     },
     "execution_count": null,
     "metadata": {},
     "output_type": "execute_result"
    }
   ],
   "source": [
    "#| hide\n",
    "show_doc(update_map_pop)"
   ]
  },
  {
   "cell_type": "markdown",
   "metadata": {},
   "source": [
    "### Update the selected part of the map based on the dropdown"
   ]
  },
  {
   "cell_type": "markdown",
   "metadata": {},
   "source": [
    "### Update Selected Bar Graph based on inputs"
   ]
  },
  {
   "cell_type": "code",
   "execution_count": null,
   "metadata": {},
   "outputs": [],
   "source": [
    "# TODO add pop pyramid"
   ]
  },
  {
   "cell_type": "markdown",
   "metadata": {},
   "source": [
    "#| export\n",
    "# Callback allows components to interact\n",
    "@callback(\n",
    "    Output(selectedBarGraph, 'figure'),\n",
    "    Input(\"segmented_type\", 'value'),\n",
    "    Input('measureDropdown', 'value'),\n",
    "    Input('locDropdown', 'value'),\n",
    "    Input('initial-load', 'data'),\n",
    "    State(dropdown_geo, 'value'),\n",
    "    State('varDropdown', 'value'),\n",
    "    State('geo_df', 'data'),\n",
    "    allow_duplicate=True,\n",
    "    prevent_initial_call=True\n",
    ")\n",
    "def update_bargraph(data_type:str, # User input of type of data\n",
    "                     measure:str, # A string contiaining the census variable and measure split by ':'\n",
    "                     loc_selection:[str], # The selected locations, may be none\n",
    "                     init_load:{}, # An empty dictionary always, triggers initial load\n",
    "                     geo_input:str, # User input from the geography dropdown\n",
    "                     variable:str, # The state of the variable dropdown\n",
    "                     dict_sol:dict, # The dataset in dictionary form\n",
    "              )->(type(go.Figure())): # Returns a graph object figure after being updated and the dynamic title\n",
    "    '''\n",
    "    Updates the focus census variable or geography dispalayed on the map\n",
    "    '''\n",
    "    sol_geo = SolomonGeo.gen_stored(dict_sol) # reload the data\n",
    "\n",
    "    # Create newly selected barplot\n",
    "    print(\"input\")\n",
    "    print(loc_selection)\n",
    "    locs = []\n",
    "    # Multi dropdown can return None or a list of None.\n",
    "    if len(loc_selection) > 0: \n",
    "        locs = loc_selection\n",
    "    print(\"Going in to function\")\n",
    "    print(locs)\n",
    "    bg = gen_bar_plot(sol_geo, geo_input, variable, measure, locs, data_type)\n",
    "\n",
    "    # returned objects are assigned to the component property of the Output\n",
    "    # After updating fileter, we always reset map selection \n",
    "\n",
    "    return  bg"
   ]
  },
  {
   "cell_type": "markdown",
   "metadata": {},
   "source": [
    "On click, update the contents of the kpi's"
   ]
  },
  {
   "cell_type": "code",
   "execution_count": null,
   "metadata": {},
   "outputs": [],
   "source": [
    "#| hide\n",
    "#show_doc(update_geography)"
   ]
  },
  {
   "cell_type": "code",
   "execution_count": null,
   "metadata": {},
   "outputs": [],
   "source": [
    "#| hide\n",
    "import nbdev; nbdev.nbdev_export()"
   ]
  }
 ],
 "metadata": {
  "kernelspec": {
   "display_name": "python3",
   "language": "python",
   "name": "python3"
  }
 },
 "nbformat": 4,
 "nbformat_minor": 2
}
