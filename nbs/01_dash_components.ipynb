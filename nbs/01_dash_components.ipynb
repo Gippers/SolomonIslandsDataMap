{
 "cells": [
  {
   "cell_type": "markdown",
   "metadata": {},
   "source": [
    "# Generate Map\n",
    "\n",
    "> Class that generates the data map"
   ]
  },
  {
   "cell_type": "code",
   "execution_count": null,
   "metadata": {},
   "outputs": [],
   "source": [
    "#| default_exp dash_components"
   ]
  },
  {
   "cell_type": "code",
   "execution_count": null,
   "metadata": {},
   "outputs": [],
   "source": [
    "#| export\n",
    "from nbdev.showdoc import *\n",
    "# TODO work out how to get around below hack\n",
    "try:\n",
    "    from SolomonIslandsDataMap.load_data import *\n",
    "except: \n",
    "    from load_data import *\n",
    "import plotly.express as px\n",
    "import plotly.graph_objects as go\n",
    "import plotly.io as pio # Unless this is used graphs will not be dynamic?\n",
    "import json\n",
    "from git import Repo\n",
    "import pandas as pd\n",
    "import numpy as np\n",
    "from fastcore.test import *\n",
    "from dash import Dash, dcc, Output, Input, html, Patch, ctx  # pip install dash\n",
    "import dash_bootstrap_components as dbc    # pip install dash-bootstrap-components\n",
    "from dash_bootstrap_templates import load_figure_template\n",
    "import random\n",
    "import dash_mantine_components as dmc"
   ]
  },
  {
   "cell_type": "code",
   "execution_count": null,
   "metadata": {},
   "outputs": [],
   "source": [
    "# TODO - do a need a state class that tracks the state of different website objects to help with\n",
    "# updating etc. \n",
    "# TODO - not even state, should it be an object that contains everythin to track. Execpt if I am patching,\n",
    "# then the tracking in mem is unessary, so better to just track necesary values like: last changes card etc. "
   ]
  },
  {
   "cell_type": "markdown",
   "metadata": {},
   "source": [
    "## Load Data"
   ]
  },
  {
   "cell_type": "code",
   "execution_count": null,
   "metadata": {},
   "outputs": [],
   "source": [
    "\n",
    "sol_geo = SolomonGeo.load_pickle(\"/testData/\")\n",
    "geo_df = sol_geo.geo_df"
   ]
  },
  {
   "cell_type": "markdown",
   "metadata": {},
   "source": [
    "## Build the Cloreopath Map"
   ]
  },
  {
   "cell_type": "code",
   "execution_count": null,
   "metadata": {},
   "outputs": [],
   "source": [
    "#| export\n",
    "# TODO I should build figures and maps in another script\n",
    "def define_map(sol_df:SolomonGeo # Solomon geo object containing census data to input into map\n",
    "                )->type(go.Figure()): # Returns a graph object figure\n",
    "    '''\n",
    "    Creates and returns the base cloreopath map\n",
    "    '''\n",
    "    # TODO - should I update this into a class with methods for updating\n",
    "    # the other things? Acutally maybe as another function if the update is done through patch\n",
    "    \n",
    "    # cols_dd dictates the aggregation that will be visable\n",
    "    cols_dd = sol_df.geo_levels\n",
    "    # define traces and buttons at once\n",
    "    traces = []\n",
    "    # TODO if fails remember I changed visible from cols_dd\n",
    "    for value in cols_dd:\n",
    "        traces.append(go.Choroplethmapbox(\n",
    "                                geojson=sol_df.get_geojson(geo_filter = value),\n",
    "                               locations=sol_df.get_df(geo_filter = value).index,\n",
    "                               # TODO undo hardcoding\n",
    "                               z = sol_df.get_df(geo_filter = value, var = 'Key Statistics', \n",
    "                                                 measure = 'Total Households').values,\n",
    "                               colorscale=\"deep\",\n",
    "                                marker_line_width = 0.5,\n",
    "                                zauto=True,\n",
    "                visible= True if value==cols_dd[0] else False))\n",
    "        \n",
    "    # Show figure\n",
    "    fig = go.Figure(data=traces)\n",
    "    # This is in order to get the first title displayed correctly\n",
    "    first_title = cols_dd[0]\n",
    "    fig.update_layout(title=f\"<b>{first_title}</b>\",\n",
    "                        title_x=0.5,\n",
    "                        mapbox_style = 'carto-positron',\n",
    "                        mapbox_zoom = 5,\n",
    "                        mapbox_center={\"lat\": -9.565766, \"lon\": 162.012453},\n",
    "                        margin={\"r\":0,\"t\":0,\"l\":0,\"b\":0},\n",
    "                        # TODO in future consider going back to multiselect, currently too hard\n",
    "                        #clickmode = 'event+select',\n",
    "    )\n",
    "    \n",
    "    return fig\n"
   ]
  },
  {
   "cell_type": "code",
   "execution_count": null,
   "metadata": {},
   "outputs": [
    {
     "data": {
      "text/markdown": [
       "---\n",
       "\n",
       "[source](https://github.com/Gippers/SolomonIslandsDataMap/blob/main/SolomonIslandsDataMap/dash_components.py#L29){target=\"_blank\" style=\"float:right; font-size:smaller\"}\n",
       "\n",
       "### define_map\n",
       "\n",
       ">      define_map (sol_df:SolomonIslandsDataMap.load_data.SolomonGeo)\n",
       "\n",
       "Creates and returns the base cloreopath map\n",
       "\n",
       "|    | **Type** | **Details** |\n",
       "| -- | -------- | ----------- |\n",
       "| sol_df | SolomonGeo | Solomon geo object containing census data to input into map |\n",
       "| **Returns** | **Figure** | **Returns a graph object figure** |"
      ],
      "text/plain": [
       "---\n",
       "\n",
       "[source](https://github.com/Gippers/SolomonIslandsDataMap/blob/main/SolomonIslandsDataMap/dash_components.py#L29){target=\"_blank\" style=\"float:right; font-size:smaller\"}\n",
       "\n",
       "### define_map\n",
       "\n",
       ">      define_map (sol_df:SolomonIslandsDataMap.load_data.SolomonGeo)\n",
       "\n",
       "Creates and returns the base cloreopath map\n",
       "\n",
       "|    | **Type** | **Details** |\n",
       "| -- | -------- | ----------- |\n",
       "| sol_df | SolomonGeo | Solomon geo object containing census data to input into map |\n",
       "| **Returns** | **Figure** | **Returns a graph object figure** |"
      ]
     },
     "execution_count": null,
     "metadata": {},
     "output_type": "execute_result"
    }
   ],
   "source": [
    "#| hide\n",
    "show_doc(define_map)"
   ]
  },
  {
   "cell_type": "code",
   "execution_count": null,
   "metadata": {},
   "outputs": [
    {
     "ename": "TypeError",
     "evalue": "SolomonGeo.get_df() got an unexpected keyword argument 'measure'",
     "output_type": "error",
     "traceback": [
      "\u001b[0;31m---------------------------------------------------------------------------\u001b[0m",
      "\u001b[0;31mTypeError\u001b[0m                                 Traceback (most recent call last)",
      "\u001b[1;32m/home/tom/git/SolomonIslandsDataMap/nbs/01_dash_components.ipynb Cell 10\u001b[0m line \u001b[0;36m1\n\u001b[0;32m----> <a href='vscode-notebook-cell://wsl%2Bubuntu/home/tom/git/SolomonIslandsDataMap/nbs/01_dash_components.ipynb#X12sdnNjb2RlLXJlbW90ZQ%3D%3D?line=0'>1</a>\u001b[0m fig \u001b[39m=\u001b[39m define_map(sol_geo)\n",
      "\u001b[1;32m/home/tom/git/SolomonIslandsDataMap/nbs/01_dash_components.ipynb Cell 10\u001b[0m line \u001b[0;36m2\n\u001b[1;32m     <a href='vscode-notebook-cell://wsl%2Bubuntu/home/tom/git/SolomonIslandsDataMap/nbs/01_dash_components.ipynb#X12sdnNjb2RlLXJlbW90ZQ%3D%3D?line=14'>15</a>\u001b[0m \u001b[39m# TODO if fails remember I changed visible from cols_dd\u001b[39;00m\n\u001b[1;32m     <a href='vscode-notebook-cell://wsl%2Bubuntu/home/tom/git/SolomonIslandsDataMap/nbs/01_dash_components.ipynb#X12sdnNjb2RlLXJlbW90ZQ%3D%3D?line=15'>16</a>\u001b[0m \u001b[39mfor\u001b[39;00m value \u001b[39min\u001b[39;00m cols_dd:\n\u001b[1;32m     <a href='vscode-notebook-cell://wsl%2Bubuntu/home/tom/git/SolomonIslandsDataMap/nbs/01_dash_components.ipynb#X12sdnNjb2RlLXJlbW90ZQ%3D%3D?line=16'>17</a>\u001b[0m     traces\u001b[39m.\u001b[39mappend(go\u001b[39m.\u001b[39mChoroplethmapbox(\n\u001b[1;32m     <a href='vscode-notebook-cell://wsl%2Bubuntu/home/tom/git/SolomonIslandsDataMap/nbs/01_dash_components.ipynb#X12sdnNjb2RlLXJlbW90ZQ%3D%3D?line=17'>18</a>\u001b[0m                             geojson\u001b[39m=\u001b[39msol_df\u001b[39m.\u001b[39mget_geojson(geo_filter \u001b[39m=\u001b[39m value),\n\u001b[1;32m     <a href='vscode-notebook-cell://wsl%2Bubuntu/home/tom/git/SolomonIslandsDataMap/nbs/01_dash_components.ipynb#X12sdnNjb2RlLXJlbW90ZQ%3D%3D?line=18'>19</a>\u001b[0m                            locations\u001b[39m=\u001b[39msol_df\u001b[39m.\u001b[39mget_df(geo_filter \u001b[39m=\u001b[39m value)\u001b[39m.\u001b[39mindex,\n\u001b[1;32m     <a href='vscode-notebook-cell://wsl%2Bubuntu/home/tom/git/SolomonIslandsDataMap/nbs/01_dash_components.ipynb#X12sdnNjb2RlLXJlbW90ZQ%3D%3D?line=19'>20</a>\u001b[0m                            \u001b[39m# TODO undo hardcoding\u001b[39;00m\n\u001b[0;32m---> <a href='vscode-notebook-cell://wsl%2Bubuntu/home/tom/git/SolomonIslandsDataMap/nbs/01_dash_components.ipynb#X12sdnNjb2RlLXJlbW90ZQ%3D%3D?line=20'>21</a>\u001b[0m                            z \u001b[39m=\u001b[39m sol_df\u001b[39m.\u001b[39;49mget_df(geo_filter \u001b[39m=\u001b[39;49m value, var \u001b[39m=\u001b[39;49m \u001b[39m'\u001b[39;49m\u001b[39mKey Statistics\u001b[39;49m\u001b[39m'\u001b[39;49m, \n\u001b[1;32m     <a href='vscode-notebook-cell://wsl%2Bubuntu/home/tom/git/SolomonIslandsDataMap/nbs/01_dash_components.ipynb#X12sdnNjb2RlLXJlbW90ZQ%3D%3D?line=21'>22</a>\u001b[0m                                              measure \u001b[39m=\u001b[39;49m \u001b[39m'\u001b[39;49m\u001b[39mTotal Households\u001b[39;49m\u001b[39m'\u001b[39;49m)\u001b[39m.\u001b[39mvalues,\n\u001b[1;32m     <a href='vscode-notebook-cell://wsl%2Bubuntu/home/tom/git/SolomonIslandsDataMap/nbs/01_dash_components.ipynb#X12sdnNjb2RlLXJlbW90ZQ%3D%3D?line=22'>23</a>\u001b[0m                            colorscale\u001b[39m=\u001b[39m\u001b[39m\"\u001b[39m\u001b[39mdeep\u001b[39m\u001b[39m\"\u001b[39m,\n\u001b[1;32m     <a href='vscode-notebook-cell://wsl%2Bubuntu/home/tom/git/SolomonIslandsDataMap/nbs/01_dash_components.ipynb#X12sdnNjb2RlLXJlbW90ZQ%3D%3D?line=23'>24</a>\u001b[0m                             marker_line_width \u001b[39m=\u001b[39m \u001b[39m0.5\u001b[39m,\n\u001b[1;32m     <a href='vscode-notebook-cell://wsl%2Bubuntu/home/tom/git/SolomonIslandsDataMap/nbs/01_dash_components.ipynb#X12sdnNjb2RlLXJlbW90ZQ%3D%3D?line=24'>25</a>\u001b[0m                             zauto\u001b[39m=\u001b[39m\u001b[39mTrue\u001b[39;00m,\n\u001b[1;32m     <a href='vscode-notebook-cell://wsl%2Bubuntu/home/tom/git/SolomonIslandsDataMap/nbs/01_dash_components.ipynb#X12sdnNjb2RlLXJlbW90ZQ%3D%3D?line=25'>26</a>\u001b[0m             visible\u001b[39m=\u001b[39m \u001b[39mTrue\u001b[39;00m \u001b[39mif\u001b[39;00m value\u001b[39m==\u001b[39mcols_dd[\u001b[39m0\u001b[39m] \u001b[39melse\u001b[39;00m \u001b[39mFalse\u001b[39;00m))\n\u001b[1;32m     <a href='vscode-notebook-cell://wsl%2Bubuntu/home/tom/git/SolomonIslandsDataMap/nbs/01_dash_components.ipynb#X12sdnNjb2RlLXJlbW90ZQ%3D%3D?line=27'>28</a>\u001b[0m \u001b[39m# Show figure\u001b[39;00m\n\u001b[1;32m     <a href='vscode-notebook-cell://wsl%2Bubuntu/home/tom/git/SolomonIslandsDataMap/nbs/01_dash_components.ipynb#X12sdnNjb2RlLXJlbW90ZQ%3D%3D?line=28'>29</a>\u001b[0m fig \u001b[39m=\u001b[39m go\u001b[39m.\u001b[39mFigure(data\u001b[39m=\u001b[39mtraces)\n",
      "\u001b[0;31mTypeError\u001b[0m: SolomonGeo.get_df() got an unexpected keyword argument 'measure'"
     ]
    }
   ],
   "source": [
    "fig = define_map(sol_geo)"
   ]
  },
  {
   "cell_type": "code",
   "execution_count": null,
   "metadata": {},
   "outputs": [
    {
     "data": {
      "text/plain": [
       "True"
      ]
     },
     "execution_count": null,
     "metadata": {},
     "output_type": "execute_result"
    }
   ],
   "source": [
    "fig['data'][0]['visible']"
   ]
  },
  {
   "cell_type": "markdown",
   "metadata": {},
   "source": [
    "## Create card group"
   ]
  },
  {
   "cell_type": "code",
   "execution_count": null,
   "metadata": {},
   "outputs": [],
   "source": [
    "#| export\n",
    "# todo - turn this eventually into a function\n",
    "\n",
    "# TODO - make it in future so that clicking on a card updates the current census variable\n",
    "# selection and it highlights it as clicked.\n",
    "# TODO - workout how to make this into a collection of cards, potentially cardgroup\n",
    "# TODO - need to rename this\n",
    "# TODO create bottom padding\n",
    "# TODO - should I have some graphs here instead of cards??\n",
    "\n",
    "def card_list(sg:SolomonGeo, # Input data object\n",
    "                header:str, # Header of Accordian\n",
    "                loc:[str] = None, # Desired location within aggregation\n",
    "                type_filter:str = 'Total', # The type \n",
    "                    )->dbc.Col: # Returns a column containing a title and accordian items\n",
    "    '''\n",
    "    Create a list accordians for each variable, where each accordian contains a card for \n",
    "    each measure of that variable\n",
    "    '''\n",
    "    # If location is none, set agg to any location.\n",
    "    # This means if not location is selected, we always return the total\n",
    "    geo = None\n",
    "    if loc == None:\n",
    "        geo = sg.geo_levels[0]\n",
    "\n",
    "    accordians = []\n",
    "    accordians.append(dcc.Markdown(children=\"## \" + header))\n",
    "    # TODO iter through keys\n",
    "    for key in sg.census_vars:\n",
    "        cards = []\n",
    "        for var in sg.census_vars[key]:\n",
    "            # Create an accordian with the header of the variable and such\n",
    "            if loc == None:\n",
    "                df = sg.agg_df(geo_filter = geo,\n",
    "                                var = key,\n",
    "                                measure = var, \n",
    "                                loc_filter = loc,\n",
    "                                type_filter = type_filter).values[0]\n",
    "            else:\n",
    "                df = sg.get_df(geo_filter = geo, \n",
    "                                var = key,\n",
    "                                measure = var, \n",
    "                                loc_filter = loc,\n",
    "                                type_filter = type_filter).values[0]\n",
    "            cards.append(dbc.Col([\n",
    "                dbc.Card(\n",
    "                children = [\n",
    "                    dbc.CardHeader(\n",
    "                        [html.H4(var)]\n",
    "\n",
    "                    ),\n",
    "                    dbc.CardBody(\n",
    "                        [\n",
    "                        html.H5(df, \n",
    "                                className = \"text-center\")\n",
    "                        ] # TODO - add a rank here and colour code based on rank (i.e. 2nd highest of provinces)\n",
    "                    )]\n",
    "                , class_name =\"border-primary\" #m-2 mb-3\n",
    "                \n",
    "                )])\n",
    "            )\n",
    "        accordians.append([dbc.AccordionItem(\n",
    "                 dbc.Row(cards),\n",
    "                title=key,\n",
    "            )])\n",
    "\n",
    "    # TODO return list of accordiants in a column?\n",
    "    return dbc.Col(accordians)"
   ]
  },
  {
   "cell_type": "code",
   "execution_count": null,
   "metadata": {},
   "outputs": [
    {
     "data": {
      "text/markdown": [
       "---\n",
       "\n",
       "[source](https://github.com/Gippers/SolomonIslandsDataMap/blob/main/SolomonIslandsDataMap/dash_components.py#L81){target=\"_blank\" style=\"float:right; font-size:smaller\"}\n",
       "\n",
       "### card_list\n",
       "\n",
       ">      card_list (sg:SolomonIslandsDataMap.load_data.SolomonGeo, header:str,\n",
       ">                 loc:[<class'str'>]=None, type_filter:str='Total')\n",
       "\n",
       "Create a list accordians for each variable, where each accordian contains a card for \n",
       "each measure of that variable\n",
       "\n",
       "|    | **Type** | **Default** | **Details** |\n",
       "| -- | -------- | ----------- | ----------- |\n",
       "| sg | SolomonGeo |  | Input data object |\n",
       "| header | str |  | Header of Accordian |\n",
       "| loc | [<class 'str'>] | None | Desired location within aggregation |\n",
       "| type_filter | str | Total | The type |\n",
       "| **Returns** | **Col** |  | **Returns a column containing a title and accordian items** |"
      ],
      "text/plain": [
       "---\n",
       "\n",
       "[source](https://github.com/Gippers/SolomonIslandsDataMap/blob/main/SolomonIslandsDataMap/dash_components.py#L81){target=\"_blank\" style=\"float:right; font-size:smaller\"}\n",
       "\n",
       "### card_list\n",
       "\n",
       ">      card_list (sg:SolomonIslandsDataMap.load_data.SolomonGeo, header:str,\n",
       ">                 loc:[<class'str'>]=None, type_filter:str='Total')\n",
       "\n",
       "Create a list accordians for each variable, where each accordian contains a card for \n",
       "each measure of that variable\n",
       "\n",
       "|    | **Type** | **Default** | **Details** |\n",
       "| -- | -------- | ----------- | ----------- |\n",
       "| sg | SolomonGeo |  | Input data object |\n",
       "| header | str |  | Header of Accordian |\n",
       "| loc | [<class 'str'>] | None | Desired location within aggregation |\n",
       "| type_filter | str | Total | The type |\n",
       "| **Returns** | **Col** |  | **Returns a column containing a title and accordian items** |"
      ]
     },
     "execution_count": null,
     "metadata": {},
     "output_type": "execute_result"
    }
   ],
   "source": [
    "#| hide\n",
    "show_doc(card_list)"
   ]
  },
  {
   "cell_type": "markdown",
   "metadata": {},
   "source": [
    "## Create Location Dropdown"
   ]
  },
  {
   "cell_type": "code",
   "execution_count": null,
   "metadata": {},
   "outputs": [],
   "source": [
    "#| export\n",
    "def gen_dd(location_list:[str], # a list of locations\n",
    "           id:str, # Id of the dropdown\n",
    "           place_holder:str = None, # a placeholder message to display\n",
    "           val:str = None, # The starting value of the dropdown\n",
    "           clear:bool = False, # pick whether the \n",
    "                        )->dcc.Dropdown: # Returns a dropdown\n",
    "    '''\n",
    "    Create the location dropdown from given list\n",
    "    '''\n",
    "    dd = dcc.Dropdown(options=location_list,\n",
    "                        value=val,  # initial value displayed when page first loads\n",
    "                        searchable=True,\n",
    "                        clearable=clear,\n",
    "                        placeholder=place_holder, \n",
    "                        id = id)\n",
    "    return dd"
   ]
  },
  {
   "cell_type": "code",
   "execution_count": null,
   "metadata": {},
   "outputs": [
    {
     "data": {
      "text/markdown": [
       "---\n",
       "\n",
       "[source](https://github.com/Gippers/SolomonIslandsDataMap/blob/main/SolomonIslandsDataMap/dash_components.py#L141){target=\"_blank\" style=\"float:right; font-size:smaller\"}\n",
       "\n",
       "### gen_dd\n",
       "\n",
       ">      gen_dd (location_list:[<class'str'>], id:str, place_holder:str=None,\n",
       ">              val:str=None, clear:bool=False)\n",
       "\n",
       "Create the location dropdown from given list\n",
       "\n",
       "|    | **Type** | **Default** | **Details** |\n",
       "| -- | -------- | ----------- | ----------- |\n",
       "| location_list | [<class 'str'>] |  | a list of locations |\n",
       "| id | str |  | Id of the dropdown |\n",
       "| place_holder | str | None | a placeholder message to display |\n",
       "| val | str | None | The starting value of the dropdown |\n",
       "| clear | bool | False | pick whether the |\n",
       "| **Returns** | **Dropdown** |  | **Returns a dropdown** |"
      ],
      "text/plain": [
       "---\n",
       "\n",
       "[source](https://github.com/Gippers/SolomonIslandsDataMap/blob/main/SolomonIslandsDataMap/dash_components.py#L141){target=\"_blank\" style=\"float:right; font-size:smaller\"}\n",
       "\n",
       "### gen_dd\n",
       "\n",
       ">      gen_dd (location_list:[<class'str'>], id:str, place_holder:str=None,\n",
       ">              val:str=None, clear:bool=False)\n",
       "\n",
       "Create the location dropdown from given list\n",
       "\n",
       "|    | **Type** | **Default** | **Details** |\n",
       "| -- | -------- | ----------- | ----------- |\n",
       "| location_list | [<class 'str'>] |  | a list of locations |\n",
       "| id | str |  | Id of the dropdown |\n",
       "| place_holder | str | None | a placeholder message to display |\n",
       "| val | str | None | The starting value of the dropdown |\n",
       "| clear | bool | False | pick whether the |\n",
       "| **Returns** | **Dropdown** |  | **Returns a dropdown** |"
      ]
     },
     "execution_count": null,
     "metadata": {},
     "output_type": "execute_result"
    }
   ],
   "source": [
    "show_doc(gen_dd)"
   ]
  },
  {
   "cell_type": "markdown",
   "metadata": {},
   "source": [
    "## Testing"
   ]
  },
  {
   "cell_type": "code",
   "execution_count": null,
   "metadata": {},
   "outputs": [],
   "source": [
    "# TODO implementing testing, everything should at least be run here and execute and be displayed"
   ]
  },
  {
   "cell_type": "code",
   "execution_count": null,
   "metadata": {},
   "outputs": [],
   "source": [
    "#| hide\n",
    "import nbdev; nbdev.nbdev_export()"
   ]
  }
 ],
 "metadata": {
  "kernelspec": {
   "display_name": "python3",
   "language": "python",
   "name": "python3"
  }
 },
 "nbformat": 4,
 "nbformat_minor": 4
}
