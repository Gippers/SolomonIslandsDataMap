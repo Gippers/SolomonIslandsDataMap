{
 "cells": [
  {
   "cell_type": "markdown",
   "metadata": {},
   "source": [
    "# Generate Map\n",
    "\n",
    "> Class that generates the data map"
   ]
  },
  {
   "cell_type": "code",
   "execution_count": null,
   "metadata": {},
   "outputs": [],
   "source": [
    "#| default_exp dash_components"
   ]
  },
  {
   "cell_type": "code",
   "execution_count": null,
   "metadata": {},
   "outputs": [],
   "source": [
    "#| export\n",
    "from nbdev.showdoc import *\n",
    "# TODO work out how to get around below hack\n",
    "try:\n",
    "    from SolomonIslandsDataMap.load_data import *\n",
    "except: \n",
    "    from load_data import *\n",
    "import plotly.express as px\n",
    "import plotly.graph_objects as go\n",
    "import plotly.io as pio # Unless this is used graphs will not be dynamic?\n",
    "import json\n",
    "from git import Repo\n",
    "import pandas as pd\n",
    "import numpy as np\n",
    "from fastcore.test import *\n",
    "from dash import Dash, dcc, Output, Input, html, Patch, ctx  # pip install dash\n",
    "import dash_bootstrap_components as dbc    # pip install dash-bootstrap-components\n",
    "from dash_bootstrap_templates import load_figure_template\n",
    "import random\n",
    "import dash_mantine_components as dmc"
   ]
  },
  {
   "cell_type": "code",
   "execution_count": null,
   "metadata": {},
   "outputs": [],
   "source": [
    "# TODO - do a need a state class that tracks the state of different website objects to help with\n",
    "# updating etc. \n",
    "# TODO - not even state, should it be an object that contains everythin to track. Execpt if I am patching,\n",
    "# then the tracking in mem is unessary, so better to just track necesary values like: last changes card etc. "
   ]
  },
  {
   "cell_type": "markdown",
   "metadata": {},
   "source": [
    "## Load Data"
   ]
  },
  {
   "cell_type": "code",
   "execution_count": null,
   "metadata": {},
   "outputs": [],
   "source": [
    "sol_geo = SolomonGeo.load_pickle(\"/testData/\")\n",
    "geo_df = sol_geo.geo_df"
   ]
  },
  {
   "cell_type": "markdown",
   "metadata": {},
   "source": [
    "## Build the Cloreopath Map"
   ]
  },
  {
   "cell_type": "code",
   "execution_count": null,
   "metadata": {},
   "outputs": [],
   "source": [
    "#| export\n",
    "# TODO I should build figures and maps in another script\n",
    "def define_map(sol_df:SolomonGeo # Solomon geo object containing census data to input into map\n",
    "                )->type(go.Figure()): # Returns a graph object figure\n",
    "    '''\n",
    "    Creates and returns the base cloreopath map\n",
    "    '''\n",
    "    # TODO - should I update this into a class with methods for updating\n",
    "    # the other things? Acutally maybe as another function if the update is done through patch\n",
    "    \n",
    "    # cols_dd dictates the aggregation that will be visable\n",
    "    cols_dd = sol_df.geo_levels\n",
    "    # define traces and buttons at once\n",
    "    traces = []\n",
    "    # TODO if fails remember I changed visible from cols_dd\n",
    "    for value in cols_dd:\n",
    "        z_vals = sol_df.get_df(geo_filter = value, var = 'Key Statistics', \n",
    "                                                 measure = 'Total Households').values\n",
    "        z_vals = z_vals.reshape((z_vals.shape[0],))\n",
    "        traces.append(go.Choroplethmapbox(\n",
    "                                geojson=sol_df.get_geojson(geo_filter = value),\n",
    "                               locations=sol_df.locations[value],\n",
    "                               # TODO undo hardcoding\n",
    "                               z = z_vals,\n",
    "                               colorscale=\"deep\",\n",
    "                                marker_line_width = 0.5,\n",
    "                                zauto=True,\n",
    "                                selectedpoints=None,\n",
    "                visible= True if value==cols_dd[0] else False))\n",
    "        \n",
    "    # Show figure\n",
    "    fig = go.Figure(data=traces)\n",
    "    # This is in order to get the first title displayed correctly\n",
    "    first_title = cols_dd[0]\n",
    "    fig.update_layout(title=f\"<b>{first_title}</b>\",\n",
    "                        title_x=0.5,\n",
    "                        mapbox_style = 'carto-positron',\n",
    "                        mapbox_zoom = 5,\n",
    "                        mapbox_center={\"lat\": -9.565766, \"lon\": 162.012453},\n",
    "                        margin={\"r\":0,\"t\":0,\"l\":0,\"b\":0},\n",
    "                        # TODO in future consider going back to multiselect, currently too hard\n",
    "                        #clickmode = 'event+select',\n",
    "    )\n",
    "    \n",
    "    return fig\n"
   ]
  },
  {
   "cell_type": "markdown",
   "metadata": {},
   "source": [
    "go."
   ]
  },
  {
   "cell_type": "code",
   "execution_count": null,
   "metadata": {},
   "outputs": [
    {
     "data": {
      "text/markdown": [
       "---\n",
       "\n",
       "### define_map\n",
       "\n",
       ">      define_map (sol_df:SolomonIslandsDataMap.load_data.SolomonGeo)\n",
       "\n",
       "Creates and returns the base cloreopath map\n",
       "\n",
       "|    | **Type** | **Details** |\n",
       "| -- | -------- | ----------- |\n",
       "| sol_df | SolomonGeo | Solomon geo object containing census data to input into map |\n",
       "| **Returns** | **Figure** | **Returns a graph object figure** |"
      ],
      "text/plain": [
       "---\n",
       "\n",
       "### define_map\n",
       "\n",
       ">      define_map (sol_df:SolomonIslandsDataMap.load_data.SolomonGeo)\n",
       "\n",
       "Creates and returns the base cloreopath map\n",
       "\n",
       "|    | **Type** | **Details** |\n",
       "| -- | -------- | ----------- |\n",
       "| sol_df | SolomonGeo | Solomon geo object containing census data to input into map |\n",
       "| **Returns** | **Figure** | **Returns a graph object figure** |"
      ]
     },
     "execution_count": null,
     "metadata": {},
     "output_type": "execute_result"
    }
   ],
   "source": [
    "#| hide\n",
    "show_doc(define_map)"
   ]
  },
  {
   "cell_type": "code",
   "execution_count": null,
   "metadata": {},
   "outputs": [],
   "source": [
    "fig = define_map(sol_geo)"
   ]
  },
  {
   "cell_type": "markdown",
   "metadata": {},
   "source": [
    "## Create a bar graph to display current data"
   ]
  },
  {
   "cell_type": "code",
   "execution_count": null,
   "metadata": {},
   "outputs": [],
   "source": [
    "#| export\n",
    "def gen_bar_plot(sol_geo:SolomonGeo, # Solomon geo object containing census data to input into map\n",
    "                    geo_filter:str, # The desired aggregation of the geography\n",
    "                    variable:str, # The variable to use to create the bar plot\n",
    "                    measure:str, # The measure to highlight on the bar graph\n",
    "                    locations:[str] = None, # Desired location within aggregation\n",
    "                    type_filter:str = 'Total', # The type aggregartion\n",
    "                )->type(go.Figure()): # Returns a graph object figure of a barplot\n",
    "    # TODO setup so that the graph highlights the selected measure\n",
    "    figtext = 'Showing ' + variable + ' for '\n",
    "    if locations is None:\n",
    "        df = sol_geo.agg_df(geo_filter, variable, loc_filter = locations, type_filter = type_filter)\n",
    "        df = pd.DataFrame(df).transpose()\n",
    "        df.index = ['Total']\n",
    "        locations = ['Total']\n",
    "        figtext += 'Solomon Islands'\n",
    "    else:\n",
    "        df = sol_geo.get_df(geo_filter, variable, loc_filter = locations, type_filter = type_filter)\n",
    "        figtext += ', '.join(locations)\n",
    "        df.index = locations\n",
    "    fig = go.Figure()\n",
    "    measures = list(df.columns)\n",
    "    for loc in locations:\n",
    "        fig.add_trace(go.Bar(\n",
    "            x = measures,\n",
    "            y = df.loc[df.index == loc].values[0],\n",
    "            name = loc,\n",
    "        ))\n",
    "    # TODO create dynamic text with Location name and Variable\n",
    "    # TODO add standout text\n",
    "    # TODO should this be ordered? Hinders comparison. Can I order the dataset somewhere else?\n",
    "    fig.update_layout(barmode='group', xaxis_tickangle=-45, title_text=figtext\n",
    "                      , xaxis={'categoryorder':'total descending'})\n",
    "    return fig"
   ]
  },
  {
   "cell_type": "code",
   "execution_count": null,
   "metadata": {},
   "outputs": [
    {
     "data": {
      "text/markdown": [
       "---\n",
       "\n",
       "### gen_bar_plot\n",
       "\n",
       ">      gen_bar_plot (sol_geo:SolomonIslandsDataMap.load_data.SolomonGeo,\n",
       ">                    geo_filter:str, variable:str, measure:str,\n",
       ">                    locations:[<class'str'>]=None, type_filter:str='Total')\n",
       "\n",
       "|    | **Type** | **Default** | **Details** |\n",
       "| -- | -------- | ----------- | ----------- |\n",
       "| sol_geo | SolomonGeo |  | Solomon geo object containing census data to input into map |\n",
       "| geo_filter | str |  | The desired aggregation of the geography |\n",
       "| variable | str |  | The variable to use to create the bar plot |\n",
       "| measure | str |  | The measure to highlight on the bar graph |\n",
       "| locations | [<class 'str'>] | None | Desired location within aggregation |\n",
       "| type_filter | str | Total | The type aggregartion |\n",
       "| **Returns** | **Figure** |  | **Returns a graph object figure of a barplot** |"
      ],
      "text/plain": [
       "---\n",
       "\n",
       "### gen_bar_plot\n",
       "\n",
       ">      gen_bar_plot (sol_geo:SolomonIslandsDataMap.load_data.SolomonGeo,\n",
       ">                    geo_filter:str, variable:str, measure:str,\n",
       ">                    locations:[<class'str'>]=None, type_filter:str='Total')\n",
       "\n",
       "|    | **Type** | **Default** | **Details** |\n",
       "| -- | -------- | ----------- | ----------- |\n",
       "| sol_geo | SolomonGeo |  | Solomon geo object containing census data to input into map |\n",
       "| geo_filter | str |  | The desired aggregation of the geography |\n",
       "| variable | str |  | The variable to use to create the bar plot |\n",
       "| measure | str |  | The measure to highlight on the bar graph |\n",
       "| locations | [<class 'str'>] | None | Desired location within aggregation |\n",
       "| type_filter | str | Total | The type aggregartion |\n",
       "| **Returns** | **Figure** |  | **Returns a graph object figure of a barplot** |"
      ]
     },
     "execution_count": null,
     "metadata": {},
     "output_type": "execute_result"
    }
   ],
   "source": [
    "#| hide\n",
    "show_doc(gen_bar_plot)"
   ]
  },
  {
   "cell_type": "code",
   "execution_count": null,
   "metadata": {},
   "outputs": [
    {
     "data": {
      "application/vnd.plotly.v1+json": {
       "config": {
        "plotlyServerURL": "https://plot.ly"
       },
       "data": [
        {
         "name": "Cruz",
         "type": "bar",
         "x": [
          "No income",
          "Wages Salary",
          "Own business",
          "Sale fish crop craft",
          "Land lease",
          "House rent",
          "Remittances",
          "Other source"
         ],
         "y": [
          0,
          13,
          3,
          0,
          0,
          0,
          0,
          1
         ]
        },
        {
         "name": "Vavaea",
         "type": "bar",
         "x": [
          "No income",
          "Wages Salary",
          "Own business",
          "Sale fish crop craft",
          "Land lease",
          "House rent",
          "Remittances",
          "Other source"
         ],
         "y": [
          6,
          744,
          77,
          18,
          3,
          26,
          2,
          66
         ]
        }
       ],
       "layout": {
        "barmode": "group",
        "template": {
         "data": {
          "bar": [
           {
            "error_x": {
             "color": "#2a3f5f"
            },
            "error_y": {
             "color": "#2a3f5f"
            },
            "marker": {
             "line": {
              "color": "#E5ECF6",
              "width": 0.5
             },
             "pattern": {
              "fillmode": "overlay",
              "size": 10,
              "solidity": 0.2
             }
            },
            "type": "bar"
           }
          ],
          "barpolar": [
           {
            "marker": {
             "line": {
              "color": "#E5ECF6",
              "width": 0.5
             },
             "pattern": {
              "fillmode": "overlay",
              "size": 10,
              "solidity": 0.2
             }
            },
            "type": "barpolar"
           }
          ],
          "carpet": [
           {
            "aaxis": {
             "endlinecolor": "#2a3f5f",
             "gridcolor": "white",
             "linecolor": "white",
             "minorgridcolor": "white",
             "startlinecolor": "#2a3f5f"
            },
            "baxis": {
             "endlinecolor": "#2a3f5f",
             "gridcolor": "white",
             "linecolor": "white",
             "minorgridcolor": "white",
             "startlinecolor": "#2a3f5f"
            },
            "type": "carpet"
           }
          ],
          "choropleth": [
           {
            "colorbar": {
             "outlinewidth": 0,
             "ticks": ""
            },
            "type": "choropleth"
           }
          ],
          "contour": [
           {
            "colorbar": {
             "outlinewidth": 0,
             "ticks": ""
            },
            "colorscale": [
             [
              0,
              "#0d0887"
             ],
             [
              0.1111111111111111,
              "#46039f"
             ],
             [
              0.2222222222222222,
              "#7201a8"
             ],
             [
              0.3333333333333333,
              "#9c179e"
             ],
             [
              0.4444444444444444,
              "#bd3786"
             ],
             [
              0.5555555555555556,
              "#d8576b"
             ],
             [
              0.6666666666666666,
              "#ed7953"
             ],
             [
              0.7777777777777778,
              "#fb9f3a"
             ],
             [
              0.8888888888888888,
              "#fdca26"
             ],
             [
              1,
              "#f0f921"
             ]
            ],
            "type": "contour"
           }
          ],
          "contourcarpet": [
           {
            "colorbar": {
             "outlinewidth": 0,
             "ticks": ""
            },
            "type": "contourcarpet"
           }
          ],
          "heatmap": [
           {
            "colorbar": {
             "outlinewidth": 0,
             "ticks": ""
            },
            "colorscale": [
             [
              0,
              "#0d0887"
             ],
             [
              0.1111111111111111,
              "#46039f"
             ],
             [
              0.2222222222222222,
              "#7201a8"
             ],
             [
              0.3333333333333333,
              "#9c179e"
             ],
             [
              0.4444444444444444,
              "#bd3786"
             ],
             [
              0.5555555555555556,
              "#d8576b"
             ],
             [
              0.6666666666666666,
              "#ed7953"
             ],
             [
              0.7777777777777778,
              "#fb9f3a"
             ],
             [
              0.8888888888888888,
              "#fdca26"
             ],
             [
              1,
              "#f0f921"
             ]
            ],
            "type": "heatmap"
           }
          ],
          "heatmapgl": [
           {
            "colorbar": {
             "outlinewidth": 0,
             "ticks": ""
            },
            "colorscale": [
             [
              0,
              "#0d0887"
             ],
             [
              0.1111111111111111,
              "#46039f"
             ],
             [
              0.2222222222222222,
              "#7201a8"
             ],
             [
              0.3333333333333333,
              "#9c179e"
             ],
             [
              0.4444444444444444,
              "#bd3786"
             ],
             [
              0.5555555555555556,
              "#d8576b"
             ],
             [
              0.6666666666666666,
              "#ed7953"
             ],
             [
              0.7777777777777778,
              "#fb9f3a"
             ],
             [
              0.8888888888888888,
              "#fdca26"
             ],
             [
              1,
              "#f0f921"
             ]
            ],
            "type": "heatmapgl"
           }
          ],
          "histogram": [
           {
            "marker": {
             "pattern": {
              "fillmode": "overlay",
              "size": 10,
              "solidity": 0.2
             }
            },
            "type": "histogram"
           }
          ],
          "histogram2d": [
           {
            "colorbar": {
             "outlinewidth": 0,
             "ticks": ""
            },
            "colorscale": [
             [
              0,
              "#0d0887"
             ],
             [
              0.1111111111111111,
              "#46039f"
             ],
             [
              0.2222222222222222,
              "#7201a8"
             ],
             [
              0.3333333333333333,
              "#9c179e"
             ],
             [
              0.4444444444444444,
              "#bd3786"
             ],
             [
              0.5555555555555556,
              "#d8576b"
             ],
             [
              0.6666666666666666,
              "#ed7953"
             ],
             [
              0.7777777777777778,
              "#fb9f3a"
             ],
             [
              0.8888888888888888,
              "#fdca26"
             ],
             [
              1,
              "#f0f921"
             ]
            ],
            "type": "histogram2d"
           }
          ],
          "histogram2dcontour": [
           {
            "colorbar": {
             "outlinewidth": 0,
             "ticks": ""
            },
            "colorscale": [
             [
              0,
              "#0d0887"
             ],
             [
              0.1111111111111111,
              "#46039f"
             ],
             [
              0.2222222222222222,
              "#7201a8"
             ],
             [
              0.3333333333333333,
              "#9c179e"
             ],
             [
              0.4444444444444444,
              "#bd3786"
             ],
             [
              0.5555555555555556,
              "#d8576b"
             ],
             [
              0.6666666666666666,
              "#ed7953"
             ],
             [
              0.7777777777777778,
              "#fb9f3a"
             ],
             [
              0.8888888888888888,
              "#fdca26"
             ],
             [
              1,
              "#f0f921"
             ]
            ],
            "type": "histogram2dcontour"
           }
          ],
          "mesh3d": [
           {
            "colorbar": {
             "outlinewidth": 0,
             "ticks": ""
            },
            "type": "mesh3d"
           }
          ],
          "parcoords": [
           {
            "line": {
             "colorbar": {
              "outlinewidth": 0,
              "ticks": ""
             }
            },
            "type": "parcoords"
           }
          ],
          "pie": [
           {
            "automargin": true,
            "type": "pie"
           }
          ],
          "scatter": [
           {
            "fillpattern": {
             "fillmode": "overlay",
             "size": 10,
             "solidity": 0.2
            },
            "type": "scatter"
           }
          ],
          "scatter3d": [
           {
            "line": {
             "colorbar": {
              "outlinewidth": 0,
              "ticks": ""
             }
            },
            "marker": {
             "colorbar": {
              "outlinewidth": 0,
              "ticks": ""
             }
            },
            "type": "scatter3d"
           }
          ],
          "scattercarpet": [
           {
            "marker": {
             "colorbar": {
              "outlinewidth": 0,
              "ticks": ""
             }
            },
            "type": "scattercarpet"
           }
          ],
          "scattergeo": [
           {
            "marker": {
             "colorbar": {
              "outlinewidth": 0,
              "ticks": ""
             }
            },
            "type": "scattergeo"
           }
          ],
          "scattergl": [
           {
            "marker": {
             "colorbar": {
              "outlinewidth": 0,
              "ticks": ""
             }
            },
            "type": "scattergl"
           }
          ],
          "scattermapbox": [
           {
            "marker": {
             "colorbar": {
              "outlinewidth": 0,
              "ticks": ""
             }
            },
            "type": "scattermapbox"
           }
          ],
          "scatterpolar": [
           {
            "marker": {
             "colorbar": {
              "outlinewidth": 0,
              "ticks": ""
             }
            },
            "type": "scatterpolar"
           }
          ],
          "scatterpolargl": [
           {
            "marker": {
             "colorbar": {
              "outlinewidth": 0,
              "ticks": ""
             }
            },
            "type": "scatterpolargl"
           }
          ],
          "scatterternary": [
           {
            "marker": {
             "colorbar": {
              "outlinewidth": 0,
              "ticks": ""
             }
            },
            "type": "scatterternary"
           }
          ],
          "surface": [
           {
            "colorbar": {
             "outlinewidth": 0,
             "ticks": ""
            },
            "colorscale": [
             [
              0,
              "#0d0887"
             ],
             [
              0.1111111111111111,
              "#46039f"
             ],
             [
              0.2222222222222222,
              "#7201a8"
             ],
             [
              0.3333333333333333,
              "#9c179e"
             ],
             [
              0.4444444444444444,
              "#bd3786"
             ],
             [
              0.5555555555555556,
              "#d8576b"
             ],
             [
              0.6666666666666666,
              "#ed7953"
             ],
             [
              0.7777777777777778,
              "#fb9f3a"
             ],
             [
              0.8888888888888888,
              "#fdca26"
             ],
             [
              1,
              "#f0f921"
             ]
            ],
            "type": "surface"
           }
          ],
          "table": [
           {
            "cells": {
             "fill": {
              "color": "#EBF0F8"
             },
             "line": {
              "color": "white"
             }
            },
            "header": {
             "fill": {
              "color": "#C8D4E3"
             },
             "line": {
              "color": "white"
             }
            },
            "type": "table"
           }
          ]
         },
         "layout": {
          "annotationdefaults": {
           "arrowcolor": "#2a3f5f",
           "arrowhead": 0,
           "arrowwidth": 1
          },
          "autotypenumbers": "strict",
          "coloraxis": {
           "colorbar": {
            "outlinewidth": 0,
            "ticks": ""
           }
          },
          "colorscale": {
           "diverging": [
            [
             0,
             "#8e0152"
            ],
            [
             0.1,
             "#c51b7d"
            ],
            [
             0.2,
             "#de77ae"
            ],
            [
             0.3,
             "#f1b6da"
            ],
            [
             0.4,
             "#fde0ef"
            ],
            [
             0.5,
             "#f7f7f7"
            ],
            [
             0.6,
             "#e6f5d0"
            ],
            [
             0.7,
             "#b8e186"
            ],
            [
             0.8,
             "#7fbc41"
            ],
            [
             0.9,
             "#4d9221"
            ],
            [
             1,
             "#276419"
            ]
           ],
           "sequential": [
            [
             0,
             "#0d0887"
            ],
            [
             0.1111111111111111,
             "#46039f"
            ],
            [
             0.2222222222222222,
             "#7201a8"
            ],
            [
             0.3333333333333333,
             "#9c179e"
            ],
            [
             0.4444444444444444,
             "#bd3786"
            ],
            [
             0.5555555555555556,
             "#d8576b"
            ],
            [
             0.6666666666666666,
             "#ed7953"
            ],
            [
             0.7777777777777778,
             "#fb9f3a"
            ],
            [
             0.8888888888888888,
             "#fdca26"
            ],
            [
             1,
             "#f0f921"
            ]
           ],
           "sequentialminus": [
            [
             0,
             "#0d0887"
            ],
            [
             0.1111111111111111,
             "#46039f"
            ],
            [
             0.2222222222222222,
             "#7201a8"
            ],
            [
             0.3333333333333333,
             "#9c179e"
            ],
            [
             0.4444444444444444,
             "#bd3786"
            ],
            [
             0.5555555555555556,
             "#d8576b"
            ],
            [
             0.6666666666666666,
             "#ed7953"
            ],
            [
             0.7777777777777778,
             "#fb9f3a"
            ],
            [
             0.8888888888888888,
             "#fdca26"
            ],
            [
             1,
             "#f0f921"
            ]
           ]
          },
          "colorway": [
           "#636efa",
           "#EF553B",
           "#00cc96",
           "#ab63fa",
           "#FFA15A",
           "#19d3f3",
           "#FF6692",
           "#B6E880",
           "#FF97FF",
           "#FECB52"
          ],
          "font": {
           "color": "#2a3f5f"
          },
          "geo": {
           "bgcolor": "white",
           "lakecolor": "white",
           "landcolor": "#E5ECF6",
           "showlakes": true,
           "showland": true,
           "subunitcolor": "white"
          },
          "hoverlabel": {
           "align": "left"
          },
          "hovermode": "closest",
          "mapbox": {
           "style": "light"
          },
          "paper_bgcolor": "white",
          "plot_bgcolor": "#E5ECF6",
          "polar": {
           "angularaxis": {
            "gridcolor": "white",
            "linecolor": "white",
            "ticks": ""
           },
           "bgcolor": "#E5ECF6",
           "radialaxis": {
            "gridcolor": "white",
            "linecolor": "white",
            "ticks": ""
           }
          },
          "scene": {
           "xaxis": {
            "backgroundcolor": "#E5ECF6",
            "gridcolor": "white",
            "gridwidth": 2,
            "linecolor": "white",
            "showbackground": true,
            "ticks": "",
            "zerolinecolor": "white"
           },
           "yaxis": {
            "backgroundcolor": "#E5ECF6",
            "gridcolor": "white",
            "gridwidth": 2,
            "linecolor": "white",
            "showbackground": true,
            "ticks": "",
            "zerolinecolor": "white"
           },
           "zaxis": {
            "backgroundcolor": "#E5ECF6",
            "gridcolor": "white",
            "gridwidth": 2,
            "linecolor": "white",
            "showbackground": true,
            "ticks": "",
            "zerolinecolor": "white"
           }
          },
          "shapedefaults": {
           "line": {
            "color": "#2a3f5f"
           }
          },
          "ternary": {
           "aaxis": {
            "gridcolor": "white",
            "linecolor": "white",
            "ticks": ""
           },
           "baxis": {
            "gridcolor": "white",
            "linecolor": "white",
            "ticks": ""
           },
           "bgcolor": "#E5ECF6",
           "caxis": {
            "gridcolor": "white",
            "linecolor": "white",
            "ticks": ""
           }
          },
          "title": {
           "x": 0.05
          },
          "xaxis": {
           "automargin": true,
           "gridcolor": "white",
           "linecolor": "white",
           "ticks": "",
           "title": {
            "standoff": 15
           },
           "zerolinecolor": "white",
           "zerolinewidth": 2
          },
          "yaxis": {
           "automargin": true,
           "gridcolor": "white",
           "linecolor": "white",
           "ticks": "",
           "title": {
            "standoff": 15
           },
           "zerolinecolor": "white",
           "zerolinewidth": 2
          }
         }
        },
        "title": {
         "text": "Showing Main source of household income in last 12 months for Cruz, Vavaea"
        },
        "xaxis": {
         "categoryorder": "total descending",
         "tickangle": -45
        }
       }
      },
      "text/html": [
       "<div>                            <div id=\"c045ff78-d4e3-4607-a6d4-a97f61149395\" class=\"plotly-graph-div\" style=\"height:525px; width:100%;\"></div>            <script type=\"text/javascript\">                require([\"plotly\"], function(Plotly) {                    window.PLOTLYENV=window.PLOTLYENV || {};                                    if (document.getElementById(\"c045ff78-d4e3-4607-a6d4-a97f61149395\")) {                    Plotly.newPlot(                        \"c045ff78-d4e3-4607-a6d4-a97f61149395\",                        [{\"name\":\"Cruz\",\"x\":[\"No income\",\"Wages Salary\",\"Own business\",\"Sale fish crop craft\",\"Land lease\",\"House rent\",\"Remittances\",\"Other source\"],\"y\":[0.0,13.0,3.0,0.0,0.0,0.0,0.0,1.0],\"type\":\"bar\"},{\"name\":\"Vavaea\",\"x\":[\"No income\",\"Wages Salary\",\"Own business\",\"Sale fish crop craft\",\"Land lease\",\"House rent\",\"Remittances\",\"Other source\"],\"y\":[6.0,744.0,77.0,18.0,3.0,26.0,2.0,66.0],\"type\":\"bar\"}],                        {\"template\":{\"data\":{\"histogram2dcontour\":[{\"type\":\"histogram2dcontour\",\"colorbar\":{\"outlinewidth\":0,\"ticks\":\"\"},\"colorscale\":[[0.0,\"#0d0887\"],[0.1111111111111111,\"#46039f\"],[0.2222222222222222,\"#7201a8\"],[0.3333333333333333,\"#9c179e\"],[0.4444444444444444,\"#bd3786\"],[0.5555555555555556,\"#d8576b\"],[0.6666666666666666,\"#ed7953\"],[0.7777777777777778,\"#fb9f3a\"],[0.8888888888888888,\"#fdca26\"],[1.0,\"#f0f921\"]]}],\"choropleth\":[{\"type\":\"choropleth\",\"colorbar\":{\"outlinewidth\":0,\"ticks\":\"\"}}],\"histogram2d\":[{\"type\":\"histogram2d\",\"colorbar\":{\"outlinewidth\":0,\"ticks\":\"\"},\"colorscale\":[[0.0,\"#0d0887\"],[0.1111111111111111,\"#46039f\"],[0.2222222222222222,\"#7201a8\"],[0.3333333333333333,\"#9c179e\"],[0.4444444444444444,\"#bd3786\"],[0.5555555555555556,\"#d8576b\"],[0.6666666666666666,\"#ed7953\"],[0.7777777777777778,\"#fb9f3a\"],[0.8888888888888888,\"#fdca26\"],[1.0,\"#f0f921\"]]}],\"heatmap\":[{\"type\":\"heatmap\",\"colorbar\":{\"outlinewidth\":0,\"ticks\":\"\"},\"colorscale\":[[0.0,\"#0d0887\"],[0.1111111111111111,\"#46039f\"],[0.2222222222222222,\"#7201a8\"],[0.3333333333333333,\"#9c179e\"],[0.4444444444444444,\"#bd3786\"],[0.5555555555555556,\"#d8576b\"],[0.6666666666666666,\"#ed7953\"],[0.7777777777777778,\"#fb9f3a\"],[0.8888888888888888,\"#fdca26\"],[1.0,\"#f0f921\"]]}],\"heatmapgl\":[{\"type\":\"heatmapgl\",\"colorbar\":{\"outlinewidth\":0,\"ticks\":\"\"},\"colorscale\":[[0.0,\"#0d0887\"],[0.1111111111111111,\"#46039f\"],[0.2222222222222222,\"#7201a8\"],[0.3333333333333333,\"#9c179e\"],[0.4444444444444444,\"#bd3786\"],[0.5555555555555556,\"#d8576b\"],[0.6666666666666666,\"#ed7953\"],[0.7777777777777778,\"#fb9f3a\"],[0.8888888888888888,\"#fdca26\"],[1.0,\"#f0f921\"]]}],\"contourcarpet\":[{\"type\":\"contourcarpet\",\"colorbar\":{\"outlinewidth\":0,\"ticks\":\"\"}}],\"contour\":[{\"type\":\"contour\",\"colorbar\":{\"outlinewidth\":0,\"ticks\":\"\"},\"colorscale\":[[0.0,\"#0d0887\"],[0.1111111111111111,\"#46039f\"],[0.2222222222222222,\"#7201a8\"],[0.3333333333333333,\"#9c179e\"],[0.4444444444444444,\"#bd3786\"],[0.5555555555555556,\"#d8576b\"],[0.6666666666666666,\"#ed7953\"],[0.7777777777777778,\"#fb9f3a\"],[0.8888888888888888,\"#fdca26\"],[1.0,\"#f0f921\"]]}],\"surface\":[{\"type\":\"surface\",\"colorbar\":{\"outlinewidth\":0,\"ticks\":\"\"},\"colorscale\":[[0.0,\"#0d0887\"],[0.1111111111111111,\"#46039f\"],[0.2222222222222222,\"#7201a8\"],[0.3333333333333333,\"#9c179e\"],[0.4444444444444444,\"#bd3786\"],[0.5555555555555556,\"#d8576b\"],[0.6666666666666666,\"#ed7953\"],[0.7777777777777778,\"#fb9f3a\"],[0.8888888888888888,\"#fdca26\"],[1.0,\"#f0f921\"]]}],\"mesh3d\":[{\"type\":\"mesh3d\",\"colorbar\":{\"outlinewidth\":0,\"ticks\":\"\"}}],\"scatter\":[{\"fillpattern\":{\"fillmode\":\"overlay\",\"size\":10,\"solidity\":0.2},\"type\":\"scatter\"}],\"parcoords\":[{\"type\":\"parcoords\",\"line\":{\"colorbar\":{\"outlinewidth\":0,\"ticks\":\"\"}}}],\"scatterpolargl\":[{\"type\":\"scatterpolargl\",\"marker\":{\"colorbar\":{\"outlinewidth\":0,\"ticks\":\"\"}}}],\"bar\":[{\"error_x\":{\"color\":\"#2a3f5f\"},\"error_y\":{\"color\":\"#2a3f5f\"},\"marker\":{\"line\":{\"color\":\"#E5ECF6\",\"width\":0.5},\"pattern\":{\"fillmode\":\"overlay\",\"size\":10,\"solidity\":0.2}},\"type\":\"bar\"}],\"scattergeo\":[{\"type\":\"scattergeo\",\"marker\":{\"colorbar\":{\"outlinewidth\":0,\"ticks\":\"\"}}}],\"scatterpolar\":[{\"type\":\"scatterpolar\",\"marker\":{\"colorbar\":{\"outlinewidth\":0,\"ticks\":\"\"}}}],\"histogram\":[{\"marker\":{\"pattern\":{\"fillmode\":\"overlay\",\"size\":10,\"solidity\":0.2}},\"type\":\"histogram\"}],\"scattergl\":[{\"type\":\"scattergl\",\"marker\":{\"colorbar\":{\"outlinewidth\":0,\"ticks\":\"\"}}}],\"scatter3d\":[{\"type\":\"scatter3d\",\"line\":{\"colorbar\":{\"outlinewidth\":0,\"ticks\":\"\"}},\"marker\":{\"colorbar\":{\"outlinewidth\":0,\"ticks\":\"\"}}}],\"scattermapbox\":[{\"type\":\"scattermapbox\",\"marker\":{\"colorbar\":{\"outlinewidth\":0,\"ticks\":\"\"}}}],\"scatterternary\":[{\"type\":\"scatterternary\",\"marker\":{\"colorbar\":{\"outlinewidth\":0,\"ticks\":\"\"}}}],\"scattercarpet\":[{\"type\":\"scattercarpet\",\"marker\":{\"colorbar\":{\"outlinewidth\":0,\"ticks\":\"\"}}}],\"carpet\":[{\"aaxis\":{\"endlinecolor\":\"#2a3f5f\",\"gridcolor\":\"white\",\"linecolor\":\"white\",\"minorgridcolor\":\"white\",\"startlinecolor\":\"#2a3f5f\"},\"baxis\":{\"endlinecolor\":\"#2a3f5f\",\"gridcolor\":\"white\",\"linecolor\":\"white\",\"minorgridcolor\":\"white\",\"startlinecolor\":\"#2a3f5f\"},\"type\":\"carpet\"}],\"table\":[{\"cells\":{\"fill\":{\"color\":\"#EBF0F8\"},\"line\":{\"color\":\"white\"}},\"header\":{\"fill\":{\"color\":\"#C8D4E3\"},\"line\":{\"color\":\"white\"}},\"type\":\"table\"}],\"barpolar\":[{\"marker\":{\"line\":{\"color\":\"#E5ECF6\",\"width\":0.5},\"pattern\":{\"fillmode\":\"overlay\",\"size\":10,\"solidity\":0.2}},\"type\":\"barpolar\"}],\"pie\":[{\"automargin\":true,\"type\":\"pie\"}]},\"layout\":{\"autotypenumbers\":\"strict\",\"colorway\":[\"#636efa\",\"#EF553B\",\"#00cc96\",\"#ab63fa\",\"#FFA15A\",\"#19d3f3\",\"#FF6692\",\"#B6E880\",\"#FF97FF\",\"#FECB52\"],\"font\":{\"color\":\"#2a3f5f\"},\"hovermode\":\"closest\",\"hoverlabel\":{\"align\":\"left\"},\"paper_bgcolor\":\"white\",\"plot_bgcolor\":\"#E5ECF6\",\"polar\":{\"bgcolor\":\"#E5ECF6\",\"angularaxis\":{\"gridcolor\":\"white\",\"linecolor\":\"white\",\"ticks\":\"\"},\"radialaxis\":{\"gridcolor\":\"white\",\"linecolor\":\"white\",\"ticks\":\"\"}},\"ternary\":{\"bgcolor\":\"#E5ECF6\",\"aaxis\":{\"gridcolor\":\"white\",\"linecolor\":\"white\",\"ticks\":\"\"},\"baxis\":{\"gridcolor\":\"white\",\"linecolor\":\"white\",\"ticks\":\"\"},\"caxis\":{\"gridcolor\":\"white\",\"linecolor\":\"white\",\"ticks\":\"\"}},\"coloraxis\":{\"colorbar\":{\"outlinewidth\":0,\"ticks\":\"\"}},\"colorscale\":{\"sequential\":[[0.0,\"#0d0887\"],[0.1111111111111111,\"#46039f\"],[0.2222222222222222,\"#7201a8\"],[0.3333333333333333,\"#9c179e\"],[0.4444444444444444,\"#bd3786\"],[0.5555555555555556,\"#d8576b\"],[0.6666666666666666,\"#ed7953\"],[0.7777777777777778,\"#fb9f3a\"],[0.8888888888888888,\"#fdca26\"],[1.0,\"#f0f921\"]],\"sequentialminus\":[[0.0,\"#0d0887\"],[0.1111111111111111,\"#46039f\"],[0.2222222222222222,\"#7201a8\"],[0.3333333333333333,\"#9c179e\"],[0.4444444444444444,\"#bd3786\"],[0.5555555555555556,\"#d8576b\"],[0.6666666666666666,\"#ed7953\"],[0.7777777777777778,\"#fb9f3a\"],[0.8888888888888888,\"#fdca26\"],[1.0,\"#f0f921\"]],\"diverging\":[[0,\"#8e0152\"],[0.1,\"#c51b7d\"],[0.2,\"#de77ae\"],[0.3,\"#f1b6da\"],[0.4,\"#fde0ef\"],[0.5,\"#f7f7f7\"],[0.6,\"#e6f5d0\"],[0.7,\"#b8e186\"],[0.8,\"#7fbc41\"],[0.9,\"#4d9221\"],[1,\"#276419\"]]},\"xaxis\":{\"gridcolor\":\"white\",\"linecolor\":\"white\",\"ticks\":\"\",\"title\":{\"standoff\":15},\"zerolinecolor\":\"white\",\"automargin\":true,\"zerolinewidth\":2},\"yaxis\":{\"gridcolor\":\"white\",\"linecolor\":\"white\",\"ticks\":\"\",\"title\":{\"standoff\":15},\"zerolinecolor\":\"white\",\"automargin\":true,\"zerolinewidth\":2},\"scene\":{\"xaxis\":{\"backgroundcolor\":\"#E5ECF6\",\"gridcolor\":\"white\",\"linecolor\":\"white\",\"showbackground\":true,\"ticks\":\"\",\"zerolinecolor\":\"white\",\"gridwidth\":2},\"yaxis\":{\"backgroundcolor\":\"#E5ECF6\",\"gridcolor\":\"white\",\"linecolor\":\"white\",\"showbackground\":true,\"ticks\":\"\",\"zerolinecolor\":\"white\",\"gridwidth\":2},\"zaxis\":{\"backgroundcolor\":\"#E5ECF6\",\"gridcolor\":\"white\",\"linecolor\":\"white\",\"showbackground\":true,\"ticks\":\"\",\"zerolinecolor\":\"white\",\"gridwidth\":2}},\"shapedefaults\":{\"line\":{\"color\":\"#2a3f5f\"}},\"annotationdefaults\":{\"arrowcolor\":\"#2a3f5f\",\"arrowhead\":0,\"arrowwidth\":1},\"geo\":{\"bgcolor\":\"white\",\"landcolor\":\"#E5ECF6\",\"subunitcolor\":\"white\",\"showland\":true,\"showlakes\":true,\"lakecolor\":\"white\"},\"title\":{\"x\":0.05},\"mapbox\":{\"style\":\"light\"}}},\"xaxis\":{\"tickangle\":-45,\"categoryorder\":\"total descending\"},\"title\":{\"text\":\"Showing Main source of household income in last 12 months for Cruz, Vavaea\"},\"barmode\":\"group\"},                        {\"responsive\": true}                    ).then(function(){\n",
       "                            \n",
       "var gd = document.getElementById('c045ff78-d4e3-4607-a6d4-a97f61149395');\n",
       "var x = new MutationObserver(function (mutations, observer) {{\n",
       "        var display = window.getComputedStyle(gd).display;\n",
       "        if (!display || display === 'none') {{\n",
       "            console.log([gd, 'removed!']);\n",
       "            Plotly.purge(gd);\n",
       "            observer.disconnect();\n",
       "        }}\n",
       "}});\n",
       "\n",
       "// Listen for the removal of the full notebook cells\n",
       "var notebookContainer = gd.closest('#notebook-container');\n",
       "if (notebookContainer) {{\n",
       "    x.observe(notebookContainer, {childList: true});\n",
       "}}\n",
       "\n",
       "// Listen for the clearing of the current output cell\n",
       "var outputEl = gd.closest('.output');\n",
       "if (outputEl) {{\n",
       "    x.observe(outputEl, {childList: true});\n",
       "}}\n",
       "\n",
       "                        })                };                });            </script>        </div>"
      ]
     },
     "metadata": {},
     "output_type": "display_data"
    }
   ],
   "source": [
    "gen_bar_plot(sol_geo, 'Ward', \"Main source of household income in last 12 months\", 'Wages Salary', ['Cruz', 'Vavaea'],)"
   ]
  },
  {
   "cell_type": "code",
   "execution_count": null,
   "metadata": {},
   "outputs": [
    {
     "data": {
      "text/html": [
       "<div>\n",
       "<style scoped>\n",
       "    .dataframe tbody tr th:only-of-type {\n",
       "        vertical-align: middle;\n",
       "    }\n",
       "\n",
       "    .dataframe tbody tr th {\n",
       "        vertical-align: top;\n",
       "    }\n",
       "\n",
       "    .dataframe thead th {\n",
       "        text-align: right;\n",
       "    }\n",
       "</style>\n",
       "<table border=\"1\" class=\"dataframe\">\n",
       "  <thead>\n",
       "    <tr style=\"text-align: right;\">\n",
       "      <th></th>\n",
       "      <th>piped - private</th>\n",
       "      <th>piped - shared</th>\n",
       "      <th>communal standpipe</th>\n",
       "      <th>well - protected</th>\n",
       "      <th>well - unprotected</th>\n",
       "      <th>private water tank</th>\n",
       "      <th>communal water tank</th>\n",
       "      <th>sea water</th>\n",
       "      <th>river, lake or stream water</th>\n",
       "      <th>other source of washing water</th>\n",
       "    </tr>\n",
       "    <tr>\n",
       "      <th>pk</th>\n",
       "      <th></th>\n",
       "      <th></th>\n",
       "      <th></th>\n",
       "      <th></th>\n",
       "      <th></th>\n",
       "      <th></th>\n",
       "      <th></th>\n",
       "      <th></th>\n",
       "      <th></th>\n",
       "      <th></th>\n",
       "    </tr>\n",
       "  </thead>\n",
       "  <tbody>\n",
       "    <tr>\n",
       "      <th>Nggosi_Total</th>\n",
       "      <td>897.0</td>\n",
       "      <td>443.0</td>\n",
       "      <td>17.0</td>\n",
       "      <td>2.0</td>\n",
       "      <td>2.0</td>\n",
       "      <td>16.0</td>\n",
       "      <td>2.0</td>\n",
       "      <td>0.0</td>\n",
       "      <td>48.0</td>\n",
       "      <td>3.0</td>\n",
       "    </tr>\n",
       "    <tr>\n",
       "      <th>Mbumburu_Total</th>\n",
       "      <td>389.0</td>\n",
       "      <td>71.0</td>\n",
       "      <td>4.0</td>\n",
       "      <td>20.0</td>\n",
       "      <td>4.0</td>\n",
       "      <td>8.0</td>\n",
       "      <td>1.0</td>\n",
       "      <td>0.0</td>\n",
       "      <td>13.0</td>\n",
       "      <td>3.0</td>\n",
       "    </tr>\n",
       "    <tr>\n",
       "      <th>Rove - Lengakiki_Total</th>\n",
       "      <td>273.0</td>\n",
       "      <td>52.0</td>\n",
       "      <td>0.0</td>\n",
       "      <td>0.0</td>\n",
       "      <td>0.0</td>\n",
       "      <td>6.0</td>\n",
       "      <td>1.0</td>\n",
       "      <td>0.0</td>\n",
       "      <td>2.0</td>\n",
       "      <td>0.0</td>\n",
       "    </tr>\n",
       "    <tr>\n",
       "      <th>Cruz_Total</th>\n",
       "      <td>15.0</td>\n",
       "      <td>2.0</td>\n",
       "      <td>0.0</td>\n",
       "      <td>0.0</td>\n",
       "      <td>0.0</td>\n",
       "      <td>0.0</td>\n",
       "      <td>0.0</td>\n",
       "      <td>0.0</td>\n",
       "      <td>0.0</td>\n",
       "      <td>0.0</td>\n",
       "    </tr>\n",
       "    <tr>\n",
       "      <th>Vavaea_Total</th>\n",
       "      <td>612.0</td>\n",
       "      <td>293.0</td>\n",
       "      <td>15.0</td>\n",
       "      <td>0.0</td>\n",
       "      <td>0.0</td>\n",
       "      <td>2.0</td>\n",
       "      <td>2.0</td>\n",
       "      <td>0.0</td>\n",
       "      <td>14.0</td>\n",
       "      <td>4.0</td>\n",
       "    </tr>\n",
       "    <tr>\n",
       "      <th>...</th>\n",
       "      <td>...</td>\n",
       "      <td>...</td>\n",
       "      <td>...</td>\n",
       "      <td>...</td>\n",
       "      <td>...</td>\n",
       "      <td>...</td>\n",
       "      <td>...</td>\n",
       "      <td>...</td>\n",
       "      <td>...</td>\n",
       "      <td>...</td>\n",
       "    </tr>\n",
       "    <tr>\n",
       "      <th>Duff Islands_Total</th>\n",
       "      <td>12.0</td>\n",
       "      <td>14.0</td>\n",
       "      <td>87.0</td>\n",
       "      <td>1.0</td>\n",
       "      <td>0.0</td>\n",
       "      <td>0.0</td>\n",
       "      <td>0.0</td>\n",
       "      <td>6.0</td>\n",
       "      <td>5.0</td>\n",
       "      <td>1.0</td>\n",
       "    </tr>\n",
       "    <tr>\n",
       "      <th>Utupua_Total</th>\n",
       "      <td>3.0</td>\n",
       "      <td>0.0</td>\n",
       "      <td>199.0</td>\n",
       "      <td>0.0</td>\n",
       "      <td>0.0</td>\n",
       "      <td>4.0</td>\n",
       "      <td>0.0</td>\n",
       "      <td>3.0</td>\n",
       "      <td>20.0</td>\n",
       "      <td>3.0</td>\n",
       "    </tr>\n",
       "    <tr>\n",
       "      <th>Vanikoro_Total</th>\n",
       "      <td>2.0</td>\n",
       "      <td>30.0</td>\n",
       "      <td>145.0</td>\n",
       "      <td>0.0</td>\n",
       "      <td>4.0</td>\n",
       "      <td>3.0</td>\n",
       "      <td>1.0</td>\n",
       "      <td>1.0</td>\n",
       "      <td>79.0</td>\n",
       "      <td>1.0</td>\n",
       "    </tr>\n",
       "    <tr>\n",
       "      <th>Tikopia_Total</th>\n",
       "      <td>0.0</td>\n",
       "      <td>1.0</td>\n",
       "      <td>232.0</td>\n",
       "      <td>0.0</td>\n",
       "      <td>0.0</td>\n",
       "      <td>1.0</td>\n",
       "      <td>1.0</td>\n",
       "      <td>0.0</td>\n",
       "      <td>25.0</td>\n",
       "      <td>2.0</td>\n",
       "    </tr>\n",
       "    <tr>\n",
       "      <th>Neo_Total</th>\n",
       "      <td>0.0</td>\n",
       "      <td>1.0</td>\n",
       "      <td>1.0</td>\n",
       "      <td>56.0</td>\n",
       "      <td>223.0</td>\n",
       "      <td>7.0</td>\n",
       "      <td>5.0</td>\n",
       "      <td>6.0</td>\n",
       "      <td>1.0</td>\n",
       "      <td>1.0</td>\n",
       "    </tr>\n",
       "  </tbody>\n",
       "</table>\n",
       "<p>183 rows × 10 columns</p>\n",
       "</div>"
      ],
      "text/plain": [
       "                        piped - private  piped - shared  communal standpipe  \\\n",
       "pk                                                                            \n",
       "Nggosi_Total                      897.0           443.0                17.0   \n",
       "Mbumburu_Total                    389.0            71.0                 4.0   \n",
       "Rove - Lengakiki_Total            273.0            52.0                 0.0   \n",
       "Cruz_Total                         15.0             2.0                 0.0   \n",
       "Vavaea_Total                      612.0           293.0                15.0   \n",
       "...                                 ...             ...                 ...   \n",
       "Duff Islands_Total                 12.0            14.0                87.0   \n",
       "Utupua_Total                        3.0             0.0               199.0   \n",
       "Vanikoro_Total                      2.0            30.0               145.0   \n",
       "Tikopia_Total                       0.0             1.0               232.0   \n",
       "Neo_Total                           0.0             1.0                 1.0   \n",
       "\n",
       "                        well - protected  well - unprotected  \\\n",
       "pk                                                             \n",
       "Nggosi_Total                         2.0                 2.0   \n",
       "Mbumburu_Total                      20.0                 4.0   \n",
       "Rove - Lengakiki_Total               0.0                 0.0   \n",
       "Cruz_Total                           0.0                 0.0   \n",
       "Vavaea_Total                         0.0                 0.0   \n",
       "...                                  ...                 ...   \n",
       "Duff Islands_Total                   1.0                 0.0   \n",
       "Utupua_Total                         0.0                 0.0   \n",
       "Vanikoro_Total                       0.0                 4.0   \n",
       "Tikopia_Total                        0.0                 0.0   \n",
       "Neo_Total                           56.0               223.0   \n",
       "\n",
       "                        private water tank  communal water tank  sea water  \\\n",
       "pk                                                                           \n",
       "Nggosi_Total                          16.0                  2.0        0.0   \n",
       "Mbumburu_Total                         8.0                  1.0        0.0   \n",
       "Rove - Lengakiki_Total                 6.0                  1.0        0.0   \n",
       "Cruz_Total                             0.0                  0.0        0.0   \n",
       "Vavaea_Total                           2.0                  2.0        0.0   \n",
       "...                                    ...                  ...        ...   \n",
       "Duff Islands_Total                     0.0                  0.0        6.0   \n",
       "Utupua_Total                           4.0                  0.0        3.0   \n",
       "Vanikoro_Total                         3.0                  1.0        1.0   \n",
       "Tikopia_Total                          1.0                  1.0        0.0   \n",
       "Neo_Total                              7.0                  5.0        6.0   \n",
       "\n",
       "                        river, lake or stream water  \\\n",
       "pk                                                    \n",
       "Nggosi_Total                                   48.0   \n",
       "Mbumburu_Total                                 13.0   \n",
       "Rove - Lengakiki_Total                          2.0   \n",
       "Cruz_Total                                      0.0   \n",
       "Vavaea_Total                                   14.0   \n",
       "...                                             ...   \n",
       "Duff Islands_Total                              5.0   \n",
       "Utupua_Total                                   20.0   \n",
       "Vanikoro_Total                                 79.0   \n",
       "Tikopia_Total                                  25.0   \n",
       "Neo_Total                                       1.0   \n",
       "\n",
       "                        other source of washing water  \n",
       "pk                                                     \n",
       "Nggosi_Total                                      3.0  \n",
       "Mbumburu_Total                                    3.0  \n",
       "Rove - Lengakiki_Total                            0.0  \n",
       "Cruz_Total                                        0.0  \n",
       "Vavaea_Total                                      4.0  \n",
       "...                                               ...  \n",
       "Duff Islands_Total                                1.0  \n",
       "Utupua_Total                                      3.0  \n",
       "Vanikoro_Total                                    1.0  \n",
       "Tikopia_Total                                     2.0  \n",
       "Neo_Total                                         1.0  \n",
       "\n",
       "[183 rows x 10 columns]"
      ]
     },
     "execution_count": null,
     "metadata": {},
     "output_type": "execute_result"
    }
   ],
   "source": [
    "sol_geo.get_df('Ward',\n",
    "    'Main source of household washing water',\n",
    "    #loc_filter =['Makira-Ulawa'],\n",
    "    type_filter = 'Total')"
   ]
  },
  {
   "cell_type": "markdown",
   "metadata": {},
   "source": [
    "## Create card group"
   ]
  },
  {
   "cell_type": "code",
   "execution_count": null,
   "metadata": {},
   "outputs": [],
   "source": [
    "#| export\n",
    "# todo - turn this eventually into a function\n",
    "\n",
    "# TODO - make it in future so that clicking on a card updates the current census variable\n",
    "# selection and it highlights it as clicked.\n",
    "# TODO - workout how to make this into a collection of cards, potentially cardgroup\n",
    "# TODO - need to rename this\n",
    "# TODO create bottom padding\n",
    "# TODO - should I have some graphs here instead of cards??\n",
    "\n",
    "def card_list(sg:SolomonGeo, # Input data object\n",
    "                header:str, # Header of Accordian\n",
    "                loc:[str] = None, # Desired location within aggregation\n",
    "                type_filter:str = 'Total', # The type \n",
    "                    )->dbc.Col: # Returns a column containing a title and accordian items\n",
    "    '''\n",
    "    Create a list accordians for each variable, where each accordian contains a card for \n",
    "    each measure of that variable\n",
    "    '''\n",
    "    # If location is none, set agg to any location.\n",
    "    # This means if not location is selected, we always return the total\n",
    "    geo = None\n",
    "    if loc == None:\n",
    "        geo = sg.geo_levels[0]\n",
    "\n",
    "    accordians = []\n",
    "    # TODO this needs to be in a row above the accordians\n",
    "    accordians.append(dcc.Markdown(children=\"## \" + header))\n",
    "    # TODO iter through keys\n",
    "    for key in sg.census_vars:\n",
    "        cards = []\n",
    "        for var in sg.census_vars[key]:\n",
    "            # Create an accordian with the header of the variable and such\n",
    "            if loc == None:\n",
    "                df = sg.agg_df(geo_filter = geo,\n",
    "                                var = key,\n",
    "                                measure = var, \n",
    "                                loc_filter = loc,\n",
    "                                type_filter = type_filter).values[0]\n",
    "            else:\n",
    "                df = sg.get_df(geo_filter = geo, \n",
    "                                var = key,\n",
    "                                measure = var, \n",
    "                                loc_filter = loc,\n",
    "                                type_filter = type_filter).values[0]\n",
    "            cards.append(#dbc.Col([\n",
    "                dbc.Card(\n",
    "                children = [\n",
    "                    dbc.CardHeader(\n",
    "                        [html.H4(var)]\n",
    "\n",
    "                    ),\n",
    "                    dbc.CardBody(\n",
    "                        [\n",
    "                        html.H5(df, \n",
    "                                className = \"text-center\")\n",
    "                        ] # TODO - add a rank here and colour code based on rank (i.e. 2nd highest of provinces)\n",
    "                    )]\n",
    "                , class_name =\"border-primary\" #m-2 mb-3\n",
    "                \n",
    "                #)]\n",
    "                )\n",
    "            )\n",
    "        accordians.append(dbc.Row([dbc.AccordionItem(\n",
    "                 dbc.Row(cards),\n",
    "                title=key,\n",
    "            )]))\n",
    "\n",
    "    # TODO return list of accordiants in a column?\n",
    "    return dbc.Col(accordians)"
   ]
  },
  {
   "cell_type": "code",
   "execution_count": null,
   "metadata": {},
   "outputs": [
    {
     "data": {
      "text/markdown": [
       "---\n",
       "\n",
       "### card_list\n",
       "\n",
       ">      card_list (sg:SolomonIslandsDataMap.load_data.SolomonGeo, header:str,\n",
       ">                 loc:[<class'str'>]=None, type_filter:str='Total')\n",
       "\n",
       "Create a list accordians for each variable, where each accordian contains a card for \n",
       "each measure of that variable\n",
       "\n",
       "|    | **Type** | **Default** | **Details** |\n",
       "| -- | -------- | ----------- | ----------- |\n",
       "| sg | SolomonGeo |  | Input data object |\n",
       "| header | str |  | Header of Accordian |\n",
       "| loc | [<class 'str'>] | None | Desired location within aggregation |\n",
       "| type_filter | str | Total | The type |\n",
       "| **Returns** | **Col** |  | **Returns a column containing a title and accordian items** |"
      ],
      "text/plain": [
       "---\n",
       "\n",
       "### card_list\n",
       "\n",
       ">      card_list (sg:SolomonIslandsDataMap.load_data.SolomonGeo, header:str,\n",
       ">                 loc:[<class'str'>]=None, type_filter:str='Total')\n",
       "\n",
       "Create a list accordians for each variable, where each accordian contains a card for \n",
       "each measure of that variable\n",
       "\n",
       "|    | **Type** | **Default** | **Details** |\n",
       "| -- | -------- | ----------- | ----------- |\n",
       "| sg | SolomonGeo |  | Input data object |\n",
       "| header | str |  | Header of Accordian |\n",
       "| loc | [<class 'str'>] | None | Desired location within aggregation |\n",
       "| type_filter | str | Total | The type |\n",
       "| **Returns** | **Col** |  | **Returns a column containing a title and accordian items** |"
      ]
     },
     "execution_count": null,
     "metadata": {},
     "output_type": "execute_result"
    }
   ],
   "source": [
    "#| hide\n",
    "show_doc(card_list)"
   ]
  },
  {
   "cell_type": "code",
   "execution_count": null,
   "metadata": {},
   "outputs": [],
   "source": [
    "# Build and test a card\n",
    "#card_list(sol_geo, \"Header!!\")"
   ]
  },
  {
   "cell_type": "markdown",
   "metadata": {},
   "source": [
    "## Create function to make dropdowns"
   ]
  },
  {
   "cell_type": "code",
   "execution_count": null,
   "metadata": {},
   "outputs": [],
   "source": [
    "#| export\n",
    "def gen_dd(location_list:[str], # a list of locations\n",
    "           id:str, # Id of the dropdown\n",
    "           place_holder:str = None, # a placeholder message to display\n",
    "           val:str = None, # The starting value of the dropdown\n",
    "           clear:bool = False, # pick whether the ]\n",
    "           height:int = 35, # height of the dropdown text\n",
    "           multi:bool = False, # Is the dropdown multi select\n",
    "                        )->dcc.Dropdown: # Returns a dropdown\n",
    "    '''\n",
    "    Create the location dropdown from given list\n",
    "    '''\n",
    "    # TODO is this really necessary? I anm\n",
    "    dd = dcc.Dropdown(options=location_list,\n",
    "                        value=val,  # initial value displayed when page first loads\n",
    "                        searchable=True,\n",
    "                        clearable=clear,\n",
    "                        placeholder=place_holder, \n",
    "                        id = id, \n",
    "                        optionHeight=height,\n",
    "                        multi=multi)\n",
    "    return dd"
   ]
  },
  {
   "cell_type": "code",
   "execution_count": null,
   "metadata": {},
   "outputs": [
    {
     "data": {
      "text/plain": [
       "Dropdown(None)"
      ]
     },
     "execution_count": null,
     "metadata": {},
     "output_type": "execute_result"
    }
   ],
   "source": [
    "dcc.Dropdown()"
   ]
  },
  {
   "cell_type": "code",
   "execution_count": null,
   "metadata": {},
   "outputs": [
    {
     "data": {
      "text/markdown": [
       "---\n",
       "\n",
       "### gen_dd\n",
       "\n",
       ">      gen_dd (location_list:[<class'str'>], id:str, place_holder:str=None,\n",
       ">              val:str=None, clear:bool=False, height:int=35, multi:bool=False)\n",
       "\n",
       "Create the location dropdown from given list\n",
       "\n",
       "|    | **Type** | **Default** | **Details** |\n",
       "| -- | -------- | ----------- | ----------- |\n",
       "| location_list | [<class 'str'>] |  | a list of locations |\n",
       "| id | str |  | Id of the dropdown |\n",
       "| place_holder | str | None | a placeholder message to display |\n",
       "| val | str | None | The starting value of the dropdown |\n",
       "| clear | bool | False | pick whether the ] |\n",
       "| height | int | 35 | height of the dropdown text |\n",
       "| multi | bool | False | Is the dropdown multi select |\n",
       "| **Returns** | **Dropdown** |  | **Returns a dropdown** |"
      ],
      "text/plain": [
       "---\n",
       "\n",
       "### gen_dd\n",
       "\n",
       ">      gen_dd (location_list:[<class'str'>], id:str, place_holder:str=None,\n",
       ">              val:str=None, clear:bool=False, height:int=35, multi:bool=False)\n",
       "\n",
       "Create the location dropdown from given list\n",
       "\n",
       "|    | **Type** | **Default** | **Details** |\n",
       "| -- | -------- | ----------- | ----------- |\n",
       "| location_list | [<class 'str'>] |  | a list of locations |\n",
       "| id | str |  | Id of the dropdown |\n",
       "| place_holder | str | None | a placeholder message to display |\n",
       "| val | str | None | The starting value of the dropdown |\n",
       "| clear | bool | False | pick whether the ] |\n",
       "| height | int | 35 | height of the dropdown text |\n",
       "| multi | bool | False | Is the dropdown multi select |\n",
       "| **Returns** | **Dropdown** |  | **Returns a dropdown** |"
      ]
     },
     "execution_count": null,
     "metadata": {},
     "output_type": "execute_result"
    }
   ],
   "source": [
    "show_doc(gen_dd)"
   ]
  },
  {
   "cell_type": "markdown",
   "metadata": {},
   "source": [
    "## Testing"
   ]
  },
  {
   "cell_type": "code",
   "execution_count": null,
   "metadata": {},
   "outputs": [],
   "source": [
    "# TODO implementing testing, everything should at least be run here and execute and be displayed"
   ]
  },
  {
   "cell_type": "code",
   "execution_count": null,
   "metadata": {},
   "outputs": [],
   "source": [
    "#| hide\n",
    "import nbdev; nbdev.nbdev_export()"
   ]
  }
 ],
 "metadata": {
  "kernelspec": {
   "display_name": "python3",
   "language": "python",
   "name": "python3"
  }
 },
 "nbformat": 4,
 "nbformat_minor": 4
}
