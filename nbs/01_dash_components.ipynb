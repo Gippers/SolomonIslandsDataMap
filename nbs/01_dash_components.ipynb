{
 "cells": [
  {
   "cell_type": "markdown",
   "metadata": {},
   "source": [
    "# Generate Map\n",
    "\n",
    "> Class that generates the data map"
   ]
  },
  {
   "cell_type": "code",
   "execution_count": null,
   "metadata": {},
   "outputs": [],
   "source": [
    "#| default_exp dash_components"
   ]
  },
  {
   "cell_type": "code",
   "execution_count": null,
   "metadata": {},
   "outputs": [],
   "source": [
    "#| export\n",
    "from nbdev.showdoc import *\n",
    "# TODO work out how to get around below hack\n",
    "try:\n",
    "    from SolomonIslandsDataMap.load_data import *\n",
    "except: \n",
    "    from load_data import *\n",
    "import plotly.express as px\n",
    "import plotly.graph_objects as go\n",
    "import plotly.io as pio # Unless this is used graphs will not be dynamic?\n",
    "import json\n",
    "from git import Repo\n",
    "import pandas as pd\n",
    "import numpy as np\n",
    "from fastcore.test import *\n",
    "from dash import Dash, dcc, Output, Input, html, Patch, ctx  # pip install dash\n",
    "import dash_bootstrap_components as dbc    # pip install dash-bootstrap-components\n",
    "from dash_bootstrap_templates import load_figure_template\n",
    "import random\n",
    "import dash_mantine_components as dmc"
   ]
  },
  {
   "cell_type": "code",
   "execution_count": null,
   "metadata": {},
   "outputs": [],
   "source": [
    "# TODO - do a need a state class that tracks the state of different website objects to help with\n",
    "# updating etc. \n",
    "# TODO - not even state, should it be an object that contains everythin to track. Execpt if I am patching,\n",
    "# then the tracking in mem is unessary, so better to just track necesary values like: last changes card etc. "
   ]
  },
  {
   "cell_type": "markdown",
   "metadata": {},
   "source": [
    "## Load Data"
   ]
  },
  {
   "cell_type": "code",
   "execution_count": null,
   "metadata": {},
   "outputs": [],
   "source": [
    "\n",
    "sol_geo = SolomonGeo.load_pickle(\"/testData/\")\n",
    "geo_df = sol_geo.geo_df"
   ]
  },
  {
   "cell_type": "markdown",
   "metadata": {},
   "source": [
    "## Build the Cloreopath Map"
   ]
  },
  {
   "cell_type": "code",
   "execution_count": null,
   "metadata": {},
   "outputs": [],
   "source": [
    "#| export\n",
    "# TODO I should build figures and maps in another script\n",
    "def define_map(sol_df:SolomonGeo # Solomon geo object containing census data to input into map\n",
    "                )->type(go.Figure()): # Returns a graph object figure\n",
    "    '''\n",
    "    Creates and returns the base cloreopath map\n",
    "    '''\n",
    "    # TODO - should I update this into a class with methods for updating\n",
    "    # the other things? Acutally maybe as another function if the update is done through patch\n",
    "    \n",
    "    # cols_dd dictates the aggregation that will be visable\n",
    "    cols_dd = sol_df.geo_levels\n",
    "    # define traces and buttons at once\n",
    "    traces = []\n",
    "    # TODO if fails remember I changed visible from cols_dd\n",
    "    for value in cols_dd:\n",
    "        z_vals = sol_df.get_df(geo_filter = value, var = 'Key Statistics', \n",
    "                                                 measure = 'Total Households').values\n",
    "        z_vals = z_vals.reshape((z_vals.shape[0],))\n",
    "        traces.append(go.Choroplethmapbox(\n",
    "                                geojson=sol_df.get_geojson(geo_filter = value),\n",
    "                               locations=sol_df.get_df(geo_filter = value).index,\n",
    "                               # TODO undo hardcoding\n",
    "                               z = z_vals,\n",
    "                               colorscale=\"deep\",\n",
    "                                marker_line_width = 0.5,\n",
    "                                zauto=True,\n",
    "                visible= True if value==cols_dd[0] else False))\n",
    "        \n",
    "    # Show figure\n",
    "    fig = go.Figure(data=traces)\n",
    "    # This is in order to get the first title displayed correctly\n",
    "    first_title = cols_dd[0]\n",
    "    fig.update_layout(title=f\"<b>{first_title}</b>\",\n",
    "                        title_x=0.5,\n",
    "                        mapbox_style = 'carto-positron',\n",
    "                        mapbox_zoom = 5,\n",
    "                        mapbox_center={\"lat\": -9.565766, \"lon\": 162.012453},\n",
    "                        margin={\"r\":0,\"t\":0,\"l\":0,\"b\":0},\n",
    "                        # TODO in future consider going back to multiselect, currently too hard\n",
    "                        #clickmode = 'event+select',\n",
    "    )\n",
    "    \n",
    "    return fig\n"
   ]
  },
  {
   "cell_type": "code",
   "execution_count": null,
   "metadata": {},
   "outputs": [
    {
     "data": {
      "text/markdown": [
       "---\n",
       "\n",
       "[source](https://github.com/Gippers/SolomonIslandsDataMap/blob/main/SolomonIslandsDataMap/dash_components.py#L29){target=\"_blank\" style=\"float:right; font-size:smaller\"}\n",
       "\n",
       "### define_map\n",
       "\n",
       ">      define_map (sol_df:SolomonIslandsDataMap.load_data.SolomonGeo)\n",
       "\n",
       "Creates and returns the base cloreopath map\n",
       "\n",
       "|    | **Type** | **Details** |\n",
       "| -- | -------- | ----------- |\n",
       "| sol_df | SolomonGeo | Solomon geo object containing census data to input into map |\n",
       "| **Returns** | **Figure** | **Returns a graph object figure** |"
      ],
      "text/plain": [
       "---\n",
       "\n",
       "[source](https://github.com/Gippers/SolomonIslandsDataMap/blob/main/SolomonIslandsDataMap/dash_components.py#L29){target=\"_blank\" style=\"float:right; font-size:smaller\"}\n",
       "\n",
       "### define_map\n",
       "\n",
       ">      define_map (sol_df:SolomonIslandsDataMap.load_data.SolomonGeo)\n",
       "\n",
       "Creates and returns the base cloreopath map\n",
       "\n",
       "|    | **Type** | **Details** |\n",
       "| -- | -------- | ----------- |\n",
       "| sol_df | SolomonGeo | Solomon geo object containing census data to input into map |\n",
       "| **Returns** | **Figure** | **Returns a graph object figure** |"
      ]
     },
     "execution_count": null,
     "metadata": {},
     "output_type": "execute_result"
    }
   ],
   "source": [
    "#| hide\n",
    "show_doc(define_map)"
   ]
  },
  {
   "cell_type": "code",
   "execution_count": null,
   "metadata": {},
   "outputs": [],
   "source": [
    "fig = define_map(sol_geo)"
   ]
  },
  {
   "cell_type": "markdown",
   "metadata": {},
   "source": [
    "## Create a bar graph to display current data"
   ]
  },
  {
   "cell_type": "code",
   "execution_count": null,
   "metadata": {},
   "outputs": [
    {
     "data": {
      "text/html": [
       "<div>\n",
       "<style scoped>\n",
       "    .dataframe tbody tr th:only-of-type {\n",
       "        vertical-align: middle;\n",
       "    }\n",
       "\n",
       "    .dataframe tbody tr th {\n",
       "        vertical-align: top;\n",
       "    }\n",
       "\n",
       "    .dataframe thead tr th {\n",
       "        text-align: left;\n",
       "    }\n",
       "\n",
       "    .dataframe thead tr:last-of-type th {\n",
       "        text-align: right;\n",
       "    }\n",
       "</style>\n",
       "<table border=\"1\" class=\"dataframe\">\n",
       "  <thead>\n",
       "    <tr>\n",
       "      <th></th>\n",
       "      <th>Key Statistics</th>\n",
       "      <th colspan=\"9\" halign=\"left\">Main source of household drinking water</th>\n",
       "      <th>...</th>\n",
       "      <th colspan=\"2\" halign=\"left\">Household money received from remittances</th>\n",
       "      <th colspan=\"8\" halign=\"left\">Main source of household income in last 12 months</th>\n",
       "    </tr>\n",
       "    <tr>\n",
       "      <th></th>\n",
       "      <th>Total Households</th>\n",
       "      <th>metered SIWA drinking water</th>\n",
       "      <th>communal standpipe</th>\n",
       "      <th>private water tank</th>\n",
       "      <th>communal water tank</th>\n",
       "      <th>well - protected</th>\n",
       "      <th>well - unprotected</th>\n",
       "      <th>river or stream</th>\n",
       "      <th>bottled water</th>\n",
       "      <th>other source of drinking water</th>\n",
       "      <th>...</th>\n",
       "      <th>1000 - 1499 S.I. dollars</th>\n",
       "      <th>more than 1500 S.I. dollars</th>\n",
       "      <th>No income</th>\n",
       "      <th>Wages Salary</th>\n",
       "      <th>Own business</th>\n",
       "      <th>Sale fish crop craft</th>\n",
       "      <th>Land lease</th>\n",
       "      <th>House rent</th>\n",
       "      <th>Remittances</th>\n",
       "      <th>Other source</th>\n",
       "    </tr>\n",
       "    <tr>\n",
       "      <th>geo_name</th>\n",
       "      <th></th>\n",
       "      <th></th>\n",
       "      <th></th>\n",
       "      <th></th>\n",
       "      <th></th>\n",
       "      <th></th>\n",
       "      <th></th>\n",
       "      <th></th>\n",
       "      <th></th>\n",
       "      <th></th>\n",
       "      <th></th>\n",
       "      <th></th>\n",
       "      <th></th>\n",
       "      <th></th>\n",
       "      <th></th>\n",
       "      <th></th>\n",
       "      <th></th>\n",
       "      <th></th>\n",
       "      <th></th>\n",
       "      <th></th>\n",
       "      <th></th>\n",
       "    </tr>\n",
       "  </thead>\n",
       "  <tbody>\n",
       "    <tr>\n",
       "      <th>Cruz</th>\n",
       "      <td>17</td>\n",
       "      <td>17.0</td>\n",
       "      <td>0.0</td>\n",
       "      <td>0.0</td>\n",
       "      <td>0.0</td>\n",
       "      <td>0.0</td>\n",
       "      <td>0.0</td>\n",
       "      <td>0.0</td>\n",
       "      <td>0.0</td>\n",
       "      <td>0.0</td>\n",
       "      <td>...</td>\n",
       "      <td>0.0</td>\n",
       "      <td>0.0</td>\n",
       "      <td>0.0</td>\n",
       "      <td>13.0</td>\n",
       "      <td>3.0</td>\n",
       "      <td>0.0</td>\n",
       "      <td>0.0</td>\n",
       "      <td>0.0</td>\n",
       "      <td>0.0</td>\n",
       "      <td>1.0</td>\n",
       "    </tr>\n",
       "  </tbody>\n",
       "</table>\n",
       "<p>1 rows × 66 columns</p>\n",
       "</div>"
      ],
      "text/plain": [
       "           Key Statistics Main source of household drinking water  \\\n",
       "         Total Households             metered SIWA drinking water   \n",
       "geo_name                                                            \n",
       "Cruz                   17                                    17.0   \n",
       "\n",
       "                                                                    \\\n",
       "         communal standpipe private water tank communal water tank   \n",
       "geo_name                                                             \n",
       "Cruz                    0.0                0.0                 0.0   \n",
       "\n",
       "                                                                            \\\n",
       "         well - protected well - unprotected river or stream bottled water   \n",
       "geo_name                                                                     \n",
       "Cruz                  0.0                0.0             0.0           0.0   \n",
       "\n",
       "                                         ...  \\\n",
       "         other source of drinking water  ...   \n",
       "geo_name                                 ...   \n",
       "Cruz                                0.0  ...   \n",
       "\n",
       "         Household money received from remittances  \\\n",
       "                          1000 - 1499 S.I. dollars   \n",
       "geo_name                                             \n",
       "Cruz                                           0.0   \n",
       "\n",
       "                                      \\\n",
       "         more than 1500 S.I. dollars   \n",
       "geo_name                               \n",
       "Cruz                             0.0   \n",
       "\n",
       "         Main source of household income in last 12 months               \\\n",
       "                                                 No income Wages Salary   \n",
       "geo_name                                                                  \n",
       "Cruz                                                   0.0         13.0   \n",
       "\n",
       "                                                                              \\\n",
       "         Own business Sale fish crop craft Land lease House rent Remittances   \n",
       "geo_name                                                                       \n",
       "Cruz              3.0                  0.0        0.0        0.0         0.0   \n",
       "\n",
       "                       \n",
       "         Other source  \n",
       "geo_name               \n",
       "Cruz              1.0  \n",
       "\n",
       "[1 rows x 66 columns]"
      ]
     },
     "execution_count": null,
     "metadata": {},
     "output_type": "execute_result"
    }
   ],
   "source": [
    "#| export\n",
    "df = sol_geo.get_df(geo_filter='Ward', loc_filter=[\"Cruz\"], var = \"Main source of household income in last 12 months\")\n",
    "df"
   ]
  },
  {
   "cell_type": "markdown",
   "metadata": {},
   "source": [
    "## Create card group"
   ]
  },
  {
   "cell_type": "code",
   "execution_count": null,
   "metadata": {},
   "outputs": [],
   "source": [
    "#| export\n",
    "# todo - turn this eventually into a function\n",
    "\n",
    "# TODO - make it in future so that clicking on a card updates the current census variable\n",
    "# selection and it highlights it as clicked.\n",
    "# TODO - workout how to make this into a collection of cards, potentially cardgroup\n",
    "# TODO - need to rename this\n",
    "# TODO create bottom padding\n",
    "# TODO - should I have some graphs here instead of cards??\n",
    "\n",
    "def card_list(sg:SolomonGeo, # Input data object\n",
    "                header:str, # Header of Accordian\n",
    "                loc:[str] = None, # Desired location within aggregation\n",
    "                type_filter:str = 'Total', # The type \n",
    "                    )->dbc.Col: # Returns a column containing a title and accordian items\n",
    "    '''\n",
    "    Create a list accordians for each variable, where each accordian contains a card for \n",
    "    each measure of that variable\n",
    "    '''\n",
    "    # If location is none, set agg to any location.\n",
    "    # This means if not location is selected, we always return the total\n",
    "    geo = None\n",
    "    if loc == None:\n",
    "        geo = sg.geo_levels[0]\n",
    "\n",
    "    accordians = []\n",
    "    # TODO this needs to be in a row above the accordians\n",
    "    accordians.append(dcc.Markdown(children=\"## \" + header))\n",
    "    # TODO iter through keys\n",
    "    for key in sg.census_vars:\n",
    "        cards = []\n",
    "        print(key)\n",
    "        for var in sg.census_vars[key]:\n",
    "            print(var)\n",
    "            # Create an accordian with the header of the variable and such\n",
    "            if loc == None:\n",
    "                df = sg.agg_df(geo_filter = geo,\n",
    "                                var = key,\n",
    "                                measure = var, \n",
    "                                loc_filter = loc,\n",
    "                                type_filter = type_filter).values[0]\n",
    "            else:\n",
    "                df = sg.get_df(geo_filter = geo, \n",
    "                                var = key,\n",
    "                                measure = var, \n",
    "                                loc_filter = loc,\n",
    "                                type_filter = type_filter).values[0]\n",
    "            cards.append(#dbc.Col([\n",
    "                dbc.Card(\n",
    "                children = [\n",
    "                    dbc.CardHeader(\n",
    "                        [html.H4(var)]\n",
    "\n",
    "                    ),\n",
    "                    dbc.CardBody(\n",
    "                        [\n",
    "                        html.H5(df, \n",
    "                                className = \"text-center\")\n",
    "                        ] # TODO - add a rank here and colour code based on rank (i.e. 2nd highest of provinces)\n",
    "                    )]\n",
    "                , class_name =\"border-primary\" #m-2 mb-3\n",
    "                \n",
    "                #)]\n",
    "                )\n",
    "            )\n",
    "        accordians.append(dbc.Row([dbc.AccordionItem(\n",
    "                 dbc.Row(cards),\n",
    "                title=key,\n",
    "            )]))\n",
    "\n",
    "    # TODO return list of accordiants in a column?\n",
    "    return dbc.Col(accordians)"
   ]
  },
  {
   "cell_type": "code",
   "execution_count": null,
   "metadata": {},
   "outputs": [
    {
     "data": {
      "text/markdown": [
       "---\n",
       "\n",
       "[source](https://github.com/Gippers/SolomonIslandsDataMap/blob/main/SolomonIslandsDataMap/dash_components.py#L81){target=\"_blank\" style=\"float:right; font-size:smaller\"}\n",
       "\n",
       "### card_list\n",
       "\n",
       ">      card_list (sg:SolomonIslandsDataMap.load_data.SolomonGeo, header:str,\n",
       ">                 loc:[<class'str'>]=None, type_filter:str='Total')\n",
       "\n",
       "Create a list accordians for each variable, where each accordian contains a card for \n",
       "each measure of that variable\n",
       "\n",
       "|    | **Type** | **Default** | **Details** |\n",
       "| -- | -------- | ----------- | ----------- |\n",
       "| sg | SolomonGeo |  | Input data object |\n",
       "| header | str |  | Header of Accordian |\n",
       "| loc | [<class 'str'>] | None | Desired location within aggregation |\n",
       "| type_filter | str | Total | The type |\n",
       "| **Returns** | **Col** |  | **Returns a column containing a title and accordian items** |"
      ],
      "text/plain": [
       "---\n",
       "\n",
       "[source](https://github.com/Gippers/SolomonIslandsDataMap/blob/main/SolomonIslandsDataMap/dash_components.py#L81){target=\"_blank\" style=\"float:right; font-size:smaller\"}\n",
       "\n",
       "### card_list\n",
       "\n",
       ">      card_list (sg:SolomonIslandsDataMap.load_data.SolomonGeo, header:str,\n",
       ">                 loc:[<class'str'>]=None, type_filter:str='Total')\n",
       "\n",
       "Create a list accordians for each variable, where each accordian contains a card for \n",
       "each measure of that variable\n",
       "\n",
       "|    | **Type** | **Default** | **Details** |\n",
       "| -- | -------- | ----------- | ----------- |\n",
       "| sg | SolomonGeo |  | Input data object |\n",
       "| header | str |  | Header of Accordian |\n",
       "| loc | [<class 'str'>] | None | Desired location within aggregation |\n",
       "| type_filter | str | Total | The type |\n",
       "| **Returns** | **Col** |  | **Returns a column containing a title and accordian items** |"
      ]
     },
     "execution_count": null,
     "metadata": {},
     "output_type": "execute_result"
    }
   ],
   "source": [
    "#| hide\n",
    "show_doc(card_list)"
   ]
  },
  {
   "cell_type": "code",
   "execution_count": null,
   "metadata": {},
   "outputs": [
    {
     "name": "stdout",
     "output_type": "stream",
     "text": [
      "Key Statistics\n",
      "Total Households\n",
      "Main source of household drinking water\n",
      "metered SIWA drinking water\n",
      "communal standpipe\n",
      "private water tank\n",
      "communal water tank\n",
      "well - protected\n",
      "well - unprotected\n",
      "river or stream\n",
      "bottled water\n",
      "other source of drinking water\n",
      "Main source of household washing water\n",
      "piped - private\n",
      "piped - shared\n",
      "communal standpipe\n"
     ]
    },
    {
     "name": "stdout",
     "output_type": "stream",
     "text": [
      "well - protected\n",
      "well - unprotected\n",
      "private water tank\n",
      "communal water tank\n",
      "sea water\n",
      "river, lake or stream water\n",
      "other source of washing water\n",
      "Main type of household toilet facility\n",
      "flush toilets - private\n",
      "flush toilets - shared\n",
      "water sealed toilets - private\n",
      "water sealed toilets - shared\n",
      "pit latrines - private\n",
      "pit latrines - shared\n",
      "other toilets\n",
      "no toilets\n",
      "Main source of household lighting\n",
      "Main Grid\n",
      "Own Generator\n",
      "solar\n",
      "gas\n",
      "kerosene lamp\n",
      "coleman lamp\n",
      "Wood or Coconut\n",
      "other lighting\n",
      "no lighting\n",
      "Main source of household cooking energy\n",
      "Electricity from Main Grid\n",
      "Kerosene\n",
      "Wood or Coconut\n",
      "Charcoal\n",
      "Gas\n",
      "other cooking fuels\n",
      "Households involvement in growing food\n",
      "subsistence only\n",
      "sale only\n",
      "subsistence and sale\n",
      "not growing food\n",
      "No response\n",
      "Households involvement in fishing\n",
      "subsistence only\n",
      "sale only\n",
      "subsistence and sale\n",
      "Households not fishing\n",
      "Household money received from remittances\n",
      "None\n",
      "unknown or not applicable\n",
      "1 - 499 S.I. dollars\n",
      "500 - 999 S.I. dollars\n",
      "1000 - 1499 S.I. dollars\n",
      "more than 1500 S.I. dollars\n",
      "Main source of household income in last 12 months\n",
      "No income\n",
      "Wages Salary\n",
      "Own business\n",
      "Sale fish crop craft\n",
      "Land lease\n",
      "House rent\n",
      "Remittances\n",
      "Other source\n"
     ]
    },
    {
     "data": {
      "text/plain": [
       "Col([Markdown('## Header!!'), Row([AccordionItem(children=Row([Card(children=[CardHeader([H4('Total Households')]), CardBody([H5(children=91251, className='text-center')])], class_name='border-primary')]), title='Key Statistics')]), Row([AccordionItem(children=Row([Card(children=[CardHeader([H4('metered SIWA drinking water')]), CardBody([H5(children=8366.0, className='text-center')])], class_name='border-primary'), Card(children=[CardHeader([H4('communal standpipe')]), CardBody([H5(children=32042.0, className='text-center')])], class_name='border-primary'), Card(children=[CardHeader([H4('private water tank')]), CardBody([H5(children=11380.0, className='text-center')])], class_name='border-primary'), Card(children=[CardHeader([H4('communal water tank')]), CardBody([H5(children=9690.0, className='text-center')])], class_name='border-primary'), Card(children=[CardHeader([H4('well - protected')]), CardBody([H5(children=1899.0, className='text-center')])], class_name='border-primary'), Card(children=[CardHeader([H4('well - unprotected')]), CardBody([H5(children=1626.0, className='text-center')])], class_name='border-primary'), Card(children=[CardHeader([H4('river or stream')]), CardBody([H5(children=22396.0, className='text-center')])], class_name='border-primary'), Card(children=[CardHeader([H4('bottled water')]), CardBody([H5(children=558.0, className='text-center')])], class_name='border-primary'), Card(children=[CardHeader([H4('other source of drinking water')]), CardBody([H5(children=3294.0, className='text-center')])], class_name='border-primary')]), title='Main source of household drinking water')]), Row([AccordionItem(children=Row([Card(children=[CardHeader([H4('piped - private')]), CardBody([H5(children=10408.0, className='text-center')])], class_name='border-primary'), Card(children=[CardHeader([H4('piped - shared')]), CardBody([H5(children=10920.0, className='text-center')])], class_name='border-primary'), Card(children=[CardHeader([H4('communal standpipe')]), CardBody([H5(children=24758.0, className='text-center')])], class_name='border-primary'), Card(children=[CardHeader([H4('well - protected')]), CardBody([H5(children=4756.0, className='text-center')])], class_name='border-primary'), Card(children=[CardHeader([H4('well - unprotected')]), CardBody([H5(children=5149.0, className='text-center')])], class_name='border-primary'), Card(children=[CardHeader([H4('private water tank')]), CardBody([H5(children=3290.0, className='text-center')])], class_name='border-primary'), Card(children=[CardHeader([H4('communal water tank')]), CardBody([H5(children=818.0, className='text-center')])], class_name='border-primary'), Card(children=[CardHeader([H4('sea water')]), CardBody([H5(children=517.0, className='text-center')])], class_name='border-primary'), Card(children=[CardHeader([H4('river, lake or stream water')]), CardBody([H5(children=29286.0, className='text-center')])], class_name='border-primary'), Card(children=[CardHeader([H4('other source of washing water')]), CardBody([H5(children=1349.0, className='text-center')])], class_name='border-primary')]), title='Main source of household washing water')]), Row([AccordionItem(children=Row([Card(children=[CardHeader([H4('flush toilets - private')]), CardBody([H5(children=9221.0, className='text-center')])], class_name='border-primary'), Card(children=[CardHeader([H4('flush toilets - shared')]), CardBody([H5(children=2111.0, className='text-center')])], class_name='border-primary'), Card(children=[CardHeader([H4('water sealed toilets - private')]), CardBody([H5(children=6565.0, className='text-center')])], class_name='border-primary'), Card(children=[CardHeader([H4('water sealed toilets - shared')]), CardBody([H5(children=2279.0, className='text-center')])], class_name='border-primary'), Card(children=[CardHeader([H4('pit latrines - private')]), CardBody([H5(children=10522.0, className='text-center')])], class_name='border-primary'), Card(children=[CardHeader([H4('pit latrines - shared')]), CardBody([H5(children=8339.0, className='text-center')])], class_name='border-primary'), Card(children=[CardHeader([H4('other toilets')]), CardBody([H5(children=22282.0, className='text-center')])], class_name='border-primary'), Card(children=[CardHeader([H4('no toilets')]), CardBody([H5(children=29932.0, className='text-center')])], class_name='border-primary')]), title='Main type of household toilet facility')]), Row([AccordionItem(children=Row([Card(children=[CardHeader([H4('Main Grid')]), CardBody([H5(children=10748.0, className='text-center')])], class_name='border-primary'), Card(children=[CardHeader([H4('Own Generator')]), CardBody([H5(children=683.0, className='text-center')])], class_name='border-primary'), Card(children=[CardHeader([H4('solar')]), CardBody([H5(children=7924.0, className='text-center')])], class_name='border-primary'), Card(children=[CardHeader([H4('gas')]), CardBody([H5(children=147.0, className='text-center')])], class_name='border-primary'), Card(children=[CardHeader([H4('kerosene lamp')]), CardBody([H5(children=68150.0, className='text-center')])], class_name='border-primary'), Card(children=[CardHeader([H4('coleman lamp')]), CardBody([H5(children=230.0, className='text-center')])], class_name='border-primary'), Card(children=[CardHeader([H4('Wood or Coconut')]), CardBody([H5(children=865.0, className='text-center')])], class_name='border-primary'), Card(children=[CardHeader([H4('other lighting')]), CardBody([H5(children=2223.0, className='text-center')])], class_name='border-primary'), Card(children=[CardHeader([H4('no lighting')]), CardBody([H5(children=281.0, className='text-center')])], class_name='border-primary')]), title='Main source of household lighting')]), Row([AccordionItem(children=Row([Card(children=[CardHeader([H4('Electricity from Main Grid')]), CardBody([H5(children=525.0, className='text-center')])], class_name='border-primary'), Card(children=[CardHeader([H4('Kerosene')]), CardBody([H5(children=612.0, className='text-center')])], class_name='border-primary'), Card(children=[CardHeader([H4('Wood or Coconut')]), CardBody([H5(children=84420.0, className='text-center')])], class_name='border-primary'), Card(children=[CardHeader([H4('Charcoal')]), CardBody([H5(children=418.0, className='text-center')])], class_name='border-primary'), Card(children=[CardHeader([H4('Gas')]), CardBody([H5(children=4957.0, className='text-center')])], class_name='border-primary'), Card(children=[CardHeader([H4('other cooking fuels')]), CardBody([H5(children=319.0, className='text-center')])], class_name='border-primary')]), title='Main source of household cooking energy')]), Row([AccordionItem(children=Row([Card(children=[CardHeader([H4('subsistence only')]), CardBody([H5(children=32951.0, className='text-center')])], class_name='border-primary'), Card(children=[CardHeader([H4('sale only')]), CardBody([H5(children=478.0, className='text-center')])], class_name='border-primary'), Card(children=[CardHeader([H4('subsistence and sale')]), CardBody([H5(children=44227.0, className='text-center')])], class_name='border-primary'), Card(children=[CardHeader([H4('not growing food')]), CardBody([H5(children=9300.0, className='text-center')])], class_name='border-primary'), Card(children=[CardHeader([H4('No response')]), CardBody([H5(children=4295.0, className='text-center')])], class_name='border-primary')]), title='Households involvement in growing food')]), Row([AccordionItem(children=Row([Card(children=[CardHeader([H4('subsistence only')]), CardBody([H5(children=26827.0, className='text-center')])], class_name='border-primary'), Card(children=[CardHeader([H4('sale only')]), CardBody([H5(children=368.0, className='text-center')])], class_name='border-primary'), Card(children=[CardHeader([H4('subsistence and sale')]), CardBody([H5(children=28238.0, className='text-center')])], class_name='border-primary'), Card(children=[CardHeader([H4('Households not fishing')]), CardBody([H5(children=35818.0, className='text-center')])], class_name='border-primary')]), title='Households involvement in fishing')]), Row([AccordionItem(children=Row([Card(children=[CardHeader([H4('None')]), CardBody([H5(children=68372.0, className='text-center')])], class_name='border-primary'), Card(children=[CardHeader([H4('unknown or not applicable')]), CardBody([H5(children=3554.0, className='text-center')])], class_name='border-primary'), Card(children=[CardHeader([H4('1 - 499 S.I. dollars')]), CardBody([H5(children=11045.0, className='text-center')])], class_name='border-primary'), Card(children=[CardHeader([H4('500 - 999 S.I. dollars')]), CardBody([H5(children=4068.0, className='text-center')])], class_name='border-primary'), Card(children=[CardHeader([H4('1000 - 1499 S.I. dollars')]), CardBody([H5(children=2242.0, className='text-center')])], class_name='border-primary'), Card(children=[CardHeader([H4('more than 1500 S.I. dollars')]), CardBody([H5(children=1970.0, className='text-center')])], class_name='border-primary')]), title='Household money received from remittances')]), Row([AccordionItem(children=Row([Card(children=[CardHeader([H4('No income')]), CardBody([H5(children=3033.0, className='text-center')])], class_name='border-primary'), Card(children=[CardHeader([H4('Wages Salary')]), CardBody([H5(children=21866.0, className='text-center')])], class_name='border-primary'), Card(children=[CardHeader([H4('Own business')]), CardBody([H5(children=5113.0, className='text-center')])], class_name='border-primary'), Card(children=[CardHeader([H4('Sale fish crop craft')]), CardBody([H5(children=40591.0, className='text-center')])], class_name='border-primary'), Card(children=[CardHeader([H4('Land lease')]), CardBody([H5(children=133.0, className='text-center')])], class_name='border-primary'), Card(children=[CardHeader([H4('House rent')]), CardBody([H5(children=577.0, className='text-center')])], class_name='border-primary'), Card(children=[CardHeader([H4('Remittances')]), CardBody([H5(children=1984.0, className='text-center')])], class_name='border-primary'), Card(children=[CardHeader([H4('Other source')]), CardBody([H5(children=17954.0, className='text-center')])], class_name='border-primary')]), title='Main source of household income in last 12 months')])])"
      ]
     },
     "execution_count": null,
     "metadata": {},
     "output_type": "execute_result"
    }
   ],
   "source": [
    "# Build and test a card\n",
    "card_list(sol_geo, \"Header!!\")"
   ]
  },
  {
   "cell_type": "markdown",
   "metadata": {},
   "source": [
    "## Create Location Dropdown"
   ]
  },
  {
   "cell_type": "code",
   "execution_count": null,
   "metadata": {},
   "outputs": [],
   "source": [
    "#| export\n",
    "def gen_dd(location_list:[str], # a list of locations\n",
    "           id:str, # Id of the dropdown\n",
    "           place_holder:str = None, # a placeholder message to display\n",
    "           val:str = None, # The starting value of the dropdown\n",
    "           clear:bool = False, # pick whether the \n",
    "                        )->dcc.Dropdown: # Returns a dropdown\n",
    "    '''\n",
    "    Create the location dropdown from given list\n",
    "    '''\n",
    "    dd = dcc.Dropdown(options=location_list,\n",
    "                        value=val,  # initial value displayed when page first loads\n",
    "                        searchable=True,\n",
    "                        clearable=clear,\n",
    "                        placeholder=place_holder, \n",
    "                        id = id)\n",
    "    return dd"
   ]
  },
  {
   "cell_type": "code",
   "execution_count": null,
   "metadata": {},
   "outputs": [
    {
     "data": {
      "text/markdown": [
       "---\n",
       "\n",
       "[source](https://github.com/Gippers/SolomonIslandsDataMap/blob/main/SolomonIslandsDataMap/dash_components.py#L141){target=\"_blank\" style=\"float:right; font-size:smaller\"}\n",
       "\n",
       "### gen_dd\n",
       "\n",
       ">      gen_dd (location_list:[<class'str'>], id:str, place_holder:str=None,\n",
       ">              val:str=None, clear:bool=False)\n",
       "\n",
       "Create the location dropdown from given list\n",
       "\n",
       "|    | **Type** | **Default** | **Details** |\n",
       "| -- | -------- | ----------- | ----------- |\n",
       "| location_list | [<class 'str'>] |  | a list of locations |\n",
       "| id | str |  | Id of the dropdown |\n",
       "| place_holder | str | None | a placeholder message to display |\n",
       "| val | str | None | The starting value of the dropdown |\n",
       "| clear | bool | False | pick whether the |\n",
       "| **Returns** | **Dropdown** |  | **Returns a dropdown** |"
      ],
      "text/plain": [
       "---\n",
       "\n",
       "[source](https://github.com/Gippers/SolomonIslandsDataMap/blob/main/SolomonIslandsDataMap/dash_components.py#L141){target=\"_blank\" style=\"float:right; font-size:smaller\"}\n",
       "\n",
       "### gen_dd\n",
       "\n",
       ">      gen_dd (location_list:[<class'str'>], id:str, place_holder:str=None,\n",
       ">              val:str=None, clear:bool=False)\n",
       "\n",
       "Create the location dropdown from given list\n",
       "\n",
       "|    | **Type** | **Default** | **Details** |\n",
       "| -- | -------- | ----------- | ----------- |\n",
       "| location_list | [<class 'str'>] |  | a list of locations |\n",
       "| id | str |  | Id of the dropdown |\n",
       "| place_holder | str | None | a placeholder message to display |\n",
       "| val | str | None | The starting value of the dropdown |\n",
       "| clear | bool | False | pick whether the |\n",
       "| **Returns** | **Dropdown** |  | **Returns a dropdown** |"
      ]
     },
     "execution_count": null,
     "metadata": {},
     "output_type": "execute_result"
    }
   ],
   "source": [
    "show_doc(gen_dd)"
   ]
  },
  {
   "cell_type": "markdown",
   "metadata": {},
   "source": [
    "## Testing"
   ]
  },
  {
   "cell_type": "code",
   "execution_count": null,
   "metadata": {},
   "outputs": [],
   "source": [
    "# TODO implementing testing, everything should at least be run here and execute and be displayed"
   ]
  },
  {
   "cell_type": "code",
   "execution_count": null,
   "metadata": {},
   "outputs": [],
   "source": [
    "#| hide\n",
    "import nbdev; nbdev.nbdev_export()"
   ]
  }
 ],
 "metadata": {
  "kernelspec": {
   "display_name": "python3",
   "language": "python",
   "name": "python3"
  }
 },
 "nbformat": 4,
 "nbformat_minor": 4
}
