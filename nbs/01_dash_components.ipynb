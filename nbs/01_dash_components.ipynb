{
 "cells": [
  {
   "cell_type": "markdown",
   "metadata": {},
   "source": [
    "# Generate Map\n",
    "\n",
    "> Class that generates the data map"
   ]
  },
  {
   "cell_type": "code",
   "execution_count": null,
   "metadata": {},
   "outputs": [],
   "source": [
    "#| default_exp dash_components"
   ]
  },
  {
   "cell_type": "code",
   "execution_count": null,
   "metadata": {},
   "outputs": [],
   "source": [
    "#| export\n",
    "from nbdev.showdoc import *\n",
    "# TODO work out how to get around below hack\n",
    "try:\n",
    "    from SolomonIslandsDataMap.load_data import *\n",
    "except: \n",
    "    from load_data import *\n",
    "import plotly.express as px\n",
    "import plotly.graph_objects as go\n",
    "import plotly.io as pio # Unless this is used graphs will not be dynamic?\n",
    "import json\n",
    "from git import Repo\n",
    "import pandas as pd\n",
    "import numpy as np\n",
    "from fastcore.test import *\n",
    "from dash import Dash, dcc, Output, Input, html, Patch, ctx  # pip install dash\n",
    "import dash_bootstrap_components as dbc    # pip install dash-bootstrap-components\n",
    "from dash_bootstrap_templates import load_figure_template\n",
    "import random\n",
    "import dash_mantine_components as dmc"
   ]
  },
  {
   "cell_type": "code",
   "execution_count": null,
   "metadata": {},
   "outputs": [],
   "source": [
    "# TODO - do a need a state class that tracks the state of different website objects to help with\n",
    "# updating etc. \n",
    "# TODO - not even state, should it be an object that contains everythin to track. Execpt if I am patching,\n",
    "# then the tracking in mem is unessary, so better to just track necesary values like: last changes card etc. "
   ]
  },
  {
   "cell_type": "markdown",
   "metadata": {},
   "source": [
    "## Load Data"
   ]
  },
  {
   "cell_type": "code",
   "execution_count": null,
   "metadata": {},
   "outputs": [],
   "source": [
    "\n",
    "sol_geo = SolomonGeo.load_pickle(\"/testData/\")\n",
    "geo_df = sol_geo.geo_df"
   ]
  },
  {
   "cell_type": "code",
   "execution_count": null,
   "metadata": {},
   "outputs": [],
   "source": [
    "#| export\n",
    "# TODO I should build figures and maps in another script\n",
    "def define_map(sol_df:SolomonGeo # Solomon geo object containing census data to input into map\n",
    "                )->type(go.Figure()): # Returns a graph object figure\n",
    "    '''\n",
    "    Creates and returns the base cloreopath map\n",
    "    '''\n",
    "    # TODO - should I update this into a class with methods for updating\n",
    "    # the other things? Acutally maybe as another function if the update is done through patch\n",
    "    \n",
    "    # cols_dd dictates the aggregation that will be visable\n",
    "    cols_dd = sol_df.geo_levels\n",
    "    # we need to add this to select which trace \n",
    "    # is going to be visible\n",
    "    visible = np.array(cols_dd)\n",
    "    # define traces and buttons at once\n",
    "    traces = []\n",
    "    buttons = []\n",
    "    # TODO if fails remember I changed visible from cols_dd\n",
    "    for value in cols_dd:\n",
    "        traces.append(go.Choroplethmapbox(\n",
    "                                geojson=sol_df.get_geojson(agg_filter = value),\n",
    "                               locations=sol_df.get_df(agg_filter = value).index,\n",
    "                               z = sol_df.get_df(agg_filter = value)['total_pop'],\n",
    "                               colorscale=\"deep\",\n",
    "                                marker_line_width = 0.5,\n",
    "                                zauto=True,\n",
    "                visible= True if value==cols_dd[0] else False))\n",
    "        \n",
    "    # Show figure\n",
    "    fig = go.Figure(data=traces)\n",
    "    # This is in order to get the first title displayed correctly\n",
    "    first_title = cols_dd[0]\n",
    "    fig.update_layout(title=f\"<b>{first_title}</b>\",\n",
    "                        title_x=0.5,\n",
    "                        mapbox_style = 'carto-positron',\n",
    "                        mapbox_zoom = 5,\n",
    "                        mapbox_center={\"lat\": -9.565766, \"lon\": 162.012453},\n",
    "                        margin={\"r\":0,\"t\":0,\"l\":0,\"b\":0},\n",
    "                        clickmode = 'event+select',\n",
    "    )\n",
    "    \n",
    "    return fig\n"
   ]
  },
  {
   "cell_type": "code",
   "execution_count": null,
   "metadata": {},
   "outputs": [
    {
     "data": {
      "text/markdown": [
       "---\n",
       "\n",
       "[source](https://github.com/Gippers/SolomonIslandsDataMap/blob/main/SolomonIslandsDataMap/dash_components.py#L29){target=\"_blank\" style=\"float:right; font-size:smaller\"}\n",
       "\n",
       "### define_map\n",
       "\n",
       ">      define_map (sol_df:SolomonIslandsDataMap.load_data.SolomonGeo)\n",
       "\n",
       "Creates and returns the base cloreopath map\n",
       "\n",
       "|    | **Type** | **Details** |\n",
       "| -- | -------- | ----------- |\n",
       "| sol_df | SolomonGeo | Solomon geo object containing census data to input into map |\n",
       "| **Returns** | **Figure** | **Returns a graph object figure** |"
      ],
      "text/plain": [
       "---\n",
       "\n",
       "[source](https://github.com/Gippers/SolomonIslandsDataMap/blob/main/SolomonIslandsDataMap/dash_components.py#L29){target=\"_blank\" style=\"float:right; font-size:smaller\"}\n",
       "\n",
       "### define_map\n",
       "\n",
       ">      define_map (sol_df:SolomonIslandsDataMap.load_data.SolomonGeo)\n",
       "\n",
       "Creates and returns the base cloreopath map\n",
       "\n",
       "|    | **Type** | **Details** |\n",
       "| -- | -------- | ----------- |\n",
       "| sol_df | SolomonGeo | Solomon geo object containing census data to input into map |\n",
       "| **Returns** | **Figure** | **Returns a graph object figure** |"
      ]
     },
     "execution_count": null,
     "metadata": {},
     "output_type": "execute_result"
    }
   ],
   "source": [
    "#| hide\n",
    "show_doc(define_map)"
   ]
  },
  {
   "cell_type": "code",
   "execution_count": null,
   "metadata": {},
   "outputs": [],
   "source": [
    "fig = define_map(sol_geo)"
   ]
  },
  {
   "cell_type": "code",
   "execution_count": null,
   "metadata": {},
   "outputs": [
    {
     "data": {
      "text/plain": [
       "True"
      ]
     },
     "execution_count": null,
     "metadata": {},
     "output_type": "execute_result"
    }
   ],
   "source": [
    "fig['data'][0]['visible']"
   ]
  },
  {
   "cell_type": "markdown",
   "metadata": {},
   "source": [
    "Create card group"
   ]
  },
  {
   "cell_type": "code",
   "execution_count": null,
   "metadata": {},
   "outputs": [],
   "source": [
    "#| export\n",
    "# todo - turn this eventually into a function\n",
    "\n",
    "# TODO - make it in future so that clicking on a card updates the current census variable\n",
    "# selection and it highlights it as clicked.\n",
    "# TODO - workout how to make this into a collection of cards, potentially cardgroup\n",
    "# TODO - need to rename this\n",
    "\n",
    "def card_list(sg:SolomonGeo, # Input data object\n",
    "                header:str, # Header of Accordian\n",
    "                agg:str, #Desired aggregation of data in card\n",
    "                var:str, # Desired variable to display in card\n",
    "                loc:str = None, # Desired location within aggregation\n",
    "                    )->[dbc.AccordionItem]: # Returns an accordian with selected data\n",
    "    '''\n",
    "    Create a list of cards to put in a cardgroup\n",
    "    '''\n",
    "    cards = []\n",
    "    for var in sg.census_vars:\n",
    "        cards.append(dbc.Col([\n",
    "            dbc.Card(\n",
    "            children = [\n",
    "                dbc.CardHeader(\n",
    "                    [html.H4(var)]\n",
    "\n",
    "                ),\n",
    "                dbc.CardBody(\n",
    "                    [\n",
    "                    html.H5(sg.get_df(agg_filter = agg, \n",
    "                                        var_filter = var, \n",
    "                                        loc_filter = loc).sum(), \n",
    "                            className = \"text-center\")\n",
    "                    ] # TODO - in future will need to do weighted sum for some: might need an aggregate feature in class that \n",
    "                        # aggregates correctly based on the variable (i.e. sum or weighted sum), maybe work out in get_df function\n",
    "                )]\n",
    "            , class_name =\"border-primary\" #m-2 mb-3\n",
    "            \n",
    "            )])\n",
    "        )\n",
    "\n",
    "    return [dbc.AccordionItem(\n",
    "                 dbc.Row(cards),\n",
    "                title=header,\n",
    "            )]"
   ]
  },
  {
   "cell_type": "code",
   "execution_count": null,
   "metadata": {},
   "outputs": [
    {
     "data": {
      "text/markdown": [
       "---\n",
       "\n",
       "[source](https://github.com/Gippers/SolomonIslandsDataMap/blob/main/SolomonIslandsDataMap/dash_components.py#L78){target=\"_blank\" style=\"float:right; font-size:smaller\"}\n",
       "\n",
       "### card_list\n",
       "\n",
       ">      card_list (sg:SolomonIslandsDataMap.load_data.SolomonGeo, header:str,\n",
       ">                 agg:str, var:str, loc:str=None)\n",
       "\n",
       "Create a list of cards to put in a cardgroup\n",
       "\n",
       "|    | **Type** | **Default** | **Details** |\n",
       "| -- | -------- | ----------- | ----------- |\n",
       "| sg | SolomonGeo |  | Input data object |\n",
       "| header | str |  | Header of Accordian |\n",
       "| agg | str |  | Desired aggregation of data in card |\n",
       "| var | str |  | Desired variable to display in card |\n",
       "| loc | str | None | Desired location within aggregation |\n",
       "| **Returns** | **[<class 'dash_bootstrap_components._components.AccordionItem.AccordionItem'>]** |  | **Returns an accordian with selected data** |"
      ],
      "text/plain": [
       "---\n",
       "\n",
       "[source](https://github.com/Gippers/SolomonIslandsDataMap/blob/main/SolomonIslandsDataMap/dash_components.py#L78){target=\"_blank\" style=\"float:right; font-size:smaller\"}\n",
       "\n",
       "### card_list\n",
       "\n",
       ">      card_list (sg:SolomonIslandsDataMap.load_data.SolomonGeo, header:str,\n",
       ">                 agg:str, var:str, loc:str=None)\n",
       "\n",
       "Create a list of cards to put in a cardgroup\n",
       "\n",
       "|    | **Type** | **Default** | **Details** |\n",
       "| -- | -------- | ----------- | ----------- |\n",
       "| sg | SolomonGeo |  | Input data object |\n",
       "| header | str |  | Header of Accordian |\n",
       "| agg | str |  | Desired aggregation of data in card |\n",
       "| var | str |  | Desired variable to display in card |\n",
       "| loc | str | None | Desired location within aggregation |\n",
       "| **Returns** | **[<class 'dash_bootstrap_components._components.AccordionItem.AccordionItem'>]** |  | **Returns an accordian with selected data** |"
      ]
     },
     "execution_count": null,
     "metadata": {},
     "output_type": "execute_result"
    }
   ],
   "source": [
    "#| hide\n",
    "show_doc(card_list)"
   ]
  },
  {
   "cell_type": "markdown",
   "metadata": {},
   "source": [
    "## Testing"
   ]
  },
  {
   "cell_type": "code",
   "execution_count": null,
   "metadata": {},
   "outputs": [],
   "source": [
    "#| hide\n",
    "import nbdev; nbdev.nbdev_export()"
   ]
  }
 ],
 "metadata": {
  "kernelspec": {
   "display_name": "python3",
   "language": "python",
   "name": "python3"
  }
 },
 "nbformat": 4,
 "nbformat_minor": 4
}
