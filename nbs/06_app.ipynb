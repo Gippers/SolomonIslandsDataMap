{
 "cells": [
  {
   "cell_type": "markdown",
   "metadata": {},
   "source": [
    "# Generate Map\n",
    "\n",
    "> Class that generates the data map"
   ]
  },
  {
   "cell_type": "code",
   "execution_count": null,
   "metadata": {},
   "outputs": [],
   "source": [
    "#| default_exp app"
   ]
  },
  {
   "cell_type": "code",
   "execution_count": null,
   "metadata": {},
   "outputs": [],
   "source": [
    "#| export\n",
    "from nbdev.showdoc import *\n",
    "try:\n",
    "    from SolomonIslandsDataMap.app_data import stored_data, dd_dataset, sidebar\n",
    "except: \n",
    "    from app_data import stored_data, dd_dataset, sidebar\n",
    "\n",
    "import plotly.express as px\n",
    "import plotly.graph_objects as go\n",
    "import plotly.io as pio # Unless this is used graphs will not be dynamic?\n",
    "import numpy as np\n",
    "from fastcore.test import *\n",
    "from dash import page_container, Dash, dcc, Output, Input, State, html, Patch, page_registry, ctx  # pip install dash\n",
    "import dash_bootstrap_components as dbc    # pip install dash-bootstrap-components\n",
    "from dash_bootstrap_templates import load_figure_template\n",
    "from git import Repo\n",
    "import json\n"
   ]
  },
  {
   "cell_type": "markdown",
   "metadata": {},
   "source": [
    "## Setup App and Server"
   ]
  },
  {
   "cell_type": "markdown",
   "metadata": {},
   "source": [
    "Setup the app and global variables"
   ]
  },
  {
   "cell_type": "code",
   "execution_count": null,
   "metadata": {},
   "outputs": [],
   "source": [
    "#| export\n",
    "\n",
    "# Find the absoulte path to the pages folder\n",
    "repo = Repo('.', search_parent_directories=True)\n",
    "fp = str(repo.working_tree_dir) + \"/SolomonIslandsDataMap/pages/\"\n",
    "\n",
    "try:\n",
    "    app = Dash(__name__, external_stylesheets=[dbc.themes.MINTY], use_pages=True, pages_folder = fp)\n",
    "except:\n",
    "    # When running in a notebook, the below trick should get the notebook to still execute\n",
    "    import __main__ as main\n",
    "    main.__file__ = \"main_file\"\n",
    "    app = Dash(__name__, external_stylesheets=[dbc.themes.MINTY], use_pages=True, pages_folder = fp)\n",
    "server = app.server\n",
    "load_figure_template(\"minty\")"
   ]
  },
  {
   "cell_type": "code",
   "execution_count": null,
   "metadata": {},
   "outputs": [
    {
     "name": "stdout",
     "output_type": "stream",
     "text": [
      "/home/tom/git/SolomonIslandsDataMap/SolomonIslandsDataMap/pages/\n"
     ]
    }
   ],
   "source": [
    "print(fp)"
   ]
  },
  {
   "cell_type": "markdown",
   "metadata": {},
   "source": [
    "Create a navbar"
   ]
  },
  {
   "cell_type": "code",
   "execution_count": null,
   "metadata": {},
   "outputs": [],
   "source": [
    "#| export\n",
    "pages = {}\n",
    "for page in page_registry.values():\n",
    "    pages[page[\"title\"]] = page[\"relative_path\"]\n",
    "    \n",
    "navbar = dbc.NavbarSimple(\n",
    "    children=[\n",
    "        # TODO make this a dbc tab with calbback to make it active\n",
    "        dbc.NavItem(dbc.NavLink('Census Map', href=pages['Census Map'], active=True)),\n",
    "        dbc.NavItem(dbc.NavLink('Population Projections', href=pages['Population Projections'])),\n",
    "        dbc.NavItem(dbc.NavLink('Data Table', href=pages['Data Table'])),\n",
    "        dbc.DropdownMenu(\n",
    "            children=[\n",
    "                #dbc.DropdownMenuItem(\"More pages coming soon\", header=True),\n",
    "                \n",
    "                dbc.DropdownMenuItem('Census Map', href=pages['Census Map']),\n",
    "                dbc.DropdownMenuItem('Population Projections', href=pages['Population Projections']),\n",
    "                dbc.DropdownMenuItem('Data Table', href=pages['Data Table']),\n",
    "            ],\n",
    "            nav=True,\n",
    "            in_navbar=True,\n",
    "            label=\"Select Page\",\n",
    "        ),\n",
    "    ],\n",
    "    brand=\"Solomon Islands Data Explorer\",\n",
    "    brand_href=\"#\",\n",
    "    color=\"primary\",\n",
    "    #dark=True,\n",
    "    class_name=\"navbar navbar-expand-lg bg-primary\"\n",
    ")\n"
   ]
  },
  {
   "cell_type": "markdown",
   "metadata": {},
   "source": [
    "Import the sidebar"
   ]
  },
  {
   "cell_type": "markdown",
   "metadata": {},
   "source": [
    "## Create the Layout"
   ]
  },
  {
   "cell_type": "code",
   "execution_count": null,
   "metadata": {},
   "outputs": [],
   "source": [
    "#| export\n",
    "app.layout = dbc.Container([\n",
    "                dbc.Row([\n",
    "                    navbar\n",
    "                ]),\n",
    "                dbc.Row(\n",
    "                [dbc.Col(sidebar, width = 2),\n",
    "                dbc.Col([\n",
    "                    page_container, ], width = 10),\n",
    "                ], justify = 'center'),\n",
    "                stored_data,                                                      \n",
    "                ], fluid = True)"
   ]
  },
  {
   "cell_type": "markdown",
   "metadata": {},
   "source": [
    "## Run the dash app"
   ]
  },
  {
   "cell_type": "code",
   "execution_count": null,
   "metadata": {},
   "outputs": [
    {
     "data": {
      "text/html": [
       "\n",
       "        <iframe\n",
       "            width=\"100%\"\n",
       "            height=\"650\"\n",
       "            src=\"http://127.0.0.1:9999/\"\n",
       "            frameborder=\"0\"\n",
       "            allowfullscreen\n",
       "            \n",
       "        ></iframe>\n",
       "        "
      ],
      "text/plain": [
       "<IPython.lib.display.IFrame>"
      ]
     },
     "metadata": {},
     "output_type": "display_data"
    }
   ],
   "source": [
    "#| export\n",
    "#| server\n",
    "# Run app\n",
    "if __name__=='__main__':\n",
    "    try:\n",
    "        app.run_server(debug=True, port=9999) # Random int mitigates port collision\n",
    "    except:\n",
    "        print(\"Cannot run server here\")"
   ]
  },
  {
   "cell_type": "code",
   "execution_count": null,
   "metadata": {},
   "outputs": [
    {
     "name": "stdout",
     "output_type": "stream",
     "text": [
      "Changing map selections\n",
      "Does this bit fail\n",
      "catch this here\n",
      "first run, updating map\n",
      "segmented_geo\n",
      "Province\n",
      "Total\n",
      "Total Households\n",
      "Province\n",
      "True\n",
      "Constituency\n",
      "False\n",
      "Ward\n",
      "False\n",
      "Province\n",
      "[ True False False]\n",
      "[]\n",
      "None\n",
      "input\n",
      "[]\n",
      "Going in to function\n",
      "[]\n",
      "map clicked updating to:\n",
      "Click data was none\n",
      "func bc\n",
      "Click data was none\n",
      "Changing map selections\n",
      "Province\n",
      "[ True False False]\n",
      "[]\n",
      "None\n",
      "input\n",
      "[]\n",
      "Going in to function\n",
      "[]\n",
      "Does this bit failChanging map selections\n",
      "\n",
      "catch this here\n",
      "Changing map selections\n",
      "first run, updating map\n",
      "measureDropdown\n",
      "Province\n",
      "Total\n",
      "Total Households\n",
      "input\n",
      "[]\n",
      "Going in to function\n",
      "[]\n",
      "Province\n",
      "[ True False False]\n",
      "[]\n",
      "None\n",
      "Province\n",
      "[ True False False]\n",
      "[]\n",
      "None\n",
      "input\n",
      "[]\n",
      "Going in to function\n",
      "[]\n",
      "map clicked updating to:\n",
      "Click data was none\n",
      "Changing map selections\n",
      "Does this bit fail\n",
      "catch this here\n",
      "Changing map selections\n",
      "\u001b[1;31m---------------------------------------------------------------------------\u001b[0m\n",
      "\u001b[1;31mTypeError\u001b[0m                                 Traceback (most recent call last)\n",
      "File \u001b[1;32m~/git/SolomonIslandsDataMap/SolomonIslandsDataMap/load_data.py:201\u001b[0m, in \u001b[0;36mSolomonGeo.gen_stored\u001b[1;34m(\n",
      "    cls=<class 'SolomonIslandsDataMap.load_data.SolomonGeo'>,\n",
      "    json_sol='pop'\n",
      ")\u001b[0m\n",
      "\u001b[0;32m    198\u001b[0m     df\u001b[38;5;241m.\u001b[39mcolumns\u001b[38;5;241m.\u001b[39mnames \u001b[38;5;241m=\u001b[39m [\u001b[38;5;28;01mNone\u001b[39;00m]\u001b[38;5;241m*\u001b[39m\u001b[38;5;241m2\u001b[39m\n",
      "\u001b[0;32m    199\u001b[0m     \u001b[38;5;28;01mreturn\u001b[39;00m df\n",
      "\u001b[1;32m--> 201\u001b[0m json_sol \u001b[38;5;241m=\u001b[39m \u001b[43mjson_sol\u001b[49m\u001b[43m[\u001b[49m\u001b[38;5;124;43m\"\u001b[39;49m\u001b[38;5;124;43mdata\u001b[39;49m\u001b[38;5;124;43m\"\u001b[39;49m\u001b[43m]\u001b[49m\n",
      "        json_sol \u001b[1;34m= 'pop'\u001b[0m\n",
      "\u001b[0;32m    203\u001b[0m census \u001b[38;5;241m=\u001b[39m pd\u001b[38;5;241m.\u001b[39mDataFrame(json_sol[\u001b[38;5;124m'\u001b[39m\u001b[38;5;124mcensus\u001b[39m\u001b[38;5;124m'\u001b[39m])\n",
      "\u001b[0;32m    204\u001b[0m census \u001b[38;5;241m=\u001b[39m df_to_hier(census)\n",
      "\n",
      "\u001b[1;31mTypeError\u001b[0m: string indices must be integers\n",
      "\n",
      "Province\n",
      "[ True False False]\n",
      "[]\n",
      "None\n",
      "type: Total\n",
      "Province\n",
      "[ True False False]\n",
      "[]\n",
      "None\n",
      "type: Total\n"
     ]
    }
   ],
   "source": [
    "#| hide\n",
    "import nbdev; nbdev.nbdev_export()"
   ]
  }
 ],
 "metadata": {
  "kernelspec": {
   "display_name": "python3",
   "language": "python",
   "name": "python3"
  }
 },
 "nbformat": 4,
 "nbformat_minor": 4
}
