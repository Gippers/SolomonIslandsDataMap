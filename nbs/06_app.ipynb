{
 "cells": [
  {
   "cell_type": "markdown",
   "metadata": {},
   "source": [
    "# Generate Map\n",
    "\n",
    "> Class that generates the data map"
   ]
  },
  {
   "cell_type": "code",
   "execution_count": null,
   "metadata": {},
   "outputs": [],
   "source": [
    "#| default_exp app"
   ]
  },
  {
   "cell_type": "code",
   "execution_count": null,
   "metadata": {},
   "outputs": [],
   "source": [
    "#| export\n",
    "from nbdev.showdoc import *\n",
    "try:\n",
    "    from SolomonIslandsDataMap.app_data import stored_data\n",
    "except: \n",
    "    from app_data import stored_data\n",
    "\n",
    "import plotly.express as px\n",
    "import plotly.graph_objects as go\n",
    "import plotly.io as pio # Unless this is used graphs will not be dynamic?\n",
    "import numpy as np\n",
    "from fastcore.test import *\n",
    "from dash import page_container, Dash, dcc, Output, Input, State, html, Patch, page_registry, ctx  # pip install dash\n",
    "import dash_bootstrap_components as dbc    # pip install dash-bootstrap-components\n",
    "from dash_bootstrap_templates import load_figure_template\n",
    "from git import Repo\n",
    "import json\n"
   ]
  },
  {
   "cell_type": "markdown",
   "metadata": {},
   "source": [
    "## Setup App and Server"
   ]
  },
  {
   "cell_type": "markdown",
   "metadata": {},
   "source": [
    "Setup the app and global variables"
   ]
  },
  {
   "cell_type": "code",
   "execution_count": null,
   "metadata": {},
   "outputs": [],
   "source": [
    "#| export\n",
    "\n",
    "# Find the absoulte path to the pages folder\n",
    "repo = Repo('.', search_parent_directories=True)\n",
    "fp = str(repo.working_tree_dir) + \"/SolomonIslandsDataMap/pages/\"\n",
    "\n",
    "try:\n",
    "    app = Dash(__name__, external_stylesheets=[dbc.themes.MINTY], use_pages=True, pages_folder = fp)\n",
    "except:\n",
    "    # When running in a notebook, the below trick should get the notebook to still execute\n",
    "    import __main__ as main\n",
    "    main.__file__ = \"main_file\"\n",
    "    app = Dash(__name__, external_stylesheets=[dbc.themes.MINTY], use_pages=True, pages_folder = fp)\n",
    "server = app.server\n",
    "load_figure_template(\"minty\")"
   ]
  },
  {
   "cell_type": "code",
   "execution_count": null,
   "metadata": {},
   "outputs": [
    {
     "name": "stdout",
     "output_type": "stream",
     "text": [
      "/home/tom/git/SolomonIslandsDataMap/SolomonIslandsDataMap/pages/\n"
     ]
    }
   ],
   "source": [
    "print(fp)"
   ]
  },
  {
   "cell_type": "markdown",
   "metadata": {},
   "source": [
    "Create a navbar"
   ]
  },
  {
   "cell_type": "code",
   "execution_count": null,
   "metadata": {},
   "outputs": [],
   "source": [
    "#| export\n",
    "pages = {}\n",
    "for page in page_registry.values():\n",
    "    pages[page[\"title\"]] = page[\"relative_path\"]\n",
    "    \n",
    "navbar = dbc.NavbarSimple(\n",
    "    children=[\n",
    "        # TODO make this a dbc tab with calbback to make it active\n",
    "        dbc.NavItem(dbc.NavLink('Census Map', href=pages['Census Map'], active=True)),\n",
    "        dbc.NavItem(dbc.NavLink('Population Projections', href=pages['Population Projections'])),\n",
    "        dbc.NavItem(dbc.NavLink('Data Table', href=pages['Data Table'])),\n",
    "        dbc.DropdownMenu(\n",
    "            children=[\n",
    "                #dbc.DropdownMenuItem(\"More pages coming soon\", header=True),\n",
    "                \n",
    "                dbc.DropdownMenuItem('Census Map', href=pages['Census Map']),\n",
    "                dbc.DropdownMenuItem('Population Projections', href=pages['Population Projections']),\n",
    "                dbc.DropdownMenuItem('Data Table', href=pages['Data Table']),\n",
    "            ],\n",
    "            nav=True,\n",
    "            in_navbar=True,\n",
    "            label=\"Select Page\",\n",
    "        ),\n",
    "    ],\n",
    "    brand=\"Solomon Islands Data Explorer\",\n",
    "    brand_href=\"#\",\n",
    "    color=\"primary\",\n",
    "    #dark=True,\n",
    "    class_name=\"navbar navbar-expand-lg bg-primary\"\n",
    ")\n"
   ]
  },
  {
   "cell_type": "markdown",
   "metadata": {},
   "source": [
    "Import the sidebar"
   ]
  },
  {
   "cell_type": "markdown",
   "metadata": {},
   "source": [
    "## Create the Layout"
   ]
  },
  {
   "cell_type": "code",
   "execution_count": null,
   "metadata": {},
   "outputs": [],
   "source": [
    "#| export\n",
    "app.layout = dbc.Container([\n",
    "                dbc.Row([\n",
    "                    navbar\n",
    "                ]),\n",
    "                page_container, \n",
    "                stored_data, \n",
    "                dcc.Store('stored_values', storage_type=\"session\", \n",
    "                          data = json.dumps({'type': 'Total',\n",
    "                                    'geo': 'Province',\n",
    "                                    'location': [],\n",
    "                                    'variable': 'Key Statistics',\n",
    "                                    'measure': 'Total Households',\n",
    "                                    'var-pop': 'Population',\n",
    "                                    'measure-pop': 'Total',\n",
    "                                    'age': '0-4',\n",
    "                                    'pop_year': 2024,\n",
    "                                    }))                 \n",
    "                ], fluid = True)"
   ]
  },
  {
   "cell_type": "markdown",
   "metadata": {},
   "source": [
    "## Run the dash app"
   ]
  },
  {
   "cell_type": "code",
   "execution_count": null,
   "metadata": {},
   "outputs": [
    {
     "data": {
      "text/html": [
       "\n",
       "        <iframe\n",
       "            width=\"100%\"\n",
       "            height=\"650\"\n",
       "            src=\"http://127.0.0.1:9999/\"\n",
       "            frameborder=\"0\"\n",
       "            allowfullscreen\n",
       "            \n",
       "        ></iframe>\n",
       "        "
      ],
      "text/plain": [
       "<IPython.lib.display.IFrame>"
      ]
     },
     "metadata": {},
     "output_type": "display_data"
    }
   ],
   "source": [
    "#| export\n",
    "#| server\n",
    "# Run app\n",
    "if __name__=='__main__':\n",
    "    try:\n",
    "        app.run_server(debug=True, port=9999) # Random int mitigates port collision\n",
    "    except:\n",
    "        print(\"Cannot run server here\")"
   ]
  },
  {
   "cell_type": "code",
   "execution_count": null,
   "metadata": {},
   "outputs": [
    {
     "name": "stdout",
     "output_type": "stream",
     "text": [
      "****triggered load: \n",
      "{\"type\": \"Total\", \"geo\": \"Province\", \"location\": [], \"variable\": \"Key Statistics\", \"measure\": \"Total Households\", \"var-pop\": \"Population\", \"measure-pop\": \"Males\", \"age\": \"0-4\"}\n",
      "****triggered save: \n",
      "{'type': 'Total', 'geo': 'Province', 'location': [], 'variable': 'Key Statistics', 'measure': 'Total Households', 'var-pop': 'Population', 'measure-pop': 'Males', 'age': '0-4'}\n",
      "Does this bit fail\n",
      "catch this here\n",
      "first run, updating map\n",
      "segmented_geo\n",
      "Province\n",
      "Total\n",
      "Total Households\n",
      "Province\n",
      "True\n",
      "Constituency\n",
      "False\n",
      "Ward\n",
      "False\n",
      "func um\n",
      "input\n",
      "[]\n",
      "Going in to function\n",
      "[]\n",
      "[]\n",
      "None\n",
      "****triggered save: \n",
      "{'type': 'Total', 'geo': 'Province', 'location': [], 'variable': 'Key Statistics', 'measure': 'Total Households', 'var-pop': 'Population', 'measure-pop': 'Males', 'age': '0-4'}\n",
      "first run, updating map\n",
      "measureDropdown\n",
      "Province\n",
      "Total\n",
      "Total Households\n",
      "[]\n",
      "None\n",
      "input\n",
      "[]\n",
      "Going in to function\n",
      "[]\n",
      "****triggered load: \n",
      "{\"type\": \"Total\", \"geo\": \"Province\", \"location\": [], \"variable\": \"Key Statistics\", \"measure\": \"Total Households\", \"var-pop\": \"Population\", \"measure-pop\": \"Males\", \"age\": \"0-4\"}\n",
      "****triggered save: \n",
      "{'type': 'Total', 'geo': 'Province', 'location': [], 'variable': 'Key Statistics', 'measure': 'Total Households', 'var-pop': 'Population', 'measure-pop': 'Males', 'age': '0-4'}\n",
      "func um\n",
      "****triggered save: \n",
      "{'type': 'Total', 'geo': 'Province', 'location': [], 'variable': 'Key Statistics', 'measure': 'Total Households', 'var-pop': 'Population', 'measure-pop': 'Males', 'age': '0-4'}\n",
      "first run, updating map\n",
      "varDropdownPop\n",
      "\n",
      "Males\n",
      "first run, updating map\n",
      "measureDropdownPop\n",
      "\n",
      "Males\n",
      "\u001b[1;31m---------------------------------------------------------------------------\u001b[0m\n",
      "\u001b[1;31mTypeError\u001b[0m                                 Traceback (most recent call last)\n",
      "File \u001b[1;32m~/git/SolomonIslandsDataMap/SolomonIslandsDataMap/load_data.py:473\u001b[0m, in \u001b[0;36mget_pop\u001b[1;34m(\n",
      "    self=<SolomonIslandsDataMap.load_data.SolomonGeo object>,\n",
      "    years='2024',\n",
      "    var='Population',\n",
      "    measure='Males',\n",
      "    loc_filter=None,\n",
      "    type_filter='',\n",
      "    agg=False,\n",
      "    ages=None\n",
      ")\u001b[0m\n",
      "\u001b[0;32m    470\u001b[0m     ret \u001b[38;5;241m=\u001b[39m ret\u001b[38;5;241m.\u001b[39mloc[ret[\u001b[38;5;124m'\u001b[39m\u001b[38;5;124mcore\u001b[39m\u001b[38;5;124m'\u001b[39m][\u001b[38;5;124m'\u001b[39m\u001b[38;5;124magg\u001b[39m\u001b[38;5;124m'\u001b[39m] \u001b[38;5;241m==\u001b[39m geo_filter, :]\n",
      "\u001b[0;32m    472\u001b[0m \u001b[38;5;66;03m# Filter to years\u001b[39;00m\n",
      "\u001b[1;32m--> 473\u001b[0m ret \u001b[38;5;241m=\u001b[39m ret\u001b[38;5;241m.\u001b[39mloc[\u001b[43mret\u001b[49m\u001b[43m[\u001b[49m\u001b[38;5;124;43m'\u001b[39;49m\u001b[38;5;124;43mcore\u001b[39;49m\u001b[38;5;124;43m'\u001b[39;49m\u001b[43m]\u001b[49m\u001b[43m[\u001b[49m\u001b[38;5;124;43m'\u001b[39;49m\u001b[38;5;124;43myear\u001b[39;49m\u001b[38;5;124;43m'\u001b[39;49m\u001b[43m]\u001b[49m\u001b[38;5;241;43m.\u001b[39;49m\u001b[43misin\u001b[49m\u001b[43m(\u001b[49m\u001b[43myears\u001b[49m\u001b[43m)\u001b[49m, :]\n",
      "        ret \u001b[1;34m= Empty DataFrame\n",
      "Columns: [(core, id), (core, agg), (core, type), (core, year), (Age, Age_Bracket), (Age, Numerical_Bracket), (Population, Males), (Population, Females), (Population, Total)]\n",
      "Index: []\u001b[0m\u001b[1;34m\n",
      "        \u001b[0myears \u001b[1;34m= '2024'\u001b[0m\n",
      "\u001b[0;32m    475\u001b[0m \u001b[38;5;28;01mif\u001b[39;00m loc_filter \u001b[38;5;129;01mis\u001b[39;00m \u001b[38;5;129;01mnot\u001b[39;00m \u001b[38;5;28;01mNone\u001b[39;00m:\n",
      "\u001b[0;32m    476\u001b[0m     ret \u001b[38;5;241m=\u001b[39m ret\u001b[38;5;241m.\u001b[39mloc[ret\u001b[38;5;241m.\u001b[39mindex\u001b[38;5;241m.\u001b[39misin(loc_filter), :]\n",
      "\n",
      "File \u001b[1;32m~/miniforge3/lib/python3.10/site-packages/pandas/core/series.py:5346\u001b[0m, in \u001b[0;36mSeries.isin\u001b[1;34m(\n",
      "    self=Series([], Name: year, dtype: int64),\n",
      "    values='2024'\n",
      ")\u001b[0m\n",
      "\u001b[0;32m   5273\u001b[0m \u001b[38;5;28;01mdef\u001b[39;00m \u001b[38;5;21misin\u001b[39m(\u001b[38;5;28mself\u001b[39m, values) \u001b[38;5;241m-\u001b[39m\u001b[38;5;241m>\u001b[39m Series:\n",
      "\u001b[0;32m   5274\u001b[0m \u001b[38;5;250m    \u001b[39m\u001b[38;5;124;03m\"\"\"\u001b[39;00m\n",
      "\u001b[0;32m   5275\u001b[0m \u001b[38;5;124;03m    Whether elements in Series are contained in `values`.\u001b[39;00m\n",
      "\u001b[0;32m   5276\u001b[0m \n",
      "\u001b[1;32m   (...)\u001b[0m\n",
      "\u001b[0;32m   5344\u001b[0m \u001b[38;5;124;03m    dtype: bool\u001b[39;00m\n",
      "\u001b[0;32m   5345\u001b[0m \u001b[38;5;124;03m    \"\"\"\u001b[39;00m\n",
      "\u001b[1;32m-> 5346\u001b[0m     result \u001b[38;5;241m=\u001b[39m \u001b[43malgorithms\u001b[49m\u001b[38;5;241;43m.\u001b[39;49m\u001b[43misin\u001b[49m\u001b[43m(\u001b[49m\u001b[38;5;28;43mself\u001b[39;49m\u001b[38;5;241;43m.\u001b[39;49m\u001b[43m_values\u001b[49m\u001b[43m,\u001b[49m\u001b[43m \u001b[49m\u001b[43mvalues\u001b[49m\u001b[43m)\u001b[49m\n",
      "        values \u001b[1;34m= '2024'\u001b[0m\u001b[1;34m\n",
      "        \u001b[0mself \u001b[1;34m= Series([], Name: year, dtype: int64)\u001b[0m\u001b[1;34m\n",
      "        \u001b[0malgorithms \u001b[1;34m= <module 'pandas.core.algorithms' from '/home/tom/miniforge3/lib/python3.10/site-packages/pandas/core/algorithms.py'>\u001b[0m\n",
      "\u001b[0;32m   5347\u001b[0m     \u001b[38;5;28;01mreturn\u001b[39;00m \u001b[38;5;28mself\u001b[39m\u001b[38;5;241m.\u001b[39m_constructor(result, index\u001b[38;5;241m=\u001b[39m\u001b[38;5;28mself\u001b[39m\u001b[38;5;241m.\u001b[39mindex, copy\u001b[38;5;241m=\u001b[39m\u001b[38;5;28;01mFalse\u001b[39;00m)\u001b[38;5;241m.\u001b[39m__finalize__(\n",
      "\u001b[0;32m   5348\u001b[0m         \u001b[38;5;28mself\u001b[39m, method\u001b[38;5;241m=\u001b[39m\u001b[38;5;124m\"\u001b[39m\u001b[38;5;124misin\u001b[39m\u001b[38;5;124m\"\u001b[39m\n",
      "\u001b[0;32m   5349\u001b[0m     )\n",
      "\n",
      "File \u001b[1;32m~/miniforge3/lib/python3.10/site-packages/pandas/core/algorithms.py:477\u001b[0m, in \u001b[0;36misin\u001b[1;34m(\n",
      "    comps=array([], dtype=int64),\n",
      "    values='2024'\n",
      ")\u001b[0m\n",
      "\u001b[0;32m    472\u001b[0m     \u001b[38;5;28;01mraise\u001b[39;00m \u001b[38;5;167;01mTypeError\u001b[39;00m(\n",
      "\u001b[0;32m    473\u001b[0m         \u001b[38;5;124m\"\u001b[39m\u001b[38;5;124monly list-like objects are allowed to be passed \u001b[39m\u001b[38;5;124m\"\u001b[39m\n",
      "\u001b[0;32m    474\u001b[0m         \u001b[38;5;124mf\u001b[39m\u001b[38;5;124m\"\u001b[39m\u001b[38;5;124mto isin(), you passed a `\u001b[39m\u001b[38;5;132;01m{\u001b[39;00m\u001b[38;5;28mtype\u001b[39m(comps)\u001b[38;5;241m.\u001b[39m\u001b[38;5;18m__name__\u001b[39m\u001b[38;5;132;01m}\u001b[39;00m\u001b[38;5;124m`\u001b[39m\u001b[38;5;124m\"\u001b[39m\n",
      "\u001b[0;32m    475\u001b[0m     )\n",
      "\u001b[0;32m    476\u001b[0m \u001b[38;5;28;01mif\u001b[39;00m \u001b[38;5;129;01mnot\u001b[39;00m is_list_like(values):\n",
      "\u001b[1;32m--> 477\u001b[0m     \u001b[38;5;28;01mraise\u001b[39;00m \u001b[38;5;167;01mTypeError\u001b[39;00m(\n",
      "        values \u001b[1;34m= '2024'\u001b[0m\u001b[1;34m\n",
      "        \u001b[0mtype(values) \u001b[1;34m= <class 'str'>\u001b[0m\n",
      "\u001b[0;32m    478\u001b[0m         \u001b[38;5;124m\"\u001b[39m\u001b[38;5;124monly list-like objects are allowed to be passed \u001b[39m\u001b[38;5;124m\"\u001b[39m\n",
      "\u001b[0;32m    479\u001b[0m         \u001b[38;5;124mf\u001b[39m\u001b[38;5;124m\"\u001b[39m\u001b[38;5;124mto isin(), you passed a `\u001b[39m\u001b[38;5;132;01m{\u001b[39;00m\u001b[38;5;28mtype\u001b[39m(values)\u001b[38;5;241m.\u001b[39m\u001b[38;5;18m__name__\u001b[39m\u001b[38;5;132;01m}\u001b[39;00m\u001b[38;5;124m`\u001b[39m\u001b[38;5;124m\"\u001b[39m\n",
      "\u001b[0;32m    480\u001b[0m     )\n",
      "\u001b[0;32m    482\u001b[0m \u001b[38;5;28;01mif\u001b[39;00m \u001b[38;5;129;01mnot\u001b[39;00m \u001b[38;5;28misinstance\u001b[39m(values, (ABCIndex, ABCSeries, ABCExtensionArray, np\u001b[38;5;241m.\u001b[39mndarray)):\n",
      "\u001b[0;32m    483\u001b[0m     orig_values \u001b[38;5;241m=\u001b[39m \u001b[38;5;28mlist\u001b[39m(values)\n",
      "\n",
      "\u001b[1;31mTypeError\u001b[0m: only list-like objects are allowed to be passed to isin(), you passed a `str`\n",
      "\n"
     ]
    }
   ],
   "source": [
    "#| hide\n",
    "import nbdev; nbdev.nbdev_export()"
   ]
  }
 ],
 "metadata": {
  "kernelspec": {
   "display_name": "python3",
   "language": "python",
   "name": "python3"
  }
 },
 "nbformat": 4,
 "nbformat_minor": 4
}
