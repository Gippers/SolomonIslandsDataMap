{
 "cells": [
  {
   "cell_type": "markdown",
   "metadata": {},
   "source": [
    "# Generate Map\n",
    "\n",
    "> Class that generates the data map"
   ]
  },
  {
   "cell_type": "code",
   "execution_count": null,
   "metadata": {},
   "outputs": [],
   "source": [
    "#| default_exp app"
   ]
  },
  {
   "cell_type": "code",
   "execution_count": null,
   "metadata": {},
   "outputs": [
    {
     "ename": "ModuleNotFoundError",
     "evalue": "No module named 'app_data'",
     "output_type": "error",
     "traceback": [
      "\u001b[0;31m---------------------------------------------------------------------------\u001b[0m",
      "\u001b[0;31mNameError\u001b[0m                                 Traceback (most recent call last)",
      "Cell \u001b[0;32mIn[2], line 4\u001b[0m\n\u001b[1;32m      3\u001b[0m \u001b[38;5;28;01mtry\u001b[39;00m:\n\u001b[0;32m----> 4\u001b[0m     \u001b[38;5;28;01mfrom\u001b[39;00m \u001b[38;5;21;01mSolomonIslandsDataMap\u001b[39;00m\u001b[38;5;21;01m.\u001b[39;00m\u001b[38;5;21;01mapp_data\u001b[39;00m \u001b[38;5;28;01mimport\u001b[39;00m stored_data, dd_dataset, sidebar\n\u001b[1;32m      5\u001b[0m \u001b[38;5;28;01mexcept\u001b[39;00m: \n",
      "File \u001b[0;32m~/git/SolomonIslandsDataMap/SolomonIslandsDataMap/app_data.py:188\u001b[0m\n\u001b[1;32m    187\u001b[0m pyramidTitle \u001b[38;5;241m=\u001b[39m dcc\u001b[38;5;241m.\u001b[39mMarkdown(children \u001b[38;5;241m=\u001b[39m\u001b[38;5;124m'\u001b[39m\u001b[38;5;124m## Projected Population Pyramid for Solomon Islands\u001b[39m\u001b[38;5;124m'\u001b[39m, \u001b[38;5;28mid\u001b[39m \u001b[38;5;241m=\u001b[39m \u001b[38;5;124m'\u001b[39m\u001b[38;5;124mpyramidTitle\u001b[39m\u001b[38;5;124m'\u001b[39m)\n\u001b[0;32m--> 188\u001b[0m popKpi \u001b[38;5;241m=\u001b[39m dbc\u001b[38;5;241m.\u001b[39mCol(children \u001b[38;5;241m=\u001b[39m \u001b[43mgen_kpi\u001b[49m(sol_geo, \u001b[38;5;241m2022\u001b[39m, \u001b[38;5;124m'\u001b[39m\u001b[38;5;124mPopulation\u001b[39m\u001b[38;5;124m'\u001b[39m, \u001b[38;5;124m'\u001b[39m\u001b[38;5;124mTotal\u001b[39m\u001b[38;5;124m'\u001b[39m, [\u001b[38;5;124m\"\u001b[39m\u001b[38;5;124m0-4\u001b[39m\u001b[38;5;124m\"\u001b[39m]), \u001b[38;5;28mid\u001b[39m \u001b[38;5;241m=\u001b[39m \u001b[38;5;124m'\u001b[39m\u001b[38;5;124mpopKpi\u001b[39m\u001b[38;5;124m'\u001b[39m,\n\u001b[1;32m    189\u001b[0m                  width \u001b[38;5;241m=\u001b[39m \u001b[38;5;241m2\u001b[39m, align \u001b[38;5;241m=\u001b[39m \u001b[38;5;124m'\u001b[39m\u001b[38;5;124mcenter\u001b[39m\u001b[38;5;124m'\u001b[39m)\n\u001b[1;32m    190\u001b[0m \u001b[38;5;66;03m# testing\u001b[39;00m\n",
      "\u001b[0;31mNameError\u001b[0m: name 'gen_kpi' is not defined",
      "\nDuring handling of the above exception, another exception occurred:\n",
      "\u001b[0;31mModuleNotFoundError\u001b[0m                       Traceback (most recent call last)",
      "Cell \u001b[0;32mIn[2], line 6\u001b[0m\n\u001b[1;32m      4\u001b[0m     \u001b[38;5;28;01mfrom\u001b[39;00m \u001b[38;5;21;01mSolomonIslandsDataMap\u001b[39;00m\u001b[38;5;21;01m.\u001b[39;00m\u001b[38;5;21;01mapp_data\u001b[39;00m \u001b[38;5;28;01mimport\u001b[39;00m stored_data, dd_dataset, sidebar\n\u001b[1;32m      5\u001b[0m \u001b[38;5;28;01mexcept\u001b[39;00m: \n\u001b[0;32m----> 6\u001b[0m     \u001b[38;5;28;01mfrom\u001b[39;00m \u001b[38;5;21;01mapp_data\u001b[39;00m \u001b[38;5;28;01mimport\u001b[39;00m stored_data, dd_dataset, sidebar\n\u001b[1;32m      8\u001b[0m \u001b[38;5;28;01mimport\u001b[39;00m \u001b[38;5;21;01mplotly\u001b[39;00m\u001b[38;5;21;01m.\u001b[39;00m\u001b[38;5;21;01mexpress\u001b[39;00m \u001b[38;5;28;01mas\u001b[39;00m \u001b[38;5;21;01mpx\u001b[39;00m\n\u001b[1;32m      9\u001b[0m \u001b[38;5;28;01mimport\u001b[39;00m \u001b[38;5;21;01mplotly\u001b[39;00m\u001b[38;5;21;01m.\u001b[39;00m\u001b[38;5;21;01mgraph_objects\u001b[39;00m \u001b[38;5;28;01mas\u001b[39;00m \u001b[38;5;21;01mgo\u001b[39;00m\n",
      "\u001b[0;31mModuleNotFoundError\u001b[0m: No module named 'app_data'"
     ]
    }
   ],
   "source": [
    "#| export\n",
    "from nbdev.showdoc import *\n",
    "try:\n",
    "    from SolomonIslandsDataMap.app_data import stored_data, dd_dataset, sidebar\n",
    "except: \n",
    "    from app_data import stored_data, dd_dataset, sidebar\n",
    "\n",
    "import plotly.express as px\n",
    "import plotly.graph_objects as go\n",
    "import plotly.io as pio # Unless this is used graphs will not be dynamic?\n",
    "import numpy as np\n",
    "from fastcore.test import *\n",
    "from dash import page_container, Dash, dcc, Output, Input, State, html, Patch, page_registry, ctx  # pip install dash\n",
    "import dash_bootstrap_components as dbc    # pip install dash-bootstrap-components\n",
    "from dash_bootstrap_templates import load_figure_template\n",
    "from git import Repo\n",
    "import json\n"
   ]
  },
  {
   "cell_type": "markdown",
   "metadata": {},
   "source": [
    "## Setup App and Server"
   ]
  },
  {
   "cell_type": "markdown",
   "metadata": {},
   "source": [
    "Setup the app and global variables"
   ]
  },
  {
   "cell_type": "code",
   "execution_count": null,
   "metadata": {},
   "outputs": [],
   "source": [
    "#| export\n",
    "\n",
    "# Find the absoulte path to the pages folder\n",
    "repo = Repo('.', search_parent_directories=True)\n",
    "fp = str(repo.working_tree_dir) + \"/SolomonIslandsDataMap/pages/\"\n",
    "\n",
    "try:\n",
    "    app = Dash(__name__, external_stylesheets=[dbc.themes.MINTY], use_pages=True, pages_folder = fp)\n",
    "except:\n",
    "    # When running in a notebook, the below trick should get the notebook to still execute\n",
    "    import __main__ as main\n",
    "    main.__file__ = \"main_file\"\n",
    "    app = Dash(__name__, external_stylesheets=[dbc.themes.MINTY], use_pages=True, pages_folder = fp)\n",
    "server = app.server\n",
    "load_figure_template(\"minty\")"
   ]
  },
  {
   "cell_type": "code",
   "execution_count": null,
   "metadata": {},
   "outputs": [
    {
     "name": "stdout",
     "output_type": "stream",
     "text": [
      "/home/tom/git/SolomonIslandsDataMap/SolomonIslandsDataMap/pages/\n"
     ]
    }
   ],
   "source": [
    "print(fp)"
   ]
  },
  {
   "cell_type": "markdown",
   "metadata": {},
   "source": [
    "Create a navbar"
   ]
  },
  {
   "cell_type": "code",
   "execution_count": null,
   "metadata": {},
   "outputs": [],
   "source": [
    "#| export\n",
    "pages = {}\n",
    "for page in page_registry.values():\n",
    "    pages[page[\"title\"]] = page[\"relative_path\"]\n",
    "    \n",
    "navbar = dbc.NavbarSimple(\n",
    "    children=[\n",
    "        # TODO make this a dbc tab with calbback to make it active\n",
    "        dbc.NavItem(dbc.NavLink('Census Map', href=pages['Census Map'], active=True)),\n",
    "        dbc.NavItem(dbc.NavLink('Population Projections', href=pages['Population Projections'])),\n",
    "        dbc.NavItem(dbc.NavLink('Data Table', href=pages['Data Table'])),\n",
    "        dbc.DropdownMenu(\n",
    "            children=[\n",
    "                #dbc.DropdownMenuItem(\"More pages coming soon\", header=True),\n",
    "                \n",
    "                dbc.DropdownMenuItem('Census Map', href=pages['Census Map']),\n",
    "                dbc.DropdownMenuItem('Population Projections', href=pages['Population Projections']),\n",
    "                dbc.DropdownMenuItem('Data Table', href=pages['Data Table']),\n",
    "            ],\n",
    "            nav=True,\n",
    "            in_navbar=True,\n",
    "            label=\"Select Page\",\n",
    "        ),\n",
    "    ],\n",
    "    brand=\"Solomon Islands Data Explorer\",\n",
    "    brand_href=\"#\",\n",
    "    color=\"primary\",\n",
    "    #dark=True,\n",
    "    class_name=\"navbar navbar-expand-lg bg-primary\"\n",
    ")\n"
   ]
  },
  {
   "cell_type": "markdown",
   "metadata": {},
   "source": [
    "Import the sidebar"
   ]
  },
  {
   "cell_type": "markdown",
   "metadata": {},
   "source": [
    "## Create the Layout"
   ]
  },
  {
   "cell_type": "code",
   "execution_count": null,
   "metadata": {},
   "outputs": [],
   "source": [
    "#| export\n",
    "app.layout = dbc.Container([\n",
    "                dbc.Row([\n",
    "                    navbar\n",
    "                ]),\n",
    "                dbc.Row(\n",
    "                [dbc.Col(sidebar, width = 2),\n",
    "                dbc.Col([\n",
    "                    page_container, ], width = 10),\n",
    "                ], justify = 'center'),\n",
    "                stored_data, \n",
    "                dd_dataset,\n",
    "                dcc.Store('stored_values', storage_type=\"session\", \n",
    "                          data = json.dumps({'type': 'Total',\n",
    "                                    'geo': 'Province',\n",
    "                                    'location': [],\n",
    "                                    'variable': 'Key Statistics',\n",
    "                                    'measure': 'Total Households',\n",
    "                                    'var-pop': 'Population',\n",
    "                                    'measure-pop': 'Total',\n",
    "                                    'ages': ['0-4',\n",
    "                                            '5-9',\n",
    "                                            '10-14',\n",
    "                                            '15-19',\n",
    "                                            '20-24',\n",
    "                                            '25-29',\n",
    "                                            '30-34',\n",
    "                                            '35-39',\n",
    "                                            '40-44',\n",
    "                                            '45-49',\n",
    "                                            '50-54',\n",
    "                                            '55-59',\n",
    "                                            '60-64',\n",
    "                                            '65-69',\n",
    "                                            '70-74',\n",
    "                                            '75-79',\n",
    "                                            '80+'],\n",
    "                                    'pop_year': 2024,\n",
    "                                    }),),\n",
    "                                                     \n",
    "                ], fluid = True)"
   ]
  },
  {
   "cell_type": "markdown",
   "metadata": {},
   "source": [
    "## Run the dash app"
   ]
  },
  {
   "cell_type": "code",
   "execution_count": null,
   "metadata": {},
   "outputs": [
    {
     "data": {
      "text/html": [
       "\n",
       "        <iframe\n",
       "            width=\"100%\"\n",
       "            height=\"650\"\n",
       "            src=\"http://127.0.0.1:9999/\"\n",
       "            frameborder=\"0\"\n",
       "            allowfullscreen\n",
       "            \n",
       "        ></iframe>\n",
       "        "
      ],
      "text/plain": [
       "<IPython.lib.display.IFrame>"
      ]
     },
     "metadata": {},
     "output_type": "display_data"
    }
   ],
   "source": [
    "#| export\n",
    "#| server\n",
    "# Run app\n",
    "if __name__=='__main__':\n",
    "    try:\n",
    "        app.run_server(debug=True, port=9999) # Random int mitigates port collision\n",
    "    except:\n",
    "        print(\"Cannot run server here\")"
   ]
  },
  {
   "cell_type": "code",
   "execution_count": null,
   "metadata": {},
   "outputs": [
    {
     "name": "stdout",
     "output_type": "stream",
     "text": [
      "page\n",
      "census\n",
      "****triggered load: \n",
      "{\"type\": \"Total\", \"geo\": \"Province\", \"location\": [], \"variable\": \"Key Statistics\", \"measure\": \"Total Households\", \"var-pop\": \"Population\", \"measure-pop\": \"Total\", \"ages\": [\"0-4\", \"5-9\", \"10-14\", \"15-19\", \"20-24\", \"25-29\", \"30-34\", \"35-39\", \"40-44\", \"45-49\", \"50-54\", \"55-59\", \"60-64\", \"65-69\", \"70-74\", \"75-79\", \"80+\"], \"pop_year\": 2024}\n",
      "Does this bit fail\n",
      "catch this here\n",
      "****triggered save: \n",
      "{'type': 'Total', 'geo': 'Province', 'location': [], 'variable': 'Key Statistics', 'measure': 'Total Households', 'var-pop': 'Population', 'measure-pop': 'Total', 'ages': ['0-4', '5-9', '10-14', '15-19', '20-24', '25-29', '30-34', '35-39', '40-44', '45-49', '50-54', '55-59', '60-64', '65-69', '70-74', '75-79', '80+'], 'pop_year': 2024}\n",
      "Changing map selections\n",
      "input\n",
      "[]\n",
      "Going in to function\n",
      "[]\n",
      "func um\n",
      "Province\n",
      "[ True False False]\n",
      "[]\n",
      "None\n",
      "first run, updating map\n",
      "segmented_geo\n",
      "Province\n",
      "Total\n",
      "Total Households\n",
      "Province\n",
      "True\n",
      "Constituency\n",
      "False\n",
      "Ward\n",
      "False\n",
      "map clicked updating to:\n",
      "Click data was none\n",
      "func bc\n",
      "Click data was none\n",
      "****triggered load: \n",
      "{\"type\": \"Total\", \"geo\": \"Province\", \"location\": [], \"variable\": \"Key Statistics\", \"measure\": \"Total Households\", \"var-pop\": \"Population\", \"measure-pop\": \"Total\", \"ages\": [\"0-4\", \"5-9\", \"10-14\", \"15-19\", \"20-24\", \"25-29\", \"30-34\", \"35-39\", \"40-44\", \"45-49\", \"50-54\", \"55-59\", \"60-64\", \"65-69\", \"70-74\", \"75-79\", \"80+\"], \"pop_year\": 2024}\n",
      "\u001b[1;31m---------------------------------------------------------------------------\u001b[0m\n",
      "\u001b[1;31mKeyError\u001b[0m                                  Traceback (most recent call last)\n",
      "\u001b[1;31mKeyError\u001b[0m: ''\n",
      "\n",
      "****triggered save: \n",
      "{'type': 'Total', 'geo': 'Province', 'location': [], 'variable': 'Key Statistics', 'measure': 'Total Households', 'var-pop': 'Population', 'measure-pop': 'Total', 'ages': ['0-4', '5-9', '10-14', '15-19', '20-24', '25-29', '30-34', '35-39', '40-44', '45-49', '50-54', '55-59', '60-64', '65-69', '70-74', '75-79', '80+'], 'pop_year': 2024}\n",
      "Changing map selections\n",
      "func um\n",
      "first run, updating map\n",
      "measureDropdown\n",
      "Province\n",
      "Total\n",
      "Total Households\n",
      "input\n",
      "[]\n",
      "Going in to function\n",
      "[]\n",
      "Province\n",
      "[ True False False]\n",
      "[]\n",
      "None\n",
      "****triggered save: \n",
      "{'type': 'Total', 'geo': 'Province', 'location': [], 'variable': 'Key Statistics', 'measure': 'Total Households', 'var-pop': 'Population', 'measure-pop': 'Total', 'ages': ['0-4', '5-9', '10-14', '15-19', '20-24', '25-29', '30-34', '35-39', '40-44', '45-49', '50-54', '55-59', '60-64', '65-69', '70-74', '75-79', '80+'], 'pop_year': 2024}\n",
      "first run, updating map\n",
      "measureDropdown\n",
      "Province\n",
      "Total\n",
      "Total Households\n",
      "input\n",
      "[]\n",
      "Going in to function\n",
      "[]\n",
      "page\n",
      "pop\n",
      "disable geo\n",
      "****triggered load: \n",
      "{\"type\": \"Total\", \"geo\": \"Province\", \"location\": [], \"variable\": \"Key Statistics\", \"measure\": \"Total Households\", \"var-pop\": \"Population\", \"measure-pop\": \"Total\", \"ages\": [\"0-4\", \"5-9\", \"10-14\", \"15-19\", \"20-24\", \"25-29\", \"30-34\", \"35-39\", \"40-44\", \"45-49\", \"50-54\", \"55-59\", \"60-64\", \"65-69\", \"70-74\", \"75-79\", \"80+\"], \"pop_year\": 2024}\n",
      "****triggered save: \n",
      "{'type': 'Total', 'geo': 'Province', 'location': [], 'variable': 'Key Statistics', 'measure': 'Total Households', 'var-pop': 'Population', 'measure-pop': 'Total', 'ages': ['0-4', '5-9', '10-14', '15-19', '20-24', '25-29', '30-34', '35-39', '40-44', '45-49', '50-54', '55-59', '60-64', '65-69', '70-74', '75-79', '80+'], 'pop_year': 2024}\n",
      "Does this bit fail\n",
      "catch this here\n",
      "****triggered save: \n",
      "{'type': 'Total', 'geo': 'Province', 'location': [], 'variable': 'Key Statistics', 'measure': 'Total Households', 'var-pop': 'Population', 'measure-pop': 'Total', 'ages': ['0-4', '5-9', '10-14', '15-19', '20-24', '25-29', '30-34', '35-39', '40-44', '45-49', '50-54', '55-59', '60-64', '65-69', '70-74', '75-79', '80+'], 'pop_year': 2024}\n",
      "func um\n",
      "type: Total\n",
      "****triggered save: \n",
      "{'type': 'Total', 'geo': 'Province', 'location': [], 'variable': 'Key Statistics', 'measure': 'Total Households', 'var-pop': 'Population', 'measure-pop': 'Total', 'ages': ['0-4', '5-9', '10-14', '15-19', '20-24', '25-29', '30-34', '35-39', '40-44', '45-49', '50-54', '55-59', '60-64', '65-69', '70-74', '75-79', '80+'], 'pop_year': 2024}\n",
      "****triggered save: \n",
      "{'type': 'Total', 'geo': 'Province', 'location': [], 'variable': 'Key Statistics', 'measure': 'Total Households', 'var-pop': 'Population', 'measure-pop': 'Total', 'ages': ['0-4', '5-9', '10-14', '15-19', '20-24', '25-29', '30-34', '35-39', '40-44', '45-49', '50-54', '55-59', '60-64', '65-69', '70-74', '75-79', '80+'], 'pop_year': 2024}\n",
      "type: Total\n",
      "type: Total\n",
      "****triggered save: \n",
      "{'type': 'Total', 'geo': 'Province', 'location': [], 'variable': 'Key Statistics', 'measure': 'Total Households', 'var-pop': 'Population', 'measure-pop': 'Total', 'ages': ['0-4', '5-9', '10-14', '15-19', '20-24', '25-29', '30-34', '35-39', '40-44', '45-49', '50-54', '55-59', '60-64', '65-69', '70-74', '75-79', '80+'], 'pop_year': 2024}\n",
      "type: Total\n",
      "func bc\n",
      "Click data was none\n",
      "page\n",
      "pop\n",
      "disable geo\n",
      "****triggered load: \n",
      "{\"type\": \"Total\", \"geo\": \"Province\", \"location\": [], \"variable\": \"Key Statistics\", \"measure\": \"Total Households\", \"var-pop\": \"Population\", \"measure-pop\": \"Total\", \"ages\": [\"0-4\", \"5-9\", \"10-14\", \"15-19\", \"20-24\", \"25-29\", \"30-34\", \"35-39\", \"40-44\", \"45-49\", \"50-54\", \"55-59\", \"60-64\", \"65-69\", \"70-74\", \"75-79\", \"80+\"], \"pop_year\": 2024}\n",
      "****triggered save: \n",
      "{'type': 'Total', 'geo': 'Province', 'location': [], 'variable': 'Key Statistics', 'measure': 'Total Households', 'var-pop': 'Population', 'measure-pop': 'Total', 'ages': ['0-4', '5-9', '10-14', '15-19', '20-24', '25-29', '30-34', '35-39', '40-44', '45-49', '50-54', '55-59', '60-64', '65-69', '70-74', '75-79', '80+'], 'pop_year': 2024}\n",
      "page\n",
      "table\n",
      "****triggered load: \n",
      "{\"type\": \"Total\", \"geo\": \"Province\", \"location\": [], \"variable\": \"Key Statistics\", \"measure\": \"Total Households\", \"var-pop\": \"Population\", \"measure-pop\": \"Total\", \"ages\": [\"0-4\", \"5-9\", \"10-14\", \"15-19\", \"20-24\", \"25-29\", \"30-34\", \"35-39\", \"40-44\", \"45-49\", \"50-54\", \"55-59\", \"60-64\", \"65-69\", \"70-74\", \"75-79\", \"80+\"], \"pop_year\": 2024}\n",
      "Does this bit fail\n",
      "catch this here\n",
      "****triggered save: \n",
      "{'type': 'Total', 'geo': 'Province', 'location': [], 'variable': 'Key Statistics', 'measure': 'Total Households', 'var-pop': 'Population', 'measure-pop': 'Total', 'ages': ['0-4', '5-9', '10-14', '15-19', '20-24', '25-29', '30-34', '35-39', '40-44', '45-49', '50-54', '55-59', '60-64', '65-69', '70-74', '75-79', '80+'], 'pop_year': 2024}\n",
      "****triggered save: \n",
      "{'type': 'Total', 'geo': 'Province', 'location': [], 'variable': 'Key Statistics', 'measure': 'Total Households', 'var-pop': 'Population', 'measure-pop': 'Total', 'ages': ['0-4', '5-9', '10-14', '15-19', '20-24', '25-29', '30-34', '35-39', '40-44', '45-49', '50-54', '55-59', '60-64', '65-69', '70-74', '75-79', '80+'], 'pop_year': 2024}\n",
      "func um\n",
      "What happens when auto triggered?\n",
      "segmented_geo\n",
      "****triggered save: \n",
      "{'type': 'Total', 'geo': 'Province', 'location': [], 'variable': 'Key Statistics', 'measure': 'Total Households', 'var-pop': 'Population', 'measure-pop': 'Total', 'ages': ['0-4', '5-9', '10-14', '15-19', '20-24', '25-29', '30-34', '35-39', '40-44', '45-49', '50-54', '55-59', '60-64', '65-69', '70-74', '75-79', '80+'], 'pop_year': 2024}\n",
      "func um\n",
      "type: Total\n",
      "Does this bit fail\n",
      "catch this here\n",
      "page\n",
      "table\n",
      "segmented_geo\n",
      "****triggered load: \n",
      "{\"type\": \"Total\", \"geo\": \"Province\", \"location\": [], \"variable\": \"Key Statistics\", \"measure\": \"Total Households\", \"var-pop\": \"Population\", \"measure-pop\": \"Total\", \"ages\": [\"0-4\", \"5-9\", \"10-14\", \"15-19\", \"20-24\", \"25-29\", \"30-34\", \"35-39\", \"40-44\", \"45-49\", \"50-54\", \"55-59\", \"60-64\", \"65-69\", \"70-74\", \"75-79\", \"80+\"], \"pop_year\": 2024}\n",
      "****triggered load: \n",
      "{\"type\": \"Total\", \"geo\": \"Province\", \"location\": [], \"variable\": \"Key Statistics\", \"measure\": \"Total Households\", \"var-pop\": \"Population\", \"measure-pop\": \"Total\", \"ages\": [\"0-4\", \"5-9\", \"10-14\", \"15-19\", \"20-24\", \"25-29\", \"30-34\", \"35-39\", \"40-44\", \"45-49\", \"50-54\", \"55-59\", \"60-64\", \"65-69\", \"70-74\", \"75-79\", \"80+\"], \"pop_year\": 2024}\n",
      "type: Total\n",
      "Does this bit fail\n",
      "catch this here\n",
      "****triggered save: \n",
      "{'type': 'Total', 'geo': 'Province', 'location': [], 'variable': 'Key Statistics', 'measure': 'Total Households', 'var-pop': 'Population', 'measure-pop': 'Total', 'ages': ['0-4', '5-9', '10-14', '15-19', '20-24', '25-29', '30-34', '35-39', '40-44', '45-49', '50-54', '55-59', '60-64', '65-69', '70-74', '75-79', '80+'], 'pop_year': 2024}\n",
      "****triggered save: \n",
      "{'type': 'Total', 'geo': 'Province', 'location': [], 'variable': 'Key Statistics', 'measure': 'Total Households', 'var-pop': 'Population', 'measure-pop': 'Total', 'ages': ['0-4', '5-9', '10-14', '15-19', '20-24', '25-29', '30-34', '35-39', '40-44', '45-49', '50-54', '55-59', '60-64', '65-69', '70-74', '75-79', '80+'], 'pop_year': 2024}\n",
      "What happens when auto triggered?\n",
      "measureDropdown\n",
      "What happens when auto triggered?\n",
      "segmented_geo\n",
      "func um\n",
      "func um\n",
      "segmented_geo\n",
      "measureDropdown\n",
      "****triggered save: \n",
      "{'type': 'Total', 'geo': 'Province', 'location': [], 'variable': 'Key Statistics', 'measure': 'Total Households', 'var-pop': 'Population', 'measure-pop': 'Total', 'ages': ['0-4', '5-9', '10-14', '15-19', '20-24', '25-29', '30-34', '35-39', '40-44', '45-49', '50-54', '55-59', '60-64', '65-69', '70-74', '75-79', '80+'], 'pop_year': 2024}\n",
      "What happens when auto triggered?\n",
      "measureDropdown\n",
      "****triggered load: \n",
      "{\"type\": \"Total\", \"geo\": \"Province\", \"location\": [], \"variable\": \"Key Statistics\", \"measure\": \"Total Households\", \"var-pop\": \"Population\", \"measure-pop\": \"Total\", \"ages\": [\"0-4\", \"5-9\", \"10-14\", \"15-19\", \"20-24\", \"25-29\", \"30-34\", \"35-39\", \"40-44\", \"45-49\", \"50-54\", \"55-59\", \"60-64\", \"65-69\", \"70-74\", \"75-79\", \"80+\"], \"pop_year\": 2024}\n",
      "measureDropdown\n",
      "****triggered save: \n",
      "{'type': 'Total', 'geo': 'Province', 'location': [], 'variable': 'Key Statistics', 'measure': 'Total Households', 'var-pop': 'Population', 'measure-pop': 'Total', 'ages': ['0-4', '5-9', '10-14', '15-19', '20-24', '25-29', '30-34', '35-39', '40-44', '45-49', '50-54', '55-59', '60-64', '65-69', '70-74', '75-79', '80+'], 'pop_year': 2024}\n",
      "What happens when auto triggered?\n",
      "measureDropdown\n",
      "func um\n",
      "measureDropdown\n",
      "****triggered save: \n",
      "{'type': 'Total', 'geo': 'Province', 'location': [], 'variable': 'Key Statistics', 'measure': 'Total Households', 'var-pop': 'Population', 'measure-pop': 'Total', 'ages': ['0-4', '5-9', '10-14', '15-19', '20-24', '25-29', '30-34', '35-39', '40-44', '45-49', '50-54', '55-59', '60-64', '65-69', '70-74', '75-79', '80+'], 'pop_year': 2024}\n",
      "What happens when auto triggered?\n",
      "measureDropdown\n",
      "measureDropdown\n",
      "page\n",
      "pop\n",
      "disable geo\n",
      "****triggered load: \n",
      "{\"type\": \"Total\", \"geo\": \"Province\", \"location\": [], \"variable\": \"Key Statistics\", \"measure\": \"Total Households\", \"var-pop\": \"Population\", \"measure-pop\": \"Total\", \"ages\": [\"0-4\", \"5-9\", \"10-14\", \"15-19\", \"20-24\", \"25-29\", \"30-34\", \"35-39\", \"40-44\", \"45-49\", \"50-54\", \"55-59\", \"60-64\", \"65-69\", \"70-74\", \"75-79\", \"80+\"], \"pop_year\": 2024}\n",
      "Does this bit fail\n",
      "catch this here\n",
      "****triggered save: \n",
      "{'type': 'Total', 'geo': 'Province', 'location': [], 'variable': 'Key Statistics', 'measure': 'Total Households', 'var-pop': 'Population', 'measure-pop': 'Total', 'ages': ['0-4', '5-9', '10-14', '15-19', '20-24', '25-29', '30-34', '35-39', '40-44', '45-49', '50-54', '55-59', '60-64', '65-69', '70-74', '75-79', '80+'], 'pop_year': 2024}\n",
      "func um\n",
      "type: Total\n",
      "****triggered save: \n",
      "{'type': 'Total', 'geo': 'Province', 'location': [], 'variable': 'Key Statistics', 'measure': 'Total Households', 'var-pop': 'Population', 'measure-pop': 'Total', 'ages': ['0-4', '5-9', '10-14', '15-19', '20-24', '25-29', '30-34', '35-39', '40-44', '45-49', '50-54', '55-59', '60-64', '65-69', '70-74', '75-79', '80+'], 'pop_year': 2024}\n",
      "type: Total\n",
      "type: Total\n",
      "page\n",
      "table\n",
      "****triggered load: \n",
      "{\"type\": \"Total\", \"geo\": \"Province\", \"location\": [], \"variable\": \"Key Statistics\", \"measure\": \"Total Households\", \"var-pop\": \"Population\", \"measure-pop\": \"Total\", \"ages\": [\"0-4\", \"5-9\", \"10-14\", \"15-19\", \"20-24\", \"25-29\", \"30-34\", \"35-39\", \"40-44\", \"45-49\", \"50-54\", \"55-59\", \"60-64\", \"65-69\", \"70-74\", \"75-79\", \"80+\"], \"pop_year\": 2024}\n",
      "Does this bit fail\n",
      "catch this here\n",
      "****triggered save: \n",
      "{'type': 'Total', 'geo': 'Province', 'location': [], 'variable': 'Key Statistics', 'measure': 'Total Households', 'var-pop': 'Population', 'measure-pop': 'Total', 'ages': ['0-4', '5-9', '10-14', '15-19', '20-24', '25-29', '30-34', '35-39', '40-44', '45-49', '50-54', '55-59', '60-64', '65-69', '70-74', '75-79', '80+'], 'pop_year': 2024}\n",
      "What happens when auto triggered?\n",
      "segmented_geo\n",
      "func um\n",
      "****triggered load: \n",
      "{\"type\": \"Total\", \"geo\": \"Province\", \"location\": [], \"variable\": \"Key Statistics\", \"measure\": \"Total Households\", \"var-pop\": \"Population\", \"measure-pop\": \"Total\", \"ages\": [\"0-4\", \"5-9\", \"10-14\", \"15-19\", \"20-24\", \"25-29\", \"30-34\", \"35-39\", \"40-44\", \"45-49\", \"50-54\", \"55-59\", \"60-64\", \"65-69\", \"70-74\", \"75-79\", \"80+\"], \"pop_year\": 2024}\n",
      "segmented_geo\n"
     ]
    }
   ],
   "source": [
    "#| hide\n",
    "import nbdev; nbdev.nbdev_export()"
   ]
  }
 ],
 "metadata": {
  "kernelspec": {
   "display_name": "python3",
   "language": "python",
   "name": "python3"
  }
 },
 "nbformat": 4,
 "nbformat_minor": 4
}
