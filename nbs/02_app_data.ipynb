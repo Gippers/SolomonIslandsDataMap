{
 "cells": [
  {
   "cell_type": "markdown",
   "metadata": {},
   "source": [
    "# App Data\n",
    "\n",
    "> Class that loads and stores the data and sidebar for the dash app"
   ]
  },
  {
   "cell_type": "code",
   "execution_count": null,
   "metadata": {},
   "outputs": [],
   "source": [
    "#| default_exp app_data"
   ]
  },
  {
   "cell_type": "code",
   "execution_count": null,
   "metadata": {},
   "outputs": [],
   "source": [
    "# TODO think about what differentiates dash_components and app_data"
   ]
  },
  {
   "cell_type": "code",
   "execution_count": null,
   "metadata": {},
   "outputs": [
    {
     "ename": "ModuleNotFoundError",
     "evalue": "No module named 'load_data'",
     "output_type": "error",
     "traceback": [
      "\u001b[0;31m---------------------------------------------------------------------------\u001b[0m",
      "\u001b[0;31mImportError\u001b[0m                               Traceback (most recent call last)",
      "Cell \u001b[0;32mIn[3], line 5\u001b[0m\n\u001b[1;32m      4\u001b[0m \u001b[38;5;28;01mtry\u001b[39;00m:\n\u001b[0;32m----> 5\u001b[0m     \u001b[38;5;28;01mfrom\u001b[39;00m \u001b[38;5;21;01mSolomonIslandsDataMap\u001b[39;00m\u001b[38;5;21;01m.\u001b[39;00m\u001b[38;5;21;01mload_data\u001b[39;00m \u001b[38;5;28;01mimport\u001b[39;00m \u001b[38;5;241m*\u001b[39m\n\u001b[1;32m      6\u001b[0m     \u001b[38;5;28;01mfrom\u001b[39;00m \u001b[38;5;21;01mSolomonIslandsDataMap\u001b[39;00m\u001b[38;5;21;01m.\u001b[39;00m\u001b[38;5;21;01mdash_components\u001b[39;00m \u001b[38;5;28;01mimport\u001b[39;00m \u001b[38;5;241m*\u001b[39m\n",
      "File \u001b[0;32m~/git/SolomonIslandsDataMap/SolomonIslandsDataMap/load_data.py:20\u001b[0m\n\u001b[1;32m     19\u001b[0m \u001b[38;5;28;01mfrom\u001b[39;00m \u001b[38;5;21;01murllib\u001b[39;00m\u001b[38;5;21;01m.\u001b[39;00m\u001b[38;5;21;01mrequest\u001b[39;00m \u001b[38;5;28;01mimport\u001b[39;00m urlopen\n\u001b[0;32m---> 20\u001b[0m \u001b[38;5;28;01mimport\u001b[39;00m \u001b[38;5;21;01mboto3\u001b[39;00m\n\u001b[1;32m     21\u001b[0m \u001b[38;5;28;01mfrom\u001b[39;00m \u001b[38;5;21;01mdotenv\u001b[39;00m \u001b[38;5;28;01mimport\u001b[39;00m load_dotenv\n",
      "File \u001b[0;32m~/mambaforge/lib/python3.10/site-packages/boto3/__init__.py:17\u001b[0m\n\u001b[1;32m     16\u001b[0m \u001b[38;5;28;01mfrom\u001b[39;00m \u001b[38;5;21;01mboto3\u001b[39;00m\u001b[38;5;21;01m.\u001b[39;00m\u001b[38;5;21;01mcompat\u001b[39;00m \u001b[38;5;28;01mimport\u001b[39;00m _warn_deprecated_python\n\u001b[0;32m---> 17\u001b[0m \u001b[38;5;28;01mfrom\u001b[39;00m \u001b[38;5;21;01mboto3\u001b[39;00m\u001b[38;5;21;01m.\u001b[39;00m\u001b[38;5;21;01msession\u001b[39;00m \u001b[38;5;28;01mimport\u001b[39;00m Session\n\u001b[1;32m     19\u001b[0m __author__ \u001b[38;5;241m=\u001b[39m \u001b[38;5;124m'\u001b[39m\u001b[38;5;124mAmazon Web Services\u001b[39m\u001b[38;5;124m'\u001b[39m\n",
      "File \u001b[0;32m~/mambaforge/lib/python3.10/site-packages/boto3/session.py:17\u001b[0m\n\u001b[1;32m     15\u001b[0m \u001b[38;5;28;01mimport\u001b[39;00m \u001b[38;5;21;01mos\u001b[39;00m\n\u001b[0;32m---> 17\u001b[0m \u001b[38;5;28;01mimport\u001b[39;00m \u001b[38;5;21;01mbotocore\u001b[39;00m\u001b[38;5;21;01m.\u001b[39;00m\u001b[38;5;21;01msession\u001b[39;00m\n\u001b[1;32m     18\u001b[0m \u001b[38;5;28;01mfrom\u001b[39;00m \u001b[38;5;21;01mbotocore\u001b[39;00m\u001b[38;5;21;01m.\u001b[39;00m\u001b[38;5;21;01mclient\u001b[39;00m \u001b[38;5;28;01mimport\u001b[39;00m Config\n",
      "File \u001b[0;32m~/mambaforge/lib/python3.10/site-packages/botocore/session.py:26\u001b[0m\n\u001b[1;32m     24\u001b[0m \u001b[38;5;28;01mimport\u001b[39;00m \u001b[38;5;21;01mwarnings\u001b[39;00m\n\u001b[0;32m---> 26\u001b[0m \u001b[38;5;28;01mimport\u001b[39;00m \u001b[38;5;21;01mbotocore\u001b[39;00m\u001b[38;5;21;01m.\u001b[39;00m\u001b[38;5;21;01mclient\u001b[39;00m\n\u001b[1;32m     27\u001b[0m \u001b[38;5;28;01mimport\u001b[39;00m \u001b[38;5;21;01mbotocore\u001b[39;00m\u001b[38;5;21;01m.\u001b[39;00m\u001b[38;5;21;01mconfigloader\u001b[39;00m\n",
      "File \u001b[0;32m~/mambaforge/lib/python3.10/site-packages/botocore/client.py:15\u001b[0m\n\u001b[1;32m     13\u001b[0m \u001b[38;5;28;01mimport\u001b[39;00m \u001b[38;5;21;01mlogging\u001b[39;00m\n\u001b[0;32m---> 15\u001b[0m \u001b[38;5;28;01mfrom\u001b[39;00m \u001b[38;5;21;01mbotocore\u001b[39;00m \u001b[38;5;28;01mimport\u001b[39;00m waiter, xform_name\n\u001b[1;32m     16\u001b[0m \u001b[38;5;28;01mfrom\u001b[39;00m \u001b[38;5;21;01mbotocore\u001b[39;00m\u001b[38;5;21;01m.\u001b[39;00m\u001b[38;5;21;01margs\u001b[39;00m \u001b[38;5;28;01mimport\u001b[39;00m ClientArgsCreator\n",
      "File \u001b[0;32m~/mambaforge/lib/python3.10/site-packages/botocore/waiter.py:18\u001b[0m\n\u001b[1;32m     16\u001b[0m \u001b[38;5;28;01mimport\u001b[39;00m \u001b[38;5;21;01mjmespath\u001b[39;00m\n\u001b[0;32m---> 18\u001b[0m \u001b[38;5;28;01mfrom\u001b[39;00m \u001b[38;5;21;01mbotocore\u001b[39;00m\u001b[38;5;21;01m.\u001b[39;00m\u001b[38;5;21;01mdocs\u001b[39;00m\u001b[38;5;21;01m.\u001b[39;00m\u001b[38;5;21;01mdocstring\u001b[39;00m \u001b[38;5;28;01mimport\u001b[39;00m WaiterDocstring\n\u001b[1;32m     19\u001b[0m \u001b[38;5;28;01mfrom\u001b[39;00m \u001b[38;5;21;01mbotocore\u001b[39;00m\u001b[38;5;21;01m.\u001b[39;00m\u001b[38;5;21;01mutils\u001b[39;00m \u001b[38;5;28;01mimport\u001b[39;00m get_service_module_name\n",
      "File \u001b[0;32m~/mambaforge/lib/python3.10/site-packages/botocore/docs/__init__.py:15\u001b[0m\n\u001b[1;32m     13\u001b[0m \u001b[38;5;28;01mimport\u001b[39;00m \u001b[38;5;21;01mos\u001b[39;00m\n\u001b[0;32m---> 15\u001b[0m \u001b[38;5;28;01mfrom\u001b[39;00m \u001b[38;5;21;01mbotocore\u001b[39;00m\u001b[38;5;21;01m.\u001b[39;00m\u001b[38;5;21;01mdocs\u001b[39;00m\u001b[38;5;21;01m.\u001b[39;00m\u001b[38;5;21;01mservice\u001b[39;00m \u001b[38;5;28;01mimport\u001b[39;00m ServiceDocumenter\n\u001b[1;32m     18\u001b[0m \u001b[38;5;28;01mdef\u001b[39;00m \u001b[38;5;21mgenerate_docs\u001b[39m(root_dir, session):\n",
      "File \u001b[0;32m~/mambaforge/lib/python3.10/site-packages/botocore/docs/service.py:14\u001b[0m\n\u001b[1;32m     13\u001b[0m \u001b[38;5;28;01mfrom\u001b[39;00m \u001b[38;5;21;01mbotocore\u001b[39;00m\u001b[38;5;21;01m.\u001b[39;00m\u001b[38;5;21;01mdocs\u001b[39;00m\u001b[38;5;21;01m.\u001b[39;00m\u001b[38;5;21;01mbcdoc\u001b[39;00m\u001b[38;5;21;01m.\u001b[39;00m\u001b[38;5;21;01mrestdoc\u001b[39;00m \u001b[38;5;28;01mimport\u001b[39;00m DocumentStructure\n\u001b[0;32m---> 14\u001b[0m \u001b[38;5;28;01mfrom\u001b[39;00m \u001b[38;5;21;01mbotocore\u001b[39;00m\u001b[38;5;21;01m.\u001b[39;00m\u001b[38;5;21;01mdocs\u001b[39;00m\u001b[38;5;21;01m.\u001b[39;00m\u001b[38;5;21;01mclient\u001b[39;00m \u001b[38;5;28;01mimport\u001b[39;00m ClientDocumenter, ClientExceptionsDocumenter\n\u001b[1;32m     15\u001b[0m \u001b[38;5;28;01mfrom\u001b[39;00m \u001b[38;5;21;01mbotocore\u001b[39;00m\u001b[38;5;21;01m.\u001b[39;00m\u001b[38;5;21;01mdocs\u001b[39;00m\u001b[38;5;21;01m.\u001b[39;00m\u001b[38;5;21;01mpaginator\u001b[39;00m \u001b[38;5;28;01mimport\u001b[39;00m PaginatorDocumenter\n",
      "File \u001b[0;32m~/mambaforge/lib/python3.10/site-packages/botocore/docs/client.py:14\u001b[0m\n\u001b[1;32m     13\u001b[0m \u001b[38;5;28;01mfrom\u001b[39;00m \u001b[38;5;21;01mbotocore\u001b[39;00m\u001b[38;5;21;01m.\u001b[39;00m\u001b[38;5;21;01mcompat\u001b[39;00m \u001b[38;5;28;01mimport\u001b[39;00m OrderedDict\n\u001b[0;32m---> 14\u001b[0m \u001b[38;5;28;01mfrom\u001b[39;00m \u001b[38;5;21;01mbotocore\u001b[39;00m\u001b[38;5;21;01m.\u001b[39;00m\u001b[38;5;21;01mdocs\u001b[39;00m\u001b[38;5;21;01m.\u001b[39;00m\u001b[38;5;21;01mexample\u001b[39;00m \u001b[38;5;28;01mimport\u001b[39;00m ResponseExampleDocumenter\n\u001b[1;32m     15\u001b[0m \u001b[38;5;28;01mfrom\u001b[39;00m \u001b[38;5;21;01mbotocore\u001b[39;00m\u001b[38;5;21;01m.\u001b[39;00m\u001b[38;5;21;01mdocs\u001b[39;00m\u001b[38;5;21;01m.\u001b[39;00m\u001b[38;5;21;01mmethod\u001b[39;00m \u001b[38;5;28;01mimport\u001b[39;00m (\n\u001b[1;32m     16\u001b[0m     document_custom_method,\n\u001b[1;32m     17\u001b[0m     document_model_driven_method,\n\u001b[1;32m     18\u001b[0m     get_instance_public_methods,\n\u001b[1;32m     19\u001b[0m )\n",
      "File \u001b[0;32m~/mambaforge/lib/python3.10/site-packages/botocore/docs/example.py:13\u001b[0m\n\u001b[1;32m      1\u001b[0m \u001b[38;5;66;03m# Copyright 2015 Amazon.com, Inc. or its affiliates. All Rights Reserved.\u001b[39;00m\n\u001b[1;32m      2\u001b[0m \u001b[38;5;66;03m#\u001b[39;00m\n\u001b[1;32m      3\u001b[0m \u001b[38;5;66;03m# Licensed under the Apache License, Version 2.0 (the \"License\"). You\u001b[39;00m\n\u001b[0;32m   (...)\u001b[0m\n\u001b[1;32m     11\u001b[0m \u001b[38;5;66;03m# ANY KIND, either express or implied. See the License for the specific\u001b[39;00m\n\u001b[1;32m     12\u001b[0m \u001b[38;5;66;03m# language governing permissions and limitations under the License.\u001b[39;00m\n\u001b[0;32m---> 13\u001b[0m \u001b[38;5;28;01mfrom\u001b[39;00m \u001b[38;5;21;01mbotocore\u001b[39;00m\u001b[38;5;21;01m.\u001b[39;00m\u001b[38;5;21;01mdocs\u001b[39;00m\u001b[38;5;21;01m.\u001b[39;00m\u001b[38;5;21;01mshape\u001b[39;00m \u001b[38;5;28;01mimport\u001b[39;00m ShapeDocumenter\n\u001b[1;32m     14\u001b[0m \u001b[38;5;28;01mfrom\u001b[39;00m \u001b[38;5;21;01mbotocore\u001b[39;00m\u001b[38;5;21;01m.\u001b[39;00m\u001b[38;5;21;01mdocs\u001b[39;00m\u001b[38;5;21;01m.\u001b[39;00m\u001b[38;5;21;01mutils\u001b[39;00m \u001b[38;5;28;01mimport\u001b[39;00m py_default\n",
      "File \u001b[0;32m~/mambaforge/lib/python3.10/site-packages/botocore/docs/shape.py:19\u001b[0m\n\u001b[1;32m      1\u001b[0m \u001b[38;5;66;03m# Copyright 2015 Amazon.com, Inc. or its affiliates. All Rights Reserved.\u001b[39;00m\n\u001b[1;32m      2\u001b[0m \u001b[38;5;66;03m#\u001b[39;00m\n\u001b[1;32m      3\u001b[0m \u001b[38;5;66;03m# Licensed under the Apache License, Version 2.0 (the \"License\"). You\u001b[39;00m\n\u001b[0;32m   (...)\u001b[0m\n\u001b[1;32m     17\u001b[0m \u001b[38;5;66;03m# inherited from a Documenter class with the appropriate methods\u001b[39;00m\n\u001b[1;32m     18\u001b[0m \u001b[38;5;66;03m# and attributes.\u001b[39;00m\n\u001b[0;32m---> 19\u001b[0m \u001b[38;5;28;01mfrom\u001b[39;00m \u001b[38;5;21;01mbotocore\u001b[39;00m\u001b[38;5;21;01m.\u001b[39;00m\u001b[38;5;21;01mutils\u001b[39;00m \u001b[38;5;28;01mimport\u001b[39;00m is_json_value_header\n\u001b[1;32m     22\u001b[0m \u001b[38;5;28;01mclass\u001b[39;00m \u001b[38;5;21;01mShapeDocumenter\u001b[39;00m:\n",
      "File \u001b[0;32m~/mambaforge/lib/python3.10/site-packages/botocore/utils.py:37\u001b[0m\n\u001b[1;32m     36\u001b[0m \u001b[38;5;28;01mimport\u001b[39;00m \u001b[38;5;21;01mbotocore\u001b[39;00m\u001b[38;5;21;01m.\u001b[39;00m\u001b[38;5;21;01mawsrequest\u001b[39;00m\n\u001b[0;32m---> 37\u001b[0m \u001b[38;5;28;01mimport\u001b[39;00m \u001b[38;5;21;01mbotocore\u001b[39;00m\u001b[38;5;21;01m.\u001b[39;00m\u001b[38;5;21;01mhttpsession\u001b[39;00m\n\u001b[1;32m     39\u001b[0m \u001b[38;5;66;03m# IP Regexes retained for backwards compatibility\u001b[39;00m\n",
      "File \u001b[0;32m~/mambaforge/lib/python3.10/site-packages/botocore/httpsession.py:22\u001b[0m\n\u001b[1;32m     21\u001b[0m \u001b[38;5;28;01mfrom\u001b[39;00m \u001b[38;5;21;01murllib3\u001b[39;00m\u001b[38;5;21;01m.\u001b[39;00m\u001b[38;5;21;01mutil\u001b[39;00m\u001b[38;5;21;01m.\u001b[39;00m\u001b[38;5;21;01mretry\u001b[39;00m \u001b[38;5;28;01mimport\u001b[39;00m Retry\n\u001b[0;32m---> 22\u001b[0m \u001b[38;5;28;01mfrom\u001b[39;00m \u001b[38;5;21;01murllib3\u001b[39;00m\u001b[38;5;21;01m.\u001b[39;00m\u001b[38;5;21;01mutil\u001b[39;00m\u001b[38;5;21;01m.\u001b[39;00m\u001b[38;5;21;01mssl_\u001b[39;00m \u001b[38;5;28;01mimport\u001b[39;00m (\n\u001b[1;32m     23\u001b[0m     DEFAULT_CIPHERS,\n\u001b[1;32m     24\u001b[0m     OP_NO_COMPRESSION,\n\u001b[1;32m     25\u001b[0m     PROTOCOL_TLS,\n\u001b[1;32m     26\u001b[0m     OP_NO_SSLv2,\n\u001b[1;32m     27\u001b[0m     OP_NO_SSLv3,\n\u001b[1;32m     28\u001b[0m     is_ipaddress,\n\u001b[1;32m     29\u001b[0m     ssl,\n\u001b[1;32m     30\u001b[0m )\n\u001b[1;32m     31\u001b[0m \u001b[38;5;28;01mfrom\u001b[39;00m \u001b[38;5;21;01murllib3\u001b[39;00m\u001b[38;5;21;01m.\u001b[39;00m\u001b[38;5;21;01mutil\u001b[39;00m\u001b[38;5;21;01m.\u001b[39;00m\u001b[38;5;21;01murl\u001b[39;00m \u001b[38;5;28;01mimport\u001b[39;00m parse_url\n",
      "\u001b[0;31mImportError\u001b[0m: cannot import name 'DEFAULT_CIPHERS' from 'urllib3.util.ssl_' (/home/tom/mambaforge/lib/python3.10/site-packages/urllib3/util/ssl_.py)",
      "\nDuring handling of the above exception, another exception occurred:\n",
      "\u001b[0;31mModuleNotFoundError\u001b[0m                       Traceback (most recent call last)",
      "Cell \u001b[0;32mIn[3], line 8\u001b[0m\n\u001b[1;32m      6\u001b[0m     \u001b[38;5;28;01mfrom\u001b[39;00m \u001b[38;5;21;01mSolomonIslandsDataMap\u001b[39;00m\u001b[38;5;21;01m.\u001b[39;00m\u001b[38;5;21;01mdash_components\u001b[39;00m \u001b[38;5;28;01mimport\u001b[39;00m \u001b[38;5;241m*\u001b[39m\n\u001b[1;32m      7\u001b[0m \u001b[38;5;28;01mexcept\u001b[39;00m: \n\u001b[0;32m----> 8\u001b[0m     \u001b[38;5;28;01mfrom\u001b[39;00m \u001b[38;5;21;01mload_data\u001b[39;00m \u001b[38;5;28;01mimport\u001b[39;00m \u001b[38;5;241m*\u001b[39m\n\u001b[1;32m      9\u001b[0m     \u001b[38;5;28;01mfrom\u001b[39;00m \u001b[38;5;21;01mdash_components\u001b[39;00m \u001b[38;5;28;01mimport\u001b[39;00m \u001b[38;5;241m*\u001b[39m\n\u001b[1;32m     10\u001b[0m \u001b[38;5;28;01mfrom\u001b[39;00m \u001b[38;5;21;01mfastcore\u001b[39;00m\u001b[38;5;21;01m.\u001b[39;00m\u001b[38;5;21;01mtest\u001b[39;00m \u001b[38;5;28;01mimport\u001b[39;00m \u001b[38;5;241m*\u001b[39m\n",
      "\u001b[0;31mModuleNotFoundError\u001b[0m: No module named 'load_data'"
     ]
    }
   ],
   "source": [
    "#| export\n",
    "from nbdev.showdoc import *\n",
    "# TODO work out how to get around below hack\n",
    "try:\n",
    "    from SolomonIslandsDataMap.load_data import *\n",
    "    from SolomonIslandsDataMap.dash_components import *\n",
    "except: \n",
    "    from load_data import *\n",
    "    from dash_components import *\n",
    "from fastcore.test import *\n",
    "from dash import dcc, html\n",
    "import dash_bootstrap_components as dbc \n",
    "import dash_mantine_components as dmc\n",
    "from dash_bootstrap_templates import load_figure_template\n",
    "from datetime import datetime"
   ]
  },
  {
   "cell_type": "markdown",
   "metadata": {},
   "source": [
    "## Load Data"
   ]
  },
  {
   "cell_type": "code",
   "execution_count": null,
   "metadata": {},
   "outputs": [],
   "source": [
    "#| export\n",
    "sol_geo = SolomonGeo.load_pickle(aws = True)\n",
    "\n",
    "load_figure_template(\"minty\")\n",
    "\n",
    "geos = sol_geo.geo_levels\n",
    "cen_vars = sol_geo.census_vars\n",
    "NUM_GEOS = len(geos)"
   ]
  },
  {
   "cell_type": "markdown",
   "metadata": {},
   "source": [
    "## Instatialise Data and Dash Components"
   ]
  },
  {
   "cell_type": "markdown",
   "metadata": {},
   "source": [
    "The plan for the data is to store it in a dcc.Store object. This is import as if the app scales, variables will only be global if they are stored in a store or another dash component. As an aside, dash uses this strategy so that each app is stateless and multiple different workers can be assigned to run processes. \n",
    "\n",
    "This stored data and additional components will then be refereced via imports used by each page so that each pages shares the common data and components and they will not need to be reloaded. Because the data is imported as a module by each page and app that uses them, it will be global and it will run before the rest of the code. \n",
    "\n",
    "`SolomonGeo.gen_stored()` can be used to reconstuct the `SolomonGeo` object from the dict format."
   ]
  },
  {
   "cell_type": "markdown",
   "metadata": {},
   "source": [
    "The  following components and data objects are created:\n",
    "\n",
    "- stored_data: The dict version of the dataset,\n",
    "- dropdown_location: Dropdown for location selection,\n",
    "- dropdown_geo: Dropdown for the type of geographical aggregation selected,\n",
    "- control_type: The type of data, Proportion or Total, \n",
    "- dd_var: Dropdown for the variable to be displayed, \n",
    "- dd_measure: Dropdown for the emasure to be displayed."
   ]
  },
  {
   "cell_type": "code",
   "execution_count": null,
   "metadata": {},
   "outputs": [],
   "source": [
    "#| export\n",
    "stored_data = sol_geo.get_store()"
   ]
  },
  {
   "cell_type": "markdown",
   "metadata": {},
   "source": [
    "## Setup and create the dropdowns"
   ]
  },
  {
   "cell_type": "code",
   "execution_count": null,
   "metadata": {},
   "outputs": [],
   "source": [
    "#| export\n",
    "dropdown_location = html.Div(children = gen_dd(sol_geo.locations[sol_geo.geo_levels[0]], \n",
    "                                                'locDropdown', clear = True, place_holder='Select Dropdown Location',\n",
    "                                                multi = True, \n",
    "                                                val = []), id = 'locationDiv')\n",
    "\n",
    "# TODO maybe ages should be multi select\n",
    "dd_age = html.Div(children = gen_dd(sol_geo.ages, 'age_dropdown'\n",
    "                                    ,val = sol_geo.ages\n",
    "                                    ,multi = True, clear = False))\n",
    "dd_years_pop = html.Div(children = gen_dd(sol_geo.pop_years, 'years_dropdown', val = [datetime.now().year], #multi = True \n",
    "                                      ))\n",
    "\n",
    "dropdown_geo = dmc.SegmentedControl(\n",
    "                            id=\"segmented_geo\",\n",
    "                            value=geos[0],\n",
    "                            data=geos,\n",
    "                             orientation=\"vertical\",\n",
    "                            color = 'gray',\n",
    "                            disabled = False, \n",
    "                            fullWidth = True,) # TODO consider redoing as theme is not consistent with this library\n",
    "# Can only access province for population\n",
    "control_type = dmc.SegmentedControl(\n",
    "                        id=\"segmented_type\",\n",
    "                        value=sol_geo.data_type[0],\n",
    "                        data=sol_geo.data_type,\n",
    "                        orientation=\"vertical\",\n",
    "                        color = 'gray',\n",
    "                        fullWidth = True,)\n",
    "\n",
    "dd_dataset = dmc.SegmentedControl(\n",
    "                        id=\"dataset_type\",\n",
    "                        value = \"Census\",\n",
    "                        data=['Census', 'Population Projections'],\n",
    "                        orientation=\"vertical\",\n",
    "                        color = 'gray',\n",
    "                        fullWidth = True,)\n",
    "\n",
    "dd_var = html.Div(children = gen_dd(list(sol_geo.census_vars.keys()), 'varDropdown', \n",
    "                                    val = list(sol_geo.census_vars.keys())[0],\n",
    "                                    height = 75), id = 'variableDiv')\n",
    "dd_measure = html.Div(children = gen_dd(sol_geo.census_vars['Key Statistics'], 'measureDropdown'\n",
    "                                    ,val = sol_geo.census_vars['Key Statistics'][0]\n",
    "                                      ), id = 'measureDiv')\n",
    "\n",
    "dd_var_pop = html.Div(children = gen_dd(list(sol_geo.population_vars.keys()), 'varDropdownPop', \n",
    "                                    val = list(sol_geo.population_vars.keys())[0],\n",
    "                                    height = 75))\n",
    "dd_measure_pop = html.Div(children = gen_dd(sol_geo.population_vars[list(sol_geo.population_vars.keys())[0]], 'measureDropdownPop'\n",
    "                                    ,val = 'Total'\n",
    "                                      ), id = 'measurePopDiv')"
   ]
  },
  {
   "cell_type": "code",
   "execution_count": null,
   "metadata": {},
   "outputs": [],
   "source": [
    "#| export\n",
    "data_grid = dbc.Container(\n",
    "                children = gen_census_grid(sol_geo, sol_geo.geo_levels[0], \"Key Statistics\", 'Total Households')\n",
    "                , id = 'dataGridContainer'\n",
    "            )\n",
    "grid_rows = dcc.Input(id=\"grid-rows\", type=\"number\", min=1, max=len(sol_geo.locations['Province']), value=10)\n",
    "download_button = dbc.Button(\"Download\", id=\"csv-button\", outline=True, n_clicks=0, color = \"primary\")"
   ]
  },
  {
   "cell_type": "markdown",
   "metadata": {},
   "source": [
    "### Date Slider\n",
    "Lets you pick a date for the population projection map"
   ]
  },
  {
   "cell_type": "code",
   "execution_count": null,
   "metadata": {},
   "outputs": [],
   "source": [
    "#| export\n",
    "year_slider = dcc.Slider(sol_geo.pop_years[0], sol_geo.pop_years[-1], 1,  value = datetime.now().year, marks=None, id = 'year_slider',\n",
    "                tooltip={\"placement\": \"top\", \"always_visible\": True},  included=False, dots = True, updatemode =  \"drag\"\n",
    "                )\n",
    "# Fake slider allows you to still have a hidden slider in the graph\n",
    "fake_slider = html.Div(dcc.Slider(sol_geo.pop_years[0], sol_geo.pop_years[-1], 1,  value = 2024, marks=None, id = 'year_slider',\n",
    "                tooltip={\"placement\": \"top\", \"always_visible\": True},  included=False, dots = True, updatemode =  \"drag\"\n",
    "                ), id = 'hiddenSlider', style = {'display': 'none'})"
   ]
  },
  {
   "cell_type": "markdown",
   "metadata": {},
   "source": [
    "## Create a sidebar\n",
    "The sidebar will house all of the relevant dropdowns"
   ]
  },
  {
   "cell_type": "code",
   "execution_count": null,
   "metadata": {},
   "outputs": [],
   "source": [
    "#| export\n",
    "# Note, for now I am not using a sidebar style as I do not want to fix the width\n",
    "# TODO fix the width of the sidebar, particular on different screens\n",
    "SIDEBAR_STYLE = {\n",
    "    \"position\": \"fixed\",\n",
    "    \"top\": 0,\n",
    "    \"left\": 0,\n",
    "    \"bottom\": 0,\n",
    "    \"width\": \"24rem\",\n",
    "    \"padding\": \"2rem 1rem\",\n",
    "    #\"background-color\": \"#f8f9fa\",\n",
    "}\n",
    "\n",
    "\n",
    "sidebar = html.Div(\n",
    "    [\n",
    "        html.H2(\"Filters\"),\n",
    "        html.Hr(),\n",
    "        dbc.Nav(\n",
    "            [\n",
    "                 html.Div(children = [\n",
    "                    html.P(\"Select Dataset\"), # TODO add a little info button here with link to geo explanation\n",
    "                    dd_dataset,\n",
    "                    html.Br(),],\n",
    "                    id = \"dataset-html\",\n",
    "                    style = {'display': 'none'},\n",
    "                ),\n",
    "                html.P(\"Geography\"), # TODO add a tooltip button here with link to geo explanation\n",
    "                dropdown_geo,\n",
    "                html.Br(),\n",
    "                html.Div(children = [\n",
    "                    html.P(\"Age Group\"), # TODO add a tooltip button here with link to geo explanation\n",
    "                    dd_age,\n",
    "                    html.Br(),],\n",
    "                    id = \"age-html\",\n",
    "                    style = {'display': 'none'},\n",
    "                ),\n",
    "                html.P(\"Location\"), # TODO add a little info button here with link to geo explanation\n",
    "                dropdown_location,\n",
    "                html.Br(),\n",
    "                html.Div(children = [\n",
    "                    html.P(\"Data\"), # TODO add a little info button here with link to geo explanation\n",
    "                    dd_var,\n",
    "                    dd_measure,\n",
    "                    html.Br(),],\n",
    "                    id = \"census-vars-html\",\n",
    "                    style = {'display': 'block'},\n",
    "                ),\n",
    "                html.Div(children = [\n",
    "                    html.P(\"Data\"), # TODO add a little info button here with link to geo explanation\n",
    "                    dd_var_pop,\n",
    "                    dd_measure_pop,\n",
    "                    html.Br(),],\n",
    "                    id = \"pop-vars-html\",\n",
    "                    style = {'display': 'none'},\n",
    "                ),\n",
    "                html.P(\"Data Type\"), \n",
    "                control_type,\n",
    "                html.Br(),\n",
    "                html.Div(children = [\n",
    "                    html.P(\"Dash Grid Rows\"), \n",
    "                    grid_rows, # TODO add an info button here explaining that it is only for the dash grid\n",
    "                    html.Br(),],\n",
    "                    id = \"rows-html\",\n",
    "                    style = {'display': 'none'},\n",
    "                ),\n",
    "\n",
    "            ],\n",
    "            vertical=True,\n",
    "            pills=True,\n",
    "        ),\n",
    "    ],\n",
    "    #style=SIDEBAR_STYLE,\n",
    ")"
   ]
  },
  {
   "cell_type": "markdown",
   "metadata": {},
   "source": [
    "## Intialise components specific to map_page\n",
    "It will create:\n",
    "\n",
    "- mytitle: title for the apge\n",
    "- map_graph: map object for the page\n",
    "- selectedBarGraph: bar graph object for the page"
   ]
  },
  {
   "cell_type": "code",
   "execution_count": null,
   "metadata": {},
   "outputs": [],
   "source": [
    "#| export\n",
    "mytitle = dcc.Markdown(children=\"## Loading Page\", id = 'title') # TODO This needs a default title\n",
    "map_graph = dcc.Graph(figure= define_map(sol_geo), # TODO work out how to not auto load this. \n",
    "                       selectedData=None, id = 'map')\n",
    "\n",
    "selectedBarGraph = dcc.Graph(figure = gen_bar_plot(sol_geo, sol_geo.geo_levels[0], \n",
    "                                               \"Key Statistics\", 'Total Households'),\n",
    "                            id = 'bar_graph')\n",
    "popPyramid = dcc.Graph(figure = gen_pyramid(sol_geo, 'Province', 2024), id = 'popPyramid')\n",
    "pyramidTitle = dcc.Markdown(children ='## Projected Population Pyramid for Solomon Islands', id = 'pyramidTitle')\n",
    "popKpi = dbc.Col(children = gen_kpi(sol_geo, datetime.now().year, 'Population', 'Total', sol_geo.ages), id = 'popKpi',\n",
    "                 width = 2, align = 'center')\n",
    "# testing"
   ]
  },
  {
   "cell_type": "markdown",
   "metadata": {},
   "source": [
    "## Intialise components specific to table_page\n",
    "It will create:\n",
    "\n",
    "- mytitle: title for the apge\n",
    "- data_table: A table for the page\n",
    "- grid_rows: An input to change the number of rows in the dash grid"
   ]
  },
  {
   "cell_type": "code",
   "execution_count": null,
   "metadata": {},
   "outputs": [],
   "source": [
    "#| hide\n",
    "import nbdev; nbdev.nbdev_export()"
   ]
  }
 ],
 "metadata": {
  "kernelspec": {
   "display_name": "python3",
   "language": "python",
   "name": "python3"
  }
 },
 "nbformat": 4,
 "nbformat_minor": 4
}
