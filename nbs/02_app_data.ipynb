{
 "cells": [
  {
   "cell_type": "markdown",
   "metadata": {},
   "source": [
    "# App Data\n",
    "\n",
    "> Class that loads and stores the data and sidebar for the dash app"
   ]
  },
  {
   "cell_type": "code",
   "execution_count": null,
   "metadata": {},
   "outputs": [],
   "source": [
    "#| default_exp app_data"
   ]
  },
  {
   "cell_type": "code",
   "execution_count": null,
   "metadata": {},
   "outputs": [],
   "source": [
    "# TODO think about what differentiates dash_components and app_data"
   ]
  },
  {
   "cell_type": "code",
   "execution_count": null,
   "metadata": {},
   "outputs": [],
   "source": [
    "#| export\n",
    "from nbdev.showdoc import *\n",
    "# TODO work out how to get around below hack\n",
    "try:\n",
    "    from SolomonIslandsDataMap.load_data import *\n",
    "    from SolomonIslandsDataMap.dash_components import *\n",
    "except: \n",
    "    from load_data import *\n",
    "    from dash_components import *\n",
    "from fastcore.test import *\n",
    "from dash import dcc, html\n",
    "import dash_bootstrap_components as dbc \n",
    "import dash_mantine_components as dmc\n",
    "from dash_bootstrap_templates import load_figure_template"
   ]
  },
  {
   "cell_type": "markdown",
   "metadata": {},
   "source": [
    "## Load Data"
   ]
  },
  {
   "cell_type": "code",
   "execution_count": null,
   "metadata": {},
   "outputs": [],
   "source": [
    "#| export\n",
    "sol_geo = SolomonGeo.load_pickle(aws = True)\n",
    "geo_df = sol_geo.geo_df\n",
    "\n",
    "load_figure_template(\"minty\")\n",
    "\n",
    "geos = sol_geo.geo_levels\n",
    "cen_vars = sol_geo.census_vars\n",
    "NUM_GEOS = len(geos)"
   ]
  },
  {
   "cell_type": "markdown",
   "metadata": {},
   "source": [
    "## Instatialise Data and Dash Components"
   ]
  },
  {
   "cell_type": "markdown",
   "metadata": {},
   "source": [
    "The plan for the data is to store it in a dcc.Store object. This is import as if the app scales, variables will only be global if they are stored in a store or another dash component. As an aside, dash uses this strategy so that each app is stateless and multiple different workers can be assigned to run processes. \n",
    "\n",
    "This stored data and additional components will then be refereced via imports used by each page so that each pages shares the common data and components and they will not need to be reloaded. Because the data is imported as a module by each page and app that uses them, it will be global and it will run before the rest of the code. \n",
    "\n",
    "`SolomonGeo.gen_stored()` can be used to reconstuct the `SolomonGeo` object from the dict format."
   ]
  },
  {
   "cell_type": "markdown",
   "metadata": {},
   "source": [
    "The  following components and data objects are created:\n",
    "\n",
    "- stored_data: The dict version of the dataset,\n",
    "- dropdown_location: Dropdown for location selection,\n",
    "- dropdown_geo: Dropdown for the type of geographical aggregation selected,\n",
    "- control_type: The type of data, Proportion or Total, \n",
    "- dd_var: Dropdown for the variable to be displayed, \n",
    "- dd_measure: Dropdown for the emasure to be displayed."
   ]
  },
  {
   "cell_type": "code",
   "execution_count": null,
   "metadata": {},
   "outputs": [],
   "source": [
    "#| export\n",
    "stored_data = sol_geo.get_store()"
   ]
  },
  {
   "cell_type": "markdown",
   "metadata": {},
   "source": [
    "## Setup and create the dropdowns"
   ]
  },
  {
   "cell_type": "code",
   "execution_count": null,
   "metadata": {},
   "outputs": [],
   "source": [
    "#| export\n",
    "dropdown_location = html.Div(children = gen_dd(sol_geo.locations[sol_geo.geo_levels[0]], \n",
    "                                                'locDropdown', clear = True, place_holder='Select Dropdown Location',\n",
    "                                                multi = True))\n",
    "\n",
    "dropdown_geo = dmc.SegmentedControl(\n",
    "                            id=\"segmented_geo\",\n",
    "                            value=geos[0],\n",
    "                            data=geos,\n",
    "                             orientation=\"vertical\",\n",
    "                            color = 'gray',\n",
    "                            fullWidth = True,) # TODO consider redoing as theme is not consistent with this library\n",
    "control_type = dmc.SegmentedControl(\n",
    "                        id=\"segmented_type\",\n",
    "                        value=sol_geo.data_type[0],\n",
    "                        data=sol_geo.data_type,\n",
    "                        orientation=\"vertical\",\n",
    "                        color = 'gray',\n",
    "                        fullWidth = True,)\n",
    "\n",
    "dd_var = html.Div(children = gen_dd(list(sol_geo.census_vars.keys()), 'varDropdown', \n",
    "                                    val = 'Key Statistics', height = 75))\n",
    "dd_measure = html.Div(children = gen_dd(sol_geo.census_vars['Key Statistics'], 'measureDropdown',\n",
    "                                      val = sol_geo.census_vars['Key Statistics'][0]))"
   ]
  },
  {
   "cell_type": "markdown",
   "metadata": {},
   "source": [
    "## Create a sidebar\n",
    "The sidebar will house all of the relevant dropdowns"
   ]
  },
  {
   "cell_type": "code",
   "execution_count": null,
   "metadata": {},
   "outputs": [],
   "source": [
    "#| export\n",
    "# Note, for now I am not using a sidebar style as I do not want to fix the width\n",
    "# TODO fix the width of the sidebar, particular on different screens\n",
    "SIDEBAR_STYLE = {\n",
    "    \"position\": \"fixed\",\n",
    "    \"top\": 0,\n",
    "    \"left\": 0,\n",
    "    \"bottom\": 0,\n",
    "    \"width\": \"24rem\",\n",
    "    \"padding\": \"2rem 1rem\",\n",
    "    #\"background-color\": \"#f8f9fa\",\n",
    "}\n",
    "\n",
    "\n",
    "sidebar = html.Div(\n",
    "    [\n",
    "        html.H2(\"Filters\"),\n",
    "        html.Hr(),\n",
    "        dbc.Nav(\n",
    "            [\n",
    "                html.P(\"Geography\"), # TODO add a tooltip button here with link to geo explanation\n",
    "                dropdown_geo,\n",
    "                html.Br(),\n",
    "                html.P(\"Location\"), # TODO add a little info button here with link to geo explanation\n",
    "                dropdown_location,\n",
    "                html.Br(),\n",
    "                html.P(\"Data\"), # TODO add a little info button here with link to geo explanation\n",
    "                dd_var,\n",
    "                dd_measure,\n",
    "                html.Br(),\n",
    "                html.P(\"Data Type\"), \n",
    "                control_type,\n",
    "                #html.Br(),\n",
    "                #dcc.Dropdown(id = 'three')\n",
    "\n",
    "            ],\n",
    "            vertical=True,\n",
    "            pills=True,\n",
    "        ),\n",
    "    ],\n",
    "    #style=SIDEBAR_STYLE,\n",
    ")\n"
   ]
  },
  {
   "cell_type": "markdown",
   "metadata": {},
   "source": [
    "## Intialise components specific to map_page\n",
    "It will create:\n",
    "\n",
    "- mytitle: title for the apge\n",
    "- map_graph: map object for the page\n",
    "- selectedBarGraph: bar graph object for the page"
   ]
  },
  {
   "cell_type": "code",
   "execution_count": null,
   "metadata": {},
   "outputs": [],
   "source": [
    "#| export\n",
    "# TODO - not sure whether this should be imported from app_data or built here.\n",
    "# if building it here causes it to reload each time, I should probably move it later\n",
    "# TODO downside of having it here is that it is a little more seperated.\n",
    "mytitle = dcc.Markdown(children=\"## \" + list(cen_vars.keys())[0] + \" by \" + geos[0]) # TODO This needs a default title\n",
    "map_graph = dcc.Graph(figure=define_map(sol_geo), selectedData=None,)\n",
    "\n",
    "selectedBarGraph = dcc.Graph(figure = gen_bar_plot(sol_geo, sol_geo.geo_levels[0], \n",
    "                                               \"Key Statistics\", 'Total Households'),\n",
    "                            id = 'bar_graph')"
   ]
  },
  {
   "cell_type": "markdown",
   "metadata": {},
   "source": [
    "## Intialise components specific to table_page\n",
    "It will create:\n",
    "\n",
    "- mytitle: title for the apge\n",
    "- data_table: A table for the page"
   ]
  },
  {
   "cell_type": "code",
   "execution_count": null,
   "metadata": {},
   "outputs": [
    {
     "ename": "AttributeError",
     "evalue": "type object 'AgGrid' has no attribute 'DataTable'",
     "output_type": "error",
     "traceback": [
      "\u001b[0;31m---------------------------------------------------------------------------\u001b[0m",
      "\u001b[0;31mAttributeError\u001b[0m                            Traceback (most recent call last)",
      "\u001b[1;32m/home/tom/git/SolomonIslandsDataMap/nbs/02_app_data.ipynb Cell 18\u001b[0m line \u001b[0;36m2\n\u001b[1;32m      <a href='vscode-notebook-cell://wsl%2Bubuntu/home/tom/git/SolomonIslandsDataMap/nbs/02_app_data.ipynb#X51sdnNjb2RlLXJlbW90ZQ%3D%3D?line=0'>1</a>\u001b[0m \u001b[39m#| export\u001b[39;00m\n\u001b[0;32m----> <a href='vscode-notebook-cell://wsl%2Bubuntu/home/tom/git/SolomonIslandsDataMap/nbs/02_app_data.ipynb#X51sdnNjb2RlLXJlbW90ZQ%3D%3D?line=1'>2</a>\u001b[0m data_table \u001b[39m=\u001b[39m gen_dash_grid(sol_geo, \u001b[39m'\u001b[39;49m\u001b[39mWard\u001b[39;49m\u001b[39m'\u001b[39;49m, \u001b[39m\"\u001b[39;49m\u001b[39mMain source of household income in last 12 months\u001b[39;49m\u001b[39m\"\u001b[39;49m, \u001b[39m'\u001b[39;49m\u001b[39mWages Salary\u001b[39;49m\u001b[39m'\u001b[39;49m)\n",
      "File \u001b[0;32m~/git/SolomonIslandsDataMap/SolomonIslandsDataMap/dash_components.py:122\u001b[0m, in \u001b[0;36mgen_dash_grid\u001b[0;34m(sol_geo, geo_filter, variable, measure, locations, type_filter)\u001b[0m\n\u001b[1;32m    119\u001b[0m df \u001b[39m=\u001b[39m sol_geo\u001b[39m.\u001b[39mget_df(geo_filter, variable, loc_filter \u001b[39m=\u001b[39m locations, type_filter \u001b[39m=\u001b[39m type_filter)\n\u001b[1;32m    120\u001b[0m df\u001b[39m.\u001b[39minsert(\u001b[39m0\u001b[39m, geo_filter, df\u001b[39m.\u001b[39mindex) \u001b[39m# Put geo locations at the front\u001b[39;00m\n\u001b[0;32m--> 122\u001b[0m dt \u001b[39m=\u001b[39m dag\u001b[39m.\u001b[39;49mAgGrid\u001b[39m.\u001b[39;49mDataTable(\n\u001b[1;32m    123\u001b[0m     \u001b[39mid\u001b[39m \u001b[39m=\u001b[39m \u001b[39m'\u001b[39m\u001b[39mgrid\u001b[39m\u001b[39m'\u001b[39m,\n\u001b[1;32m    124\u001b[0m     rowData \u001b[39m=\u001b[39m df\u001b[39m.\u001b[39mto_dict(\u001b[39m'\u001b[39m\u001b[39mrecords\u001b[39m\u001b[39m'\u001b[39m),\n\u001b[1;32m    125\u001b[0m     columnDefs \u001b[39m=\u001b[39m [{\u001b[39m\"\u001b[39m\u001b[39mfield\u001b[39m\u001b[39m\"\u001b[39m: i, \u001b[39m\"\u001b[39m\u001b[39mheaderName\u001b[39m\u001b[39m\"\u001b[39m: i, \u001b[39m\"\u001b[39m\u001b[39msortable\u001b[39m\u001b[39m\"\u001b[39m: \u001b[39mTrue\u001b[39;00m} \u001b[39mfor\u001b[39;00m i \u001b[39min\u001b[39;00m df\u001b[39m.\u001b[39mcolumns],\n\u001b[1;32m    126\u001b[0m )\n\u001b[1;32m    128\u001b[0m \u001b[39mreturn\u001b[39;00m dt\n",
      "\u001b[0;31mAttributeError\u001b[0m: type object 'AgGrid' has no attribute 'DataTable'"
     ]
    }
   ],
   "source": [
    "#| export\n",
    "data_grid = dbc.Col(children = [gen_dash_grid(sol_geo, 'Ward', \"Main source of household income in last 12 months\", 'Wages Salary')])"
   ]
  },
  {
   "cell_type": "code",
   "execution_count": null,
   "metadata": {},
   "outputs": [],
   "source": [
    "#| hide\n",
    "import nbdev; nbdev.nbdev_export()"
   ]
  },
  {
   "cell_type": "code",
   "execution_count": null,
   "metadata": {},
   "outputs": [],
   "source": []
  }
 ],
 "metadata": {
  "kernelspec": {
   "display_name": "python3",
   "language": "python",
   "name": "python3"
  }
 },
 "nbformat": 4,
 "nbformat_minor": 4
}
