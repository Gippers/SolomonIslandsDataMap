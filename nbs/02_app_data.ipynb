{
 "cells": [
  {
   "cell_type": "markdown",
   "metadata": {},
   "source": [
    "# App Data\n",
    "\n",
    "> Class that loads and stores the data and sidebar for the dash app"
   ]
  },
  {
   "cell_type": "code",
   "execution_count": null,
   "metadata": {},
   "outputs": [],
   "source": [
    "#| default_exp app_data"
   ]
  },
  {
   "cell_type": "code",
   "execution_count": null,
   "metadata": {},
   "outputs": [],
   "source": [
    "# TODO think about what differentiates dash_components and app_data"
   ]
  },
  {
   "cell_type": "code",
   "execution_count": null,
   "metadata": {},
   "outputs": [],
   "source": [
    "#| export\n",
    "from nbdev.showdoc import *\n",
    "# TODO work out how to get around below hack\n",
    "try:\n",
    "    from SolomonIslandsDataMap.load_data import *\n",
    "    from SolomonIslandsDataMap.dash_components import *\n",
    "except: \n",
    "    from load_data import *\n",
    "    from dash_components import *\n",
    "from fastcore.test import *\n",
    "from dash import dcc, html\n",
    "import dash_bootstrap_components as dbc \n",
    "import dash_mantine_components as dmc\n",
    "from dash_bootstrap_templates import load_figure_template"
   ]
  },
  {
   "cell_type": "markdown",
   "metadata": {},
   "source": [
    "## Load Data"
   ]
  },
  {
   "cell_type": "code",
   "execution_count": null,
   "metadata": {},
   "outputs": [],
   "source": [
    "#| export\n",
    "sol_geo = SolomonGeo.load_pickle(aws = True)\n",
    "\n",
    "load_figure_template(\"minty\")\n",
    "\n",
    "geos = sol_geo.geo_levels\n",
    "cen_vars = sol_geo.census_vars\n",
    "NUM_GEOS = len(geos)"
   ]
  },
  {
   "cell_type": "markdown",
   "metadata": {},
   "source": [
    "## Instatialise Data and Dash Components"
   ]
  },
  {
   "cell_type": "markdown",
   "metadata": {},
   "source": [
    "The plan for the data is to store it in a dcc.Store object. This is import as if the app scales, variables will only be global if they are stored in a store or another dash component. As an aside, dash uses this strategy so that each app is stateless and multiple different workers can be assigned to run processes. \n",
    "\n",
    "This stored data and additional components will then be refereced via imports used by each page so that each pages shares the common data and components and they will not need to be reloaded. Because the data is imported as a module by each page and app that uses them, it will be global and it will run before the rest of the code. \n",
    "\n",
    "`SolomonGeo.gen_stored()` can be used to reconstuct the `SolomonGeo` object from the dict format."
   ]
  },
  {
   "cell_type": "markdown",
   "metadata": {},
   "source": [
    "The  following components and data objects are created:\n",
    "\n",
    "- stored_data: The dict version of the dataset,\n",
    "- dropdown_location: Dropdown for location selection,\n",
    "- dropdown_geo: Dropdown for the type of geographical aggregation selected,\n",
    "- control_type: The type of data, Proportion or Total, \n",
    "- dd_var: Dropdown for the variable to be displayed, \n",
    "- dd_measure: Dropdown for the emasure to be displayed."
   ]
  },
  {
   "cell_type": "code",
   "execution_count": null,
   "metadata": {},
   "outputs": [],
   "source": [
    "#| export\n",
    "stored_data = sol_geo.get_store()"
   ]
  },
  {
   "cell_type": "code",
   "execution_count": null,
   "metadata": {},
   "outputs": [
    {
     "data": {
      "text/html": [
       "<div>\n",
       "<style scoped>\n",
       "    .dataframe tbody tr th:only-of-type {\n",
       "        vertical-align: middle;\n",
       "    }\n",
       "\n",
       "    .dataframe tbody tr th {\n",
       "        vertical-align: top;\n",
       "    }\n",
       "\n",
       "    .dataframe thead tr th {\n",
       "        text-align: left;\n",
       "    }\n",
       "\n",
       "    .dataframe thead tr:last-of-type th {\n",
       "        text-align: right;\n",
       "    }\n",
       "</style>\n",
       "<table border=\"1\" class=\"dataframe\">\n",
       "  <thead>\n",
       "    <tr>\n",
       "      <th></th>\n",
       "      <th></th>\n",
       "      <th>Population</th>\n",
       "    </tr>\n",
       "    <tr>\n",
       "      <th></th>\n",
       "      <th></th>\n",
       "      <th>Total</th>\n",
       "    </tr>\n",
       "    <tr>\n",
       "      <th>(core, year)</th>\n",
       "      <th>(core, location)</th>\n",
       "      <th></th>\n",
       "    </tr>\n",
       "  </thead>\n",
       "  <tbody>\n",
       "    <tr>\n",
       "      <th>2010</th>\n",
       "      <th>Choiseul</th>\n",
       "      <td>28480</td>\n",
       "    </tr>\n",
       "    <tr>\n",
       "      <th>2011</th>\n",
       "      <th>Choiseul</th>\n",
       "      <td>29292</td>\n",
       "    </tr>\n",
       "    <tr>\n",
       "      <th>2012</th>\n",
       "      <th>Choiseul</th>\n",
       "      <td>30108</td>\n",
       "    </tr>\n",
       "    <tr>\n",
       "      <th>2013</th>\n",
       "      <th>Choiseul</th>\n",
       "      <td>30917</td>\n",
       "    </tr>\n",
       "    <tr>\n",
       "      <th>2014</th>\n",
       "      <th>Choiseul</th>\n",
       "      <td>31733</td>\n",
       "    </tr>\n",
       "    <tr>\n",
       "      <th>...</th>\n",
       "      <th>...</th>\n",
       "      <td>...</td>\n",
       "    </tr>\n",
       "    <tr>\n",
       "      <th>2021</th>\n",
       "      <th>Honiara</th>\n",
       "      <td>92343</td>\n",
       "    </tr>\n",
       "    <tr>\n",
       "      <th>2022</th>\n",
       "      <th>Honiara</th>\n",
       "      <td>94207</td>\n",
       "    </tr>\n",
       "    <tr>\n",
       "      <th>2023</th>\n",
       "      <th>Honiara</th>\n",
       "      <td>96026</td>\n",
       "    </tr>\n",
       "    <tr>\n",
       "      <th>2024</th>\n",
       "      <th>Honiara</th>\n",
       "      <td>97801</td>\n",
       "    </tr>\n",
       "    <tr>\n",
       "      <th>2025</th>\n",
       "      <th>Honiara</th>\n",
       "      <td>99542</td>\n",
       "    </tr>\n",
       "  </tbody>\n",
       "</table>\n",
       "<p>160 rows × 1 columns</p>\n",
       "</div>"
      ],
      "text/plain": [
       "                              Population\n",
       "                                   Total\n",
       "(core, year) (core, location)           \n",
       "2010         Choiseul              28480\n",
       "2011         Choiseul              29292\n",
       "2012         Choiseul              30108\n",
       "2013         Choiseul              30917\n",
       "2014         Choiseul              31733\n",
       "...                                  ...\n",
       "2021         Honiara               92343\n",
       "2022         Honiara               94207\n",
       "2023         Honiara               96026\n",
       "2024         Honiara               97801\n",
       "2025         Honiara               99542\n",
       "\n",
       "[160 rows x 1 columns]"
      ]
     },
     "execution_count": null,
     "metadata": {},
     "output_type": "execute_result"
    }
   ],
   "source": [
    "all_years"
   ]
  },
  {
   "cell_type": "markdown",
   "metadata": {},
   "source": [
    "## Setup and create the dropdowns"
   ]
  },
  {
   "cell_type": "code",
   "execution_count": null,
   "metadata": {},
   "outputs": [],
   "source": []
  },
  {
   "cell_type": "code",
   "execution_count": null,
   "metadata": {},
   "outputs": [],
   "source": [
    "#| export\n",
    "dropdown_location = html.Div(children = gen_dd(sol_geo.locations[sol_geo.geo_levels[0]], \n",
    "                                                'locDropdown', clear = True, place_holder='Select Dropdown Location',\n",
    "                                                multi = True, \n",
    "                                                val = []))\n",
    "\n",
    "# TODO maybe ages should be multi select\n",
    "dd_age = html.Div(children = gen_dd(sol_geo.ages, 'age_dropdown'\n",
    "                                    ,val = sol_geo.ages\n",
    "                                    ,multi = True, clear = False))\n",
    "dd_years_pop = html.Div(children = gen_dd(sol_geo.pop_years, 'years_dropdown', val = [], #multi = True \n",
    "                                      ))\n",
    "\n",
    "dropdown_geo = dmc.SegmentedControl(\n",
    "                            id=\"segmented_geo\",\n",
    "                            value=\"\",\n",
    "                            data=geos,\n",
    "                             orientation=\"vertical\",\n",
    "                            color = 'gray',\n",
    "                            disabled = False, \n",
    "                            fullWidth = True,) # TODO consider redoing as theme is not consistent with this library\n",
    "# Can only access province for population\n",
    "control_type = dmc.SegmentedControl(\n",
    "                        id=\"segmented_type\",\n",
    "                        #value=sol_geo.data_type[0],\n",
    "                        value = \"\",\n",
    "                        data=sol_geo.data_type,\n",
    "                        orientation=\"vertical\",\n",
    "                        color = 'gray',\n",
    "                        fullWidth = True,)\n",
    "\n",
    "dd_var = html.Div(children = gen_dd(list(sol_geo.census_vars.keys()), 'varDropdown', \n",
    "                                    val = '',\n",
    "                                    height = 75))\n",
    "dd_measure = html.Div(children = gen_dd(sol_geo.census_vars['Key Statistics'], 'measureDropdown'\n",
    "                                    ,val = ''\n",
    "                                      ))\n",
    "\n",
    "dd_var_pop = html.Div(children = gen_dd(list(sol_geo.population_vars.keys()), 'varDropdownPop', \n",
    "                                    val = '',\n",
    "                                    height = 75))\n",
    "dd_measure_pop = html.Div(children = gen_dd(sol_geo.population_vars[list(sol_geo.population_vars.keys())[0]], 'measureDropdownPop'\n",
    "                                    ,val = ''\n",
    "                                      ))\n"
   ]
  },
  {
   "cell_type": "code",
   "execution_count": null,
   "metadata": {},
   "outputs": [],
   "source": [
    "#| export\n",
    "data_grid = dbc.Container(\n",
    "                children = gen_dash_grid(sol_geo, sol_geo.geo_levels[0], \"Key Statistics\", 'Total Households')\n",
    "            )\n",
    "grid_rows = dcc.Input(id=\"grid-rows\", type=\"number\", min=1, max=len(sol_geo.locations['Province']), value=10)\n",
    "download_button = dbc.Button(\"Download\", id=\"csv-button\", outline=True, n_clicks=0, color = \"primary\")"
   ]
  },
  {
   "cell_type": "markdown",
   "metadata": {},
   "source": [
    "### Date Slider\n",
    "Lets you pick a date for the population projection map"
   ]
  },
  {
   "cell_type": "code",
   "execution_count": null,
   "metadata": {},
   "outputs": [],
   "source": [
    "#| export\n",
    "year_slider = dcc.Slider(sol_geo.pop_years[0], sol_geo.pop_years[-1], 1, marks=None, id = 'year_slider',\n",
    "                tooltip={\"placement\": \"bottom\", \"always_visible\": True},  included=False, dots = True)"
   ]
  },
  {
   "cell_type": "markdown",
   "metadata": {},
   "source": [
    "## Create a sidebar\n",
    "The sidebar will house all of the relevant dropdowns"
   ]
  },
  {
   "cell_type": "code",
   "execution_count": null,
   "metadata": {},
   "outputs": [],
   "source": [
    "#| export\n",
    "# Note, for now I am not using a sidebar style as I do not want to fix the width\n",
    "# TODO fix the width of the sidebar, particular on different screens\n",
    "SIDEBAR_STYLE = {\n",
    "    \"position\": \"fixed\",\n",
    "    \"top\": 0,\n",
    "    \"left\": 0,\n",
    "    \"bottom\": 0,\n",
    "    \"width\": \"24rem\",\n",
    "    \"padding\": \"2rem 1rem\",\n",
    "    #\"background-color\": \"#f8f9fa\",\n",
    "}\n",
    "\n",
    "\n",
    "sidebar_census = html.Div(\n",
    "    [\n",
    "        html.H2(\"Filters\"),\n",
    "        html.Hr(),\n",
    "        dbc.Nav(\n",
    "            [\n",
    "                html.P(\"Geography\"), # TODO add a tooltip button here with link to geo explanation\n",
    "                dropdown_geo,\n",
    "                html.Br(),\n",
    "                html.P(\"Location\"), # TODO add a little info button here with link to geo explanation\n",
    "                dropdown_location,\n",
    "                html.Br(),\n",
    "                html.P(\"Data\"), # TODO add a little info button here with link to geo explanation\n",
    "                dd_var,\n",
    "                dd_measure,\n",
    "                html.Br(),\n",
    "                html.P(\"Data Type\"), \n",
    "                control_type,\n",
    "                html.Br(),\n",
    "\n",
    "            ],\n",
    "            vertical=True,\n",
    "            pills=True,\n",
    "        ),\n",
    "    ],\n",
    "    #style=SIDEBAR_STYLE,\n",
    ")\n",
    "\n",
    "\n",
    "sidebar_population = html.Div(\n",
    "    [\n",
    "        html.H2(\"Filters\"),\n",
    "        html.Hr(),\n",
    "        dbc.Nav(\n",
    "            [\n",
    "                html.P(\"Geography\"), # TODO add a tooltip button here with link to geo explanation\n",
    "                dropdown_geo,\n",
    "                html.Br(),\n",
    "                html.P(\"Age Group\"), # TODO add a tooltip button here with link to geo explanation\n",
    "                dd_age,\n",
    "                html.Br(),\n",
    "                html.P(\"Location\"), # TODO add a little info button here with link to geo explanation\n",
    "                dropdown_location,\n",
    "                html.Br(),\n",
    "                html.P(\"Data\"), # TODO add a little info button here with link to geo explanation\n",
    "                dd_var_pop,\n",
    "                dd_measure_pop,\n",
    "                html.Br(),\n",
    "                html.P(\"Data Type\"), \n",
    "                control_type,\n",
    "                html.Br(),\n",
    "\n",
    "            ],\n",
    "            vertical=True,\n",
    "            pills=True,\n",
    "        ),\n",
    "    ],\n",
    "    #style=SIDEBAR_STYLE,\n",
    ")\n",
    "\n",
    "sidebar_table = html.Div(\n",
    "    [\n",
    "        html.H2(\"Filters\"),\n",
    "        html.Hr(),\n",
    "        dbc.Nav(\n",
    "            [\n",
    "                html.P(\"Geography\"), # TODO add a tooltip button here with link to geo explanation\n",
    "                dropdown_geo,\n",
    "                html.Br(),\n",
    "                html.P(\"Location\"), # TODO add a little info button here with link to geo explanation\n",
    "                dropdown_location,\n",
    "                html.Br(),\n",
    "                html.P(\"Data\"), # TODO add a little info button here with link to geo explanation\n",
    "                dd_var,\n",
    "                dd_measure,\n",
    "                html.Br(),\n",
    "                html.P(\"Data Type\"), \n",
    "                control_type,\n",
    "                html.Br(),\n",
    "                html.P(\"Dash Grid Rows\"), \n",
    "                grid_rows, # TODO add an info button here explaining that it is only for the dash grid\n",
    "\n",
    "            ],\n",
    "            vertical=True,\n",
    "            pills=True,\n",
    "        ),\n",
    "    ],\n",
    "    #style=SIDEBAR_STYLE,\n",
    ")\n"
   ]
  },
  {
   "cell_type": "markdown",
   "metadata": {},
   "source": [
    "## Intialise components specific to map_page\n",
    "It will create:\n",
    "\n",
    "- mytitle: title for the apge\n",
    "- map_graph: map object for the page\n",
    "- selectedBarGraph: bar graph object for the page"
   ]
  },
  {
   "cell_type": "code",
   "execution_count": null,
   "metadata": {},
   "outputs": [],
   "source": [
    "#| export\n",
    "# TODO - not sure whether this should be imported from app_data or built here.\n",
    "# if building it here causes it to reload each time, I should probably move it later\n",
    "# TODO downside of having it here is that it is a little more seperated.\n",
    "mytitle = dcc.Markdown(children=\"## \" + list(cen_vars.keys())[0] + \" by \" + geos[0]) # TODO This needs a default title\n",
    "map_graph = dcc.Graph(figure=define_map(sol_geo), selectedData=None,)\n",
    "\n",
    "selectedBarGraph = dcc.Graph(figure = gen_bar_plot(sol_geo, sol_geo.geo_levels[0], \n",
    "                                               \"Key Statistics\", 'Total Households'),\n",
    "                            id = 'bar_graph')"
   ]
  },
  {
   "cell_type": "markdown",
   "metadata": {},
   "source": [
    "## Intialise components specific to table_page\n",
    "It will create:\n",
    "\n",
    "- mytitle: title for the apge\n",
    "- data_table: A table for the page\n",
    "- grid_rows: An input to change the number of rows in the dash grid"
   ]
  },
  {
   "cell_type": "code",
   "execution_count": null,
   "metadata": {},
   "outputs": [],
   "source": [
    "#| hide\n",
    "import nbdev; nbdev.nbdev_export()"
   ]
  }
 ],
 "metadata": {
  "kernelspec": {
   "display_name": "python3",
   "language": "python",
   "name": "python3"
  }
 },
 "nbformat": 4,
 "nbformat_minor": 4
}
