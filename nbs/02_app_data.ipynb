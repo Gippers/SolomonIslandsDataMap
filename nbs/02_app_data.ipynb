{
 "cells": [
  {
   "cell_type": "markdown",
   "metadata": {},
   "source": [
    "# App Data\n",
    "\n",
    "> Class that loads and stores the data and sidebar for the dash app"
   ]
  },
  {
   "cell_type": "code",
   "execution_count": null,
   "metadata": {},
   "outputs": [],
   "source": [
    "#| default_exp app_data"
   ]
  },
  {
   "cell_type": "code",
   "execution_count": null,
   "metadata": {},
   "outputs": [],
   "source": [
    "# TODO think about what differentiates dash_components and app_data"
   ]
  },
  {
   "cell_type": "code",
   "execution_count": null,
   "metadata": {},
   "outputs": [],
   "source": [
    "#| export\n",
    "from nbdev.showdoc import *\n",
    "# TODO work out how to get around below hack\n",
    "try:\n",
    "    from SolomonIslandsDataMap.load_data import *\n",
    "    from SolomonIslandsDataMap.dash_components import *\n",
    "except: \n",
    "    from load_data import *\n",
    "    from dash_components import *\n",
    "from fastcore.test import *\n",
    "from dash import dcc, html\n",
    "import dash_bootstrap_components as dbc \n",
    "import dash_mantine_components as dmc\n",
    "from dash_bootstrap_templates import load_figure_template"
   ]
  },
  {
   "cell_type": "markdown",
   "metadata": {},
   "source": [
    "## Load Data"
   ]
  },
  {
   "cell_type": "code",
   "execution_count": null,
   "metadata": {},
   "outputs": [],
   "source": [
    "#| export\n",
    "sol_geo = SolomonGeo.load_pickle(aws = True)\n",
    "\n",
    "load_figure_template(\"minty\")\n",
    "\n",
    "geos = sol_geo.geo_levels\n",
    "cen_vars = sol_geo.census_vars\n",
    "NUM_GEOS = len(geos)"
   ]
  },
  {
   "cell_type": "markdown",
   "metadata": {},
   "source": [
    "## Instatialise Data and Dash Components"
   ]
  },
  {
   "cell_type": "markdown",
   "metadata": {},
   "source": [
    "The plan for the data is to store it in a dcc.Store object. This is import as if the app scales, variables will only be global if they are stored in a store or another dash component. As an aside, dash uses this strategy so that each app is stateless and multiple different workers can be assigned to run processes. \n",
    "\n",
    "This stored data and additional components will then be refereced via imports used by each page so that each pages shares the common data and components and they will not need to be reloaded. Because the data is imported as a module by each page and app that uses them, it will be global and it will run before the rest of the code. \n",
    "\n",
    "`SolomonGeo.gen_stored()` can be used to reconstuct the `SolomonGeo` object from the dict format."
   ]
  },
  {
   "cell_type": "markdown",
   "metadata": {},
   "source": [
    "The  following components and data objects are created:\n",
    "\n",
    "- stored_data: The dict version of the dataset,\n",
    "- dropdown_location: Dropdown for location selection,\n",
    "- dropdown_geo: Dropdown for the type of geographical aggregation selected,\n",
    "- control_type: The type of data, Proportion or Total, \n",
    "- dd_var: Dropdown for the variable to be displayed, \n",
    "- dd_measure: Dropdown for the emasure to be displayed."
   ]
  },
  {
   "cell_type": "code",
   "execution_count": null,
   "metadata": {},
   "outputs": [],
   "source": [
    "#| export\n",
    "stored_data = sol_geo.get_store()"
   ]
  },
  {
   "cell_type": "markdown",
   "metadata": {},
   "source": [
    "## Setup and create the dropdowns"
   ]
  },
  {
   "cell_type": "code",
   "execution_count": null,
   "metadata": {},
   "outputs": [],
   "source": [
    "#| export\n",
    "dropdown_location = html.Div(children = gen_dd(sol_geo.locations[sol_geo.geo_levels[0]], \n",
    "                                                'locDropdown', clear = True, place_holder='Select Dropdown Location',\n",
    "                                                multi = True))\n",
    "\n",
    "dropdown_geo = dmc.SegmentedControl(\n",
    "                            id=\"segmented_geo\",\n",
    "                            value=geos[0],\n",
    "                            data=geos,\n",
    "                             orientation=\"vertical\",\n",
    "                            color = 'gray',\n",
    "                            fullWidth = True,) # TODO consider redoing as theme is not consistent with this library\n",
    "control_type = dmc.SegmentedControl(\n",
    "                        id=\"segmented_type\",\n",
    "                        value=sol_geo.data_type[0],\n",
    "                        data=sol_geo.data_type,\n",
    "                        orientation=\"vertical\",\n",
    "                        color = 'gray',\n",
    "                        fullWidth = True,)\n",
    "\n",
    "dd_var = html.Div(children = gen_dd(list(sol_geo.census_vars.keys()), 'varDropdown', \n",
    "                                    val = 'Key Statistics', height = 75))\n",
    "dd_measure = html.Div(children = gen_dd(sol_geo.census_vars['Key Statistics'], 'measureDropdown',\n",
    "                                      val = sol_geo.census_vars['Key Statistics'][0]))\n",
    "\n",
    "dd_test = html.Div(children = gen_dd(['1', '2'], \n",
    "                                                '1', clear = True, place_holder='Select Dropdown Location'))"
   ]
  },
  {
   "cell_type": "code",
   "execution_count": null,
   "metadata": {},
   "outputs": [],
   "source": [
    "#| export\n",
    "data_grid = dbc.Container(\n",
    "                children = gen_dash_grid(sol_geo, sol_geo.geo_levels[0], \"Key Statistics\", 'Total Households')\n",
    "            )\n",
    "grid_rows = dcc.Input(id=\"grid-rows\", type=\"number\", min=1, max=len(sol_geo.locations['Province']), value=10)\n",
    "download_button = dbc.Button(\"Download\", id=\"csv-button\", outline=True, n_clicks=0, color = \"primary\")"
   ]
  },
  {
   "cell_type": "markdown",
   "metadata": {},
   "source": [
    "## Create a sidebar\n",
    "The sidebar will house all of the relevant dropdowns"
   ]
  },
  {
   "cell_type": "code",
   "execution_count": null,
   "metadata": {},
   "outputs": [],
   "source": [
    "#| export\n",
    "# Note, for now I am not using a sidebar style as I do not want to fix the width\n",
    "# TODO fix the width of the sidebar, particular on different screens\n",
    "SIDEBAR_STYLE = {\n",
    "    \"position\": \"fixed\",\n",
    "    \"top\": 0,\n",
    "    \"left\": 0,\n",
    "    \"bottom\": 0,\n",
    "    \"width\": \"24rem\",\n",
    "    \"padding\": \"2rem 1rem\",\n",
    "    #\"background-color\": \"#f8f9fa\",\n",
    "}\n",
    "\n",
    "\n",
    "sidebar_census = html.Div(\n",
    "    [\n",
    "        html.H2(\"Filters\"),\n",
    "        html.Hr(),\n",
    "        dbc.Nav(\n",
    "            [\n",
    "                html.P(\"Geography\"), # TODO add a tooltip button here with link to geo explanation\n",
    "                dropdown_geo,\n",
    "                html.Br(),\n",
    "                html.P(\"Location\"), # TODO add a little info button here with link to geo explanation\n",
    "                dropdown_location,\n",
    "                html.Br(),\n",
    "                html.P(\"Data\"), # TODO add a little info button here with link to geo explanation\n",
    "                dd_var,\n",
    "                dd_measure,\n",
    "                html.Br(),\n",
    "                html.P(\"Data Type\"), \n",
    "                control_type,\n",
    "                html.Br(),\n",
    "\n",
    "            ],\n",
    "            vertical=True,\n",
    "            pills=True,\n",
    "        ),\n",
    "    ],\n",
    "    #style=SIDEBAR_STYLE,\n",
    ")\n",
    "\n",
    "sidebar_table = html.Div(\n",
    "    [\n",
    "        html.H2(\"Filters\"),\n",
    "        html.Hr(),\n",
    "        dbc.Nav(\n",
    "            [\n",
    "                html.P(\"Geography\"), # TODO add a tooltip button here with link to geo explanation\n",
    "                dropdown_geo,\n",
    "                html.Br(),\n",
    "                html.P(\"Location\"), # TODO add a little info button here with link to geo explanation\n",
    "                dropdown_location,\n",
    "                html.Br(),\n",
    "                html.P(\"Data\"), # TODO add a little info button here with link to geo explanation\n",
    "                dd_var,\n",
    "                dd_measure,\n",
    "                html.Br(),\n",
    "                html.P(\"Data Type\"), \n",
    "                control_type,\n",
    "                html.Br(),\n",
    "                html.P(\"Dash Grid Rows\"), \n",
    "                grid_rows, # TODO add an info button here explaining that it is only for the dash grid\n",
    "\n",
    "            ],\n",
    "            vertical=True,\n",
    "            pills=True,\n",
    "        ),\n",
    "    ],\n",
    "    #style=SIDEBAR_STYLE,\n",
    ")\n"
   ]
  },
  {
   "cell_type": "markdown",
   "metadata": {},
   "source": [
    "## Intialise components specific to map_page\n",
    "It will create:\n",
    "\n",
    "- mytitle: title for the apge\n",
    "- map_graph: map object for the page\n",
    "- selectedBarGraph: bar graph object for the page"
   ]
  },
  {
   "cell_type": "code",
   "execution_count": null,
   "metadata": {},
   "outputs": [],
   "source": [
    "#| export\n",
    "# TODO - not sure whether this should be imported from app_data or built here.\n",
    "# if building it here causes it to reload each time, I should probably move it later\n",
    "# TODO downside of having it here is that it is a little more seperated.\n",
    "mytitle = dcc.Markdown(children=\"## \" + list(cen_vars.keys())[0] + \" by \" + geos[0]) # TODO This needs a default title\n",
    "map_graph = dcc.Graph(figure=define_map(sol_geo), selectedData=None,)\n",
    "\n",
    "selectedBarGraph = dcc.Graph(figure = gen_bar_plot(sol_geo, sol_geo.geo_levels[0], \n",
    "                                               \"Key Statistics\", 'Total Households'),\n",
    "                            id = 'bar_graph')"
   ]
  },
  {
   "cell_type": "markdown",
   "metadata": {},
   "source": [
    "## Intialise components specific to table_page\n",
    "It will create:\n",
    "\n",
    "- mytitle: title for the apge\n",
    "- data_table: A table for the page\n",
    "- grid_rows: An input to change the number of rows in the dash grid"
   ]
  },
  {
   "cell_type": "code",
   "execution_count": null,
   "metadata": {},
   "outputs": [],
   "source": [
    "#| hide\n",
    "import nbdev; nbdev.nbdev_export()"
   ]
  }
 ],
 "metadata": {
  "kernelspec": {
   "display_name": "python3",
   "language": "python",
   "name": "python3"
  }
 },
 "nbformat": 4,
 "nbformat_minor": 4
}
