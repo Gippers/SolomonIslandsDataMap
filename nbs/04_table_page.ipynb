{
 "cells": [
  {
   "cell_type": "markdown",
   "metadata": {},
   "source": [
    "# Table Page\n",
    "\n",
    "> The page of the app that generates the data table view."
   ]
  },
  {
   "cell_type": "code",
   "execution_count": null,
   "metadata": {},
   "outputs": [],
   "source": [
    "#| default_exp pages/table_page"
   ]
  },
  {
   "cell_type": "code",
   "execution_count": null,
   "metadata": {},
   "outputs": [],
   "source": [
    "#| export\n",
    "# TODO minimise these imports a bit where possible\n",
    "from nbdev.showdoc import *\n",
    "# TODO work out how to get around below hack\n",
    "    from SolomonIslandsDataMap.dash_components import gen_data_table, gen_dd\n",
    "    from SolomonIslandsDataMap.app_data import mytitle, map_graph, selectedBarGraph, stored_data, dropdown_location \\\n",
    "        , control_type, dd_var, dd_measure, dropdown_geo\n",
    "    from SolomonIslandsDataMap.load_data import SolomonGeo\n",
    "except: \n",
    "    from dash_components import gen_data_table, gen_dd\n",
    "    from app_data import mytitle, map_graph, selectedBarGraph, stored_data, dropdown_location \\\n",
    "        , control_type, dd_var, dd_measure, dropdown_geo\n",
    "    from load_data import SolomonGeo\n",
    "from fastcore.test import *\n",
    "from dash import Dash, dcc, Output, Input, State, html, Patch, ctx, register_page  \n",
    "import dash_bootstrap_components as dbc    "
   ]
  },
  {
   "cell_type": "code",
   "execution_count": null,
   "metadata": {},
   "outputs": [],
   "source": [
    "#| export\n",
    "try:\n",
    "    register_page(__name__, \n",
    "                        path='/datatable',\n",
    "                        title='Data Table',\n",
    "                        name='Data Table')\n",
    "except:\n",
    "    pass"
   ]
  },
  {
   "cell_type": "code",
   "execution_count": null,
   "metadata": {},
   "outputs": [],
   "source": [
    "# TODO load the data and dropdown"
   ]
  },
  {
   "cell_type": "markdown",
   "metadata": {},
   "source": [
    "Setup some of  the key data contiaining objects"
   ]
  },
  {
   "cell_type": "code",
   "execution_count": null,
   "metadata": {},
   "outputs": [],
   "source": [
    "#| export\n",
    "mytitle = dcc.Markdown(children=\"## This is a placeholder test!!\") # TODO This needs a default title"
   ]
  },
  {
   "cell_type": "code",
   "execution_count": null,
   "metadata": {},
   "outputs": [],
   "source": [
    "#| export\n",
    "def layout():\n",
    "    return dbc.Container([mytitle,\n",
    "                        ])"
   ]
  },
  {
   "cell_type": "markdown",
   "metadata": {},
   "source": [
    "# Dash Callbacks\n",
    "Create interactivity in the data table"
   ]
  },
  {
   "cell_type": "code",
   "execution_count": null,
   "metadata": {},
   "outputs": [],
   "source": []
  },
  {
   "cell_type": "code",
   "execution_count": null,
   "metadata": {},
   "outputs": [],
   "source": [
    "#| hide\n",
    "import nbdev; nbdev.nbdev_export()"
   ]
  }
 ],
 "metadata": {},
 "nbformat": 4,
 "nbformat_minor": 2
}
