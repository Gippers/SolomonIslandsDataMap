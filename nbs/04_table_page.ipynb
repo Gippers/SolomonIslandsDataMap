{
 "cells": [
  {
   "cell_type": "markdown",
   "metadata": {},
   "source": [
    "# Table Page\n",
    "\n",
    "> The page of the app that generates the data table view."
   ]
  },
  {
   "cell_type": "code",
   "execution_count": null,
   "metadata": {},
   "outputs": [],
   "source": [
    "#| default_exp pages/table_page"
   ]
  },
  {
   "cell_type": "code",
   "execution_count": null,
   "metadata": {},
   "outputs": [],
   "source": [
    "#| export\n",
    "# TODO minimise these imports a bit where possible\n",
    "from nbdev.showdoc import *\n",
    "# TODO work out how to get around below hack\n",
    "try:\n",
    "    from SolomonIslandsDataMap.dash_components import *\n",
    "except: \n",
    "    from dash_components import *\n",
    "import plotly.express as px\n",
    "import plotly.graph_objects as go\n",
    "import plotly.io as pio # Unless this is used graphs will not be dynamic?\n",
    "import numpy as np\n",
    "from fastcore.test import *\n",
    "from dash import Dash, dcc, Output, Input, State, html, Patch, ctx, register_page  # pip install dash\n",
    "import dash_bootstrap_components as dbc    # pip install dash-bootstrap-components\n",
    "from dash_bootstrap_templates import load_figure_template\n",
    "import dash_mantine_components as dmc\n",
    "import os"
   ]
  },
  {
   "cell_type": "code",
   "execution_count": null,
   "metadata": {},
   "outputs": [],
   "source": [
    "#| export\n",
    "register_page(__name__, \n",
    "                    path='/datatable',\n",
    "                    title='Data Table',\n",
    "                    name='Data Table')"
   ]
  },
  {
   "cell_type": "code",
   "execution_count": null,
   "metadata": {},
   "outputs": [],
   "source": [
    "# TODO load the data and dropdown"
   ]
  },
  {
   "cell_type": "markdown",
   "metadata": {},
   "source": [
    "Setup some of  the key data contiaining objects"
   ]
  },
  {
   "cell_type": "code",
   "execution_count": null,
   "metadata": {},
   "outputs": [],
   "source": [
    "#| export\n",
    "mytitle = dcc.Markdown(children=\"## This is a placeholder test!!\") # TODO This needs a default title"
   ]
  },
  {
   "cell_type": "code",
   "execution_count": null,
   "metadata": {},
   "outputs": [],
   "source": [
    "#| export\n",
    "def layout():\n",
    "    return dbc.Container([mytitle,\n",
    "                        map_graph,\n",
    "                        selectedBarGraph,\n",
    "                        ])"
   ]
  },
  {
   "cell_type": "code",
   "execution_count": null,
   "metadata": {},
   "outputs": [],
   "source": [
    "#| hide\n",
    "import nbdev; nbdev.nbdev_export()"
   ]
  }
 ],
 "metadata": {},
 "nbformat": 4,
 "nbformat_minor": 2
}
