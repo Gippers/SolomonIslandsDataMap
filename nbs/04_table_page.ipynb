{
 "cells": [
  {
   "cell_type": "markdown",
   "metadata": {},
   "source": [
    "# Table Page\n",
    "\n",
    "> The page of the app that generates the data table view."
   ]
  },
  {
   "cell_type": "code",
   "execution_count": null,
   "metadata": {},
   "outputs": [],
   "source": [
    "#| default_exp pages/table_page"
   ]
  },
  {
   "cell_type": "code",
   "execution_count": null,
   "metadata": {},
   "outputs": [],
   "source": [
    "#| export\n",
    "# TODO minimise these imports a bit where possible\n",
    "from nbdev.showdoc import *\n",
    "# TODO work out how to get around below hack\n",
    "try:\n",
    "    from SolomonIslandsDataMap.dash_components import gen_dash_grid, gen_dd\n",
    "    from SolomonIslandsDataMap.app_data import mytitle, data_grid, stored_data, dropdown_location \\\n",
    "        , control_type, dd_var, dd_measure, dropdown_geo\n",
    "    from SolomonIslandsDataMap.load_data import SolomonGeo\n",
    "except: \n",
    "    from dash_components import gen_dash_grid, gen_dd\n",
    "    from app_data import mytitle, map_graph, selectedBarGraph, stored_data, dropdown_location \\\n",
    "        , control_type, dd_var, dd_measure, dropdown_geo\n",
    "    from load_data import SolomonGeo\n",
    "from fastcore.test import *\n",
    "from dash import Dash, dcc, callback, Output, Input, State, html, Patch, ctx, register_page  \n",
    "import dash_bootstrap_components as dbc    \n",
    "import dash_ag_grid as dag"
   ]
  },
  {
   "cell_type": "code",
   "execution_count": null,
   "metadata": {},
   "outputs": [],
   "source": [
    "#| export\n",
    "try:\n",
    "    register_page(__name__, \n",
    "                        path='/datatable',\n",
    "                        title='Data Table',\n",
    "                        name='Data Table')\n",
    "except:\n",
    "    pass"
   ]
  },
  {
   "cell_type": "code",
   "execution_count": null,
   "metadata": {},
   "outputs": [],
   "source": [
    "# TODO load the data and dropdown"
   ]
  },
  {
   "cell_type": "markdown",
   "metadata": {},
   "source": [
    "Setup some of  the key data contiaining objects"
   ]
  },
  {
   "cell_type": "code",
   "execution_count": null,
   "metadata": {},
   "outputs": [],
   "source": [
    "#| export\n",
    "mytitle = dcc.Markdown(children=\"## This is a placeholder test!!\") # TODO This needs a default title"
   ]
  },
  {
   "cell_type": "code",
   "execution_count": null,
   "metadata": {},
   "outputs": [],
   "source": [
    "#| export\n",
    "def layout():\n",
    "    return dbc.Container([mytitle,\n",
    "                          data_grid,\n",
    "                          stored_data,\n",
    "                        ])"
   ]
  },
  {
   "cell_type": "markdown",
   "metadata": {},
   "source": [
    "# Dash Callbacks\n",
    "Create interactivity in the data table"
   ]
  },
  {
   "cell_type": "markdown",
   "metadata": {},
   "source": [
    "## Update the data displayed in the table"
   ]
  },
  {
   "cell_type": "code",
   "execution_count": null,
   "metadata": {},
   "outputs": [],
   "source": [
    "#| export\n",
    "@callback(\n",
    "    Output(data_grid, 'children'),\n",
    "    Output(mytitle, 'children'),\n",
    "    Input(dropdown_geo, 'value'),\n",
    "    Input(control_type, 'value'),\n",
    "    Input('measureDropdown', 'value'),\n",
    "    Input('varDropdown', 'value'),\n",
    "    State('geo_df', 'data'),\n",
    "    allow_duplicate=True,\n",
    ")\n",
    "def update_grid(geo_input:str, # User input from the geography dropdown\n",
    "                     data_type:str, # User input of type of data\n",
    "                     measure:str, # A string contiaining the census variable and measure split by ':'\n",
    "                     variable:str, # The state of the variable dropdown\n",
    "                     dict_sol:dict, # The dataset in dictionary form\n",
    "              )->(dag.AgGrid, str): # Returns a graph object figure after being updated and the dynamic title\n",
    "    '''\n",
    "    Updates the focus census variable or geography dispalayed on the map\n",
    "    '''\n",
    "    # TODO add proportion functionality\n",
    "    # TODO add add an option for first call to be a default rebuild\n",
    "    # TODO decide wether to implment patch later\n",
    "    patched_figure = Patch()\n",
    "    button_clicked = ctx.triggered_id\n",
    "\n",
    "    sol_geo = SolomonGeo.gen_stored(dict_sol) # reload the data\n",
    "\n",
    "\n",
    "    if button_clicked == dropdown_location.id:\n",
    "        # Update disaplayed geography \n",
    "        # TODO in future update row highlighting\n",
    "        print(\"locationsleected\")\n",
    "        \n",
    "    elif button_clicked == control_type.id or button_clicked == dropdown_geo.id or button_clicked == variable.id:\n",
    "        # Rebuild the table given updated selection\n",
    "        patched_figure = gen_dash_grid(sol_geo, geo_input,variable, measure, type_filter = data_type)\n",
    "\n",
    "\n",
    "    elif button_clicked == 'measureDropdown':\n",
    "        # TODO in future update for column highlighting/ordering\n",
    "        print(\"measure selected\")\n",
    "        \n",
    "    # returned objects are assigned to the component property of the Output\n",
    "    # After updating fileter, we always reset map selection \n",
    "\n",
    "    return patched_figure, '##' + variable + \" by \" + geo_input"
   ]
  },
  {
   "cell_type": "code",
   "execution_count": null,
   "metadata": {},
   "outputs": [
    {
     "data": {
      "text/markdown": [
       "---\n",
       "\n",
       "### update_grid\n",
       "\n",
       ">      update_grid (geo_input:str, data_type:str, measure:str, variable:str,\n",
       ">                   dict_sol:dict)\n",
       "\n",
       "Updates the focus census variable or geography dispalayed on the map\n",
       "\n",
       "|    | **Type** | **Details** |\n",
       "| -- | -------- | ----------- |\n",
       "| geo_input | str | User input from the geography dropdown |\n",
       "| data_type | str | User input of type of data |\n",
       "| measure | str | A string contiaining the census variable and measure split by ':' |\n",
       "| variable | str | The state of the variable dropdown |\n",
       "| dict_sol | dict | The dataset in dictionary form |\n",
       "| **Returns** | **(<class 'dash_ag_grid.AgGrid.AgGrid'>, <class 'str'>)** | **Returns a graph object figure after being updated and the dynamic title** |"
      ],
      "text/plain": [
       "---\n",
       "\n",
       "### update_grid\n",
       "\n",
       ">      update_grid (geo_input:str, data_type:str, measure:str, variable:str,\n",
       ">                   dict_sol:dict)\n",
       "\n",
       "Updates the focus census variable or geography dispalayed on the map\n",
       "\n",
       "|    | **Type** | **Details** |\n",
       "| -- | -------- | ----------- |\n",
       "| geo_input | str | User input from the geography dropdown |\n",
       "| data_type | str | User input of type of data |\n",
       "| measure | str | A string contiaining the census variable and measure split by ':' |\n",
       "| variable | str | The state of the variable dropdown |\n",
       "| dict_sol | dict | The dataset in dictionary form |\n",
       "| **Returns** | **(<class 'dash_ag_grid.AgGrid.AgGrid'>, <class 'str'>)** | **Returns a graph object figure after being updated and the dynamic title** |"
      ]
     },
     "execution_count": null,
     "metadata": {},
     "output_type": "execute_result"
    }
   ],
   "source": [
    "show_doc(update_grid)"
   ]
  },
  {
   "cell_type": "code",
   "execution_count": null,
   "metadata": {},
   "outputs": [],
   "source": [
    "#| hide\n",
    "import nbdev; nbdev.nbdev_export()"
   ]
  }
 ],
 "metadata": {
  "kernelspec": {
   "display_name": "python3",
   "language": "python",
   "name": "python3"
  }
 },
 "nbformat": 4,
 "nbformat_minor": 2
}
