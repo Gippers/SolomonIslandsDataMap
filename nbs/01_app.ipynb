{
 "cells": [
  {
   "cell_type": "markdown",
   "metadata": {},
   "source": [
    "# Generate Map\n",
    "\n",
    "> Class that generates the data map"
   ]
  },
  {
   "cell_type": "code",
   "execution_count": null,
   "metadata": {},
   "outputs": [],
   "source": [
    "#| default_exp app"
   ]
  },
  {
   "cell_type": "code",
   "execution_count": null,
   "metadata": {},
   "outputs": [],
   "source": [
    "#| export\n",
    "from nbdev.showdoc import *\n",
    "# TODO work out how to get around below hack\n",
    "try:\n",
    "    from SolomonIslandsDataMap.load_data import *\n",
    "except: \n",
    "    from load_data import *\n",
    "import plotly.express as px\n",
    "import plotly.graph_objects as go\n",
    "import plotly.io as pio # Unless this is used graphs will not be dynamic?\n",
    "import json\n",
    "from git import Repo\n",
    "import pandas as pd\n",
    "import numpy as np\n",
    "from fastcore.test import *\n",
    "from dash import Dash, dcc, Output, Input, html, Patch  # pip install dash\n",
    "import dash_bootstrap_components as dbc    # pip install dash-bootstrap-components\n",
    "import random"
   ]
  },
  {
   "cell_type": "markdown",
   "metadata": {},
   "source": [
    "## Load Data"
   ]
  },
  {
   "cell_type": "code",
   "execution_count": null,
   "metadata": {},
   "outputs": [],
   "source": [
    "#| export\n",
    "sol_geo = SolomonGeo.load_pickle(\"/testData/\")\n",
    "geo_df = sol_geo.geo_df"
   ]
  },
  {
   "cell_type": "markdown",
   "metadata": {},
   "source": [
    "## Setup Dash Components"
   ]
  },
  {
   "cell_type": "code",
   "execution_count": null,
   "metadata": {},
   "outputs": [],
   "source": [
    "#| export\n",
    "# Build your components\n",
    "# FYI the best themes seem to be: [Darkly, Flatly, Minty, Slate]\n",
    "app = Dash(__name__, external_stylesheets=[dbc.themes.MINTY])\n",
    "server = app.server\n",
    "\n",
    "\n",
    "mytitle = dcc.Markdown(children='')\n",
    "mygraph = dcc.Graph(figure={})\n",
    "geos = geo_df.loc[:, 'agg'].unique()\n",
    "cen_vars = sol_geo.census_vars\n",
    "dropdown_geo = dcc.Dropdown(options=geos,\n",
    "                        value=geos[0],  # initial value displayed when page first loads\n",
    "                        clearable=False)\n",
    "dropdown_var = dcc.Dropdown(options=cen_vars,\n",
    "                        value=cen_vars[-1],  # initial value displayed when page first loads\n",
    "                        clearable=False)"
   ]
  },
  {
   "cell_type": "markdown",
   "metadata": {},
   "source": [
    "## Create a sidebar\n",
    "The sidebar will "
   ]
  },
  {
   "cell_type": "code",
   "execution_count": null,
   "metadata": {},
   "outputs": [],
   "source": [
    "#| export\n",
    "# Note, for now I am not using a sidebar style as I do not want to fix the width\n",
    "SIDEBAR_STYLE = {\n",
    "    \"position\": \"fixed\",\n",
    "    \"top\": 0,\n",
    "    \"left\": 0,\n",
    "    \"bottom\": 0,\n",
    "    \"width\": \"24rem\",\n",
    "    \"padding\": \"2rem 1rem\",\n",
    "    #\"background-color\": \"#f8f9fa\",\n",
    "}\n",
    "\n",
    "\n",
    "sidebar = html.Div(\n",
    "    [\n",
    "        html.H2(\"Filters\"),\n",
    "        html.Hr(),\n",
    "        dbc.Nav(\n",
    "            [\n",
    "                html.P(\"Geography\"), # TODO add a little info button here with link to geo explanation\n",
    "                dropdown_geo,\n",
    "                html.Br(),\n",
    "                html.P(\"Data\"), # TODO add a little info button here with link to geo explanation\n",
    "                dropdown_var,\n",
    "                #html.Br(),\n",
    "                #dcc.Dropdown(id = 'three')\n",
    "\n",
    "            ],\n",
    "            vertical=True,\n",
    "            pills=True,\n",
    "        ),\n",
    "    ],\n",
    "    #style=SIDEBAR_STYLE,\n",
    ")\n",
    "\n"
   ]
  },
  {
   "cell_type": "markdown",
   "metadata": {},
   "source": [
    "## Customize the Layout"
   ]
  },
  {
   "cell_type": "code",
   "execution_count": null,
   "metadata": {},
   "outputs": [],
   "source": [
    "#| export\n",
    "app.layout = dbc.Container([\n",
    "                dbc.Row([\n",
    "                    dbc.Col(),\n",
    "\n",
    "                    dbc.Col([mytitle],width = 9, style = {'margin-left':'7px','margin-top':'7px'})\n",
    "                    ]),\n",
    "                dbc.Row(\n",
    "                    [dbc.Col(sidebar, width = 3),\n",
    "                    dbc.Col([mygraph], width = 9)#, style = {'margin-left':'15px', 'margin-top':'7px', 'margin-right':'15px'})\n",
    "                     ], justify = 'center'),                    \n",
    "                ], fluid = True)"
   ]
  },
  {
   "cell_type": "markdown",
   "metadata": {},
   "source": [
    "## Build callbacks to create interaction"
   ]
  },
  {
   "cell_type": "markdown",
   "metadata": {},
   "source": [
    "#| export\n",
    "# Callback allows components to interact\n",
    "@app.callback(\n",
    "    Output(mygraph, 'figure'),\n",
    "    Output(mytitle, 'children'),\n",
    "    Input(dropdown_geo, 'value')\n",
    ")\n",
    "def update_graph(user_input):  # function arguments come from the component property of the Input\n",
    "    repo = Repo('.', search_parent_directories=True)\n",
    "    fig = go.Figure(go.Choroplethmapbox(\n",
    "        # TODO - may need to use old version of mapping to get visibility hack to work..\n",
    "                            geojson=sol_geo.get_geojson(agg_filter = user_input),\n",
    "                           locations=sol_geo.get_df(agg_filter = user_input).index,\n",
    "                           z = sol_geo.get_df(agg_filter = user_input)['total_pop'],\n",
    "                           colorscale=\"deep\",\n",
    "                            marker_line_width = 0,\n",
    "                            zauto=True))\n",
    "\n",
    "    fig.update_layout(mapbox_style = 'carto-positron',\n",
    "                        mapbox_zoom = 5,\n",
    "                        mapbox_center={\"lat\": -9.565766, \"lon\": 162.012453},\n",
    "    )\n",
    "    fig.update_layout(margin={\"r\":0,\"t\":0,\"l\":0,\"b\":0})\n",
    "    \n",
    "    # returned objects are assigned to the component property of the Output\n",
    "    return fig, '# Solomon Islands Data map - ' + user_input\n"
   ]
  },
  {
   "cell_type": "code",
   "execution_count": null,
   "metadata": {},
   "outputs": [],
   "source": [
    "#| export\n",
    "# Callback allows components to interact\n",
    "@app.callback(\n",
    "    Output(mygraph, 'figure'),\n",
    "    Output(mytitle, 'children'),\n",
    "    Input(dropdown_geo, 'value')\n",
    ")\n",
    "def update_graph(user_input):  # function arguments come from the component property of the Input\n",
    "    repo = Repo('.', search_parent_directories=True)\n",
    "    fig = px.choropleth_mapbox(sol_geo.get_df(agg_filter = user_input),\n",
    "        # TODO - may need to use old version of mapping to get visibility hack to work..\n",
    "                        #geojson = str(repo.working_tree_dir) + \"/assets/sol_geo.json\",\n",
    "                            geojson=sol_geo.get_geojson(agg_filter = user_input),\n",
    "                           locations=sol_geo.get_df(agg_filter = user_input).index,\n",
    "                               color = 'total_pop',\n",
    "                           color_continuous_scale=\"deep\",\n",
    "                               mapbox_style = 'carto-positron',\n",
    "                               opacity = 0.8,\n",
    "                        zoom = 5,\n",
    "                        center={\"lat\": -9.565766, \"lon\": 162.012453}\n",
    "\n",
    "    )\n",
    "    fig.update_layout(margin={\"r\":0,\"t\":0,\"l\":0,\"b\":0})\n",
    "    \n",
    "    # returned objects are assigned to the component property of the Output\n",
    "    return fig, '# Solomon Islands Data map - ' + user_input"
   ]
  },
  {
   "cell_type": "markdown",
   "metadata": {},
   "source": [
    "### Update the colour columns based on data selection"
   ]
  },
  {
   "cell_type": "code",
   "execution_count": null,
   "metadata": {},
   "outputs": [
    {
     "name": "stdout",
     "output_type": "stream",
     "text": [
      "<write-only dash.Patch object at []>\n"
     ]
    }
   ],
   "source": [
    "patched_figure = Patch()\n",
    "print(patched_figure)\n"
   ]
  },
  {
   "cell_type": "code",
   "execution_count": null,
   "metadata": {},
   "outputs": [],
   "source": [
    "# cols_dd dictates the aggregation that will be visable\n",
    "cols_dd = geo_df.loc[:, 'agg'].unique()\n",
    "# we need to add this to select which trace \n",
    "# is going to be visible\n",
    "visible = np.array(cols_dd)\n",
    "# define traces and buttons at once\n",
    "traces = []\n",
    "buttons = []\n",
    "# TODO if fails remember I changed visible from cols_dd\n",
    "for value in cols_dd:\n",
    "    traces.append(go.Choroplethmapbox(\n",
    "                            geojson=sol_geo.get_geojson(agg_filter = value),\n",
    "                           locations=sol_geo.get_df(agg_filter = value).index,\n",
    "                           z = sol_geo.get_df(agg_filter = value)['total_pop'],\n",
    "                           colorscale=\"deep\",\n",
    "                            marker_line_width = 0,\n",
    "                           #center={\"lat\": -8.665766, \"lon\": 159.012453},\n",
    "                            #range_color=(0, 15000), #TODO undo hardcoding\n",
    "                            zauto=True,\n",
    "            visible= True if value==cols_dd[0] else False))\n",
    "    \n",
    "    buttons.append(dict(label=value,\n",
    "                        method=\"update\",\n",
    "                        args=[{\"visible\":list(visible==value)},\n",
    "                              {\"title\":f\"<b>{value}</b>\"}]))\n",
    "updatemenus = [{\"active\":0,\n",
    "                \"buttons\":buttons,\n",
    "               }]\n",
    "\n",
    "# Show figure\n",
    "fig = go.Figure(data=traces,\n",
    "                layout=dict(updatemenus=updatemenus))\n",
    "# This is in order to get the first title displayed correctly\n",
    "first_title = cols_dd[0]\n",
    "fig.update_layout(title=f\"<b>{first_title}</b>\",\n",
    "                    title_x=0.5,\n",
    "                    mapbox_style = 'carto-positron',\n",
    "                    mapbox_zoom = 5,\n",
    "                    mapbox_center={\"lat\": -9.565766, \"lon\": 162.012453},\n",
    ")\n",
    "fig.update_layout(margin={\"r\":0,\"t\":0,\"l\":0,\"b\":0})\n",
    "##print(fig['data'][2])\n"
   ]
  },
  {
   "cell_type": "code",
   "execution_count": null,
   "metadata": {},
   "outputs": [],
   "source": [
    "# TODO the above demonstrates that we can stack mutliple graphs and toggle the visibility and potentially z value in order to \n",
    "# quickly update our graph"
   ]
  },
  {
   "cell_type": "code",
   "execution_count": null,
   "metadata": {},
   "outputs": [
    {
     "name": "stdout",
     "output_type": "stream",
     "text": [
      "[10062  3625  2613   232  6996  1197  4343 10151  1835  1636   356  9096\n",
      " 14103  1988  1574  1499  1738  1680  4931  2487  1699  1158  1746  1856\n",
      "  1140  1240  1306  2397  1782   541  2514  3305  3558  4290  1967  2833\n",
      "  7177  4023  5515  2238  2620  1995  4675  2477  1724  1783  2965  3610\n",
      "  3050  2661  3365  2278  1929  1148  1177  1988  2813   683  1240  1862\n",
      "   959  1404  2397  2163   949  1671  1907  1868  3226  2220  2026  1251\n",
      "  2586  1662  2118  1722  2019  1956  2128  1520  1617   367   378   362\n",
      "   239   569   117   144   265   350   250 14914  6510  3003  3118  3448\n",
      "  3201  1822  1716  2262  3696  1114  3159  1477  1418  3767  4044  3068\n",
      "  7438  4429 10532  4962  4515  5105  7639  6223  8830  2477  2749  5532\n",
      "  4333  2760 10070  4781  1885   866  5094  4195  3592  6031  3478  3574\n",
      "  3525  4988  4936  3043  2550  4650  1921  3747  5121  9634  1922  1396\n",
      "   700   249  1169  1294   860  1209  3009  2009  2344  2054  3928  4562\n",
      "  1625  2131  2488  3262  1547   811  1138   677  1658  2644  1305   353\n",
      "   880   793  1030  1166   947  2335  1264  1770  1843  1861   511  1168\n",
      "  1293  1285  1558]\n"
     ]
    }
   ],
   "source": [
    "fig = px.choropleth_mapbox(sol_geo.get_df(agg_filter = 'ward'),\n",
    "        # TODO - may need to use old version of mapping to get visibility hack to work..\n",
    "                        #geojson = str(repo.working_tree_dir) + \"/assets/sol_geo.json\",\n",
    "                            geojson=sol_geo.get_geojson(agg_filter = 'ward'),\n",
    "                           locations=sol_geo.get_df(agg_filter = 'ward').index,\n",
    "                               color = 'total_pop',\n",
    "                           color_continuous_scale=\"deep\",\n",
    "                               mapbox_style = 'carto-positron',\n",
    "                               opacity = 0.8,\n",
    "                        zoom = 5,\n",
    "                        center={\"lat\": -9.565766, \"lon\": 162.012453})\n",
    "print(fig[\"data\"][0][\"z\"])"
   ]
  },
  {
   "cell_type": "markdown",
   "metadata": {},
   "source": [
    "## Run the dash app"
   ]
  },
  {
   "cell_type": "code",
   "execution_count": null,
   "metadata": {},
   "outputs": [
    {
     "data": {
      "text/html": [
       "\n",
       "        <iframe\n",
       "            width=\"100%\"\n",
       "            height=\"650\"\n",
       "            src=\"http://127.0.0.1:8050/\"\n",
       "            frameborder=\"0\"\n",
       "            allowfullscreen\n",
       "            \n",
       "        ></iframe>\n",
       "        "
      ],
      "text/plain": [
       "<IPython.lib.display.IFrame>"
      ]
     },
     "metadata": {},
     "output_type": "display_data"
    }
   ],
   "source": [
    "#| export\n",
    "#| server\n",
    "# Run app\n",
    "if __name__=='__main__':\n",
    "    app.run_server(debug=True)"
   ]
  },
  {
   "cell_type": "code",
   "execution_count": null,
   "metadata": {},
   "outputs": [],
   "source": [
    "#| hide\n",
    "import nbdev; nbdev.nbdev_export()"
   ]
  },
  {
   "cell_type": "code",
   "execution_count": null,
   "metadata": {},
   "outputs": [],
   "source": []
  },
  {
   "cell_type": "code",
   "execution_count": null,
   "metadata": {},
   "outputs": [],
   "source": []
  }
 ],
 "metadata": {
  "kernelspec": {
   "display_name": "python3",
   "language": "python",
   "name": "python3"
  }
 },
 "nbformat": 4,
 "nbformat_minor": 4
}
