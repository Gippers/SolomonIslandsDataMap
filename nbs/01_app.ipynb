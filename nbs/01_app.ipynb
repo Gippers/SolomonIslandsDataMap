{
 "cells": [
  {
   "cell_type": "markdown",
   "metadata": {},
   "source": [
    "# Generate Map\n",
    "\n",
    "> Class that generates the data map"
   ]
  },
  {
   "cell_type": "code",
   "execution_count": null,
   "metadata": {},
   "outputs": [],
   "source": [
    "#| default_exp app"
   ]
  },
  {
   "cell_type": "code",
   "execution_count": null,
   "metadata": {},
   "outputs": [],
   "source": [
    "#| export\n",
    "from nbdev.showdoc import *\n",
    "# TODO work out how to get around below hack\n",
    "try:\n",
    "    from SolomonIslandsDataMap.load_data import *\n",
    "except: \n",
    "    from load_data import *\n",
    "import plotly.express as px\n",
    "import plotly.graph_objects as go\n",
    "import plotly.io as pio # Unless this is used graphs will not be dynamic?\n",
    "import json\n",
    "from git import Repo\n",
    "import pandas as pd\n",
    "import numpy as np\n",
    "from fastcore.test import *\n",
    "from dash import Dash, dcc, Output, Input, html, Patch, ctx  # pip install dash\n",
    "import dash_bootstrap_components as dbc    # pip install dash-bootstrap-components\n",
    "from dash_bootstrap_templates import load_figure_template\n",
    "import random"
   ]
  },
  {
   "cell_type": "markdown",
   "metadata": {},
   "source": [
    "## Load Data"
   ]
  },
  {
   "cell_type": "code",
   "execution_count": null,
   "metadata": {},
   "outputs": [],
   "source": [
    "#| export\n",
    "sol_geo = SolomonGeo.load_pickle(\"/testData/\")\n",
    "geo_df = sol_geo.geo_df"
   ]
  },
  {
   "cell_type": "code",
   "execution_count": null,
   "metadata": {},
   "outputs": [],
   "source": [
    "# TODO I should build figures and maps in another script\n",
    "\n",
    "#| export\n",
    "def define_map(sol_df:SolomonGeo # Solomon geo object containing census data to input into map\n",
    "                )->type(go.Figure()): # Returns a graph object figure\n",
    "    '''\n",
    "    Creates and returns the base cloreopath map\n",
    "    '''\n",
    "    # TODO - should I update this into a class with methods for updating\n",
    "    # the other things? Acutally maybe as another function if the update is done through patch\n",
    "    \n",
    "    # cols_dd dictates the aggregation that will be visable\n",
    "    cols_dd = sol_df.geo_levels\n",
    "    # we need to add this to select which trace \n",
    "    # is going to be visible\n",
    "    visible = np.array(cols_dd)\n",
    "    # define traces and buttons at once\n",
    "    traces = []\n",
    "    buttons = []\n",
    "    # TODO if fails remember I changed visible from cols_dd\n",
    "    for value in cols_dd:\n",
    "        traces.append(go.Choroplethmapbox(\n",
    "                                geojson=sol_df.get_geojson(agg_filter = value),\n",
    "                               locations=sol_df.get_df(agg_filter = value).index,\n",
    "                               z = sol_df.get_df(agg_filter = value)['total_pop'],\n",
    "                               colorscale=\"deep\",\n",
    "                                marker_line_width = 0.5,\n",
    "                                zauto=True,\n",
    "                visible= True if value==cols_dd[0] else False))\n",
    "        \n",
    "    # Show figure\n",
    "    fig = go.Figure(data=traces)\n",
    "    # This is in order to get the first title displayed correctly\n",
    "    first_title = cols_dd[0]\n",
    "    fig.update_layout(title=f\"<b>{first_title}</b>\",\n",
    "                        title_x=0.5,\n",
    "                        mapbox_style = 'carto-positron',\n",
    "                        mapbox_zoom = 5,\n",
    "                        mapbox_center={\"lat\": -9.565766, \"lon\": 162.012453},\n",
    "    )\n",
    "    fig.update_layout(margin={\"r\":0,\"t\":0,\"l\":0,\"b\":0})\n",
    "    \n",
    "    return fig\n"
   ]
  },
  {
   "cell_type": "code",
   "execution_count": null,
   "metadata": {},
   "outputs": [
    {
     "data": {
      "text/markdown": [
       "---\n",
       "\n",
       "### define_map\n",
       "\n",
       ">      define_map (sol_df:SolomonIslandsDataMap.load_data.SolomonGeo)\n",
       "\n",
       "Creates and returns the base cloreopath map\n",
       "\n",
       "|    | **Type** | **Details** |\n",
       "| -- | -------- | ----------- |\n",
       "| sol_df | SolomonGeo | Solomon geo object containing census data to input into map |\n",
       "| **Returns** | **Figure** | **Returns a graph object figure** |"
      ],
      "text/plain": [
       "---\n",
       "\n",
       "### define_map\n",
       "\n",
       ">      define_map (sol_df:SolomonIslandsDataMap.load_data.SolomonGeo)\n",
       "\n",
       "Creates and returns the base cloreopath map\n",
       "\n",
       "|    | **Type** | **Details** |\n",
       "| -- | -------- | ----------- |\n",
       "| sol_df | SolomonGeo | Solomon geo object containing census data to input into map |\n",
       "| **Returns** | **Figure** | **Returns a graph object figure** |"
      ]
     },
     "execution_count": null,
     "metadata": {},
     "output_type": "execute_result"
    }
   ],
   "source": [
    "show_doc(define_map)"
   ]
  },
  {
   "cell_type": "code",
   "execution_count": null,
   "metadata": {},
   "outputs": [],
   "source": [
    "fig = define_map(sol_geo)"
   ]
  },
  {
   "cell_type": "code",
   "execution_count": null,
   "metadata": {},
   "outputs": [
    {
     "data": {
      "text/plain": [
       "True"
      ]
     },
     "execution_count": null,
     "metadata": {},
     "output_type": "execute_result"
    }
   ],
   "source": [
    "fig['data'][0]['visible']"
   ]
  },
  {
   "cell_type": "markdown",
   "metadata": {},
   "source": [
    "## Setup Dash Components"
   ]
  },
  {
   "cell_type": "code",
   "execution_count": null,
   "metadata": {},
   "outputs": [],
   "source": [
    "#| export\n",
    "# Build your components\n",
    "# FYI the best themes seem to be: [Darkly, Flatly, Minty, Slate, JOURNAL]\n",
    "app = Dash(__name__, external_stylesheets=[dbc.themes.MINTY])\n",
    "server = app.server\n",
    "load_figure_template(\"minty\")\n",
    "\n",
    "mytitle = dcc.Markdown(children='')\n",
    "mygraph = dcc.Graph(figure=define_map(sol_geo))\n",
    "geos = geo_df.loc[:, 'agg'].unique()\n",
    "cen_vars = sol_geo.census_vars\n",
    "#dropdown_geo = dbc.Dropdown(options=geos,\n",
    "#                        value=geos[0],  # initial value displayed when page first loads\n",
    "#                        clearable=False)\n",
    "button_group = html.Div(\n",
    "    [\n",
    "        dbc.RadioItems(\n",
    "            id=\"radio_geo\",\n",
    "            className=\"btn-group\",\n",
    "            inputClassName=\"btn-check\",\n",
    "            labelClassName=\"btn btn-outline-primary\",\n",
    "            labelCheckedClassName=\"active\",\n",
    "            \n",
    "            options=[\n",
    "                {\"label\": geos[0], \"value\": geos[0]},\n",
    "                {\"label\": geos[1], \"value\": geos[1]},\n",
    "                {\"label\": geos[2], \"value\": geos[2]},\n",
    "            ],\n",
    "            value=geos[0],\n",
    "            #vertical = True, # TODO work this out\n",
    "        ),\n",
    "        html.Div(id=\"output\"),\n",
    "        \n",
    "    ],\n",
    "    className=\"radio-group\",\n",
    "    \n",
    ")\n",
    "dropdown_var = dcc.Dropdown(options=cen_vars,\n",
    "                        value=cen_vars[-1],  # initial value displayed when page first loads\n",
    "                        clearable=False)\n",
    "\n",
    "navbar = dbc.NavbarSimple(\n",
    "    children=[\n",
    "        dbc.NavItem(dbc.NavLink(\"Census Data\", href=\"#\")),\n",
    "        dbc.DropdownMenu(\n",
    "            children=[\n",
    "                dbc.DropdownMenuItem(\"More pages coming soon\", header=True),\n",
    "                dbc.DropdownMenuItem(\"Population Projection\", href=\"#\"),\n",
    "            ],\n",
    "            nav=True,\n",
    "            in_navbar=True,\n",
    "            label=\"More\",\n",
    "        ),\n",
    "    ],\n",
    "    brand=\"Solomon Islands Data Map\",\n",
    "    brand_href=\"#\",\n",
    "    color=\"primary\",\n",
    "    dark=True,\n",
    ")"
   ]
  },
  {
   "cell_type": "code",
   "execution_count": null,
   "metadata": {},
   "outputs": [
    {
     "data": {
      "text/plain": [
       "'ward'"
      ]
     },
     "execution_count": null,
     "metadata": {},
     "output_type": "execute_result"
    }
   ],
   "source": [
    "geos[0]"
   ]
  },
  {
   "cell_type": "markdown",
   "metadata": {},
   "source": [
    "Create a starting map"
   ]
  },
  {
   "cell_type": "markdown",
   "metadata": {},
   "source": [
    "## Create a sidebar\n",
    "The sidebar will "
   ]
  },
  {
   "cell_type": "code",
   "execution_count": null,
   "metadata": {},
   "outputs": [],
   "source": [
    "#| export\n",
    "# Note, for now I am not using a sidebar style as I do not want to fix the width\n",
    "SIDEBAR_STYLE = {\n",
    "    \"position\": \"fixed\",\n",
    "    \"top\": 0,\n",
    "    \"left\": 0,\n",
    "    \"bottom\": 0,\n",
    "    \"width\": \"24rem\",\n",
    "    \"padding\": \"2rem 1rem\",\n",
    "    #\"background-color\": \"#f8f9fa\",\n",
    "}\n",
    "\n",
    "\n",
    "sidebar = html.Div(\n",
    "    [\n",
    "        html.H2(\"Filters\"),\n",
    "        html.Hr(),\n",
    "        dbc.Nav(\n",
    "            [\n",
    "                html.P(\"Geography\"), # TODO add a little info button here with link to geo explanation\n",
    "                button_group,\n",
    "                html.Br(),\n",
    "                html.P(\"Data\"), # TODO add a little info button here with link to geo explanation\n",
    "                dropdown_var,\n",
    "                #html.Br(),\n",
    "                #dcc.Dropdown(id = 'three')\n",
    "\n",
    "            ],\n",
    "            vertical=True,\n",
    "            pills=True,\n",
    "        ),\n",
    "    ],\n",
    "    #style=SIDEBAR_STYLE,\n",
    ")\n",
    "\n"
   ]
  },
  {
   "cell_type": "markdown",
   "metadata": {},
   "source": [
    "## Customize the Layout"
   ]
  },
  {
   "cell_type": "code",
   "execution_count": null,
   "metadata": {},
   "outputs": [],
   "source": [
    "#| export\n",
    "app.layout = dbc.Container([\n",
    "                dbc.Row([\n",
    "                    navbar\n",
    "                ]),\n",
    "                dbc.Row([\n",
    "                    dbc.Col([{}], width = 3),\n",
    "\n",
    "                    dbc.Col([mytitle],width = 9, style = {'margin-left':'7px','margin-top':'7px'})\n",
    "                    ]),\n",
    "                dbc.Row(\n",
    "                    [dbc.Col(sidebar, width = 3),\n",
    "                    dbc.Col([mygraph,\n",
    "                            dbc.Row(\n",
    "                                []\n",
    "                            )\n",
    "                            ], width = 9)#, style = {'margin-left':'15px', 'margin-top':'7px', 'margin-right':'15px'})\n",
    "                     ], justify = 'center'),                    \n",
    "                ], fluid = True)"
   ]
  },
  {
   "cell_type": "markdown",
   "metadata": {},
   "source": [
    "## Build callbacks to create interaction"
   ]
  },
  {
   "cell_type": "code",
   "execution_count": null,
   "metadata": {},
   "outputs": [],
   "source": [
    "#| export\n",
    "# Callback allows components to interact\n",
    "\n",
    "# TODO put title in it's own callback\n",
    "@app.callback(\n",
    "    Output(mygraph, 'figure'),\n",
    "    Output(mytitle, 'children'),\n",
    "    Input(button_group, 'value'),\n",
    "    Input(dropdown_var, 'value'),\n",
    "    allow_duplicate=True,\n",
    "    prevent_initial_call=True\n",
    ")\n",
    "def update_geography(geo_input:str, # User input from the geography dropdown\n",
    "                     census_var:str # User input for the census variable\n",
    "              )->(type(go.Figure()), str): # Returns a graph object figure after being updated and the dynamic title\n",
    "    '''\n",
    "    Updates the focus census variable or geography dispalayed on the map\n",
    "    '''\n",
    "    patched_figure = Patch()\n",
    "    button_clicked = ctx.triggered_id\n",
    "\n",
    "    if button_clicked == radio_geo.id:\n",
    "        # Update disaplayed geography based on \n",
    "        for geo in sol_geo.geo_levels:\n",
    "            i = np.where(sol_geo.geo_levels == geo)[0][0] # Tracks the trace number\n",
    "            patched_figure['data'][i]['visible'] = geo_input == geo\n",
    "            print(geo_input == geo)\n",
    "    elif button_clicked == dropdown_var.id:\n",
    "        # Update the z values in map to the data for the requested\n",
    "        # census variable\n",
    "        \n",
    "        for geo in sol_geo.geo_levels:\n",
    "        # Ar updates the z value ie. data disaplyed each time\n",
    "        # TODO this is fairly inefficient, as we are processing each time\n",
    "        # Maybe faster framework like polars could help? or caching but would require a lot of caching\n",
    "            i = np.where(sol_geo.geo_levels == geo)[0][0] # Tracks the trace number\n",
    "            ar = sol_geo.get_df(agg_filter = geo, var_filter = census_var).values\n",
    "            ar = ar.reshape((ar.shape[0],))\n",
    "            patched_figure['data'][i]['z'] = ar\n",
    "\n",
    "    # returned objects are assigned to the component property of the Output\n",
    "    return patched_figure, '# Solomon Islands Data map - ' + geo_input"
   ]
  },
  {
   "cell_type": "code",
   "execution_count": null,
   "metadata": {},
   "outputs": [
    {
     "data": {
      "text/markdown": [
       "---\n",
       "\n",
       "[source](https://github.com/Gippers/SolomonIslandsDataMap/blob/main/SolomonIslandsDataMap/app.py#L160){target=\"_blank\" style=\"float:right; font-size:smaller\"}\n",
       "\n",
       "### update_geography\n",
       "\n",
       ">      update_geography (geo_input:str, census_var:str)\n",
       "\n",
       "Updates the focus census variable or geography dispalayed on the map\n",
       "\n",
       "|    | **Type** | **Details** |\n",
       "| -- | -------- | ----------- |\n",
       "| geo_input | str | User input from the geography dropdown |\n",
       "| census_var | str | User input for the census variable |\n",
       "| **Returns** | **(<class 'plotly.graph_objs._figure.Figure'>, <class 'str'>)** | **Returns a graph object figure after being updated and the dynamic title** |"
      ],
      "text/plain": [
       "---\n",
       "\n",
       "[source](https://github.com/Gippers/SolomonIslandsDataMap/blob/main/SolomonIslandsDataMap/app.py#L160){target=\"_blank\" style=\"float:right; font-size:smaller\"}\n",
       "\n",
       "### update_geography\n",
       "\n",
       ">      update_geography (geo_input:str, census_var:str)\n",
       "\n",
       "Updates the focus census variable or geography dispalayed on the map\n",
       "\n",
       "|    | **Type** | **Details** |\n",
       "| -- | -------- | ----------- |\n",
       "| geo_input | str | User input from the geography dropdown |\n",
       "| census_var | str | User input for the census variable |\n",
       "| **Returns** | **(<class 'plotly.graph_objs._figure.Figure'>, <class 'str'>)** | **Returns a graph object figure after being updated and the dynamic title** |"
      ]
     },
     "execution_count": null,
     "metadata": {},
     "output_type": "execute_result"
    }
   ],
   "source": [
    "show_doc(update_geography)"
   ]
  },
  {
   "cell_type": "code",
   "execution_count": null,
   "metadata": {},
   "outputs": [
    {
     "data": {
      "text/plain": [
       "(10,)"
      ]
     },
     "execution_count": null,
     "metadata": {},
     "output_type": "execute_result"
    }
   ],
   "source": [
    "fig['data'][2]['z'].shape"
   ]
  },
  {
   "cell_type": "code",
   "execution_count": null,
   "metadata": {},
   "outputs": [],
   "source": [
    "# TODO Do the title in one callback that listens for changes to either of them"
   ]
  },
  {
   "cell_type": "code",
   "execution_count": null,
   "metadata": {},
   "outputs": [
    {
     "data": {
      "text/plain": [
       "(10,)"
      ]
     },
     "execution_count": null,
     "metadata": {},
     "output_type": "execute_result"
    }
   ],
   "source": [
    "ar = sol_geo.get_df(agg_filter = 'province', var_filter = 'female_pop').values\n",
    "ar = ar.reshape((ar.shape[0],))\n",
    "ar.shape"
   ]
  },
  {
   "cell_type": "code",
   "execution_count": null,
   "metadata": {},
   "outputs": [
    {
     "name": "stdout",
     "output_type": "stream",
     "text": [
      "False\n",
      "True\n",
      "False\n"
     ]
    }
   ],
   "source": [
    "#patched_figure = Patch()\n",
    "user_input = 'constituency'\n",
    "for geo in sol_geo.geo_levels:\n",
    "    i = np.where(sol_geo.geo_levels == geo)[0][0] # Tracks the trace number\n",
    "    fig['data'][i]['visible'] = user_input == geo\n",
    "    print(user_input == geo)"
   ]
  },
  {
   "cell_type": "code",
   "execution_count": null,
   "metadata": {},
   "outputs": [],
   "source": []
  },
  {
   "cell_type": "code",
   "execution_count": null,
   "metadata": {},
   "outputs": [],
   "source": [
    "# TODO undo hardcoding\n",
    "test_eq(fig['data'][0]['visible'], False)\n",
    "test_eq(fig['data'][1]['visible'], True)\n",
    "test_eq(fig['data'][2]['visible'], False)"
   ]
  },
  {
   "cell_type": "markdown",
   "metadata": {},
   "source": [
    "### Update the colour columns based on data selection"
   ]
  },
  {
   "cell_type": "code",
   "execution_count": null,
   "metadata": {},
   "outputs": [],
   "source": [
    "# TODO the above demonstrates that we can stack mutliple graphs and toggle the visibility and potentially z value in order to \n",
    "# quickly update our graph"
   ]
  },
  {
   "cell_type": "markdown",
   "metadata": {},
   "source": [
    "fig = px.choropleth_mapbox(sol_geo.get_df(agg_filter = 'ward'),\n",
    "        # TODO - may need to use old version of mapping to get visibility hack to work..\n",
    "                        #geojson = str(repo.working_tree_dir) + \"/assets/sol_geo.json\",\n",
    "                            geojson=sol_geo.get_geojson(agg_filter = 'ward'),\n",
    "                           locations=sol_geo.get_df(agg_filter = 'ward').index,\n",
    "                               color = 'total_pop',\n",
    "                           color_continuous_scale=\"deep\",\n",
    "                               mapbox_style = 'carto-positron',\n",
    "                               opacity = 0.8,\n",
    "                        zoom = 5,\n",
    "                        center={\"lat\": -9.565766, \"lon\": 162.012453})\n",
    "print(fig[\"data\"][0][\"z\"])"
   ]
  },
  {
   "cell_type": "markdown",
   "metadata": {},
   "source": [
    "## Run the dash app"
   ]
  },
  {
   "cell_type": "code",
   "execution_count": null,
   "metadata": {},
   "outputs": [
    {
     "data": {
      "text/html": [
       "\n",
       "        <iframe\n",
       "            width=\"100%\"\n",
       "            height=\"650\"\n",
       "            src=\"http://127.0.0.1:6045/\"\n",
       "            frameborder=\"0\"\n",
       "            allowfullscreen\n",
       "            \n",
       "        ></iframe>\n",
       "        "
      ],
      "text/plain": [
       "<IPython.lib.display.IFrame>"
      ]
     },
     "metadata": {},
     "output_type": "display_data"
    }
   ],
   "source": [
    "#| export\n",
    "#| server\n",
    "# Run app\n",
    "if __name__=='__main__':\n",
    "    app.run_server(debug=True, port = random.randint(1000, 9999)) # Random int mitigates port collision"
   ]
  },
  {
   "cell_type": "code",
   "execution_count": null,
   "metadata": {},
   "outputs": [],
   "source": [
    "#| hide\n",
    "import nbdev; nbdev.nbdev_export()"
   ]
  },
  {
   "cell_type": "code",
   "execution_count": null,
   "metadata": {},
   "outputs": [],
   "source": []
  },
  {
   "cell_type": "code",
   "execution_count": null,
   "metadata": {},
   "outputs": [],
   "source": []
  }
 ],
 "metadata": {
  "kernelspec": {
   "display_name": "python3",
   "language": "python",
   "name": "python3"
  }
 },
 "nbformat": 4,
 "nbformat_minor": 4
}
