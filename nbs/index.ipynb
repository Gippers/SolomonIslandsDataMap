{
 "cells": [
  {
   "cell_type": "code",
   "execution_count": null,
   "metadata": {},
   "outputs": [],
   "source": [
    "#| hide\n",
    "from SolomonIslandsDataMap.load_data import *"
   ]
  },
  {
   "cell_type": "markdown",
   "metadata": {},
   "source": [
    "# Solomon Islands Data Map\n",
    "\n",
    " Having recently moved to the beautiful solomon islands, I was interested in better understanding the solomon islands through an interactive data based dashboard. So I created this map and dashboard using publically available census data."
   ]
  },
  {
   "cell_type": "markdown",
   "metadata": {},
   "source": [
    "## [Click here to view the map](https://solomonislandsdatamap.onrender.com/)\n",
    "[![Guadacanal](img/gilly-tanabose-o7oV-rGy53Y-unsplash.jpg)](https://solomonislandsdatamap.onrender.com/)\n",
    "[Image Credit](https://unsplash.com/@glt23)"
   ]
  },
  {
   "cell_type": "code",
   "execution_count": null,
   "metadata": {},
   "outputs": [],
   "source": [
    "#| hide\n",
    "# TODO add table of contents here or link to docs or example of how to use?"
   ]
  }
 ],
 "metadata": {
  "kernelspec": {
   "display_name": "python3",
   "language": "python",
   "name": "python3"
  }
 },
 "nbformat": 4,
 "nbformat_minor": 4
}
