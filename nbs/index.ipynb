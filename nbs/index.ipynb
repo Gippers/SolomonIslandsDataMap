{
 "cells": [
  {
   "cell_type": "code",
   "execution_count": null,
   "metadata": {},
   "outputs": [],
   "source": [
    "#| hide\n",
    "from SolomonIslandsDataMap.core import *"
   ]
  },
  {
   "cell_type": "markdown",
   "metadata": {},
   "source": [
    "# SolomonIslandsDataMap\n",
    "\n",
    "> An interactive Map that displays key stats for the Solomon Islands"
   ]
  },
  {
   "cell_type": "markdown",
   "metadata": {},
   "source": [
    "This file will become your README and also the index of your documentation."
   ]
  },
  {
   "cell_type": "markdown",
   "metadata": {},
   "source": [
    "## Install"
   ]
  },
  {
   "cell_type": "markdown",
   "metadata": {},
   "source": [
    "```sh\n",
    "pip install SolomonIslandsDataMap\n",
    "```"
   ]
  },
  {
   "cell_type": "markdown",
   "metadata": {},
   "source": [
    "## How to use"
   ]
  },
  {
   "cell_type": "markdown",
   "metadata": {},
   "source": [
    "Fill me in please! Don't forget code examples:"
   ]
  },
  {
   "cell_type": "code",
   "execution_count": null,
   "metadata": {},
   "outputs": [
    {
     "data": {
      "text/html": [
       "<div id=\"observablehq-b9a930e6\"></div>\n",
       "<script type=\"module\">\n",
       "import {Runtime, Inspector} from \"https://cdn.jsdelivr.net/npm/@observablehq/runtime@4/dist/runtime.js\";\n",
       "import define from \"https://api.observablehq.com/d/eceaa744227c4fea.js?v=3\";\n",
       "const inspect = Inspector.into(\"#observablehq-b9a930e6\");\n",
       "(new Runtime).module(define, name => (\n",
       "  name === \"vegaPetalsWidget\" ||\n",
       "  name === 'viewof sepalLengthLimits' ||\n",
       "  name === 'viewof sepalWidthLimits') && inspect());\n",
       "</script>\n"
      ],
      "text/plain": [
       "<IPython.core.display.HTML object>"
      ]
     },
     "metadata": {},
     "output_type": "display_data"
    }
   ],
   "source": [
    "from IPython.display import display, HTML\n",
    "embed = \"\"\"<div id=\"observablehq-b9a930e6\"></div>\n",
    "<script type=\"module\">\n",
    "import {Runtime, Inspector} from \"https://cdn.jsdelivr.net/npm/@observablehq/runtime@4/dist/runtime.js\";\n",
    "import define from \"https://api.observablehq.com/d/eceaa744227c4fea.js?v=3\";\n",
    "const inspect = Inspector.into(\"#observablehq-b9a930e6\");\n",
    "(new Runtime).module(define, name => (\n",
    "  name === \"vegaPetalsWidget\" ||\n",
    "  name === 'viewof sepalLengthLimits' ||\n",
    "  name === 'viewof sepalWidthLimits') && inspect());\n",
    "</script>\n",
    "\"\"\"\n",
    "display(HTML(embed))"
   ]
  },
  {
   "cell_type": "code",
   "execution_count": null,
   "metadata": {},
   "outputs": [
    {
     "data": {
      "application/vnd.jupyter.widget-view+json": {
       "model_id": "b83e83f05666432880c5e6dea6254c12",
       "version_major": 2,
       "version_minor": 0
      },
      "text/plain": [
       "ObsplotWidget(spec={'data': [{'pyobsplot-type': 'DataFrame', 'value': b'ARROW1\\x00\\x00\\xff\\xff\\xff\\xff\\xb0\\x01…"
      ]
     },
     "execution_count": null,
     "metadata": {},
     "output_type": "execute_result"
    }
   ],
   "source": [
    "import polars as pl\n",
    "from pyobsplot import Plot\n",
    "\n",
    "penguins = pl.read_csv(\"https://github.com/juba/pyobsplot/raw/main/doc/data/penguins.csv\")\n",
    "\n",
    "Plot.plot({\n",
    "    \"grid\": True,\n",
    "    \"color\": {\"legend\": True},\n",
    "    \"marks\": [\n",
    "        Plot.dot(\n",
    "            penguins, \n",
    "            {\"x\": \"flipper_length_mm\", \"y\": \"body_mass_g\", \"fill\": \"species\"}\n",
    "        ),\n",
    "        Plot.density(\n",
    "            penguins, \n",
    "            {\"x\": \"flipper_length_mm\", \"y\": \"body_mass_g\", \"stroke\": \"species\"}\n",
    "        )\n",
    "    ]\n",
    "})"
   ]
  },
  {
   "cell_type": "code",
   "execution_count": null,
   "metadata": {},
   "outputs": [
    {
     "ename": "NameError",
     "evalue": "name 'FileAttachment' is not defined",
     "output_type": "error",
     "traceback": [
      "\u001b[0;31m---------------------------------------------------------------------------\u001b[0m",
      "\u001b[0;31mNameError\u001b[0m                                 Traceback (most recent call last)",
      "Cell \u001b[0;32mIn[4], line 1\u001b[0m\n\u001b[0;32m----> 1\u001b[0m fullText \u001b[38;5;241m=\u001b[39m \u001b[43mFileAttachment\u001b[49m(\u001b[38;5;124m\"\u001b[39m\u001b[38;5;124miris_data.csv\u001b[39m\u001b[38;5;124m\"\u001b[39m)\u001b[38;5;241m.\u001b[39mtext()\n",
      "\u001b[0;31mNameError\u001b[0m: name 'FileAttachment' is not defined"
     ]
    }
   ],
   "source": [
    "```{ojs}\n",
    "viewof bill_length_min = Inputs.range(\n",
    "  [32, 50], \n",
    "  {value: 35, step: 1, label: \"Bill length (min):\"}\n",
    ")\n",
    "viewof islands = Inputs.checkbox(\n",
    "  [\"Torgersen\", \"Biscoe\", \"Dream\"], \n",
    "  { value: [\"Torgersen\", \"Biscoe\"], \n",
    "    label: \"Islands:\"\n",
    "  }\n",
    ")\n",
    "```"
   ]
  }
 ],
 "metadata": {
  "kernelspec": {
   "display_name": "python3",
   "language": "python",
   "name": "python3"
  }
 },
 "nbformat": 4,
 "nbformat_minor": 4
}
