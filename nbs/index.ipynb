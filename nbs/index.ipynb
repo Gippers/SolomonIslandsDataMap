{
 "cells": [
  {
   "cell_type": "code",
   "execution_count": null,
   "metadata": {},
   "outputs": [],
   "source": [
    "#| hide\n",
    "from SolomonIslandsDataMap.load_data import *\n",
    "from IPython.display import Image\n",
    "from git import Repo\n",
    "from IPython.display import Markdown as md\n"
   ]
  },
  {
   "cell_type": "code",
   "execution_count": null,
   "metadata": {},
   "outputs": [
    {
     "data": {
      "text/plain": [
       "'/home/tom/git/SolomonIslandsDataMap/img/gilly-tanabose-o7oV-rGy53Y-unsplash.jpg'"
      ]
     },
     "execution_count": null,
     "metadata": {},
     "output_type": "execute_result"
    }
   ],
   "source": [
    "#| hide\n",
    "# Set file path using git repo as base, so that image works properly in multiple\n",
    "# file locations\n",
    "repo = Repo('.', search_parent_directories=True)\n",
    "fp = str(repo.working_tree_dir) + \"/img/gilly-tanabose-o7oV-rGy53Y-unsplash.jpg\"\n",
    "fp"
   ]
  },
  {
   "cell_type": "markdown",
   "metadata": {},
   "source": [
    "# Solomon Islands Data Map\n",
    "\n",
    "> Having recently moved to the beautiful solomon islands, I was interested in better understanding\n",
    "> the solomon islands through an interactive data based dashboard. So I created this map and\n",
    "> dashboard using publically available census data."
   ]
  },
  {
   "cell_type": "markdown",
   "metadata": {},
   "source": [
    "## [Click here to view the map](https://unsplash.com/@glt23)\n"
   ]
  },
  {
   "cell_type": "code",
   "execution_count": null,
   "metadata": {},
   "outputs": [
    {
     "data": {
      "text/markdown": [
       "[![title](/home/tom/git/SolomonIslandsDataMap/img/gilly-tanabose-o7oV-rGy53Y-unsplash.jpg)](https://solomonislandsdatamap.onrender.com/)"
      ],
      "text/plain": [
       "<IPython.core.display.Markdown object>"
      ]
     },
     "execution_count": null,
     "metadata": {},
     "output_type": "execute_result"
    }
   ],
   "source": [
    "md(\"[![title](%s)](https://solomonislandsdatamap.onrender.com/)\"%(fp))\n"
   ]
  },
  {
   "cell_type": "markdown",
   "metadata": {},
   "source": [
    "[Image Credit](https://unsplash.com/@glt23)"
   ]
  },
  {
   "cell_type": "code",
   "execution_count": null,
   "metadata": {},
   "outputs": [],
   "source": [
    "#| hide\n",
    "# TODO add table of contents here or link to docs or example of how to use?"
   ]
  }
 ],
 "metadata": {
  "kernelspec": {
   "display_name": "python3",
   "language": "python",
   "name": "python3"
  }
 },
 "nbformat": 4,
 "nbformat_minor": 4
}
